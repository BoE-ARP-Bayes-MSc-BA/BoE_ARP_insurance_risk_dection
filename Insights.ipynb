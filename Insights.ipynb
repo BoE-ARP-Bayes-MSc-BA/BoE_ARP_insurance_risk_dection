{
 "cells": [
  {
   "cell_type": "code",
   "execution_count": 134,
   "metadata": {},
   "outputs": [],
   "source": [
    "# Sentence Coloring of N Sentences\n",
    "from matplotlib.patches import Rectangle\n",
    "import pandas as pd\n",
    "import numpy as np\n",
    "import matplotlib.pyplot as plt\n",
    "pd.set_option('display.max_columns', None)"
   ]
  },
  {
   "cell_type": "markdown",
   "metadata": {},
   "source": [
    "# MD\n",
    "k =5,8,9,14,15,17,20,22,23,25,27"
   ]
  },
  {
   "cell_type": "code",
   "execution_count": 169,
   "metadata": {},
   "outputs": [],
   "source": [
    "# call out the model_df CSV\n",
    "MD28_topic_modelling_df = pd.read_csv('./main_df_output/MD28_topic_modelling_df.csv')\n",
    "MD_model_df = pd.read_csv('./regression_df_input/MD_model_df.csv')\n",
    "MDQA_model_df = pd.read_csv('./regression_df_input/MDQA_model_df.csv')"
   ]
  },
  {
   "cell_type": "code",
   "execution_count": 170,
   "metadata": {},
   "outputs": [
    {
     "name": "stdout",
     "output_type": "stream",
     "text": [
      "777\n",
      "777\n",
      "2618\n"
     ]
    },
    {
     "data": {
      "text/html": [
       "<div>\n",
       "<style scoped>\n",
       "    .dataframe tbody tr th:only-of-type {\n",
       "        vertical-align: middle;\n",
       "    }\n",
       "\n",
       "    .dataframe tbody tr th {\n",
       "        vertical-align: top;\n",
       "    }\n",
       "\n",
       "    .dataframe thead th {\n",
       "        text-align: right;\n",
       "    }\n",
       "</style>\n",
       "<table border=\"1\" class=\"dataframe\">\n",
       "  <thead>\n",
       "    <tr style=\"text-align: right;\">\n",
       "      <th></th>\n",
       "      <th>participants</th>\n",
       "      <th>file_name</th>\n",
       "      <th>date</th>\n",
       "      <th>idx</th>\n",
       "      <th>company_paticipants_yes</th>\n",
       "      <th>other_paticipants_yes</th>\n",
       "      <th>company_name</th>\n",
       "      <th>paraghrph</th>\n",
       "      <th>paraghrph_clean</th>\n",
       "      <th>paraghrph_noun</th>\n",
       "      <th>token</th>\n",
       "      <th>word_count</th>\n",
       "      <th>char_count</th>\n",
       "      <th>sentence_count</th>\n",
       "      <th>avg_word_length</th>\n",
       "      <th>avg_sentence_length</th>\n",
       "      <th>token_len</th>\n",
       "      <th>topic_1</th>\n",
       "      <th>topic_2</th>\n",
       "      <th>topic_3</th>\n",
       "      <th>topic_4</th>\n",
       "      <th>topic_5</th>\n",
       "      <th>topic_6</th>\n",
       "      <th>topic_7</th>\n",
       "      <th>topic_8</th>\n",
       "      <th>topic_9</th>\n",
       "      <th>topic_10</th>\n",
       "      <th>topic_11</th>\n",
       "      <th>topic_12</th>\n",
       "      <th>topic_13</th>\n",
       "      <th>topic_14</th>\n",
       "      <th>topic_15</th>\n",
       "      <th>topic_16</th>\n",
       "      <th>topic_17</th>\n",
       "      <th>topic_18</th>\n",
       "      <th>topic_19</th>\n",
       "      <th>topic_20</th>\n",
       "      <th>topic_21</th>\n",
       "      <th>topic_22</th>\n",
       "      <th>topic_23</th>\n",
       "      <th>topic_24</th>\n",
       "      <th>topic_25</th>\n",
       "      <th>topic_26</th>\n",
       "      <th>topic_27</th>\n",
       "      <th>topic_28</th>\n",
       "      <th>main_tp</th>\n",
       "    </tr>\n",
       "  </thead>\n",
       "  <tbody>\n",
       "    <tr>\n",
       "      <th>0</th>\n",
       "      <td>0682QB-E Ulrich Wallin</td>\n",
       "      <td>20180507_Hannover_Rueck_SE-_Earnings_Call_2018...</td>\n",
       "      <td>2018-05-07</td>\n",
       "      <td>5.0</td>\n",
       "      <td>1</td>\n",
       "      <td>0</td>\n",
       "      <td>Hannover Rueck</td>\n",
       "      <td>Thank you. Good morning, ladies and gentlemen....</td>\n",
       "      <td>Thank you Good morning ladies and gentlemen I'...</td>\n",
       "      <td>morning lady gentleman conference call result ...</td>\n",
       "      <td>['picipating', 'bank', 'holiday', 'place', 'in...</td>\n",
       "      <td>105</td>\n",
       "      <td>603</td>\n",
       "      <td>50</td>\n",
       "      <td>5.742857</td>\n",
       "      <td>2.1</td>\n",
       "      <td>44</td>\n",
       "      <td>0.002541</td>\n",
       "      <td>0.002598</td>\n",
       "      <td>0.04603</td>\n",
       "      <td>0.645395</td>\n",
       "      <td>0.002894</td>\n",
       "      <td>0.002189</td>\n",
       "      <td>0.000936</td>\n",
       "      <td>0.00236</td>\n",
       "      <td>0.001908</td>\n",
       "      <td>0.002932</td>\n",
       "      <td>0.002141</td>\n",
       "      <td>0.001532</td>\n",
       "      <td>0.001197</td>\n",
       "      <td>0.002671</td>\n",
       "      <td>0.044025</td>\n",
       "      <td>0.000753</td>\n",
       "      <td>0.000561</td>\n",
       "      <td>0.001416</td>\n",
       "      <td>0.001578</td>\n",
       "      <td>0.045534</td>\n",
       "      <td>0.002796</td>\n",
       "      <td>0.003995</td>\n",
       "      <td>0.025119</td>\n",
       "      <td>0.000802</td>\n",
       "      <td>0.001447</td>\n",
       "      <td>0.001264</td>\n",
       "      <td>0.001243</td>\n",
       "      <td>0.152144</td>\n",
       "      <td>topic_4</td>\n",
       "    </tr>\n",
       "  </tbody>\n",
       "</table>\n",
       "</div>"
      ],
      "text/plain": [
       "             participants                                          file_name  \\\n",
       "0  0682QB-E Ulrich Wallin  20180507_Hannover_Rueck_SE-_Earnings_Call_2018...   \n",
       "\n",
       "         date  idx  company_paticipants_yes  other_paticipants_yes  \\\n",
       "0  2018-05-07  5.0                        1                      0   \n",
       "\n",
       "     company_name                                          paraghrph  \\\n",
       "0  Hannover Rueck  Thank you. Good morning, ladies and gentlemen....   \n",
       "\n",
       "                                     paraghrph_clean  \\\n",
       "0  Thank you Good morning ladies and gentlemen I'...   \n",
       "\n",
       "                                      paraghrph_noun  \\\n",
       "0  morning lady gentleman conference call result ...   \n",
       "\n",
       "                                               token  word_count  char_count  \\\n",
       "0  ['picipating', 'bank', 'holiday', 'place', 'in...         105         603   \n",
       "\n",
       "   sentence_count  avg_word_length  avg_sentence_length  token_len   topic_1  \\\n",
       "0              50         5.742857                  2.1         44  0.002541   \n",
       "\n",
       "    topic_2  topic_3   topic_4   topic_5   topic_6   topic_7  topic_8  \\\n",
       "0  0.002598  0.04603  0.645395  0.002894  0.002189  0.000936  0.00236   \n",
       "\n",
       "    topic_9  topic_10  topic_11  topic_12  topic_13  topic_14  topic_15  \\\n",
       "0  0.001908  0.002932  0.002141  0.001532  0.001197  0.002671  0.044025   \n",
       "\n",
       "   topic_16  topic_17  topic_18  topic_19  topic_20  topic_21  topic_22  \\\n",
       "0  0.000753  0.000561  0.001416  0.001578  0.045534  0.002796  0.003995   \n",
       "\n",
       "   topic_23  topic_24  topic_25  topic_26  topic_27  topic_28  main_tp  \n",
       "0  0.025119  0.000802  0.001447  0.001264  0.001243  0.152144  topic_4  "
      ]
     },
     "execution_count": 170,
     "metadata": {},
     "output_type": "execute_result"
    }
   ],
   "source": [
    "MDQA_model_df['D+1'] = MDQA_model_df['D+1'].astype(float)\n",
    "# MDQA_model_df['D+1'] <0\n",
    "MDQA_model_df = MDQA_model_df[MDQA_model_df['D+1'] <0]\n",
    "print(len(MDQA_model_df))\n",
    "file_name = MDQA_model_df['file_name'].unique().tolist()\n",
    "\n",
    "# select the most highest probability by row\n",
    "df_single_tp = MD28_topic_modelling_df.iloc[:,17:]\n",
    "# select the most highest value by row\n",
    "MD28_topic_modelling_df['main_tp'] = df_single_tp.idxmax(axis=1)\n",
    "\n",
    "# MD28_topic_modelling_df select the file by the file_name\n",
    "MD28_topic_modelling_df = MD28_topic_modelling_df[MD28_topic_modelling_df['file_name'].isin(file_name)]\n",
    "# reset the index\n",
    "MD28_topic_modelling_df = MD28_topic_modelling_df.reset_index(drop=True)\n",
    "print(MD28_topic_modelling_df['file_name'].nunique())\n",
    "print(len(MD28_topic_modelling_df))\n",
    "MD28_topic_modelling_df.head(1)"
   ]
  },
  {
   "cell_type": "code",
   "execution_count": 178,
   "metadata": {},
   "outputs": [
    {
     "name": "stderr",
     "output_type": "stream",
     "text": [
      "/opt/anaconda3/lib/python3.9/site-packages/pandas/util/_decorators.py:311: SettingWithCopyWarning:\n",
      "\n",
      "\n",
      "A value is trying to be set on a copy of a slice from a DataFrame\n",
      "\n",
      "See the caveats in the documentation: https://pandas.pydata.org/pandas-docs/stable/user_guide/indexing.html#returning-a-view-versus-a-copy\n",
      "\n"
     ]
    }
   ],
   "source": [
    "k_significant_list =[ 5,8,9,14,15,17,20,22,23,25,27 ]\n",
    "\n",
    "for k in k_significant_list:\n",
    "    tp_top10 = MD28_topic_modelling_df[MD28_topic_modelling_df['main_tp']==f'topic_{k+1}']\n",
    "    tp_top10.sort_values(by=[f'topic_{k+1}'], inplace=True, ascending=False)\n",
    "    tp_list = tp_top10.head(10).T.columns.to_list()\n",
    "    tp_list\n",
    "\n",
    "    df_tp_top10 = pd.DataFrame()\n",
    "    for i in tp_list:\n",
    "        df_tp_top10[f'{i}'] = MD28_topic_modelling_df.iloc[i,:]\n",
    "    df_tp_top10 = df_tp_top10.T\n",
    "    # # to csv\n",
    "    df_tp_top10.to_csv(f'./main_df_output/Insights/Insights_MD_tp{k+1}.csv')\n",
    "# df_tp_top10.head(3)"
   ]
  },
  {
   "cell_type": "code",
   "execution_count": 172,
   "metadata": {},
   "outputs": [],
   "source": [
    "# df_MD = pd.read_csv('./regression_df_input/MD_model_df.csv')\n",
    "# df_MD['date'] = df_MD['date'].astype(str)\n",
    "\n",
    "# df_MD['date'] = pd.to_datetime(df_MD['date'])\n",
    "# df_MD['quater'] = df_MD['date'].apply(lambda x: x.quarter)\n",
    "# df_MD['year'] = df_MD['date'].apply(lambda x: x.year)\n",
    "# df_MD['year_quater'] = df_MD['year'].astype(str) + \"Q\" + df_MD['quater'].astype(str)\n",
    "# df_MD['date'] = df_MD['date'].astype(str)\n",
    "\n",
    "# # ------> group by year_quater and Group\n",
    "# df_MD_groupby = df_MD.groupby(['year_quater','Group']).mean()\n",
    "# df_MD_groupby = df_MD_groupby.reset_index()\n",
    "# df_MD_groupby_tp1 = df_MD_groupby[['year_quater', 'Group', 'topic_1', 'D+1']]\n",
    "\n",
    "# import plotly.express as px\n",
    "# import plotly.graph_objects as go\n",
    "# Group = df_MD_groupby_tp1['Group'].unique().tolist()\n",
    "# # df_MD_same_group_tp2[\"year_quater\"] to str\n",
    "# df_MD_groupby_tp1[\"year_quater\"] = df_MD_groupby_tp1[\"year_quater\"].astype(str)\n",
    "\n",
    "\n",
    "# fig_size = (30, 10)\n",
    "# fig = go.Figure()\n",
    "# for i in Group:\n",
    "#     df_tmp = df_MD_groupby_tp1[df_MD_groupby_tp1['Group']==i]\n",
    "#     # sort by year_quater\n",
    "#     df_tmp = df_tmp.sort_values(by='year_quater')\n",
    "#     df_tmp.reset_index(drop=True, inplace=True)\n",
    "#     # plot the line\n",
    "#     fig.add_trace(go.Line(\n",
    "#         x=df_tmp['year_quater'],\n",
    "#         y=df_tmp['topic_1'], \n",
    "#         name=i)\n",
    "#         )\n",
    "# fig.update_layout(title='MD topic_1 by Group', xaxis_title='year_quater', yaxis_title='topic_1')\n",
    "# # update the ticker by df_MD_same_group_tp2['year_quater'] with same wide\n",
    "# fig.update_xaxes(tickvals=df_MD_groupby['year_quater'], ticktext=df_MD_groupby['year_quater'])\n",
    "\n",
    "# # df_MD_same_group_tp11['year_quater'] = pd.to_datetime(df_MD_same_group_tp11['year_quater'])\n",
    "# # Add range slider\n",
    "# fig.update_layout(\n",
    "#     xaxis_rangeslider_visible=True,\n",
    "# )\n",
    "\n",
    "# fig.show()\n",
    "\n",
    "# # 2016 European floods\n",
    "# # 2011 Tōhoku earthquake and tsunami"
   ]
  },
  {
   "cell_type": "code",
   "execution_count": 158,
   "metadata": {},
   "outputs": [],
   "source": [
    "# year_quater = df_MD_groupby['year_quater'].unique().tolist()\n",
    "# Group = df_MD_groupby['Group'].unique().tolist()\n",
    "# df_MD_group_tp1 = pd.DataFrame()\n",
    "# df_MD_group_tp1[\"year_quater\"] = year_quater\n",
    "# df_MD_group_tp1\n",
    "\n",
    "# # # extract the sentiment_topic_11 by Group \n",
    "# # for i in Group:\n",
    "# #     tmp_df = df_MD_group_tp1[df_MD_group_tp1['Group']==i]\n",
    "# #     tmp_df = tmp_df.reset_index()\n",
    "# #     tmp_df = tmp_df[['year_quater','sentiment_topic_11']]\n",
    "# #     # remane the column name\n",
    "# #     tmp_df.columns = ['year_quater',i]\n",
    "# #     # merge with df_MD_same_group_tp2 by year_quater\n",
    "# #     df_MD_group_tp1 = pd.merge(df_MD_group_tp1, tmp_df, on='year_quater', how='left')\n",
    "\n",
    "# # # fill the nan by the mean value of the group\n",
    "# # df_MD_group_tp1 = df_MD_group_tp1.fillna(df_MD_group_tp1.mean())\n",
    "# # df_MD_group_tp1.head()"
   ]
  },
  {
   "cell_type": "markdown",
   "metadata": {},
   "source": [
    "# QA\n",
    "k = 0,2,3,5,6,10,11,12,13,16,22, 23, 24"
   ]
  },
  {
   "cell_type": "code",
   "execution_count": 179,
   "metadata": {},
   "outputs": [],
   "source": [
    "# call out the model_df CSV\n",
    "QA27_topic_modelling_df = pd.read_csv('./main_df_output/QA27_topic_modelling_df.csv')\n",
    "QA_model_df = pd.read_csv('./regression_df_input/QA_model_df.csv')\n",
    "MDQA_model_df = pd.read_csv('./regression_df_input/MDQA_model_df.csv')"
   ]
  },
  {
   "cell_type": "code",
   "execution_count": 180,
   "metadata": {},
   "outputs": [
    {
     "name": "stdout",
     "output_type": "stream",
     "text": [
      "777\n",
      "777\n",
      "13282\n"
     ]
    },
    {
     "data": {
      "text/html": [
       "<div>\n",
       "<style scoped>\n",
       "    .dataframe tbody tr th:only-of-type {\n",
       "        vertical-align: middle;\n",
       "    }\n",
       "\n",
       "    .dataframe tbody tr th {\n",
       "        vertical-align: top;\n",
       "    }\n",
       "\n",
       "    .dataframe thead th {\n",
       "        text-align: right;\n",
       "    }\n",
       "</style>\n",
       "<table border=\"1\" class=\"dataframe\">\n",
       "  <thead>\n",
       "    <tr style=\"text-align: right;\">\n",
       "      <th></th>\n",
       "      <th>participants</th>\n",
       "      <th>file_name</th>\n",
       "      <th>date</th>\n",
       "      <th>idx</th>\n",
       "      <th>company_paticipants_yes</th>\n",
       "      <th>other_paticipants_yes</th>\n",
       "      <th>company_name</th>\n",
       "      <th>paraghrph</th>\n",
       "      <th>paraghrph_clean</th>\n",
       "      <th>paraghrph_noun</th>\n",
       "      <th>token</th>\n",
       "      <th>word_count</th>\n",
       "      <th>char_count</th>\n",
       "      <th>sentence_count</th>\n",
       "      <th>avg_word_length</th>\n",
       "      <th>avg_sentence_length</th>\n",
       "      <th>token_len</th>\n",
       "      <th>topic_1</th>\n",
       "      <th>topic_2</th>\n",
       "      <th>topic_3</th>\n",
       "      <th>topic_4</th>\n",
       "      <th>topic_5</th>\n",
       "      <th>topic_6</th>\n",
       "      <th>topic_7</th>\n",
       "      <th>topic_8</th>\n",
       "      <th>topic_9</th>\n",
       "      <th>topic_10</th>\n",
       "      <th>topic_11</th>\n",
       "      <th>topic_12</th>\n",
       "      <th>topic_13</th>\n",
       "      <th>topic_14</th>\n",
       "      <th>topic_15</th>\n",
       "      <th>topic_16</th>\n",
       "      <th>topic_17</th>\n",
       "      <th>topic_18</th>\n",
       "      <th>topic_19</th>\n",
       "      <th>topic_20</th>\n",
       "      <th>topic_21</th>\n",
       "      <th>topic_22</th>\n",
       "      <th>topic_23</th>\n",
       "      <th>topic_24</th>\n",
       "      <th>topic_25</th>\n",
       "      <th>topic_26</th>\n",
       "      <th>topic_27</th>\n",
       "      <th>main_tp</th>\n",
       "    </tr>\n",
       "  </thead>\n",
       "  <tbody>\n",
       "    <tr>\n",
       "      <th>0</th>\n",
       "      <td>Aaron Henry Meder</td>\n",
       "      <td>20180620_LEGAL_-_GEN_GRP-_Shareholder_Mtg_Call...</td>\n",
       "      <td>2018-06-20</td>\n",
       "      <td>236.0</td>\n",
       "      <td>1</td>\n",
       "      <td>0</td>\n",
       "      <td>LEGAL -</td>\n",
       "      <td>16683830  Yeah. It probably depends a little ...</td>\n",
       "      <td>Yeah It probably depends a little bit on ki...</td>\n",
       "      <td>bit duration type mandate lot customization ma...</td>\n",
       "      <td>['duration', 'mandate', 'customization', 'land...</td>\n",
       "      <td>34</td>\n",
       "      <td>226</td>\n",
       "      <td>15</td>\n",
       "      <td>6.647059</td>\n",
       "      <td>2.266667</td>\n",
       "      <td>15</td>\n",
       "      <td>0.116736</td>\n",
       "      <td>0.005332</td>\n",
       "      <td>0.010945</td>\n",
       "      <td>0.006714</td>\n",
       "      <td>0.00247</td>\n",
       "      <td>0.003737</td>\n",
       "      <td>0.005591</td>\n",
       "      <td>0.005633</td>\n",
       "      <td>0.062322</td>\n",
       "      <td>0.007931</td>\n",
       "      <td>0.006093</td>\n",
       "      <td>0.007504</td>\n",
       "      <td>0.006689</td>\n",
       "      <td>0.004035</td>\n",
       "      <td>0.008161</td>\n",
       "      <td>0.004046</td>\n",
       "      <td>0.005496</td>\n",
       "      <td>0.404702</td>\n",
       "      <td>0.006607</td>\n",
       "      <td>0.059415</td>\n",
       "      <td>0.006252</td>\n",
       "      <td>0.004628</td>\n",
       "      <td>0.000692</td>\n",
       "      <td>0.005231</td>\n",
       "      <td>0.00428</td>\n",
       "      <td>0.00542</td>\n",
       "      <td>0.233342</td>\n",
       "      <td>topic_18</td>\n",
       "    </tr>\n",
       "  </tbody>\n",
       "</table>\n",
       "</div>"
      ],
      "text/plain": [
       "        participants                                          file_name  \\\n",
       "0  Aaron Henry Meder  20180620_LEGAL_-_GEN_GRP-_Shareholder_Mtg_Call...   \n",
       "\n",
       "         date    idx  company_paticipants_yes  other_paticipants_yes  \\\n",
       "0  2018-06-20  236.0                        1                      0   \n",
       "\n",
       "  company_name                                          paraghrph  \\\n",
       "0      LEGAL -   16683830  Yeah. It probably depends a little ...   \n",
       "\n",
       "                                     paraghrph_clean  \\\n",
       "0     Yeah It probably depends a little bit on ki...   \n",
       "\n",
       "                                      paraghrph_noun  \\\n",
       "0  bit duration type mandate lot customization ma...   \n",
       "\n",
       "                                               token  word_count  char_count  \\\n",
       "0  ['duration', 'mandate', 'customization', 'land...          34         226   \n",
       "\n",
       "   sentence_count  avg_word_length  avg_sentence_length  token_len   topic_1  \\\n",
       "0              15         6.647059             2.266667         15  0.116736   \n",
       "\n",
       "    topic_2   topic_3   topic_4  topic_5   topic_6   topic_7   topic_8  \\\n",
       "0  0.005332  0.010945  0.006714  0.00247  0.003737  0.005591  0.005633   \n",
       "\n",
       "    topic_9  topic_10  topic_11  topic_12  topic_13  topic_14  topic_15  \\\n",
       "0  0.062322  0.007931  0.006093  0.007504  0.006689  0.004035  0.008161   \n",
       "\n",
       "   topic_16  topic_17  topic_18  topic_19  topic_20  topic_21  topic_22  \\\n",
       "0  0.004046  0.005496  0.404702  0.006607  0.059415  0.006252  0.004628   \n",
       "\n",
       "   topic_23  topic_24  topic_25  topic_26  topic_27   main_tp  \n",
       "0  0.000692  0.005231   0.00428   0.00542  0.233342  topic_18  "
      ]
     },
     "execution_count": 180,
     "metadata": {},
     "output_type": "execute_result"
    }
   ],
   "source": [
    "MDQA_model_df['D+1'] = MDQA_model_df['D+1'].astype(float)\n",
    "# MDQA_model_df['D+1'] <0\n",
    "MDQA_model_df = MDQA_model_df[MDQA_model_df['D+1'] <0]\n",
    "print(len(MDQA_model_df))\n",
    "file_name = MDQA_model_df['file_name'].unique().tolist()\n",
    "\n",
    "# select the most highest probability by row\n",
    "df_single_tp = QA27_topic_modelling_df.iloc[:,17:]\n",
    "# select the most highest value by row\n",
    "QA27_topic_modelling_df['main_tp'] = df_single_tp.idxmax(axis=1)\n",
    "\n",
    "# MD28_topic_modelling_df select the file by the file_name\n",
    "QA27_topic_modelling_df = QA27_topic_modelling_df[QA27_topic_modelling_df['file_name'].isin(file_name)]\n",
    "# reset the index\n",
    "QA27_topic_modelling_df = QA27_topic_modelling_df.reset_index(drop=True)\n",
    "print(QA27_topic_modelling_df['file_name'].nunique())\n",
    "print(len(QA27_topic_modelling_df))\n",
    "QA27_topic_modelling_df.head(1)"
   ]
  },
  {
   "cell_type": "code",
   "execution_count": 181,
   "metadata": {},
   "outputs": [
    {
     "name": "stderr",
     "output_type": "stream",
     "text": [
      "/opt/anaconda3/lib/python3.9/site-packages/pandas/util/_decorators.py:311: SettingWithCopyWarning:\n",
      "\n",
      "\n",
      "A value is trying to be set on a copy of a slice from a DataFrame\n",
      "\n",
      "See the caveats in the documentation: https://pandas.pydata.org/pandas-docs/stable/user_guide/indexing.html#returning-a-view-versus-a-copy\n",
      "\n"
     ]
    }
   ],
   "source": [
    "k_significant_list =[0,2,3,5,6,10,11,12,13,16,22,23,24]\n",
    "\n",
    "for k in k_significant_list:\n",
    "    tp_top10 = QA27_topic_modelling_df[QA27_topic_modelling_df['main_tp']==f'topic_{k+1}']\n",
    "    tp_top10.sort_values(by=[f'topic_{k+1}'], inplace=True, ascending=False)\n",
    "    tp_list = tp_top10.head(10).T.columns.to_list()\n",
    "    tp_list\n",
    "\n",
    "    df_tp_top10 = pd.DataFrame()\n",
    "    for i in tp_list:\n",
    "        df_tp_top10[f'{i}'] = QA27_topic_modelling_df.iloc[i,:]\n",
    "    df_tp_top10 = df_tp_top10.T\n",
    "    # # to csv\n",
    "    df_tp_top10.to_csv(f'./main_df_output/Insights/Insights_QA_tp{k+1}.csv')\n",
    "# df_tp_top10.head(3)"
   ]
  },
  {
   "cell_type": "code",
   "execution_count": 182,
   "metadata": {},
   "outputs": [],
   "source": [
    "# df_MD = pd.read_csv('./regression_df_input/QA_model_df.csv')\n",
    "# df_MD['date'] = df_MD['date'].astype(str)\n",
    "\n",
    "# df_MD['date'] = pd.to_datetime(df_MD['date'])\n",
    "# df_MD['quater'] = df_MD['date'].apply(lambda x: x.quarter)\n",
    "# df_MD['year'] = df_MD['date'].apply(lambda x: x.year)\n",
    "# df_MD['year_quater'] = df_MD['year'].astype(str) + \"Q\" + df_MD['quater'].astype(str)\n",
    "# df_MD['date'] = df_MD['date'].astype(str)\n",
    "\n",
    "# # ------> group by year_quater and Group\n",
    "# df_MD_groupby = df_MD.groupby(['year_quater','Group']).mean()\n",
    "# df_MD_groupby = df_MD_groupby.reset_index()\n",
    "# df_MD_groupby_tp1 = df_MD_groupby[['year_quater', 'Group', 'topic_7', 'D+1']]\n",
    "\n",
    "# import plotly.express as px\n",
    "# import plotly.graph_objects as go\n",
    "# Group = df_MD_groupby_tp1['Group'].unique().tolist()\n",
    "# # df_MD_same_group_tp2[\"year_quater\"] to str\n",
    "# df_MD_groupby_tp1[\"year_quater\"] = df_MD_groupby_tp1[\"year_quater\"].astype(str)\n",
    "\n",
    "\n",
    "# fig_size = (30, 10)\n",
    "# fig = go.Figure()\n",
    "# for i in Group:\n",
    "#     df_tmp = df_MD_groupby_tp1[df_MD_groupby_tp1['Group']==i]\n",
    "#     # sort by year_quater\n",
    "#     df_tmp = df_tmp.sort_values(by='year_quater')\n",
    "#     df_tmp.reset_index(drop=True, inplace=True)\n",
    "#     # plot the line\n",
    "#     fig.add_trace(go.Line(\n",
    "#         x=df_tmp['year_quater'],\n",
    "#         y=df_tmp['topic_7'], \n",
    "#         name=i)\n",
    "#         )\n",
    "# fig.update_layout(title='MD topic_7 by Group', xaxis_title='year_quater', yaxis_title='topic_7')\n",
    "# # update the ticker by df_MD_same_group_tp2['year_quater'] with same wide\n",
    "# fig.update_xaxes(tickvals=df_MD_groupby['year_quater'], ticktext=df_MD_groupby['year_quater'])\n",
    "\n",
    "# # df_MD_same_group_tp11['year_quater'] = pd.to_datetime(df_MD_same_group_tp11['year_quater'])\n",
    "# # Add range slider\n",
    "# fig.update_layout(\n",
    "#     xaxis_rangeslider_visible=True,\n",
    "# )\n",
    "\n",
    "# fig.show()\n",
    "\n",
    "# # 2016 European floods\n",
    "# # 2011 Tōhoku earthquake and tsunami"
   ]
  },
  {
   "cell_type": "code",
   "execution_count": 183,
   "metadata": {},
   "outputs": [],
   "source": [
    "# # topic_25, k= 24\n",
    "# tp_top10 = QA27_topic_modelling_df[QA27_topic_modelling_df['main_tp']=='topic_25']\n",
    "# tp_top10.sort_values(by=['topic_25'], inplace=True, ascending=False)\n",
    "# tp_list = tp_top10.head(10).T.columns.to_list()\n",
    "# df_tp_top10 = pd.DataFrame()\n",
    "# for i in tp_list:\n",
    "#     df_tp_top10[f'{i}'] = QA27_topic_modelling_df.iloc[i,:]\n",
    "# df_tp_top10 = df_tp_top10.T\n",
    "# # to csv\n",
    "# df_tp_top10.to_csv('./main_df_output/Insights_QA_tp25.csv')\n",
    "# df_tp_top10.head(3)"
   ]
  },
  {
   "cell_type": "code",
   "execution_count": null,
   "metadata": {},
   "outputs": [],
   "source": []
  },
  {
   "cell_type": "code",
   "execution_count": null,
   "metadata": {},
   "outputs": [],
   "source": []
  },
  {
   "cell_type": "code",
   "execution_count": null,
   "metadata": {},
   "outputs": [],
   "source": []
  },
  {
   "cell_type": "code",
   "execution_count": null,
   "metadata": {},
   "outputs": [],
   "source": []
  },
  {
   "cell_type": "code",
   "execution_count": null,
   "metadata": {},
   "outputs": [],
   "source": []
  },
  {
   "cell_type": "code",
   "execution_count": null,
   "metadata": {},
   "outputs": [],
   "source": []
  },
  {
   "cell_type": "code",
   "execution_count": null,
   "metadata": {},
   "outputs": [],
   "source": []
  },
  {
   "cell_type": "code",
   "execution_count": null,
   "metadata": {},
   "outputs": [],
   "source": []
  },
  {
   "cell_type": "code",
   "execution_count": null,
   "metadata": {},
   "outputs": [],
   "source": []
  },
  {
   "cell_type": "code",
   "execution_count": null,
   "metadata": {},
   "outputs": [],
   "source": []
  },
  {
   "cell_type": "code",
   "execution_count": null,
   "metadata": {},
   "outputs": [],
   "source": []
  },
  {
   "cell_type": "code",
   "execution_count": null,
   "metadata": {},
   "outputs": [],
   "source": []
  },
  {
   "cell_type": "code",
   "execution_count": null,
   "metadata": {},
   "outputs": [],
   "source": []
  },
  {
   "cell_type": "code",
   "execution_count": null,
   "metadata": {},
   "outputs": [],
   "source": []
  },
  {
   "cell_type": "code",
   "execution_count": null,
   "metadata": {},
   "outputs": [],
   "source": []
  },
  {
   "cell_type": "code",
   "execution_count": null,
   "metadata": {},
   "outputs": [],
   "source": []
  },
  {
   "cell_type": "code",
   "execution_count": null,
   "metadata": {},
   "outputs": [],
   "source": []
  },
  {
   "cell_type": "code",
   "execution_count": 3,
   "metadata": {},
   "outputs": [],
   "source": [
    "df_MD = pd.read_csv('./regression_df_input/QA_model_df.csv')\n",
    "df_MD['date'] = df_MD['date'].astype(str)\n",
    "# ------> multiple the probability with WA_sentiment\n",
    "for i in range (1,13):\n",
    "    df_MD['sentiment_'+'topic_'+str(i)] = df_MD['topic_'+str(i)]*df_MD['WA_sentiment']\n",
    "\n",
    "sentiment_topic_columns = []\n",
    "for i in range (1,13):\n",
    "    sentiment_topic_columns.append('sentiment_'+'topic_'+str(i))\n",
    "df_MD_standard = df_MD[sentiment_topic_columns]\n",
    "\n",
    "regression_D = 'D+1'\n",
    "\n",
    "# # scale the df_MD_standard to -1-1\n",
    "# df_MD_standard_scaled = (df_MD_standard - df_MD_standard.min()) / (df_MD_standard.max() - df_MD_standard.min())\n",
    "# df_MD_scale = df_MD_standard_scaled*2 - 1\n",
    "\n",
    "# # ------> Standardize the data\n",
    "# from sklearn.preprocessing import StandardScaler\n",
    "# scaler = StandardScaler()\n",
    "# scaler.fit(df_MD_standard)\n",
    "# df_MD_scale = scaler.transform(df_MD_standard)\n",
    "# # append the scaled data to the original dataframe\n",
    "# df_MD_scale = pd.DataFrame(df_MD_scale, columns=sentiment_topic_columns)\n",
    "# df_MD_scale.index = df_MD_standard.index\n",
    "\n",
    "df_MD_scale = df_MD_standard.copy()\n",
    "\n",
    "# other columns\n",
    "other_columns = ['company_name','Group','ticker','file_name','date','WA_sentiment', regression_D]\n",
    "df_MD = pd.concat([df_MD_scale, df_MD[other_columns]], axis=1)\n",
    "df_MD.head()\n",
    "\n",
    "def same_direction(df_MD, day_type):\n",
    "    df_MD_same = df_MD[((df_MD['WA_sentiment']<0) & (df_MD[day_type]<0)) | ((df_MD['WA_sentiment']>0) & (df_MD[day_type]>0))]\n",
    "    return df_MD_same\n",
    "\n",
    "df_MD_same = same_direction(df_MD, regression_D)"
   ]
  },
  {
   "cell_type": "code",
   "execution_count": 4,
   "metadata": {},
   "outputs": [
    {
     "data": {
      "text/html": [
       "<div>\n",
       "<style scoped>\n",
       "    .dataframe tbody tr th:only-of-type {\n",
       "        vertical-align: middle;\n",
       "    }\n",
       "\n",
       "    .dataframe tbody tr th {\n",
       "        vertical-align: top;\n",
       "    }\n",
       "\n",
       "    .dataframe thead th {\n",
       "        text-align: right;\n",
       "    }\n",
       "</style>\n",
       "<table border=\"1\" class=\"dataframe\">\n",
       "  <thead>\n",
       "    <tr style=\"text-align: right;\">\n",
       "      <th></th>\n",
       "      <th>sentiment_topic_1</th>\n",
       "      <th>sentiment_topic_2</th>\n",
       "      <th>sentiment_topic_3</th>\n",
       "      <th>sentiment_topic_4</th>\n",
       "      <th>sentiment_topic_5</th>\n",
       "      <th>sentiment_topic_6</th>\n",
       "      <th>sentiment_topic_7</th>\n",
       "      <th>sentiment_topic_8</th>\n",
       "      <th>sentiment_topic_9</th>\n",
       "      <th>sentiment_topic_10</th>\n",
       "      <th>sentiment_topic_11</th>\n",
       "      <th>sentiment_topic_12</th>\n",
       "      <th>company_name</th>\n",
       "      <th>Group</th>\n",
       "      <th>ticker</th>\n",
       "      <th>file_name</th>\n",
       "      <th>date</th>\n",
       "      <th>WA_sentiment</th>\n",
       "      <th>D+1</th>\n",
       "    </tr>\n",
       "  </thead>\n",
       "  <tbody>\n",
       "    <tr>\n",
       "      <th>0</th>\n",
       "      <td>0.000001</td>\n",
       "      <td>0.000225</td>\n",
       "      <td>1.275148e-05</td>\n",
       "      <td>2.574441e-07</td>\n",
       "      <td>1.957220e-07</td>\n",
       "      <td>0.000017</td>\n",
       "      <td>0.000089</td>\n",
       "      <td>0.000003</td>\n",
       "      <td>7.237270e-06</td>\n",
       "      <td>1.469628e-05</td>\n",
       "      <td>2.274781e-06</td>\n",
       "      <td>1.906193e-05</td>\n",
       "      <td>Admiral Group</td>\n",
       "      <td>Motor/Personal</td>\n",
       "      <td>ADM.L</td>\n",
       "      <td>20110302_Admiral_Group_PLC-_Earnings_Call_2011...</td>\n",
       "      <td>2011-03-02</td>\n",
       "      <td>0.000392</td>\n",
       "      <td>0.013897</td>\n",
       "    </tr>\n",
       "    <tr>\n",
       "      <th>1</th>\n",
       "      <td>0.000083</td>\n",
       "      <td>0.000387</td>\n",
       "      <td>4.277235e-05</td>\n",
       "      <td>2.311224e-05</td>\n",
       "      <td>1.842940e-05</td>\n",
       "      <td>0.000043</td>\n",
       "      <td>0.000058</td>\n",
       "      <td>0.000020</td>\n",
       "      <td>3.482830e-06</td>\n",
       "      <td>3.289854e-05</td>\n",
       "      <td>5.756683e-07</td>\n",
       "      <td>5.409814e-05</td>\n",
       "      <td>Admiral Group</td>\n",
       "      <td>Motor/Personal</td>\n",
       "      <td>ADM.L</td>\n",
       "      <td>20110824_Admiral_Group_PLC-_Earnings_Call_2011...</td>\n",
       "      <td>2011-08-24</td>\n",
       "      <td>0.000765</td>\n",
       "      <td>-0.054693</td>\n",
       "    </tr>\n",
       "    <tr>\n",
       "      <th>2</th>\n",
       "      <td>-0.000007</td>\n",
       "      <td>-0.000180</td>\n",
       "      <td>-5.325020e-05</td>\n",
       "      <td>-7.410902e-07</td>\n",
       "      <td>-5.634142e-07</td>\n",
       "      <td>-0.000012</td>\n",
       "      <td>-0.000060</td>\n",
       "      <td>-0.000018</td>\n",
       "      <td>-8.224983e-05</td>\n",
       "      <td>-6.925516e-07</td>\n",
       "      <td>-6.747121e-07</td>\n",
       "      <td>-1.777785e-05</td>\n",
       "      <td>Admiral Group</td>\n",
       "      <td>Motor/Personal</td>\n",
       "      <td>ADM.L</td>\n",
       "      <td>20111109_Admiral_Group_PLC-_Guidance_Call_2011...</td>\n",
       "      <td>2011-11-09</td>\n",
       "      <td>-0.000433</td>\n",
       "      <td>-0.076056</td>\n",
       "    </tr>\n",
       "    <tr>\n",
       "      <th>3</th>\n",
       "      <td>0.000005</td>\n",
       "      <td>0.000232</td>\n",
       "      <td>2.284730e-07</td>\n",
       "      <td>3.264031e-07</td>\n",
       "      <td>3.275927e-06</td>\n",
       "      <td>0.000013</td>\n",
       "      <td>0.000040</td>\n",
       "      <td>0.000006</td>\n",
       "      <td>8.817127e-07</td>\n",
       "      <td>2.581361e-05</td>\n",
       "      <td>2.681194e-06</td>\n",
       "      <td>6.258433e-06</td>\n",
       "      <td>Admiral Group</td>\n",
       "      <td>Motor/Personal</td>\n",
       "      <td>ADM.L</td>\n",
       "      <td>20111109_Admiral_Group_PLC-_Guidance_Call_2011...</td>\n",
       "      <td>2011-11-09</td>\n",
       "      <td>0.000336</td>\n",
       "      <td>-0.076056</td>\n",
       "    </tr>\n",
       "    <tr>\n",
       "      <th>4</th>\n",
       "      <td>0.000016</td>\n",
       "      <td>0.001048</td>\n",
       "      <td>1.483401e-04</td>\n",
       "      <td>2.042776e-05</td>\n",
       "      <td>1.926510e-05</td>\n",
       "      <td>0.000069</td>\n",
       "      <td>0.000207</td>\n",
       "      <td>0.000002</td>\n",
       "      <td>4.953011e-05</td>\n",
       "      <td>8.710532e-05</td>\n",
       "      <td>1.486496e-06</td>\n",
       "      <td>9.680033e-07</td>\n",
       "      <td>Admiral Group</td>\n",
       "      <td>Motor/Personal</td>\n",
       "      <td>ADM.L</td>\n",
       "      <td>20120307_Admiral_Group_PLC-_Earnings_Call_2012...</td>\n",
       "      <td>2012-03-07</td>\n",
       "      <td>0.001669</td>\n",
       "      <td>0.015734</td>\n",
       "    </tr>\n",
       "    <tr>\n",
       "      <th>...</th>\n",
       "      <td>...</td>\n",
       "      <td>...</td>\n",
       "      <td>...</td>\n",
       "      <td>...</td>\n",
       "      <td>...</td>\n",
       "      <td>...</td>\n",
       "      <td>...</td>\n",
       "      <td>...</td>\n",
       "      <td>...</td>\n",
       "      <td>...</td>\n",
       "      <td>...</td>\n",
       "      <td>...</td>\n",
       "      <td>...</td>\n",
       "      <td>...</td>\n",
       "      <td>...</td>\n",
       "      <td>...</td>\n",
       "      <td>...</td>\n",
       "      <td>...</td>\n",
       "      <td>...</td>\n",
       "    </tr>\n",
       "    <tr>\n",
       "      <th>1807</th>\n",
       "      <td>0.000035</td>\n",
       "      <td>0.000056</td>\n",
       "      <td>4.700048e-04</td>\n",
       "      <td>6.037400e-06</td>\n",
       "      <td>6.961053e-04</td>\n",
       "      <td>0.000022</td>\n",
       "      <td>0.000385</td>\n",
       "      <td>0.000040</td>\n",
       "      <td>1.652609e-04</td>\n",
       "      <td>1.118455e-03</td>\n",
       "      <td>7.522828e-06</td>\n",
       "      <td>3.579401e-06</td>\n",
       "      <td>INTACT FINANCIAL-</td>\n",
       "      <td>Other insurers</td>\n",
       "      <td>IFC.TO</td>\n",
       "      <td>20201104_INTACT_FINANCIAL-_Earnings_Call_2020-...</td>\n",
       "      <td>2020-11-04</td>\n",
       "      <td>0.003004</td>\n",
       "      <td>-0.018274</td>\n",
       "    </tr>\n",
       "    <tr>\n",
       "      <th>1808</th>\n",
       "      <td>0.000346</td>\n",
       "      <td>0.000011</td>\n",
       "      <td>8.438424e-04</td>\n",
       "      <td>6.367106e-04</td>\n",
       "      <td>2.309079e-03</td>\n",
       "      <td>0.000016</td>\n",
       "      <td>0.000852</td>\n",
       "      <td>0.000128</td>\n",
       "      <td>2.970484e-04</td>\n",
       "      <td>2.735852e-03</td>\n",
       "      <td>1.684859e-05</td>\n",
       "      <td>6.300458e-05</td>\n",
       "      <td>INTACT FINANCIAL-</td>\n",
       "      <td>Other insurers</td>\n",
       "      <td>IFC.TO</td>\n",
       "      <td>20210210_INTACT_FINANCIAL-_Earnings_Call_2021-...</td>\n",
       "      <td>2021-02-10</td>\n",
       "      <td>0.008256</td>\n",
       "      <td>-0.013371</td>\n",
       "    </tr>\n",
       "    <tr>\n",
       "      <th>1809</th>\n",
       "      <td>0.000256</td>\n",
       "      <td>0.001000</td>\n",
       "      <td>4.221449e-04</td>\n",
       "      <td>8.663163e-06</td>\n",
       "      <td>8.310936e-04</td>\n",
       "      <td>0.000066</td>\n",
       "      <td>0.000739</td>\n",
       "      <td>0.000057</td>\n",
       "      <td>1.562853e-05</td>\n",
       "      <td>2.476509e-03</td>\n",
       "      <td>3.801587e-05</td>\n",
       "      <td>5.136141e-06</td>\n",
       "      <td>INTACT FINANCIAL-</td>\n",
       "      <td>Other insurers</td>\n",
       "      <td>IFC.TO</td>\n",
       "      <td>20210512_INTACT_FINANCIAL-_Earnings_Call_2021-...</td>\n",
       "      <td>2021-05-12</td>\n",
       "      <td>0.005915</td>\n",
       "      <td>-0.011460</td>\n",
       "    </tr>\n",
       "    <tr>\n",
       "      <th>1810</th>\n",
       "      <td>0.000571</td>\n",
       "      <td>0.000007</td>\n",
       "      <td>1.209130e-03</td>\n",
       "      <td>3.247848e-04</td>\n",
       "      <td>4.305374e-04</td>\n",
       "      <td>0.000268</td>\n",
       "      <td>0.000710</td>\n",
       "      <td>0.000036</td>\n",
       "      <td>3.976264e-04</td>\n",
       "      <td>1.539290e-03</td>\n",
       "      <td>1.144783e-05</td>\n",
       "      <td>5.508991e-06</td>\n",
       "      <td>INTACT FINANCIAL-</td>\n",
       "      <td>Other insurers</td>\n",
       "      <td>IFC.TO</td>\n",
       "      <td>20210728_INTACT_FINANCIAL-_Earnings_Call_2021-...</td>\n",
       "      <td>2021-07-28</td>\n",
       "      <td>0.005511</td>\n",
       "      <td>-0.002943</td>\n",
       "    </tr>\n",
       "    <tr>\n",
       "      <th>1811</th>\n",
       "      <td>0.000012</td>\n",
       "      <td>0.000760</td>\n",
       "      <td>1.123421e-03</td>\n",
       "      <td>3.456212e-04</td>\n",
       "      <td>6.214273e-04</td>\n",
       "      <td>0.000008</td>\n",
       "      <td>0.000019</td>\n",
       "      <td>0.000043</td>\n",
       "      <td>4.363859e-04</td>\n",
       "      <td>1.408668e-03</td>\n",
       "      <td>3.137786e-05</td>\n",
       "      <td>4.561205e-06</td>\n",
       "      <td>INTACT FINANCIAL-</td>\n",
       "      <td>Other insurers</td>\n",
       "      <td>IFC.TO</td>\n",
       "      <td>20211110_INTACT_FINANCIAL-_Earnings_Call_2021-...</td>\n",
       "      <td>2021-11-10</td>\n",
       "      <td>0.004812</td>\n",
       "      <td>0.001295</td>\n",
       "    </tr>\n",
       "  </tbody>\n",
       "</table>\n",
       "<p>1812 rows × 19 columns</p>\n",
       "</div>"
      ],
      "text/plain": [
       "      sentiment_topic_1  sentiment_topic_2  sentiment_topic_3  \\\n",
       "0              0.000001           0.000225       1.275148e-05   \n",
       "1              0.000083           0.000387       4.277235e-05   \n",
       "2             -0.000007          -0.000180      -5.325020e-05   \n",
       "3              0.000005           0.000232       2.284730e-07   \n",
       "4              0.000016           0.001048       1.483401e-04   \n",
       "...                 ...                ...                ...   \n",
       "1807           0.000035           0.000056       4.700048e-04   \n",
       "1808           0.000346           0.000011       8.438424e-04   \n",
       "1809           0.000256           0.001000       4.221449e-04   \n",
       "1810           0.000571           0.000007       1.209130e-03   \n",
       "1811           0.000012           0.000760       1.123421e-03   \n",
       "\n",
       "      sentiment_topic_4  sentiment_topic_5  sentiment_topic_6  \\\n",
       "0          2.574441e-07       1.957220e-07           0.000017   \n",
       "1          2.311224e-05       1.842940e-05           0.000043   \n",
       "2         -7.410902e-07      -5.634142e-07          -0.000012   \n",
       "3          3.264031e-07       3.275927e-06           0.000013   \n",
       "4          2.042776e-05       1.926510e-05           0.000069   \n",
       "...                 ...                ...                ...   \n",
       "1807       6.037400e-06       6.961053e-04           0.000022   \n",
       "1808       6.367106e-04       2.309079e-03           0.000016   \n",
       "1809       8.663163e-06       8.310936e-04           0.000066   \n",
       "1810       3.247848e-04       4.305374e-04           0.000268   \n",
       "1811       3.456212e-04       6.214273e-04           0.000008   \n",
       "\n",
       "      sentiment_topic_7  sentiment_topic_8  sentiment_topic_9  \\\n",
       "0              0.000089           0.000003       7.237270e-06   \n",
       "1              0.000058           0.000020       3.482830e-06   \n",
       "2             -0.000060          -0.000018      -8.224983e-05   \n",
       "3              0.000040           0.000006       8.817127e-07   \n",
       "4              0.000207           0.000002       4.953011e-05   \n",
       "...                 ...                ...                ...   \n",
       "1807           0.000385           0.000040       1.652609e-04   \n",
       "1808           0.000852           0.000128       2.970484e-04   \n",
       "1809           0.000739           0.000057       1.562853e-05   \n",
       "1810           0.000710           0.000036       3.976264e-04   \n",
       "1811           0.000019           0.000043       4.363859e-04   \n",
       "\n",
       "      sentiment_topic_10  sentiment_topic_11  sentiment_topic_12  \\\n",
       "0           1.469628e-05        2.274781e-06        1.906193e-05   \n",
       "1           3.289854e-05        5.756683e-07        5.409814e-05   \n",
       "2          -6.925516e-07       -6.747121e-07       -1.777785e-05   \n",
       "3           2.581361e-05        2.681194e-06        6.258433e-06   \n",
       "4           8.710532e-05        1.486496e-06        9.680033e-07   \n",
       "...                  ...                 ...                 ...   \n",
       "1807        1.118455e-03        7.522828e-06        3.579401e-06   \n",
       "1808        2.735852e-03        1.684859e-05        6.300458e-05   \n",
       "1809        2.476509e-03        3.801587e-05        5.136141e-06   \n",
       "1810        1.539290e-03        1.144783e-05        5.508991e-06   \n",
       "1811        1.408668e-03        3.137786e-05        4.561205e-06   \n",
       "\n",
       "           company_name           Group  ticker  \\\n",
       "0         Admiral Group  Motor/Personal   ADM.L   \n",
       "1         Admiral Group  Motor/Personal   ADM.L   \n",
       "2         Admiral Group  Motor/Personal   ADM.L   \n",
       "3         Admiral Group  Motor/Personal   ADM.L   \n",
       "4         Admiral Group  Motor/Personal   ADM.L   \n",
       "...                 ...             ...     ...   \n",
       "1807  INTACT FINANCIAL-  Other insurers  IFC.TO   \n",
       "1808  INTACT FINANCIAL-  Other insurers  IFC.TO   \n",
       "1809  INTACT FINANCIAL-  Other insurers  IFC.TO   \n",
       "1810  INTACT FINANCIAL-  Other insurers  IFC.TO   \n",
       "1811  INTACT FINANCIAL-  Other insurers  IFC.TO   \n",
       "\n",
       "                                              file_name        date  \\\n",
       "0     20110302_Admiral_Group_PLC-_Earnings_Call_2011...  2011-03-02   \n",
       "1     20110824_Admiral_Group_PLC-_Earnings_Call_2011...  2011-08-24   \n",
       "2     20111109_Admiral_Group_PLC-_Guidance_Call_2011...  2011-11-09   \n",
       "3     20111109_Admiral_Group_PLC-_Guidance_Call_2011...  2011-11-09   \n",
       "4     20120307_Admiral_Group_PLC-_Earnings_Call_2012...  2012-03-07   \n",
       "...                                                 ...         ...   \n",
       "1807  20201104_INTACT_FINANCIAL-_Earnings_Call_2020-...  2020-11-04   \n",
       "1808  20210210_INTACT_FINANCIAL-_Earnings_Call_2021-...  2021-02-10   \n",
       "1809  20210512_INTACT_FINANCIAL-_Earnings_Call_2021-...  2021-05-12   \n",
       "1810  20210728_INTACT_FINANCIAL-_Earnings_Call_2021-...  2021-07-28   \n",
       "1811  20211110_INTACT_FINANCIAL-_Earnings_Call_2021-...  2021-11-10   \n",
       "\n",
       "      WA_sentiment       D+1  \n",
       "0         0.000392  0.013897  \n",
       "1         0.000765 -0.054693  \n",
       "2        -0.000433 -0.076056  \n",
       "3         0.000336 -0.076056  \n",
       "4         0.001669  0.015734  \n",
       "...            ...       ...  \n",
       "1807      0.003004 -0.018274  \n",
       "1808      0.008256 -0.013371  \n",
       "1809      0.005915 -0.011460  \n",
       "1810      0.005511 -0.002943  \n",
       "1811      0.004812  0.001295  \n",
       "\n",
       "[1812 rows x 19 columns]"
      ]
     },
     "execution_count": 4,
     "metadata": {},
     "output_type": "execute_result"
    }
   ],
   "source": [
    "df_MD\n"
   ]
  },
  {
   "cell_type": "code",
   "execution_count": 6,
   "metadata": {},
   "outputs": [
    {
     "name": "stderr",
     "output_type": "stream",
     "text": [
      "/var/folders/sq/sxhsy98j6f57m406rd5lz1_r0000gn/T/ipykernel_1235/3572852421.py:1: SettingWithCopyWarning: \n",
      "A value is trying to be set on a copy of a slice from a DataFrame.\n",
      "Try using .loc[row_indexer,col_indexer] = value instead\n",
      "\n",
      "See the caveats in the documentation: https://pandas.pydata.org/pandas-docs/stable/user_guide/indexing.html#returning-a-view-versus-a-copy\n",
      "  df_MD_same['date'] = pd.to_datetime(df_MD_same['date'])\n",
      "/var/folders/sq/sxhsy98j6f57m406rd5lz1_r0000gn/T/ipykernel_1235/3572852421.py:2: SettingWithCopyWarning: \n",
      "A value is trying to be set on a copy of a slice from a DataFrame.\n",
      "Try using .loc[row_indexer,col_indexer] = value instead\n",
      "\n",
      "See the caveats in the documentation: https://pandas.pydata.org/pandas-docs/stable/user_guide/indexing.html#returning-a-view-versus-a-copy\n",
      "  df_MD_same['quater'] = df_MD_same['date'].apply(lambda x: x.quarter)\n",
      "/var/folders/sq/sxhsy98j6f57m406rd5lz1_r0000gn/T/ipykernel_1235/3572852421.py:3: SettingWithCopyWarning: \n",
      "A value is trying to be set on a copy of a slice from a DataFrame.\n",
      "Try using .loc[row_indexer,col_indexer] = value instead\n",
      "\n",
      "See the caveats in the documentation: https://pandas.pydata.org/pandas-docs/stable/user_guide/indexing.html#returning-a-view-versus-a-copy\n",
      "  df_MD_same['year'] = df_MD_same['date'].apply(lambda x: x.year)\n",
      "/var/folders/sq/sxhsy98j6f57m406rd5lz1_r0000gn/T/ipykernel_1235/3572852421.py:4: SettingWithCopyWarning: \n",
      "A value is trying to be set on a copy of a slice from a DataFrame.\n",
      "Try using .loc[row_indexer,col_indexer] = value instead\n",
      "\n",
      "See the caveats in the documentation: https://pandas.pydata.org/pandas-docs/stable/user_guide/indexing.html#returning-a-view-versus-a-copy\n",
      "  df_MD_same['year_quater'] = df_MD_same['year'].astype(str) + \"Q\" + df_MD_same['quater'].astype(str)\n",
      "/var/folders/sq/sxhsy98j6f57m406rd5lz1_r0000gn/T/ipykernel_1235/3572852421.py:5: SettingWithCopyWarning: \n",
      "A value is trying to be set on a copy of a slice from a DataFrame.\n",
      "Try using .loc[row_indexer,col_indexer] = value instead\n",
      "\n",
      "See the caveats in the documentation: https://pandas.pydata.org/pandas-docs/stable/user_guide/indexing.html#returning-a-view-versus-a-copy\n",
      "  df_MD_same['date'] = df_MD_same['date'].astype(str)\n"
     ]
    },
    {
     "data": {
      "text/html": [
       "<div>\n",
       "<style scoped>\n",
       "    .dataframe tbody tr th:only-of-type {\n",
       "        vertical-align: middle;\n",
       "    }\n",
       "\n",
       "    .dataframe tbody tr th {\n",
       "        vertical-align: top;\n",
       "    }\n",
       "\n",
       "    .dataframe thead th {\n",
       "        text-align: right;\n",
       "    }\n",
       "</style>\n",
       "<table border=\"1\" class=\"dataframe\">\n",
       "  <thead>\n",
       "    <tr style=\"text-align: right;\">\n",
       "      <th></th>\n",
       "      <th>year_quater</th>\n",
       "      <th>Group</th>\n",
       "      <th>sentiment_topic_1</th>\n",
       "      <th>sentiment_topic_2</th>\n",
       "      <th>sentiment_topic_3</th>\n",
       "      <th>sentiment_topic_4</th>\n",
       "      <th>sentiment_topic_5</th>\n",
       "      <th>sentiment_topic_6</th>\n",
       "      <th>sentiment_topic_7</th>\n",
       "      <th>sentiment_topic_8</th>\n",
       "      <th>sentiment_topic_9</th>\n",
       "      <th>sentiment_topic_10</th>\n",
       "      <th>sentiment_topic_11</th>\n",
       "      <th>sentiment_topic_12</th>\n",
       "      <th>WA_sentiment</th>\n",
       "      <th>D+1</th>\n",
       "      <th>quater</th>\n",
       "      <th>year</th>\n",
       "    </tr>\n",
       "  </thead>\n",
       "  <tbody>\n",
       "    <tr>\n",
       "      <th>0</th>\n",
       "      <td>2011Q1</td>\n",
       "      <td>Life Groups &amp; Retail Life</td>\n",
       "      <td>9.531251e-07</td>\n",
       "      <td>0.000005</td>\n",
       "      <td>0.000042</td>\n",
       "      <td>2.120872e-04</td>\n",
       "      <td>4.785078e-07</td>\n",
       "      <td>0.000136</td>\n",
       "      <td>0.000094</td>\n",
       "      <td>0.000063</td>\n",
       "      <td>0.000210</td>\n",
       "      <td>5.881842e-07</td>\n",
       "      <td>5.730331e-07</td>\n",
       "      <td>0.000051</td>\n",
       "      <td>0.000815</td>\n",
       "      <td>0.014214</td>\n",
       "      <td>1.0</td>\n",
       "      <td>2011.0</td>\n",
       "    </tr>\n",
       "    <tr>\n",
       "      <th>1</th>\n",
       "      <td>2011Q1</td>\n",
       "      <td>London Market</td>\n",
       "      <td>1.698691e-03</td>\n",
       "      <td>0.000016</td>\n",
       "      <td>0.000203</td>\n",
       "      <td>8.234727e-05</td>\n",
       "      <td>1.796889e-04</td>\n",
       "      <td>0.000632</td>\n",
       "      <td>0.001122</td>\n",
       "      <td>0.000083</td>\n",
       "      <td>0.000256</td>\n",
       "      <td>3.293152e-04</td>\n",
       "      <td>2.685843e-04</td>\n",
       "      <td>0.000302</td>\n",
       "      <td>0.005172</td>\n",
       "      <td>0.045549</td>\n",
       "      <td>1.0</td>\n",
       "      <td>2011.0</td>\n",
       "    </tr>\n",
       "    <tr>\n",
       "      <th>2</th>\n",
       "      <td>2011Q1</td>\n",
       "      <td>Motor/Personal</td>\n",
       "      <td>1.050786e-06</td>\n",
       "      <td>0.000225</td>\n",
       "      <td>0.000013</td>\n",
       "      <td>2.574441e-07</td>\n",
       "      <td>1.957220e-07</td>\n",
       "      <td>0.000017</td>\n",
       "      <td>0.000089</td>\n",
       "      <td>0.000003</td>\n",
       "      <td>0.000007</td>\n",
       "      <td>1.469628e-05</td>\n",
       "      <td>2.274781e-06</td>\n",
       "      <td>0.000019</td>\n",
       "      <td>0.000392</td>\n",
       "      <td>0.013897</td>\n",
       "      <td>1.0</td>\n",
       "      <td>2011.0</td>\n",
       "    </tr>\n",
       "    <tr>\n",
       "      <th>3</th>\n",
       "      <td>2011Q1</td>\n",
       "      <td>Other insurers</td>\n",
       "      <td>3.878326e-04</td>\n",
       "      <td>0.002052</td>\n",
       "      <td>0.000039</td>\n",
       "      <td>2.346335e-05</td>\n",
       "      <td>9.200304e-05</td>\n",
       "      <td>0.000112</td>\n",
       "      <td>0.000849</td>\n",
       "      <td>0.000251</td>\n",
       "      <td>0.000042</td>\n",
       "      <td>4.629526e-03</td>\n",
       "      <td>1.975125e-04</td>\n",
       "      <td>0.000014</td>\n",
       "      <td>0.008690</td>\n",
       "      <td>0.015130</td>\n",
       "      <td>1.0</td>\n",
       "      <td>2011.0</td>\n",
       "    </tr>\n",
       "    <tr>\n",
       "      <th>4</th>\n",
       "      <td>2011Q1</td>\n",
       "      <td>US - Specialty/P&amp;C/Reinsurance</td>\n",
       "      <td>4.386864e-03</td>\n",
       "      <td>0.000030</td>\n",
       "      <td>0.001288</td>\n",
       "      <td>1.514750e-04</td>\n",
       "      <td>1.600696e-04</td>\n",
       "      <td>0.000210</td>\n",
       "      <td>0.002157</td>\n",
       "      <td>0.000455</td>\n",
       "      <td>0.000433</td>\n",
       "      <td>2.575868e-04</td>\n",
       "      <td>5.075512e-04</td>\n",
       "      <td>0.000165</td>\n",
       "      <td>0.010201</td>\n",
       "      <td>0.015111</td>\n",
       "      <td>1.0</td>\n",
       "      <td>2011.0</td>\n",
       "    </tr>\n",
       "    <tr>\n",
       "      <th>...</th>\n",
       "      <td>...</td>\n",
       "      <td>...</td>\n",
       "      <td>...</td>\n",
       "      <td>...</td>\n",
       "      <td>...</td>\n",
       "      <td>...</td>\n",
       "      <td>...</td>\n",
       "      <td>...</td>\n",
       "      <td>...</td>\n",
       "      <td>...</td>\n",
       "      <td>...</td>\n",
       "      <td>...</td>\n",
       "      <td>...</td>\n",
       "      <td>...</td>\n",
       "      <td>...</td>\n",
       "      <td>...</td>\n",
       "      <td>...</td>\n",
       "      <td>...</td>\n",
       "    </tr>\n",
       "    <tr>\n",
       "      <th>306</th>\n",
       "      <td>2021Q4</td>\n",
       "      <td>London Market</td>\n",
       "      <td>2.499530e-03</td>\n",
       "      <td>0.000024</td>\n",
       "      <td>0.000102</td>\n",
       "      <td>5.079752e-04</td>\n",
       "      <td>9.989784e-05</td>\n",
       "      <td>0.000136</td>\n",
       "      <td>0.002629</td>\n",
       "      <td>0.000047</td>\n",
       "      <td>0.000229</td>\n",
       "      <td>1.111916e-03</td>\n",
       "      <td>7.088555e-05</td>\n",
       "      <td>0.000218</td>\n",
       "      <td>0.007675</td>\n",
       "      <td>0.014310</td>\n",
       "      <td>4.0</td>\n",
       "      <td>2021.0</td>\n",
       "    </tr>\n",
       "    <tr>\n",
       "      <th>307</th>\n",
       "      <td>2021Q4</td>\n",
       "      <td>Motor/Personal</td>\n",
       "      <td>2.122122e-04</td>\n",
       "      <td>0.001102</td>\n",
       "      <td>0.001689</td>\n",
       "      <td>3.561232e-05</td>\n",
       "      <td>3.478187e-04</td>\n",
       "      <td>0.000044</td>\n",
       "      <td>0.000892</td>\n",
       "      <td>0.000035</td>\n",
       "      <td>0.000946</td>\n",
       "      <td>3.443013e-05</td>\n",
       "      <td>6.966902e-05</td>\n",
       "      <td>0.000163</td>\n",
       "      <td>0.005571</td>\n",
       "      <td>0.010654</td>\n",
       "      <td>4.0</td>\n",
       "      <td>2021.0</td>\n",
       "    </tr>\n",
       "    <tr>\n",
       "      <th>308</th>\n",
       "      <td>2021Q4</td>\n",
       "      <td>Other insurers</td>\n",
       "      <td>5.924773e-05</td>\n",
       "      <td>0.001172</td>\n",
       "      <td>0.000720</td>\n",
       "      <td>3.135299e-04</td>\n",
       "      <td>2.482942e-04</td>\n",
       "      <td>0.000222</td>\n",
       "      <td>0.000287</td>\n",
       "      <td>0.000027</td>\n",
       "      <td>0.000320</td>\n",
       "      <td>2.824415e-04</td>\n",
       "      <td>3.411842e-05</td>\n",
       "      <td>0.000094</td>\n",
       "      <td>0.003779</td>\n",
       "      <td>0.007203</td>\n",
       "      <td>4.0</td>\n",
       "      <td>2021.0</td>\n",
       "    </tr>\n",
       "    <tr>\n",
       "      <th>309</th>\n",
       "      <td>2021Q4</td>\n",
       "      <td>Run-off</td>\n",
       "      <td>3.120851e-03</td>\n",
       "      <td>0.000004</td>\n",
       "      <td>0.000035</td>\n",
       "      <td>5.238385e-06</td>\n",
       "      <td>3.937774e-04</td>\n",
       "      <td>0.000056</td>\n",
       "      <td>0.000271</td>\n",
       "      <td>0.000015</td>\n",
       "      <td>0.000178</td>\n",
       "      <td>3.081342e-05</td>\n",
       "      <td>4.475438e-05</td>\n",
       "      <td>0.000003</td>\n",
       "      <td>0.004157</td>\n",
       "      <td>0.004439</td>\n",
       "      <td>4.0</td>\n",
       "      <td>2021.0</td>\n",
       "    </tr>\n",
       "    <tr>\n",
       "      <th>310</th>\n",
       "      <td>2021Q4</td>\n",
       "      <td>US - Specialty/P&amp;C/Reinsurance</td>\n",
       "      <td>5.112620e-04</td>\n",
       "      <td>0.000005</td>\n",
       "      <td>0.000402</td>\n",
       "      <td>4.948108e-05</td>\n",
       "      <td>1.127567e-04</td>\n",
       "      <td>0.000060</td>\n",
       "      <td>0.000419</td>\n",
       "      <td>0.000173</td>\n",
       "      <td>0.000166</td>\n",
       "      <td>1.828577e-03</td>\n",
       "      <td>6.233190e-06</td>\n",
       "      <td>0.000232</td>\n",
       "      <td>0.003966</td>\n",
       "      <td>0.001487</td>\n",
       "      <td>4.0</td>\n",
       "      <td>2021.0</td>\n",
       "    </tr>\n",
       "  </tbody>\n",
       "</table>\n",
       "<p>311 rows × 18 columns</p>\n",
       "</div>"
      ],
      "text/plain": [
       "    year_quater                           Group  sentiment_topic_1  \\\n",
       "0        2011Q1       Life Groups & Retail Life       9.531251e-07   \n",
       "1        2011Q1                   London Market       1.698691e-03   \n",
       "2        2011Q1                  Motor/Personal       1.050786e-06   \n",
       "3        2011Q1                  Other insurers       3.878326e-04   \n",
       "4        2011Q1  US - Specialty/P&C/Reinsurance       4.386864e-03   \n",
       "..          ...                             ...                ...   \n",
       "306      2021Q4                   London Market       2.499530e-03   \n",
       "307      2021Q4                  Motor/Personal       2.122122e-04   \n",
       "308      2021Q4                  Other insurers       5.924773e-05   \n",
       "309      2021Q4                         Run-off       3.120851e-03   \n",
       "310      2021Q4  US - Specialty/P&C/Reinsurance       5.112620e-04   \n",
       "\n",
       "     sentiment_topic_2  sentiment_topic_3  sentiment_topic_4  \\\n",
       "0             0.000005           0.000042       2.120872e-04   \n",
       "1             0.000016           0.000203       8.234727e-05   \n",
       "2             0.000225           0.000013       2.574441e-07   \n",
       "3             0.002052           0.000039       2.346335e-05   \n",
       "4             0.000030           0.001288       1.514750e-04   \n",
       "..                 ...                ...                ...   \n",
       "306           0.000024           0.000102       5.079752e-04   \n",
       "307           0.001102           0.001689       3.561232e-05   \n",
       "308           0.001172           0.000720       3.135299e-04   \n",
       "309           0.000004           0.000035       5.238385e-06   \n",
       "310           0.000005           0.000402       4.948108e-05   \n",
       "\n",
       "     sentiment_topic_5  sentiment_topic_6  sentiment_topic_7  \\\n",
       "0         4.785078e-07           0.000136           0.000094   \n",
       "1         1.796889e-04           0.000632           0.001122   \n",
       "2         1.957220e-07           0.000017           0.000089   \n",
       "3         9.200304e-05           0.000112           0.000849   \n",
       "4         1.600696e-04           0.000210           0.002157   \n",
       "..                 ...                ...                ...   \n",
       "306       9.989784e-05           0.000136           0.002629   \n",
       "307       3.478187e-04           0.000044           0.000892   \n",
       "308       2.482942e-04           0.000222           0.000287   \n",
       "309       3.937774e-04           0.000056           0.000271   \n",
       "310       1.127567e-04           0.000060           0.000419   \n",
       "\n",
       "     sentiment_topic_8  sentiment_topic_9  sentiment_topic_10  \\\n",
       "0             0.000063           0.000210        5.881842e-07   \n",
       "1             0.000083           0.000256        3.293152e-04   \n",
       "2             0.000003           0.000007        1.469628e-05   \n",
       "3             0.000251           0.000042        4.629526e-03   \n",
       "4             0.000455           0.000433        2.575868e-04   \n",
       "..                 ...                ...                 ...   \n",
       "306           0.000047           0.000229        1.111916e-03   \n",
       "307           0.000035           0.000946        3.443013e-05   \n",
       "308           0.000027           0.000320        2.824415e-04   \n",
       "309           0.000015           0.000178        3.081342e-05   \n",
       "310           0.000173           0.000166        1.828577e-03   \n",
       "\n",
       "     sentiment_topic_11  sentiment_topic_12  WA_sentiment       D+1  quater  \\\n",
       "0          5.730331e-07            0.000051      0.000815  0.014214     1.0   \n",
       "1          2.685843e-04            0.000302      0.005172  0.045549     1.0   \n",
       "2          2.274781e-06            0.000019      0.000392  0.013897     1.0   \n",
       "3          1.975125e-04            0.000014      0.008690  0.015130     1.0   \n",
       "4          5.075512e-04            0.000165      0.010201  0.015111     1.0   \n",
       "..                  ...                 ...           ...       ...     ...   \n",
       "306        7.088555e-05            0.000218      0.007675  0.014310     4.0   \n",
       "307        6.966902e-05            0.000163      0.005571  0.010654     4.0   \n",
       "308        3.411842e-05            0.000094      0.003779  0.007203     4.0   \n",
       "309        4.475438e-05            0.000003      0.004157  0.004439     4.0   \n",
       "310        6.233190e-06            0.000232      0.003966  0.001487     4.0   \n",
       "\n",
       "       year  \n",
       "0    2011.0  \n",
       "1    2011.0  \n",
       "2    2011.0  \n",
       "3    2011.0  \n",
       "4    2011.0  \n",
       "..      ...  \n",
       "306  2021.0  \n",
       "307  2021.0  \n",
       "308  2021.0  \n",
       "309  2021.0  \n",
       "310  2021.0  \n",
       "\n",
       "[311 rows x 18 columns]"
      ]
     },
     "execution_count": 6,
     "metadata": {},
     "output_type": "execute_result"
    }
   ],
   "source": [
    "df_MD_same['date'] = pd.to_datetime(df_MD_same['date'])\n",
    "df_MD_same['quater'] = df_MD_same['date'].apply(lambda x: x.quarter)\n",
    "df_MD_same['year'] = df_MD_same['date'].apply(lambda x: x.year)\n",
    "df_MD_same['year_quater'] = df_MD_same['year'].astype(str) + \"Q\" + df_MD_same['quater'].astype(str)\n",
    "df_MD_same['date'] = df_MD_same['date'].astype(str)\n",
    "\n",
    "# ------> group by year_quater and Group\n",
    "df_MD_same_groupby = df_MD_same.groupby(['year_quater','Group']).mean()\n",
    "df_MD_same_groupby = df_MD_same_groupby.reset_index()\n",
    "df_MD_same_groupby"
   ]
  },
  {
   "cell_type": "markdown",
   "metadata": {},
   "source": [
    "# disaster"
   ]
  },
  {
   "cell_type": "code",
   "execution_count": 11,
   "metadata": {},
   "outputs": [
    {
     "name": "stderr",
     "output_type": "stream",
     "text": [
      "/var/folders/sq/sxhsy98j6f57m406rd5lz1_r0000gn/T/ipykernel_1235/1529586855.py:17: FutureWarning:\n",
      "\n",
      "Dropping of nuisance columns in DataFrame reductions (with 'numeric_only=None') is deprecated; in a future version this will raise TypeError.  Select only valid columns before calling the reduction.\n",
      "\n"
     ]
    },
    {
     "data": {
      "text/html": [
       "<div>\n",
       "<style scoped>\n",
       "    .dataframe tbody tr th:only-of-type {\n",
       "        vertical-align: middle;\n",
       "    }\n",
       "\n",
       "    .dataframe tbody tr th {\n",
       "        vertical-align: top;\n",
       "    }\n",
       "\n",
       "    .dataframe thead th {\n",
       "        text-align: right;\n",
       "    }\n",
       "</style>\n",
       "<table border=\"1\" class=\"dataframe\">\n",
       "  <thead>\n",
       "    <tr style=\"text-align: right;\">\n",
       "      <th></th>\n",
       "      <th>year_quater</th>\n",
       "      <th>Life Groups &amp; Retail Life</th>\n",
       "      <th>London Market</th>\n",
       "      <th>Motor/Personal</th>\n",
       "      <th>Other insurers</th>\n",
       "      <th>US - Specialty/P&amp;C/Reinsurance</th>\n",
       "      <th>Japanese &amp; Pacific</th>\n",
       "      <th>Run-off</th>\n",
       "      <th>European (Re)Insurers</th>\n",
       "      <th>Global Commercial</th>\n",
       "      <th>LN Equity</th>\n",
       "    </tr>\n",
       "  </thead>\n",
       "  <tbody>\n",
       "    <tr>\n",
       "      <th>0</th>\n",
       "      <td>2011Q1</td>\n",
       "      <td>5.730331e-07</td>\n",
       "      <td>0.000269</td>\n",
       "      <td>2.274781e-06</td>\n",
       "      <td>0.000198</td>\n",
       "      <td>0.000508</td>\n",
       "      <td>-0.000059</td>\n",
       "      <td>0.000249</td>\n",
       "      <td>0.000217</td>\n",
       "      <td>0.000585</td>\n",
       "      <td>0.000065</td>\n",
       "    </tr>\n",
       "    <tr>\n",
       "      <th>1</th>\n",
       "      <td>2011Q2</td>\n",
       "      <td>1.155081e-04</td>\n",
       "      <td>0.000067</td>\n",
       "      <td>6.416387e-05</td>\n",
       "      <td>0.000209</td>\n",
       "      <td>0.000173</td>\n",
       "      <td>0.000167</td>\n",
       "      <td>0.000248</td>\n",
       "      <td>0.000217</td>\n",
       "      <td>0.000585</td>\n",
       "      <td>0.000065</td>\n",
       "    </tr>\n",
       "    <tr>\n",
       "      <th>2</th>\n",
       "      <td>2011Q3</td>\n",
       "      <td>4.832418e-08</td>\n",
       "      <td>0.000681</td>\n",
       "      <td>6.416387e-05</td>\n",
       "      <td>0.000019</td>\n",
       "      <td>0.000173</td>\n",
       "      <td>-0.000059</td>\n",
       "      <td>0.001360</td>\n",
       "      <td>0.000217</td>\n",
       "      <td>0.000585</td>\n",
       "      <td>0.000065</td>\n",
       "    </tr>\n",
       "    <tr>\n",
       "      <th>3</th>\n",
       "      <td>2011Q4</td>\n",
       "      <td>3.065023e-06</td>\n",
       "      <td>0.000029</td>\n",
       "      <td>-6.747121e-07</td>\n",
       "      <td>0.000084</td>\n",
       "      <td>0.000043</td>\n",
       "      <td>0.001303</td>\n",
       "      <td>0.000076</td>\n",
       "      <td>0.000217</td>\n",
       "      <td>0.000585</td>\n",
       "      <td>0.000065</td>\n",
       "    </tr>\n",
       "    <tr>\n",
       "      <th>4</th>\n",
       "      <td>2012Q1</td>\n",
       "      <td>2.765587e-05</td>\n",
       "      <td>-0.000011</td>\n",
       "      <td>1.486496e-06</td>\n",
       "      <td>0.000070</td>\n",
       "      <td>0.000579</td>\n",
       "      <td>-0.000059</td>\n",
       "      <td>0.000192</td>\n",
       "      <td>0.000217</td>\n",
       "      <td>0.000585</td>\n",
       "      <td>0.000065</td>\n",
       "    </tr>\n",
       "  </tbody>\n",
       "</table>\n",
       "</div>"
      ],
      "text/plain": [
       "  year_quater  Life Groups & Retail Life  London Market  Motor/Personal  \\\n",
       "0      2011Q1               5.730331e-07       0.000269    2.274781e-06   \n",
       "1      2011Q2               1.155081e-04       0.000067    6.416387e-05   \n",
       "2      2011Q3               4.832418e-08       0.000681    6.416387e-05   \n",
       "3      2011Q4               3.065023e-06       0.000029   -6.747121e-07   \n",
       "4      2012Q1               2.765587e-05      -0.000011    1.486496e-06   \n",
       "\n",
       "   Other insurers  US - Specialty/P&C/Reinsurance  Japanese & Pacific  \\\n",
       "0        0.000198                        0.000508           -0.000059   \n",
       "1        0.000209                        0.000173            0.000167   \n",
       "2        0.000019                        0.000173           -0.000059   \n",
       "3        0.000084                        0.000043            0.001303   \n",
       "4        0.000070                        0.000579           -0.000059   \n",
       "\n",
       "    Run-off  European (Re)Insurers  Global Commercial  LN Equity  \n",
       "0  0.000249               0.000217           0.000585   0.000065  \n",
       "1  0.000248               0.000217           0.000585   0.000065  \n",
       "2  0.001360               0.000217           0.000585   0.000065  \n",
       "3  0.000076               0.000217           0.000585   0.000065  \n",
       "4  0.000192               0.000217           0.000585   0.000065  "
      ]
     },
     "execution_count": 11,
     "metadata": {},
     "output_type": "execute_result"
    }
   ],
   "source": [
    "year_quater = df_MD_same_groupby['year_quater'].unique().tolist()\n",
    "Group = df_MD_same_groupby['Group'].unique().tolist()\n",
    "df_MD_same_group_tp11 = pd.DataFrame()\n",
    "df_MD_same_group_tp11[\"year_quater\"] = year_quater\n",
    "\n",
    "# extract the sentiment_topic_11 by Group \n",
    "for i in Group:\n",
    "    tmp_df = df_MD_same_groupby[df_MD_same_groupby['Group']==i]\n",
    "    tmp_df = tmp_df.reset_index()\n",
    "    tmp_df = tmp_df[['year_quater','sentiment_topic_11']]\n",
    "    # remane the column name\n",
    "    tmp_df.columns = ['year_quater',i]\n",
    "    # merge with df_MD_same_group_tp2 by year_quater\n",
    "    df_MD_same_group_tp11 = pd.merge(df_MD_same_group_tp11, tmp_df, on='year_quater', how='left')\n",
    "\n",
    "# fill the nan by the mean value of the group\n",
    "df_MD_same_group_tp11 = df_MD_same_group_tp11.fillna(df_MD_same_group_tp11.mean())\n",
    "df_MD_same_group_tp11.head()"
   ]
  },
  {
   "cell_type": "code",
   "execution_count": 17,
   "metadata": {},
   "outputs": [
    {
     "data": {
      "application/vnd.plotly.v1+json": {
       "config": {
        "plotlyServerURL": "https://plot.ly"
       },
       "data": [
        {
         "name": "Life Groups & Retail Life",
         "type": "scatter",
         "x": [
          "2011Q1",
          "2011Q2",
          "2011Q3",
          "2011Q4",
          "2012Q1",
          "2012Q2",
          "2012Q3",
          "2012Q4",
          "2013Q1",
          "2013Q2",
          "2013Q3",
          "2013Q4",
          "2014Q1",
          "2014Q2",
          "2014Q3",
          "2014Q4",
          "2015Q1",
          "2015Q2",
          "2015Q3",
          "2015Q4",
          "2016Q1",
          "2016Q2",
          "2016Q3",
          "2016Q4",
          "2017Q1",
          "2017Q2",
          "2017Q3",
          "2017Q4",
          "2018Q1",
          "2018Q2",
          "2018Q3",
          "2018Q4",
          "2019Q1",
          "2019Q2",
          "2019Q3",
          "2019Q4",
          "2020Q1",
          "2020Q2",
          "2020Q3",
          "2020Q4",
          "2021Q1",
          "2021Q2",
          "2021Q3",
          "2021Q4"
         ],
         "y": [
          5.730331328694487e-7,
          0.00011550809998764995,
          4.832418067088458e-8,
          0.0000030650226716259096,
          0.000027655871548576885,
          0.00011550809998764995,
          7.235585980910632e-7,
          0.0005527377882974327,
          0.000030146797220072562,
          0.000039420591484272746,
          0.000017033896411203354,
          0.000048764255466160964,
          0.000056223580890857375,
          0.000010394131712690505,
          0.00009396704515975388,
          0.00002488305759748575,
          0.000025808253544465592,
          0.00002760808293285825,
          0.00008677211131668244,
          0.000012757983783058072,
          0.000012834970182926561,
          0.00010486031997920033,
          0.00004370271888241196,
          0.000006190738224512126,
          0.00006090321439622873,
          0.00005808941634830089,
          0.00008283841924322417,
          0.00001986411250318591,
          0.000017680682647477998,
          0.00011550809998764995,
          0.000004846138597370888,
          0.0001751731778594224,
          0.00010229191794085481,
          3.1882477554135713e-7,
          0.000021361858721468046,
          0.0016176234962990222,
          0.000013678867749589572,
          0.0002802549352022831,
          0.00028617123494573897,
          0.00011550809998764995,
          0.0006235306674662434,
          0.00000942753927549726,
          0.000012369730237285812,
          0.000007727632079383899
         ]
        },
        {
         "name": "London Market",
         "type": "scatter",
         "x": [
          "2011Q1",
          "2011Q2",
          "2011Q3",
          "2011Q4",
          "2012Q1",
          "2012Q2",
          "2012Q3",
          "2012Q4",
          "2013Q1",
          "2013Q2",
          "2013Q3",
          "2013Q4",
          "2014Q1",
          "2014Q2",
          "2014Q3",
          "2014Q4",
          "2015Q1",
          "2015Q2",
          "2015Q3",
          "2015Q4",
          "2016Q1",
          "2016Q2",
          "2016Q3",
          "2016Q4",
          "2017Q1",
          "2017Q2",
          "2017Q3",
          "2017Q4",
          "2018Q1",
          "2018Q2",
          "2018Q3",
          "2018Q4",
          "2019Q1",
          "2019Q2",
          "2019Q3",
          "2019Q4",
          "2020Q1",
          "2020Q2",
          "2020Q3",
          "2020Q4",
          "2021Q1",
          "2021Q2",
          "2021Q3",
          "2021Q4"
         ],
         "y": [
          0.0002685843164281161,
          0.00006687587538354186,
          0.0006813573026006746,
          0.00002941209905565658,
          -0.000010858824544652094,
          0.00006687587538354186,
          0.000003215723908243018,
          0.000007221048356951833,
          0.000008751638171990343,
          0.00006687587538354186,
          0.000008835312829316612,
          0.00000868471573447494,
          0.000023564797603322642,
          0.00006687587538354186,
          0.00006687587538354186,
          0.00006687587538354186,
          0.0002285930114713108,
          0.00006687587538354186,
          0.00006687587538354186,
          0.0000016977361268751723,
          -0.0000030423969379320167,
          0.000008259597623087803,
          0.000017514832955942995,
          -0.00005157308933164323,
          0.00006687587538354186,
          -3.479859485266681e-7,
          -0.00001506098935412213,
          0.00006687587538354186,
          0.00006687587538354186,
          0.00006687587538354186,
          0.00019818986766526343,
          0.00006687587538354186,
          0.00006687587538354186,
          0.00006687587538354186,
          0.0000720595200406462,
          0.000029176519368495757,
          0.0001071193546488517,
          0.00006687587538354186,
          0.00003149892712965238,
          0.000006435071836205177,
          0.000012043922115818632,
          0.000017661552308421466,
          0.00011264538371983418,
          0.0000708855451568959
         ]
        },
        {
         "name": "Motor/Personal",
         "type": "scatter",
         "x": [
          "2011Q1",
          "2011Q2",
          "2011Q3",
          "2011Q4",
          "2012Q1",
          "2012Q2",
          "2012Q3",
          "2012Q4",
          "2013Q1",
          "2013Q2",
          "2013Q3",
          "2013Q4",
          "2014Q1",
          "2014Q2",
          "2014Q3",
          "2014Q4",
          "2015Q1",
          "2015Q2",
          "2015Q3",
          "2015Q4",
          "2016Q1",
          "2016Q2",
          "2016Q3",
          "2016Q4",
          "2017Q1",
          "2017Q2",
          "2017Q3",
          "2017Q4",
          "2018Q1",
          "2018Q2",
          "2018Q3",
          "2018Q4",
          "2019Q1",
          "2019Q2",
          "2019Q3",
          "2019Q4",
          "2020Q1",
          "2020Q2",
          "2020Q3",
          "2020Q4",
          "2021Q1",
          "2021Q2",
          "2021Q3",
          "2021Q4"
         ],
         "y": [
          0.0000022747806207508513,
          0.00006416386797142468,
          0.00006416386797142468,
          -6.747120858352357e-7,
          0.0000014864963114749385,
          0.00006416386797142468,
          0.00004715488249774225,
          0.00001535057224828032,
          0.000029285699269462496,
          0.00006416386797142468,
          0.00006416386797142468,
          0.00008387455718106629,
          0.00006416386797142468,
          0.00006416386797142468,
          0.000022902810346397045,
          0.00002633845642036527,
          0.00003288563514057717,
          0.0001739608527782914,
          0.000021322842045084267,
          0.00006416386797142468,
          0.00003855861549583923,
          0.0001425205698001677,
          0.000022019486314107156,
          0.00007666516096853714,
          0.0001238825730332943,
          0.00004715327314764495,
          0.00004055555364252904,
          0.00006416386797142468,
          0.000049882365527650094,
          0.00001390090627631997,
          0.000004607982181627041,
          0.00006416386797142468,
          0.00013573184571829202,
          0.0005023691962256139,
          0.00001288783549432145,
          0.000019068164754799258,
          0.000006452473061796033,
          0.00006416386797142468,
          0.00013894490106095483,
          0.00003245680024052143,
          0.00000662285565945995,
          0.00014744207081315494,
          0.000029853121112502074,
          0.00006966901975422475
         ]
        },
        {
         "name": "Other insurers",
         "type": "scatter",
         "x": [
          "2011Q1",
          "2011Q2",
          "2011Q3",
          "2011Q4",
          "2012Q1",
          "2012Q2",
          "2012Q3",
          "2012Q4",
          "2013Q1",
          "2013Q2",
          "2013Q3",
          "2013Q4",
          "2014Q1",
          "2014Q2",
          "2014Q3",
          "2014Q4",
          "2015Q1",
          "2015Q2",
          "2015Q3",
          "2015Q4",
          "2016Q1",
          "2016Q2",
          "2016Q3",
          "2016Q4",
          "2017Q1",
          "2017Q2",
          "2017Q3",
          "2017Q4",
          "2018Q1",
          "2018Q2",
          "2018Q3",
          "2018Q4",
          "2019Q1",
          "2019Q2",
          "2019Q3",
          "2019Q4",
          "2020Q1",
          "2020Q2",
          "2020Q3",
          "2020Q4",
          "2021Q1",
          "2021Q2",
          "2021Q3",
          "2021Q4"
         ],
         "y": [
          0.0001975125485653424,
          0.0002085571895332516,
          0.00001913509998895684,
          0.00008360949903540931,
          0.00006990076622606838,
          -0.000010324912523292438,
          0.00009640799432357446,
          0.000017637361391334363,
          0.0017748061047273957,
          0.00008670340463049129,
          0.0006241182359739809,
          0.0001058946795235455,
          -0.000011437222860451516,
          0.00013342405725829908,
          0.00016802652085145818,
          0.00001850872922208884,
          0.00005573924561687125,
          0.0002620857725488651,
          0.00019385691088338083,
          0.0005252126531763434,
          0.00005875660839015525,
          0.0002449221019375744,
          0.00007867532777327008,
          0.004253540469589581,
          0.006199034243435732,
          0.002824526153322032,
          0.00015784605141107782,
          0.00008564540768715759,
          0.00024449712229439194,
          0.0005024977020850792,
          0.0004762992820923243,
          0.00007805721613409227,
          0.00007708465440201813,
          0.00007922661382149006,
          -0.00004404860259861148,
          0.00014305180970566663,
          -0.00006002253996132136,
          0.00008276417384967813,
          0.000009464646266223772,
          0.0000620888367499849,
          0.000039646086486411335,
          0.00012500081038851896,
          0.00003503026912384674,
          0.00003411842282607152
         ]
        },
        {
         "name": "US - Specialty/P&C/Reinsurance",
         "type": "scatter",
         "x": [
          "2011Q1",
          "2011Q2",
          "2011Q3",
          "2011Q4",
          "2012Q1",
          "2012Q2",
          "2012Q3",
          "2012Q4",
          "2013Q1",
          "2013Q2",
          "2013Q3",
          "2013Q4",
          "2014Q1",
          "2014Q2",
          "2014Q3",
          "2014Q4",
          "2015Q1",
          "2015Q2",
          "2015Q3",
          "2015Q4",
          "2016Q1",
          "2016Q2",
          "2016Q3",
          "2016Q4",
          "2017Q1",
          "2017Q2",
          "2017Q3",
          "2017Q4",
          "2018Q1",
          "2018Q2",
          "2018Q3",
          "2018Q4",
          "2019Q1",
          "2019Q2",
          "2019Q3",
          "2019Q4",
          "2020Q1",
          "2020Q2",
          "2020Q3",
          "2020Q4",
          "2021Q1",
          "2021Q2",
          "2021Q3",
          "2021Q4"
         ],
         "y": [
          0.0005075511917062584,
          0.00017327074038328666,
          0.00017327074038328666,
          0.00004312342369879932,
          0.0005785460338955867,
          0.00017327074038328666,
          0.000018968286840070134,
          0.00011714021788497519,
          0.0001679163539787582,
          0.00020862137665943835,
          0.00002097789709051709,
          0.00006167108209495127,
          0.0000071099538267434,
          0.00004047521427335673,
          0.00004753549423607525,
          0.00005419198357226654,
          0.00024874586466972474,
          0.0000998043820827404,
          0.00014537173499020202,
          0.00003110164123158651,
          0.00007255267003485596,
          0.00002054690228702104,
          0.000033508799919917826,
          0.000010155006252016745,
          0.0000744463534517712,
          0.000035700847167708015,
          0.00002990528999758274,
          0.00002734695581563717,
          0.000021183884334669634,
          0.00007449446904074199,
          -0.00033927671730751374,
          0.00005956560815038896,
          0.00010932958976410601,
          0.0017616604803758176,
          0.00004369318781128829,
          0.00004274131131545952,
          0.000025427458081893807,
          0.0013559913518051009,
          0.0000825501849742897,
          0.000019254081493946986,
          0.0000265242058080296,
          0.0007696897797826205,
          0.000342023332487971,
          0.000006233190137381577
         ]
        },
        {
         "name": "Japanese & Pacific",
         "type": "scatter",
         "x": [
          "2011Q1",
          "2011Q2",
          "2011Q3",
          "2011Q4",
          "2012Q1",
          "2012Q2",
          "2012Q3",
          "2012Q4",
          "2013Q1",
          "2013Q2",
          "2013Q3",
          "2013Q4",
          "2014Q1",
          "2014Q2",
          "2014Q3",
          "2014Q4",
          "2015Q1",
          "2015Q2",
          "2015Q3",
          "2015Q4",
          "2016Q1",
          "2016Q2",
          "2016Q3",
          "2016Q4",
          "2017Q1",
          "2017Q2",
          "2017Q3",
          "2017Q4",
          "2018Q1",
          "2018Q2",
          "2018Q3",
          "2018Q4",
          "2019Q1",
          "2019Q2",
          "2019Q3",
          "2019Q4",
          "2020Q1",
          "2020Q2",
          "2020Q3",
          "2020Q4",
          "2021Q1",
          "2021Q2",
          "2021Q3",
          "2021Q4"
         ],
         "y": [
          -0.000058951970466866656,
          0.0001666679383305148,
          -0.000058951970466866656,
          0.001303183802291176,
          -0.000058951970466866656,
          0.00009549256109171972,
          -0.000058951970466866656,
          -0.00036302082751058255,
          -0.0003728420918275801,
          3.6358434053938523e-7,
          0.00000377500293204953,
          0.0000030219245047035923,
          0.00003750316624578905,
          0.0003779683902151889,
          0.0000024020546462305135,
          0.0001656069759862833,
          0.0002667232243451963,
          0.00017270373536228882,
          0.00008925506264442955,
          0.000747148113719639,
          -0.000058951970466866656,
          -0.0005053977369577386,
          -0.001833894999281121,
          0.00046716910095515165,
          -0.000058951970466866656,
          -0.0005977027662035922,
          -0.002617060153377962,
          0.0003352080272283517,
          -0.000058951970466866656,
          -0.00033148939769828356,
          0.00003127612830181828,
          0.0005629503664927797,
          -0.000058951970466866656,
          0.00015614204470154928,
          0.00003699263216528511,
          0.00012428008116081906,
          -0.000058951970466866656,
          -0.000446876305253067,
          0.00009423557342744701,
          -0.000058951970466866656,
          0.000003144050094070628,
          -0.00018371847568585174,
          0.0000014238303472571602,
          0.0000029983863920345434
         ]
        },
        {
         "name": "Run-off",
         "type": "scatter",
         "x": [
          "2011Q1",
          "2011Q2",
          "2011Q3",
          "2011Q4",
          "2012Q1",
          "2012Q2",
          "2012Q3",
          "2012Q4",
          "2013Q1",
          "2013Q2",
          "2013Q3",
          "2013Q4",
          "2014Q1",
          "2014Q2",
          "2014Q3",
          "2014Q4",
          "2015Q1",
          "2015Q2",
          "2015Q3",
          "2015Q4",
          "2016Q1",
          "2016Q2",
          "2016Q3",
          "2016Q4",
          "2017Q1",
          "2017Q2",
          "2017Q3",
          "2017Q4",
          "2018Q1",
          "2018Q2",
          "2018Q3",
          "2018Q4",
          "2019Q1",
          "2019Q2",
          "2019Q3",
          "2019Q4",
          "2020Q1",
          "2020Q2",
          "2020Q3",
          "2020Q4",
          "2021Q1",
          "2021Q2",
          "2021Q3",
          "2021Q4"
         ],
         "y": [
          0.00024886924649643885,
          0.0002481940107774618,
          0.001359583433290542,
          0.00007595737904039779,
          0.00019215357916206575,
          0.00024886924649643885,
          0.0005679472449518771,
          0.000009954568791009902,
          0.00013194645428013933,
          0.00002702539284621971,
          0.00009011013739189353,
          0.00024886924649643885,
          0.00003181775629682592,
          0.00027798152503716675,
          -1.9982205851533916e-7,
          0.000004244862606110585,
          0.00003093713435319763,
          0.0005745995858309676,
          0.00024886924649643885,
          0.0003742685716046754,
          0.00024886924649643885,
          0.00004569595872877331,
          0.0000280299297536887,
          0.0001108134899290634,
          0.00024886924649643885,
          0.00024886924649643885,
          0.00024886924649643885,
          0.0010028902094661386,
          0.0002178615262221164,
          0.0006231453752806196,
          0.00024886924649643885,
          0.00004231344592002293,
          0.00024886924649643885,
          0.00006464394208356837,
          0.00024886924649643885,
          0.00024886924649643885,
          0.00024886924649643885,
          0.00024886924649643885,
          0.00024886924649643885,
          0.00006395980109522873,
          0.000121915118752978,
          0.0007102305797534037,
          0.00014443257393551974,
          0.0000447543832735691
         ]
        },
        {
         "name": "European (Re)Insurers",
         "type": "scatter",
         "x": [
          "2011Q1",
          "2011Q2",
          "2011Q3",
          "2011Q4",
          "2012Q1",
          "2012Q2",
          "2012Q3",
          "2012Q4",
          "2013Q1",
          "2013Q2",
          "2013Q3",
          "2013Q4",
          "2014Q1",
          "2014Q2",
          "2014Q3",
          "2014Q4",
          "2015Q1",
          "2015Q2",
          "2015Q3",
          "2015Q4",
          "2016Q1",
          "2016Q2",
          "2016Q3",
          "2016Q4",
          "2017Q1",
          "2017Q2",
          "2017Q3",
          "2017Q4",
          "2018Q1",
          "2018Q2",
          "2018Q3",
          "2018Q4",
          "2019Q1",
          "2019Q2",
          "2019Q3",
          "2019Q4",
          "2020Q1",
          "2020Q2",
          "2020Q3",
          "2020Q4",
          "2021Q1",
          "2021Q2",
          "2021Q3",
          "2021Q4"
         ],
         "y": [
          0.00021716785847563622,
          0.00021716785847563622,
          0.00021716785847563622,
          0.00021716785847563622,
          0.00021716785847563622,
          0.00021716785847563622,
          0.00021716785847563622,
          0.00021716785847563622,
          0.00021716785847563622,
          0.00021716785847563622,
          0.00021716785847563622,
          0.00021716785847563622,
          0.00036375017610600384,
          0.00005319097180506777,
          0.000020153149270264804,
          0.00021716785847563622,
          0.00013946936923289296,
          0.00016703542511733367,
          0.00013263121915287616,
          -0.0005844991178101984,
          0.0004715045189741539,
          0.0008953865222113108,
          0.000045173831434424024,
          0.004380877533699945,
          0.0001244320746188796,
          0.000898922701199255,
          -0.004462828528245244,
          0.000022579633115386562,
          0.000611898151970503,
          0.000045795796585048945,
          0.00024465947460869874,
          0.001250484901206143,
          0.0003528460176878239,
          0.00024819736490201526,
          0.00035634718637175534,
          0.00003756694397249251,
          0.000007068869691854996,
          0.00021716785847563622,
          0.00018098687343030592,
          0.00008684351105144851,
          0.00001684711860625631,
          0.0001575552533497957,
          0.000019940713862410345,
          0.0002302180970901829
         ]
        },
        {
         "name": "Global Commercial",
         "type": "scatter",
         "x": [
          "2011Q1",
          "2011Q2",
          "2011Q3",
          "2011Q4",
          "2012Q1",
          "2012Q2",
          "2012Q3",
          "2012Q4",
          "2013Q1",
          "2013Q2",
          "2013Q3",
          "2013Q4",
          "2014Q1",
          "2014Q2",
          "2014Q3",
          "2014Q4",
          "2015Q1",
          "2015Q2",
          "2015Q3",
          "2015Q4",
          "2016Q1",
          "2016Q2",
          "2016Q3",
          "2016Q4",
          "2017Q1",
          "2017Q2",
          "2017Q3",
          "2017Q4",
          "2018Q1",
          "2018Q2",
          "2018Q3",
          "2018Q4",
          "2019Q1",
          "2019Q2",
          "2019Q3",
          "2019Q4",
          "2020Q1",
          "2020Q2",
          "2020Q3",
          "2020Q4",
          "2021Q1",
          "2021Q2",
          "2021Q3",
          "2021Q4"
         ],
         "y": [
          0.0005851533620486878,
          0.0005851533620486878,
          0.0005851533620486878,
          0.0005851533620486878,
          0.0005851533620486878,
          0.0005851533620486878,
          0.0005851533620486878,
          0.0005851533620486878,
          0.0005851533620486878,
          0.0005851533620486878,
          0.0005851533620486878,
          0.0005851533620486878,
          0.000025594381259085916,
          -1.7547937425799607e-8,
          0.00003675387546290302,
          0.000002900988716520574,
          0.0000635818687474885,
          0.0001014050009152382,
          0.0005876222917359526,
          0.00003992164305011452,
          0.00006057650832578486,
          0.00045642527384800026,
          0.0000026411416004080727,
          0.00015363001835037868,
          0.0004873084164952204,
          0.00004395530178016454,
          0.007138386847404071,
          0.00009206334313479066,
          0.004458875403680388,
          0.000052542231043761975,
          0.0000275446006581827,
          0.0003073240919314859,
          0.00007552977612805756,
          0.0005435606433979756,
          0.00010714074094823565,
          0.000020688569177340214,
          0.00025115275776815745,
          0.0005103826301711768,
          0.0005851533620486878,
          0.0017244665465842115,
          0.0001022674705774472,
          0.00008888736291375077,
          0.00009598964775317417,
          0.0004806523978872751
         ]
        },
        {
         "name": "LN Equity",
         "type": "scatter",
         "x": [
          "2011Q1",
          "2011Q2",
          "2011Q3",
          "2011Q4",
          "2012Q1",
          "2012Q2",
          "2012Q3",
          "2012Q4",
          "2013Q1",
          "2013Q2",
          "2013Q3",
          "2013Q4",
          "2014Q1",
          "2014Q2",
          "2014Q3",
          "2014Q4",
          "2015Q1",
          "2015Q2",
          "2015Q3",
          "2015Q4",
          "2016Q1",
          "2016Q2",
          "2016Q3",
          "2016Q4",
          "2017Q1",
          "2017Q2",
          "2017Q3",
          "2017Q4",
          "2018Q1",
          "2018Q2",
          "2018Q3",
          "2018Q4",
          "2019Q1",
          "2019Q2",
          "2019Q3",
          "2019Q4",
          "2020Q1",
          "2020Q2",
          "2020Q3",
          "2020Q4",
          "2021Q1",
          "2021Q2",
          "2021Q3",
          "2021Q4"
         ],
         "y": [
          0.00006467729399481991,
          0.00006467729399481991,
          0.00006467729399481991,
          0.00006467729399481991,
          0.00006467729399481991,
          0.00006467729399481991,
          0.00006467729399481991,
          0.00006467729399481991,
          0.00006467729399481991,
          0.00006467729399481991,
          0.00006467729399481991,
          0.00006467729399481991,
          0.00006467729399481991,
          0.00006467729399481991,
          0.00006467729399481991,
          0.00006467729399481991,
          0.00006467729399481991,
          0.00006467729399481991,
          0.00006467729399481991,
          0.00006467729399481991,
          0.00006467729399481991,
          0.00006467729399481991,
          0.00006467729399481991,
          0.00006467729399481991,
          0.00006467729399481991,
          0.00006467729399481991,
          0.00006467729399481991,
          0.00006467729399481991,
          0.00006467729399481991,
          0.00006467729399481991,
          0.00006467729399481991,
          0.00006467729399481991,
          0.00006467729399481991,
          0.00006467729399481991,
          0.00006467729399481991,
          0.00006467729399481991,
          0.00006467729399481991,
          0.00006467729399481991,
          0.00006467729399481991,
          0.00006467729399481991,
          0.00006467729399481991,
          0.00006467729399481991,
          0.00006467729399481991,
          0.00006467729399481991
         ]
        }
       ],
       "layout": {
        "template": {
         "data": {
          "bar": [
           {
            "error_x": {
             "color": "#2a3f5f"
            },
            "error_y": {
             "color": "#2a3f5f"
            },
            "marker": {
             "line": {
              "color": "#E5ECF6",
              "width": 0.5
             },
             "pattern": {
              "fillmode": "overlay",
              "size": 10,
              "solidity": 0.2
             }
            },
            "type": "bar"
           }
          ],
          "barpolar": [
           {
            "marker": {
             "line": {
              "color": "#E5ECF6",
              "width": 0.5
             },
             "pattern": {
              "fillmode": "overlay",
              "size": 10,
              "solidity": 0.2
             }
            },
            "type": "barpolar"
           }
          ],
          "carpet": [
           {
            "aaxis": {
             "endlinecolor": "#2a3f5f",
             "gridcolor": "white",
             "linecolor": "white",
             "minorgridcolor": "white",
             "startlinecolor": "#2a3f5f"
            },
            "baxis": {
             "endlinecolor": "#2a3f5f",
             "gridcolor": "white",
             "linecolor": "white",
             "minorgridcolor": "white",
             "startlinecolor": "#2a3f5f"
            },
            "type": "carpet"
           }
          ],
          "choropleth": [
           {
            "colorbar": {
             "outlinewidth": 0,
             "ticks": ""
            },
            "type": "choropleth"
           }
          ],
          "contour": [
           {
            "colorbar": {
             "outlinewidth": 0,
             "ticks": ""
            },
            "colorscale": [
             [
              0,
              "#0d0887"
             ],
             [
              0.1111111111111111,
              "#46039f"
             ],
             [
              0.2222222222222222,
              "#7201a8"
             ],
             [
              0.3333333333333333,
              "#9c179e"
             ],
             [
              0.4444444444444444,
              "#bd3786"
             ],
             [
              0.5555555555555556,
              "#d8576b"
             ],
             [
              0.6666666666666666,
              "#ed7953"
             ],
             [
              0.7777777777777778,
              "#fb9f3a"
             ],
             [
              0.8888888888888888,
              "#fdca26"
             ],
             [
              1,
              "#f0f921"
             ]
            ],
            "type": "contour"
           }
          ],
          "contourcarpet": [
           {
            "colorbar": {
             "outlinewidth": 0,
             "ticks": ""
            },
            "type": "contourcarpet"
           }
          ],
          "heatmap": [
           {
            "colorbar": {
             "outlinewidth": 0,
             "ticks": ""
            },
            "colorscale": [
             [
              0,
              "#0d0887"
             ],
             [
              0.1111111111111111,
              "#46039f"
             ],
             [
              0.2222222222222222,
              "#7201a8"
             ],
             [
              0.3333333333333333,
              "#9c179e"
             ],
             [
              0.4444444444444444,
              "#bd3786"
             ],
             [
              0.5555555555555556,
              "#d8576b"
             ],
             [
              0.6666666666666666,
              "#ed7953"
             ],
             [
              0.7777777777777778,
              "#fb9f3a"
             ],
             [
              0.8888888888888888,
              "#fdca26"
             ],
             [
              1,
              "#f0f921"
             ]
            ],
            "type": "heatmap"
           }
          ],
          "heatmapgl": [
           {
            "colorbar": {
             "outlinewidth": 0,
             "ticks": ""
            },
            "colorscale": [
             [
              0,
              "#0d0887"
             ],
             [
              0.1111111111111111,
              "#46039f"
             ],
             [
              0.2222222222222222,
              "#7201a8"
             ],
             [
              0.3333333333333333,
              "#9c179e"
             ],
             [
              0.4444444444444444,
              "#bd3786"
             ],
             [
              0.5555555555555556,
              "#d8576b"
             ],
             [
              0.6666666666666666,
              "#ed7953"
             ],
             [
              0.7777777777777778,
              "#fb9f3a"
             ],
             [
              0.8888888888888888,
              "#fdca26"
             ],
             [
              1,
              "#f0f921"
             ]
            ],
            "type": "heatmapgl"
           }
          ],
          "histogram": [
           {
            "marker": {
             "pattern": {
              "fillmode": "overlay",
              "size": 10,
              "solidity": 0.2
             }
            },
            "type": "histogram"
           }
          ],
          "histogram2d": [
           {
            "colorbar": {
             "outlinewidth": 0,
             "ticks": ""
            },
            "colorscale": [
             [
              0,
              "#0d0887"
             ],
             [
              0.1111111111111111,
              "#46039f"
             ],
             [
              0.2222222222222222,
              "#7201a8"
             ],
             [
              0.3333333333333333,
              "#9c179e"
             ],
             [
              0.4444444444444444,
              "#bd3786"
             ],
             [
              0.5555555555555556,
              "#d8576b"
             ],
             [
              0.6666666666666666,
              "#ed7953"
             ],
             [
              0.7777777777777778,
              "#fb9f3a"
             ],
             [
              0.8888888888888888,
              "#fdca26"
             ],
             [
              1,
              "#f0f921"
             ]
            ],
            "type": "histogram2d"
           }
          ],
          "histogram2dcontour": [
           {
            "colorbar": {
             "outlinewidth": 0,
             "ticks": ""
            },
            "colorscale": [
             [
              0,
              "#0d0887"
             ],
             [
              0.1111111111111111,
              "#46039f"
             ],
             [
              0.2222222222222222,
              "#7201a8"
             ],
             [
              0.3333333333333333,
              "#9c179e"
             ],
             [
              0.4444444444444444,
              "#bd3786"
             ],
             [
              0.5555555555555556,
              "#d8576b"
             ],
             [
              0.6666666666666666,
              "#ed7953"
             ],
             [
              0.7777777777777778,
              "#fb9f3a"
             ],
             [
              0.8888888888888888,
              "#fdca26"
             ],
             [
              1,
              "#f0f921"
             ]
            ],
            "type": "histogram2dcontour"
           }
          ],
          "mesh3d": [
           {
            "colorbar": {
             "outlinewidth": 0,
             "ticks": ""
            },
            "type": "mesh3d"
           }
          ],
          "parcoords": [
           {
            "line": {
             "colorbar": {
              "outlinewidth": 0,
              "ticks": ""
             }
            },
            "type": "parcoords"
           }
          ],
          "pie": [
           {
            "automargin": true,
            "type": "pie"
           }
          ],
          "scatter": [
           {
            "fillpattern": {
             "fillmode": "overlay",
             "size": 10,
             "solidity": 0.2
            },
            "type": "scatter"
           }
          ],
          "scatter3d": [
           {
            "line": {
             "colorbar": {
              "outlinewidth": 0,
              "ticks": ""
             }
            },
            "marker": {
             "colorbar": {
              "outlinewidth": 0,
              "ticks": ""
             }
            },
            "type": "scatter3d"
           }
          ],
          "scattercarpet": [
           {
            "marker": {
             "colorbar": {
              "outlinewidth": 0,
              "ticks": ""
             }
            },
            "type": "scattercarpet"
           }
          ],
          "scattergeo": [
           {
            "marker": {
             "colorbar": {
              "outlinewidth": 0,
              "ticks": ""
             }
            },
            "type": "scattergeo"
           }
          ],
          "scattergl": [
           {
            "marker": {
             "colorbar": {
              "outlinewidth": 0,
              "ticks": ""
             }
            },
            "type": "scattergl"
           }
          ],
          "scattermapbox": [
           {
            "marker": {
             "colorbar": {
              "outlinewidth": 0,
              "ticks": ""
             }
            },
            "type": "scattermapbox"
           }
          ],
          "scatterpolar": [
           {
            "marker": {
             "colorbar": {
              "outlinewidth": 0,
              "ticks": ""
             }
            },
            "type": "scatterpolar"
           }
          ],
          "scatterpolargl": [
           {
            "marker": {
             "colorbar": {
              "outlinewidth": 0,
              "ticks": ""
             }
            },
            "type": "scatterpolargl"
           }
          ],
          "scatterternary": [
           {
            "marker": {
             "colorbar": {
              "outlinewidth": 0,
              "ticks": ""
             }
            },
            "type": "scatterternary"
           }
          ],
          "surface": [
           {
            "colorbar": {
             "outlinewidth": 0,
             "ticks": ""
            },
            "colorscale": [
             [
              0,
              "#0d0887"
             ],
             [
              0.1111111111111111,
              "#46039f"
             ],
             [
              0.2222222222222222,
              "#7201a8"
             ],
             [
              0.3333333333333333,
              "#9c179e"
             ],
             [
              0.4444444444444444,
              "#bd3786"
             ],
             [
              0.5555555555555556,
              "#d8576b"
             ],
             [
              0.6666666666666666,
              "#ed7953"
             ],
             [
              0.7777777777777778,
              "#fb9f3a"
             ],
             [
              0.8888888888888888,
              "#fdca26"
             ],
             [
              1,
              "#f0f921"
             ]
            ],
            "type": "surface"
           }
          ],
          "table": [
           {
            "cells": {
             "fill": {
              "color": "#EBF0F8"
             },
             "line": {
              "color": "white"
             }
            },
            "header": {
             "fill": {
              "color": "#C8D4E3"
             },
             "line": {
              "color": "white"
             }
            },
            "type": "table"
           }
          ]
         },
         "layout": {
          "annotationdefaults": {
           "arrowcolor": "#2a3f5f",
           "arrowhead": 0,
           "arrowwidth": 1
          },
          "autotypenumbers": "strict",
          "coloraxis": {
           "colorbar": {
            "outlinewidth": 0,
            "ticks": ""
           }
          },
          "colorscale": {
           "diverging": [
            [
             0,
             "#8e0152"
            ],
            [
             0.1,
             "#c51b7d"
            ],
            [
             0.2,
             "#de77ae"
            ],
            [
             0.3,
             "#f1b6da"
            ],
            [
             0.4,
             "#fde0ef"
            ],
            [
             0.5,
             "#f7f7f7"
            ],
            [
             0.6,
             "#e6f5d0"
            ],
            [
             0.7,
             "#b8e186"
            ],
            [
             0.8,
             "#7fbc41"
            ],
            [
             0.9,
             "#4d9221"
            ],
            [
             1,
             "#276419"
            ]
           ],
           "sequential": [
            [
             0,
             "#0d0887"
            ],
            [
             0.1111111111111111,
             "#46039f"
            ],
            [
             0.2222222222222222,
             "#7201a8"
            ],
            [
             0.3333333333333333,
             "#9c179e"
            ],
            [
             0.4444444444444444,
             "#bd3786"
            ],
            [
             0.5555555555555556,
             "#d8576b"
            ],
            [
             0.6666666666666666,
             "#ed7953"
            ],
            [
             0.7777777777777778,
             "#fb9f3a"
            ],
            [
             0.8888888888888888,
             "#fdca26"
            ],
            [
             1,
             "#f0f921"
            ]
           ],
           "sequentialminus": [
            [
             0,
             "#0d0887"
            ],
            [
             0.1111111111111111,
             "#46039f"
            ],
            [
             0.2222222222222222,
             "#7201a8"
            ],
            [
             0.3333333333333333,
             "#9c179e"
            ],
            [
             0.4444444444444444,
             "#bd3786"
            ],
            [
             0.5555555555555556,
             "#d8576b"
            ],
            [
             0.6666666666666666,
             "#ed7953"
            ],
            [
             0.7777777777777778,
             "#fb9f3a"
            ],
            [
             0.8888888888888888,
             "#fdca26"
            ],
            [
             1,
             "#f0f921"
            ]
           ]
          },
          "colorway": [
           "#636efa",
           "#EF553B",
           "#00cc96",
           "#ab63fa",
           "#FFA15A",
           "#19d3f3",
           "#FF6692",
           "#B6E880",
           "#FF97FF",
           "#FECB52"
          ],
          "font": {
           "color": "#2a3f5f"
          },
          "geo": {
           "bgcolor": "white",
           "lakecolor": "white",
           "landcolor": "#E5ECF6",
           "showlakes": true,
           "showland": true,
           "subunitcolor": "white"
          },
          "hoverlabel": {
           "align": "left"
          },
          "hovermode": "closest",
          "mapbox": {
           "style": "light"
          },
          "paper_bgcolor": "white",
          "plot_bgcolor": "#E5ECF6",
          "polar": {
           "angularaxis": {
            "gridcolor": "white",
            "linecolor": "white",
            "ticks": ""
           },
           "bgcolor": "#E5ECF6",
           "radialaxis": {
            "gridcolor": "white",
            "linecolor": "white",
            "ticks": ""
           }
          },
          "scene": {
           "xaxis": {
            "backgroundcolor": "#E5ECF6",
            "gridcolor": "white",
            "gridwidth": 2,
            "linecolor": "white",
            "showbackground": true,
            "ticks": "",
            "zerolinecolor": "white"
           },
           "yaxis": {
            "backgroundcolor": "#E5ECF6",
            "gridcolor": "white",
            "gridwidth": 2,
            "linecolor": "white",
            "showbackground": true,
            "ticks": "",
            "zerolinecolor": "white"
           },
           "zaxis": {
            "backgroundcolor": "#E5ECF6",
            "gridcolor": "white",
            "gridwidth": 2,
            "linecolor": "white",
            "showbackground": true,
            "ticks": "",
            "zerolinecolor": "white"
           }
          },
          "shapedefaults": {
           "line": {
            "color": "#2a3f5f"
           }
          },
          "ternary": {
           "aaxis": {
            "gridcolor": "white",
            "linecolor": "white",
            "ticks": ""
           },
           "baxis": {
            "gridcolor": "white",
            "linecolor": "white",
            "ticks": ""
           },
           "bgcolor": "#E5ECF6",
           "caxis": {
            "gridcolor": "white",
            "linecolor": "white",
            "ticks": ""
           }
          },
          "title": {
           "x": 0.05
          },
          "xaxis": {
           "automargin": true,
           "gridcolor": "white",
           "linecolor": "white",
           "ticks": "",
           "title": {
            "standoff": 15
           },
           "zerolinecolor": "white",
           "zerolinewidth": 2
          },
          "yaxis": {
           "automargin": true,
           "gridcolor": "white",
           "linecolor": "white",
           "ticks": "",
           "title": {
            "standoff": 15
           },
           "zerolinecolor": "white",
           "zerolinewidth": 2
          }
         }
        },
        "title": {
         "text": "sentiment_topic_11 by Group"
        },
        "xaxis": {
         "rangeslider": {
          "visible": true
         },
         "ticktext": [
          "2011Q1",
          "2011Q2",
          "2011Q3",
          "2011Q4",
          "2012Q1",
          "2012Q2",
          "2012Q3",
          "2012Q4",
          "2013Q1",
          "2013Q2",
          "2013Q3",
          "2013Q4",
          "2014Q1",
          "2014Q2",
          "2014Q3",
          "2014Q4",
          "2015Q1",
          "2015Q2",
          "2015Q3",
          "2015Q4",
          "2016Q1",
          "2016Q2",
          "2016Q3",
          "2016Q4",
          "2017Q1",
          "2017Q2",
          "2017Q3",
          "2017Q4",
          "2018Q1",
          "2018Q2",
          "2018Q3",
          "2018Q4",
          "2019Q1",
          "2019Q2",
          "2019Q3",
          "2019Q4",
          "2020Q1",
          "2020Q2",
          "2020Q3",
          "2020Q4",
          "2021Q1",
          "2021Q2",
          "2021Q3",
          "2021Q4"
         ],
         "tickvals": [
          "2011Q1",
          "2011Q2",
          "2011Q3",
          "2011Q4",
          "2012Q1",
          "2012Q2",
          "2012Q3",
          "2012Q4",
          "2013Q1",
          "2013Q2",
          "2013Q3",
          "2013Q4",
          "2014Q1",
          "2014Q2",
          "2014Q3",
          "2014Q4",
          "2015Q1",
          "2015Q2",
          "2015Q3",
          "2015Q4",
          "2016Q1",
          "2016Q2",
          "2016Q3",
          "2016Q4",
          "2017Q1",
          "2017Q2",
          "2017Q3",
          "2017Q4",
          "2018Q1",
          "2018Q2",
          "2018Q3",
          "2018Q4",
          "2019Q1",
          "2019Q2",
          "2019Q3",
          "2019Q4",
          "2020Q1",
          "2020Q2",
          "2020Q3",
          "2020Q4",
          "2021Q1",
          "2021Q2",
          "2021Q3",
          "2021Q4"
         ],
         "title": {
          "text": "year_quater"
         }
        },
        "yaxis": {
         "title": {
          "text": "sentiment_topic_11"
         }
        }
       }
      }
     },
     "metadata": {},
     "output_type": "display_data"
    }
   ],
   "source": [
    "import plotly.express as px\n",
    "import plotly.graph_objects as go\n",
    "Group = df_MD_same_groupby['Group'].unique().tolist()\n",
    "# df_MD_same_group_tp2[\"year_quater\"] to str\n",
    "df_MD_same_group_tp11[\"year_quater\"] = df_MD_same_group_tp11[\"year_quater\"].astype(str)\n",
    "fig_size = (30, 10)\n",
    "fig = go.Figure()\n",
    "for i in Group:\n",
    "    df_tmp = df_MD_same_group_tp11[['year_quater', i]]\n",
    "    # # sort by year_quater\n",
    "    # df_tmp = df_tmp.sort_values(by='year_quater')\n",
    "    # df_tmp.reset_index(drop=True, inplace=True)\n",
    "    # plot the line\n",
    "    fig.add_trace(go.Line(\n",
    "        x=df_tmp['year_quater'],\n",
    "        y=df_tmp[i], \n",
    "        name=i)\n",
    "        )\n",
    "fig.update_layout(title='sentiment_topic_11 by Group', xaxis_title='year_quater', yaxis_title='sentiment_topic_11')\n",
    "# update the ticker by df_MD_same_group_tp2['year_quater'] with same wide\n",
    "fig.update_xaxes(tickvals=df_MD_same_group_tp11['year_quater'], ticktext=df_MD_same_group_tp11['year_quater'])\n",
    "\n",
    "# df_MD_same_group_tp11['year_quater'] = pd.to_datetime(df_MD_same_group_tp11['year_quater'])\n",
    "# Add range slider\n",
    "fig.update_layout(\n",
    "    xaxis_rangeslider_visible=True,\n",
    ")\n",
    "\n",
    "fig.show()\n",
    "\n",
    "# 2016 European floods\n",
    "# 2011 Tōhoku earthquake and tsunami"
   ]
  },
  {
   "cell_type": "code",
   "execution_count": 28,
   "metadata": {},
   "outputs": [
    {
     "data": {
      "text/plain": [
       "['SCOR SE-', 'Munich Re-', 'Swiss Re', 'Hannover Rueck']"
      ]
     },
     "execution_count": 28,
     "metadata": {},
     "output_type": "execute_result"
    }
   ],
   "source": [
    "EU_group = tp_df_MD22_wa_files[tp_df_MD22_wa_files['Group']==\"European (Re)Insurers\"]\n",
    "EU_group_tickers= EU_group.company_name\t.unique().tolist()\n",
    "EU_group_tickers"
   ]
  },
  {
   "cell_type": "code",
   "execution_count": 34,
   "metadata": {},
   "outputs": [
    {
     "data": {
      "text/html": [
       "<div>\n",
       "<style scoped>\n",
       "    .dataframe tbody tr th:only-of-type {\n",
       "        vertical-align: middle;\n",
       "    }\n",
       "\n",
       "    .dataframe tbody tr th {\n",
       "        vertical-align: top;\n",
       "    }\n",
       "\n",
       "    .dataframe thead th {\n",
       "        text-align: right;\n",
       "    }\n",
       "</style>\n",
       "<table border=\"1\" class=\"dataframe\">\n",
       "  <thead>\n",
       "    <tr style=\"text-align: right;\">\n",
       "      <th></th>\n",
       "      <th>participants</th>\n",
       "      <th>file_name</th>\n",
       "      <th>date</th>\n",
       "      <th>idx</th>\n",
       "      <th>company_paticipants_yes</th>\n",
       "      <th>other_paticipants_yes</th>\n",
       "      <th>company_name</th>\n",
       "      <th>paraghrph</th>\n",
       "      <th>paraghrph_clean</th>\n",
       "      <th>paraghrph_noun</th>\n",
       "      <th>token</th>\n",
       "      <th>word_count</th>\n",
       "      <th>char_count</th>\n",
       "      <th>sentence_count</th>\n",
       "      <th>avg_word_length</th>\n",
       "      <th>avg_sentence_length</th>\n",
       "      <th>topic_1</th>\n",
       "      <th>topic_2</th>\n",
       "      <th>topic_3</th>\n",
       "      <th>topic_4</th>\n",
       "      <th>topic_5</th>\n",
       "      <th>topic_6</th>\n",
       "      <th>topic_7</th>\n",
       "      <th>topic_8</th>\n",
       "      <th>topic_9</th>\n",
       "      <th>topic_10</th>\n",
       "      <th>topic_11</th>\n",
       "      <th>topic_12</th>\n",
       "    </tr>\n",
       "  </thead>\n",
       "  <tbody>\n",
       "    <tr>\n",
       "      <th>0</th>\n",
       "      <td>Operator</td>\n",
       "      <td>20161103_Swiss_Re_AG-_Earnings_Call_2016-11-3_...</td>\n",
       "      <td>2016-11-03</td>\n",
       "      <td>0.0</td>\n",
       "      <td>1</td>\n",
       "      <td>1</td>\n",
       "      <td>Swiss Re</td>\n",
       "      <td>Good morning or good afternoon. Welcome to Swi...</td>\n",
       "      <td>Good morning or good afternoon Welcome to Swis...</td>\n",
       "      <td>morning afternoon call today conference call t...</td>\n",
       "      <td>[]</td>\n",
       "      <td>6</td>\n",
       "      <td>45</td>\n",
       "      <td>6</td>\n",
       "      <td>7.500000</td>\n",
       "      <td>1.000000</td>\n",
       "      <td>0.067120</td>\n",
       "      <td>0.031754</td>\n",
       "      <td>0.073851</td>\n",
       "      <td>0.044324</td>\n",
       "      <td>0.033697</td>\n",
       "      <td>0.044729</td>\n",
       "      <td>0.107323</td>\n",
       "      <td>0.056996</td>\n",
       "      <td>0.079961</td>\n",
       "      <td>0.041421</td>\n",
       "      <td>0.392546</td>\n",
       "      <td>0.026278</td>\n",
       "    </tr>\n",
       "    <tr>\n",
       "      <th>1</th>\n",
       "      <td>David Cole</td>\n",
       "      <td>20161103_Swiss_Re_AG-_Earnings_Call_2016-11-3_...</td>\n",
       "      <td>2016-11-03</td>\n",
       "      <td>5.0</td>\n",
       "      <td>1</td>\n",
       "      <td>0</td>\n",
       "      <td>Swiss Re</td>\n",
       "      <td>7251632  Good morning or good afternoon, ever...</td>\n",
       "      <td>Good morning or good afternoon everyone and...</td>\n",
       "      <td>morning afternoon q result conference call tod...</td>\n",
       "      <td>['ippe', 'overview', 'porate', 'generation', '...</td>\n",
       "      <td>42</td>\n",
       "      <td>298</td>\n",
       "      <td>18</td>\n",
       "      <td>7.095238</td>\n",
       "      <td>2.333333</td>\n",
       "      <td>0.012843</td>\n",
       "      <td>0.006076</td>\n",
       "      <td>0.283684</td>\n",
       "      <td>0.008481</td>\n",
       "      <td>0.006448</td>\n",
       "      <td>0.008558</td>\n",
       "      <td>0.020535</td>\n",
       "      <td>0.010906</td>\n",
       "      <td>0.352242</td>\n",
       "      <td>0.007925</td>\n",
       "      <td>0.277275</td>\n",
       "      <td>0.005028</td>\n",
       "    </tr>\n",
       "    <tr>\n",
       "      <th>2</th>\n",
       "      <td>Karl Steinle</td>\n",
       "      <td>20161020_Hannover_Rueck_SE-_Guidance_Call_2016...</td>\n",
       "      <td>2016-10-20</td>\n",
       "      <td>0.0</td>\n",
       "      <td>1</td>\n",
       "      <td>0</td>\n",
       "      <td>Hannover Rueck</td>\n",
       "      <td>1986424  Good morning, to all of you. Welcome...</td>\n",
       "      <td>Good morning to all of you Welcome to nover...</td>\n",
       "      <td>morning Re s name invitation event schedule ev...</td>\n",
       "      <td>['invitation', 'schedule', 'pleasure', 'yester...</td>\n",
       "      <td>97</td>\n",
       "      <td>638</td>\n",
       "      <td>39</td>\n",
       "      <td>6.577320</td>\n",
       "      <td>2.487179</td>\n",
       "      <td>0.018083</td>\n",
       "      <td>0.001369</td>\n",
       "      <td>0.231012</td>\n",
       "      <td>0.001911</td>\n",
       "      <td>0.001453</td>\n",
       "      <td>0.017117</td>\n",
       "      <td>0.156513</td>\n",
       "      <td>0.260662</td>\n",
       "      <td>0.018637</td>\n",
       "      <td>0.001786</td>\n",
       "      <td>0.275133</td>\n",
       "      <td>0.016322</td>\n",
       "    </tr>\n",
       "    <tr>\n",
       "      <th>3</th>\n",
       "      <td>Bertrand Bougon</td>\n",
       "      <td>20161027_SCOR_SE-_Earnings_Call_2016-10-27_FS0...</td>\n",
       "      <td>2016-10-27</td>\n",
       "      <td>7.0</td>\n",
       "      <td>1</td>\n",
       "      <td>0</td>\n",
       "      <td>SCOR SE-</td>\n",
       "      <td>18934799  Thank you. Good morning, everyone, ...</td>\n",
       "      <td>Thank you Good morning everyone and thank y...</td>\n",
       "      <td>morning quer result conf call presentation dis...</td>\n",
       "      <td>['conf', 'disclaimer', 'figure', 'floor']</td>\n",
       "      <td>8</td>\n",
       "      <td>54</td>\n",
       "      <td>6</td>\n",
       "      <td>6.750000</td>\n",
       "      <td>1.333333</td>\n",
       "      <td>0.032637</td>\n",
       "      <td>0.186692</td>\n",
       "      <td>0.035909</td>\n",
       "      <td>0.021552</td>\n",
       "      <td>0.016385</td>\n",
       "      <td>0.021749</td>\n",
       "      <td>0.052185</td>\n",
       "      <td>0.370218</td>\n",
       "      <td>0.038881</td>\n",
       "      <td>0.020141</td>\n",
       "      <td>0.190874</td>\n",
       "      <td>0.012778</td>\n",
       "    </tr>\n",
       "    <tr>\n",
       "      <th>4</th>\n",
       "      <td>Christian Becker-Hussong</td>\n",
       "      <td>20161109_Munich_Re-_Earnings_Call_2016-11-9_FS...</td>\n",
       "      <td>2016-11-09</td>\n",
       "      <td>4.0</td>\n",
       "      <td>1</td>\n",
       "      <td>0</td>\n",
       "      <td>Munich Re-</td>\n",
       "      <td>19080254  Yeah, thank you, Lisa. Good afterno...</td>\n",
       "      <td>Yeah thank you Lisa Good afternoon everyone...</td>\n",
       "      <td>afternoon quer earning call speaker introducti...</td>\n",
       "      <td>['speaker', 'introduction', 'maximum', 'person']</td>\n",
       "      <td>9</td>\n",
       "      <td>63</td>\n",
       "      <td>8</td>\n",
       "      <td>7.000000</td>\n",
       "      <td>1.125000</td>\n",
       "      <td>0.032637</td>\n",
       "      <td>0.015440</td>\n",
       "      <td>0.035909</td>\n",
       "      <td>0.021552</td>\n",
       "      <td>0.016385</td>\n",
       "      <td>0.021749</td>\n",
       "      <td>0.052185</td>\n",
       "      <td>0.541469</td>\n",
       "      <td>0.038881</td>\n",
       "      <td>0.020141</td>\n",
       "      <td>0.190874</td>\n",
       "      <td>0.012778</td>\n",
       "    </tr>\n",
       "  </tbody>\n",
       "</table>\n",
       "</div>"
      ],
      "text/plain": [
       "               participants  \\\n",
       "0                  Operator   \n",
       "1                David Cole   \n",
       "2              Karl Steinle   \n",
       "3           Bertrand Bougon   \n",
       "4  Christian Becker-Hussong   \n",
       "\n",
       "                                           file_name        date  idx  \\\n",
       "0  20161103_Swiss_Re_AG-_Earnings_Call_2016-11-3_...  2016-11-03  0.0   \n",
       "1  20161103_Swiss_Re_AG-_Earnings_Call_2016-11-3_...  2016-11-03  5.0   \n",
       "2  20161020_Hannover_Rueck_SE-_Guidance_Call_2016...  2016-10-20  0.0   \n",
       "3  20161027_SCOR_SE-_Earnings_Call_2016-10-27_FS0...  2016-10-27  7.0   \n",
       "4  20161109_Munich_Re-_Earnings_Call_2016-11-9_FS...  2016-11-09  4.0   \n",
       "\n",
       "   company_paticipants_yes  other_paticipants_yes    company_name  \\\n",
       "0                        1                      1        Swiss Re   \n",
       "1                        1                      0        Swiss Re   \n",
       "2                        1                      0  Hannover Rueck   \n",
       "3                        1                      0        SCOR SE-   \n",
       "4                        1                      0      Munich Re-   \n",
       "\n",
       "                                           paraghrph  \\\n",
       "0  Good morning or good afternoon. Welcome to Swi...   \n",
       "1   7251632  Good morning or good afternoon, ever...   \n",
       "2   1986424  Good morning, to all of you. Welcome...   \n",
       "3   18934799  Thank you. Good morning, everyone, ...   \n",
       "4   19080254  Yeah, thank you, Lisa. Good afterno...   \n",
       "\n",
       "                                     paraghrph_clean  \\\n",
       "0  Good morning or good afternoon Welcome to Swis...   \n",
       "1     Good morning or good afternoon everyone and...   \n",
       "2     Good morning to all of you Welcome to nover...   \n",
       "3     Thank you Good morning everyone and thank y...   \n",
       "4     Yeah thank you Lisa Good afternoon everyone...   \n",
       "\n",
       "                                      paraghrph_noun  \\\n",
       "0  morning afternoon call today conference call t...   \n",
       "1  morning afternoon q result conference call tod...   \n",
       "2  morning Re s name invitation event schedule ev...   \n",
       "3  morning quer result conf call presentation dis...   \n",
       "4  afternoon quer earning call speaker introducti...   \n",
       "\n",
       "                                               token  word_count  char_count  \\\n",
       "0                                                 []           6          45   \n",
       "1  ['ippe', 'overview', 'porate', 'generation', '...          42         298   \n",
       "2  ['invitation', 'schedule', 'pleasure', 'yester...          97         638   \n",
       "3          ['conf', 'disclaimer', 'figure', 'floor']           8          54   \n",
       "4   ['speaker', 'introduction', 'maximum', 'person']           9          63   \n",
       "\n",
       "   sentence_count  avg_word_length  avg_sentence_length   topic_1   topic_2  \\\n",
       "0               6         7.500000             1.000000  0.067120  0.031754   \n",
       "1              18         7.095238             2.333333  0.012843  0.006076   \n",
       "2              39         6.577320             2.487179  0.018083  0.001369   \n",
       "3               6         6.750000             1.333333  0.032637  0.186692   \n",
       "4               8         7.000000             1.125000  0.032637  0.015440   \n",
       "\n",
       "    topic_3   topic_4   topic_5   topic_6   topic_7   topic_8   topic_9  \\\n",
       "0  0.073851  0.044324  0.033697  0.044729  0.107323  0.056996  0.079961   \n",
       "1  0.283684  0.008481  0.006448  0.008558  0.020535  0.010906  0.352242   \n",
       "2  0.231012  0.001911  0.001453  0.017117  0.156513  0.260662  0.018637   \n",
       "3  0.035909  0.021552  0.016385  0.021749  0.052185  0.370218  0.038881   \n",
       "4  0.035909  0.021552  0.016385  0.021749  0.052185  0.541469  0.038881   \n",
       "\n",
       "   topic_10  topic_11  topic_12  \n",
       "0  0.041421  0.392546  0.026278  \n",
       "1  0.007925  0.277275  0.005028  \n",
       "2  0.001786  0.275133  0.016322  \n",
       "3  0.020141  0.190874  0.012778  \n",
       "4  0.020141  0.190874  0.012778  "
      ]
     },
     "execution_count": 34,
     "metadata": {},
     "output_type": "execute_result"
    }
   ],
   "source": [
    "# tp_df_MD22_paragraph['company_name'] is in any of EU_group_tickers\n",
    "EU_tp11 = tp_df_MD22_paragraph[tp_df_MD22_paragraph['company_name'].isin(EU_group_tickers)]\n",
    "# EU_tp11['date'] from 2016-10-01 to 2016-12-31\n",
    "EU_tp11 = EU_tp11[EU_tp11['date']>='2016-10-01']\n",
    "EU_tp11 = EU_tp11[EU_tp11['date']<='2016-12-31']\n",
    "# EU_tp11 sort by the EU_tp11['topic_11']\n",
    "EU_tp11.sort_values(by='topic_11', ascending=False, inplace=True)\n",
    "EU_tp11.reset_index(drop=True, inplace=True)\n",
    "EU_tp11.head()"
   ]
  },
  {
   "cell_type": "code",
   "execution_count": 35,
   "metadata": {},
   "outputs": [],
   "source": [
    "# EU_tp11 to csv\n",
    "EU_tp11.to_csv('EU_tp11.csv', index=False)"
   ]
  },
  {
   "cell_type": "code",
   "execution_count": 14,
   "metadata": {},
   "outputs": [
    {
     "name": "stderr",
     "output_type": "stream",
     "text": [
      "/var/folders/sq/sxhsy98j6f57m406rd5lz1_r0000gn/T/ipykernel_1235/3654693625.py:17: FutureWarning:\n",
      "\n",
      "Dropping of nuisance columns in DataFrame reductions (with 'numeric_only=None') is deprecated; in a future version this will raise TypeError.  Select only valid columns before calling the reduction.\n",
      "\n"
     ]
    },
    {
     "data": {
      "text/html": [
       "<div>\n",
       "<style scoped>\n",
       "    .dataframe tbody tr th:only-of-type {\n",
       "        vertical-align: middle;\n",
       "    }\n",
       "\n",
       "    .dataframe tbody tr th {\n",
       "        vertical-align: top;\n",
       "    }\n",
       "\n",
       "    .dataframe thead th {\n",
       "        text-align: right;\n",
       "    }\n",
       "</style>\n",
       "<table border=\"1\" class=\"dataframe\">\n",
       "  <thead>\n",
       "    <tr style=\"text-align: right;\">\n",
       "      <th></th>\n",
       "      <th>year_quater</th>\n",
       "      <th>Life Groups &amp; Retail Life</th>\n",
       "      <th>London Market</th>\n",
       "      <th>Motor/Personal</th>\n",
       "      <th>Other insurers</th>\n",
       "      <th>US - Specialty/P&amp;C/Reinsurance</th>\n",
       "      <th>Japanese &amp; Pacific</th>\n",
       "      <th>Run-off</th>\n",
       "      <th>European (Re)Insurers</th>\n",
       "      <th>Global Commercial</th>\n",
       "      <th>LN Equity</th>\n",
       "    </tr>\n",
       "  </thead>\n",
       "  <tbody>\n",
       "    <tr>\n",
       "      <th>0</th>\n",
       "      <td>2011Q1</td>\n",
       "      <td>4.785078e-07</td>\n",
       "      <td>0.000180</td>\n",
       "      <td>1.957220e-07</td>\n",
       "      <td>0.000092</td>\n",
       "      <td>0.000160</td>\n",
       "      <td>0.000025</td>\n",
       "      <td>0.000170</td>\n",
       "      <td>0.000157</td>\n",
       "      <td>0.000563</td>\n",
       "      <td>0.000018</td>\n",
       "    </tr>\n",
       "    <tr>\n",
       "      <th>1</th>\n",
       "      <td>2011Q2</td>\n",
       "      <td>1.691848e-04</td>\n",
       "      <td>0.000075</td>\n",
       "      <td>1.696496e-04</td>\n",
       "      <td>0.000174</td>\n",
       "      <td>0.000124</td>\n",
       "      <td>0.000123</td>\n",
       "      <td>0.000023</td>\n",
       "      <td>0.000157</td>\n",
       "      <td>0.000563</td>\n",
       "      <td>0.000018</td>\n",
       "    </tr>\n",
       "    <tr>\n",
       "      <th>2</th>\n",
       "      <td>2011Q3</td>\n",
       "      <td>2.128910e-06</td>\n",
       "      <td>0.000022</td>\n",
       "      <td>1.696496e-04</td>\n",
       "      <td>0.000522</td>\n",
       "      <td>0.000124</td>\n",
       "      <td>0.000025</td>\n",
       "      <td>0.000079</td>\n",
       "      <td>0.000157</td>\n",
       "      <td>0.000563</td>\n",
       "      <td>0.000018</td>\n",
       "    </tr>\n",
       "    <tr>\n",
       "      <th>3</th>\n",
       "      <td>2011Q4</td>\n",
       "      <td>1.260121e-06</td>\n",
       "      <td>0.000012</td>\n",
       "      <td>-5.634142e-07</td>\n",
       "      <td>0.000058</td>\n",
       "      <td>0.000006</td>\n",
       "      <td>0.000011</td>\n",
       "      <td>0.000008</td>\n",
       "      <td>0.000157</td>\n",
       "      <td>0.000563</td>\n",
       "      <td>0.000018</td>\n",
       "    </tr>\n",
       "    <tr>\n",
       "      <th>4</th>\n",
       "      <td>2012Q1</td>\n",
       "      <td>1.247741e-05</td>\n",
       "      <td>-0.000001</td>\n",
       "      <td>1.926510e-05</td>\n",
       "      <td>0.000049</td>\n",
       "      <td>0.000260</td>\n",
       "      <td>0.000025</td>\n",
       "      <td>0.000013</td>\n",
       "      <td>0.000157</td>\n",
       "      <td>0.000563</td>\n",
       "      <td>0.000018</td>\n",
       "    </tr>\n",
       "  </tbody>\n",
       "</table>\n",
       "</div>"
      ],
      "text/plain": [
       "  year_quater  Life Groups & Retail Life  London Market  Motor/Personal  \\\n",
       "0      2011Q1               4.785078e-07       0.000180    1.957220e-07   \n",
       "1      2011Q2               1.691848e-04       0.000075    1.696496e-04   \n",
       "2      2011Q3               2.128910e-06       0.000022    1.696496e-04   \n",
       "3      2011Q4               1.260121e-06       0.000012   -5.634142e-07   \n",
       "4      2012Q1               1.247741e-05      -0.000001    1.926510e-05   \n",
       "\n",
       "   Other insurers  US - Specialty/P&C/Reinsurance  Japanese & Pacific  \\\n",
       "0        0.000092                        0.000160            0.000025   \n",
       "1        0.000174                        0.000124            0.000123   \n",
       "2        0.000522                        0.000124            0.000025   \n",
       "3        0.000058                        0.000006            0.000011   \n",
       "4        0.000049                        0.000260            0.000025   \n",
       "\n",
       "    Run-off  European (Re)Insurers  Global Commercial  LN Equity  \n",
       "0  0.000170               0.000157           0.000563   0.000018  \n",
       "1  0.000023               0.000157           0.000563   0.000018  \n",
       "2  0.000079               0.000157           0.000563   0.000018  \n",
       "3  0.000008               0.000157           0.000563   0.000018  \n",
       "4  0.000013               0.000157           0.000563   0.000018  "
      ]
     },
     "execution_count": 14,
     "metadata": {},
     "output_type": "execute_result"
    }
   ],
   "source": [
    "year_quater = df_MD_same_groupby['year_quater'].unique().tolist()\n",
    "Group = df_MD_same_groupby['Group'].unique().tolist()\n",
    "df_MD_same_group_tp5 = pd.DataFrame()\n",
    "df_MD_same_group_tp5[\"year_quater\"] = year_quater\n",
    "\n",
    "# extract the df_MD_same_group_tp5 by Group \n",
    "for i in Group:\n",
    "    tmp_df = df_MD_same_groupby[df_MD_same_groupby['Group']==i]\n",
    "    tmp_df = tmp_df.reset_index()\n",
    "    tmp_df = tmp_df[['year_quater','sentiment_topic_5']]\n",
    "    # remane the column name\n",
    "    tmp_df.columns = ['year_quater',i]\n",
    "    # merge with df_MD_same_group_tp2 by year_quater\n",
    "    df_MD_same_group_tp5 = pd.merge(df_MD_same_group_tp5, tmp_df, on='year_quater', how='left')\n",
    "\n",
    "# fill the nan by the mean value of the group\n",
    "df_MD_same_group_tp5 = df_MD_same_group_tp5.fillna(df_MD_same_group_tp5.mean())\n",
    "df_MD_same_group_tp5.head()"
   ]
  },
  {
   "cell_type": "markdown",
   "metadata": {},
   "source": [
    "# pandemic"
   ]
  },
  {
   "cell_type": "code",
   "execution_count": 15,
   "metadata": {},
   "outputs": [
    {
     "name": "stderr",
     "output_type": "stream",
     "text": [
      "/opt/anaconda3/lib/python3.9/site-packages/plotly/graph_objs/_deprecations.py:378: DeprecationWarning:\n",
      "\n",
      "plotly.graph_objs.Line is deprecated.\n",
      "Please replace it with one of the following more specific types\n",
      "  - plotly.graph_objs.scatter.Line\n",
      "  - plotly.graph_objs.layout.shape.Line\n",
      "  - etc.\n",
      "\n",
      "\n"
     ]
    },
    {
     "data": {
      "application/vnd.plotly.v1+json": {
       "config": {
        "plotlyServerURL": "https://plot.ly"
       },
       "data": [
        {
         "name": "Life Groups & Retail Life",
         "type": "scatter",
         "x": [
          "2011Q1",
          "2011Q2",
          "2011Q3",
          "2011Q4",
          "2012Q1",
          "2012Q2",
          "2012Q3",
          "2012Q4",
          "2013Q1",
          "2013Q2",
          "2013Q3",
          "2013Q4",
          "2014Q1",
          "2014Q2",
          "2014Q3",
          "2014Q4",
          "2015Q1",
          "2015Q2",
          "2015Q3",
          "2015Q4",
          "2016Q1",
          "2016Q2",
          "2016Q3",
          "2016Q4",
          "2017Q1",
          "2017Q2",
          "2017Q3",
          "2017Q4",
          "2018Q1",
          "2018Q2",
          "2018Q3",
          "2018Q4",
          "2019Q1",
          "2019Q2",
          "2019Q3",
          "2019Q4",
          "2020Q1",
          "2020Q2",
          "2020Q3",
          "2020Q4",
          "2021Q1",
          "2021Q2",
          "2021Q3",
          "2021Q4"
         ],
         "y": [
          4.78507794660409e-7,
          0.00016918478430773487,
          0.000002128910479918692,
          0.0000012601210877405249,
          0.000012477409973395812,
          0.00016918478430773487,
          0.0000015070637364095966,
          0.0002082744087563792,
          0.000026151771830009062,
          0.00005471432748688928,
          0.000013082115016631754,
          0.00007113982022269164,
          0.000012208840851395394,
          0.0000060481296023339785,
          0.000012590546874577517,
          0.000004772685006484626,
          0.000045340243346827555,
          0.0004287064906750025,
          0.000004633545849892847,
          0.000018542859991262834,
          0.000005561883289912895,
          0.000053165798609023655,
          0.00001561876198133993,
          0.00005497695017204928,
          0.000022641781808679284,
          0.000007764565746413696,
          0.00004154483816219739,
          0.0003026638404910038,
          0.0000185346114368527,
          0.00016918478430773487,
          0.00006283623467078751,
          0.0000473700498581987,
          0.00004996763807889517,
          1.652816183485839e-7,
          0.0000777620271255494,
          0.00041602293335504044,
          0.00010691544464389923,
          0.001184090249026506,
          0.0003617268817873591,
          0.00016918478430773487,
          0.0019005705180775718,
          0.00040401620570157116,
          0.00016067160652828916,
          0.000548745471557402
         ]
        },
        {
         "name": "London Market",
         "type": "scatter",
         "x": [
          "2011Q1",
          "2011Q2",
          "2011Q3",
          "2011Q4",
          "2012Q1",
          "2012Q2",
          "2012Q3",
          "2012Q4",
          "2013Q1",
          "2013Q2",
          "2013Q3",
          "2013Q4",
          "2014Q1",
          "2014Q2",
          "2014Q3",
          "2014Q4",
          "2015Q1",
          "2015Q2",
          "2015Q3",
          "2015Q4",
          "2016Q1",
          "2016Q2",
          "2016Q3",
          "2016Q4",
          "2017Q1",
          "2017Q2",
          "2017Q3",
          "2017Q4",
          "2018Q1",
          "2018Q2",
          "2018Q3",
          "2018Q4",
          "2019Q1",
          "2019Q2",
          "2019Q3",
          "2019Q4",
          "2020Q1",
          "2020Q2",
          "2020Q3",
          "2020Q4",
          "2021Q1",
          "2021Q2",
          "2021Q3",
          "2021Q4"
         ],
         "y": [
          0.0001796888926793987,
          0.00007478554811759924,
          0.00002238702498576915,
          0.000012178891997146943,
          -0.00000122724043457331,
          0.00007478554811759924,
          0.0000760407617341581,
          0.0001155937348794469,
          0.000012475543682775148,
          0.00007478554811759924,
          0.00003383253495223179,
          0.00005469783216198547,
          0.000005251783306425625,
          0.00007478554811759924,
          0.00007478554811759924,
          0.00007478554811759924,
          0.000017374460717020734,
          0.00007478554811759924,
          0.00007478554811759924,
          0.0000014176841378205834,
          -0.000002540534909166964,
          0.00012617131091248058,
          -0.0000023839399481429053,
          -0.00004577221460478724,
          0.00007478554811759924,
          -0.000001175469861405597,
          -0.000004322543144106568,
          0.00007478554811759924,
          0.00007478554811759924,
          0.00007478554811759924,
          0.00012443978843497164,
          0.00007478554811759924,
          0.00007478554811759924,
          0.00007478554811759924,
          0.000048433985078283506,
          0.00010386248342822856,
          0.00017110388239814623,
          0.00007478554811759924,
          0.0003309127996077718,
          0.00015366476334736307,
          0.0002674217459467265,
          0.00001995297390754327,
          0.00017461657403803517,
          0.00009989783786123159
         ]
        },
        {
         "name": "Motor/Personal",
         "type": "scatter",
         "x": [
          "2011Q1",
          "2011Q2",
          "2011Q3",
          "2011Q4",
          "2012Q1",
          "2012Q2",
          "2012Q3",
          "2012Q4",
          "2013Q1",
          "2013Q2",
          "2013Q3",
          "2013Q4",
          "2014Q1",
          "2014Q2",
          "2014Q3",
          "2014Q4",
          "2015Q1",
          "2015Q2",
          "2015Q3",
          "2015Q4",
          "2016Q1",
          "2016Q2",
          "2016Q3",
          "2016Q4",
          "2017Q1",
          "2017Q2",
          "2017Q3",
          "2017Q4",
          "2018Q1",
          "2018Q2",
          "2018Q3",
          "2018Q4",
          "2019Q1",
          "2019Q2",
          "2019Q3",
          "2019Q4",
          "2020Q1",
          "2020Q2",
          "2020Q3",
          "2020Q4",
          "2021Q1",
          "2021Q2",
          "2021Q3",
          "2021Q4"
         ],
         "y": [
          1.957219789028924e-7,
          0.00016964960523193135,
          0.00016964960523193135,
          -5.634141720264159e-7,
          0.000019265098785804704,
          0.00016964960523193135,
          6.316488338441065e-7,
          0.0000765239051319637,
          0.0000010804025778300182,
          0.00016964960523193135,
          0.00016964960523193135,
          0.000006253568676887767,
          0.00016964960523193135,
          0.00016964960523193135,
          9.383293892790675e-7,
          0.00002199376751335115,
          0.00001250751124095004,
          0.00001537605426653532,
          0.000017517221314005772,
          0.00016964960523193135,
          0.00026801043630621853,
          0.00004144553942155851,
          0.000007581996751121589,
          0.000017299763276064746,
          0.000038804177314923984,
          0.00004498558170975508,
          0.000004414094450447507,
          0.00016964960523193135,
          0.00006741497751147465,
          0.00010599379481957211,
          0.000023293909343431848,
          0.00016964960523193135,
          0.0001722643515077789,
          0.00003092124793399418,
          0.000010761907471977097,
          0.00001592275414171567,
          0.00012576908050312445,
          0.00016964960523193135,
          0.0006147699422269061,
          0.0006724394041348735,
          0.0005254133300381656,
          0.0021292169222727844,
          0.00016217519705289844,
          0.0003478187489276188
         ]
        },
        {
         "name": "Other insurers",
         "type": "scatter",
         "x": [
          "2011Q1",
          "2011Q2",
          "2011Q3",
          "2011Q4",
          "2012Q1",
          "2012Q2",
          "2012Q3",
          "2012Q4",
          "2013Q1",
          "2013Q2",
          "2013Q3",
          "2013Q4",
          "2014Q1",
          "2014Q2",
          "2014Q3",
          "2014Q4",
          "2015Q1",
          "2015Q2",
          "2015Q3",
          "2015Q4",
          "2016Q1",
          "2016Q2",
          "2016Q3",
          "2016Q4",
          "2017Q1",
          "2017Q2",
          "2017Q3",
          "2017Q4",
          "2018Q1",
          "2018Q2",
          "2018Q3",
          "2018Q4",
          "2019Q1",
          "2019Q2",
          "2019Q3",
          "2019Q4",
          "2020Q1",
          "2020Q2",
          "2020Q3",
          "2020Q4",
          "2021Q1",
          "2021Q2",
          "2021Q3",
          "2021Q4"
         ],
         "y": [
          0.00009200303743610578,
          0.00017415440082838463,
          0.0005219602402826519,
          0.00005806877913754219,
          0.00004870822809211297,
          0.0000010766826320802292,
          0.0008335523216756627,
          0.000032257221349599396,
          0.00001690728213786193,
          0.00017274611417188586,
          0.00021995588507164545,
          0.000007681149188384336,
          -0.00010483772209920123,
          0.00011141493357082408,
          0.00007890443467218155,
          0.00019169966944581203,
          0.00003753003788756659,
          0.000025841453144774513,
          0.00003445565188083793,
          0.0012464174138730794,
          0.0003217950664135427,
          0.00002841566155482361,
          0.00046159839918482145,
          0.00033575585931302474,
          0.001106702540061096,
          0.0004011816798336104,
          0.00010133787626858179,
          0.00006137310078285328,
          0.0004447994326830719,
          0.0009399650116859789,
          0.000505250699270938,
          0.0003732341588722859,
          0.00031664799023299617,
          0.000027934744677855974,
          0.00056161142187833,
          0.00001767266915547624,
          0.0004404996828133018,
          0.0006870343571606372,
          0.000500114154580905,
          0.0015522843968051412,
          0.00032687865932254313,
          0.0008695729137564472,
          0.001191973912315916,
          0.0002482941632139736
         ]
        },
        {
         "name": "US - Specialty/P&C/Reinsurance",
         "type": "scatter",
         "x": [
          "2011Q1",
          "2011Q2",
          "2011Q3",
          "2011Q4",
          "2012Q1",
          "2012Q2",
          "2012Q3",
          "2012Q4",
          "2013Q1",
          "2013Q2",
          "2013Q3",
          "2013Q4",
          "2014Q1",
          "2014Q2",
          "2014Q3",
          "2014Q4",
          "2015Q1",
          "2015Q2",
          "2015Q3",
          "2015Q4",
          "2016Q1",
          "2016Q2",
          "2016Q3",
          "2016Q4",
          "2017Q1",
          "2017Q2",
          "2017Q3",
          "2017Q4",
          "2018Q1",
          "2018Q2",
          "2018Q3",
          "2018Q4",
          "2019Q1",
          "2019Q2",
          "2019Q3",
          "2019Q4",
          "2020Q1",
          "2020Q2",
          "2020Q3",
          "2020Q4",
          "2021Q1",
          "2021Q2",
          "2021Q3",
          "2021Q4"
         ],
         "y": [
          0.0001600696025921748,
          0.00012436919890447914,
          0.00012436919890447914,
          0.000006399107222065663,
          0.0002604847969796575,
          0.00012436919890447914,
          0.000042916056243815276,
          0.000011242794819186509,
          0.00011873624014326921,
          0.000032864992948088846,
          0.000015155982068568045,
          0.00004636315368950911,
          0.000019696224705071342,
          0.000026224779178879073,
          0.000012319536036498866,
          0.00003165622198629773,
          0.0000835947432751824,
          0.0000810869536396987,
          0.000016739677747229713,
          0.00002919394777988578,
          0.000031474057287661706,
          0.00008434219901036896,
          0.000022373755945637577,
          0.000011108983423689007,
          0.00002862644938851195,
          0.000010573963230380005,
          0.00008471406615128718,
          0.00009656534349384806,
          0.000053354179494064554,
          0.000015358102783042027,
          0.00010373184202253826,
          0.0000689406704545805,
          0.00014097402766657192,
          0.0001616125997023294,
          0.000020720398760118826,
          0.000023718423026923257,
          0.00009536761123363122,
          -0.000420519066291438,
          0.0019211983210912287,
          0.0003668642332645036,
          0.0003222123065923321,
          0.0004919314969737592,
          0.0002563916503434598,
          0.00011275672897953645
         ]
        },
        {
         "name": "Japanese & Pacific",
         "type": "scatter",
         "x": [
          "2011Q1",
          "2011Q2",
          "2011Q3",
          "2011Q4",
          "2012Q1",
          "2012Q2",
          "2012Q3",
          "2012Q4",
          "2013Q1",
          "2013Q2",
          "2013Q3",
          "2013Q4",
          "2014Q1",
          "2014Q2",
          "2014Q3",
          "2014Q4",
          "2015Q1",
          "2015Q2",
          "2015Q3",
          "2015Q4",
          "2016Q1",
          "2016Q2",
          "2016Q3",
          "2016Q4",
          "2017Q1",
          "2017Q2",
          "2017Q3",
          "2017Q4",
          "2018Q1",
          "2018Q2",
          "2018Q3",
          "2018Q4",
          "2019Q1",
          "2019Q2",
          "2019Q3",
          "2019Q4",
          "2020Q1",
          "2020Q2",
          "2020Q3",
          "2020Q4",
          "2021Q1",
          "2021Q2",
          "2021Q3",
          "2021Q4"
         ],
         "y": [
          0.000025476563643928217,
          0.0001229358686905712,
          0.000025476563643928217,
          0.00001064548691460588,
          0.000025476563643928217,
          1.563225720805901e-7,
          0.000025476563643928217,
          0.00007165490484473117,
          -3.153697310593892e-7,
          0.000002270066187741611,
          0.0001311117308772202,
          8.308793577172777e-7,
          0.00008096146869710034,
          0.000001901832301088344,
          0.000002005821057429424,
          1.2722097282746318e-7,
          0.000014312217050689265,
          0.000011353789119051588,
          0.000005325972089765971,
          0.00002901422895941435,
          0.000025476563643928217,
          0.000007167551069210755,
          -0.000002523335413129036,
          0.0000204242919930293,
          0.000025476563643928217,
          -4.471582414443755e-7,
          -0.000002998383127385238,
          0.00006115142052493654,
          0.000025476563643928217,
          9.263781726442276e-7,
          0.000002333356340990488,
          0.00009102020178952928,
          0.000025476563643928217,
          0.000037681224698500116,
          0.000026329893832333027,
          0.000003348689774415022,
          0.000025476563643928217,
          -0.00039391212654580195,
          0.0003770250485845097,
          0.000025476563643928217,
          0.0001111535903366205,
          0.000021650055195790075,
          0.000024699626510833455,
          -0.0000031196015629977884
         ]
        },
        {
         "name": "Run-off",
         "type": "scatter",
         "x": [
          "2011Q1",
          "2011Q2",
          "2011Q3",
          "2011Q4",
          "2012Q1",
          "2012Q2",
          "2012Q3",
          "2012Q4",
          "2013Q1",
          "2013Q2",
          "2013Q3",
          "2013Q4",
          "2014Q1",
          "2014Q2",
          "2014Q3",
          "2014Q4",
          "2015Q1",
          "2015Q2",
          "2015Q3",
          "2015Q4",
          "2016Q1",
          "2016Q2",
          "2016Q3",
          "2016Q4",
          "2017Q1",
          "2017Q2",
          "2017Q3",
          "2017Q4",
          "2018Q1",
          "2018Q2",
          "2018Q3",
          "2018Q4",
          "2019Q1",
          "2019Q2",
          "2019Q3",
          "2019Q4",
          "2020Q1",
          "2020Q2",
          "2020Q3",
          "2020Q4",
          "2021Q1",
          "2021Q2",
          "2021Q3",
          "2021Q4"
         ],
         "y": [
          0.0001696464514056294,
          0.00002333011649682037,
          0.00007917543151451123,
          0.000008341860067310191,
          0.000013466011511728795,
          0.0001696464514056294,
          0.001516122860326915,
          0.000003185910012204714,
          0.000011786438668908824,
          0.00001820731449964222,
          0.000014258864987687813,
          0.0001696464514056294,
          0.0000031750074215745863,
          0.00015811230908997336,
          -1.1386914530719142e-7,
          0.0000035446465586232473,
          0.000037621633398017125,
          0.000009876117451500042,
          0.0001696464514056294,
          0.00004993881555484245,
          0.0001696464514056294,
          0.0000613167476710675,
          0.00002340622029141332,
          0.00009427690142230849,
          0.0001696464514056294,
          0.0001696464514056294,
          0.0001696464514056294,
          0.000014955728753463696,
          0.000028348288646288664,
          0.000018410212908121026,
          0.0001696464514056294,
          0.00003533358402760623,
          0.0001696464514056294,
          0.00016241259106213315,
          0.0001696464514056294,
          0.0001696464514056294,
          0.0001696464514056294,
          0.0001696464514056294,
          0.0001696464514056294,
          0.000490664348768567,
          0.0004416066940681074,
          0.0007494741943393727,
          0.0004557347408920739,
          0.0003937773694977766
         ]
        },
        {
         "name": "European (Re)Insurers",
         "type": "scatter",
         "x": [
          "2011Q1",
          "2011Q2",
          "2011Q3",
          "2011Q4",
          "2012Q1",
          "2012Q2",
          "2012Q3",
          "2012Q4",
          "2013Q1",
          "2013Q2",
          "2013Q3",
          "2013Q4",
          "2014Q1",
          "2014Q2",
          "2014Q3",
          "2014Q4",
          "2015Q1",
          "2015Q2",
          "2015Q3",
          "2015Q4",
          "2016Q1",
          "2016Q2",
          "2016Q3",
          "2016Q4",
          "2017Q1",
          "2017Q2",
          "2017Q3",
          "2017Q4",
          "2018Q1",
          "2018Q2",
          "2018Q3",
          "2018Q4",
          "2019Q1",
          "2019Q2",
          "2019Q3",
          "2019Q4",
          "2020Q1",
          "2020Q2",
          "2020Q3",
          "2020Q4",
          "2021Q1",
          "2021Q2",
          "2021Q3",
          "2021Q4"
         ],
         "y": [
          0.00015728181254263872,
          0.00015728181254263872,
          0.00015728181254263872,
          0.00015728181254263872,
          0.00015728181254263872,
          0.00015728181254263872,
          0.00015728181254263872,
          0.00015728181254263872,
          0.00015728181254263872,
          0.00015728181254263872,
          0.00015728181254263872,
          0.00015728181254263872,
          0.0001443912063254058,
          0.0005429818232122376,
          0.00006336272256465016,
          0.00015728181254263872,
          0.0000725681090866269,
          0.000271481880987885,
          0.0000246773940572341,
          -0.00003514868616388288,
          0.000011843180275191918,
          0.0003076073719520726,
          0.000044734182872583066,
          0.0005640139865374477,
          0.00009509086513190931,
          0.0004262037579992755,
          -0.00017249785432830225,
          0.0000010801059318994762,
          0.00008003023233600913,
          0.00002057903834000744,
          0.00014677621148037097,
          0.00042379647676784736,
          0.000005929726479694236,
          0.00004181091980802298,
          0.00002646455874752974,
          0.000012701127520050572,
          0.000004995433439526839,
          0.00015728181254263872,
          0.00016036827795099534,
          0.000410161037464153,
          0.0002911294071243035,
          0.00019904926849202985,
          0.00039244591177012576,
          0.00013982670211626282
         ]
        },
        {
         "name": "Global Commercial",
         "type": "scatter",
         "x": [
          "2011Q1",
          "2011Q2",
          "2011Q3",
          "2011Q4",
          "2012Q1",
          "2012Q2",
          "2012Q3",
          "2012Q4",
          "2013Q1",
          "2013Q2",
          "2013Q3",
          "2013Q4",
          "2014Q1",
          "2014Q2",
          "2014Q3",
          "2014Q4",
          "2015Q1",
          "2015Q2",
          "2015Q3",
          "2015Q4",
          "2016Q1",
          "2016Q2",
          "2016Q3",
          "2016Q4",
          "2017Q1",
          "2017Q2",
          "2017Q3",
          "2017Q4",
          "2018Q1",
          "2018Q2",
          "2018Q3",
          "2018Q4",
          "2019Q1",
          "2019Q2",
          "2019Q3",
          "2019Q4",
          "2020Q1",
          "2020Q2",
          "2020Q3",
          "2020Q4",
          "2021Q1",
          "2021Q2",
          "2021Q3",
          "2021Q4"
         ],
         "y": [
          0.0005625119857922636,
          0.0005625119857922636,
          0.0005625119857922636,
          0.0005625119857922636,
          0.0005625119857922636,
          0.0005625119857922636,
          0.0005625119857922636,
          0.0005625119857922636,
          0.0005625119857922636,
          0.0005625119857922636,
          0.0005625119857922636,
          0.0005625119857922636,
          0.0000022282305569713935,
          -1.6780493814994847e-7,
          0.0000037321993349920682,
          0.00004277612294813484,
          0.000007197597978683901,
          0.00005446379044844991,
          0.00008406877428859453,
          0.00032912640022362237,
          0.00005593897117980858,
          0.00019905981227903529,
          0.0000012000351051900184,
          0.00012355055164587345,
          0.00006473445724492943,
          0.00004812611477792068,
          0.0002080369982722715,
          0.0000687877967834918,
          0.0002872284277586958,
          0.0002621893293379801,
          0.0000037443466982688848,
          0.00013342831411158881,
          0.00007541166173658957,
          0.0002754224154465399,
          0.00008946721627711686,
          0.00002604940910348986,
          0.00020972355943477656,
          0.0006764684263895381,
          0.0005625119857922636,
          0.005273537622045944,
          0.005897452594761878,
          0.0014641537852533137,
          0.001347620620279429,
          0.00012311378279519994
         ]
        },
        {
         "name": "LN Equity",
         "type": "scatter",
         "x": [
          "2011Q1",
          "2011Q2",
          "2011Q3",
          "2011Q4",
          "2012Q1",
          "2012Q2",
          "2012Q3",
          "2012Q4",
          "2013Q1",
          "2013Q2",
          "2013Q3",
          "2013Q4",
          "2014Q1",
          "2014Q2",
          "2014Q3",
          "2014Q4",
          "2015Q1",
          "2015Q2",
          "2015Q3",
          "2015Q4",
          "2016Q1",
          "2016Q2",
          "2016Q3",
          "2016Q4",
          "2017Q1",
          "2017Q2",
          "2017Q3",
          "2017Q4",
          "2018Q1",
          "2018Q2",
          "2018Q3",
          "2018Q4",
          "2019Q1",
          "2019Q2",
          "2019Q3",
          "2019Q4",
          "2020Q1",
          "2020Q2",
          "2020Q3",
          "2020Q4",
          "2021Q1",
          "2021Q2",
          "2021Q3",
          "2021Q4"
         ],
         "y": [
          0.000017573547552024103,
          0.000017573547552024103,
          0.000017573547552024103,
          0.000017573547552024103,
          0.000017573547552024103,
          0.000017573547552024103,
          0.000017573547552024103,
          0.000017573547552024103,
          0.000017573547552024103,
          0.000017573547552024103,
          0.000017573547552024103,
          0.000017573547552024103,
          0.000017573547552024103,
          0.000017573547552024103,
          0.000017573547552024103,
          0.000017573547552024103,
          0.000017573547552024103,
          0.000017573547552024103,
          0.000017573547552024103,
          0.000017573547552024103,
          0.000017573547552024103,
          0.000017573547552024103,
          0.000017573547552024103,
          0.000017573547552024103,
          0.000017573547552024103,
          0.000017573547552024103,
          0.000017573547552024103,
          0.000017573547552024103,
          0.000017573547552024103,
          0.000017573547552024103,
          0.000017573547552024103,
          0.000017573547552024103,
          0.000017573547552024103,
          0.000017573547552024103,
          0.000017573547552024103,
          0.000017573547552024103,
          0.000017573547552024103,
          0.000017573547552024103,
          0.000017573547552024103,
          0.000017573547552024103,
          0.000017573547552024103,
          0.000017573547552024103,
          0.000017573547552024103,
          0.000017573547552024103
         ]
        }
       ],
       "layout": {
        "template": {
         "data": {
          "bar": [
           {
            "error_x": {
             "color": "#2a3f5f"
            },
            "error_y": {
             "color": "#2a3f5f"
            },
            "marker": {
             "line": {
              "color": "#E5ECF6",
              "width": 0.5
             },
             "pattern": {
              "fillmode": "overlay",
              "size": 10,
              "solidity": 0.2
             }
            },
            "type": "bar"
           }
          ],
          "barpolar": [
           {
            "marker": {
             "line": {
              "color": "#E5ECF6",
              "width": 0.5
             },
             "pattern": {
              "fillmode": "overlay",
              "size": 10,
              "solidity": 0.2
             }
            },
            "type": "barpolar"
           }
          ],
          "carpet": [
           {
            "aaxis": {
             "endlinecolor": "#2a3f5f",
             "gridcolor": "white",
             "linecolor": "white",
             "minorgridcolor": "white",
             "startlinecolor": "#2a3f5f"
            },
            "baxis": {
             "endlinecolor": "#2a3f5f",
             "gridcolor": "white",
             "linecolor": "white",
             "minorgridcolor": "white",
             "startlinecolor": "#2a3f5f"
            },
            "type": "carpet"
           }
          ],
          "choropleth": [
           {
            "colorbar": {
             "outlinewidth": 0,
             "ticks": ""
            },
            "type": "choropleth"
           }
          ],
          "contour": [
           {
            "colorbar": {
             "outlinewidth": 0,
             "ticks": ""
            },
            "colorscale": [
             [
              0,
              "#0d0887"
             ],
             [
              0.1111111111111111,
              "#46039f"
             ],
             [
              0.2222222222222222,
              "#7201a8"
             ],
             [
              0.3333333333333333,
              "#9c179e"
             ],
             [
              0.4444444444444444,
              "#bd3786"
             ],
             [
              0.5555555555555556,
              "#d8576b"
             ],
             [
              0.6666666666666666,
              "#ed7953"
             ],
             [
              0.7777777777777778,
              "#fb9f3a"
             ],
             [
              0.8888888888888888,
              "#fdca26"
             ],
             [
              1,
              "#f0f921"
             ]
            ],
            "type": "contour"
           }
          ],
          "contourcarpet": [
           {
            "colorbar": {
             "outlinewidth": 0,
             "ticks": ""
            },
            "type": "contourcarpet"
           }
          ],
          "heatmap": [
           {
            "colorbar": {
             "outlinewidth": 0,
             "ticks": ""
            },
            "colorscale": [
             [
              0,
              "#0d0887"
             ],
             [
              0.1111111111111111,
              "#46039f"
             ],
             [
              0.2222222222222222,
              "#7201a8"
             ],
             [
              0.3333333333333333,
              "#9c179e"
             ],
             [
              0.4444444444444444,
              "#bd3786"
             ],
             [
              0.5555555555555556,
              "#d8576b"
             ],
             [
              0.6666666666666666,
              "#ed7953"
             ],
             [
              0.7777777777777778,
              "#fb9f3a"
             ],
             [
              0.8888888888888888,
              "#fdca26"
             ],
             [
              1,
              "#f0f921"
             ]
            ],
            "type": "heatmap"
           }
          ],
          "heatmapgl": [
           {
            "colorbar": {
             "outlinewidth": 0,
             "ticks": ""
            },
            "colorscale": [
             [
              0,
              "#0d0887"
             ],
             [
              0.1111111111111111,
              "#46039f"
             ],
             [
              0.2222222222222222,
              "#7201a8"
             ],
             [
              0.3333333333333333,
              "#9c179e"
             ],
             [
              0.4444444444444444,
              "#bd3786"
             ],
             [
              0.5555555555555556,
              "#d8576b"
             ],
             [
              0.6666666666666666,
              "#ed7953"
             ],
             [
              0.7777777777777778,
              "#fb9f3a"
             ],
             [
              0.8888888888888888,
              "#fdca26"
             ],
             [
              1,
              "#f0f921"
             ]
            ],
            "type": "heatmapgl"
           }
          ],
          "histogram": [
           {
            "marker": {
             "pattern": {
              "fillmode": "overlay",
              "size": 10,
              "solidity": 0.2
             }
            },
            "type": "histogram"
           }
          ],
          "histogram2d": [
           {
            "colorbar": {
             "outlinewidth": 0,
             "ticks": ""
            },
            "colorscale": [
             [
              0,
              "#0d0887"
             ],
             [
              0.1111111111111111,
              "#46039f"
             ],
             [
              0.2222222222222222,
              "#7201a8"
             ],
             [
              0.3333333333333333,
              "#9c179e"
             ],
             [
              0.4444444444444444,
              "#bd3786"
             ],
             [
              0.5555555555555556,
              "#d8576b"
             ],
             [
              0.6666666666666666,
              "#ed7953"
             ],
             [
              0.7777777777777778,
              "#fb9f3a"
             ],
             [
              0.8888888888888888,
              "#fdca26"
             ],
             [
              1,
              "#f0f921"
             ]
            ],
            "type": "histogram2d"
           }
          ],
          "histogram2dcontour": [
           {
            "colorbar": {
             "outlinewidth": 0,
             "ticks": ""
            },
            "colorscale": [
             [
              0,
              "#0d0887"
             ],
             [
              0.1111111111111111,
              "#46039f"
             ],
             [
              0.2222222222222222,
              "#7201a8"
             ],
             [
              0.3333333333333333,
              "#9c179e"
             ],
             [
              0.4444444444444444,
              "#bd3786"
             ],
             [
              0.5555555555555556,
              "#d8576b"
             ],
             [
              0.6666666666666666,
              "#ed7953"
             ],
             [
              0.7777777777777778,
              "#fb9f3a"
             ],
             [
              0.8888888888888888,
              "#fdca26"
             ],
             [
              1,
              "#f0f921"
             ]
            ],
            "type": "histogram2dcontour"
           }
          ],
          "mesh3d": [
           {
            "colorbar": {
             "outlinewidth": 0,
             "ticks": ""
            },
            "type": "mesh3d"
           }
          ],
          "parcoords": [
           {
            "line": {
             "colorbar": {
              "outlinewidth": 0,
              "ticks": ""
             }
            },
            "type": "parcoords"
           }
          ],
          "pie": [
           {
            "automargin": true,
            "type": "pie"
           }
          ],
          "scatter": [
           {
            "fillpattern": {
             "fillmode": "overlay",
             "size": 10,
             "solidity": 0.2
            },
            "type": "scatter"
           }
          ],
          "scatter3d": [
           {
            "line": {
             "colorbar": {
              "outlinewidth": 0,
              "ticks": ""
             }
            },
            "marker": {
             "colorbar": {
              "outlinewidth": 0,
              "ticks": ""
             }
            },
            "type": "scatter3d"
           }
          ],
          "scattercarpet": [
           {
            "marker": {
             "colorbar": {
              "outlinewidth": 0,
              "ticks": ""
             }
            },
            "type": "scattercarpet"
           }
          ],
          "scattergeo": [
           {
            "marker": {
             "colorbar": {
              "outlinewidth": 0,
              "ticks": ""
             }
            },
            "type": "scattergeo"
           }
          ],
          "scattergl": [
           {
            "marker": {
             "colorbar": {
              "outlinewidth": 0,
              "ticks": ""
             }
            },
            "type": "scattergl"
           }
          ],
          "scattermapbox": [
           {
            "marker": {
             "colorbar": {
              "outlinewidth": 0,
              "ticks": ""
             }
            },
            "type": "scattermapbox"
           }
          ],
          "scatterpolar": [
           {
            "marker": {
             "colorbar": {
              "outlinewidth": 0,
              "ticks": ""
             }
            },
            "type": "scatterpolar"
           }
          ],
          "scatterpolargl": [
           {
            "marker": {
             "colorbar": {
              "outlinewidth": 0,
              "ticks": ""
             }
            },
            "type": "scatterpolargl"
           }
          ],
          "scatterternary": [
           {
            "marker": {
             "colorbar": {
              "outlinewidth": 0,
              "ticks": ""
             }
            },
            "type": "scatterternary"
           }
          ],
          "surface": [
           {
            "colorbar": {
             "outlinewidth": 0,
             "ticks": ""
            },
            "colorscale": [
             [
              0,
              "#0d0887"
             ],
             [
              0.1111111111111111,
              "#46039f"
             ],
             [
              0.2222222222222222,
              "#7201a8"
             ],
             [
              0.3333333333333333,
              "#9c179e"
             ],
             [
              0.4444444444444444,
              "#bd3786"
             ],
             [
              0.5555555555555556,
              "#d8576b"
             ],
             [
              0.6666666666666666,
              "#ed7953"
             ],
             [
              0.7777777777777778,
              "#fb9f3a"
             ],
             [
              0.8888888888888888,
              "#fdca26"
             ],
             [
              1,
              "#f0f921"
             ]
            ],
            "type": "surface"
           }
          ],
          "table": [
           {
            "cells": {
             "fill": {
              "color": "#EBF0F8"
             },
             "line": {
              "color": "white"
             }
            },
            "header": {
             "fill": {
              "color": "#C8D4E3"
             },
             "line": {
              "color": "white"
             }
            },
            "type": "table"
           }
          ]
         },
         "layout": {
          "annotationdefaults": {
           "arrowcolor": "#2a3f5f",
           "arrowhead": 0,
           "arrowwidth": 1
          },
          "autotypenumbers": "strict",
          "coloraxis": {
           "colorbar": {
            "outlinewidth": 0,
            "ticks": ""
           }
          },
          "colorscale": {
           "diverging": [
            [
             0,
             "#8e0152"
            ],
            [
             0.1,
             "#c51b7d"
            ],
            [
             0.2,
             "#de77ae"
            ],
            [
             0.3,
             "#f1b6da"
            ],
            [
             0.4,
             "#fde0ef"
            ],
            [
             0.5,
             "#f7f7f7"
            ],
            [
             0.6,
             "#e6f5d0"
            ],
            [
             0.7,
             "#b8e186"
            ],
            [
             0.8,
             "#7fbc41"
            ],
            [
             0.9,
             "#4d9221"
            ],
            [
             1,
             "#276419"
            ]
           ],
           "sequential": [
            [
             0,
             "#0d0887"
            ],
            [
             0.1111111111111111,
             "#46039f"
            ],
            [
             0.2222222222222222,
             "#7201a8"
            ],
            [
             0.3333333333333333,
             "#9c179e"
            ],
            [
             0.4444444444444444,
             "#bd3786"
            ],
            [
             0.5555555555555556,
             "#d8576b"
            ],
            [
             0.6666666666666666,
             "#ed7953"
            ],
            [
             0.7777777777777778,
             "#fb9f3a"
            ],
            [
             0.8888888888888888,
             "#fdca26"
            ],
            [
             1,
             "#f0f921"
            ]
           ],
           "sequentialminus": [
            [
             0,
             "#0d0887"
            ],
            [
             0.1111111111111111,
             "#46039f"
            ],
            [
             0.2222222222222222,
             "#7201a8"
            ],
            [
             0.3333333333333333,
             "#9c179e"
            ],
            [
             0.4444444444444444,
             "#bd3786"
            ],
            [
             0.5555555555555556,
             "#d8576b"
            ],
            [
             0.6666666666666666,
             "#ed7953"
            ],
            [
             0.7777777777777778,
             "#fb9f3a"
            ],
            [
             0.8888888888888888,
             "#fdca26"
            ],
            [
             1,
             "#f0f921"
            ]
           ]
          },
          "colorway": [
           "#636efa",
           "#EF553B",
           "#00cc96",
           "#ab63fa",
           "#FFA15A",
           "#19d3f3",
           "#FF6692",
           "#B6E880",
           "#FF97FF",
           "#FECB52"
          ],
          "font": {
           "color": "#2a3f5f"
          },
          "geo": {
           "bgcolor": "white",
           "lakecolor": "white",
           "landcolor": "#E5ECF6",
           "showlakes": true,
           "showland": true,
           "subunitcolor": "white"
          },
          "hoverlabel": {
           "align": "left"
          },
          "hovermode": "closest",
          "mapbox": {
           "style": "light"
          },
          "paper_bgcolor": "white",
          "plot_bgcolor": "#E5ECF6",
          "polar": {
           "angularaxis": {
            "gridcolor": "white",
            "linecolor": "white",
            "ticks": ""
           },
           "bgcolor": "#E5ECF6",
           "radialaxis": {
            "gridcolor": "white",
            "linecolor": "white",
            "ticks": ""
           }
          },
          "scene": {
           "xaxis": {
            "backgroundcolor": "#E5ECF6",
            "gridcolor": "white",
            "gridwidth": 2,
            "linecolor": "white",
            "showbackground": true,
            "ticks": "",
            "zerolinecolor": "white"
           },
           "yaxis": {
            "backgroundcolor": "#E5ECF6",
            "gridcolor": "white",
            "gridwidth": 2,
            "linecolor": "white",
            "showbackground": true,
            "ticks": "",
            "zerolinecolor": "white"
           },
           "zaxis": {
            "backgroundcolor": "#E5ECF6",
            "gridcolor": "white",
            "gridwidth": 2,
            "linecolor": "white",
            "showbackground": true,
            "ticks": "",
            "zerolinecolor": "white"
           }
          },
          "shapedefaults": {
           "line": {
            "color": "#2a3f5f"
           }
          },
          "ternary": {
           "aaxis": {
            "gridcolor": "white",
            "linecolor": "white",
            "ticks": ""
           },
           "baxis": {
            "gridcolor": "white",
            "linecolor": "white",
            "ticks": ""
           },
           "bgcolor": "#E5ECF6",
           "caxis": {
            "gridcolor": "white",
            "linecolor": "white",
            "ticks": ""
           }
          },
          "title": {
           "x": 0.05
          },
          "xaxis": {
           "automargin": true,
           "gridcolor": "white",
           "linecolor": "white",
           "ticks": "",
           "title": {
            "standoff": 15
           },
           "zerolinecolor": "white",
           "zerolinewidth": 2
          },
          "yaxis": {
           "automargin": true,
           "gridcolor": "white",
           "linecolor": "white",
           "ticks": "",
           "title": {
            "standoff": 15
           },
           "zerolinecolor": "white",
           "zerolinewidth": 2
          }
         }
        },
        "title": {
         "text": "sentiment_topic_5 by Group"
        },
        "xaxis": {
         "rangeslider": {
          "visible": true
         },
         "ticktext": [
          "2011Q1",
          "2011Q2",
          "2011Q3",
          "2011Q4",
          "2012Q1",
          "2012Q2",
          "2012Q3",
          "2012Q4",
          "2013Q1",
          "2013Q2",
          "2013Q3",
          "2013Q4",
          "2014Q1",
          "2014Q2",
          "2014Q3",
          "2014Q4",
          "2015Q1",
          "2015Q2",
          "2015Q3",
          "2015Q4",
          "2016Q1",
          "2016Q2",
          "2016Q3",
          "2016Q4",
          "2017Q1",
          "2017Q2",
          "2017Q3",
          "2017Q4",
          "2018Q1",
          "2018Q2",
          "2018Q3",
          "2018Q4",
          "2019Q1",
          "2019Q2",
          "2019Q3",
          "2019Q4",
          "2020Q1",
          "2020Q2",
          "2020Q3",
          "2020Q4",
          "2021Q1",
          "2021Q2",
          "2021Q3",
          "2021Q4"
         ],
         "tickvals": [
          "2011Q1",
          "2011Q2",
          "2011Q3",
          "2011Q4",
          "2012Q1",
          "2012Q2",
          "2012Q3",
          "2012Q4",
          "2013Q1",
          "2013Q2",
          "2013Q3",
          "2013Q4",
          "2014Q1",
          "2014Q2",
          "2014Q3",
          "2014Q4",
          "2015Q1",
          "2015Q2",
          "2015Q3",
          "2015Q4",
          "2016Q1",
          "2016Q2",
          "2016Q3",
          "2016Q4",
          "2017Q1",
          "2017Q2",
          "2017Q3",
          "2017Q4",
          "2018Q1",
          "2018Q2",
          "2018Q3",
          "2018Q4",
          "2019Q1",
          "2019Q2",
          "2019Q3",
          "2019Q4",
          "2020Q1",
          "2020Q2",
          "2020Q3",
          "2020Q4",
          "2021Q1",
          "2021Q2",
          "2021Q3",
          "2021Q4"
         ],
         "title": {
          "text": "year_quater"
         }
        },
        "yaxis": {
         "title": {
          "text": "sentiment_topic_2"
         }
        }
       }
      }
     },
     "metadata": {},
     "output_type": "display_data"
    }
   ],
   "source": [
    "import plotly.express as px\n",
    "import plotly.graph_objects as go\n",
    "Group = df_MD_same_groupby['Group'].unique().tolist()\n",
    "# df_MD_same_group_tp2[\"year_quater\"] to str\n",
    "df_MD_same_group_tp5[\"year_quater\"] = df_MD_same_group_tp5[\"year_quater\"].astype(str)\n",
    "fig_size = (30, 10)\n",
    "fig = go.Figure()\n",
    "for i in Group:\n",
    "    df_tmp = df_MD_same_group_tp5[['year_quater', i]]\n",
    "    # # sort by year_quater\n",
    "    # df_tmp = df_tmp.sort_values(by='year_quater')\n",
    "    # df_tmp.reset_index(drop=True, inplace=True)\n",
    "    # plot the line\n",
    "    fig.add_trace(go.Line(\n",
    "        x=df_tmp['year_quater'],\n",
    "        y=df_tmp[i], \n",
    "        name=i)\n",
    "        )\n",
    "fig.update_layout(title='sentiment_topic_5 by Group', xaxis_title='year_quater', yaxis_title='sentiment_topic_2')\n",
    "# update the ticker by df_MD_same_group_tp5['year_quater'] with same wide\n",
    "fig.update_xaxes(tickvals=df_MD_same_group_tp5['year_quater'], ticktext=df_MD_same_group_tp5['year_quater'])\n",
    "\n",
    "# df_MD_same_group_tp5['year_quater'] = pd.to_datetime(df_MD_same_group_tp5['year_quater'])\n",
    "# Add range slider\n",
    "fig.update_layout(\n",
    "    xaxis_rangeslider_visible=True,\n",
    ")\n",
    "\n",
    "fig.show()"
   ]
  },
  {
   "cell_type": "code",
   "execution_count": null,
   "metadata": {},
   "outputs": [],
   "source": []
  },
  {
   "cell_type": "code",
   "execution_count": null,
   "metadata": {},
   "outputs": [],
   "source": []
  },
  {
   "cell_type": "code",
   "execution_count": null,
   "metadata": {},
   "outputs": [],
   "source": []
  },
  {
   "cell_type": "code",
   "execution_count": null,
   "metadata": {},
   "outputs": [],
   "source": []
  },
  {
   "cell_type": "code",
   "execution_count": null,
   "metadata": {},
   "outputs": [],
   "source": []
  },
  {
   "cell_type": "code",
   "execution_count": null,
   "metadata": {},
   "outputs": [],
   "source": []
  },
  {
   "cell_type": "code",
   "execution_count": null,
   "metadata": {},
   "outputs": [],
   "source": []
  },
  {
   "cell_type": "code",
   "execution_count": null,
   "metadata": {},
   "outputs": [],
   "source": []
  },
  {
   "cell_type": "code",
   "execution_count": null,
   "metadata": {},
   "outputs": [],
   "source": [
    "import plotly.graph_objects as go\n",
    "import plotly.express as px\n",
    "from plotly.subplots import make_subplots\n",
    "import yfinance as yf\n",
    "from decimal import Decimal\n",
    "\n",
    "fig = go.Figure(go.Candlestick(x=df.index,\n",
    "open=df['Open'],\n",
    "high=df['High'],\n",
    "low=df['Low'],\n",
    "close=df['Close']))\n",
    "# hide weekends\n",
    "fig.update_xaxes(rangebreaks=[dict(bounds=[\"sat\", \"mon\"])])\n",
    "\n",
    "# # add moving averages to df\n",
    "# df['MA30'] = df['Close'].rolling(window=30).mean()\n",
    "# df['MA15'] = df['Close'].rolling(window=15).mean()\n",
    "# df['MA5'] = df['Close'].rolling(window=5).mean()\n",
    "\n",
    "# fig.add_trace(go.Scatter(x=df.index, \n",
    "#                         y=df['MA5'], \n",
    "#                         opacity=0.7, \n",
    "#                         line=dict(color='blue', width=1), \n",
    "#                         name='MA 5'))\n",
    "# fig.add_trace(go.Scatter(x=df.index, \n",
    "#                         y=df['MA15'], \n",
    "#                         opacity=0.7, \n",
    "#                         line=dict(color='purple', width=1), \n",
    "#                         name='MA 15'))\n",
    "# fig.add_trace(go.Scatter(x=df.index, \n",
    "#                         y=df['MA30'], \n",
    "#                         opacity=0.7, \n",
    "#                         line=dict(color='black', width=1), \n",
    "#                         name='MA 30'))\n",
    "# # removing all empty dates\n",
    "# # build complete timeline from start date to end date\n",
    "# dt_all = pd.date_range(start=df.index[0],end=df.index[-1])\n",
    "# # retrieve the dates that ARE in the original datset\n",
    "# dt_obs = [d.strftime(\"%Y-%m-%d\") for d in pd.to_datetime(df.index)]\n",
    "# # define dates with missing values\n",
    "# dt_breaks = [d for d in dt_all.strftime(\"%Y-%m-%d\").tolist() if not d in dt_obs]\n",
    "# fig.update_xaxes(rangebreaks=[dict(values=dt_breaks)])\n",
    "# fig.update_layout(\n",
    "# height=700,\n",
    "# width=1000,\n",
    "# title_text=ticker,\n",
    "# xaxis2=dict(rangeslider=dict(visible=False))\n",
    "# )\n",
    "# for i in range(len(test)):\n",
    "#     fig.add_shape(\n",
    "#         type=\"rect\",\n",
    "#         x0=test.iloc[i]['start_date'],\n",
    "#         y0=min(df['Close']-20),\n",
    "#         x1=test.iloc[i]['end_date'],\n",
    "#         y1=max(df['Close']+20),\n",
    "#         # make the fillcolor to be continuous as the range of test.iloc[i]['WA_sentiment_normalized']\n",
    "#         fillcolor=px.colors.sequential.Viridis[\n",
    "#             int(test.iloc[i]['WA_sentiment_normalized'])\n",
    "#         ],\n",
    "#         line_width=0,\n",
    "#         opacity=0.35\n",
    "#     )\n",
    "\n",
    "# # fig make annotation\n",
    "# for i in range(len(test)):\n",
    "#     fig.add_annotation(\n",
    "#         x=test.iloc[i]['start_date'],\n",
    "#         y=max(df['Close']+20),\n",
    "#         # text = test.iloc[i]['WA_sentiment'] round with 4 decimal places\n",
    "#         text=round(test.iloc[i]['WA_sentiment'],4),\n",
    "#         showarrow=True,\n",
    "#         arrowhead=7,\n",
    "#         ax=0,\n",
    "#         ay=-10,\n",
    "#         # change the size of the text\n",
    "#         font=dict(size=8)\n",
    "#     )\n",
    "\n",
    "# fig.show()"
   ]
  },
  {
   "cell_type": "code",
   "execution_count": null,
   "metadata": {},
   "outputs": [],
   "source": []
  },
  {
   "cell_type": "code",
   "execution_count": null,
   "metadata": {},
   "outputs": [],
   "source": []
  },
  {
   "cell_type": "code",
   "execution_count": null,
   "metadata": {},
   "outputs": [],
   "source": []
  },
  {
   "cell_type": "code",
   "execution_count": null,
   "metadata": {},
   "outputs": [],
   "source": []
  },
  {
   "cell_type": "code",
   "execution_count": 30,
   "metadata": {},
   "outputs": [
    {
     "ename": "NameError",
     "evalue": "name 'lda_model' is not defined",
     "output_type": "error",
     "traceback": [
      "\u001b[0;31m---------------------------------------------------------------------------\u001b[0m",
      "\u001b[0;31mNameError\u001b[0m                                 Traceback (most recent call last)",
      "\u001b[0;32m/var/folders/sq/sxhsy98j6f57m406rd5lz1_r0000gn/T/ipykernel_4364/3356623428.py\u001b[0m in \u001b[0;36m<module>\u001b[0;34m\u001b[0m\n\u001b[0;32m----> 1\u001b[0;31m \u001b[0;32mdef\u001b[0m \u001b[0msentences_chart\u001b[0m\u001b[0;34m(\u001b[0m\u001b[0mlda_model\u001b[0m\u001b[0;34m=\u001b[0m\u001b[0mlda_model\u001b[0m\u001b[0;34m,\u001b[0m \u001b[0mcorpus\u001b[0m\u001b[0;34m=\u001b[0m\u001b[0mcorpus\u001b[0m\u001b[0;34m,\u001b[0m \u001b[0mstart\u001b[0m \u001b[0;34m=\u001b[0m \u001b[0;36m0\u001b[0m\u001b[0;34m,\u001b[0m \u001b[0mend\u001b[0m \u001b[0;34m=\u001b[0m \u001b[0;36m13\u001b[0m\u001b[0;34m)\u001b[0m\u001b[0;34m:\u001b[0m\u001b[0;34m\u001b[0m\u001b[0;34m\u001b[0m\u001b[0m\n\u001b[0m\u001b[1;32m      2\u001b[0m     \u001b[0mcorp\u001b[0m \u001b[0;34m=\u001b[0m \u001b[0mcorpus\u001b[0m\u001b[0;34m[\u001b[0m\u001b[0mstart\u001b[0m\u001b[0;34m:\u001b[0m\u001b[0mend\u001b[0m\u001b[0;34m]\u001b[0m\u001b[0;34m\u001b[0m\u001b[0;34m\u001b[0m\u001b[0m\n\u001b[1;32m      3\u001b[0m     \u001b[0mmycolors\u001b[0m \u001b[0;34m=\u001b[0m \u001b[0;34m[\u001b[0m\u001b[0mcolor\u001b[0m \u001b[0;32mfor\u001b[0m \u001b[0mname\u001b[0m\u001b[0;34m,\u001b[0m \u001b[0mcolor\u001b[0m \u001b[0;32min\u001b[0m \u001b[0mmcolors\u001b[0m\u001b[0;34m.\u001b[0m\u001b[0mTABLEAU_COLORS\u001b[0m\u001b[0;34m.\u001b[0m\u001b[0mitems\u001b[0m\u001b[0;34m(\u001b[0m\u001b[0;34m)\u001b[0m\u001b[0;34m]\u001b[0m\u001b[0;34m\u001b[0m\u001b[0;34m\u001b[0m\u001b[0m\n\u001b[1;32m      4\u001b[0m \u001b[0;34m\u001b[0m\u001b[0m\n\u001b[1;32m      5\u001b[0m     \u001b[0mfig\u001b[0m\u001b[0;34m,\u001b[0m \u001b[0maxes\u001b[0m \u001b[0;34m=\u001b[0m \u001b[0mplt\u001b[0m\u001b[0;34m.\u001b[0m\u001b[0msubplots\u001b[0m\u001b[0;34m(\u001b[0m\u001b[0mend\u001b[0m\u001b[0;34m-\u001b[0m\u001b[0mstart\u001b[0m\u001b[0;34m,\u001b[0m \u001b[0;36m1\u001b[0m\u001b[0;34m,\u001b[0m \u001b[0mfigsize\u001b[0m\u001b[0;34m=\u001b[0m\u001b[0;34m(\u001b[0m\u001b[0;36m20\u001b[0m\u001b[0;34m,\u001b[0m \u001b[0;34m(\u001b[0m\u001b[0mend\u001b[0m\u001b[0;34m-\u001b[0m\u001b[0mstart\u001b[0m\u001b[0;34m)\u001b[0m\u001b[0;34m*\u001b[0m\u001b[0;36m0.95\u001b[0m\u001b[0;34m)\u001b[0m\u001b[0;34m,\u001b[0m \u001b[0mdpi\u001b[0m\u001b[0;34m=\u001b[0m\u001b[0;36m160\u001b[0m\u001b[0;34m)\u001b[0m\u001b[0;34m\u001b[0m\u001b[0;34m\u001b[0m\u001b[0m\n",
      "\u001b[0;31mNameError\u001b[0m: name 'lda_model' is not defined"
     ]
    }
   ],
   "source": [
    "def sentences_chart(lda_model=lda_model, corpus=corpus, start = 0, end = 13):\n",
    "    corp = corpus[start:end]\n",
    "    mycolors = [color for name, color in mcolors.TABLEAU_COLORS.items()]\n",
    "\n",
    "    fig, axes = plt.subplots(end-start, 1, figsize=(20, (end-start)*0.95), dpi=160)       \n",
    "    axes[0].axis('off')\n",
    "    for i, ax in enumerate(axes):\n",
    "        if i > 0:\n",
    "            corp_cur = corp[i-1] \n",
    "            topic_percs, wordid_topics, wordid_phivalues = lda_model[corp_cur]\n",
    "            word_dominanttopic = [(lda_model.id2word[wd], topic[0]) for wd, topic in wordid_topics]    \n",
    "            ax.text(0.01, 0.5, \"Doc \" + str(i-1) + \": \", verticalalignment='center',\n",
    "                    fontsize=16, color='black', transform=ax.transAxes, fontweight=700)\n",
    "\n",
    "            # Draw Rectange\n",
    "            topic_percs_sorted = sorted(topic_percs, key=lambda x: (x[1]), reverse=True)\n",
    "            ax.add_patch(Rectangle((0.0, 0.05), 0.99, 0.90, fill=None, alpha=1, \n",
    "                                   color=mycolors[topic_percs_sorted[0][0]], linewidth=2))\n",
    "\n",
    "            word_pos = 0.06\n",
    "            for j, (word, topics) in enumerate(word_dominanttopic):\n",
    "                if j < 14:\n",
    "                    ax.text(word_pos, 0.5, word,\n",
    "                            horizontalalignment='left',\n",
    "                            verticalalignment='center',\n",
    "                            fontsize=16, color=mycolors[topics],\n",
    "                            transform=ax.transAxes, fontweight=700)\n",
    "                    word_pos += .009 * len(word)  # to move the word for the next iter\n",
    "                    ax.axis('off')\n",
    "            ax.text(word_pos, 0.5, '. . .',\n",
    "                    horizontalalignment='left',\n",
    "                    verticalalignment='center',\n",
    "                    fontsize=16, color='black',\n",
    "                    transform=ax.transAxes)       \n",
    "\n",
    "    plt.subplots_adjust(wspace=0, hspace=0)\n",
    "    plt.suptitle('Sentence Topic Coloring for Documents: ' + str(start) + ' to ' + str(end-2), fontsize=22, y=0.95, fontweight=700)\n",
    "    plt.tight_layout()\n",
    "    plt.show()\n",
    "\n",
    "sentences_chart()    "
   ]
  },
  {
   "cell_type": "code",
   "execution_count": null,
   "metadata": {},
   "outputs": [],
   "source": []
  }
 ],
 "metadata": {
  "kernelspec": {
   "display_name": "Python 3.9.7",
   "language": "python",
   "name": "python3"
  },
  "language_info": {
   "codemirror_mode": {
    "name": "ipython",
    "version": 3
   },
   "file_extension": ".py",
   "mimetype": "text/x-python",
   "name": "python",
   "nbconvert_exporter": "python",
   "pygments_lexer": "ipython3",
   "version": "3.9.7"
  },
  "orig_nbformat": 4,
  "vscode": {
   "interpreter": {
    "hash": "40d3a090f54c6569ab1632332b64b2c03c39dcf918b08424e98f38b5ae0af88f"
   }
  }
 },
 "nbformat": 4,
 "nbformat_minor": 2
}
