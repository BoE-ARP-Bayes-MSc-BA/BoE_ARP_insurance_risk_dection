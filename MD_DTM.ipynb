{
 "cells": [
  {
   "cell_type": "code",
   "execution_count": 73,
   "metadata": {},
   "outputs": [
    {
     "name": "stderr",
     "output_type": "stream",
     "text": [
      "[nltk_data] Downloading package twitter_samples to\n",
      "[nltk_data]     /Users/timliu/nltk_data...\n",
      "[nltk_data]   Package twitter_samples is already up-to-date!\n",
      "[nltk_data] Downloading package stopwords to\n",
      "[nltk_data]     /Users/timliu/nltk_data...\n",
      "[nltk_data]   Package stopwords is already up-to-date!\n"
     ]
    }
   ],
   "source": [
    "# self-define function\n",
    "from data_cleaning import cleaning_text_MD, sentence_df\n",
    "from participant_function import participants_list, clean_participants_list\n",
    "# from stock_price_info import stock_price_change\\\n",
    "# read and saving path\n",
    "path = \"./meeting_transcript\"\n",
    "text_save_path = \"./output_MD\"\n",
    "# other packages\n",
    "import pdftotext\n",
    "import pandas as pd\n",
    "import numpy as np\n",
    "import matplotlib.pyplot as plt\n",
    "import seaborn as sns\n",
    "import re\n",
    "import os\n",
    "import string\n",
    "# nlp\n",
    "import nltk \n",
    "nltk.download('twitter_samples')\n",
    "from nltk.corpus import twitter_samples\n",
    "from nltk.corpus import stopwords          # module for stop words that come with NLTK\n",
    "nltk.download('stopwords')\n",
    "from nltk.stem import PorterStemmer        # module for stemming\n",
    "from nltk.tokenize import TweetTokenizer   # module for tokenizing strings\n",
    "\n",
    "import warnings\n",
    "from pandas.core.common import SettingWithCopyWarning\n",
    "warnings.simplefilter(action=\"ignore\", category=SettingWithCopyWarning)\n",
    "import spacy \n",
    "nlp = spacy.load(\"en_core_web_lg\")\n",
    "from tqdm import tqdm\n",
    "# tp_modelling packages\n",
    "from collections import Counter, OrderedDict\n",
    "from gensim.models import Phrases\n",
    "import tomotopy as tp\n"
   ]
  },
  {
   "cell_type": "code",
   "execution_count": 74,
   "metadata": {},
   "outputs": [
    {
     "name": "stdout",
     "output_type": "stream",
     "text": [
      "6982\n"
     ]
    },
    {
     "data": {
      "text/html": [
       "<div>\n",
       "<style scoped>\n",
       "    .dataframe tbody tr th:only-of-type {\n",
       "        vertical-align: middle;\n",
       "    }\n",
       "\n",
       "    .dataframe tbody tr th {\n",
       "        vertical-align: top;\n",
       "    }\n",
       "\n",
       "    .dataframe thead th {\n",
       "        text-align: right;\n",
       "    }\n",
       "</style>\n",
       "<table border=\"1\" class=\"dataframe\">\n",
       "  <thead>\n",
       "    <tr style=\"text-align: right;\">\n",
       "      <th></th>\n",
       "      <th>participants</th>\n",
       "      <th>file_name</th>\n",
       "      <th>date</th>\n",
       "      <th>idx</th>\n",
       "      <th>company_paticipants_yes</th>\n",
       "      <th>other_paticipants_yes</th>\n",
       "      <th>company_name</th>\n",
       "      <th>paraghrph</th>\n",
       "      <th>paraghrph_clean</th>\n",
       "      <th>paraghrph_noun</th>\n",
       "      <th>token</th>\n",
       "      <th>word_count</th>\n",
       "      <th>char_count</th>\n",
       "      <th>sentence_count</th>\n",
       "      <th>avg_word_length</th>\n",
       "      <th>avg_sentence_length</th>\n",
       "      <th>token_len</th>\n",
       "      <th>topic_1</th>\n",
       "      <th>topic_2</th>\n",
       "      <th>topic_3</th>\n",
       "      <th>topic_4</th>\n",
       "      <th>topic_5</th>\n",
       "      <th>topic_6</th>\n",
       "      <th>topic_7</th>\n",
       "      <th>topic_8</th>\n",
       "      <th>topic_9</th>\n",
       "      <th>topic_10</th>\n",
       "      <th>topic_11</th>\n",
       "      <th>topic_12</th>\n",
       "      <th>topic_13</th>\n",
       "      <th>topic_14</th>\n",
       "      <th>topic_15</th>\n",
       "      <th>topic_16</th>\n",
       "      <th>topic_17</th>\n",
       "      <th>topic_18</th>\n",
       "    </tr>\n",
       "  </thead>\n",
       "  <tbody>\n",
       "    <tr>\n",
       "      <th>999</th>\n",
       "      <td>Chris Knight</td>\n",
       "      <td>20110202_LEGAL_-_GEN_GRP-_Guidance_Call_2011-2...</td>\n",
       "      <td>2011-02-02</td>\n",
       "      <td>70.0</td>\n",
       "      <td>1</td>\n",
       "      <td>0</td>\n",
       "      <td>LEGAL -</td>\n",
       "      <td>18966542  (Technical difficulty) in-force ter...</td>\n",
       "      <td>Technical difficulty in-force term   was re...</td>\n",
       "      <td>difficulty force term reinsurer FBARC x fundin...</td>\n",
       "      <td>['difficulty', 'force', 'reinsurer', 'fbarc', ...</td>\n",
       "      <td>147</td>\n",
       "      <td>977</td>\n",
       "      <td>46</td>\n",
       "      <td>6.646259</td>\n",
       "      <td>3.195652</td>\n",
       "      <td>100</td>\n",
       "      <td>0.001666</td>\n",
       "      <td>0.226726</td>\n",
       "      <td>0.000690</td>\n",
       "      <td>0.079859</td>\n",
       "      <td>0.030390</td>\n",
       "      <td>0.010232</td>\n",
       "      <td>0.109291</td>\n",
       "      <td>0.001966</td>\n",
       "      <td>0.001340</td>\n",
       "      <td>0.002058</td>\n",
       "      <td>0.000615</td>\n",
       "      <td>0.039423</td>\n",
       "      <td>0.217162</td>\n",
       "      <td>0.000790</td>\n",
       "      <td>0.000323</td>\n",
       "      <td>0.275369</td>\n",
       "      <td>0.001259</td>\n",
       "      <td>0.000841</td>\n",
       "    </tr>\n",
       "    <tr>\n",
       "      <th>3076</th>\n",
       "      <td>Jimmy Atkins</td>\n",
       "      <td>20110202_LEGAL_-_GEN_GRP-_Guidance_Call_2011-2...</td>\n",
       "      <td>2011-02-02</td>\n",
       "      <td>38.0</td>\n",
       "      <td>1</td>\n",
       "      <td>0</td>\n",
       "      <td>LEGAL -</td>\n",
       "      <td>20917374  Thanks, Nigel. Since 1999, Legal &amp; ...</td>\n",
       "      <td>Thanks  Since  Legal &amp;   LGA has focused ex...</td>\n",
       "      <td>thank writing term life life mortality protect...</td>\n",
       "      <td>['write', 'mortality', 'protection', 'brokerag...</td>\n",
       "      <td>80</td>\n",
       "      <td>572</td>\n",
       "      <td>32</td>\n",
       "      <td>7.150000</td>\n",
       "      <td>2.500000</td>\n",
       "      <td>56</td>\n",
       "      <td>0.002928</td>\n",
       "      <td>0.381257</td>\n",
       "      <td>0.001212</td>\n",
       "      <td>0.019840</td>\n",
       "      <td>0.001761</td>\n",
       "      <td>0.000767</td>\n",
       "      <td>0.002703</td>\n",
       "      <td>0.003455</td>\n",
       "      <td>0.019572</td>\n",
       "      <td>0.141347</td>\n",
       "      <td>0.052729</td>\n",
       "      <td>0.000423</td>\n",
       "      <td>0.020125</td>\n",
       "      <td>0.001389</td>\n",
       "      <td>0.000568</td>\n",
       "      <td>0.346235</td>\n",
       "      <td>0.002212</td>\n",
       "      <td>0.001478</td>\n",
       "    </tr>\n",
       "    <tr>\n",
       "      <th>1905</th>\n",
       "      <td>Esteban Tejera</td>\n",
       "      <td>20110202 _Mapfre_SA_Earnings_Call_SD0000000027...</td>\n",
       "      <td>2011-02-02</td>\n",
       "      <td>0.0</td>\n",
       "      <td>1</td>\n",
       "      <td>0</td>\n",
       "      <td>Mapfre SA</td>\n",
       "      <td>3910673  Good afternoon, ladies and gentlemen...</td>\n",
       "      <td>Good afternoon ladies and gentlemen Welcome...</td>\n",
       "      <td>afternoon lady gentleman year result presentat...</td>\n",
       "      <td>['overview', 'financial', 'standpoint', 'backd...</td>\n",
       "      <td>222</td>\n",
       "      <td>1468</td>\n",
       "      <td>81</td>\n",
       "      <td>6.612613</td>\n",
       "      <td>2.740741</td>\n",
       "      <td>90</td>\n",
       "      <td>0.045285</td>\n",
       "      <td>0.012437</td>\n",
       "      <td>0.000765</td>\n",
       "      <td>0.099391</td>\n",
       "      <td>0.001111</td>\n",
       "      <td>0.000484</td>\n",
       "      <td>0.001705</td>\n",
       "      <td>0.034758</td>\n",
       "      <td>0.001486</td>\n",
       "      <td>0.089158</td>\n",
       "      <td>0.000682</td>\n",
       "      <td>0.141441</td>\n",
       "      <td>0.077851</td>\n",
       "      <td>0.000876</td>\n",
       "      <td>0.000358</td>\n",
       "      <td>0.001205</td>\n",
       "      <td>0.490075</td>\n",
       "      <td>0.000932</td>\n",
       "    </tr>\n",
       "    <tr>\n",
       "      <th>4912</th>\n",
       "      <td>Nigel Wilson</td>\n",
       "      <td>20110202_LEGAL_-_GEN_GRP-_Guidance_Call_2011-2...</td>\n",
       "      <td>2011-02-02</td>\n",
       "      <td>5.0</td>\n",
       "      <td>1</td>\n",
       "      <td>0</td>\n",
       "      <td>LEGAL -</td>\n",
       "      <td>1535703  Thank you. Good afternoon, ladies an...</td>\n",
       "      <td>Thank you Good afternoon ladies and gentlem...</td>\n",
       "      <td>afternoon lady gentleman time call progress mo...</td>\n",
       "      <td>['progress', 'land', 'iver', 'generation', 'ca...</td>\n",
       "      <td>69</td>\n",
       "      <td>481</td>\n",
       "      <td>36</td>\n",
       "      <td>6.971014</td>\n",
       "      <td>1.916667</td>\n",
       "      <td>43</td>\n",
       "      <td>0.070313</td>\n",
       "      <td>0.225026</td>\n",
       "      <td>0.001562</td>\n",
       "      <td>0.003381</td>\n",
       "      <td>0.068811</td>\n",
       "      <td>0.000988</td>\n",
       "      <td>0.114384</td>\n",
       "      <td>0.004451</td>\n",
       "      <td>0.025215</td>\n",
       "      <td>0.381728</td>\n",
       "      <td>0.001393</td>\n",
       "      <td>0.000544</td>\n",
       "      <td>0.003747</td>\n",
       "      <td>0.001790</td>\n",
       "      <td>0.000731</td>\n",
       "      <td>0.091184</td>\n",
       "      <td>0.002850</td>\n",
       "      <td>0.001904</td>\n",
       "    </tr>\n",
       "    <tr>\n",
       "      <th>3981</th>\n",
       "      <td>Luigi Lubelli</td>\n",
       "      <td>20110202 _Mapfre_SA_Earnings_Call_SD0000000027...</td>\n",
       "      <td>2011-02-02</td>\n",
       "      <td>89.0</td>\n",
       "      <td>1</td>\n",
       "      <td>0</td>\n",
       "      <td>Mapfre SA</td>\n",
       "      <td>4108780  Thank you, Esteban. Good afternoon t...</td>\n",
       "      <td>Thank you  Good afternoon to everybody on t...</td>\n",
       "      <td>afternoon internet h slide breakdown premium p...</td>\n",
       "      <td>['internet', 'breakdown', 'activity', 'contrib...</td>\n",
       "      <td>334</td>\n",
       "      <td>2283</td>\n",
       "      <td>106</td>\n",
       "      <td>6.835329</td>\n",
       "      <td>3.150943</td>\n",
       "      <td>164</td>\n",
       "      <td>0.001024</td>\n",
       "      <td>0.000875</td>\n",
       "      <td>0.006445</td>\n",
       "      <td>0.049086</td>\n",
       "      <td>0.000616</td>\n",
       "      <td>0.000268</td>\n",
       "      <td>0.006966</td>\n",
       "      <td>0.001208</td>\n",
       "      <td>0.000824</td>\n",
       "      <td>0.001265</td>\n",
       "      <td>0.000378</td>\n",
       "      <td>0.000148</td>\n",
       "      <td>0.001017</td>\n",
       "      <td>0.018549</td>\n",
       "      <td>0.024283</td>\n",
       "      <td>0.000668</td>\n",
       "      <td>0.885863</td>\n",
       "      <td>0.000517</td>\n",
       "    </tr>\n",
       "  </tbody>\n",
       "</table>\n",
       "</div>"
      ],
      "text/plain": [
       "        participants                                          file_name  \\\n",
       "999     Chris Knight  20110202_LEGAL_-_GEN_GRP-_Guidance_Call_2011-2...   \n",
       "3076    Jimmy Atkins  20110202_LEGAL_-_GEN_GRP-_Guidance_Call_2011-2...   \n",
       "1905  Esteban Tejera  20110202 _Mapfre_SA_Earnings_Call_SD0000000027...   \n",
       "4912    Nigel Wilson  20110202_LEGAL_-_GEN_GRP-_Guidance_Call_2011-2...   \n",
       "3981   Luigi Lubelli  20110202 _Mapfre_SA_Earnings_Call_SD0000000027...   \n",
       "\n",
       "            date   idx  company_paticipants_yes  other_paticipants_yes  \\\n",
       "999   2011-02-02  70.0                        1                      0   \n",
       "3076  2011-02-02  38.0                        1                      0   \n",
       "1905  2011-02-02   0.0                        1                      0   \n",
       "4912  2011-02-02   5.0                        1                      0   \n",
       "3981  2011-02-02  89.0                        1                      0   \n",
       "\n",
       "     company_name                                          paraghrph  \\\n",
       "999       LEGAL -   18966542  (Technical difficulty) in-force ter...   \n",
       "3076      LEGAL -   20917374  Thanks, Nigel. Since 1999, Legal & ...   \n",
       "1905    Mapfre SA   3910673  Good afternoon, ladies and gentlemen...   \n",
       "4912      LEGAL -   1535703  Thank you. Good afternoon, ladies an...   \n",
       "3981    Mapfre SA   4108780  Thank you, Esteban. Good afternoon t...   \n",
       "\n",
       "                                        paraghrph_clean  \\\n",
       "999      Technical difficulty in-force term   was re...   \n",
       "3076     Thanks  Since  Legal &   LGA has focused ex...   \n",
       "1905     Good afternoon ladies and gentlemen Welcome...   \n",
       "4912     Thank you Good afternoon ladies and gentlem...   \n",
       "3981     Thank you  Good afternoon to everybody on t...   \n",
       "\n",
       "                                         paraghrph_noun  \\\n",
       "999   difficulty force term reinsurer FBARC x fundin...   \n",
       "3076  thank writing term life life mortality protect...   \n",
       "1905  afternoon lady gentleman year result presentat...   \n",
       "4912  afternoon lady gentleman time call progress mo...   \n",
       "3981  afternoon internet h slide breakdown premium p...   \n",
       "\n",
       "                                                  token  word_count  \\\n",
       "999   ['difficulty', 'force', 'reinsurer', 'fbarc', ...         147   \n",
       "3076  ['write', 'mortality', 'protection', 'brokerag...          80   \n",
       "1905  ['overview', 'financial', 'standpoint', 'backd...         222   \n",
       "4912  ['progress', 'land', 'iver', 'generation', 'ca...          69   \n",
       "3981  ['internet', 'breakdown', 'activity', 'contrib...         334   \n",
       "\n",
       "      char_count  sentence_count  avg_word_length  avg_sentence_length  \\\n",
       "999          977              46         6.646259             3.195652   \n",
       "3076         572              32         7.150000             2.500000   \n",
       "1905        1468              81         6.612613             2.740741   \n",
       "4912         481              36         6.971014             1.916667   \n",
       "3981        2283             106         6.835329             3.150943   \n",
       "\n",
       "      token_len   topic_1   topic_2   topic_3   topic_4   topic_5   topic_6  \\\n",
       "999         100  0.001666  0.226726  0.000690  0.079859  0.030390  0.010232   \n",
       "3076         56  0.002928  0.381257  0.001212  0.019840  0.001761  0.000767   \n",
       "1905         90  0.045285  0.012437  0.000765  0.099391  0.001111  0.000484   \n",
       "4912         43  0.070313  0.225026  0.001562  0.003381  0.068811  0.000988   \n",
       "3981        164  0.001024  0.000875  0.006445  0.049086  0.000616  0.000268   \n",
       "\n",
       "       topic_7   topic_8   topic_9  topic_10  topic_11  topic_12  topic_13  \\\n",
       "999   0.109291  0.001966  0.001340  0.002058  0.000615  0.039423  0.217162   \n",
       "3076  0.002703  0.003455  0.019572  0.141347  0.052729  0.000423  0.020125   \n",
       "1905  0.001705  0.034758  0.001486  0.089158  0.000682  0.141441  0.077851   \n",
       "4912  0.114384  0.004451  0.025215  0.381728  0.001393  0.000544  0.003747   \n",
       "3981  0.006966  0.001208  0.000824  0.001265  0.000378  0.000148  0.001017   \n",
       "\n",
       "      topic_14  topic_15  topic_16  topic_17  topic_18  \n",
       "999   0.000790  0.000323  0.275369  0.001259  0.000841  \n",
       "3076  0.001389  0.000568  0.346235  0.002212  0.001478  \n",
       "1905  0.000876  0.000358  0.001205  0.490075  0.000932  \n",
       "4912  0.001790  0.000731  0.091184  0.002850  0.001904  \n",
       "3981  0.018549  0.024283  0.000668  0.885863  0.000517  "
      ]
     },
     "execution_count": 74,
     "metadata": {},
     "output_type": "execute_result"
    }
   ],
   "source": [
    "# call out the model_df CSV\n",
    "model_df = pd.read_csv('./main_df_output/MD18_topic_modelling_df.csv')\n",
    "# model_df sort by date\n",
    "model_df = model_df.sort_values(by=['date'])\n",
    "pd.set_option('display.max_columns', None)\n",
    "print(len(model_df))\n",
    "model_df.head()\n"
   ]
  },
  {
   "cell_type": "markdown",
   "metadata": {},
   "source": [
    "# Tokenize"
   ]
  },
  {
   "cell_type": "code",
   "execution_count": 75,
   "metadata": {},
   "outputs": [],
   "source": [
    "def clean_tokens_nuon(text_series):\n",
    "    # step 1: convert text_series df to list\n",
    "    text_list = text_series.to_list()\n",
    "\n",
    "    # step 2: change the list to lower case\n",
    "    text_list = list(map(lambda x: x.lower(),text_list))\n",
    "\n",
    "    # step 3: remove whitespaces and trailing spaces\n",
    "    def remove_whitespace(text):\n",
    "        pattern = re.compile(r'\\s+') \n",
    "        Without_whitespace = re.sub(pattern, ' ', text)\n",
    "        text = Without_whitespace.replace('?', ' ? ').replace(')', ') ')\n",
    "        text = text.strip()\n",
    "        return text\n",
    "    text_list=list(map(lambda x: remove_whitespace(x),text_list))\n",
    "\n",
    "    # step 4: apply nlp pipeline remove stop words, numbers and lematize the words\n",
    "    # expand the list of stopwords\n",
    "    gist_file = open(\"./input/gist_stopwords.txt\", \"r\")\n",
    "    try:\n",
    "        content = gist_file.read()\n",
    "        stopwords = content.split(\",\")\n",
    "    finally:\n",
    "        gist_file.close()\n",
    "        \n",
    "    stopwords=[i.replace('\"',\"\").strip() for i in stopwords]\n",
    "    # add the stopwords to the list of stopwords\n",
    "    for i in stopwords:\n",
    "        nlp.Defaults.stop_words.add(i)\n",
    "\n",
    "    # create colloum for cleaned text_list\n",
    "    tokens, tmp_tokens = [], [] \n",
    "    for text in tqdm(text_list): # or tqdm.tqdm\n",
    "        tmp_tokens = [\n",
    "            token.lemma_\n",
    "            for token in nlp(text)\n",
    "            if not token.is_stop \n",
    "            and not token.like_num\n",
    "            and not token.is_punct\n",
    "            and token.is_alpha\n",
    "            ]\n",
    "        tokens.append(tmp_tokens)\n",
    "        tmp_tokens=[]\n",
    "    return tokens"
   ]
  },
  {
   "cell_type": "code",
   "execution_count": 76,
   "metadata": {},
   "outputs": [
    {
     "name": "stderr",
     "output_type": "stream",
     "text": [
      "/var/folders/sq/sxhsy98j6f57m406rd5lz1_r0000gn/T/ipykernel_22843/458752224.py:2: FutureWarning:\n",
      "\n",
      "The default value of regex will change from True to False in a future version.\n",
      "\n",
      "100%|██████████| 6982/6982 [04:31<00:00, 25.74it/s]\n"
     ]
    },
    {
     "data": {
      "text/html": [
       "<div>\n",
       "<style scoped>\n",
       "    .dataframe tbody tr th:only-of-type {\n",
       "        vertical-align: middle;\n",
       "    }\n",
       "\n",
       "    .dataframe tbody tr th {\n",
       "        vertical-align: top;\n",
       "    }\n",
       "\n",
       "    .dataframe thead th {\n",
       "        text-align: right;\n",
       "    }\n",
       "</style>\n",
       "<table border=\"1\" class=\"dataframe\">\n",
       "  <thead>\n",
       "    <tr style=\"text-align: right;\">\n",
       "      <th></th>\n",
       "      <th>participants</th>\n",
       "      <th>file_name</th>\n",
       "      <th>date</th>\n",
       "      <th>idx</th>\n",
       "      <th>company_paticipants_yes</th>\n",
       "      <th>other_paticipants_yes</th>\n",
       "      <th>company_name</th>\n",
       "      <th>paraghrph</th>\n",
       "      <th>paraghrph_clean</th>\n",
       "      <th>paraghrph_noun</th>\n",
       "      <th>token</th>\n",
       "      <th>word_count</th>\n",
       "      <th>char_count</th>\n",
       "      <th>sentence_count</th>\n",
       "      <th>avg_word_length</th>\n",
       "      <th>avg_sentence_length</th>\n",
       "      <th>token_len</th>\n",
       "      <th>topic_1</th>\n",
       "      <th>topic_2</th>\n",
       "      <th>topic_3</th>\n",
       "      <th>topic_4</th>\n",
       "      <th>topic_5</th>\n",
       "      <th>topic_6</th>\n",
       "      <th>topic_7</th>\n",
       "      <th>topic_8</th>\n",
       "      <th>topic_9</th>\n",
       "      <th>topic_10</th>\n",
       "      <th>topic_11</th>\n",
       "      <th>topic_12</th>\n",
       "      <th>topic_13</th>\n",
       "      <th>topic_14</th>\n",
       "      <th>topic_15</th>\n",
       "      <th>topic_16</th>\n",
       "      <th>topic_17</th>\n",
       "      <th>topic_18</th>\n",
       "    </tr>\n",
       "  </thead>\n",
       "  <tbody>\n",
       "    <tr>\n",
       "      <th>999</th>\n",
       "      <td>Chris Knight</td>\n",
       "      <td>20110202_LEGAL_-_GEN_GRP-_Guidance_Call_2011-2...</td>\n",
       "      <td>2011-02-02</td>\n",
       "      <td>70.0</td>\n",
       "      <td>1</td>\n",
       "      <td>0</td>\n",
       "      <td>LEGAL -</td>\n",
       "      <td>18966542  (Technical difficulty) in-force ter...</td>\n",
       "      <td>Technical difficulty in-force term   was re...</td>\n",
       "      <td>difficulty force term reinsurer FBARC x fundin...</td>\n",
       "      <td>[difficulty, force, term, reinsurer, fbarc, fu...</td>\n",
       "      <td>147</td>\n",
       "      <td>977</td>\n",
       "      <td>46</td>\n",
       "      <td>6.646259</td>\n",
       "      <td>3.195652</td>\n",
       "      <td>100</td>\n",
       "      <td>0.001666</td>\n",
       "      <td>0.226726</td>\n",
       "      <td>0.000690</td>\n",
       "      <td>0.079859</td>\n",
       "      <td>0.030390</td>\n",
       "      <td>0.010232</td>\n",
       "      <td>0.109291</td>\n",
       "      <td>0.001966</td>\n",
       "      <td>0.001340</td>\n",
       "      <td>0.002058</td>\n",
       "      <td>0.000615</td>\n",
       "      <td>0.039423</td>\n",
       "      <td>0.217162</td>\n",
       "      <td>0.000790</td>\n",
       "      <td>0.000323</td>\n",
       "      <td>0.275369</td>\n",
       "      <td>0.001259</td>\n",
       "      <td>0.000841</td>\n",
       "    </tr>\n",
       "    <tr>\n",
       "      <th>3076</th>\n",
       "      <td>Jimmy Atkins</td>\n",
       "      <td>20110202_LEGAL_-_GEN_GRP-_Guidance_Call_2011-2...</td>\n",
       "      <td>2011-02-02</td>\n",
       "      <td>38.0</td>\n",
       "      <td>1</td>\n",
       "      <td>0</td>\n",
       "      <td>LEGAL -</td>\n",
       "      <td>20917374  Thanks, Nigel. Since 1999, Legal &amp; ...</td>\n",
       "      <td>Thanks  Since  Legal &amp;   LGA has focused ex...</td>\n",
       "      <td>thank writing term life life mortality protect...</td>\n",
       "      <td>[write, term, life, life, mortality, protectio...</td>\n",
       "      <td>80</td>\n",
       "      <td>572</td>\n",
       "      <td>32</td>\n",
       "      <td>7.150000</td>\n",
       "      <td>2.500000</td>\n",
       "      <td>56</td>\n",
       "      <td>0.002928</td>\n",
       "      <td>0.381257</td>\n",
       "      <td>0.001212</td>\n",
       "      <td>0.019840</td>\n",
       "      <td>0.001761</td>\n",
       "      <td>0.000767</td>\n",
       "      <td>0.002703</td>\n",
       "      <td>0.003455</td>\n",
       "      <td>0.019572</td>\n",
       "      <td>0.141347</td>\n",
       "      <td>0.052729</td>\n",
       "      <td>0.000423</td>\n",
       "      <td>0.020125</td>\n",
       "      <td>0.001389</td>\n",
       "      <td>0.000568</td>\n",
       "      <td>0.346235</td>\n",
       "      <td>0.002212</td>\n",
       "      <td>0.001478</td>\n",
       "    </tr>\n",
       "    <tr>\n",
       "      <th>1905</th>\n",
       "      <td>Esteban Tejera</td>\n",
       "      <td>20110202 _Mapfre_SA_Earnings_Call_SD0000000027...</td>\n",
       "      <td>2011-02-02</td>\n",
       "      <td>0.0</td>\n",
       "      <td>1</td>\n",
       "      <td>0</td>\n",
       "      <td>Mapfre SA</td>\n",
       "      <td>3910673  Good afternoon, ladies and gentlemen...</td>\n",
       "      <td>Good afternoon ladies and gentlemen Welcome...</td>\n",
       "      <td>afternoon lady gentleman year result presentat...</td>\n",
       "      <td>[afternoon, lady, gentleman, year, result, pre...</td>\n",
       "      <td>222</td>\n",
       "      <td>1468</td>\n",
       "      <td>81</td>\n",
       "      <td>6.612613</td>\n",
       "      <td>2.740741</td>\n",
       "      <td>90</td>\n",
       "      <td>0.045285</td>\n",
       "      <td>0.012437</td>\n",
       "      <td>0.000765</td>\n",
       "      <td>0.099391</td>\n",
       "      <td>0.001111</td>\n",
       "      <td>0.000484</td>\n",
       "      <td>0.001705</td>\n",
       "      <td>0.034758</td>\n",
       "      <td>0.001486</td>\n",
       "      <td>0.089158</td>\n",
       "      <td>0.000682</td>\n",
       "      <td>0.141441</td>\n",
       "      <td>0.077851</td>\n",
       "      <td>0.000876</td>\n",
       "      <td>0.000358</td>\n",
       "      <td>0.001205</td>\n",
       "      <td>0.490075</td>\n",
       "      <td>0.000932</td>\n",
       "    </tr>\n",
       "    <tr>\n",
       "      <th>4912</th>\n",
       "      <td>Nigel Wilson</td>\n",
       "      <td>20110202_LEGAL_-_GEN_GRP-_Guidance_Call_2011-2...</td>\n",
       "      <td>2011-02-02</td>\n",
       "      <td>5.0</td>\n",
       "      <td>1</td>\n",
       "      <td>0</td>\n",
       "      <td>LEGAL -</td>\n",
       "      <td>1535703  Thank you. Good afternoon, ladies an...</td>\n",
       "      <td>Thank you Good afternoon ladies and gentlem...</td>\n",
       "      <td>afternoon lady gentleman time call progress mo...</td>\n",
       "      <td>[afternoon, lady, gentleman, time, progress, m...</td>\n",
       "      <td>69</td>\n",
       "      <td>481</td>\n",
       "      <td>36</td>\n",
       "      <td>6.971014</td>\n",
       "      <td>1.916667</td>\n",
       "      <td>43</td>\n",
       "      <td>0.070313</td>\n",
       "      <td>0.225026</td>\n",
       "      <td>0.001562</td>\n",
       "      <td>0.003381</td>\n",
       "      <td>0.068811</td>\n",
       "      <td>0.000988</td>\n",
       "      <td>0.114384</td>\n",
       "      <td>0.004451</td>\n",
       "      <td>0.025215</td>\n",
       "      <td>0.381728</td>\n",
       "      <td>0.001393</td>\n",
       "      <td>0.000544</td>\n",
       "      <td>0.003747</td>\n",
       "      <td>0.001790</td>\n",
       "      <td>0.000731</td>\n",
       "      <td>0.091184</td>\n",
       "      <td>0.002850</td>\n",
       "      <td>0.001904</td>\n",
       "    </tr>\n",
       "    <tr>\n",
       "      <th>3981</th>\n",
       "      <td>Luigi Lubelli</td>\n",
       "      <td>20110202 _Mapfre_SA_Earnings_Call_SD0000000027...</td>\n",
       "      <td>2011-02-02</td>\n",
       "      <td>89.0</td>\n",
       "      <td>1</td>\n",
       "      <td>0</td>\n",
       "      <td>Mapfre SA</td>\n",
       "      <td>4108780  Thank you, Esteban. Good afternoon t...</td>\n",
       "      <td>Thank you  Good afternoon to everybody on t...</td>\n",
       "      <td>afternoon internet h slide breakdown premium p...</td>\n",
       "      <td>[afternoon, internet, slide, breakdown, premiu...</td>\n",
       "      <td>334</td>\n",
       "      <td>2283</td>\n",
       "      <td>106</td>\n",
       "      <td>6.835329</td>\n",
       "      <td>3.150943</td>\n",
       "      <td>164</td>\n",
       "      <td>0.001024</td>\n",
       "      <td>0.000875</td>\n",
       "      <td>0.006445</td>\n",
       "      <td>0.049086</td>\n",
       "      <td>0.000616</td>\n",
       "      <td>0.000268</td>\n",
       "      <td>0.006966</td>\n",
       "      <td>0.001208</td>\n",
       "      <td>0.000824</td>\n",
       "      <td>0.001265</td>\n",
       "      <td>0.000378</td>\n",
       "      <td>0.000148</td>\n",
       "      <td>0.001017</td>\n",
       "      <td>0.018549</td>\n",
       "      <td>0.024283</td>\n",
       "      <td>0.000668</td>\n",
       "      <td>0.885863</td>\n",
       "      <td>0.000517</td>\n",
       "    </tr>\n",
       "    <tr>\n",
       "      <th>...</th>\n",
       "      <td>...</td>\n",
       "      <td>...</td>\n",
       "      <td>...</td>\n",
       "      <td>...</td>\n",
       "      <td>...</td>\n",
       "      <td>...</td>\n",
       "      <td>...</td>\n",
       "      <td>...</td>\n",
       "      <td>...</td>\n",
       "      <td>...</td>\n",
       "      <td>...</td>\n",
       "      <td>...</td>\n",
       "      <td>...</td>\n",
       "      <td>...</td>\n",
       "      <td>...</td>\n",
       "      <td>...</td>\n",
       "      <td>...</td>\n",
       "      <td>...</td>\n",
       "      <td>...</td>\n",
       "      <td>...</td>\n",
       "      <td>...</td>\n",
       "      <td>...</td>\n",
       "      <td>...</td>\n",
       "      <td>...</td>\n",
       "      <td>...</td>\n",
       "      <td>...</td>\n",
       "      <td>...</td>\n",
       "      <td>...</td>\n",
       "      <td>...</td>\n",
       "      <td>...</td>\n",
       "      <td>...</td>\n",
       "      <td>...</td>\n",
       "      <td>...</td>\n",
       "      <td>...</td>\n",
       "      <td>...</td>\n",
       "    </tr>\n",
       "    <tr>\n",
       "      <th>3120</th>\n",
       "      <td>Johan Kirstein Brammer</td>\n",
       "      <td>20220426_Tryg_A-S-_Earnings_Call_2022-4-26_DN0...</td>\n",
       "      <td>2022-04-26</td>\n",
       "      <td>67.0</td>\n",
       "      <td>1</td>\n",
       "      <td>0</td>\n",
       "      <td>Tryg A-S-</td>\n",
       "      <td>18640275  Thank you, Morten, and I think we a...</td>\n",
       "      <td>Thank you  and I think we are going to slid...</td>\n",
       "      <td>performance g premium growth % currency reduct...</td>\n",
       "      <td>[performance, premium, growth, currency, reduc...</td>\n",
       "      <td>212</td>\n",
       "      <td>1397</td>\n",
       "      <td>57</td>\n",
       "      <td>6.589623</td>\n",
       "      <td>3.719298</td>\n",
       "      <td>77</td>\n",
       "      <td>0.002150</td>\n",
       "      <td>0.001837</td>\n",
       "      <td>0.038824</td>\n",
       "      <td>0.090440</td>\n",
       "      <td>0.026583</td>\n",
       "      <td>0.000563</td>\n",
       "      <td>0.001985</td>\n",
       "      <td>0.166918</td>\n",
       "      <td>0.001730</td>\n",
       "      <td>0.002657</td>\n",
       "      <td>0.000794</td>\n",
       "      <td>0.000310</td>\n",
       "      <td>0.002136</td>\n",
       "      <td>0.001020</td>\n",
       "      <td>0.000417</td>\n",
       "      <td>0.039337</td>\n",
       "      <td>0.001625</td>\n",
       "      <td>0.620673</td>\n",
       "    </tr>\n",
       "    <tr>\n",
       "      <th>4737</th>\n",
       "      <td>Morten Hubbe</td>\n",
       "      <td>20220426_Tryg_A-S-_Earnings_Call_2022-4-26_DN0...</td>\n",
       "      <td>2022-04-26</td>\n",
       "      <td>265.0</td>\n",
       "      <td>1</td>\n",
       "      <td>0</td>\n",
       "      <td>Tryg A-S-</td>\n",
       "      <td>7481116  The important thing to remember in '...</td>\n",
       "      <td>The important thing to remember in ' on sli...</td>\n",
       "      <td>thing slide consolidation q course change guid...</td>\n",
       "      <td>[thing, slide, consolidation, change, guidance...</td>\n",
       "      <td>44</td>\n",
       "      <td>281</td>\n",
       "      <td>16</td>\n",
       "      <td>6.386364</td>\n",
       "      <td>2.750000</td>\n",
       "      <td>17</td>\n",
       "      <td>0.008910</td>\n",
       "      <td>0.007612</td>\n",
       "      <td>0.003689</td>\n",
       "      <td>0.007986</td>\n",
       "      <td>0.005361</td>\n",
       "      <td>0.002333</td>\n",
       "      <td>0.008226</td>\n",
       "      <td>0.324900</td>\n",
       "      <td>0.059567</td>\n",
       "      <td>0.011010</td>\n",
       "      <td>0.003290</td>\n",
       "      <td>0.001286</td>\n",
       "      <td>0.008852</td>\n",
       "      <td>0.004228</td>\n",
       "      <td>0.001728</td>\n",
       "      <td>0.005816</td>\n",
       "      <td>0.006732</td>\n",
       "      <td>0.528474</td>\n",
       "    </tr>\n",
       "    <tr>\n",
       "      <th>2611</th>\n",
       "      <td>Helge Leiro Baastad</td>\n",
       "      <td>20220427_GJENSIDIGE_FORSI-_Earnings_Call_2022-...</td>\n",
       "      <td>2022-04-27</td>\n",
       "      <td>13.0</td>\n",
       "      <td>1</td>\n",
       "      <td>0</td>\n",
       "      <td>GJENSIDIGE FORSI-</td>\n",
       "      <td>5865247  Thank you, Mitra. Good morning and w...</td>\n",
       "      <td>Thank you  Good morning and welcome everyon...</td>\n",
       "      <td>morning world invasion uncertainty level decad...</td>\n",
       "      <td>[morning, invasion, uncertainty, level, decade...</td>\n",
       "      <td>323</td>\n",
       "      <td>2159</td>\n",
       "      <td>99</td>\n",
       "      <td>6.684211</td>\n",
       "      <td>3.262626</td>\n",
       "      <td>195</td>\n",
       "      <td>0.051602</td>\n",
       "      <td>0.000737</td>\n",
       "      <td>0.000357</td>\n",
       "      <td>0.000773</td>\n",
       "      <td>0.071555</td>\n",
       "      <td>0.000226</td>\n",
       "      <td>0.000797</td>\n",
       "      <td>0.158311</td>\n",
       "      <td>0.000694</td>\n",
       "      <td>0.254764</td>\n",
       "      <td>0.000319</td>\n",
       "      <td>0.000125</td>\n",
       "      <td>0.000857</td>\n",
       "      <td>0.000409</td>\n",
       "      <td>0.000167</td>\n",
       "      <td>0.000563</td>\n",
       "      <td>0.020948</td>\n",
       "      <td>0.436796</td>\n",
       "    </tr>\n",
       "    <tr>\n",
       "      <th>2612</th>\n",
       "      <td>Helge Leiro Baastad</td>\n",
       "      <td>20220427_GJENSIDIGE_FORSI-_Earnings_Call_2022-...</td>\n",
       "      <td>2022-04-27</td>\n",
       "      <td>255.0</td>\n",
       "      <td>1</td>\n",
       "      <td>0</td>\n",
       "      <td>GJENSIDIGE FORSI-</td>\n",
       "      <td>5865247  Thank you, Jostein. To sum up on Pag...</td>\n",
       "      <td>Thank you tein To sum up on Page  we are ve...</td>\n",
       "      <td>result iver target year conﬁt growth eﬃcient o...</td>\n",
       "      <td>[result, iver, target, year, conﬁt, growth, eﬃ...</td>\n",
       "      <td>27</td>\n",
       "      <td>176</td>\n",
       "      <td>9</td>\n",
       "      <td>6.518519</td>\n",
       "      <td>3.000000</td>\n",
       "      <td>13</td>\n",
       "      <td>0.011273</td>\n",
       "      <td>0.009631</td>\n",
       "      <td>0.004668</td>\n",
       "      <td>0.010104</td>\n",
       "      <td>0.073074</td>\n",
       "      <td>0.002952</td>\n",
       "      <td>0.275574</td>\n",
       "      <td>0.212177</td>\n",
       "      <td>0.009071</td>\n",
       "      <td>0.013930</td>\n",
       "      <td>0.070454</td>\n",
       "      <td>0.001627</td>\n",
       "      <td>0.011199</td>\n",
       "      <td>0.071641</td>\n",
       "      <td>0.002186</td>\n",
       "      <td>0.073650</td>\n",
       "      <td>0.008517</td>\n",
       "      <td>0.138274</td>\n",
       "    </tr>\n",
       "    <tr>\n",
       "      <th>3423</th>\n",
       "      <td>Jostein Amdal</td>\n",
       "      <td>20220427_GJENSIDIGE_FORSI-_Earnings_Call_2022-...</td>\n",
       "      <td>2022-04-27</td>\n",
       "      <td>130.0</td>\n",
       "      <td>1</td>\n",
       "      <td>0</td>\n",
       "      <td>GJENSIDIGE FORSI-</td>\n",
       "      <td>19939645  Thank you, Helge, and good morning,...</td>\n",
       "      <td>Thank you  and good morning everybody I'll ...</td>\n",
       "      <td>morning proﬁt tax quer year ium growth frequen...</td>\n",
       "      <td>[morning, proﬁt, tax, quer, year, ium, growth,...</td>\n",
       "      <td>396</td>\n",
       "      <td>2545</td>\n",
       "      <td>119</td>\n",
       "      <td>6.426768</td>\n",
       "      <td>3.327731</td>\n",
       "      <td>171</td>\n",
       "      <td>0.117210</td>\n",
       "      <td>0.006655</td>\n",
       "      <td>0.000409</td>\n",
       "      <td>0.053185</td>\n",
       "      <td>0.006406</td>\n",
       "      <td>0.006070</td>\n",
       "      <td>0.012534</td>\n",
       "      <td>0.047655</td>\n",
       "      <td>0.082150</td>\n",
       "      <td>0.001221</td>\n",
       "      <td>0.000365</td>\n",
       "      <td>0.000143</td>\n",
       "      <td>0.000982</td>\n",
       "      <td>0.006280</td>\n",
       "      <td>0.000192</td>\n",
       "      <td>0.006456</td>\n",
       "      <td>0.122779</td>\n",
       "      <td>0.529308</td>\n",
       "    </tr>\n",
       "  </tbody>\n",
       "</table>\n",
       "<p>6982 rows × 35 columns</p>\n",
       "</div>"
      ],
      "text/plain": [
       "                participants  \\\n",
       "999             Chris Knight   \n",
       "3076            Jimmy Atkins   \n",
       "1905          Esteban Tejera   \n",
       "4912            Nigel Wilson   \n",
       "3981           Luigi Lubelli   \n",
       "...                      ...   \n",
       "3120  Johan Kirstein Brammer   \n",
       "4737            Morten Hubbe   \n",
       "2611     Helge Leiro Baastad   \n",
       "2612     Helge Leiro Baastad   \n",
       "3423           Jostein Amdal   \n",
       "\n",
       "                                              file_name        date    idx  \\\n",
       "999   20110202_LEGAL_-_GEN_GRP-_Guidance_Call_2011-2...  2011-02-02   70.0   \n",
       "3076  20110202_LEGAL_-_GEN_GRP-_Guidance_Call_2011-2...  2011-02-02   38.0   \n",
       "1905  20110202 _Mapfre_SA_Earnings_Call_SD0000000027...  2011-02-02    0.0   \n",
       "4912  20110202_LEGAL_-_GEN_GRP-_Guidance_Call_2011-2...  2011-02-02    5.0   \n",
       "3981  20110202 _Mapfre_SA_Earnings_Call_SD0000000027...  2011-02-02   89.0   \n",
       "...                                                 ...         ...    ...   \n",
       "3120  20220426_Tryg_A-S-_Earnings_Call_2022-4-26_DN0...  2022-04-26   67.0   \n",
       "4737  20220426_Tryg_A-S-_Earnings_Call_2022-4-26_DN0...  2022-04-26  265.0   \n",
       "2611  20220427_GJENSIDIGE_FORSI-_Earnings_Call_2022-...  2022-04-27   13.0   \n",
       "2612  20220427_GJENSIDIGE_FORSI-_Earnings_Call_2022-...  2022-04-27  255.0   \n",
       "3423  20220427_GJENSIDIGE_FORSI-_Earnings_Call_2022-...  2022-04-27  130.0   \n",
       "\n",
       "      company_paticipants_yes  other_paticipants_yes       company_name  \\\n",
       "999                         1                      0            LEGAL -   \n",
       "3076                        1                      0            LEGAL -   \n",
       "1905                        1                      0          Mapfre SA   \n",
       "4912                        1                      0            LEGAL -   \n",
       "3981                        1                      0          Mapfre SA   \n",
       "...                       ...                    ...                ...   \n",
       "3120                        1                      0          Tryg A-S-   \n",
       "4737                        1                      0          Tryg A-S-   \n",
       "2611                        1                      0  GJENSIDIGE FORSI-   \n",
       "2612                        1                      0  GJENSIDIGE FORSI-   \n",
       "3423                        1                      0  GJENSIDIGE FORSI-   \n",
       "\n",
       "                                              paraghrph  \\\n",
       "999    18966542  (Technical difficulty) in-force ter...   \n",
       "3076   20917374  Thanks, Nigel. Since 1999, Legal & ...   \n",
       "1905   3910673  Good afternoon, ladies and gentlemen...   \n",
       "4912   1535703  Thank you. Good afternoon, ladies an...   \n",
       "3981   4108780  Thank you, Esteban. Good afternoon t...   \n",
       "...                                                 ...   \n",
       "3120   18640275  Thank you, Morten, and I think we a...   \n",
       "4737   7481116  The important thing to remember in '...   \n",
       "2611   5865247  Thank you, Mitra. Good morning and w...   \n",
       "2612   5865247  Thank you, Jostein. To sum up on Pag...   \n",
       "3423   19939645  Thank you, Helge, and good morning,...   \n",
       "\n",
       "                                        paraghrph_clean  \\\n",
       "999      Technical difficulty in-force term   was re...   \n",
       "3076     Thanks  Since  Legal &   LGA has focused ex...   \n",
       "1905     Good afternoon ladies and gentlemen Welcome...   \n",
       "4912     Thank you Good afternoon ladies and gentlem...   \n",
       "3981     Thank you  Good afternoon to everybody on t...   \n",
       "...                                                 ...   \n",
       "3120     Thank you  and I think we are going to slid...   \n",
       "4737     The important thing to remember in ' on sli...   \n",
       "2611     Thank you  Good morning and welcome everyon...   \n",
       "2612     Thank you tein To sum up on Page  we are ve...   \n",
       "3423     Thank you  and good morning everybody I'll ...   \n",
       "\n",
       "                                         paraghrph_noun  \\\n",
       "999   difficulty force term reinsurer FBARC x fundin...   \n",
       "3076  thank writing term life life mortality protect...   \n",
       "1905  afternoon lady gentleman year result presentat...   \n",
       "4912  afternoon lady gentleman time call progress mo...   \n",
       "3981  afternoon internet h slide breakdown premium p...   \n",
       "...                                                 ...   \n",
       "3120  performance g premium growth % currency reduct...   \n",
       "4737  thing slide consolidation q course change guid...   \n",
       "2611  morning world invasion uncertainty level decad...   \n",
       "2612  result iver target year conﬁt growth eﬃcient o...   \n",
       "3423  morning proﬁt tax quer year ium growth frequen...   \n",
       "\n",
       "                                                  token  word_count  \\\n",
       "999   [difficulty, force, term, reinsurer, fbarc, fu...         147   \n",
       "3076  [write, term, life, life, mortality, protectio...          80   \n",
       "1905  [afternoon, lady, gentleman, year, result, pre...         222   \n",
       "4912  [afternoon, lady, gentleman, time, progress, m...          69   \n",
       "3981  [afternoon, internet, slide, breakdown, premiu...         334   \n",
       "...                                                 ...         ...   \n",
       "3120  [performance, premium, growth, currency, reduc...         212   \n",
       "4737  [thing, slide, consolidation, change, guidance...          44   \n",
       "2611  [morning, invasion, uncertainty, level, decade...         323   \n",
       "2612  [result, iver, target, year, conﬁt, growth, eﬃ...          27   \n",
       "3423  [morning, proﬁt, tax, quer, year, ium, growth,...         396   \n",
       "\n",
       "      char_count  sentence_count  avg_word_length  avg_sentence_length  \\\n",
       "999          977              46         6.646259             3.195652   \n",
       "3076         572              32         7.150000             2.500000   \n",
       "1905        1468              81         6.612613             2.740741   \n",
       "4912         481              36         6.971014             1.916667   \n",
       "3981        2283             106         6.835329             3.150943   \n",
       "...          ...             ...              ...                  ...   \n",
       "3120        1397              57         6.589623             3.719298   \n",
       "4737         281              16         6.386364             2.750000   \n",
       "2611        2159              99         6.684211             3.262626   \n",
       "2612         176               9         6.518519             3.000000   \n",
       "3423        2545             119         6.426768             3.327731   \n",
       "\n",
       "      token_len   topic_1   topic_2   topic_3   topic_4   topic_5   topic_6  \\\n",
       "999         100  0.001666  0.226726  0.000690  0.079859  0.030390  0.010232   \n",
       "3076         56  0.002928  0.381257  0.001212  0.019840  0.001761  0.000767   \n",
       "1905         90  0.045285  0.012437  0.000765  0.099391  0.001111  0.000484   \n",
       "4912         43  0.070313  0.225026  0.001562  0.003381  0.068811  0.000988   \n",
       "3981        164  0.001024  0.000875  0.006445  0.049086  0.000616  0.000268   \n",
       "...         ...       ...       ...       ...       ...       ...       ...   \n",
       "3120         77  0.002150  0.001837  0.038824  0.090440  0.026583  0.000563   \n",
       "4737         17  0.008910  0.007612  0.003689  0.007986  0.005361  0.002333   \n",
       "2611        195  0.051602  0.000737  0.000357  0.000773  0.071555  0.000226   \n",
       "2612         13  0.011273  0.009631  0.004668  0.010104  0.073074  0.002952   \n",
       "3423        171  0.117210  0.006655  0.000409  0.053185  0.006406  0.006070   \n",
       "\n",
       "       topic_7   topic_8   topic_9  topic_10  topic_11  topic_12  topic_13  \\\n",
       "999   0.109291  0.001966  0.001340  0.002058  0.000615  0.039423  0.217162   \n",
       "3076  0.002703  0.003455  0.019572  0.141347  0.052729  0.000423  0.020125   \n",
       "1905  0.001705  0.034758  0.001486  0.089158  0.000682  0.141441  0.077851   \n",
       "4912  0.114384  0.004451  0.025215  0.381728  0.001393  0.000544  0.003747   \n",
       "3981  0.006966  0.001208  0.000824  0.001265  0.000378  0.000148  0.001017   \n",
       "...        ...       ...       ...       ...       ...       ...       ...   \n",
       "3120  0.001985  0.166918  0.001730  0.002657  0.000794  0.000310  0.002136   \n",
       "4737  0.008226  0.324900  0.059567  0.011010  0.003290  0.001286  0.008852   \n",
       "2611  0.000797  0.158311  0.000694  0.254764  0.000319  0.000125  0.000857   \n",
       "2612  0.275574  0.212177  0.009071  0.013930  0.070454  0.001627  0.011199   \n",
       "3423  0.012534  0.047655  0.082150  0.001221  0.000365  0.000143  0.000982   \n",
       "\n",
       "      topic_14  topic_15  topic_16  topic_17  topic_18  \n",
       "999   0.000790  0.000323  0.275369  0.001259  0.000841  \n",
       "3076  0.001389  0.000568  0.346235  0.002212  0.001478  \n",
       "1905  0.000876  0.000358  0.001205  0.490075  0.000932  \n",
       "4912  0.001790  0.000731  0.091184  0.002850  0.001904  \n",
       "3981  0.018549  0.024283  0.000668  0.885863  0.000517  \n",
       "...        ...       ...       ...       ...       ...  \n",
       "3120  0.001020  0.000417  0.039337  0.001625  0.620673  \n",
       "4737  0.004228  0.001728  0.005816  0.006732  0.528474  \n",
       "2611  0.000409  0.000167  0.000563  0.020948  0.436796  \n",
       "2612  0.071641  0.002186  0.073650  0.008517  0.138274  \n",
       "3423  0.006280  0.000192  0.006456  0.122779  0.529308  \n",
       "\n",
       "[6982 rows x 35 columns]"
      ]
     },
     "execution_count": 76,
     "metadata": {},
     "output_type": "execute_result"
    }
   ],
   "source": [
    "# remove the numeric values from the 'paraghrph_clean' column by str.replace('\\d+', '')\n",
    "model_df['paraghrph_noun'] = model_df['paraghrph_noun'].str.replace('\\d+', '')\n",
    "model_df['paraghrph_noun']= model_df['paraghrph_noun'].astype(str)\n",
    "# use apply to get the token of the paraghrph\n",
    "model_df['token'] = clean_tokens_nuon(model_df['paraghrph_noun']) # or paraghrph_clean\n",
    "model_df"
   ]
  },
  {
   "cell_type": "code",
   "execution_count": 77,
   "metadata": {},
   "outputs": [
    {
     "data": {
      "text/html": [
       "<div>\n",
       "<style scoped>\n",
       "    .dataframe tbody tr th:only-of-type {\n",
       "        vertical-align: middle;\n",
       "    }\n",
       "\n",
       "    .dataframe tbody tr th {\n",
       "        vertical-align: top;\n",
       "    }\n",
       "\n",
       "    .dataframe thead th {\n",
       "        text-align: right;\n",
       "    }\n",
       "</style>\n",
       "<table border=\"1\" class=\"dataframe\">\n",
       "  <thead>\n",
       "    <tr style=\"text-align: right;\">\n",
       "      <th></th>\n",
       "      <th>participants</th>\n",
       "      <th>file_name</th>\n",
       "      <th>date</th>\n",
       "      <th>idx</th>\n",
       "      <th>company_paticipants_yes</th>\n",
       "      <th>other_paticipants_yes</th>\n",
       "      <th>company_name</th>\n",
       "      <th>paraghrph</th>\n",
       "      <th>paraghrph_clean</th>\n",
       "      <th>paraghrph_noun</th>\n",
       "      <th>token</th>\n",
       "      <th>word_count</th>\n",
       "      <th>char_count</th>\n",
       "      <th>sentence_count</th>\n",
       "      <th>avg_word_length</th>\n",
       "      <th>avg_sentence_length</th>\n",
       "      <th>token_len</th>\n",
       "      <th>topic_1</th>\n",
       "      <th>topic_2</th>\n",
       "      <th>topic_3</th>\n",
       "      <th>topic_4</th>\n",
       "      <th>topic_5</th>\n",
       "      <th>topic_6</th>\n",
       "      <th>topic_7</th>\n",
       "      <th>topic_8</th>\n",
       "      <th>topic_9</th>\n",
       "      <th>topic_10</th>\n",
       "      <th>topic_11</th>\n",
       "      <th>topic_12</th>\n",
       "      <th>topic_13</th>\n",
       "      <th>topic_14</th>\n",
       "      <th>topic_15</th>\n",
       "      <th>topic_16</th>\n",
       "      <th>topic_17</th>\n",
       "      <th>topic_18</th>\n",
       "      <th>year</th>\n",
       "      <th>month</th>\n",
       "      <th>quater</th>\n",
       "      <th>year_quater</th>\n",
       "    </tr>\n",
       "  </thead>\n",
       "  <tbody>\n",
       "    <tr>\n",
       "      <th>999</th>\n",
       "      <td>Chris Knight</td>\n",
       "      <td>20110202_LEGAL_-_GEN_GRP-_Guidance_Call_2011-2...</td>\n",
       "      <td>2011-02-02</td>\n",
       "      <td>70.0</td>\n",
       "      <td>1</td>\n",
       "      <td>0</td>\n",
       "      <td>LEGAL -</td>\n",
       "      <td>18966542  (Technical difficulty) in-force ter...</td>\n",
       "      <td>Technical difficulty in-force term   was re...</td>\n",
       "      <td>difficulty force term reinsurer FBARC x fundin...</td>\n",
       "      <td>[difficulty, force, term, reinsurer, fbarc, fu...</td>\n",
       "      <td>147</td>\n",
       "      <td>977</td>\n",
       "      <td>46</td>\n",
       "      <td>6.646259</td>\n",
       "      <td>3.195652</td>\n",
       "      <td>100</td>\n",
       "      <td>0.001666</td>\n",
       "      <td>0.226726</td>\n",
       "      <td>0.000690</td>\n",
       "      <td>0.079859</td>\n",
       "      <td>0.030390</td>\n",
       "      <td>0.010232</td>\n",
       "      <td>0.109291</td>\n",
       "      <td>0.001966</td>\n",
       "      <td>0.001340</td>\n",
       "      <td>0.002058</td>\n",
       "      <td>0.000615</td>\n",
       "      <td>0.039423</td>\n",
       "      <td>0.217162</td>\n",
       "      <td>0.000790</td>\n",
       "      <td>0.000323</td>\n",
       "      <td>0.275369</td>\n",
       "      <td>0.001259</td>\n",
       "      <td>0.000841</td>\n",
       "      <td>2011</td>\n",
       "      <td>2</td>\n",
       "      <td>1</td>\n",
       "      <td>2011-1</td>\n",
       "    </tr>\n",
       "    <tr>\n",
       "      <th>3076</th>\n",
       "      <td>Jimmy Atkins</td>\n",
       "      <td>20110202_LEGAL_-_GEN_GRP-_Guidance_Call_2011-2...</td>\n",
       "      <td>2011-02-02</td>\n",
       "      <td>38.0</td>\n",
       "      <td>1</td>\n",
       "      <td>0</td>\n",
       "      <td>LEGAL -</td>\n",
       "      <td>20917374  Thanks, Nigel. Since 1999, Legal &amp; ...</td>\n",
       "      <td>Thanks  Since  Legal &amp;   LGA has focused ex...</td>\n",
       "      <td>thank writing term life life mortality protect...</td>\n",
       "      <td>[write, term, life, life, mortality, protectio...</td>\n",
       "      <td>80</td>\n",
       "      <td>572</td>\n",
       "      <td>32</td>\n",
       "      <td>7.150000</td>\n",
       "      <td>2.500000</td>\n",
       "      <td>56</td>\n",
       "      <td>0.002928</td>\n",
       "      <td>0.381257</td>\n",
       "      <td>0.001212</td>\n",
       "      <td>0.019840</td>\n",
       "      <td>0.001761</td>\n",
       "      <td>0.000767</td>\n",
       "      <td>0.002703</td>\n",
       "      <td>0.003455</td>\n",
       "      <td>0.019572</td>\n",
       "      <td>0.141347</td>\n",
       "      <td>0.052729</td>\n",
       "      <td>0.000423</td>\n",
       "      <td>0.020125</td>\n",
       "      <td>0.001389</td>\n",
       "      <td>0.000568</td>\n",
       "      <td>0.346235</td>\n",
       "      <td>0.002212</td>\n",
       "      <td>0.001478</td>\n",
       "      <td>2011</td>\n",
       "      <td>2</td>\n",
       "      <td>1</td>\n",
       "      <td>2011-1</td>\n",
       "    </tr>\n",
       "    <tr>\n",
       "      <th>1905</th>\n",
       "      <td>Esteban Tejera</td>\n",
       "      <td>20110202 _Mapfre_SA_Earnings_Call_SD0000000027...</td>\n",
       "      <td>2011-02-02</td>\n",
       "      <td>0.0</td>\n",
       "      <td>1</td>\n",
       "      <td>0</td>\n",
       "      <td>Mapfre SA</td>\n",
       "      <td>3910673  Good afternoon, ladies and gentlemen...</td>\n",
       "      <td>Good afternoon ladies and gentlemen Welcome...</td>\n",
       "      <td>afternoon lady gentleman year result presentat...</td>\n",
       "      <td>[afternoon, lady, gentleman, year, result, pre...</td>\n",
       "      <td>222</td>\n",
       "      <td>1468</td>\n",
       "      <td>81</td>\n",
       "      <td>6.612613</td>\n",
       "      <td>2.740741</td>\n",
       "      <td>90</td>\n",
       "      <td>0.045285</td>\n",
       "      <td>0.012437</td>\n",
       "      <td>0.000765</td>\n",
       "      <td>0.099391</td>\n",
       "      <td>0.001111</td>\n",
       "      <td>0.000484</td>\n",
       "      <td>0.001705</td>\n",
       "      <td>0.034758</td>\n",
       "      <td>0.001486</td>\n",
       "      <td>0.089158</td>\n",
       "      <td>0.000682</td>\n",
       "      <td>0.141441</td>\n",
       "      <td>0.077851</td>\n",
       "      <td>0.000876</td>\n",
       "      <td>0.000358</td>\n",
       "      <td>0.001205</td>\n",
       "      <td>0.490075</td>\n",
       "      <td>0.000932</td>\n",
       "      <td>2011</td>\n",
       "      <td>2</td>\n",
       "      <td>1</td>\n",
       "      <td>2011-1</td>\n",
       "    </tr>\n",
       "    <tr>\n",
       "      <th>4912</th>\n",
       "      <td>Nigel Wilson</td>\n",
       "      <td>20110202_LEGAL_-_GEN_GRP-_Guidance_Call_2011-2...</td>\n",
       "      <td>2011-02-02</td>\n",
       "      <td>5.0</td>\n",
       "      <td>1</td>\n",
       "      <td>0</td>\n",
       "      <td>LEGAL -</td>\n",
       "      <td>1535703  Thank you. Good afternoon, ladies an...</td>\n",
       "      <td>Thank you Good afternoon ladies and gentlem...</td>\n",
       "      <td>afternoon lady gentleman time call progress mo...</td>\n",
       "      <td>[afternoon, lady, gentleman, time, progress, m...</td>\n",
       "      <td>69</td>\n",
       "      <td>481</td>\n",
       "      <td>36</td>\n",
       "      <td>6.971014</td>\n",
       "      <td>1.916667</td>\n",
       "      <td>43</td>\n",
       "      <td>0.070313</td>\n",
       "      <td>0.225026</td>\n",
       "      <td>0.001562</td>\n",
       "      <td>0.003381</td>\n",
       "      <td>0.068811</td>\n",
       "      <td>0.000988</td>\n",
       "      <td>0.114384</td>\n",
       "      <td>0.004451</td>\n",
       "      <td>0.025215</td>\n",
       "      <td>0.381728</td>\n",
       "      <td>0.001393</td>\n",
       "      <td>0.000544</td>\n",
       "      <td>0.003747</td>\n",
       "      <td>0.001790</td>\n",
       "      <td>0.000731</td>\n",
       "      <td>0.091184</td>\n",
       "      <td>0.002850</td>\n",
       "      <td>0.001904</td>\n",
       "      <td>2011</td>\n",
       "      <td>2</td>\n",
       "      <td>1</td>\n",
       "      <td>2011-1</td>\n",
       "    </tr>\n",
       "    <tr>\n",
       "      <th>3981</th>\n",
       "      <td>Luigi Lubelli</td>\n",
       "      <td>20110202 _Mapfre_SA_Earnings_Call_SD0000000027...</td>\n",
       "      <td>2011-02-02</td>\n",
       "      <td>89.0</td>\n",
       "      <td>1</td>\n",
       "      <td>0</td>\n",
       "      <td>Mapfre SA</td>\n",
       "      <td>4108780  Thank you, Esteban. Good afternoon t...</td>\n",
       "      <td>Thank you  Good afternoon to everybody on t...</td>\n",
       "      <td>afternoon internet h slide breakdown premium p...</td>\n",
       "      <td>[afternoon, internet, slide, breakdown, premiu...</td>\n",
       "      <td>334</td>\n",
       "      <td>2283</td>\n",
       "      <td>106</td>\n",
       "      <td>6.835329</td>\n",
       "      <td>3.150943</td>\n",
       "      <td>164</td>\n",
       "      <td>0.001024</td>\n",
       "      <td>0.000875</td>\n",
       "      <td>0.006445</td>\n",
       "      <td>0.049086</td>\n",
       "      <td>0.000616</td>\n",
       "      <td>0.000268</td>\n",
       "      <td>0.006966</td>\n",
       "      <td>0.001208</td>\n",
       "      <td>0.000824</td>\n",
       "      <td>0.001265</td>\n",
       "      <td>0.000378</td>\n",
       "      <td>0.000148</td>\n",
       "      <td>0.001017</td>\n",
       "      <td>0.018549</td>\n",
       "      <td>0.024283</td>\n",
       "      <td>0.000668</td>\n",
       "      <td>0.885863</td>\n",
       "      <td>0.000517</td>\n",
       "      <td>2011</td>\n",
       "      <td>2</td>\n",
       "      <td>1</td>\n",
       "      <td>2011-1</td>\n",
       "    </tr>\n",
       "    <tr>\n",
       "      <th>...</th>\n",
       "      <td>...</td>\n",
       "      <td>...</td>\n",
       "      <td>...</td>\n",
       "      <td>...</td>\n",
       "      <td>...</td>\n",
       "      <td>...</td>\n",
       "      <td>...</td>\n",
       "      <td>...</td>\n",
       "      <td>...</td>\n",
       "      <td>...</td>\n",
       "      <td>...</td>\n",
       "      <td>...</td>\n",
       "      <td>...</td>\n",
       "      <td>...</td>\n",
       "      <td>...</td>\n",
       "      <td>...</td>\n",
       "      <td>...</td>\n",
       "      <td>...</td>\n",
       "      <td>...</td>\n",
       "      <td>...</td>\n",
       "      <td>...</td>\n",
       "      <td>...</td>\n",
       "      <td>...</td>\n",
       "      <td>...</td>\n",
       "      <td>...</td>\n",
       "      <td>...</td>\n",
       "      <td>...</td>\n",
       "      <td>...</td>\n",
       "      <td>...</td>\n",
       "      <td>...</td>\n",
       "      <td>...</td>\n",
       "      <td>...</td>\n",
       "      <td>...</td>\n",
       "      <td>...</td>\n",
       "      <td>...</td>\n",
       "      <td>...</td>\n",
       "      <td>...</td>\n",
       "      <td>...</td>\n",
       "      <td>...</td>\n",
       "    </tr>\n",
       "    <tr>\n",
       "      <th>3120</th>\n",
       "      <td>Johan Kirstein Brammer</td>\n",
       "      <td>20220426_Tryg_A-S-_Earnings_Call_2022-4-26_DN0...</td>\n",
       "      <td>2022-04-26</td>\n",
       "      <td>67.0</td>\n",
       "      <td>1</td>\n",
       "      <td>0</td>\n",
       "      <td>Tryg A-S-</td>\n",
       "      <td>18640275  Thank you, Morten, and I think we a...</td>\n",
       "      <td>Thank you  and I think we are going to slid...</td>\n",
       "      <td>performance g premium growth % currency reduct...</td>\n",
       "      <td>[performance, premium, growth, currency, reduc...</td>\n",
       "      <td>212</td>\n",
       "      <td>1397</td>\n",
       "      <td>57</td>\n",
       "      <td>6.589623</td>\n",
       "      <td>3.719298</td>\n",
       "      <td>77</td>\n",
       "      <td>0.002150</td>\n",
       "      <td>0.001837</td>\n",
       "      <td>0.038824</td>\n",
       "      <td>0.090440</td>\n",
       "      <td>0.026583</td>\n",
       "      <td>0.000563</td>\n",
       "      <td>0.001985</td>\n",
       "      <td>0.166918</td>\n",
       "      <td>0.001730</td>\n",
       "      <td>0.002657</td>\n",
       "      <td>0.000794</td>\n",
       "      <td>0.000310</td>\n",
       "      <td>0.002136</td>\n",
       "      <td>0.001020</td>\n",
       "      <td>0.000417</td>\n",
       "      <td>0.039337</td>\n",
       "      <td>0.001625</td>\n",
       "      <td>0.620673</td>\n",
       "      <td>2022</td>\n",
       "      <td>4</td>\n",
       "      <td>2</td>\n",
       "      <td>2022-2</td>\n",
       "    </tr>\n",
       "    <tr>\n",
       "      <th>4737</th>\n",
       "      <td>Morten Hubbe</td>\n",
       "      <td>20220426_Tryg_A-S-_Earnings_Call_2022-4-26_DN0...</td>\n",
       "      <td>2022-04-26</td>\n",
       "      <td>265.0</td>\n",
       "      <td>1</td>\n",
       "      <td>0</td>\n",
       "      <td>Tryg A-S-</td>\n",
       "      <td>7481116  The important thing to remember in '...</td>\n",
       "      <td>The important thing to remember in ' on sli...</td>\n",
       "      <td>thing slide consolidation q course change guid...</td>\n",
       "      <td>[thing, slide, consolidation, change, guidance...</td>\n",
       "      <td>44</td>\n",
       "      <td>281</td>\n",
       "      <td>16</td>\n",
       "      <td>6.386364</td>\n",
       "      <td>2.750000</td>\n",
       "      <td>17</td>\n",
       "      <td>0.008910</td>\n",
       "      <td>0.007612</td>\n",
       "      <td>0.003689</td>\n",
       "      <td>0.007986</td>\n",
       "      <td>0.005361</td>\n",
       "      <td>0.002333</td>\n",
       "      <td>0.008226</td>\n",
       "      <td>0.324900</td>\n",
       "      <td>0.059567</td>\n",
       "      <td>0.011010</td>\n",
       "      <td>0.003290</td>\n",
       "      <td>0.001286</td>\n",
       "      <td>0.008852</td>\n",
       "      <td>0.004228</td>\n",
       "      <td>0.001728</td>\n",
       "      <td>0.005816</td>\n",
       "      <td>0.006732</td>\n",
       "      <td>0.528474</td>\n",
       "      <td>2022</td>\n",
       "      <td>4</td>\n",
       "      <td>2</td>\n",
       "      <td>2022-2</td>\n",
       "    </tr>\n",
       "    <tr>\n",
       "      <th>2611</th>\n",
       "      <td>Helge Leiro Baastad</td>\n",
       "      <td>20220427_GJENSIDIGE_FORSI-_Earnings_Call_2022-...</td>\n",
       "      <td>2022-04-27</td>\n",
       "      <td>13.0</td>\n",
       "      <td>1</td>\n",
       "      <td>0</td>\n",
       "      <td>GJENSIDIGE FORSI-</td>\n",
       "      <td>5865247  Thank you, Mitra. Good morning and w...</td>\n",
       "      <td>Thank you  Good morning and welcome everyon...</td>\n",
       "      <td>morning world invasion uncertainty level decad...</td>\n",
       "      <td>[morning, invasion, uncertainty, level, decade...</td>\n",
       "      <td>323</td>\n",
       "      <td>2159</td>\n",
       "      <td>99</td>\n",
       "      <td>6.684211</td>\n",
       "      <td>3.262626</td>\n",
       "      <td>195</td>\n",
       "      <td>0.051602</td>\n",
       "      <td>0.000737</td>\n",
       "      <td>0.000357</td>\n",
       "      <td>0.000773</td>\n",
       "      <td>0.071555</td>\n",
       "      <td>0.000226</td>\n",
       "      <td>0.000797</td>\n",
       "      <td>0.158311</td>\n",
       "      <td>0.000694</td>\n",
       "      <td>0.254764</td>\n",
       "      <td>0.000319</td>\n",
       "      <td>0.000125</td>\n",
       "      <td>0.000857</td>\n",
       "      <td>0.000409</td>\n",
       "      <td>0.000167</td>\n",
       "      <td>0.000563</td>\n",
       "      <td>0.020948</td>\n",
       "      <td>0.436796</td>\n",
       "      <td>2022</td>\n",
       "      <td>4</td>\n",
       "      <td>2</td>\n",
       "      <td>2022-2</td>\n",
       "    </tr>\n",
       "    <tr>\n",
       "      <th>2612</th>\n",
       "      <td>Helge Leiro Baastad</td>\n",
       "      <td>20220427_GJENSIDIGE_FORSI-_Earnings_Call_2022-...</td>\n",
       "      <td>2022-04-27</td>\n",
       "      <td>255.0</td>\n",
       "      <td>1</td>\n",
       "      <td>0</td>\n",
       "      <td>GJENSIDIGE FORSI-</td>\n",
       "      <td>5865247  Thank you, Jostein. To sum up on Pag...</td>\n",
       "      <td>Thank you tein To sum up on Page  we are ve...</td>\n",
       "      <td>result iver target year conﬁt growth eﬃcient o...</td>\n",
       "      <td>[result, iver, target, year, conﬁt, growth, eﬃ...</td>\n",
       "      <td>27</td>\n",
       "      <td>176</td>\n",
       "      <td>9</td>\n",
       "      <td>6.518519</td>\n",
       "      <td>3.000000</td>\n",
       "      <td>13</td>\n",
       "      <td>0.011273</td>\n",
       "      <td>0.009631</td>\n",
       "      <td>0.004668</td>\n",
       "      <td>0.010104</td>\n",
       "      <td>0.073074</td>\n",
       "      <td>0.002952</td>\n",
       "      <td>0.275574</td>\n",
       "      <td>0.212177</td>\n",
       "      <td>0.009071</td>\n",
       "      <td>0.013930</td>\n",
       "      <td>0.070454</td>\n",
       "      <td>0.001627</td>\n",
       "      <td>0.011199</td>\n",
       "      <td>0.071641</td>\n",
       "      <td>0.002186</td>\n",
       "      <td>0.073650</td>\n",
       "      <td>0.008517</td>\n",
       "      <td>0.138274</td>\n",
       "      <td>2022</td>\n",
       "      <td>4</td>\n",
       "      <td>2</td>\n",
       "      <td>2022-2</td>\n",
       "    </tr>\n",
       "    <tr>\n",
       "      <th>3423</th>\n",
       "      <td>Jostein Amdal</td>\n",
       "      <td>20220427_GJENSIDIGE_FORSI-_Earnings_Call_2022-...</td>\n",
       "      <td>2022-04-27</td>\n",
       "      <td>130.0</td>\n",
       "      <td>1</td>\n",
       "      <td>0</td>\n",
       "      <td>GJENSIDIGE FORSI-</td>\n",
       "      <td>19939645  Thank you, Helge, and good morning,...</td>\n",
       "      <td>Thank you  and good morning everybody I'll ...</td>\n",
       "      <td>morning proﬁt tax quer year ium growth frequen...</td>\n",
       "      <td>[morning, proﬁt, tax, quer, year, ium, growth,...</td>\n",
       "      <td>396</td>\n",
       "      <td>2545</td>\n",
       "      <td>119</td>\n",
       "      <td>6.426768</td>\n",
       "      <td>3.327731</td>\n",
       "      <td>171</td>\n",
       "      <td>0.117210</td>\n",
       "      <td>0.006655</td>\n",
       "      <td>0.000409</td>\n",
       "      <td>0.053185</td>\n",
       "      <td>0.006406</td>\n",
       "      <td>0.006070</td>\n",
       "      <td>0.012534</td>\n",
       "      <td>0.047655</td>\n",
       "      <td>0.082150</td>\n",
       "      <td>0.001221</td>\n",
       "      <td>0.000365</td>\n",
       "      <td>0.000143</td>\n",
       "      <td>0.000982</td>\n",
       "      <td>0.006280</td>\n",
       "      <td>0.000192</td>\n",
       "      <td>0.006456</td>\n",
       "      <td>0.122779</td>\n",
       "      <td>0.529308</td>\n",
       "      <td>2022</td>\n",
       "      <td>4</td>\n",
       "      <td>2</td>\n",
       "      <td>2022-2</td>\n",
       "    </tr>\n",
       "  </tbody>\n",
       "</table>\n",
       "<p>6982 rows × 39 columns</p>\n",
       "</div>"
      ],
      "text/plain": [
       "                participants  \\\n",
       "999             Chris Knight   \n",
       "3076            Jimmy Atkins   \n",
       "1905          Esteban Tejera   \n",
       "4912            Nigel Wilson   \n",
       "3981           Luigi Lubelli   \n",
       "...                      ...   \n",
       "3120  Johan Kirstein Brammer   \n",
       "4737            Morten Hubbe   \n",
       "2611     Helge Leiro Baastad   \n",
       "2612     Helge Leiro Baastad   \n",
       "3423           Jostein Amdal   \n",
       "\n",
       "                                              file_name        date    idx  \\\n",
       "999   20110202_LEGAL_-_GEN_GRP-_Guidance_Call_2011-2...  2011-02-02   70.0   \n",
       "3076  20110202_LEGAL_-_GEN_GRP-_Guidance_Call_2011-2...  2011-02-02   38.0   \n",
       "1905  20110202 _Mapfre_SA_Earnings_Call_SD0000000027...  2011-02-02    0.0   \n",
       "4912  20110202_LEGAL_-_GEN_GRP-_Guidance_Call_2011-2...  2011-02-02    5.0   \n",
       "3981  20110202 _Mapfre_SA_Earnings_Call_SD0000000027...  2011-02-02   89.0   \n",
       "...                                                 ...         ...    ...   \n",
       "3120  20220426_Tryg_A-S-_Earnings_Call_2022-4-26_DN0...  2022-04-26   67.0   \n",
       "4737  20220426_Tryg_A-S-_Earnings_Call_2022-4-26_DN0...  2022-04-26  265.0   \n",
       "2611  20220427_GJENSIDIGE_FORSI-_Earnings_Call_2022-...  2022-04-27   13.0   \n",
       "2612  20220427_GJENSIDIGE_FORSI-_Earnings_Call_2022-...  2022-04-27  255.0   \n",
       "3423  20220427_GJENSIDIGE_FORSI-_Earnings_Call_2022-...  2022-04-27  130.0   \n",
       "\n",
       "      company_paticipants_yes  other_paticipants_yes       company_name  \\\n",
       "999                         1                      0            LEGAL -   \n",
       "3076                        1                      0            LEGAL -   \n",
       "1905                        1                      0          Mapfre SA   \n",
       "4912                        1                      0            LEGAL -   \n",
       "3981                        1                      0          Mapfre SA   \n",
       "...                       ...                    ...                ...   \n",
       "3120                        1                      0          Tryg A-S-   \n",
       "4737                        1                      0          Tryg A-S-   \n",
       "2611                        1                      0  GJENSIDIGE FORSI-   \n",
       "2612                        1                      0  GJENSIDIGE FORSI-   \n",
       "3423                        1                      0  GJENSIDIGE FORSI-   \n",
       "\n",
       "                                              paraghrph  \\\n",
       "999    18966542  (Technical difficulty) in-force ter...   \n",
       "3076   20917374  Thanks, Nigel. Since 1999, Legal & ...   \n",
       "1905   3910673  Good afternoon, ladies and gentlemen...   \n",
       "4912   1535703  Thank you. Good afternoon, ladies an...   \n",
       "3981   4108780  Thank you, Esteban. Good afternoon t...   \n",
       "...                                                 ...   \n",
       "3120   18640275  Thank you, Morten, and I think we a...   \n",
       "4737   7481116  The important thing to remember in '...   \n",
       "2611   5865247  Thank you, Mitra. Good morning and w...   \n",
       "2612   5865247  Thank you, Jostein. To sum up on Pag...   \n",
       "3423   19939645  Thank you, Helge, and good morning,...   \n",
       "\n",
       "                                        paraghrph_clean  \\\n",
       "999      Technical difficulty in-force term   was re...   \n",
       "3076     Thanks  Since  Legal &   LGA has focused ex...   \n",
       "1905     Good afternoon ladies and gentlemen Welcome...   \n",
       "4912     Thank you Good afternoon ladies and gentlem...   \n",
       "3981     Thank you  Good afternoon to everybody on t...   \n",
       "...                                                 ...   \n",
       "3120     Thank you  and I think we are going to slid...   \n",
       "4737     The important thing to remember in ' on sli...   \n",
       "2611     Thank you  Good morning and welcome everyon...   \n",
       "2612     Thank you tein To sum up on Page  we are ve...   \n",
       "3423     Thank you  and good morning everybody I'll ...   \n",
       "\n",
       "                                         paraghrph_noun  \\\n",
       "999   difficulty force term reinsurer FBARC x fundin...   \n",
       "3076  thank writing term life life mortality protect...   \n",
       "1905  afternoon lady gentleman year result presentat...   \n",
       "4912  afternoon lady gentleman time call progress mo...   \n",
       "3981  afternoon internet h slide breakdown premium p...   \n",
       "...                                                 ...   \n",
       "3120  performance g premium growth % currency reduct...   \n",
       "4737  thing slide consolidation q course change guid...   \n",
       "2611  morning world invasion uncertainty level decad...   \n",
       "2612  result iver target year conﬁt growth eﬃcient o...   \n",
       "3423  morning proﬁt tax quer year ium growth frequen...   \n",
       "\n",
       "                                                  token  word_count  \\\n",
       "999   [difficulty, force, term, reinsurer, fbarc, fu...         147   \n",
       "3076  [write, term, life, life, mortality, protectio...          80   \n",
       "1905  [afternoon, lady, gentleman, year, result, pre...         222   \n",
       "4912  [afternoon, lady, gentleman, time, progress, m...          69   \n",
       "3981  [afternoon, internet, slide, breakdown, premiu...         334   \n",
       "...                                                 ...         ...   \n",
       "3120  [performance, premium, growth, currency, reduc...         212   \n",
       "4737  [thing, slide, consolidation, change, guidance...          44   \n",
       "2611  [morning, invasion, uncertainty, level, decade...         323   \n",
       "2612  [result, iver, target, year, conﬁt, growth, eﬃ...          27   \n",
       "3423  [morning, proﬁt, tax, quer, year, ium, growth,...         396   \n",
       "\n",
       "      char_count  sentence_count  avg_word_length  avg_sentence_length  \\\n",
       "999          977              46         6.646259             3.195652   \n",
       "3076         572              32         7.150000             2.500000   \n",
       "1905        1468              81         6.612613             2.740741   \n",
       "4912         481              36         6.971014             1.916667   \n",
       "3981        2283             106         6.835329             3.150943   \n",
       "...          ...             ...              ...                  ...   \n",
       "3120        1397              57         6.589623             3.719298   \n",
       "4737         281              16         6.386364             2.750000   \n",
       "2611        2159              99         6.684211             3.262626   \n",
       "2612         176               9         6.518519             3.000000   \n",
       "3423        2545             119         6.426768             3.327731   \n",
       "\n",
       "      token_len   topic_1   topic_2   topic_3   topic_4   topic_5   topic_6  \\\n",
       "999         100  0.001666  0.226726  0.000690  0.079859  0.030390  0.010232   \n",
       "3076         56  0.002928  0.381257  0.001212  0.019840  0.001761  0.000767   \n",
       "1905         90  0.045285  0.012437  0.000765  0.099391  0.001111  0.000484   \n",
       "4912         43  0.070313  0.225026  0.001562  0.003381  0.068811  0.000988   \n",
       "3981        164  0.001024  0.000875  0.006445  0.049086  0.000616  0.000268   \n",
       "...         ...       ...       ...       ...       ...       ...       ...   \n",
       "3120         77  0.002150  0.001837  0.038824  0.090440  0.026583  0.000563   \n",
       "4737         17  0.008910  0.007612  0.003689  0.007986  0.005361  0.002333   \n",
       "2611        195  0.051602  0.000737  0.000357  0.000773  0.071555  0.000226   \n",
       "2612         13  0.011273  0.009631  0.004668  0.010104  0.073074  0.002952   \n",
       "3423        171  0.117210  0.006655  0.000409  0.053185  0.006406  0.006070   \n",
       "\n",
       "       topic_7   topic_8   topic_9  topic_10  topic_11  topic_12  topic_13  \\\n",
       "999   0.109291  0.001966  0.001340  0.002058  0.000615  0.039423  0.217162   \n",
       "3076  0.002703  0.003455  0.019572  0.141347  0.052729  0.000423  0.020125   \n",
       "1905  0.001705  0.034758  0.001486  0.089158  0.000682  0.141441  0.077851   \n",
       "4912  0.114384  0.004451  0.025215  0.381728  0.001393  0.000544  0.003747   \n",
       "3981  0.006966  0.001208  0.000824  0.001265  0.000378  0.000148  0.001017   \n",
       "...        ...       ...       ...       ...       ...       ...       ...   \n",
       "3120  0.001985  0.166918  0.001730  0.002657  0.000794  0.000310  0.002136   \n",
       "4737  0.008226  0.324900  0.059567  0.011010  0.003290  0.001286  0.008852   \n",
       "2611  0.000797  0.158311  0.000694  0.254764  0.000319  0.000125  0.000857   \n",
       "2612  0.275574  0.212177  0.009071  0.013930  0.070454  0.001627  0.011199   \n",
       "3423  0.012534  0.047655  0.082150  0.001221  0.000365  0.000143  0.000982   \n",
       "\n",
       "      topic_14  topic_15  topic_16  topic_17  topic_18  year  month  quater  \\\n",
       "999   0.000790  0.000323  0.275369  0.001259  0.000841  2011      2       1   \n",
       "3076  0.001389  0.000568  0.346235  0.002212  0.001478  2011      2       1   \n",
       "1905  0.000876  0.000358  0.001205  0.490075  0.000932  2011      2       1   \n",
       "4912  0.001790  0.000731  0.091184  0.002850  0.001904  2011      2       1   \n",
       "3981  0.018549  0.024283  0.000668  0.885863  0.000517  2011      2       1   \n",
       "...        ...       ...       ...       ...       ...   ...    ...     ...   \n",
       "3120  0.001020  0.000417  0.039337  0.001625  0.620673  2022      4       2   \n",
       "4737  0.004228  0.001728  0.005816  0.006732  0.528474  2022      4       2   \n",
       "2611  0.000409  0.000167  0.000563  0.020948  0.436796  2022      4       2   \n",
       "2612  0.071641  0.002186  0.073650  0.008517  0.138274  2022      4       2   \n",
       "3423  0.006280  0.000192  0.006456  0.122779  0.529308  2022      4       2   \n",
       "\n",
       "     year_quater  \n",
       "999       2011-1  \n",
       "3076      2011-1  \n",
       "1905      2011-1  \n",
       "4912      2011-1  \n",
       "3981      2011-1  \n",
       "...          ...  \n",
       "3120      2022-2  \n",
       "4737      2022-2  \n",
       "2611      2022-2  \n",
       "2612      2022-2  \n",
       "3423      2022-2  \n",
       "\n",
       "[6982 rows x 39 columns]"
      ]
     },
     "execution_count": 77,
     "metadata": {},
     "output_type": "execute_result"
    }
   ],
   "source": [
    "# DTM模型（Dynamic Topic Models: 加入时间因素，不同主题随着时间变动) 时间-主题词条矩阵、主题-时间词条矩阵、文档主题偏好、新文档预测、跨时间+主题属性的文档相似性\n",
    "# https://cloud.tencent.com/developer/article/1435976\n",
    "\n",
    "model_df['date'] = pd.to_datetime(model_df['date'])\n",
    "model_df['year'] = model_df['date'].apply(lambda x: x.year)\n",
    "model_df['month'] = model_df['date'].apply(lambda x: x.month)\n",
    "model_df['quater'] = model_df['date'].apply(lambda x: x.quarter)\n",
    "model_df['year_quater'] = model_df['year'].astype(str) + '-' + model_df['quater'].astype(str)\n",
    "# model_df['date'] to str\n",
    "model_df['date'] = model_df['date'].astype(str)\n",
    "model_df"
   ]
  },
  {
   "cell_type": "code",
   "execution_count": 78,
   "metadata": {},
   "outputs": [
    {
     "data": {
      "text/html": [
       "<div>\n",
       "<style scoped>\n",
       "    .dataframe tbody tr th:only-of-type {\n",
       "        vertical-align: middle;\n",
       "    }\n",
       "\n",
       "    .dataframe tbody tr th {\n",
       "        vertical-align: top;\n",
       "    }\n",
       "\n",
       "    .dataframe thead th {\n",
       "        text-align: right;\n",
       "    }\n",
       "</style>\n",
       "<table border=\"1\" class=\"dataframe\">\n",
       "  <thead>\n",
       "    <tr style=\"text-align: right;\">\n",
       "      <th></th>\n",
       "      <th>participants</th>\n",
       "      <th>file_name</th>\n",
       "      <th>date</th>\n",
       "      <th>idx</th>\n",
       "      <th>company_paticipants_yes</th>\n",
       "      <th>other_paticipants_yes</th>\n",
       "      <th>company_name</th>\n",
       "      <th>paraghrph</th>\n",
       "      <th>paraghrph_clean</th>\n",
       "      <th>paraghrph_noun</th>\n",
       "      <th>token</th>\n",
       "      <th>word_count</th>\n",
       "      <th>char_count</th>\n",
       "      <th>sentence_count</th>\n",
       "      <th>avg_word_length</th>\n",
       "      <th>avg_sentence_length</th>\n",
       "      <th>token_len</th>\n",
       "      <th>topic_1</th>\n",
       "      <th>topic_2</th>\n",
       "      <th>topic_3</th>\n",
       "      <th>topic_4</th>\n",
       "      <th>topic_5</th>\n",
       "      <th>topic_6</th>\n",
       "      <th>topic_7</th>\n",
       "      <th>topic_8</th>\n",
       "      <th>topic_9</th>\n",
       "      <th>topic_10</th>\n",
       "      <th>topic_11</th>\n",
       "      <th>topic_12</th>\n",
       "      <th>topic_13</th>\n",
       "      <th>topic_14</th>\n",
       "      <th>topic_15</th>\n",
       "      <th>topic_16</th>\n",
       "      <th>topic_17</th>\n",
       "      <th>topic_18</th>\n",
       "      <th>year</th>\n",
       "      <th>month</th>\n",
       "      <th>quater</th>\n",
       "      <th>year_quater</th>\n",
       "    </tr>\n",
       "  </thead>\n",
       "  <tbody>\n",
       "    <tr>\n",
       "      <th>999</th>\n",
       "      <td>Chris Knight</td>\n",
       "      <td>20110202_LEGAL_-_GEN_GRP-_Guidance_Call_2011-2...</td>\n",
       "      <td>2011-02-02</td>\n",
       "      <td>70.0</td>\n",
       "      <td>1</td>\n",
       "      <td>0</td>\n",
       "      <td>LEGAL -</td>\n",
       "      <td>18966542  (Technical difficulty) in-force ter...</td>\n",
       "      <td>Technical difficulty in-force term   was re...</td>\n",
       "      <td>difficulty force term reinsurer FBARC x fundin...</td>\n",
       "      <td>[difficulty, force, reinsurer, fbarc, funding,...</td>\n",
       "      <td>147</td>\n",
       "      <td>977</td>\n",
       "      <td>46</td>\n",
       "      <td>6.646259</td>\n",
       "      <td>3.195652</td>\n",
       "      <td>100</td>\n",
       "      <td>0.001666</td>\n",
       "      <td>0.226726</td>\n",
       "      <td>0.000690</td>\n",
       "      <td>0.079859</td>\n",
       "      <td>0.030390</td>\n",
       "      <td>0.010232</td>\n",
       "      <td>0.109291</td>\n",
       "      <td>0.001966</td>\n",
       "      <td>0.001340</td>\n",
       "      <td>0.002058</td>\n",
       "      <td>0.000615</td>\n",
       "      <td>0.039423</td>\n",
       "      <td>0.217162</td>\n",
       "      <td>0.000790</td>\n",
       "      <td>0.000323</td>\n",
       "      <td>0.275369</td>\n",
       "      <td>0.001259</td>\n",
       "      <td>0.000841</td>\n",
       "      <td>2011</td>\n",
       "      <td>2</td>\n",
       "      <td>1</td>\n",
       "      <td>2011-1</td>\n",
       "    </tr>\n",
       "    <tr>\n",
       "      <th>3076</th>\n",
       "      <td>Jimmy Atkins</td>\n",
       "      <td>20110202_LEGAL_-_GEN_GRP-_Guidance_Call_2011-2...</td>\n",
       "      <td>2011-02-02</td>\n",
       "      <td>38.0</td>\n",
       "      <td>1</td>\n",
       "      <td>0</td>\n",
       "      <td>LEGAL -</td>\n",
       "      <td>20917374  Thanks, Nigel. Since 1999, Legal &amp; ...</td>\n",
       "      <td>Thanks  Since  Legal &amp;   LGA has focused ex...</td>\n",
       "      <td>thank writing term life life mortality protect...</td>\n",
       "      <td>[write, life, life, mortality, protection, pro...</td>\n",
       "      <td>80</td>\n",
       "      <td>572</td>\n",
       "      <td>32</td>\n",
       "      <td>7.150000</td>\n",
       "      <td>2.500000</td>\n",
       "      <td>56</td>\n",
       "      <td>0.002928</td>\n",
       "      <td>0.381257</td>\n",
       "      <td>0.001212</td>\n",
       "      <td>0.019840</td>\n",
       "      <td>0.001761</td>\n",
       "      <td>0.000767</td>\n",
       "      <td>0.002703</td>\n",
       "      <td>0.003455</td>\n",
       "      <td>0.019572</td>\n",
       "      <td>0.141347</td>\n",
       "      <td>0.052729</td>\n",
       "      <td>0.000423</td>\n",
       "      <td>0.020125</td>\n",
       "      <td>0.001389</td>\n",
       "      <td>0.000568</td>\n",
       "      <td>0.346235</td>\n",
       "      <td>0.002212</td>\n",
       "      <td>0.001478</td>\n",
       "      <td>2011</td>\n",
       "      <td>2</td>\n",
       "      <td>1</td>\n",
       "      <td>2011-1</td>\n",
       "    </tr>\n",
       "    <tr>\n",
       "      <th>1905</th>\n",
       "      <td>Esteban Tejera</td>\n",
       "      <td>20110202 _Mapfre_SA_Earnings_Call_SD0000000027...</td>\n",
       "      <td>2011-02-02</td>\n",
       "      <td>0.0</td>\n",
       "      <td>1</td>\n",
       "      <td>0</td>\n",
       "      <td>Mapfre SA</td>\n",
       "      <td>3910673  Good afternoon, ladies and gentlemen...</td>\n",
       "      <td>Good afternoon ladies and gentlemen Welcome...</td>\n",
       "      <td>afternoon lady gentleman year result presentat...</td>\n",
       "      <td>[overview, development, financial, standpoint,...</td>\n",
       "      <td>222</td>\n",
       "      <td>1468</td>\n",
       "      <td>81</td>\n",
       "      <td>6.612613</td>\n",
       "      <td>2.740741</td>\n",
       "      <td>90</td>\n",
       "      <td>0.045285</td>\n",
       "      <td>0.012437</td>\n",
       "      <td>0.000765</td>\n",
       "      <td>0.099391</td>\n",
       "      <td>0.001111</td>\n",
       "      <td>0.000484</td>\n",
       "      <td>0.001705</td>\n",
       "      <td>0.034758</td>\n",
       "      <td>0.001486</td>\n",
       "      <td>0.089158</td>\n",
       "      <td>0.000682</td>\n",
       "      <td>0.141441</td>\n",
       "      <td>0.077851</td>\n",
       "      <td>0.000876</td>\n",
       "      <td>0.000358</td>\n",
       "      <td>0.001205</td>\n",
       "      <td>0.490075</td>\n",
       "      <td>0.000932</td>\n",
       "      <td>2011</td>\n",
       "      <td>2</td>\n",
       "      <td>1</td>\n",
       "      <td>2011-1</td>\n",
       "    </tr>\n",
       "    <tr>\n",
       "      <th>4912</th>\n",
       "      <td>Nigel Wilson</td>\n",
       "      <td>20110202_LEGAL_-_GEN_GRP-_Guidance_Call_2011-2...</td>\n",
       "      <td>2011-02-02</td>\n",
       "      <td>5.0</td>\n",
       "      <td>1</td>\n",
       "      <td>0</td>\n",
       "      <td>LEGAL -</td>\n",
       "      <td>1535703  Thank you. Good afternoon, ladies an...</td>\n",
       "      <td>Thank you Good afternoon ladies and gentlem...</td>\n",
       "      <td>afternoon lady gentleman time call progress mo...</td>\n",
       "      <td>[progress, operation, land, iver, cash, return...</td>\n",
       "      <td>69</td>\n",
       "      <td>481</td>\n",
       "      <td>36</td>\n",
       "      <td>6.971014</td>\n",
       "      <td>1.916667</td>\n",
       "      <td>43</td>\n",
       "      <td>0.070313</td>\n",
       "      <td>0.225026</td>\n",
       "      <td>0.001562</td>\n",
       "      <td>0.003381</td>\n",
       "      <td>0.068811</td>\n",
       "      <td>0.000988</td>\n",
       "      <td>0.114384</td>\n",
       "      <td>0.004451</td>\n",
       "      <td>0.025215</td>\n",
       "      <td>0.381728</td>\n",
       "      <td>0.001393</td>\n",
       "      <td>0.000544</td>\n",
       "      <td>0.003747</td>\n",
       "      <td>0.001790</td>\n",
       "      <td>0.000731</td>\n",
       "      <td>0.091184</td>\n",
       "      <td>0.002850</td>\n",
       "      <td>0.001904</td>\n",
       "      <td>2011</td>\n",
       "      <td>2</td>\n",
       "      <td>1</td>\n",
       "      <td>2011-1</td>\n",
       "    </tr>\n",
       "    <tr>\n",
       "      <th>3981</th>\n",
       "      <td>Luigi Lubelli</td>\n",
       "      <td>20110202 _Mapfre_SA_Earnings_Call_SD0000000027...</td>\n",
       "      <td>2011-02-02</td>\n",
       "      <td>89.0</td>\n",
       "      <td>1</td>\n",
       "      <td>0</td>\n",
       "      <td>Mapfre SA</td>\n",
       "      <td>4108780  Thank you, Esteban. Good afternoon t...</td>\n",
       "      <td>Thank you  Good afternoon to everybody on t...</td>\n",
       "      <td>afternoon internet h slide breakdown premium p...</td>\n",
       "      <td>[internet, breakdown, premium, profit, activit...</td>\n",
       "      <td>334</td>\n",
       "      <td>2283</td>\n",
       "      <td>106</td>\n",
       "      <td>6.835329</td>\n",
       "      <td>3.150943</td>\n",
       "      <td>164</td>\n",
       "      <td>0.001024</td>\n",
       "      <td>0.000875</td>\n",
       "      <td>0.006445</td>\n",
       "      <td>0.049086</td>\n",
       "      <td>0.000616</td>\n",
       "      <td>0.000268</td>\n",
       "      <td>0.006966</td>\n",
       "      <td>0.001208</td>\n",
       "      <td>0.000824</td>\n",
       "      <td>0.001265</td>\n",
       "      <td>0.000378</td>\n",
       "      <td>0.000148</td>\n",
       "      <td>0.001017</td>\n",
       "      <td>0.018549</td>\n",
       "      <td>0.024283</td>\n",
       "      <td>0.000668</td>\n",
       "      <td>0.885863</td>\n",
       "      <td>0.000517</td>\n",
       "      <td>2011</td>\n",
       "      <td>2</td>\n",
       "      <td>1</td>\n",
       "      <td>2011-1</td>\n",
       "    </tr>\n",
       "    <tr>\n",
       "      <th>...</th>\n",
       "      <td>...</td>\n",
       "      <td>...</td>\n",
       "      <td>...</td>\n",
       "      <td>...</td>\n",
       "      <td>...</td>\n",
       "      <td>...</td>\n",
       "      <td>...</td>\n",
       "      <td>...</td>\n",
       "      <td>...</td>\n",
       "      <td>...</td>\n",
       "      <td>...</td>\n",
       "      <td>...</td>\n",
       "      <td>...</td>\n",
       "      <td>...</td>\n",
       "      <td>...</td>\n",
       "      <td>...</td>\n",
       "      <td>...</td>\n",
       "      <td>...</td>\n",
       "      <td>...</td>\n",
       "      <td>...</td>\n",
       "      <td>...</td>\n",
       "      <td>...</td>\n",
       "      <td>...</td>\n",
       "      <td>...</td>\n",
       "      <td>...</td>\n",
       "      <td>...</td>\n",
       "      <td>...</td>\n",
       "      <td>...</td>\n",
       "      <td>...</td>\n",
       "      <td>...</td>\n",
       "      <td>...</td>\n",
       "      <td>...</td>\n",
       "      <td>...</td>\n",
       "      <td>...</td>\n",
       "      <td>...</td>\n",
       "      <td>...</td>\n",
       "      <td>...</td>\n",
       "      <td>...</td>\n",
       "      <td>...</td>\n",
       "    </tr>\n",
       "    <tr>\n",
       "      <th>3120</th>\n",
       "      <td>Johan Kirstein Brammer</td>\n",
       "      <td>20220426_Tryg_A-S-_Earnings_Call_2022-4-26_DN0...</td>\n",
       "      <td>2022-04-26</td>\n",
       "      <td>67.0</td>\n",
       "      <td>1</td>\n",
       "      <td>0</td>\n",
       "      <td>Tryg A-S-</td>\n",
       "      <td>18640275  Thank you, Morten, and I think we a...</td>\n",
       "      <td>Thank you  and I think we are going to slid...</td>\n",
       "      <td>performance g premium growth % currency reduct...</td>\n",
       "      <td>[performance, premium, growth, currency, reduc...</td>\n",
       "      <td>212</td>\n",
       "      <td>1397</td>\n",
       "      <td>57</td>\n",
       "      <td>6.589623</td>\n",
       "      <td>3.719298</td>\n",
       "      <td>77</td>\n",
       "      <td>0.002150</td>\n",
       "      <td>0.001837</td>\n",
       "      <td>0.038824</td>\n",
       "      <td>0.090440</td>\n",
       "      <td>0.026583</td>\n",
       "      <td>0.000563</td>\n",
       "      <td>0.001985</td>\n",
       "      <td>0.166918</td>\n",
       "      <td>0.001730</td>\n",
       "      <td>0.002657</td>\n",
       "      <td>0.000794</td>\n",
       "      <td>0.000310</td>\n",
       "      <td>0.002136</td>\n",
       "      <td>0.001020</td>\n",
       "      <td>0.000417</td>\n",
       "      <td>0.039337</td>\n",
       "      <td>0.001625</td>\n",
       "      <td>0.620673</td>\n",
       "      <td>2022</td>\n",
       "      <td>4</td>\n",
       "      <td>2</td>\n",
       "      <td>2022-2</td>\n",
       "    </tr>\n",
       "    <tr>\n",
       "      <th>4737</th>\n",
       "      <td>Morten Hubbe</td>\n",
       "      <td>20220426_Tryg_A-S-_Earnings_Call_2022-4-26_DN0...</td>\n",
       "      <td>2022-04-26</td>\n",
       "      <td>265.0</td>\n",
       "      <td>1</td>\n",
       "      <td>0</td>\n",
       "      <td>Tryg A-S-</td>\n",
       "      <td>7481116  The important thing to remember in '...</td>\n",
       "      <td>The important thing to remember in ' on sli...</td>\n",
       "      <td>thing slide consolidation q course change guid...</td>\n",
       "      <td>[consolidation, change, guidance, solvency, in...</td>\n",
       "      <td>44</td>\n",
       "      <td>281</td>\n",
       "      <td>16</td>\n",
       "      <td>6.386364</td>\n",
       "      <td>2.750000</td>\n",
       "      <td>17</td>\n",
       "      <td>0.008910</td>\n",
       "      <td>0.007612</td>\n",
       "      <td>0.003689</td>\n",
       "      <td>0.007986</td>\n",
       "      <td>0.005361</td>\n",
       "      <td>0.002333</td>\n",
       "      <td>0.008226</td>\n",
       "      <td>0.324900</td>\n",
       "      <td>0.059567</td>\n",
       "      <td>0.011010</td>\n",
       "      <td>0.003290</td>\n",
       "      <td>0.001286</td>\n",
       "      <td>0.008852</td>\n",
       "      <td>0.004228</td>\n",
       "      <td>0.001728</td>\n",
       "      <td>0.005816</td>\n",
       "      <td>0.006732</td>\n",
       "      <td>0.528474</td>\n",
       "      <td>2022</td>\n",
       "      <td>4</td>\n",
       "      <td>2</td>\n",
       "      <td>2022-2</td>\n",
       "    </tr>\n",
       "    <tr>\n",
       "      <th>2611</th>\n",
       "      <td>Helge Leiro Baastad</td>\n",
       "      <td>20220427_GJENSIDIGE_FORSI-_Earnings_Call_2022-...</td>\n",
       "      <td>2022-04-27</td>\n",
       "      <td>13.0</td>\n",
       "      <td>1</td>\n",
       "      <td>0</td>\n",
       "      <td>GJENSIDIGE FORSI-</td>\n",
       "      <td>5865247  Thank you, Mitra. Good morning and w...</td>\n",
       "      <td>Thank you  Good morning and welcome everyon...</td>\n",
       "      <td>morning world invasion uncertainty level decad...</td>\n",
       "      <td>[invasion, uncertainty, decade, attack, democr...</td>\n",
       "      <td>323</td>\n",
       "      <td>2159</td>\n",
       "      <td>99</td>\n",
       "      <td>6.684211</td>\n",
       "      <td>3.262626</td>\n",
       "      <td>195</td>\n",
       "      <td>0.051602</td>\n",
       "      <td>0.000737</td>\n",
       "      <td>0.000357</td>\n",
       "      <td>0.000773</td>\n",
       "      <td>0.071555</td>\n",
       "      <td>0.000226</td>\n",
       "      <td>0.000797</td>\n",
       "      <td>0.158311</td>\n",
       "      <td>0.000694</td>\n",
       "      <td>0.254764</td>\n",
       "      <td>0.000319</td>\n",
       "      <td>0.000125</td>\n",
       "      <td>0.000857</td>\n",
       "      <td>0.000409</td>\n",
       "      <td>0.000167</td>\n",
       "      <td>0.000563</td>\n",
       "      <td>0.020948</td>\n",
       "      <td>0.436796</td>\n",
       "      <td>2022</td>\n",
       "      <td>4</td>\n",
       "      <td>2</td>\n",
       "      <td>2022-2</td>\n",
       "    </tr>\n",
       "    <tr>\n",
       "      <th>2612</th>\n",
       "      <td>Helge Leiro Baastad</td>\n",
       "      <td>20220427_GJENSIDIGE_FORSI-_Earnings_Call_2022-...</td>\n",
       "      <td>2022-04-27</td>\n",
       "      <td>255.0</td>\n",
       "      <td>1</td>\n",
       "      <td>0</td>\n",
       "      <td>GJENSIDIGE FORSI-</td>\n",
       "      <td>5865247  Thank you, Jostein. To sum up on Pag...</td>\n",
       "      <td>Thank you tein To sum up on Page  we are ve...</td>\n",
       "      <td>result iver target year conﬁt growth eﬃcient o...</td>\n",
       "      <td>[iver, target, conﬁt, growth, eﬃcient, operati...</td>\n",
       "      <td>27</td>\n",
       "      <td>176</td>\n",
       "      <td>9</td>\n",
       "      <td>6.518519</td>\n",
       "      <td>3.000000</td>\n",
       "      <td>13</td>\n",
       "      <td>0.011273</td>\n",
       "      <td>0.009631</td>\n",
       "      <td>0.004668</td>\n",
       "      <td>0.010104</td>\n",
       "      <td>0.073074</td>\n",
       "      <td>0.002952</td>\n",
       "      <td>0.275574</td>\n",
       "      <td>0.212177</td>\n",
       "      <td>0.009071</td>\n",
       "      <td>0.013930</td>\n",
       "      <td>0.070454</td>\n",
       "      <td>0.001627</td>\n",
       "      <td>0.011199</td>\n",
       "      <td>0.071641</td>\n",
       "      <td>0.002186</td>\n",
       "      <td>0.073650</td>\n",
       "      <td>0.008517</td>\n",
       "      <td>0.138274</td>\n",
       "      <td>2022</td>\n",
       "      <td>4</td>\n",
       "      <td>2</td>\n",
       "      <td>2022-2</td>\n",
       "    </tr>\n",
       "    <tr>\n",
       "      <th>3423</th>\n",
       "      <td>Jostein Amdal</td>\n",
       "      <td>20220427_GJENSIDIGE_FORSI-_Earnings_Call_2022-...</td>\n",
       "      <td>2022-04-27</td>\n",
       "      <td>130.0</td>\n",
       "      <td>1</td>\n",
       "      <td>0</td>\n",
       "      <td>GJENSIDIGE FORSI-</td>\n",
       "      <td>19939645  Thank you, Helge, and good morning,...</td>\n",
       "      <td>Thank you  and good morning everybody I'll ...</td>\n",
       "      <td>morning proﬁt tax quer year ium growth frequen...</td>\n",
       "      <td>[proﬁt, tax, ium, growth, frequency, loss, cos...</td>\n",
       "      <td>396</td>\n",
       "      <td>2545</td>\n",
       "      <td>119</td>\n",
       "      <td>6.426768</td>\n",
       "      <td>3.327731</td>\n",
       "      <td>171</td>\n",
       "      <td>0.117210</td>\n",
       "      <td>0.006655</td>\n",
       "      <td>0.000409</td>\n",
       "      <td>0.053185</td>\n",
       "      <td>0.006406</td>\n",
       "      <td>0.006070</td>\n",
       "      <td>0.012534</td>\n",
       "      <td>0.047655</td>\n",
       "      <td>0.082150</td>\n",
       "      <td>0.001221</td>\n",
       "      <td>0.000365</td>\n",
       "      <td>0.000143</td>\n",
       "      <td>0.000982</td>\n",
       "      <td>0.006280</td>\n",
       "      <td>0.000192</td>\n",
       "      <td>0.006456</td>\n",
       "      <td>0.122779</td>\n",
       "      <td>0.529308</td>\n",
       "      <td>2022</td>\n",
       "      <td>4</td>\n",
       "      <td>2</td>\n",
       "      <td>2022-2</td>\n",
       "    </tr>\n",
       "  </tbody>\n",
       "</table>\n",
       "<p>6982 rows × 39 columns</p>\n",
       "</div>"
      ],
      "text/plain": [
       "                participants  \\\n",
       "999             Chris Knight   \n",
       "3076            Jimmy Atkins   \n",
       "1905          Esteban Tejera   \n",
       "4912            Nigel Wilson   \n",
       "3981           Luigi Lubelli   \n",
       "...                      ...   \n",
       "3120  Johan Kirstein Brammer   \n",
       "4737            Morten Hubbe   \n",
       "2611     Helge Leiro Baastad   \n",
       "2612     Helge Leiro Baastad   \n",
       "3423           Jostein Amdal   \n",
       "\n",
       "                                              file_name        date    idx  \\\n",
       "999   20110202_LEGAL_-_GEN_GRP-_Guidance_Call_2011-2...  2011-02-02   70.0   \n",
       "3076  20110202_LEGAL_-_GEN_GRP-_Guidance_Call_2011-2...  2011-02-02   38.0   \n",
       "1905  20110202 _Mapfre_SA_Earnings_Call_SD0000000027...  2011-02-02    0.0   \n",
       "4912  20110202_LEGAL_-_GEN_GRP-_Guidance_Call_2011-2...  2011-02-02    5.0   \n",
       "3981  20110202 _Mapfre_SA_Earnings_Call_SD0000000027...  2011-02-02   89.0   \n",
       "...                                                 ...         ...    ...   \n",
       "3120  20220426_Tryg_A-S-_Earnings_Call_2022-4-26_DN0...  2022-04-26   67.0   \n",
       "4737  20220426_Tryg_A-S-_Earnings_Call_2022-4-26_DN0...  2022-04-26  265.0   \n",
       "2611  20220427_GJENSIDIGE_FORSI-_Earnings_Call_2022-...  2022-04-27   13.0   \n",
       "2612  20220427_GJENSIDIGE_FORSI-_Earnings_Call_2022-...  2022-04-27  255.0   \n",
       "3423  20220427_GJENSIDIGE_FORSI-_Earnings_Call_2022-...  2022-04-27  130.0   \n",
       "\n",
       "      company_paticipants_yes  other_paticipants_yes       company_name  \\\n",
       "999                         1                      0            LEGAL -   \n",
       "3076                        1                      0            LEGAL -   \n",
       "1905                        1                      0          Mapfre SA   \n",
       "4912                        1                      0            LEGAL -   \n",
       "3981                        1                      0          Mapfre SA   \n",
       "...                       ...                    ...                ...   \n",
       "3120                        1                      0          Tryg A-S-   \n",
       "4737                        1                      0          Tryg A-S-   \n",
       "2611                        1                      0  GJENSIDIGE FORSI-   \n",
       "2612                        1                      0  GJENSIDIGE FORSI-   \n",
       "3423                        1                      0  GJENSIDIGE FORSI-   \n",
       "\n",
       "                                              paraghrph  \\\n",
       "999    18966542  (Technical difficulty) in-force ter...   \n",
       "3076   20917374  Thanks, Nigel. Since 1999, Legal & ...   \n",
       "1905   3910673  Good afternoon, ladies and gentlemen...   \n",
       "4912   1535703  Thank you. Good afternoon, ladies an...   \n",
       "3981   4108780  Thank you, Esteban. Good afternoon t...   \n",
       "...                                                 ...   \n",
       "3120   18640275  Thank you, Morten, and I think we a...   \n",
       "4737   7481116  The important thing to remember in '...   \n",
       "2611   5865247  Thank you, Mitra. Good morning and w...   \n",
       "2612   5865247  Thank you, Jostein. To sum up on Pag...   \n",
       "3423   19939645  Thank you, Helge, and good morning,...   \n",
       "\n",
       "                                        paraghrph_clean  \\\n",
       "999      Technical difficulty in-force term   was re...   \n",
       "3076     Thanks  Since  Legal &   LGA has focused ex...   \n",
       "1905     Good afternoon ladies and gentlemen Welcome...   \n",
       "4912     Thank you Good afternoon ladies and gentlem...   \n",
       "3981     Thank you  Good afternoon to everybody on t...   \n",
       "...                                                 ...   \n",
       "3120     Thank you  and I think we are going to slid...   \n",
       "4737     The important thing to remember in ' on sli...   \n",
       "2611     Thank you  Good morning and welcome everyon...   \n",
       "2612     Thank you tein To sum up on Page  we are ve...   \n",
       "3423     Thank you  and good morning everybody I'll ...   \n",
       "\n",
       "                                         paraghrph_noun  \\\n",
       "999   difficulty force term reinsurer FBARC x fundin...   \n",
       "3076  thank writing term life life mortality protect...   \n",
       "1905  afternoon lady gentleman year result presentat...   \n",
       "4912  afternoon lady gentleman time call progress mo...   \n",
       "3981  afternoon internet h slide breakdown premium p...   \n",
       "...                                                 ...   \n",
       "3120  performance g premium growth % currency reduct...   \n",
       "4737  thing slide consolidation q course change guid...   \n",
       "2611  morning world invasion uncertainty level decad...   \n",
       "2612  result iver target year conﬁt growth eﬃcient o...   \n",
       "3423  morning proﬁt tax quer year ium growth frequen...   \n",
       "\n",
       "                                                  token  word_count  \\\n",
       "999   [difficulty, force, reinsurer, fbarc, funding,...         147   \n",
       "3076  [write, life, life, mortality, protection, pro...          80   \n",
       "1905  [overview, development, financial, standpoint,...         222   \n",
       "4912  [progress, operation, land, iver, cash, return...          69   \n",
       "3981  [internet, breakdown, premium, profit, activit...         334   \n",
       "...                                                 ...         ...   \n",
       "3120  [performance, premium, growth, currency, reduc...         212   \n",
       "4737  [consolidation, change, guidance, solvency, in...          44   \n",
       "2611  [invasion, uncertainty, decade, attack, democr...         323   \n",
       "2612  [iver, target, conﬁt, growth, eﬃcient, operati...          27   \n",
       "3423  [proﬁt, tax, ium, growth, frequency, loss, cos...         396   \n",
       "\n",
       "      char_count  sentence_count  avg_word_length  avg_sentence_length  \\\n",
       "999          977              46         6.646259             3.195652   \n",
       "3076         572              32         7.150000             2.500000   \n",
       "1905        1468              81         6.612613             2.740741   \n",
       "4912         481              36         6.971014             1.916667   \n",
       "3981        2283             106         6.835329             3.150943   \n",
       "...          ...             ...              ...                  ...   \n",
       "3120        1397              57         6.589623             3.719298   \n",
       "4737         281              16         6.386364             2.750000   \n",
       "2611        2159              99         6.684211             3.262626   \n",
       "2612         176               9         6.518519             3.000000   \n",
       "3423        2545             119         6.426768             3.327731   \n",
       "\n",
       "      token_len   topic_1   topic_2   topic_3   topic_4   topic_5   topic_6  \\\n",
       "999         100  0.001666  0.226726  0.000690  0.079859  0.030390  0.010232   \n",
       "3076         56  0.002928  0.381257  0.001212  0.019840  0.001761  0.000767   \n",
       "1905         90  0.045285  0.012437  0.000765  0.099391  0.001111  0.000484   \n",
       "4912         43  0.070313  0.225026  0.001562  0.003381  0.068811  0.000988   \n",
       "3981        164  0.001024  0.000875  0.006445  0.049086  0.000616  0.000268   \n",
       "...         ...       ...       ...       ...       ...       ...       ...   \n",
       "3120         77  0.002150  0.001837  0.038824  0.090440  0.026583  0.000563   \n",
       "4737         17  0.008910  0.007612  0.003689  0.007986  0.005361  0.002333   \n",
       "2611        195  0.051602  0.000737  0.000357  0.000773  0.071555  0.000226   \n",
       "2612         13  0.011273  0.009631  0.004668  0.010104  0.073074  0.002952   \n",
       "3423        171  0.117210  0.006655  0.000409  0.053185  0.006406  0.006070   \n",
       "\n",
       "       topic_7   topic_8   topic_9  topic_10  topic_11  topic_12  topic_13  \\\n",
       "999   0.109291  0.001966  0.001340  0.002058  0.000615  0.039423  0.217162   \n",
       "3076  0.002703  0.003455  0.019572  0.141347  0.052729  0.000423  0.020125   \n",
       "1905  0.001705  0.034758  0.001486  0.089158  0.000682  0.141441  0.077851   \n",
       "4912  0.114384  0.004451  0.025215  0.381728  0.001393  0.000544  0.003747   \n",
       "3981  0.006966  0.001208  0.000824  0.001265  0.000378  0.000148  0.001017   \n",
       "...        ...       ...       ...       ...       ...       ...       ...   \n",
       "3120  0.001985  0.166918  0.001730  0.002657  0.000794  0.000310  0.002136   \n",
       "4737  0.008226  0.324900  0.059567  0.011010  0.003290  0.001286  0.008852   \n",
       "2611  0.000797  0.158311  0.000694  0.254764  0.000319  0.000125  0.000857   \n",
       "2612  0.275574  0.212177  0.009071  0.013930  0.070454  0.001627  0.011199   \n",
       "3423  0.012534  0.047655  0.082150  0.001221  0.000365  0.000143  0.000982   \n",
       "\n",
       "      topic_14  topic_15  topic_16  topic_17  topic_18  year  month  quater  \\\n",
       "999   0.000790  0.000323  0.275369  0.001259  0.000841  2011      2       1   \n",
       "3076  0.001389  0.000568  0.346235  0.002212  0.001478  2011      2       1   \n",
       "1905  0.000876  0.000358  0.001205  0.490075  0.000932  2011      2       1   \n",
       "4912  0.001790  0.000731  0.091184  0.002850  0.001904  2011      2       1   \n",
       "3981  0.018549  0.024283  0.000668  0.885863  0.000517  2011      2       1   \n",
       "...        ...       ...       ...       ...       ...   ...    ...     ...   \n",
       "3120  0.001020  0.000417  0.039337  0.001625  0.620673  2022      4       2   \n",
       "4737  0.004228  0.001728  0.005816  0.006732  0.528474  2022      4       2   \n",
       "2611  0.000409  0.000167  0.000563  0.020948  0.436796  2022      4       2   \n",
       "2612  0.071641  0.002186  0.073650  0.008517  0.138274  2022      4       2   \n",
       "3423  0.006280  0.000192  0.006456  0.122779  0.529308  2022      4       2   \n",
       "\n",
       "     year_quater  \n",
       "999       2011-1  \n",
       "3076      2011-1  \n",
       "1905      2011-1  \n",
       "4912      2011-1  \n",
       "3981      2011-1  \n",
       "...          ...  \n",
       "3120      2022-2  \n",
       "4737      2022-2  \n",
       "2611      2022-2  \n",
       "2612      2022-2  \n",
       "3423      2022-2  \n",
       "\n",
       "[6982 rows x 39 columns]"
      ]
     },
     "execution_count": 78,
     "metadata": {},
     "output_type": "execute_result"
    }
   ],
   "source": [
    "# drop the afternoon, morning, conference, today,lady, gentleman\n",
    "model_df['token'] = model_df['token'].apply(lambda x: [i for i in x if i not in [\n",
    "    'afternoon', 'morning', 'conference','today','lady', 'gentleman', 'presentation',\n",
    "    'question','answer', 'slide',\n",
    "    'proÔ¨Åt', 'eÔ¨Äect','proÔ¨Åtability','oÔ¨Ä','diÔ¨Äerent','eÔ¨Éciency','Ô¨Ågure','inÔ¨Çation','Ô¨Çow','conÔ¨Åt',\n",
    "    'mm', 'mm_mm','guy','sir',' ','host_sir','bb','ty','word', 'year', 'quer','month','period', 'day', 'time','result', 'investor','week', 'update',\n",
    "    'Ô¨Åre','diÔ¨Äerence','diÔ¨Écult','beneÔ¨Åt', 'business','lot','ratio','rate','quarter', 'number', 'point', 'term', 'thing', 'level', \n",
    "    'bit', 'sort', 'reason', 'management', 'fact', 'case', 'area', 'people', 'sense', 'item', 'issue','market'\n",
    "     ]])\n",
    "model_df"
   ]
  },
  {
   "cell_type": "markdown",
   "metadata": {},
   "source": [
    "# Word-Length Count"
   ]
  },
  {
   "cell_type": "code",
   "execution_count": 79,
   "metadata": {},
   "outputs": [
    {
     "data": {
      "image/png": "[encoded data removed]",
      "text/plain": [
       "<Figure size 6480x1296 with 1 Axes>"
      ]
     },
     "metadata": {
      "needs_background": "light"
     },
     "output_type": "display_data"
    },
    {
     "data": {
      "text/html": [
       "<div>\n",
       "<style scoped>\n",
       "    .dataframe tbody tr th:only-of-type {\n",
       "        vertical-align: middle;\n",
       "    }\n",
       "\n",
       "    .dataframe tbody tr th {\n",
       "        vertical-align: top;\n",
       "    }\n",
       "\n",
       "    .dataframe thead th {\n",
       "        text-align: right;\n",
       "    }\n",
       "</style>\n",
       "<table border=\"1\" class=\"dataframe\">\n",
       "  <thead>\n",
       "    <tr style=\"text-align: right;\">\n",
       "      <th></th>\n",
       "      <th>word</th>\n",
       "      <th>freq</th>\n",
       "    </tr>\n",
       "  </thead>\n",
       "  <tbody>\n",
       "    <tr>\n",
       "      <th>0</th>\n",
       "      <td>growth</td>\n",
       "      <td>4029</td>\n",
       "    </tr>\n",
       "    <tr>\n",
       "      <th>1</th>\n",
       "      <td>capital</td>\n",
       "      <td>3655</td>\n",
       "    </tr>\n",
       "    <tr>\n",
       "      <th>2</th>\n",
       "      <td>increase</td>\n",
       "      <td>3171</td>\n",
       "    </tr>\n",
       "    <tr>\n",
       "      <th>3</th>\n",
       "      <td>portfolio</td>\n",
       "      <td>3127</td>\n",
       "    </tr>\n",
       "    <tr>\n",
       "      <th>4</th>\n",
       "      <td>loss</td>\n",
       "      <td>3060</td>\n",
       "    </tr>\n",
       "    <tr>\n",
       "      <th>...</th>\n",
       "      <td>...</td>\n",
       "      <td>...</td>\n",
       "    </tr>\n",
       "    <tr>\n",
       "      <th>7533</th>\n",
       "      <td>petitioner</td>\n",
       "      <td>1</td>\n",
       "    </tr>\n",
       "    <tr>\n",
       "      <th>7534</th>\n",
       "      <td>xure</td>\n",
       "      <td>1</td>\n",
       "    </tr>\n",
       "    <tr>\n",
       "      <th>7535</th>\n",
       "      <td>aschade</td>\n",
       "      <td>1</td>\n",
       "    </tr>\n",
       "    <tr>\n",
       "      <th>7536</th>\n",
       "      <td>sorrow</td>\n",
       "      <td>1</td>\n",
       "    </tr>\n",
       "    <tr>\n",
       "      <th>9887</th>\n",
       "      <td>rsa</td>\n",
       "      <td>1</td>\n",
       "    </tr>\n",
       "  </tbody>\n",
       "</table>\n",
       "<p>9888 rows × 2 columns</p>\n",
       "</div>"
      ],
      "text/plain": [
       "            word  freq\n",
       "0         growth  4029\n",
       "1        capital  3655\n",
       "2       increase  3171\n",
       "3      portfolio  3127\n",
       "4           loss  3060\n",
       "...          ...   ...\n",
       "7533  petitioner     1\n",
       "7534        xure     1\n",
       "7535     aschade     1\n",
       "7536      sorrow     1\n",
       "9887         rsa     1\n",
       "\n",
       "[9888 rows x 2 columns]"
      ]
     },
     "execution_count": 79,
     "metadata": {},
     "output_type": "execute_result"
    }
   ],
   "source": [
    "# exclude the rows that the sentence_count is less than 3\n",
    "model_df = model_df[model_df['sentence_count']>4]\n",
    "# reset the index\n",
    "model_df = model_df.reset_index(drop=True)\n",
    "\n",
    "# high frequency words excluding\n",
    "temp_token = model_df['token'] # .apply(remove_brackets)\n",
    "docs_tokens = []\n",
    "for i in temp_token:\n",
    "    docs_tokens.append(i)\n",
    "    \n",
    "# word frequency\n",
    "# explore word frequencies\n",
    "word_freq = Counter(x for xs in docs_tokens for x in set(xs)).most_common()\n",
    "word_fr = pd.DataFrame(word_freq, columns=['word', 'freq']).sort_values(by='freq', ascending=False)\n",
    "\n",
    "# visualize word frequencies\n",
    "# figure size\n",
    "fig = plt.figure(figsize=(90, 18))\n",
    "plt.bar(word_fr.word[0:300], word_fr.freq[0:300], color='green')\n",
    "plt.xlabel(\"Word\")\n",
    "plt.ylabel(\"Count\")\n",
    "plt.title(\"Word Frequency\")\n",
    "plt.show()\n",
    "\n",
    "# remove 50 most frequent words which is known in this context\n",
    "word_list = word_fr.head(300)['word'].to_list()\n",
    "mdy_list, tmp=[],[]\n",
    "for review in docs_tokens:\n",
    "    for word in review:\n",
    "        if word not in word_list:\n",
    "            tmp.append(word)\n",
    "    mdy_list.append(tmp)\n",
    "    tmp=[]\n",
    "    \n",
    "word_fr"
   ]
  },
  {
   "cell_type": "code",
   "execution_count": 80,
   "metadata": {},
   "outputs": [],
   "source": [
    "original_model_df = model_df.copy()\n",
    "model_df['token'] = mdy_list"
   ]
  },
  {
   "cell_type": "code",
   "execution_count": 81,
   "metadata": {},
   "outputs": [
    {
     "data": {
      "text/html": [
       "<div>\n",
       "<style scoped>\n",
       "    .dataframe tbody tr th:only-of-type {\n",
       "        vertical-align: middle;\n",
       "    }\n",
       "\n",
       "    .dataframe tbody tr th {\n",
       "        vertical-align: top;\n",
       "    }\n",
       "\n",
       "    .dataframe thead th {\n",
       "        text-align: right;\n",
       "    }\n",
       "</style>\n",
       "<table border=\"1\" class=\"dataframe\">\n",
       "  <thead>\n",
       "    <tr style=\"text-align: right;\">\n",
       "      <th></th>\n",
       "      <th>year_quater</th>\n",
       "      <th>token</th>\n",
       "    </tr>\n",
       "  </thead>\n",
       "  <tbody>\n",
       "    <tr>\n",
       "      <th>0</th>\n",
       "      <td>2011-1</td>\n",
       "      <td>[difficulty, reinsurer, fbarc, funding, fbarc,...</td>\n",
       "    </tr>\n",
       "    <tr>\n",
       "      <th>1</th>\n",
       "      <td>2011-2</td>\n",
       "      <td>[resolution, meeting, proxy, meeting, proxy, f...</td>\n",
       "    </tr>\n",
       "    <tr>\n",
       "      <th>2</th>\n",
       "      <td>2011-3</td>\n",
       "      <td>[financial, ium, transfer, shareholding, ventu...</td>\n",
       "    </tr>\n",
       "    <tr>\n",
       "      <th>3</th>\n",
       "      <td>2011-4</td>\n",
       "      <td>[web, breakdown, weight, threshold, consolidat...</td>\n",
       "    </tr>\n",
       "    <tr>\n",
       "      <th>4</th>\n",
       "      <td>2012-1</td>\n",
       "      <td>[blowout, reinsurer, adequacy, noise, yesterda...</td>\n",
       "    </tr>\n",
       "    <tr>\n",
       "      <th>5</th>\n",
       "      <td>2012-2</td>\n",
       "      <td>[consiation, histoal, reinstatement, rata, ehq...</td>\n",
       "    </tr>\n",
       "    <tr>\n",
       "      <th>6</th>\n",
       "      <td>2012-3</td>\n",
       "      <td>[aa, finance, webcast, stad, sharing, calculat...</td>\n",
       "    </tr>\n",
       "    <tr>\n",
       "      <th>7</th>\n",
       "      <td>2012-4</td>\n",
       "      <td>[insight, simplification, automation, financia...</td>\n",
       "    </tr>\n",
       "    <tr>\n",
       "      <th>8</th>\n",
       "      <td>2013-1</td>\n",
       "      <td>[proposal, king, rule, aa, webcast, proposal, ...</td>\n",
       "    </tr>\n",
       "    <tr>\n",
       "      <th>9</th>\n",
       "      <td>2013-2</td>\n",
       "      <td>[supplement, webcast, member, webcast, webcast...</td>\n",
       "    </tr>\n",
       "    <tr>\n",
       "      <th>10</th>\n",
       "      <td>2013-3</td>\n",
       "      <td>[forecast, reach, strengthen, trading, comma, ...</td>\n",
       "    </tr>\n",
       "    <tr>\n",
       "      <th>11</th>\n",
       "      <td>2013-4</td>\n",
       "      <td>[eﬃciency, eﬃciency, schedule, eﬃciency, inﬂat...</td>\n",
       "    </tr>\n",
       "    <tr>\n",
       "      <th>12</th>\n",
       "      <td>2014-1</td>\n",
       "      <td>[piece, negative, production, production, open...</td>\n",
       "    </tr>\n",
       "    <tr>\n",
       "      <th>13</th>\n",
       "      <td>2014-2</td>\n",
       "      <td>[opinion, robustness, eﬃciency, sign, diﬀerent...</td>\n",
       "    </tr>\n",
       "    <tr>\n",
       "      <th>14</th>\n",
       "      <td>2014-3</td>\n",
       "      <td>[pleasure, opinion, analysis, idea, timeframe,...</td>\n",
       "    </tr>\n",
       "    <tr>\n",
       "      <th>15</th>\n",
       "      <td>2014-4</td>\n",
       "      <td>[housing, oﬀ, house, eﬀect, instance, selectio...</td>\n",
       "    </tr>\n",
       "    <tr>\n",
       "      <th>16</th>\n",
       "      <td>2015-1</td>\n",
       "      <td>[strategy, description, px, ytd, strategy, int...</td>\n",
       "    </tr>\n",
       "    <tr>\n",
       "      <th>17</th>\n",
       "      <td>2015-2</td>\n",
       "      <td>[house, car, eﬀect, eﬀect, house, downturn, eﬀ...</td>\n",
       "    </tr>\n",
       "    <tr>\n",
       "      <th>18</th>\n",
       "      <td>2015-3</td>\n",
       "      <td>[replay, news, copy, conclusion, description, ...</td>\n",
       "    </tr>\n",
       "    <tr>\n",
       "      <th>19</th>\n",
       "      <td>2015-4</td>\n",
       "      <td>[eﬃciency, lifetime, satisfaction, inﬂation, i...</td>\n",
       "    </tr>\n",
       "    <tr>\n",
       "      <th>20</th>\n",
       "      <td>2016-1</td>\n",
       "      <td>[framework, form, deployment, remittance, fram...</td>\n",
       "    </tr>\n",
       "    <tr>\n",
       "      <th>21</th>\n",
       "      <td>2016-2</td>\n",
       "      <td>[eﬃciency, eﬃciency, whereof, outsourcing, e, ...</td>\n",
       "    </tr>\n",
       "    <tr>\n",
       "      <th>22</th>\n",
       "      <td>2016-3</td>\n",
       "      <td>[contributor, procedure, test, alarm, instruct...</td>\n",
       "    </tr>\n",
       "    <tr>\n",
       "      <th>23</th>\n",
       "      <td>2016-4</td>\n",
       "      <td>[intention, offer, stakehol, announcement, tab...</td>\n",
       "    </tr>\n",
       "    <tr>\n",
       "      <th>24</th>\n",
       "      <td>2017-1</td>\n",
       "      <td>[slowdown, deterioration, slowdown, deteriorat...</td>\n",
       "    </tr>\n",
       "    <tr>\n",
       "      <th>25</th>\n",
       "      <td>2017-2</td>\n",
       "      <td>[communication, deterioration, pipe, concern, ...</td>\n",
       "    </tr>\n",
       "    <tr>\n",
       "      <th>26</th>\n",
       "      <td>2017-3</td>\n",
       "      <td>[conviction, merit, bef, creation, axis, list,...</td>\n",
       "    </tr>\n",
       "    <tr>\n",
       "      <th>27</th>\n",
       "      <td>2017-4</td>\n",
       "      <td>[briefing, notice, consolidator, matter, huran...</td>\n",
       "    </tr>\n",
       "    <tr>\n",
       "      <th>28</th>\n",
       "      <td>2018-1</td>\n",
       "      <td>[row, economist, internet, consumer, internet,...</td>\n",
       "    </tr>\n",
       "    <tr>\n",
       "      <th>29</th>\n",
       "      <td>2018-2</td>\n",
       "      <td>[winter, flooding, staff, match, swing, match,...</td>\n",
       "    </tr>\n",
       "    <tr>\n",
       "      <th>30</th>\n",
       "      <td>2018-3</td>\n",
       "      <td>[tein, ﬁnance, cooperation, divestment, ﬁnanci...</td>\n",
       "    </tr>\n",
       "    <tr>\n",
       "      <th>31</th>\n",
       "      <td>2018-4</td>\n",
       "      <td>[introduction, speaker, speaker, person, perso...</td>\n",
       "    </tr>\n",
       "    <tr>\n",
       "      <th>32</th>\n",
       "      <td>2019-1</td>\n",
       "      <td>[litigation, language, injury, damage, injury,...</td>\n",
       "    </tr>\n",
       "    <tr>\n",
       "      <th>33</th>\n",
       "      <td>2019-2</td>\n",
       "      <td>[tier, tier, criterion, analysis, needle, assi...</td>\n",
       "    </tr>\n",
       "    <tr>\n",
       "      <th>34</th>\n",
       "      <td>2019-3</td>\n",
       "      <td>[job, bonnet, engine, investing, span, owner, ...</td>\n",
       "    </tr>\n",
       "    <tr>\n",
       "      <th>35</th>\n",
       "      <td>2019-4</td>\n",
       "      <td>[spite, invitation, speciality, definition, cr...</td>\n",
       "    </tr>\n",
       "    <tr>\n",
       "      <th>36</th>\n",
       "      <td>2020-1</td>\n",
       "      <td>[runoff, runoff, reunwriting, unlying, object,...</td>\n",
       "    </tr>\n",
       "    <tr>\n",
       "      <th>37</th>\n",
       "      <td>2020-2</td>\n",
       "      <td>[jurisdiction, duty, policyhol, taker, advice,...</td>\n",
       "    </tr>\n",
       "    <tr>\n",
       "      <th>38</th>\n",
       "      <td>2020-3</td>\n",
       "      <td>[bps, excellence, rebalancing, unlying, lockdo...</td>\n",
       "    </tr>\n",
       "    <tr>\n",
       "      <th>39</th>\n",
       "      <td>2020-4</td>\n",
       "      <td>[continuation, excellence, unlying, insight, p...</td>\n",
       "    </tr>\n",
       "    <tr>\n",
       "      <th>40</th>\n",
       "      <td>2021-1</td>\n",
       "      <td>[completion, instruction, headwind, downturn, ...</td>\n",
       "    </tr>\n",
       "    <tr>\n",
       "      <th>41</th>\n",
       "      <td>2021-2</td>\n",
       "      <td>[notice, announcement, implication, completion...</td>\n",
       "    </tr>\n",
       "    <tr>\n",
       "      <th>42</th>\n",
       "      <td>2021-3</td>\n",
       "      <td>[hedge, consolidation, unlying, ivery, hedge, ...</td>\n",
       "    </tr>\n",
       "    <tr>\n",
       "      <th>43</th>\n",
       "      <td>2021-4</td>\n",
       "      <td>[connection, learning, rationale, attrition, m...</td>\n",
       "    </tr>\n",
       "  </tbody>\n",
       "</table>\n",
       "</div>"
      ],
      "text/plain": [
       "   year_quater                                              token\n",
       "0       2011-1  [difficulty, reinsurer, fbarc, funding, fbarc,...\n",
       "1       2011-2  [resolution, meeting, proxy, meeting, proxy, f...\n",
       "2       2011-3  [financial, ium, transfer, shareholding, ventu...\n",
       "3       2011-4  [web, breakdown, weight, threshold, consolidat...\n",
       "4       2012-1  [blowout, reinsurer, adequacy, noise, yesterda...\n",
       "5       2012-2  [consiation, histoal, reinstatement, rata, ehq...\n",
       "6       2012-3  [aa, finance, webcast, stad, sharing, calculat...\n",
       "7       2012-4  [insight, simplification, automation, financia...\n",
       "8       2013-1  [proposal, king, rule, aa, webcast, proposal, ...\n",
       "9       2013-2  [supplement, webcast, member, webcast, webcast...\n",
       "10      2013-3  [forecast, reach, strengthen, trading, comma, ...\n",
       "11      2013-4  [eﬃciency, eﬃciency, schedule, eﬃciency, inﬂat...\n",
       "12      2014-1  [piece, negative, production, production, open...\n",
       "13      2014-2  [opinion, robustness, eﬃciency, sign, diﬀerent...\n",
       "14      2014-3  [pleasure, opinion, analysis, idea, timeframe,...\n",
       "15      2014-4  [housing, oﬀ, house, eﬀect, instance, selectio...\n",
       "16      2015-1  [strategy, description, px, ytd, strategy, int...\n",
       "17      2015-2  [house, car, eﬀect, eﬀect, house, downturn, eﬀ...\n",
       "18      2015-3  [replay, news, copy, conclusion, description, ...\n",
       "19      2015-4  [eﬃciency, lifetime, satisfaction, inﬂation, i...\n",
       "20      2016-1  [framework, form, deployment, remittance, fram...\n",
       "21      2016-2  [eﬃciency, eﬃciency, whereof, outsourcing, e, ...\n",
       "22      2016-3  [contributor, procedure, test, alarm, instruct...\n",
       "23      2016-4  [intention, offer, stakehol, announcement, tab...\n",
       "24      2017-1  [slowdown, deterioration, slowdown, deteriorat...\n",
       "25      2017-2  [communication, deterioration, pipe, concern, ...\n",
       "26      2017-3  [conviction, merit, bef, creation, axis, list,...\n",
       "27      2017-4  [briefing, notice, consolidator, matter, huran...\n",
       "28      2018-1  [row, economist, internet, consumer, internet,...\n",
       "29      2018-2  [winter, flooding, staff, match, swing, match,...\n",
       "30      2018-3  [tein, ﬁnance, cooperation, divestment, ﬁnanci...\n",
       "31      2018-4  [introduction, speaker, speaker, person, perso...\n",
       "32      2019-1  [litigation, language, injury, damage, injury,...\n",
       "33      2019-2  [tier, tier, criterion, analysis, needle, assi...\n",
       "34      2019-3  [job, bonnet, engine, investing, span, owner, ...\n",
       "35      2019-4  [spite, invitation, speciality, definition, cr...\n",
       "36      2020-1  [runoff, runoff, reunwriting, unlying, object,...\n",
       "37      2020-2  [jurisdiction, duty, policyhol, taker, advice,...\n",
       "38      2020-3  [bps, excellence, rebalancing, unlying, lockdo...\n",
       "39      2020-4  [continuation, excellence, unlying, insight, p...\n",
       "40      2021-1  [completion, instruction, headwind, downturn, ...\n",
       "41      2021-2  [notice, announcement, implication, completion...\n",
       "42      2021-3  [hedge, consolidation, unlying, ivery, hedge, ...\n",
       "43      2021-4  [connection, learning, rationale, attrition, m..."
      ]
     },
     "execution_count": 81,
     "metadata": {},
     "output_type": "execute_result"
    }
   ],
   "source": [
    "test_df = model_df.copy()\n",
    "date_list = test_df['year_quater'].unique().tolist()\n",
    "# if the date_list == test_df['date'], append to the dtm_list\n",
    "dtm_token_list = []\n",
    "dtm_token_df = []\n",
    "dtm_df = pd.DataFrame()\n",
    "for date in date_list:\n",
    "    tmp_df = test_df[test_df['year_quater']==date]\n",
    "\n",
    "    tmp_token_list = tmp_df['token'].to_list()\n",
    "    for i in tmp_token_list:\n",
    "        for k in i:\n",
    "            dtm_token_list.append(k)\n",
    "    dtm_token_df.append(dtm_token_list)\n",
    "    dtm_token_list = []\n",
    "    dtm_df['year_quater'] = date_list\n",
    "dtm_df['token'] = dtm_token_df\n",
    "dtm_df\n",
    "# dtm_df drop the row 45\n",
    "dtm_df = dtm_df.drop(45)\n",
    "dtm_df = dtm_df.drop(44)\n",
    "dtm_df = dtm_df.reset_index(drop=True)\n",
    "dtm_df"
   ]
  },
  {
   "cell_type": "markdown",
   "metadata": {},
   "source": [
    "# Docs_tokens"
   ]
  },
  {
   "cell_type": "code",
   "execution_count": 82,
   "metadata": {},
   "outputs": [],
   "source": [
    "# https://github.com/bab2min/tomotopy\n",
    "# https://bab2min.github.io/tomotopy/v0.12.3/en/#tomotopy.DTModel\n",
    "# https://notebook.community/pombredanne/gensim/docs/notebooks/ldaseqmodel"
   ]
  },
  {
   "cell_type": "code",
   "execution_count": 83,
   "metadata": {},
   "outputs": [
    {
     "data": {
      "text/plain": [
       "44"
      ]
     },
     "execution_count": 83,
     "metadata": {},
     "output_type": "execute_result"
    }
   ],
   "source": [
    "# recrate again for getting the docs_tokens\n",
    "temp_token_dtm = dtm_df['token'] # .apply(remove_brackets)\n",
    "docs_tokens_dtm = []\n",
    "for i in temp_token_dtm:\n",
    "    docs_tokens_dtm.append(i)\n",
    "len(docs_tokens_dtm)"
   ]
  },
  {
   "cell_type": "markdown",
   "metadata": {},
   "source": [
    "# docs_phrased"
   ]
  },
  {
   "cell_type": "code",
   "execution_count": 84,
   "metadata": {},
   "outputs": [
    {
     "data": {
      "text/plain": [
       "44"
      ]
     },
     "execution_count": 84,
     "metadata": {},
     "output_type": "execute_result"
    }
   ],
   "source": [
    "# topic modeling\n",
    "common_terms = [\n",
    "u\"of\",u\"with\",u\"without\",u\"and\",u\"or\",u\"the\",\n",
    "u\"a\",u\"not\",u\"be\",u\"to\",u\"this\",u\"who\",u\"in\",\n",
    "]\n",
    "\n",
    "bigram_dtm = Phrases(                              \n",
    "    docs_tokens_dtm,\n",
    "    min_count=50, # 這邊可以調整字連起來\n",
    "    threshold=5,\n",
    "    max_vocab_size=50000,\n",
    "    common_terms=common_terms,\n",
    ")\n",
    "trigram_dtm = Phrases(                             \n",
    "    bigram_dtm[docs_tokens_dtm],\n",
    "    min_count=50,\n",
    "    threshold=5,\n",
    "    max_vocab_size=50000,\n",
    "    common_terms=common_terms,\n",
    ")\n",
    "# anks to these two models, \n",
    "# we can process the tokenized documents and join the tokens associated with bi- or tri-grams.\n",
    "docs_phrased_dtm = [trigram_dtm[bigram_dtm[line]] for line in docs_tokens_dtm]\n",
    "len(docs_tokens_dtm)"
   ]
  },
  {
   "cell_type": "markdown",
   "metadata": {},
   "source": [
    "# corpus"
   ]
  },
  {
   "cell_type": "code",
   "execution_count": 85,
   "metadata": {},
   "outputs": [
    {
     "name": "stdout",
     "output_type": "stream",
     "text": [
      "44\n"
     ]
    }
   ],
   "source": [
    "corpus_dtm = tp.utils.Corpus() \n",
    "for i in range(len(docs_tokens_dtm)):\n",
    "    # corpus_dtm.add_doc with timepoint\n",
    "    corpus_dtm.add_doc(words=docs_tokens_dtm[i], timepoint=i) # dtm_df['date'][i]\n",
    "print(len(corpus_dtm))"
   ]
  },
  {
   "cell_type": "markdown",
   "metadata": {},
   "source": [
    "# model base on the topic number we select (without time series)"
   ]
  },
  {
   "cell_type": "code",
   "execution_count": 86,
   "metadata": {},
   "outputs": [
    {
     "name": "stdout",
     "output_type": "stream",
     "text": [
      "Iteration: 0\tLog-likelihood: -6.978556445741378\n",
      "Iteration: 10\tLog-likelihood: -6.960769847949591\n",
      "Iteration: 20\tLog-likelihood: -6.937330624851253\n",
      "Iteration: 30\tLog-likelihood: -6.878845029117531\n",
      "Iteration: 40\tLog-likelihood: -6.833577467131681\n",
      "Iteration: 50\tLog-likelihood: -6.80599667014001\n",
      "Iteration: 60\tLog-likelihood: -6.770086116620882\n",
      "Iteration: 70\tLog-likelihood: -6.697107573208215\n",
      "Iteration: 80\tLog-likelihood: -6.55765398667493\n",
      "Iteration: 90\tLog-likelihood: -6.39887176675324\n"
     ]
    }
   ],
   "source": [
    "best_mdl = tp.DTModel(\n",
    "    # tw= TermWeight.ONE, # term weighting scheme in TermWeight. The default value is TermWeight.ONE\n",
    "    # min_cf=0, # minimum collection frequency of words\n",
    "    # min_df=0, # minimum document frequency of words\n",
    "    # rm_top=0, # remove top frequency words\n",
    "    # transform=None, # transformation of the corpus\n",
    "    k=18,\n",
    "    t = len(dtm_df),\n",
    "    corpus=corpus_dtm,\n",
    "    seed = 1\n",
    "    )\n",
    "\n",
    "\n",
    "for i in range(0, 100, 10):\n",
    "    best_mdl.train(10)\n",
    "    print(\"Iteration: {}\\tLog-likelihood: {}\".format(i, best_mdl.ll_per_word))"
   ]
  },
  {
   "cell_type": "code",
   "execution_count": 87,
   "metadata": {},
   "outputs": [
    {
     "data": {
      "text/html": [
       "<div>\n",
       "<style scoped>\n",
       "    .dataframe tbody tr th:only-of-type {\n",
       "        vertical-align: middle;\n",
       "    }\n",
       "\n",
       "    .dataframe tbody tr th {\n",
       "        vertical-align: top;\n",
       "    }\n",
       "\n",
       "    .dataframe thead th {\n",
       "        text-align: right;\n",
       "    }\n",
       "</style>\n",
       "<table border=\"1\" class=\"dataframe\">\n",
       "  <thead>\n",
       "    <tr style=\"text-align: right;\">\n",
       "      <th></th>\n",
       "      <th>word</th>\n",
       "      <th>prob</th>\n",
       "      <th>timepoint</th>\n",
       "      <th>k</th>\n",
       "      <th>sort</th>\n",
       "    </tr>\n",
       "  </thead>\n",
       "  <tbody>\n",
       "    <tr>\n",
       "      <th>0</th>\n",
       "      <td>eﬀect</td>\n",
       "      <td>0.01357</td>\n",
       "      <td>0</td>\n",
       "      <td>0</td>\n",
       "      <td>0</td>\n",
       "    </tr>\n",
       "    <tr>\n",
       "      <th>1</th>\n",
       "      <td>ehquake</td>\n",
       "      <td>0.01020</td>\n",
       "      <td>0</td>\n",
       "      <td>0</td>\n",
       "      <td>1</td>\n",
       "    </tr>\n",
       "    <tr>\n",
       "      <th>2</th>\n",
       "      <td>cover</td>\n",
       "      <td>0.00681</td>\n",
       "      <td>0</td>\n",
       "      <td>0</td>\n",
       "      <td>2</td>\n",
       "    </tr>\n",
       "    <tr>\n",
       "      <th>3</th>\n",
       "      <td>advisor</td>\n",
       "      <td>0.00681</td>\n",
       "      <td>0</td>\n",
       "      <td>0</td>\n",
       "      <td>3</td>\n",
       "    </tr>\n",
       "    <tr>\n",
       "      <th>4</th>\n",
       "      <td>aggregate</td>\n",
       "      <td>0.00681</td>\n",
       "      <td>0</td>\n",
       "      <td>0</td>\n",
       "      <td>4</td>\n",
       "    </tr>\n",
       "    <tr>\n",
       "      <th>...</th>\n",
       "      <td>...</td>\n",
       "      <td>...</td>\n",
       "      <td>...</td>\n",
       "      <td>...</td>\n",
       "      <td>...</td>\n",
       "    </tr>\n",
       "    <tr>\n",
       "      <th>2195</th>\n",
       "      <td>table</td>\n",
       "      <td>0.00325</td>\n",
       "      <td>43</td>\n",
       "      <td>17</td>\n",
       "      <td>2195</td>\n",
       "    </tr>\n",
       "    <tr>\n",
       "      <th>2196</th>\n",
       "      <td>pandemic</td>\n",
       "      <td>0.00167</td>\n",
       "      <td>43</td>\n",
       "      <td>17</td>\n",
       "      <td>2196</td>\n",
       "    </tr>\n",
       "    <tr>\n",
       "      <th>2197</th>\n",
       "      <td>inflation</td>\n",
       "      <td>0.00166</td>\n",
       "      <td>43</td>\n",
       "      <td>17</td>\n",
       "      <td>2197</td>\n",
       "    </tr>\n",
       "    <tr>\n",
       "      <th>2198</th>\n",
       "      <td>culture</td>\n",
       "      <td>0.00166</td>\n",
       "      <td>43</td>\n",
       "      <td>17</td>\n",
       "      <td>2198</td>\n",
       "    </tr>\n",
       "    <tr>\n",
       "      <th>2199</th>\n",
       "      <td>damage</td>\n",
       "      <td>0.00166</td>\n",
       "      <td>43</td>\n",
       "      <td>17</td>\n",
       "      <td>2199</td>\n",
       "    </tr>\n",
       "  </tbody>\n",
       "</table>\n",
       "<p>39600 rows × 5 columns</p>\n",
       "</div>"
      ],
      "text/plain": [
       "           word     prob  timepoint   k  sort\n",
       "0         eﬀect  0.01357          0   0     0\n",
       "1       ehquake  0.01020          0   0     1\n",
       "2         cover  0.00681          0   0     2\n",
       "3       advisor  0.00681          0   0     3\n",
       "4     aggregate  0.00681          0   0     4\n",
       "...         ...      ...        ...  ..   ...\n",
       "2195      table  0.00325         43  17  2195\n",
       "2196   pandemic  0.00167         43  17  2196\n",
       "2197  inflation  0.00166         43  17  2197\n",
       "2198    culture  0.00166         43  17  2198\n",
       "2199     damage  0.00166         43  17  2199\n",
       "\n",
       "[39600 rows x 5 columns]"
      ]
     },
     "execution_count": 87,
     "metadata": {},
     "output_type": "execute_result"
    }
   ],
   "source": [
    "wt = pd.DataFrame()\n",
    "# 使用“get_topic_words”屬性，我們可以取得主題到詞彙概率的預測，with required argument 'timepoint' (pos 2)\n",
    "for k in range(best_mdl.k):\n",
    "    words, probs, timepoints = [], [], []\n",
    "    for t in range(len(corpus_dtm)):\n",
    "        for word, prob in best_mdl.get_topic_words(k ,timepoint=t, top_n=50):   \n",
    "            timepoints.append(t)\n",
    "            words.append(word)\n",
    "            probs.append(prob)\n",
    "        tmp = pd.DataFrame(\n",
    "            {\n",
    "                \"word\": words,\n",
    "                \"prob\": np.round(probs, 5),\n",
    "                \"timepoint\": timepoints,\n",
    "                \"k\": np.repeat(k, len(words)),\n",
    "                \"sort\": np.arange(0, len(words)),\n",
    "            }\n",
    "        )\n",
    "    words, probs, timepoints = [], [], []\n",
    "    wt = wt.append(tmp)\n",
    "    del tmp\n",
    "\n",
    "# wt[wt['k']==0].head(100)\n",
    "wt"
   ]
  },
  {
   "cell_type": "code",
   "execution_count": 88,
   "metadata": {},
   "outputs": [
    {
     "data": {
      "text/html": [
       "<div>\n",
       "<style scoped>\n",
       "    .dataframe tbody tr th:only-of-type {\n",
       "        vertical-align: middle;\n",
       "    }\n",
       "\n",
       "    .dataframe tbody tr th {\n",
       "        vertical-align: top;\n",
       "    }\n",
       "\n",
       "    .dataframe thead th {\n",
       "        text-align: right;\n",
       "    }\n",
       "</style>\n",
       "<table border=\"1\" class=\"dataframe\">\n",
       "  <thead>\n",
       "    <tr style=\"text-align: right;\">\n",
       "      <th></th>\n",
       "      <th>topic_1</th>\n",
       "      <th>topic_2</th>\n",
       "      <th>topic_3</th>\n",
       "      <th>topic_4</th>\n",
       "      <th>topic_5</th>\n",
       "      <th>topic_6</th>\n",
       "      <th>topic_7</th>\n",
       "      <th>topic_8</th>\n",
       "      <th>topic_9</th>\n",
       "      <th>topic_10</th>\n",
       "      <th>topic_11</th>\n",
       "      <th>topic_12</th>\n",
       "      <th>topic_13</th>\n",
       "      <th>topic_14</th>\n",
       "      <th>topic_15</th>\n",
       "      <th>topic_16</th>\n",
       "      <th>topic_17</th>\n",
       "      <th>topic_18</th>\n",
       "      <th>timepoint</th>\n",
       "    </tr>\n",
       "  </thead>\n",
       "  <tbody>\n",
       "    <tr>\n",
       "      <th>0</th>\n",
       "      <td>0.048370</td>\n",
       "      <td>0.052943</td>\n",
       "      <td>0.054902</td>\n",
       "      <td>0.052616</td>\n",
       "      <td>0.046737</td>\n",
       "      <td>0.067313</td>\n",
       "      <td>0.062414</td>\n",
       "      <td>0.065354</td>\n",
       "      <td>0.067313</td>\n",
       "      <td>0.051636</td>\n",
       "      <td>0.051636</td>\n",
       "      <td>0.056862</td>\n",
       "      <td>0.062741</td>\n",
       "      <td>0.050983</td>\n",
       "      <td>0.047717</td>\n",
       "      <td>0.048697</td>\n",
       "      <td>0.049350</td>\n",
       "      <td>0.062414</td>\n",
       "      <td>0</td>\n",
       "    </tr>\n",
       "    <tr>\n",
       "      <th>1</th>\n",
       "      <td>0.055927</td>\n",
       "      <td>0.049247</td>\n",
       "      <td>0.042567</td>\n",
       "      <td>0.049854</td>\n",
       "      <td>0.064428</td>\n",
       "      <td>0.053498</td>\n",
       "      <td>0.055927</td>\n",
       "      <td>0.062606</td>\n",
       "      <td>0.058963</td>\n",
       "      <td>0.056534</td>\n",
       "      <td>0.047425</td>\n",
       "      <td>0.051069</td>\n",
       "      <td>0.057748</td>\n",
       "      <td>0.051676</td>\n",
       "      <td>0.066857</td>\n",
       "      <td>0.067464</td>\n",
       "      <td>0.054105</td>\n",
       "      <td>0.054105</td>\n",
       "      <td>1</td>\n",
       "    </tr>\n",
       "    <tr>\n",
       "      <th>2</th>\n",
       "      <td>0.050334</td>\n",
       "      <td>0.049129</td>\n",
       "      <td>0.051238</td>\n",
       "      <td>0.063588</td>\n",
       "      <td>0.044611</td>\n",
       "      <td>0.067203</td>\n",
       "      <td>0.059973</td>\n",
       "      <td>0.059973</td>\n",
       "      <td>0.044009</td>\n",
       "      <td>0.050937</td>\n",
       "      <td>0.063588</td>\n",
       "      <td>0.045214</td>\n",
       "      <td>0.083770</td>\n",
       "      <td>0.058769</td>\n",
       "      <td>0.055154</td>\n",
       "      <td>0.066600</td>\n",
       "      <td>0.039792</td>\n",
       "      <td>0.046117</td>\n",
       "      <td>2</td>\n",
       "    </tr>\n",
       "    <tr>\n",
       "      <th>3</th>\n",
       "      <td>0.062877</td>\n",
       "      <td>0.053024</td>\n",
       "      <td>0.049329</td>\n",
       "      <td>0.065341</td>\n",
       "      <td>0.053024</td>\n",
       "      <td>0.065956</td>\n",
       "      <td>0.046865</td>\n",
       "      <td>0.043786</td>\n",
       "      <td>0.043170</td>\n",
       "      <td>0.062261</td>\n",
       "      <td>0.057950</td>\n",
       "      <td>0.062261</td>\n",
       "      <td>0.064725</td>\n",
       "      <td>0.049329</td>\n",
       "      <td>0.059182</td>\n",
       "      <td>0.051792</td>\n",
       "      <td>0.057950</td>\n",
       "      <td>0.051176</td>\n",
       "      <td>3</td>\n",
       "    </tr>\n",
       "    <tr>\n",
       "      <th>4</th>\n",
       "      <td>0.055540</td>\n",
       "      <td>0.053900</td>\n",
       "      <td>0.054173</td>\n",
       "      <td>0.054173</td>\n",
       "      <td>0.064565</td>\n",
       "      <td>0.054447</td>\n",
       "      <td>0.051712</td>\n",
       "      <td>0.059095</td>\n",
       "      <td>0.060463</td>\n",
       "      <td>0.047610</td>\n",
       "      <td>0.054447</td>\n",
       "      <td>0.043508</td>\n",
       "      <td>0.049798</td>\n",
       "      <td>0.062377</td>\n",
       "      <td>0.058275</td>\n",
       "      <td>0.054720</td>\n",
       "      <td>0.055814</td>\n",
       "      <td>0.065385</td>\n",
       "      <td>4</td>\n",
       "    </tr>\n",
       "    <tr>\n",
       "      <th>5</th>\n",
       "      <td>0.052092</td>\n",
       "      <td>0.069095</td>\n",
       "      <td>0.051061</td>\n",
       "      <td>0.050546</td>\n",
       "      <td>0.061366</td>\n",
       "      <td>0.060851</td>\n",
       "      <td>0.062397</td>\n",
       "      <td>0.053638</td>\n",
       "      <td>0.058275</td>\n",
       "      <td>0.051577</td>\n",
       "      <td>0.060336</td>\n",
       "      <td>0.044878</td>\n",
       "      <td>0.056729</td>\n",
       "      <td>0.061882</td>\n",
       "      <td>0.042817</td>\n",
       "      <td>0.053122</td>\n",
       "      <td>0.054153</td>\n",
       "      <td>0.055183</td>\n",
       "      <td>5</td>\n",
       "    </tr>\n",
       "    <tr>\n",
       "      <th>6</th>\n",
       "      <td>0.055657</td>\n",
       "      <td>0.050931</td>\n",
       "      <td>0.069107</td>\n",
       "      <td>0.059655</td>\n",
       "      <td>0.063291</td>\n",
       "      <td>0.060382</td>\n",
       "      <td>0.054566</td>\n",
       "      <td>0.045841</td>\n",
       "      <td>0.056020</td>\n",
       "      <td>0.053839</td>\n",
       "      <td>0.055657</td>\n",
       "      <td>0.052021</td>\n",
       "      <td>0.050931</td>\n",
       "      <td>0.055293</td>\n",
       "      <td>0.052021</td>\n",
       "      <td>0.056384</td>\n",
       "      <td>0.052385</td>\n",
       "      <td>0.056020</td>\n",
       "      <td>6</td>\n",
       "    </tr>\n",
       "    <tr>\n",
       "      <th>7</th>\n",
       "      <td>0.042878</td>\n",
       "      <td>0.058530</td>\n",
       "      <td>0.071299</td>\n",
       "      <td>0.065944</td>\n",
       "      <td>0.054000</td>\n",
       "      <td>0.071711</td>\n",
       "      <td>0.043702</td>\n",
       "      <td>0.061414</td>\n",
       "      <td>0.050704</td>\n",
       "      <td>0.049881</td>\n",
       "      <td>0.065121</td>\n",
       "      <td>0.047821</td>\n",
       "      <td>0.054411</td>\n",
       "      <td>0.053176</td>\n",
       "      <td>0.048645</td>\n",
       "      <td>0.064297</td>\n",
       "      <td>0.044938</td>\n",
       "      <td>0.051528</td>\n",
       "      <td>7</td>\n",
       "    </tr>\n",
       "    <tr>\n",
       "      <th>8</th>\n",
       "      <td>0.042218</td>\n",
       "      <td>0.047296</td>\n",
       "      <td>0.074613</td>\n",
       "      <td>0.092999</td>\n",
       "      <td>0.058853</td>\n",
       "      <td>0.046596</td>\n",
       "      <td>0.055877</td>\n",
       "      <td>0.038716</td>\n",
       "      <td>0.046771</td>\n",
       "      <td>0.049047</td>\n",
       "      <td>0.049573</td>\n",
       "      <td>0.046596</td>\n",
       "      <td>0.070235</td>\n",
       "      <td>0.051499</td>\n",
       "      <td>0.066733</td>\n",
       "      <td>0.056927</td>\n",
       "      <td>0.048347</td>\n",
       "      <td>0.057102</td>\n",
       "      <td>8</td>\n",
       "    </tr>\n",
       "    <tr>\n",
       "      <th>9</th>\n",
       "      <td>0.048920</td>\n",
       "      <td>0.057592</td>\n",
       "      <td>0.066265</td>\n",
       "      <td>0.053650</td>\n",
       "      <td>0.056410</td>\n",
       "      <td>0.049708</td>\n",
       "      <td>0.054833</td>\n",
       "      <td>0.056015</td>\n",
       "      <td>0.045766</td>\n",
       "      <td>0.060746</td>\n",
       "      <td>0.039853</td>\n",
       "      <td>0.068630</td>\n",
       "      <td>0.058381</td>\n",
       "      <td>0.063899</td>\n",
       "      <td>0.053256</td>\n",
       "      <td>0.051285</td>\n",
       "      <td>0.050497</td>\n",
       "      <td>0.064294</td>\n",
       "      <td>9</td>\n",
       "    </tr>\n",
       "    <tr>\n",
       "      <th>10</th>\n",
       "      <td>0.060512</td>\n",
       "      <td>0.046690</td>\n",
       "      <td>0.066795</td>\n",
       "      <td>0.059614</td>\n",
       "      <td>0.062128</td>\n",
       "      <td>0.059973</td>\n",
       "      <td>0.046690</td>\n",
       "      <td>0.054947</td>\n",
       "      <td>0.045254</td>\n",
       "      <td>0.053152</td>\n",
       "      <td>0.048126</td>\n",
       "      <td>0.056742</td>\n",
       "      <td>0.063923</td>\n",
       "      <td>0.053332</td>\n",
       "      <td>0.067872</td>\n",
       "      <td>0.050101</td>\n",
       "      <td>0.050460</td>\n",
       "      <td>0.053691</td>\n",
       "      <td>10</td>\n",
       "    </tr>\n",
       "    <tr>\n",
       "      <th>11</th>\n",
       "      <td>0.087207</td>\n",
       "      <td>0.052706</td>\n",
       "      <td>0.065761</td>\n",
       "      <td>0.051075</td>\n",
       "      <td>0.051541</td>\n",
       "      <td>0.052240</td>\n",
       "      <td>0.030561</td>\n",
       "      <td>0.081146</td>\n",
       "      <td>0.045946</td>\n",
       "      <td>0.052240</td>\n",
       "      <td>0.045946</td>\n",
       "      <td>0.063430</td>\n",
       "      <td>0.060166</td>\n",
       "      <td>0.053639</td>\n",
       "      <td>0.053406</td>\n",
       "      <td>0.062497</td>\n",
       "      <td>0.043149</td>\n",
       "      <td>0.047345</td>\n",
       "      <td>11</td>\n",
       "    </tr>\n",
       "    <tr>\n",
       "      <th>12</th>\n",
       "      <td>0.055911</td>\n",
       "      <td>0.059109</td>\n",
       "      <td>0.058043</td>\n",
       "      <td>0.066877</td>\n",
       "      <td>0.049057</td>\n",
       "      <td>0.054236</td>\n",
       "      <td>0.048600</td>\n",
       "      <td>0.068095</td>\n",
       "      <td>0.068552</td>\n",
       "      <td>0.042660</td>\n",
       "      <td>0.040071</td>\n",
       "      <td>0.049971</td>\n",
       "      <td>0.043422</td>\n",
       "      <td>0.050428</td>\n",
       "      <td>0.074949</td>\n",
       "      <td>0.074340</td>\n",
       "      <td>0.052408</td>\n",
       "      <td>0.043270</td>\n",
       "      <td>12</td>\n",
       "    </tr>\n",
       "    <tr>\n",
       "      <th>13</th>\n",
       "      <td>0.045615</td>\n",
       "      <td>0.053063</td>\n",
       "      <td>0.054516</td>\n",
       "      <td>0.081038</td>\n",
       "      <td>0.046705</td>\n",
       "      <td>0.065234</td>\n",
       "      <td>0.048885</td>\n",
       "      <td>0.079767</td>\n",
       "      <td>0.058513</td>\n",
       "      <td>0.055061</td>\n",
       "      <td>0.039620</td>\n",
       "      <td>0.047613</td>\n",
       "      <td>0.054879</td>\n",
       "      <td>0.060874</td>\n",
       "      <td>0.059058</td>\n",
       "      <td>0.053063</td>\n",
       "      <td>0.049430</td>\n",
       "      <td>0.047068</td>\n",
       "      <td>13</td>\n",
       "    </tr>\n",
       "    <tr>\n",
       "      <th>14</th>\n",
       "      <td>0.047744</td>\n",
       "      <td>0.073613</td>\n",
       "      <td>0.047528</td>\n",
       "      <td>0.066470</td>\n",
       "      <td>0.053589</td>\n",
       "      <td>0.058893</td>\n",
       "      <td>0.052723</td>\n",
       "      <td>0.105760</td>\n",
       "      <td>0.051966</td>\n",
       "      <td>0.048610</td>\n",
       "      <td>0.045580</td>\n",
       "      <td>0.037786</td>\n",
       "      <td>0.051749</td>\n",
       "      <td>0.062140</td>\n",
       "      <td>0.053914</td>\n",
       "      <td>0.056079</td>\n",
       "      <td>0.039735</td>\n",
       "      <td>0.046121</td>\n",
       "      <td>14</td>\n",
       "    </tr>\n",
       "    <tr>\n",
       "      <th>15</th>\n",
       "      <td>0.061576</td>\n",
       "      <td>0.059787</td>\n",
       "      <td>0.066048</td>\n",
       "      <td>0.046223</td>\n",
       "      <td>0.047564</td>\n",
       "      <td>0.051291</td>\n",
       "      <td>0.048310</td>\n",
       "      <td>0.090642</td>\n",
       "      <td>0.071861</td>\n",
       "      <td>0.039366</td>\n",
       "      <td>0.044136</td>\n",
       "      <td>0.052185</td>\n",
       "      <td>0.045478</td>\n",
       "      <td>0.052930</td>\n",
       "      <td>0.057551</td>\n",
       "      <td>0.086469</td>\n",
       "      <td>0.043689</td>\n",
       "      <td>0.034894</td>\n",
       "      <td>15</td>\n",
       "    </tr>\n",
       "    <tr>\n",
       "      <th>16</th>\n",
       "      <td>0.077087</td>\n",
       "      <td>0.069253</td>\n",
       "      <td>0.073516</td>\n",
       "      <td>0.076626</td>\n",
       "      <td>0.031349</td>\n",
       "      <td>0.051050</td>\n",
       "      <td>0.048745</td>\n",
       "      <td>0.046787</td>\n",
       "      <td>0.047939</td>\n",
       "      <td>0.036072</td>\n",
       "      <td>0.043100</td>\n",
       "      <td>0.082041</td>\n",
       "      <td>0.039298</td>\n",
       "      <td>0.044828</td>\n",
       "      <td>0.042178</td>\n",
       "      <td>0.093332</td>\n",
       "      <td>0.049206</td>\n",
       "      <td>0.047593</td>\n",
       "      <td>16</td>\n",
       "    </tr>\n",
       "    <tr>\n",
       "      <th>17</th>\n",
       "      <td>0.061476</td>\n",
       "      <td>0.046657</td>\n",
       "      <td>0.095036</td>\n",
       "      <td>0.056464</td>\n",
       "      <td>0.060386</td>\n",
       "      <td>0.049054</td>\n",
       "      <td>0.055592</td>\n",
       "      <td>0.071282</td>\n",
       "      <td>0.053195</td>\n",
       "      <td>0.037286</td>\n",
       "      <td>0.045132</td>\n",
       "      <td>0.045785</td>\n",
       "      <td>0.058643</td>\n",
       "      <td>0.045350</td>\n",
       "      <td>0.040555</td>\n",
       "      <td>0.059514</td>\n",
       "      <td>0.053413</td>\n",
       "      <td>0.065180</td>\n",
       "      <td>17</td>\n",
       "    </tr>\n",
       "    <tr>\n",
       "      <th>18</th>\n",
       "      <td>0.050825</td>\n",
       "      <td>0.046830</td>\n",
       "      <td>0.078167</td>\n",
       "      <td>0.055195</td>\n",
       "      <td>0.056319</td>\n",
       "      <td>0.066181</td>\n",
       "      <td>0.062561</td>\n",
       "      <td>0.063934</td>\n",
       "      <td>0.071175</td>\n",
       "      <td>0.038590</td>\n",
       "      <td>0.046580</td>\n",
       "      <td>0.050201</td>\n",
       "      <td>0.043709</td>\n",
       "      <td>0.044833</td>\n",
       "      <td>0.045582</td>\n",
       "      <td>0.071175</td>\n",
       "      <td>0.057317</td>\n",
       "      <td>0.050825</td>\n",
       "      <td>18</td>\n",
       "    </tr>\n",
       "    <tr>\n",
       "      <th>19</th>\n",
       "      <td>0.047841</td>\n",
       "      <td>0.061268</td>\n",
       "      <td>0.048025</td>\n",
       "      <td>0.053726</td>\n",
       "      <td>0.047289</td>\n",
       "      <td>0.054094</td>\n",
       "      <td>0.082420</td>\n",
       "      <td>0.057221</td>\n",
       "      <td>0.053175</td>\n",
       "      <td>0.042691</td>\n",
       "      <td>0.048392</td>\n",
       "      <td>0.063475</td>\n",
       "      <td>0.049680</td>\n",
       "      <td>0.056853</td>\n",
       "      <td>0.069729</td>\n",
       "      <td>0.053726</td>\n",
       "      <td>0.058141</td>\n",
       "      <td>0.052255</td>\n",
       "      <td>19</td>\n",
       "    </tr>\n",
       "    <tr>\n",
       "      <th>20</th>\n",
       "      <td>0.033857</td>\n",
       "      <td>0.039331</td>\n",
       "      <td>0.038054</td>\n",
       "      <td>0.030664</td>\n",
       "      <td>0.038510</td>\n",
       "      <td>0.042342</td>\n",
       "      <td>0.065971</td>\n",
       "      <td>0.070989</td>\n",
       "      <td>0.046447</td>\n",
       "      <td>0.054111</td>\n",
       "      <td>0.055753</td>\n",
       "      <td>0.048819</td>\n",
       "      <td>0.074183</td>\n",
       "      <td>0.052378</td>\n",
       "      <td>0.112136</td>\n",
       "      <td>0.116333</td>\n",
       "      <td>0.043345</td>\n",
       "      <td>0.036777</td>\n",
       "      <td>20</td>\n",
       "    </tr>\n",
       "    <tr>\n",
       "      <th>21</th>\n",
       "      <td>0.048647</td>\n",
       "      <td>0.056428</td>\n",
       "      <td>0.047600</td>\n",
       "      <td>0.051640</td>\n",
       "      <td>0.042213</td>\n",
       "      <td>0.068399</td>\n",
       "      <td>0.052837</td>\n",
       "      <td>0.048348</td>\n",
       "      <td>0.049695</td>\n",
       "      <td>0.044607</td>\n",
       "      <td>0.055531</td>\n",
       "      <td>0.054782</td>\n",
       "      <td>0.067352</td>\n",
       "      <td>0.049994</td>\n",
       "      <td>0.063312</td>\n",
       "      <td>0.080371</td>\n",
       "      <td>0.057027</td>\n",
       "      <td>0.061217</td>\n",
       "      <td>21</td>\n",
       "    </tr>\n",
       "    <tr>\n",
       "      <th>22</th>\n",
       "      <td>0.036645</td>\n",
       "      <td>0.053027</td>\n",
       "      <td>0.068500</td>\n",
       "      <td>0.051548</td>\n",
       "      <td>0.049842</td>\n",
       "      <td>0.031411</td>\n",
       "      <td>0.035735</td>\n",
       "      <td>0.092619</td>\n",
       "      <td>0.064177</td>\n",
       "      <td>0.045064</td>\n",
       "      <td>0.038124</td>\n",
       "      <td>0.031411</td>\n",
       "      <td>0.115600</td>\n",
       "      <td>0.054734</td>\n",
       "      <td>0.054393</td>\n",
       "      <td>0.057123</td>\n",
       "      <td>0.067931</td>\n",
       "      <td>0.052117</td>\n",
       "      <td>22</td>\n",
       "    </tr>\n",
       "    <tr>\n",
       "      <th>23</th>\n",
       "      <td>0.047315</td>\n",
       "      <td>0.059714</td>\n",
       "      <td>0.044560</td>\n",
       "      <td>0.068898</td>\n",
       "      <td>0.062163</td>\n",
       "      <td>0.051754</td>\n",
       "      <td>0.037671</td>\n",
       "      <td>0.051907</td>\n",
       "      <td>0.072266</td>\n",
       "      <td>0.057418</td>\n",
       "      <td>0.041192</td>\n",
       "      <td>0.047927</td>\n",
       "      <td>0.089870</td>\n",
       "      <td>0.044560</td>\n",
       "      <td>0.041498</td>\n",
       "      <td>0.078695</td>\n",
       "      <td>0.050530</td>\n",
       "      <td>0.052060</td>\n",
       "      <td>23</td>\n",
       "    </tr>\n",
       "    <tr>\n",
       "      <th>24</th>\n",
       "      <td>0.055533</td>\n",
       "      <td>0.044996</td>\n",
       "      <td>0.051176</td>\n",
       "      <td>0.088867</td>\n",
       "      <td>0.035573</td>\n",
       "      <td>0.043476</td>\n",
       "      <td>0.065462</td>\n",
       "      <td>0.102646</td>\n",
       "      <td>0.070934</td>\n",
       "      <td>0.061004</td>\n",
       "      <td>0.046718</td>\n",
       "      <td>0.033445</td>\n",
       "      <td>0.062929</td>\n",
       "      <td>0.035371</td>\n",
       "      <td>0.036080</td>\n",
       "      <td>0.044692</td>\n",
       "      <td>0.073872</td>\n",
       "      <td>0.047225</td>\n",
       "      <td>24</td>\n",
       "    </tr>\n",
       "    <tr>\n",
       "      <th>25</th>\n",
       "      <td>0.032838</td>\n",
       "      <td>0.048777</td>\n",
       "      <td>0.060810</td>\n",
       "      <td>0.080548</td>\n",
       "      <td>0.048249</td>\n",
       "      <td>0.046032</td>\n",
       "      <td>0.063449</td>\n",
       "      <td>0.051204</td>\n",
       "      <td>0.084771</td>\n",
       "      <td>0.044660</td>\n",
       "      <td>0.039699</td>\n",
       "      <td>0.056799</td>\n",
       "      <td>0.055110</td>\n",
       "      <td>0.034949</td>\n",
       "      <td>0.080232</td>\n",
       "      <td>0.056377</td>\n",
       "      <td>0.058804</td>\n",
       "      <td>0.056693</td>\n",
       "      <td>25</td>\n",
       "    </tr>\n",
       "    <tr>\n",
       "      <th>26</th>\n",
       "      <td>0.043210</td>\n",
       "      <td>0.075662</td>\n",
       "      <td>0.043747</td>\n",
       "      <td>0.071686</td>\n",
       "      <td>0.048368</td>\n",
       "      <td>0.035902</td>\n",
       "      <td>0.057609</td>\n",
       "      <td>0.052021</td>\n",
       "      <td>0.041598</td>\n",
       "      <td>0.049657</td>\n",
       "      <td>0.055460</td>\n",
       "      <td>0.052881</td>\n",
       "      <td>0.081035</td>\n",
       "      <td>0.054385</td>\n",
       "      <td>0.066958</td>\n",
       "      <td>0.056535</td>\n",
       "      <td>0.058576</td>\n",
       "      <td>0.054708</td>\n",
       "      <td>26</td>\n",
       "    </tr>\n",
       "    <tr>\n",
       "      <th>27</th>\n",
       "      <td>0.014481</td>\n",
       "      <td>0.017571</td>\n",
       "      <td>0.014156</td>\n",
       "      <td>0.025214</td>\n",
       "      <td>0.015863</td>\n",
       "      <td>0.013831</td>\n",
       "      <td>0.017083</td>\n",
       "      <td>0.027084</td>\n",
       "      <td>0.014888</td>\n",
       "      <td>0.016189</td>\n",
       "      <td>0.035134</td>\n",
       "      <td>0.019685</td>\n",
       "      <td>0.039280</td>\n",
       "      <td>0.023425</td>\n",
       "      <td>0.636818</td>\n",
       "      <td>0.030824</td>\n",
       "      <td>0.014562</td>\n",
       "      <td>0.023913</td>\n",
       "      <td>27</td>\n",
       "    </tr>\n",
       "    <tr>\n",
       "      <th>28</th>\n",
       "      <td>0.000921</td>\n",
       "      <td>0.000540</td>\n",
       "      <td>0.000845</td>\n",
       "      <td>0.000845</td>\n",
       "      <td>0.000693</td>\n",
       "      <td>0.000617</td>\n",
       "      <td>0.000693</td>\n",
       "      <td>0.000769</td>\n",
       "      <td>0.000769</td>\n",
       "      <td>0.000845</td>\n",
       "      <td>0.000617</td>\n",
       "      <td>0.000617</td>\n",
       "      <td>0.001149</td>\n",
       "      <td>0.000769</td>\n",
       "      <td>0.986550</td>\n",
       "      <td>0.000845</td>\n",
       "      <td>0.000693</td>\n",
       "      <td>0.001225</td>\n",
       "      <td>28</td>\n",
       "    </tr>\n",
       "    <tr>\n",
       "      <th>29</th>\n",
       "      <td>0.040838</td>\n",
       "      <td>0.044455</td>\n",
       "      <td>0.045271</td>\n",
       "      <td>0.033606</td>\n",
       "      <td>0.044455</td>\n",
       "      <td>0.064635</td>\n",
       "      <td>0.052620</td>\n",
       "      <td>0.093913</td>\n",
       "      <td>0.053553</td>\n",
       "      <td>0.051570</td>\n",
       "      <td>0.045154</td>\n",
       "      <td>0.037106</td>\n",
       "      <td>0.040955</td>\n",
       "      <td>0.036756</td>\n",
       "      <td>0.159469</td>\n",
       "      <td>0.050754</td>\n",
       "      <td>0.044688</td>\n",
       "      <td>0.060202</td>\n",
       "      <td>29</td>\n",
       "    </tr>\n",
       "    <tr>\n",
       "      <th>30</th>\n",
       "      <td>0.030020</td>\n",
       "      <td>0.031666</td>\n",
       "      <td>0.036603</td>\n",
       "      <td>0.089072</td>\n",
       "      <td>0.032343</td>\n",
       "      <td>0.052576</td>\n",
       "      <td>0.051027</td>\n",
       "      <td>0.056352</td>\n",
       "      <td>0.038249</td>\n",
       "      <td>0.038055</td>\n",
       "      <td>0.084038</td>\n",
       "      <td>0.042895</td>\n",
       "      <td>0.050156</td>\n",
       "      <td>0.027309</td>\n",
       "      <td>0.164292</td>\n",
       "      <td>0.050640</td>\n",
       "      <td>0.079392</td>\n",
       "      <td>0.045315</td>\n",
       "      <td>30</td>\n",
       "    </tr>\n",
       "    <tr>\n",
       "      <th>31</th>\n",
       "      <td>0.156731</td>\n",
       "      <td>0.039862</td>\n",
       "      <td>0.084890</td>\n",
       "      <td>0.058660</td>\n",
       "      <td>0.043651</td>\n",
       "      <td>0.034252</td>\n",
       "      <td>0.042631</td>\n",
       "      <td>0.037968</td>\n",
       "      <td>0.079717</td>\n",
       "      <td>0.092176</td>\n",
       "      <td>0.046274</td>\n",
       "      <td>0.029152</td>\n",
       "      <td>0.041319</td>\n",
       "      <td>0.035855</td>\n",
       "      <td>0.036511</td>\n",
       "      <td>0.044015</td>\n",
       "      <td>0.061720</td>\n",
       "      <td>0.034616</td>\n",
       "      <td>31</td>\n",
       "    </tr>\n",
       "    <tr>\n",
       "      <th>32</th>\n",
       "      <td>0.011696</td>\n",
       "      <td>0.011545</td>\n",
       "      <td>0.006116</td>\n",
       "      <td>0.007624</td>\n",
       "      <td>0.012149</td>\n",
       "      <td>0.009283</td>\n",
       "      <td>0.010490</td>\n",
       "      <td>0.005588</td>\n",
       "      <td>0.010490</td>\n",
       "      <td>0.839625</td>\n",
       "      <td>0.008453</td>\n",
       "      <td>0.006945</td>\n",
       "      <td>0.005890</td>\n",
       "      <td>0.006870</td>\n",
       "      <td>0.023234</td>\n",
       "      <td>0.007624</td>\n",
       "      <td>0.006417</td>\n",
       "      <td>0.009962</td>\n",
       "      <td>32</td>\n",
       "    </tr>\n",
       "    <tr>\n",
       "      <th>33</th>\n",
       "      <td>0.061254</td>\n",
       "      <td>0.037549</td>\n",
       "      <td>0.047142</td>\n",
       "      <td>0.054244</td>\n",
       "      <td>0.042345</td>\n",
       "      <td>0.092429</td>\n",
       "      <td>0.061438</td>\n",
       "      <td>0.070201</td>\n",
       "      <td>0.069001</td>\n",
       "      <td>0.040870</td>\n",
       "      <td>0.060608</td>\n",
       "      <td>0.055443</td>\n",
       "      <td>0.045481</td>\n",
       "      <td>0.063283</td>\n",
       "      <td>0.061161</td>\n",
       "      <td>0.035981</td>\n",
       "      <td>0.054797</td>\n",
       "      <td>0.046773</td>\n",
       "      <td>33</td>\n",
       "    </tr>\n",
       "    <tr>\n",
       "      <th>34</th>\n",
       "      <td>0.009077</td>\n",
       "      <td>0.007353</td>\n",
       "      <td>0.005704</td>\n",
       "      <td>0.005704</td>\n",
       "      <td>0.005404</td>\n",
       "      <td>0.006378</td>\n",
       "      <td>0.009077</td>\n",
       "      <td>0.005479</td>\n",
       "      <td>0.868256</td>\n",
       "      <td>0.006528</td>\n",
       "      <td>0.007353</td>\n",
       "      <td>0.006378</td>\n",
       "      <td>0.004430</td>\n",
       "      <td>0.006528</td>\n",
       "      <td>0.013724</td>\n",
       "      <td>0.007053</td>\n",
       "      <td>0.020544</td>\n",
       "      <td>0.005029</td>\n",
       "      <td>34</td>\n",
       "    </tr>\n",
       "    <tr>\n",
       "      <th>35</th>\n",
       "      <td>0.050894</td>\n",
       "      <td>0.053597</td>\n",
       "      <td>0.067463</td>\n",
       "      <td>0.040318</td>\n",
       "      <td>0.043961</td>\n",
       "      <td>0.053597</td>\n",
       "      <td>0.051364</td>\n",
       "      <td>0.077569</td>\n",
       "      <td>0.085560</td>\n",
       "      <td>0.068286</td>\n",
       "      <td>0.056535</td>\n",
       "      <td>0.045959</td>\n",
       "      <td>0.041258</td>\n",
       "      <td>0.054420</td>\n",
       "      <td>0.062293</td>\n",
       "      <td>0.041963</td>\n",
       "      <td>0.054655</td>\n",
       "      <td>0.050307</td>\n",
       "      <td>35</td>\n",
       "    </tr>\n",
       "    <tr>\n",
       "      <th>36</th>\n",
       "      <td>0.044238</td>\n",
       "      <td>0.058264</td>\n",
       "      <td>0.059395</td>\n",
       "      <td>0.039600</td>\n",
       "      <td>0.060413</td>\n",
       "      <td>0.054305</td>\n",
       "      <td>0.056907</td>\n",
       "      <td>0.066747</td>\n",
       "      <td>0.043220</td>\n",
       "      <td>0.043446</td>\n",
       "      <td>0.064598</td>\n",
       "      <td>0.051138</td>\n",
       "      <td>0.043446</td>\n",
       "      <td>0.092650</td>\n",
       "      <td>0.039148</td>\n",
       "      <td>0.062110</td>\n",
       "      <td>0.074100</td>\n",
       "      <td>0.046274</td>\n",
       "      <td>36</td>\n",
       "    </tr>\n",
       "    <tr>\n",
       "      <th>37</th>\n",
       "      <td>0.035508</td>\n",
       "      <td>0.043485</td>\n",
       "      <td>0.039197</td>\n",
       "      <td>0.028428</td>\n",
       "      <td>0.062430</td>\n",
       "      <td>0.036704</td>\n",
       "      <td>0.034012</td>\n",
       "      <td>0.102216</td>\n",
       "      <td>0.048969</td>\n",
       "      <td>0.031619</td>\n",
       "      <td>0.034710</td>\n",
       "      <td>0.036305</td>\n",
       "      <td>0.046476</td>\n",
       "      <td>0.052259</td>\n",
       "      <td>0.031818</td>\n",
       "      <td>0.242312</td>\n",
       "      <td>0.063627</td>\n",
       "      <td>0.029924</td>\n",
       "      <td>37</td>\n",
       "    </tr>\n",
       "    <tr>\n",
       "      <th>38</th>\n",
       "      <td>0.005905</td>\n",
       "      <td>0.008115</td>\n",
       "      <td>0.009497</td>\n",
       "      <td>0.007010</td>\n",
       "      <td>0.005905</td>\n",
       "      <td>0.009037</td>\n",
       "      <td>0.009774</td>\n",
       "      <td>0.006642</td>\n",
       "      <td>0.016682</td>\n",
       "      <td>0.006181</td>\n",
       "      <td>0.005628</td>\n",
       "      <td>0.005997</td>\n",
       "      <td>0.007747</td>\n",
       "      <td>0.006181</td>\n",
       "      <td>0.005444</td>\n",
       "      <td>0.007655</td>\n",
       "      <td>0.868669</td>\n",
       "      <td>0.007931</td>\n",
       "      <td>38</td>\n",
       "    </tr>\n",
       "    <tr>\n",
       "      <th>39</th>\n",
       "      <td>0.035059</td>\n",
       "      <td>0.030082</td>\n",
       "      <td>0.041799</td>\n",
       "      <td>0.034126</td>\n",
       "      <td>0.036822</td>\n",
       "      <td>0.045117</td>\n",
       "      <td>0.031637</td>\n",
       "      <td>0.031430</td>\n",
       "      <td>0.030082</td>\n",
       "      <td>0.037029</td>\n",
       "      <td>0.019090</td>\n",
       "      <td>0.027904</td>\n",
       "      <td>0.033711</td>\n",
       "      <td>0.043976</td>\n",
       "      <td>0.029770</td>\n",
       "      <td>0.052065</td>\n",
       "      <td>0.045843</td>\n",
       "      <td>0.394461</td>\n",
       "      <td>39</td>\n",
       "    </tr>\n",
       "    <tr>\n",
       "      <th>40</th>\n",
       "      <td>0.006292</td>\n",
       "      <td>0.012969</td>\n",
       "      <td>0.006920</td>\n",
       "      <td>0.007392</td>\n",
       "      <td>0.006920</td>\n",
       "      <td>0.008727</td>\n",
       "      <td>0.006213</td>\n",
       "      <td>0.005114</td>\n",
       "      <td>0.005978</td>\n",
       "      <td>0.009277</td>\n",
       "      <td>0.007392</td>\n",
       "      <td>0.008256</td>\n",
       "      <td>0.008334</td>\n",
       "      <td>0.860912</td>\n",
       "      <td>0.005821</td>\n",
       "      <td>0.007784</td>\n",
       "      <td>0.009512</td>\n",
       "      <td>0.016189</td>\n",
       "      <td>40</td>\n",
       "    </tr>\n",
       "    <tr>\n",
       "      <th>41</th>\n",
       "      <td>0.060884</td>\n",
       "      <td>0.049855</td>\n",
       "      <td>0.046720</td>\n",
       "      <td>0.050179</td>\n",
       "      <td>0.045206</td>\n",
       "      <td>0.033853</td>\n",
       "      <td>0.066506</td>\n",
       "      <td>0.047368</td>\n",
       "      <td>0.034718</td>\n",
       "      <td>0.044341</td>\n",
       "      <td>0.053639</td>\n",
       "      <td>0.041422</td>\n",
       "      <td>0.039908</td>\n",
       "      <td>0.149544</td>\n",
       "      <td>0.033312</td>\n",
       "      <td>0.041962</td>\n",
       "      <td>0.063911</td>\n",
       "      <td>0.096672</td>\n",
       "      <td>41</td>\n",
       "    </tr>\n",
       "    <tr>\n",
       "      <th>42</th>\n",
       "      <td>0.066562</td>\n",
       "      <td>0.039964</td>\n",
       "      <td>0.047626</td>\n",
       "      <td>0.047845</td>\n",
       "      <td>0.050691</td>\n",
       "      <td>0.041715</td>\n",
       "      <td>0.050800</td>\n",
       "      <td>0.046422</td>\n",
       "      <td>0.060651</td>\n",
       "      <td>0.060651</td>\n",
       "      <td>0.103122</td>\n",
       "      <td>0.060870</td>\n",
       "      <td>0.062731</td>\n",
       "      <td>0.047516</td>\n",
       "      <td>0.047845</td>\n",
       "      <td>0.061856</td>\n",
       "      <td>0.058900</td>\n",
       "      <td>0.044233</td>\n",
       "      <td>42</td>\n",
       "    </tr>\n",
       "    <tr>\n",
       "      <th>43</th>\n",
       "      <td>0.045789</td>\n",
       "      <td>0.065817</td>\n",
       "      <td>0.039431</td>\n",
       "      <td>0.054054</td>\n",
       "      <td>0.079063</td>\n",
       "      <td>0.045153</td>\n",
       "      <td>0.047908</td>\n",
       "      <td>0.070903</td>\n",
       "      <td>0.038689</td>\n",
       "      <td>0.054160</td>\n",
       "      <td>0.132895</td>\n",
       "      <td>0.045471</td>\n",
       "      <td>0.036464</td>\n",
       "      <td>0.049922</td>\n",
       "      <td>0.071751</td>\n",
       "      <td>0.042398</td>\n",
       "      <td>0.046954</td>\n",
       "      <td>0.033179</td>\n",
       "      <td>43</td>\n",
       "    </tr>\n",
       "  </tbody>\n",
       "</table>\n",
       "</div>"
      ],
      "text/plain": [
       "     topic_1   topic_2   topic_3   topic_4   topic_5   topic_6   topic_7  \\\n",
       "0   0.048370  0.052943  0.054902  0.052616  0.046737  0.067313  0.062414   \n",
       "1   0.055927  0.049247  0.042567  0.049854  0.064428  0.053498  0.055927   \n",
       "2   0.050334  0.049129  0.051238  0.063588  0.044611  0.067203  0.059973   \n",
       "3   0.062877  0.053024  0.049329  0.065341  0.053024  0.065956  0.046865   \n",
       "4   0.055540  0.053900  0.054173  0.054173  0.064565  0.054447  0.051712   \n",
       "5   0.052092  0.069095  0.051061  0.050546  0.061366  0.060851  0.062397   \n",
       "6   0.055657  0.050931  0.069107  0.059655  0.063291  0.060382  0.054566   \n",
       "7   0.042878  0.058530  0.071299  0.065944  0.054000  0.071711  0.043702   \n",
       "8   0.042218  0.047296  0.074613  0.092999  0.058853  0.046596  0.055877   \n",
       "9   0.048920  0.057592  0.066265  0.053650  0.056410  0.049708  0.054833   \n",
       "10  0.060512  0.046690  0.066795  0.059614  0.062128  0.059973  0.046690   \n",
       "11  0.087207  0.052706  0.065761  0.051075  0.051541  0.052240  0.030561   \n",
       "12  0.055911  0.059109  0.058043  0.066877  0.049057  0.054236  0.048600   \n",
       "13  0.045615  0.053063  0.054516  0.081038  0.046705  0.065234  0.048885   \n",
       "14  0.047744  0.073613  0.047528  0.066470  0.053589  0.058893  0.052723   \n",
       "15  0.061576  0.059787  0.066048  0.046223  0.047564  0.051291  0.048310   \n",
       "16  0.077087  0.069253  0.073516  0.076626  0.031349  0.051050  0.048745   \n",
       "17  0.061476  0.046657  0.095036  0.056464  0.060386  0.049054  0.055592   \n",
       "18  0.050825  0.046830  0.078167  0.055195  0.056319  0.066181  0.062561   \n",
       "19  0.047841  0.061268  0.048025  0.053726  0.047289  0.054094  0.082420   \n",
       "20  0.033857  0.039331  0.038054  0.030664  0.038510  0.042342  0.065971   \n",
       "21  0.048647  0.056428  0.047600  0.051640  0.042213  0.068399  0.052837   \n",
       "22  0.036645  0.053027  0.068500  0.051548  0.049842  0.031411  0.035735   \n",
       "23  0.047315  0.059714  0.044560  0.068898  0.062163  0.051754  0.037671   \n",
       "24  0.055533  0.044996  0.051176  0.088867  0.035573  0.043476  0.065462   \n",
       "25  0.032838  0.048777  0.060810  0.080548  0.048249  0.046032  0.063449   \n",
       "26  0.043210  0.075662  0.043747  0.071686  0.048368  0.035902  0.057609   \n",
       "27  0.014481  0.017571  0.014156  0.025214  0.015863  0.013831  0.017083   \n",
       "28  0.000921  0.000540  0.000845  0.000845  0.000693  0.000617  0.000693   \n",
       "29  0.040838  0.044455  0.045271  0.033606  0.044455  0.064635  0.052620   \n",
       "30  0.030020  0.031666  0.036603  0.089072  0.032343  0.052576  0.051027   \n",
       "31  0.156731  0.039862  0.084890  0.058660  0.043651  0.034252  0.042631   \n",
       "32  0.011696  0.011545  0.006116  0.007624  0.012149  0.009283  0.010490   \n",
       "33  0.061254  0.037549  0.047142  0.054244  0.042345  0.092429  0.061438   \n",
       "34  0.009077  0.007353  0.005704  0.005704  0.005404  0.006378  0.009077   \n",
       "35  0.050894  0.053597  0.067463  0.040318  0.043961  0.053597  0.051364   \n",
       "36  0.044238  0.058264  0.059395  0.039600  0.060413  0.054305  0.056907   \n",
       "37  0.035508  0.043485  0.039197  0.028428  0.062430  0.036704  0.034012   \n",
       "38  0.005905  0.008115  0.009497  0.007010  0.005905  0.009037  0.009774   \n",
       "39  0.035059  0.030082  0.041799  0.034126  0.036822  0.045117  0.031637   \n",
       "40  0.006292  0.012969  0.006920  0.007392  0.006920  0.008727  0.006213   \n",
       "41  0.060884  0.049855  0.046720  0.050179  0.045206  0.033853  0.066506   \n",
       "42  0.066562  0.039964  0.047626  0.047845  0.050691  0.041715  0.050800   \n",
       "43  0.045789  0.065817  0.039431  0.054054  0.079063  0.045153  0.047908   \n",
       "\n",
       "     topic_8   topic_9  topic_10  topic_11  topic_12  topic_13  topic_14  \\\n",
       "0   0.065354  0.067313  0.051636  0.051636  0.056862  0.062741  0.050983   \n",
       "1   0.062606  0.058963  0.056534  0.047425  0.051069  0.057748  0.051676   \n",
       "2   0.059973  0.044009  0.050937  0.063588  0.045214  0.083770  0.058769   \n",
       "3   0.043786  0.043170  0.062261  0.057950  0.062261  0.064725  0.049329   \n",
       "4   0.059095  0.060463  0.047610  0.054447  0.043508  0.049798  0.062377   \n",
       "5   0.053638  0.058275  0.051577  0.060336  0.044878  0.056729  0.061882   \n",
       "6   0.045841  0.056020  0.053839  0.055657  0.052021  0.050931  0.055293   \n",
       "7   0.061414  0.050704  0.049881  0.065121  0.047821  0.054411  0.053176   \n",
       "8   0.038716  0.046771  0.049047  0.049573  0.046596  0.070235  0.051499   \n",
       "9   0.056015  0.045766  0.060746  0.039853  0.068630  0.058381  0.063899   \n",
       "10  0.054947  0.045254  0.053152  0.048126  0.056742  0.063923  0.053332   \n",
       "11  0.081146  0.045946  0.052240  0.045946  0.063430  0.060166  0.053639   \n",
       "12  0.068095  0.068552  0.042660  0.040071  0.049971  0.043422  0.050428   \n",
       "13  0.079767  0.058513  0.055061  0.039620  0.047613  0.054879  0.060874   \n",
       "14  0.105760  0.051966  0.048610  0.045580  0.037786  0.051749  0.062140   \n",
       "15  0.090642  0.071861  0.039366  0.044136  0.052185  0.045478  0.052930   \n",
       "16  0.046787  0.047939  0.036072  0.043100  0.082041  0.039298  0.044828   \n",
       "17  0.071282  0.053195  0.037286  0.045132  0.045785  0.058643  0.045350   \n",
       "18  0.063934  0.071175  0.038590  0.046580  0.050201  0.043709  0.044833   \n",
       "19  0.057221  0.053175  0.042691  0.048392  0.063475  0.049680  0.056853   \n",
       "20  0.070989  0.046447  0.054111  0.055753  0.048819  0.074183  0.052378   \n",
       "21  0.048348  0.049695  0.044607  0.055531  0.054782  0.067352  0.049994   \n",
       "22  0.092619  0.064177  0.045064  0.038124  0.031411  0.115600  0.054734   \n",
       "23  0.051907  0.072266  0.057418  0.041192  0.047927  0.089870  0.044560   \n",
       "24  0.102646  0.070934  0.061004  0.046718  0.033445  0.062929  0.035371   \n",
       "25  0.051204  0.084771  0.044660  0.039699  0.056799  0.055110  0.034949   \n",
       "26  0.052021  0.041598  0.049657  0.055460  0.052881  0.081035  0.054385   \n",
       "27  0.027084  0.014888  0.016189  0.035134  0.019685  0.039280  0.023425   \n",
       "28  0.000769  0.000769  0.000845  0.000617  0.000617  0.001149  0.000769   \n",
       "29  0.093913  0.053553  0.051570  0.045154  0.037106  0.040955  0.036756   \n",
       "30  0.056352  0.038249  0.038055  0.084038  0.042895  0.050156  0.027309   \n",
       "31  0.037968  0.079717  0.092176  0.046274  0.029152  0.041319  0.035855   \n",
       "32  0.005588  0.010490  0.839625  0.008453  0.006945  0.005890  0.006870   \n",
       "33  0.070201  0.069001  0.040870  0.060608  0.055443  0.045481  0.063283   \n",
       "34  0.005479  0.868256  0.006528  0.007353  0.006378  0.004430  0.006528   \n",
       "35  0.077569  0.085560  0.068286  0.056535  0.045959  0.041258  0.054420   \n",
       "36  0.066747  0.043220  0.043446  0.064598  0.051138  0.043446  0.092650   \n",
       "37  0.102216  0.048969  0.031619  0.034710  0.036305  0.046476  0.052259   \n",
       "38  0.006642  0.016682  0.006181  0.005628  0.005997  0.007747  0.006181   \n",
       "39  0.031430  0.030082  0.037029  0.019090  0.027904  0.033711  0.043976   \n",
       "40  0.005114  0.005978  0.009277  0.007392  0.008256  0.008334  0.860912   \n",
       "41  0.047368  0.034718  0.044341  0.053639  0.041422  0.039908  0.149544   \n",
       "42  0.046422  0.060651  0.060651  0.103122  0.060870  0.062731  0.047516   \n",
       "43  0.070903  0.038689  0.054160  0.132895  0.045471  0.036464  0.049922   \n",
       "\n",
       "    topic_15  topic_16  topic_17  topic_18  timepoint  \n",
       "0   0.047717  0.048697  0.049350  0.062414          0  \n",
       "1   0.066857  0.067464  0.054105  0.054105          1  \n",
       "2   0.055154  0.066600  0.039792  0.046117          2  \n",
       "3   0.059182  0.051792  0.057950  0.051176          3  \n",
       "4   0.058275  0.054720  0.055814  0.065385          4  \n",
       "5   0.042817  0.053122  0.054153  0.055183          5  \n",
       "6   0.052021  0.056384  0.052385  0.056020          6  \n",
       "7   0.048645  0.064297  0.044938  0.051528          7  \n",
       "8   0.066733  0.056927  0.048347  0.057102          8  \n",
       "9   0.053256  0.051285  0.050497  0.064294          9  \n",
       "10  0.067872  0.050101  0.050460  0.053691         10  \n",
       "11  0.053406  0.062497  0.043149  0.047345         11  \n",
       "12  0.074949  0.074340  0.052408  0.043270         12  \n",
       "13  0.059058  0.053063  0.049430  0.047068         13  \n",
       "14  0.053914  0.056079  0.039735  0.046121         14  \n",
       "15  0.057551  0.086469  0.043689  0.034894         15  \n",
       "16  0.042178  0.093332  0.049206  0.047593         16  \n",
       "17  0.040555  0.059514  0.053413  0.065180         17  \n",
       "18  0.045582  0.071175  0.057317  0.050825         18  \n",
       "19  0.069729  0.053726  0.058141  0.052255         19  \n",
       "20  0.112136  0.116333  0.043345  0.036777         20  \n",
       "21  0.063312  0.080371  0.057027  0.061217         21  \n",
       "22  0.054393  0.057123  0.067931  0.052117         22  \n",
       "23  0.041498  0.078695  0.050530  0.052060         23  \n",
       "24  0.036080  0.044692  0.073872  0.047225         24  \n",
       "25  0.080232  0.056377  0.058804  0.056693         25  \n",
       "26  0.066958  0.056535  0.058576  0.054708         26  \n",
       "27  0.636818  0.030824  0.014562  0.023913         27  \n",
       "28  0.986550  0.000845  0.000693  0.001225         28  \n",
       "29  0.159469  0.050754  0.044688  0.060202         29  \n",
       "30  0.164292  0.050640  0.079392  0.045315         30  \n",
       "31  0.036511  0.044015  0.061720  0.034616         31  \n",
       "32  0.023234  0.007624  0.006417  0.009962         32  \n",
       "33  0.061161  0.035981  0.054797  0.046773         33  \n",
       "34  0.013724  0.007053  0.020544  0.005029         34  \n",
       "35  0.062293  0.041963  0.054655  0.050307         35  \n",
       "36  0.039148  0.062110  0.074100  0.046274         36  \n",
       "37  0.031818  0.242312  0.063627  0.029924         37  \n",
       "38  0.005444  0.007655  0.868669  0.007931         38  \n",
       "39  0.029770  0.052065  0.045843  0.394461         39  \n",
       "40  0.005821  0.007784  0.009512  0.016189         40  \n",
       "41  0.033312  0.041962  0.063911  0.096672         41  \n",
       "42  0.047845  0.061856  0.058900  0.044233         42  \n",
       "43  0.071751  0.042398  0.046954  0.033179         43  "
      ]
     },
     "execution_count": 88,
     "metadata": {},
     "output_type": "execute_result"
    }
   ],
   "source": [
    "td = pd.DataFrame()\n",
    "for timepoint in range(best_mdl.num_timepoints):\n",
    "    td_tmp = pd.DataFrame(\n",
    "        np.stack([doc.get_topic_dist() for doc in best_mdl.docs if doc.timepoint == timepoint]),\n",
    "        columns=[\"topic_{}\".format(i + 1) for i in range(best_mdl.k)],\n",
    "    )\n",
    "    td_tmp[\"timepoint\"] = timepoint\n",
    "    td = pd.concat([td, td_tmp], ignore_index=True)\n",
    "    del td_tmp\n",
    "\n",
    "td"
   ]
  },
  {
   "cell_type": "code",
   "execution_count": 89,
   "metadata": {},
   "outputs": [],
   "source": [
    "# save td to csv\n",
    "td.to_csv('./main_df_output/MD_DTM_td_all_time.csv', index=False) \n",
    "wt.to_csv('./main_df_output/MD_DTM_wt_all_time.csv', index=False)"
   ]
  },
  {
   "cell_type": "code",
   "execution_count": 91,
   "metadata": {},
   "outputs": [
    {
     "data": {
      "application/vnd.plotly.v1+json": {
       "config": {
        "plotlyServerURL": "https://plot.ly"
       },
       "data": [
        {
         "hovertemplate": "variable=topic_1<br>timepoint=%{x}<br>value=%{y}<extra></extra>",
         "legendgroup": "topic_1",
         "line": {
          "color": "#636efa",
          "dash": "solid"
         },
         "marker": {
          "symbol": "circle"
         },
         "mode": "lines",
         "name": "topic_1",
         "orientation": "v",
         "showlegend": true,
         "type": "scatter",
         "x": [
          0,
          1,
          2,
          3,
          4,
          5,
          6,
          7,
          8,
          9,
          10,
          11,
          12,
          13,
          14,
          15,
          16,
          17,
          18,
          19,
          20,
          21,
          22,
          23,
          24,
          25,
          26,
          27,
          28,
          29,
          30,
          31,
          32,
          33,
          34,
          35,
          36,
          37,
          38,
          39,
          40,
          41,
          42,
          43
         ],
         "xaxis": "x",
         "y": [
          0.04837024211883545,
          0.055926643311977386,
          0.05033436045050621,
          0.06287720054388046,
          0.05554036423563957,
          0.052091918885707855,
          0.05565653741359711,
          0.042878326028585434,
          0.04221825674176216,
          0.04891989752650261,
          0.060511957854032516,
          0.0872068703174591,
          0.05591093376278877,
          0.04561473801732063,
          0.04774429649114609,
          0.06157584488391876,
          0.07708702981472015,
          0.06147577241063118,
          0.05082524195313454,
          0.04784064367413521,
          0.03385701775550842,
          0.04864727705717087,
          0.03664474934339523,
          0.0473150908946991,
          0.055533040314912796,
          0.03283793479204178,
          0.043209612369537354,
          0.014481088146567345,
          0.0009210066054947674,
          0.040838468819856644,
          0.030019942671060562,
          0.15673089027404785,
          0.011696127243340015,
          0.06125366687774658,
          0.009076735936105251,
          0.05089426413178444,
          0.04423807933926582,
          0.03550773859024048,
          0.005904677789658308,
          0.035058796405792236,
          0.006291827652603388,
          0.060883574187755585,
          0.06656231731176376,
          0.045788828283548355
         ],
         "yaxis": "y"
        },
        {
         "hovertemplate": "variable=topic_2<br>timepoint=%{x}<br>value=%{y}<extra></extra>",
         "legendgroup": "topic_2",
         "line": {
          "color": "#EF553B",
          "dash": "solid"
         },
         "marker": {
          "symbol": "circle"
         },
         "mode": "lines",
         "name": "topic_2",
         "orientation": "v",
         "showlegend": true,
         "type": "scatter",
         "x": [
          0,
          1,
          2,
          3,
          4,
          5,
          6,
          7,
          8,
          9,
          10,
          11,
          12,
          13,
          14,
          15,
          16,
          17,
          18,
          19,
          20,
          21,
          22,
          23,
          24,
          25,
          26,
          27,
          28,
          29,
          30,
          31,
          32,
          33,
          34,
          35,
          36,
          37,
          38,
          39,
          40,
          41,
          42,
          43
         ],
         "xaxis": "x",
         "y": [
          0.05294271558523178,
          0.04924702271819115,
          0.04912946745753288,
          0.053023770451545715,
          0.05389958620071411,
          0.06909521669149399,
          0.05093063786625862,
          0.058530356734991074,
          0.04729635268449783,
          0.0575922429561615,
          0.04668988659977913,
          0.05270642414689064,
          0.05910932645201683,
          0.05306278541684151,
          0.07361345738172531,
          0.059787146747112274,
          0.06925274431705475,
          0.04665708169341087,
          0.04683013632893562,
          0.061267659068107605,
          0.03933107107877731,
          0.0564284473657608,
          0.05302737280726433,
          0.05971406027674675,
          0.04499584808945656,
          0.04877662658691406,
          0.07566248625516891,
          0.017570821568369865,
          0.0005404253606684506,
          0.044454555958509445,
          0.03166566789150238,
          0.039862144738435745,
          0.011545307002961636,
          0.03754911571741104,
          0.007352830842137337,
          0.05359703302383423,
          0.058263957500457764,
          0.04348476603627205,
          0.008115477859973907,
          0.030081504955887794,
          0.012968549504876137,
          0.04985511675477028,
          0.03996366262435913,
          0.06581680476665497
         ],
         "yaxis": "y"
        },
        {
         "hovertemplate": "variable=topic_3<br>timepoint=%{x}<br>value=%{y}<extra></extra>",
         "legendgroup": "topic_3",
         "line": {
          "color": "#00cc96",
          "dash": "solid"
         },
         "marker": {
          "symbol": "circle"
         },
         "mode": "lines",
         "name": "topic_3",
         "orientation": "v",
         "showlegend": true,
         "type": "scatter",
         "x": [
          0,
          1,
          2,
          3,
          4,
          5,
          6,
          7,
          8,
          9,
          10,
          11,
          12,
          13,
          14,
          15,
          16,
          17,
          18,
          19,
          20,
          21,
          22,
          23,
          24,
          25,
          26,
          27,
          28,
          29,
          30,
          31,
          32,
          33,
          34,
          35,
          36,
          37,
          38,
          39,
          40,
          41,
          42,
          43
         ],
         "xaxis": "x",
         "y": [
          0.054902344942092896,
          0.04256740212440491,
          0.05123802646994591,
          0.04932873323559761,
          0.054173048585653305,
          0.05106141418218613,
          0.06910716742277145,
          0.07129912078380585,
          0.07461301982402802,
          0.06626458466053009,
          0.06679471582174301,
          0.06576064229011536,
          0.05804319679737091,
          0.05451606214046478,
          0.047527819871902466,
          0.06604757905006409,
          0.07351551949977875,
          0.09503574669361115,
          0.07816674560308456,
          0.04802457615733147,
          0.03805379197001457,
          0.04759981110692024,
          0.0684998482465744,
          0.04455976188182831,
          0.051176317036151886,
          0.06080980971455574,
          0.043746910989284515,
          0.014155853539705276,
          0.0008448903681710362,
          0.04527109116315842,
          0.03660283982753754,
          0.08489012718200684,
          0.0061157699674367905,
          0.04714161902666092,
          0.0057038781233131886,
          0.06746339052915573,
          0.05939507484436035,
          0.03919711336493492,
          0.009497227147221565,
          0.04179887846112251,
          0.006920224986970425,
          0.04671957716345787,
          0.0476258248090744,
          0.03943074122071266
         ],
         "yaxis": "y"
        },
        {
         "hovertemplate": "variable=topic_4<br>timepoint=%{x}<br>value=%{y}<extra></extra>",
         "legendgroup": "topic_4",
         "line": {
          "color": "#ab63fa",
          "dash": "solid"
         },
         "marker": {
          "symbol": "circle"
         },
         "mode": "lines",
         "name": "topic_4",
         "orientation": "v",
         "showlegend": true,
         "type": "scatter",
         "x": [
          0,
          1,
          2,
          3,
          4,
          5,
          6,
          7,
          8,
          9,
          10,
          11,
          12,
          13,
          14,
          15,
          16,
          17,
          18,
          19,
          20,
          21,
          22,
          23,
          24,
          25,
          26,
          27,
          28,
          29,
          30,
          31,
          32,
          33,
          34,
          35,
          36,
          37,
          38,
          39,
          40,
          41,
          42,
          43
         ],
         "xaxis": "x",
         "y": [
          0.05261610820889473,
          0.04985425993800163,
          0.06358817219734192,
          0.065340556204319,
          0.054173048585653305,
          0.05054616555571556,
          0.05965537577867508,
          0.06594447791576385,
          0.09299922734498978,
          0.05365027114748955,
          0.05961441993713379,
          0.05107464641332626,
          0.0668768510222435,
          0.08103837072849274,
          0.06646966934204102,
          0.04622287303209305,
          0.07662618905305862,
          0.056463565677404404,
          0.05519488826394081,
          0.05372646078467369,
          0.03066382184624672,
          0.05164003372192383,
          0.05154838785529137,
          0.06889848411083221,
          0.08886704593896866,
          0.08054845780134201,
          0.07168647646903992,
          0.02521384321153164,
          0.0008448903681710362,
          0.03360629081726074,
          0.08907239139080048,
          0.05866023525595665,
          0.007623974233865738,
          0.05424375832080841,
          0.0057038781233131886,
          0.04031822457909584,
          0.039600491523742676,
          0.028428127989172935,
          0.007010077591985464,
          0.03412555530667305,
          0.007391523104161024,
          0.050179485231637955,
          0.047844745218753815,
          0.054054342210292816
         ],
         "yaxis": "y"
        },
        {
         "hovertemplate": "variable=topic_5<br>timepoint=%{x}<br>value=%{y}<extra></extra>",
         "legendgroup": "topic_5",
         "line": {
          "color": "#FFA15A",
          "dash": "solid"
         },
         "marker": {
          "symbol": "circle"
         },
         "mode": "lines",
         "name": "topic_5",
         "orientation": "v",
         "showlegend": true,
         "type": "scatter",
         "x": [
          0,
          1,
          2,
          3,
          4,
          5,
          6,
          7,
          8,
          9,
          10,
          11,
          12,
          13,
          14,
          15,
          16,
          17,
          18,
          19,
          20,
          21,
          22,
          23,
          24,
          25,
          26,
          27,
          28,
          29,
          30,
          31,
          32,
          33,
          34,
          35,
          36,
          37,
          38,
          39,
          40,
          41,
          42,
          43
         ],
         "xaxis": "x",
         "y": [
          0.04673721641302109,
          0.06442797929048538,
          0.0446111224591732,
          0.053023770451545715,
          0.06456464529037476,
          0.06136644631624222,
          0.06329067796468735,
          0.05399950593709946,
          0.058853402733802795,
          0.056409649550914764,
          0.062127526849508286,
          0.05154086649417877,
          0.049057237803936005,
          0.046704698354005814,
          0.05358921363949776,
          0.047564394772052765,
          0.03134864941239357,
          0.060386162251234055,
          0.056318510323762894,
          0.04728884994983673,
          0.03850996494293213,
          0.042212847620248795,
          0.04984186217188835,
          0.06216324120759964,
          0.03557316213846207,
          0.048248857259750366,
          0.048367686569690704,
          0.015863336622714996,
          0.0006926578935235739,
          0.044454555958509445,
          0.032343316823244095,
          0.04365090653300285,
          0.01214858889579773,
          0.04234536737203598,
          0.005404068157076836,
          0.04396108165383339,
          0.06041308492422104,
          0.06243019923567772,
          0.005904677789658308,
          0.03682158514857292,
          0.006920224986970425,
          0.04520586505532265,
          0.05069069191813469,
          0.079062819480896
         ],
         "yaxis": "y"
        },
        {
         "hovertemplate": "variable=topic_6<br>timepoint=%{x}<br>value=%{y}<extra></extra>",
         "legendgroup": "topic_6",
         "line": {
          "color": "#19d3f3",
          "dash": "solid"
         },
         "marker": {
          "symbol": "circle"
         },
         "mode": "lines",
         "name": "topic_6",
         "orientation": "v",
         "showlegend": true,
         "type": "scatter",
         "x": [
          0,
          1,
          2,
          3,
          4,
          5,
          6,
          7,
          8,
          9,
          10,
          11,
          12,
          13,
          14,
          15,
          16,
          17,
          18,
          19,
          20,
          21,
          22,
          23,
          24,
          25,
          26,
          27,
          28,
          29,
          30,
          31,
          32,
          33,
          34,
          35,
          36,
          37,
          38,
          39,
          40,
          41,
          42,
          43
         ],
         "xaxis": "x",
         "y": [
          0.06731334328651428,
          0.053497690707445145,
          0.0672028437256813,
          0.06595639884471893,
          0.0544465109705925,
          0.060851193964481354,
          0.06038243696093559,
          0.07171101868152618,
          0.04659592732787132,
          0.049708291888237,
          0.05997343733906746,
          0.05224020034074783,
          0.054235588759183884,
          0.0652339830994606,
          0.058892928063869476,
          0.0512908436357975,
          0.05104956403374672,
          0.04905422404408455,
          0.06618142873048782,
          0.05409432202577591,
          0.04234180226922035,
          0.06839947402477264,
          0.03141140937805176,
          0.05175422877073288,
          0.04347606003284454,
          0.046032216399908066,
          0.035902343690395355,
          0.013830618001520634,
          0.0006165415979921818,
          0.06463465839624405,
          0.05257603898644447,
          0.0342518649995327,
          0.00928299967199564,
          0.09242930263280869,
          0.006378449499607086,
          0.05359703302383423,
          0.05430504307150841,
          0.03670429438352585,
          0.009036644361913204,
          0.04511707276105881,
          0.008726866915822029,
          0.033853042870759964,
          0.04171501100063324,
          0.045153018087148666
         ],
         "yaxis": "y"
        },
        {
         "hovertemplate": "variable=topic_7<br>timepoint=%{x}<br>value=%{y}<extra></extra>",
         "legendgroup": "topic_7",
         "line": {
          "color": "#FF6692",
          "dash": "solid"
         },
         "marker": {
          "symbol": "circle"
         },
         "mode": "lines",
         "name": "topic_7",
         "orientation": "v",
         "showlegend": true,
         "type": "scatter",
         "x": [
          0,
          1,
          2,
          3,
          4,
          5,
          6,
          7,
          8,
          9,
          10,
          11,
          12,
          13,
          14,
          15,
          16,
          17,
          18,
          19,
          20,
          21,
          22,
          23,
          24,
          25,
          26,
          27,
          28,
          29,
          30,
          31,
          32,
          33,
          34,
          35,
          36,
          37,
          38,
          39,
          40,
          41,
          42,
          43
         ],
         "xaxis": "x",
         "y": [
          0.0624142661690712,
          0.055926643311977386,
          0.059973493218421936,
          0.046865373849868774,
          0.051711879670619965,
          0.06239694729447365,
          0.054565947502851486,
          0.04370211437344551,
          0.055876586586236954,
          0.054832860827445984,
          0.04668988659977913,
          0.030560867860913277,
          0.048600323498249054,
          0.04888461157679558,
          0.05272329971194267,
          0.04830968379974365,
          0.04874536395072937,
          0.055591881275177,
          0.06256086379289627,
          0.08241981267929077,
          0.06597146391868591,
          0.05283713713288307,
          0.03573460131883621,
          0.037671443074941635,
          0.06546232104301453,
          0.06344866752624512,
          0.057609230279922485,
          0.01708296872675419,
          0.0006926578935235739,
          0.05261991545557976,
          0.051027122884988785,
          0.04263085499405861,
          0.010489563457667828,
          0.06143813580274582,
          0.009076735936105251,
          0.05136431008577347,
          0.05690661817789078,
          0.034012045711278915,
          0.009773577563464642,
          0.031636908650398254,
          0.006213278044015169,
          0.06650592386722565,
          0.050800152122974396,
          0.04790819063782692
         ],
         "yaxis": "y"
        },
        {
         "hovertemplate": "variable=topic_8<br>timepoint=%{x}<br>value=%{y}<extra></extra>",
         "legendgroup": "topic_8",
         "line": {
          "color": "#B6E880",
          "dash": "solid"
         },
         "marker": {
          "symbol": "circle"
         },
         "mode": "lines",
         "name": "topic_8",
         "orientation": "v",
         "showlegend": true,
         "type": "scatter",
         "x": [
          0,
          1,
          2,
          3,
          4,
          5,
          6,
          7,
          8,
          9,
          10,
          11,
          12,
          13,
          14,
          15,
          16,
          17,
          18,
          19,
          20,
          21,
          22,
          23,
          24,
          25,
          26,
          27,
          28,
          29,
          30,
          31,
          32,
          33,
          34,
          35,
          36,
          37,
          38,
          39,
          40,
          41,
          42,
          43
         ],
         "xaxis": "x",
         "y": [
          0.06535371392965317,
          0.06260626763105392,
          0.059973493218421936,
          0.0437861792743206,
          0.059095386415719986,
          0.05363767221570015,
          0.04584120959043503,
          0.06141362711787224,
          0.03871611878275871,
          0.05601545423269272,
          0.054947227239608765,
          0.08114597946405411,
          0.06809528172016144,
          0.07976675033569336,
          0.10576048493385315,
          0.09064213931560516,
          0.04678679257631302,
          0.07128226011991501,
          0.06393417716026306,
          0.05722116306424141,
          0.07098934054374695,
          0.04834799841046333,
          0.09261871874332428,
          0.05190730094909668,
          0.10264645516872406,
          0.0512043759226799,
          0.052021320909261703,
          0.027083944529294968,
          0.0007687741308473051,
          0.09391330927610397,
          0.05635152384638786,
          0.03796776384115219,
          0.0055878981947898865,
          0.07020051777362823,
          0.005479020997881889,
          0.0775693878531456,
          0.06674735248088837,
          0.10221561789512634,
          0.006641610991209745,
          0.03142952173948288,
          0.005113582592457533,
          0.047368310391902924,
          0.04642177000641823,
          0.07090327143669128
         ],
         "yaxis": "y"
        },
        {
         "hovertemplate": "variable=topic_9<br>timepoint=%{x}<br>value=%{y}<extra></extra>",
         "legendgroup": "topic_9",
         "line": {
          "color": "#FF97FF",
          "dash": "solid"
         },
         "marker": {
          "symbol": "circle"
         },
         "mode": "lines",
         "name": "topic_9",
         "orientation": "v",
         "showlegend": true,
         "type": "scatter",
         "x": [
          0,
          1,
          2,
          3,
          4,
          5,
          6,
          7,
          8,
          9,
          10,
          11,
          12,
          13,
          14,
          15,
          16,
          17,
          18,
          19,
          20,
          21,
          22,
          23,
          24,
          25,
          26,
          27,
          28,
          29,
          30,
          31,
          32,
          33,
          34,
          35,
          36,
          37,
          38,
          39,
          40,
          41,
          42,
          43
         ],
         "xaxis": "x",
         "y": [
          0.06731334328651428,
          0.058962833136320114,
          0.04400867596268654,
          0.04317034035921097,
          0.06046270206570625,
          0.05827493593096733,
          0.05602006986737251,
          0.050704341381788254,
          0.046771034598350525,
          0.04576632007956505,
          0.045253824442625046,
          0.04594620317220688,
          0.06855219602584839,
          0.058512572199106216,
          0.0519656240940094,
          0.07186084240674973,
          0.04793889448046684,
          0.053194738924503326,
          0.07117530703544617,
          0.053174663335084915,
          0.04644734039902687,
          0.049694739282131195,
          0.06417665630578995,
          0.0722661092877388,
          0.07093355059623718,
          0.08477062731981277,
          0.04159771651029587,
          0.014887631870806217,
          0.0007687741308473051,
          0.05355310067534447,
          0.038248565047979355,
          0.0797170102596283,
          0.010489563457667828,
          0.0690014585852623,
          0.868256151676178,
          0.08556018024682999,
          0.043220072984695435,
          0.04896897077560425,
          0.016682326793670654,
          0.030081504955887794,
          0.005977629218250513,
          0.034718018025159836,
          0.0606514997780323,
          0.038688965141773224
         ],
         "yaxis": "y"
        },
        {
         "hovertemplate": "variable=topic_10<br>timepoint=%{x}<br>value=%{y}<extra></extra>",
         "legendgroup": "topic_10",
         "line": {
          "color": "#FECB52",
          "dash": "solid"
         },
         "marker": {
          "symbol": "circle"
         },
         "mode": "lines",
         "name": "topic_10",
         "orientation": "v",
         "showlegend": true,
         "type": "scatter",
         "x": [
          0,
          1,
          2,
          3,
          4,
          5,
          6,
          7,
          8,
          9,
          10,
          11,
          12,
          13,
          14,
          15,
          16,
          17,
          18,
          19,
          20,
          21,
          22,
          23,
          24,
          25,
          26,
          27,
          28,
          29,
          30,
          31,
          32,
          33,
          34,
          35,
          36,
          37,
          38,
          39,
          40,
          41,
          42,
          43
         ],
         "xaxis": "x",
         "y": [
          0.05163629353046417,
          0.05653388053178787,
          0.050936803221702576,
          0.06226135790348053,
          0.04760993272066116,
          0.05157666653394699,
          0.05383888632059097,
          0.04988054931163788,
          0.04904742166399956,
          0.06074582412838936,
          0.05315215513110161,
          0.05224020034074783,
          0.04266045615077019,
          0.05506104230880737,
          0.04861021041870117,
          0.039366208016872406,
          0.0360722616314888,
          0.037286438047885895,
          0.03859023004770279,
          0.04269055649638176,
          0.05411101132631302,
          0.04460705444216728,
          0.045063599944114685,
          0.05741795524954796,
          0.06100427359342575,
          0.04466000944375992,
          0.04965720325708389,
          0.016188571229577065,
          0.0008448903681710362,
          0.05157008394598961,
          0.038054950535297394,
          0.09217620640993118,
          0.8396250605583191,
          0.04086959734559059,
          0.006528354249894619,
          0.0682859718799591,
          0.04344629496335983,
          0.031618937849998474,
          0.006181027740240097,
          0.037028972059488297,
          0.009276715107262135,
          0.044340889900922775,
          0.0606514997780323,
          0.054160311818122864
         ],
         "yaxis": "y"
        },
        {
         "hovertemplate": "variable=topic_11<br>timepoint=%{x}<br>value=%{y}<extra></extra>",
         "legendgroup": "topic_11",
         "line": {
          "color": "#636efa",
          "dash": "solid"
         },
         "marker": {
          "symbol": "circle"
         },
         "mode": "lines",
         "name": "topic_11",
         "orientation": "v",
         "showlegend": true,
         "type": "scatter",
         "x": [
          0,
          1,
          2,
          3,
          4,
          5,
          6,
          7,
          8,
          9,
          10,
          11,
          12,
          13,
          14,
          15,
          16,
          17,
          18,
          19,
          20,
          21,
          22,
          23,
          24,
          25,
          26,
          27,
          28,
          29,
          30,
          31,
          32,
          33,
          34,
          35,
          36,
          37,
          38,
          39,
          40,
          41,
          42,
          43
         ],
         "xaxis": "x",
         "y": [
          0.05163629353046417,
          0.04742530733346939,
          0.06358817219734192,
          0.05795048549771309,
          0.0544465109705925,
          0.06033594161272049,
          0.05565653741359711,
          0.06512068957090378,
          0.049572743475437164,
          0.039853356778621674,
          0.048125945031642914,
          0.04594620317220688,
          0.0400712788105011,
          0.03961997106671333,
          0.045579515397548676,
          0.044136062264442444,
          0.04310007393360138,
          0.0451316274702549,
          0.046580441296100616,
          0.048392441123723984,
          0.055753227323293686,
          0.055530618876218796,
          0.038123734295368195,
          0.04119214043021202,
          0.04671827331185341,
          0.03969896212220192,
          0.05546003580093384,
          0.03513351082801819,
          0.0006165415979921818,
          0.04515444487333298,
          0.08403841406106949,
          0.04627389833331108,
          0.008453487418591976,
          0.06060801446437836,
          0.007352830842137337,
          0.056534819304943085,
          0.06459822505712509,
          0.03471003472805023,
          0.005628327839076519,
          0.019089985638856888,
          0.007391523104161024,
          0.05363939329981804,
          0.1031217873096466,
          0.1328946202993393
         ],
         "yaxis": "y"
        },
        {
         "hovertemplate": "variable=topic_12<br>timepoint=%{x}<br>value=%{y}<extra></extra>",
         "legendgroup": "topic_12",
         "line": {
          "color": "#EF553B",
          "dash": "solid"
         },
         "marker": {
          "symbol": "circle"
         },
         "mode": "lines",
         "name": "topic_12",
         "orientation": "v",
         "showlegend": true,
         "type": "scatter",
         "x": [
          0,
          1,
          2,
          3,
          4,
          5,
          6,
          7,
          8,
          9,
          10,
          11,
          12,
          13,
          14,
          15,
          16,
          17,
          18,
          19,
          20,
          21,
          22,
          23,
          24,
          25,
          26,
          27,
          28,
          29,
          30,
          31,
          32,
          33,
          34,
          35,
          36,
          37,
          38,
          39,
          40,
          41,
          42,
          43
         ],
         "xaxis": "x",
         "y": [
          0.05686197802424431,
          0.0510687381029129,
          0.045213568955659866,
          0.06226135790348053,
          0.04350798577070236,
          0.04487839713692665,
          0.05202123150229454,
          0.04782107099890709,
          0.04659592732787132,
          0.06862977147102356,
          0.05674230307340622,
          0.06342953443527222,
          0.049971066415309906,
          0.0476129949092865,
          0.037786293774843216,
          0.052185192704200745,
          0.08204106241464615,
          0.04578539356589317,
          0.05020100623369217,
          0.06347484141588211,
          0.04881942644715309,
          0.054782427847385406,
          0.03141140937805176,
          0.047927383333444595,
          0.033445462584495544,
          0.056798748672008514,
          0.05288100242614746,
          0.019684847444295883,
          0.0006165415979921818,
          0.037105731666088104,
          0.04289531335234642,
          0.029151609167456627,
          0.006945282220840454,
          0.055442821234464645,
          0.006378449499607086,
          0.045958779752254486,
          0.051137909293174744,
          0.036305442452430725,
          0.005996794439852238,
          0.02790393866598606,
          0.008255569264292717,
          0.041421592235565186,
          0.060870420187711716,
          0.04547092318534851
         ],
         "yaxis": "y"
        },
        {
         "hovertemplate": "variable=topic_13<br>timepoint=%{x}<br>value=%{y}<extra></extra>",
         "legendgroup": "topic_13",
         "line": {
          "color": "#00cc96",
          "dash": "solid"
         },
         "marker": {
          "symbol": "circle"
         },
         "mode": "lines",
         "name": "topic_13",
         "orientation": "v",
         "showlegend": true,
         "type": "scatter",
         "x": [
          0,
          1,
          2,
          3,
          4,
          5,
          6,
          7,
          8,
          9,
          10,
          11,
          12,
          13,
          14,
          15,
          16,
          17,
          18,
          19,
          20,
          21,
          22,
          23,
          24,
          25,
          26,
          27,
          28,
          29,
          30,
          31,
          32,
          33,
          34,
          35,
          36,
          37,
          38,
          39,
          40,
          41,
          42,
          43
         ],
         "xaxis": "x",
         "y": [
          0.06274086982011795,
          0.05774835869669914,
          0.08377010375261307,
          0.06472471356391907,
          0.04979763925075531,
          0.05672918260097504,
          0.05093063786625862,
          0.054411403834819794,
          0.07023534923791885,
          0.05838063731789589,
          0.06392259895801544,
          0.06016597896814346,
          0.04342197626829147,
          0.054879382252693176,
          0.05174914747476578,
          0.04547758400440216,
          0.03929814323782921,
          0.058642785996198654,
          0.043708957731723785,
          0.0496799610555172,
          0.07418254017829895,
          0.06735201179981232,
          0.11559990048408508,
          0.08986958116292953,
          0.06292933970689774,
          0.05510988086462021,
          0.08103547990322113,
          0.039280254393815994,
          0.001149355317465961,
          0.04095511510968208,
          0.05015585944056511,
          0.041319362819194794,
          0.005889539141207933,
          0.04548138007521629,
          0.004429687280207872,
          0.0412583164870739,
          0.04344629496335983,
          0.046476151794195175,
          0.0077470107935369015,
          0.033710777759552,
          0.008334118872880936,
          0.03990788012742996,
          0.06273122876882553,
          0.03646363317966461
         ],
         "yaxis": "y"
        },
        {
         "hovertemplate": "variable=topic_14<br>timepoint=%{x}<br>value=%{y}<extra></extra>",
         "legendgroup": "topic_14",
         "line": {
          "color": "#ab63fa",
          "dash": "solid"
         },
         "marker": {
          "symbol": "circle"
         },
         "mode": "lines",
         "name": "topic_14",
         "orientation": "v",
         "showlegend": true,
         "type": "scatter",
         "x": [
          0,
          1,
          2,
          3,
          4,
          5,
          6,
          7,
          8,
          9,
          10,
          11,
          12,
          13,
          14,
          15,
          16,
          17,
          18,
          19,
          20,
          21,
          22,
          23,
          24,
          25,
          26,
          27,
          28,
          29,
          30,
          31,
          32,
          33,
          34,
          35,
          36,
          37,
          38,
          39,
          40,
          41,
          42,
          43
         ],
         "xaxis": "x",
         "y": [
          0.05098308250308037,
          0.05167597532272339,
          0.05876860022544861,
          0.04932873323559761,
          0.06237694248557091,
          0.061881694942712784,
          0.055293008685112,
          0.05317571759223938,
          0.05149891600012779,
          0.06389940530061722,
          0.053331661969423294,
          0.053638868033885956,
          0.05042797699570656,
          0.060874149203300476,
          0.06214010342955589,
          0.05293048173189163,
          0.044828224927186966,
          0.04534954950213432,
          0.044832583516836166,
          0.05685329809784889,
          0.05237756296992302,
          0.04999401792883873,
          0.05473389849066734,
          0.04455976188182831,
          0.03537052497267723,
          0.03494901955127716,
          0.054385438561439514,
          0.02342505007982254,
          0.0007687741308473051,
          0.03675578907132149,
          0.027309339493513107,
          0.03585480526089668,
          0.006869872100651264,
          0.06328284740447998,
          0.006528354249894619,
          0.054419610649347305,
          0.09264998883008957,
          0.05225948989391327,
          0.006181027740240097,
          0.04397644102573395,
          0.8609120845794678,
          0.14954373240470886,
          0.047516364604234695,
          0.049921587109565735
         ],
         "yaxis": "y"
        },
        {
         "hovertemplate": "variable=topic_15<br>timepoint=%{x}<br>value=%{y}<extra></extra>",
         "legendgroup": "topic_15",
         "line": {
          "color": "#FFA15A",
          "dash": "solid"
         },
         "marker": {
          "symbol": "circle"
         },
         "mode": "lines",
         "name": "topic_15",
         "orientation": "v",
         "showlegend": true,
         "type": "scatter",
         "x": [
          0,
          1,
          2,
          3,
          4,
          5,
          6,
          7,
          8,
          9,
          10,
          11,
          12,
          13,
          14,
          15,
          16,
          17,
          18,
          19,
          20,
          21,
          22,
          23,
          24,
          25,
          26,
          27,
          28,
          29,
          30,
          31,
          32,
          33,
          34,
          35,
          36,
          37,
          38,
          39,
          40,
          41,
          42,
          43
         ],
         "xaxis": "x",
         "y": [
          0.047717031091451645,
          0.06685692816972733,
          0.055153924971818924,
          0.05918216332793236,
          0.058274995535612106,
          0.04281739145517349,
          0.05202123150229454,
          0.048644863069057465,
          0.0667332112789154,
          0.0532560721039772,
          0.06787176430225372,
          0.0534057579934597,
          0.0749489814043045,
          0.05905755236744881,
          0.05391392856836319,
          0.05755127966403961,
          0.04217839241027832,
          0.04055526852607727,
          0.04558166489005089,
          0.06972852349281311,
          0.11213597655296326,
          0.06331178545951843,
          0.05439259484410286,
          0.04149828851222992,
          0.036079760640859604,
          0.08023179322481155,
          0.0669582411646843,
          0.6368182301521301,
          0.9865502715110779,
          0.15946948528289795,
          0.16429166495800018,
          0.03651054948568344,
          0.023233892396092415,
          0.061161428689956665,
          0.013723785988986492,
          0.06229288503527641,
          0.03914804384112358,
          0.031818363815546036,
          0.00544409453868866,
          0.029770424589514732,
          0.005820529535412788,
          0.03331243246793747,
          0.047844745218753815,
          0.07175101339817047
         ],
         "yaxis": "y"
        },
        {
         "hovertemplate": "variable=topic_16<br>timepoint=%{x}<br>value=%{y}<extra></extra>",
         "legendgroup": "topic_16",
         "line": {
          "color": "#19d3f3",
          "dash": "solid"
         },
         "marker": {
          "symbol": "circle"
         },
         "mode": "lines",
         "name": "topic_16",
         "orientation": "v",
         "showlegend": true,
         "type": "scatter",
         "x": [
          0,
          1,
          2,
          3,
          4,
          5,
          6,
          7,
          8,
          9,
          10,
          11,
          12,
          13,
          14,
          15,
          16,
          17,
          18,
          19,
          20,
          21,
          22,
          23,
          24,
          25,
          26,
          27,
          28,
          29,
          30,
          31,
          32,
          33,
          34,
          35,
          36,
          37,
          38,
          39,
          40,
          41,
          42,
          43
         ],
         "xaxis": "x",
         "y": [
          0.0486968457698822,
          0.06746417284011841,
          0.06660039722919464,
          0.05179208889603615,
          0.05471997335553169,
          0.053122419863939285,
          0.05638359859585762,
          0.0642968937754631,
          0.05692723020911217,
          0.05128508433699608,
          0.050100527703762054,
          0.0624970905482769,
          0.07433976233005524,
          0.05306278541684151,
          0.0560787096619606,
          0.08646851778030396,
          0.09333164244890213,
          0.059514474123716354,
          0.07117530703544617,
          0.05372646078467369,
          0.11633274704217911,
          0.08037050068378448,
          0.057123031467199326,
          0.07869520038366318,
          0.044691890478134155,
          0.05637653172016144,
          0.05653463304042816,
          0.030824147164821625,
          0.0008448903681710362,
          0.05075354874134064,
          0.05063989385962486,
          0.04401521384716034,
          0.007623974233865738,
          0.035981111228466034,
          0.007053021341562271,
          0.04196338355541229,
          0.06210976094007492,
          0.24231214821338654,
          0.007654894143342972,
          0.05206454172730446,
          0.0077842711471021175,
          0.04196220263838768,
          0.06185555458068848,
          0.04239784926176071
         ],
         "yaxis": "y"
        },
        {
         "hovertemplate": "variable=topic_17<br>timepoint=%{x}<br>value=%{y}<extra></extra>",
         "legendgroup": "topic_17",
         "line": {
          "color": "#FF6692",
          "dash": "solid"
         },
         "marker": {
          "symbol": "circle"
         },
         "mode": "lines",
         "name": "topic_17",
         "orientation": "v",
         "showlegend": true,
         "type": "scatter",
         "x": [
          0,
          1,
          2,
          3,
          4,
          5,
          6,
          7,
          8,
          9,
          10,
          11,
          12,
          13,
          14,
          15,
          16,
          17,
          18,
          19,
          20,
          21,
          22,
          23,
          24,
          25,
          26,
          27,
          28,
          29,
          30,
          31,
          32,
          33,
          34,
          35,
          36,
          37,
          38,
          39,
          40,
          41,
          42,
          43
         ],
         "xaxis": "x",
         "y": [
          0.049350056797266006,
          0.05410492792725563,
          0.03979155421257019,
          0.05795048549771309,
          0.055813826620578766,
          0.054152924567461014,
          0.05238476023077965,
          0.044937800616025925,
          0.04834699258208275,
          0.05049668997526169,
          0.050459541380405426,
          0.043148867785930634,
          0.05240793526172638,
          0.04942959174513817,
          0.039734598249197006,
          0.04368888959288597,
          0.0492062047123909,
          0.05341266095638275,
          0.05731728672981262,
          0.058140821754932404,
          0.0433453768491745,
          0.057026997208595276,
          0.06793101131916046,
          0.050529636442661285,
          0.07387180626392365,
          0.05880428105592728,
          0.058576371520757675,
          0.014562397263944149,
          0.0006926578935235739,
          0.04468785226345062,
          0.07939166575670242,
          0.06172038987278938,
          0.006417410913854837,
          0.05479717254638672,
          0.02054445445537567,
          0.05465463548898697,
          0.07409963011741638,
          0.06362675130367279,
          0.8686692714691162,
          0.04584292694926262,
          0.00951236393302679,
          0.06391099095344543,
          0.058900151401758194,
          0.046954479068517685
         ],
         "yaxis": "y"
        },
        {
         "hovertemplate": "variable=topic_18<br>timepoint=%{x}<br>value=%{y}<extra></extra>",
         "legendgroup": "topic_18",
         "line": {
          "color": "#B6E880",
          "dash": "solid"
         },
         "marker": {
          "symbol": "circle"
         },
         "mode": "lines",
         "name": "topic_18",
         "orientation": "v",
         "showlegend": true,
         "type": "scatter",
         "x": [
          0,
          1,
          2,
          3,
          4,
          5,
          6,
          7,
          8,
          9,
          10,
          11,
          12,
          13,
          14,
          15,
          16,
          17,
          18,
          19,
          20,
          21,
          22,
          23,
          24,
          25,
          26,
          27,
          28,
          29,
          30,
          31,
          32,
          33,
          34,
          35,
          36,
          37,
          38,
          39,
          40,
          41,
          42,
          43
         ],
         "xaxis": "x",
         "y": [
          0.0624142661690712,
          0.05410492792725563,
          0.04611723870038986,
          0.051176249980926514,
          0.06538503617048264,
          0.055183425545692444,
          0.05602006986737251,
          0.05152812972664833,
          0.05710233375430107,
          0.06429360061883926,
          0.053690675646066666,
          0.0473448671400547,
          0.043269671499729156,
          0.04706801474094391,
          0.04612071067094803,
          0.03489447012543678,
          0.047593265771865845,
          0.06518044322729111,
          0.05082524195313454,
          0.05225500464439392,
          0.03677651286125183,
          0.06121685728430748,
          0.052117228507995605,
          0.05206037312746048,
          0.04722486808896065,
          0.056693196296691895,
          0.05470781773328781,
          0.023912902921438217,
          0.001225471612997353,
          0.06020203232765198,
          0.04531549662351608,
          0.03461616858839989,
          0.009961692616343498,
          0.04677267745137215,
          0.005029306281358004,
          0.05030670762062073,
          0.0462740957736969,
          0.0299238208681345,
          0.007931244559586048,
          0.3944607079029083,
          0.016189085319638252,
          0.09667199850082397,
          0.044232580810785294,
          0.03317862004041672
         ],
         "yaxis": "y"
        }
       ],
       "layout": {
        "legend": {
         "title": {
          "text": "variable"
         },
         "tracegroupgap": 0
        },
        "template": {
         "data": {
          "bar": [
           {
            "error_x": {
             "color": "#2a3f5f"
            },
            "error_y": {
             "color": "#2a3f5f"
            },
            "marker": {
             "line": {
              "color": "#E5ECF6",
              "width": 0.5
             },
             "pattern": {
              "fillmode": "overlay",
              "size": 10,
              "solidity": 0.2
             }
            },
            "type": "bar"
           }
          ],
          "barpolar": [
           {
            "marker": {
             "line": {
              "color": "#E5ECF6",
              "width": 0.5
             },
             "pattern": {
              "fillmode": "overlay",
              "size": 10,
              "solidity": 0.2
             }
            },
            "type": "barpolar"
           }
          ],
          "carpet": [
           {
            "aaxis": {
             "endlinecolor": "#2a3f5f",
             "gridcolor": "white",
             "linecolor": "white",
             "minorgridcolor": "white",
             "startlinecolor": "#2a3f5f"
            },
            "baxis": {
             "endlinecolor": "#2a3f5f",
             "gridcolor": "white",
             "linecolor": "white",
             "minorgridcolor": "white",
             "startlinecolor": "#2a3f5f"
            },
            "type": "carpet"
           }
          ],
          "choropleth": [
           {
            "colorbar": {
             "outlinewidth": 0,
             "ticks": ""
            },
            "type": "choropleth"
           }
          ],
          "contour": [
           {
            "colorbar": {
             "outlinewidth": 0,
             "ticks": ""
            },
            "colorscale": [
             [
              0,
              "#0d0887"
             ],
             [
              0.1111111111111111,
              "#46039f"
             ],
             [
              0.2222222222222222,
              "#7201a8"
             ],
             [
              0.3333333333333333,
              "#9c179e"
             ],
             [
              0.4444444444444444,
              "#bd3786"
             ],
             [
              0.5555555555555556,
              "#d8576b"
             ],
             [
              0.6666666666666666,
              "#ed7953"
             ],
             [
              0.7777777777777778,
              "#fb9f3a"
             ],
             [
              0.8888888888888888,
              "#fdca26"
             ],
             [
              1,
              "#f0f921"
             ]
            ],
            "type": "contour"
           }
          ],
          "contourcarpet": [
           {
            "colorbar": {
             "outlinewidth": 0,
             "ticks": ""
            },
            "type": "contourcarpet"
           }
          ],
          "heatmap": [
           {
            "colorbar": {
             "outlinewidth": 0,
             "ticks": ""
            },
            "colorscale": [
             [
              0,
              "#0d0887"
             ],
             [
              0.1111111111111111,
              "#46039f"
             ],
             [
              0.2222222222222222,
              "#7201a8"
             ],
             [
              0.3333333333333333,
              "#9c179e"
             ],
             [
              0.4444444444444444,
              "#bd3786"
             ],
             [
              0.5555555555555556,
              "#d8576b"
             ],
             [
              0.6666666666666666,
              "#ed7953"
             ],
             [
              0.7777777777777778,
              "#fb9f3a"
             ],
             [
              0.8888888888888888,
              "#fdca26"
             ],
             [
              1,
              "#f0f921"
             ]
            ],
            "type": "heatmap"
           }
          ],
          "heatmapgl": [
           {
            "colorbar": {
             "outlinewidth": 0,
             "ticks": ""
            },
            "colorscale": [
             [
              0,
              "#0d0887"
             ],
             [
              0.1111111111111111,
              "#46039f"
             ],
             [
              0.2222222222222222,
              "#7201a8"
             ],
             [
              0.3333333333333333,
              "#9c179e"
             ],
             [
              0.4444444444444444,
              "#bd3786"
             ],
             [
              0.5555555555555556,
              "#d8576b"
             ],
             [
              0.6666666666666666,
              "#ed7953"
             ],
             [
              0.7777777777777778,
              "#fb9f3a"
             ],
             [
              0.8888888888888888,
              "#fdca26"
             ],
             [
              1,
              "#f0f921"
             ]
            ],
            "type": "heatmapgl"
           }
          ],
          "histogram": [
           {
            "marker": {
             "pattern": {
              "fillmode": "overlay",
              "size": 10,
              "solidity": 0.2
             }
            },
            "type": "histogram"
           }
          ],
          "histogram2d": [
           {
            "colorbar": {
             "outlinewidth": 0,
             "ticks": ""
            },
            "colorscale": [
             [
              0,
              "#0d0887"
             ],
             [
              0.1111111111111111,
              "#46039f"
             ],
             [
              0.2222222222222222,
              "#7201a8"
             ],
             [
              0.3333333333333333,
              "#9c179e"
             ],
             [
              0.4444444444444444,
              "#bd3786"
             ],
             [
              0.5555555555555556,
              "#d8576b"
             ],
             [
              0.6666666666666666,
              "#ed7953"
             ],
             [
              0.7777777777777778,
              "#fb9f3a"
             ],
             [
              0.8888888888888888,
              "#fdca26"
             ],
             [
              1,
              "#f0f921"
             ]
            ],
            "type": "histogram2d"
           }
          ],
          "histogram2dcontour": [
           {
            "colorbar": {
             "outlinewidth": 0,
             "ticks": ""
            },
            "colorscale": [
             [
              0,
              "#0d0887"
             ],
             [
              0.1111111111111111,
              "#46039f"
             ],
             [
              0.2222222222222222,
              "#7201a8"
             ],
             [
              0.3333333333333333,
              "#9c179e"
             ],
             [
              0.4444444444444444,
              "#bd3786"
             ],
             [
              0.5555555555555556,
              "#d8576b"
             ],
             [
              0.6666666666666666,
              "#ed7953"
             ],
             [
              0.7777777777777778,
              "#fb9f3a"
             ],
             [
              0.8888888888888888,
              "#fdca26"
             ],
             [
              1,
              "#f0f921"
             ]
            ],
            "type": "histogram2dcontour"
           }
          ],
          "mesh3d": [
           {
            "colorbar": {
             "outlinewidth": 0,
             "ticks": ""
            },
            "type": "mesh3d"
           }
          ],
          "parcoords": [
           {
            "line": {
             "colorbar": {
              "outlinewidth": 0,
              "ticks": ""
             }
            },
            "type": "parcoords"
           }
          ],
          "pie": [
           {
            "automargin": true,
            "type": "pie"
           }
          ],
          "scatter": [
           {
            "fillpattern": {
             "fillmode": "overlay",
             "size": 10,
             "solidity": 0.2
            },
            "type": "scatter"
           }
          ],
          "scatter3d": [
           {
            "line": {
             "colorbar": {
              "outlinewidth": 0,
              "ticks": ""
             }
            },
            "marker": {
             "colorbar": {
              "outlinewidth": 0,
              "ticks": ""
             }
            },
            "type": "scatter3d"
           }
          ],
          "scattercarpet": [
           {
            "marker": {
             "colorbar": {
              "outlinewidth": 0,
              "ticks": ""
             }
            },
            "type": "scattercarpet"
           }
          ],
          "scattergeo": [
           {
            "marker": {
             "colorbar": {
              "outlinewidth": 0,
              "ticks": ""
             }
            },
            "type": "scattergeo"
           }
          ],
          "scattergl": [
           {
            "marker": {
             "colorbar": {
              "outlinewidth": 0,
              "ticks": ""
             }
            },
            "type": "scattergl"
           }
          ],
          "scattermapbox": [
           {
            "marker": {
             "colorbar": {
              "outlinewidth": 0,
              "ticks": ""
             }
            },
            "type": "scattermapbox"
           }
          ],
          "scatterpolar": [
           {
            "marker": {
             "colorbar": {
              "outlinewidth": 0,
              "ticks": ""
             }
            },
            "type": "scatterpolar"
           }
          ],
          "scatterpolargl": [
           {
            "marker": {
             "colorbar": {
              "outlinewidth": 0,
              "ticks": ""
             }
            },
            "type": "scatterpolargl"
           }
          ],
          "scatterternary": [
           {
            "marker": {
             "colorbar": {
              "outlinewidth": 0,
              "ticks": ""
             }
            },
            "type": "scatterternary"
           }
          ],
          "surface": [
           {
            "colorbar": {
             "outlinewidth": 0,
             "ticks": ""
            },
            "colorscale": [
             [
              0,
              "#0d0887"
             ],
             [
              0.1111111111111111,
              "#46039f"
             ],
             [
              0.2222222222222222,
              "#7201a8"
             ],
             [
              0.3333333333333333,
              "#9c179e"
             ],
             [
              0.4444444444444444,
              "#bd3786"
             ],
             [
              0.5555555555555556,
              "#d8576b"
             ],
             [
              0.6666666666666666,
              "#ed7953"
             ],
             [
              0.7777777777777778,
              "#fb9f3a"
             ],
             [
              0.8888888888888888,
              "#fdca26"
             ],
             [
              1,
              "#f0f921"
             ]
            ],
            "type": "surface"
           }
          ],
          "table": [
           {
            "cells": {
             "fill": {
              "color": "#EBF0F8"
             },
             "line": {
              "color": "white"
             }
            },
            "header": {
             "fill": {
              "color": "#C8D4E3"
             },
             "line": {
              "color": "white"
             }
            },
            "type": "table"
           }
          ]
         },
         "layout": {
          "annotationdefaults": {
           "arrowcolor": "#2a3f5f",
           "arrowhead": 0,
           "arrowwidth": 1
          },
          "autotypenumbers": "strict",
          "coloraxis": {
           "colorbar": {
            "outlinewidth": 0,
            "ticks": ""
           }
          },
          "colorscale": {
           "diverging": [
            [
             0,
             "#8e0152"
            ],
            [
             0.1,
             "#c51b7d"
            ],
            [
             0.2,
             "#de77ae"
            ],
            [
             0.3,
             "#f1b6da"
            ],
            [
             0.4,
             "#fde0ef"
            ],
            [
             0.5,
             "#f7f7f7"
            ],
            [
             0.6,
             "#e6f5d0"
            ],
            [
             0.7,
             "#b8e186"
            ],
            [
             0.8,
             "#7fbc41"
            ],
            [
             0.9,
             "#4d9221"
            ],
            [
             1,
             "#276419"
            ]
           ],
           "sequential": [
            [
             0,
             "#0d0887"
            ],
            [
             0.1111111111111111,
             "#46039f"
            ],
            [
             0.2222222222222222,
             "#7201a8"
            ],
            [
             0.3333333333333333,
             "#9c179e"
            ],
            [
             0.4444444444444444,
             "#bd3786"
            ],
            [
             0.5555555555555556,
             "#d8576b"
            ],
            [
             0.6666666666666666,
             "#ed7953"
            ],
            [
             0.7777777777777778,
             "#fb9f3a"
            ],
            [
             0.8888888888888888,
             "#fdca26"
            ],
            [
             1,
             "#f0f921"
            ]
           ],
           "sequentialminus": [
            [
             0,
             "#0d0887"
            ],
            [
             0.1111111111111111,
             "#46039f"
            ],
            [
             0.2222222222222222,
             "#7201a8"
            ],
            [
             0.3333333333333333,
             "#9c179e"
            ],
            [
             0.4444444444444444,
             "#bd3786"
            ],
            [
             0.5555555555555556,
             "#d8576b"
            ],
            [
             0.6666666666666666,
             "#ed7953"
            ],
            [
             0.7777777777777778,
             "#fb9f3a"
            ],
            [
             0.8888888888888888,
             "#fdca26"
            ],
            [
             1,
             "#f0f921"
            ]
           ]
          },
          "colorway": [
           "#636efa",
           "#EF553B",
           "#00cc96",
           "#ab63fa",
           "#FFA15A",
           "#19d3f3",
           "#FF6692",
           "#B6E880",
           "#FF97FF",
           "#FECB52"
          ],
          "font": {
           "color": "#2a3f5f"
          },
          "geo": {
           "bgcolor": "white",
           "lakecolor": "white",
           "landcolor": "#E5ECF6",
           "showlakes": true,
           "showland": true,
           "subunitcolor": "white"
          },
          "hoverlabel": {
           "align": "left"
          },
          "hovermode": "closest",
          "mapbox": {
           "style": "light"
          },
          "paper_bgcolor": "white",
          "plot_bgcolor": "#E5ECF6",
          "polar": {
           "angularaxis": {
            "gridcolor": "white",
            "linecolor": "white",
            "ticks": ""
           },
           "bgcolor": "#E5ECF6",
           "radialaxis": {
            "gridcolor": "white",
            "linecolor": "white",
            "ticks": ""
           }
          },
          "scene": {
           "xaxis": {
            "backgroundcolor": "#E5ECF6",
            "gridcolor": "white",
            "gridwidth": 2,
            "linecolor": "white",
            "showbackground": true,
            "ticks": "",
            "zerolinecolor": "white"
           },
           "yaxis": {
            "backgroundcolor": "#E5ECF6",
            "gridcolor": "white",
            "gridwidth": 2,
            "linecolor": "white",
            "showbackground": true,
            "ticks": "",
            "zerolinecolor": "white"
           },
           "zaxis": {
            "backgroundcolor": "#E5ECF6",
            "gridcolor": "white",
            "gridwidth": 2,
            "linecolor": "white",
            "showbackground": true,
            "ticks": "",
            "zerolinecolor": "white"
           }
          },
          "shapedefaults": {
           "line": {
            "color": "#2a3f5f"
           }
          },
          "ternary": {
           "aaxis": {
            "gridcolor": "white",
            "linecolor": "white",
            "ticks": ""
           },
           "baxis": {
            "gridcolor": "white",
            "linecolor": "white",
            "ticks": ""
           },
           "bgcolor": "#E5ECF6",
           "caxis": {
            "gridcolor": "white",
            "linecolor": "white",
            "ticks": ""
           }
          },
          "title": {
           "x": 0.05
          },
          "xaxis": {
           "automargin": true,
           "gridcolor": "white",
           "linecolor": "white",
           "ticks": "",
           "title": {
            "standoff": 15
           },
           "zerolinecolor": "white",
           "zerolinewidth": 2
          },
          "yaxis": {
           "automargin": true,
           "gridcolor": "white",
           "linecolor": "white",
           "ticks": "",
           "title": {
            "standoff": 15
           },
           "zerolinecolor": "white",
           "zerolinewidth": 2
          }
         }
        },
        "title": {
         "text": "All Time Period Common Topics"
        },
        "xaxis": {
         "anchor": "y",
         "domain": [
          0,
          1
         ],
         "dtick": "M1",
         "tickformat": "%b %d",
         "ticklabelmode": "period",
         "title": {
          "text": "timepoint"
         }
        },
        "yaxis": {
         "anchor": "x",
         "domain": [
          0,
          1
         ],
         "title": {
          "text": "value"
         }
        }
       }
      }
     },
     "metadata": {},
     "output_type": "display_data"
    }
   ],
   "source": [
    "td = pd.DataFrame()\n",
    "for timepoint in range(best_mdl.num_timepoints):\n",
    "    td_tmp = pd.DataFrame(\n",
    "        np.stack([doc.get_topic_dist() for doc in best_mdl.docs if doc.timepoint == timepoint]),\n",
    "        columns=[\"topic_{}\".format(i + 1) for i in range(best_mdl.k)],\n",
    "    )\n",
    "    td_tmp[\"timepoint\"] = timepoint\n",
    "    td = pd.concat([td, td_tmp], ignore_index=True)\n",
    "    del td_tmp\n",
    "\n",
    "import plotly.express as px\n",
    "fig = px.line(td, x=\"timepoint\", y=td.columns,\n",
    "            #   hover_data={\"timepoint\": \"|%B %d, %Y\"},\n",
    "              title='All Time Period Common Topics')\n",
    "fig.update_xaxes(\n",
    "    dtick=\"M1\",\n",
    "    tickformat=\"%b %d\",\n",
    "    ticklabelmode=\"period\")\n",
    "fig.show()\n",
    "\n",
    "# save the figure to html\n",
    "fig.write_html('./main_df_output/MD_DTM_topic_plot.html')"
   ]
  },
  {
   "cell_type": "code",
   "execution_count": 92,
   "metadata": {},
   "outputs": [
    {
     "name": "stderr",
     "output_type": "stream",
     "text": [
      "/opt/anaconda3/lib/python3.9/site-packages/plotly/graph_objs/_deprecations.py:378: DeprecationWarning:\n",
      "\n",
      "plotly.graph_objs.Line is deprecated.\n",
      "Please replace it with one of the following more specific types\n",
      "  - plotly.graph_objs.scatter.Line\n",
      "  - plotly.graph_objs.layout.shape.Line\n",
      "  - etc.\n",
      "\n",
      "\n"
     ]
    },
    {
     "data": {
      "application/vnd.plotly.v1+json": {
       "config": {
        "plotlyServerURL": "https://plot.ly"
       },
       "data": [
        {
         "name": "Topic 1",
         "type": "scatter",
         "x": [
          "2011Q1",
          "2011Q2",
          "2011Q3",
          "2011Q4",
          "2012Q1",
          "2012Q2",
          "2012Q3",
          "2012Q4",
          "2013Q1",
          "2013Q2",
          "2013Q3",
          "2013Q4",
          "2014Q1",
          "2014Q2",
          "2014Q3",
          "2014Q4",
          "2015Q1",
          "2015Q2",
          "2015Q3",
          "2015Q4",
          "2016Q1",
          "2016Q2",
          "2016Q3",
          "2016Q4",
          "2017Q1",
          "2017Q2",
          "2017Q3",
          "2017Q4",
          "2018Q1",
          "2018Q2",
          "2018Q3",
          "2018Q4",
          "2019Q1",
          "2019Q2",
          "2019Q3",
          "2019Q4",
          "2020Q1",
          "2020Q2",
          "2020Q3",
          "2020Q4",
          "2021Q1",
          "2021Q2",
          "2021Q3",
          "2021Q4"
         ],
         "y": [
          0.04837024211883545,
          0.055926643311977386,
          0.05033436045050621,
          0.06287720054388046,
          0.05554036423563957,
          0.052091918885707855,
          0.05565653741359711,
          0.042878326028585434,
          0.04221825674176216,
          0.04891989752650261,
          0.060511957854032516,
          0.0872068703174591,
          0.05591093376278877,
          0.04561473801732063,
          0.04774429649114609,
          0.06157584488391876,
          0.07708702981472015,
          0.06147577241063118,
          0.05082524195313454,
          0.04784064367413521,
          0.03385701775550842,
          0.04864727705717087,
          0.03664474934339523,
          0.0473150908946991,
          0.055533040314912796,
          0.03283793479204178,
          0.043209612369537354,
          0.014481088146567345,
          0.0009210066054947674,
          0.040838468819856644,
          0.030019942671060562,
          0.15673089027404785,
          0.011696127243340015,
          0.06125366687774658,
          0.009076735936105251,
          0.05089426413178444,
          0.04423807933926582,
          0.03550773859024048,
          0.005904677789658308,
          0.035058796405792236,
          0.006291827652603388,
          0.060883574187755585,
          0.06656231731176376,
          0.045788828283548355
         ]
        },
        {
         "name": "Topic 2",
         "type": "scatter",
         "x": [
          "2011Q1",
          "2011Q2",
          "2011Q3",
          "2011Q4",
          "2012Q1",
          "2012Q2",
          "2012Q3",
          "2012Q4",
          "2013Q1",
          "2013Q2",
          "2013Q3",
          "2013Q4",
          "2014Q1",
          "2014Q2",
          "2014Q3",
          "2014Q4",
          "2015Q1",
          "2015Q2",
          "2015Q3",
          "2015Q4",
          "2016Q1",
          "2016Q2",
          "2016Q3",
          "2016Q4",
          "2017Q1",
          "2017Q2",
          "2017Q3",
          "2017Q4",
          "2018Q1",
          "2018Q2",
          "2018Q3",
          "2018Q4",
          "2019Q1",
          "2019Q2",
          "2019Q3",
          "2019Q4",
          "2020Q1",
          "2020Q2",
          "2020Q3",
          "2020Q4",
          "2021Q1",
          "2021Q2",
          "2021Q3",
          "2021Q4"
         ],
         "y": [
          0.05294271558523178,
          0.04924702271819115,
          0.04912946745753288,
          0.053023770451545715,
          0.05389958620071411,
          0.06909521669149399,
          0.05093063786625862,
          0.058530356734991074,
          0.04729635268449783,
          0.0575922429561615,
          0.04668988659977913,
          0.05270642414689064,
          0.05910932645201683,
          0.05306278541684151,
          0.07361345738172531,
          0.059787146747112274,
          0.06925274431705475,
          0.04665708169341087,
          0.04683013632893562,
          0.061267659068107605,
          0.03933107107877731,
          0.0564284473657608,
          0.05302737280726433,
          0.05971406027674675,
          0.04499584808945656,
          0.04877662658691406,
          0.07566248625516891,
          0.017570821568369865,
          0.0005404253606684506,
          0.044454555958509445,
          0.03166566789150238,
          0.039862144738435745,
          0.011545307002961636,
          0.03754911571741104,
          0.007352830842137337,
          0.05359703302383423,
          0.058263957500457764,
          0.04348476603627205,
          0.008115477859973907,
          0.030081504955887794,
          0.012968549504876137,
          0.04985511675477028,
          0.03996366262435913,
          0.06581680476665497
         ]
        },
        {
         "name": "Topic 3",
         "type": "scatter",
         "x": [
          "2011Q1",
          "2011Q2",
          "2011Q3",
          "2011Q4",
          "2012Q1",
          "2012Q2",
          "2012Q3",
          "2012Q4",
          "2013Q1",
          "2013Q2",
          "2013Q3",
          "2013Q4",
          "2014Q1",
          "2014Q2",
          "2014Q3",
          "2014Q4",
          "2015Q1",
          "2015Q2",
          "2015Q3",
          "2015Q4",
          "2016Q1",
          "2016Q2",
          "2016Q3",
          "2016Q4",
          "2017Q1",
          "2017Q2",
          "2017Q3",
          "2017Q4",
          "2018Q1",
          "2018Q2",
          "2018Q3",
          "2018Q4",
          "2019Q1",
          "2019Q2",
          "2019Q3",
          "2019Q4",
          "2020Q1",
          "2020Q2",
          "2020Q3",
          "2020Q4",
          "2021Q1",
          "2021Q2",
          "2021Q3",
          "2021Q4"
         ],
         "y": [
          0.054902344942092896,
          0.04256740212440491,
          0.05123802646994591,
          0.04932873323559761,
          0.054173048585653305,
          0.05106141418218613,
          0.06910716742277145,
          0.07129912078380585,
          0.07461301982402802,
          0.06626458466053009,
          0.06679471582174301,
          0.06576064229011536,
          0.05804319679737091,
          0.05451606214046478,
          0.047527819871902466,
          0.06604757905006409,
          0.07351551949977875,
          0.09503574669361115,
          0.07816674560308456,
          0.04802457615733147,
          0.03805379197001457,
          0.04759981110692024,
          0.0684998482465744,
          0.04455976188182831,
          0.051176317036151886,
          0.06080980971455574,
          0.043746910989284515,
          0.014155853539705276,
          0.0008448903681710362,
          0.04527109116315842,
          0.03660283982753754,
          0.08489012718200684,
          0.0061157699674367905,
          0.04714161902666092,
          0.0057038781233131886,
          0.06746339052915573,
          0.05939507484436035,
          0.03919711336493492,
          0.009497227147221565,
          0.04179887846112251,
          0.006920224986970425,
          0.04671957716345787,
          0.0476258248090744,
          0.03943074122071266
         ]
        },
        {
         "name": "Topic 4",
         "type": "scatter",
         "x": [
          "2011Q1",
          "2011Q2",
          "2011Q3",
          "2011Q4",
          "2012Q1",
          "2012Q2",
          "2012Q3",
          "2012Q4",
          "2013Q1",
          "2013Q2",
          "2013Q3",
          "2013Q4",
          "2014Q1",
          "2014Q2",
          "2014Q3",
          "2014Q4",
          "2015Q1",
          "2015Q2",
          "2015Q3",
          "2015Q4",
          "2016Q1",
          "2016Q2",
          "2016Q3",
          "2016Q4",
          "2017Q1",
          "2017Q2",
          "2017Q3",
          "2017Q4",
          "2018Q1",
          "2018Q2",
          "2018Q3",
          "2018Q4",
          "2019Q1",
          "2019Q2",
          "2019Q3",
          "2019Q4",
          "2020Q1",
          "2020Q2",
          "2020Q3",
          "2020Q4",
          "2021Q1",
          "2021Q2",
          "2021Q3",
          "2021Q4"
         ],
         "y": [
          0.05261610820889473,
          0.04985425993800163,
          0.06358817219734192,
          0.065340556204319,
          0.054173048585653305,
          0.05054616555571556,
          0.05965537577867508,
          0.06594447791576385,
          0.09299922734498978,
          0.05365027114748955,
          0.05961441993713379,
          0.05107464641332626,
          0.0668768510222435,
          0.08103837072849274,
          0.06646966934204102,
          0.04622287303209305,
          0.07662618905305862,
          0.056463565677404404,
          0.05519488826394081,
          0.05372646078467369,
          0.03066382184624672,
          0.05164003372192383,
          0.05154838785529137,
          0.06889848411083221,
          0.08886704593896866,
          0.08054845780134201,
          0.07168647646903992,
          0.02521384321153164,
          0.0008448903681710362,
          0.03360629081726074,
          0.08907239139080048,
          0.05866023525595665,
          0.007623974233865738,
          0.05424375832080841,
          0.0057038781233131886,
          0.04031822457909584,
          0.039600491523742676,
          0.028428127989172935,
          0.007010077591985464,
          0.03412555530667305,
          0.007391523104161024,
          0.050179485231637955,
          0.047844745218753815,
          0.054054342210292816
         ]
        },
        {
         "name": "Topic 5",
         "type": "scatter",
         "x": [
          "2011Q1",
          "2011Q2",
          "2011Q3",
          "2011Q4",
          "2012Q1",
          "2012Q2",
          "2012Q3",
          "2012Q4",
          "2013Q1",
          "2013Q2",
          "2013Q3",
          "2013Q4",
          "2014Q1",
          "2014Q2",
          "2014Q3",
          "2014Q4",
          "2015Q1",
          "2015Q2",
          "2015Q3",
          "2015Q4",
          "2016Q1",
          "2016Q2",
          "2016Q3",
          "2016Q4",
          "2017Q1",
          "2017Q2",
          "2017Q3",
          "2017Q4",
          "2018Q1",
          "2018Q2",
          "2018Q3",
          "2018Q4",
          "2019Q1",
          "2019Q2",
          "2019Q3",
          "2019Q4",
          "2020Q1",
          "2020Q2",
          "2020Q3",
          "2020Q4",
          "2021Q1",
          "2021Q2",
          "2021Q3",
          "2021Q4"
         ],
         "y": [
          0.04673721641302109,
          0.06442797929048538,
          0.0446111224591732,
          0.053023770451545715,
          0.06456464529037476,
          0.06136644631624222,
          0.06329067796468735,
          0.05399950593709946,
          0.058853402733802795,
          0.056409649550914764,
          0.062127526849508286,
          0.05154086649417877,
          0.049057237803936005,
          0.046704698354005814,
          0.05358921363949776,
          0.047564394772052765,
          0.03134864941239357,
          0.060386162251234055,
          0.056318510323762894,
          0.04728884994983673,
          0.03850996494293213,
          0.042212847620248795,
          0.04984186217188835,
          0.06216324120759964,
          0.03557316213846207,
          0.048248857259750366,
          0.048367686569690704,
          0.015863336622714996,
          0.0006926578935235739,
          0.044454555958509445,
          0.032343316823244095,
          0.04365090653300285,
          0.01214858889579773,
          0.04234536737203598,
          0.005404068157076836,
          0.04396108165383339,
          0.06041308492422104,
          0.06243019923567772,
          0.005904677789658308,
          0.03682158514857292,
          0.006920224986970425,
          0.04520586505532265,
          0.05069069191813469,
          0.079062819480896
         ]
        },
        {
         "name": "Topic 6",
         "type": "scatter",
         "x": [
          "2011Q1",
          "2011Q2",
          "2011Q3",
          "2011Q4",
          "2012Q1",
          "2012Q2",
          "2012Q3",
          "2012Q4",
          "2013Q1",
          "2013Q2",
          "2013Q3",
          "2013Q4",
          "2014Q1",
          "2014Q2",
          "2014Q3",
          "2014Q4",
          "2015Q1",
          "2015Q2",
          "2015Q3",
          "2015Q4",
          "2016Q1",
          "2016Q2",
          "2016Q3",
          "2016Q4",
          "2017Q1",
          "2017Q2",
          "2017Q3",
          "2017Q4",
          "2018Q1",
          "2018Q2",
          "2018Q3",
          "2018Q4",
          "2019Q1",
          "2019Q2",
          "2019Q3",
          "2019Q4",
          "2020Q1",
          "2020Q2",
          "2020Q3",
          "2020Q4",
          "2021Q1",
          "2021Q2",
          "2021Q3",
          "2021Q4"
         ],
         "y": [
          0.06731334328651428,
          0.053497690707445145,
          0.0672028437256813,
          0.06595639884471893,
          0.0544465109705925,
          0.060851193964481354,
          0.06038243696093559,
          0.07171101868152618,
          0.04659592732787132,
          0.049708291888237,
          0.05997343733906746,
          0.05224020034074783,
          0.054235588759183884,
          0.0652339830994606,
          0.058892928063869476,
          0.0512908436357975,
          0.05104956403374672,
          0.04905422404408455,
          0.06618142873048782,
          0.05409432202577591,
          0.04234180226922035,
          0.06839947402477264,
          0.03141140937805176,
          0.05175422877073288,
          0.04347606003284454,
          0.046032216399908066,
          0.035902343690395355,
          0.013830618001520634,
          0.0006165415979921818,
          0.06463465839624405,
          0.05257603898644447,
          0.0342518649995327,
          0.00928299967199564,
          0.09242930263280869,
          0.006378449499607086,
          0.05359703302383423,
          0.05430504307150841,
          0.03670429438352585,
          0.009036644361913204,
          0.04511707276105881,
          0.008726866915822029,
          0.033853042870759964,
          0.04171501100063324,
          0.045153018087148666
         ]
        },
        {
         "name": "Topic 7",
         "type": "scatter",
         "x": [
          "2011Q1",
          "2011Q2",
          "2011Q3",
          "2011Q4",
          "2012Q1",
          "2012Q2",
          "2012Q3",
          "2012Q4",
          "2013Q1",
          "2013Q2",
          "2013Q3",
          "2013Q4",
          "2014Q1",
          "2014Q2",
          "2014Q3",
          "2014Q4",
          "2015Q1",
          "2015Q2",
          "2015Q3",
          "2015Q4",
          "2016Q1",
          "2016Q2",
          "2016Q3",
          "2016Q4",
          "2017Q1",
          "2017Q2",
          "2017Q3",
          "2017Q4",
          "2018Q1",
          "2018Q2",
          "2018Q3",
          "2018Q4",
          "2019Q1",
          "2019Q2",
          "2019Q3",
          "2019Q4",
          "2020Q1",
          "2020Q2",
          "2020Q3",
          "2020Q4",
          "2021Q1",
          "2021Q2",
          "2021Q3",
          "2021Q4"
         ],
         "y": [
          0.0624142661690712,
          0.055926643311977386,
          0.059973493218421936,
          0.046865373849868774,
          0.051711879670619965,
          0.06239694729447365,
          0.054565947502851486,
          0.04370211437344551,
          0.055876586586236954,
          0.054832860827445984,
          0.04668988659977913,
          0.030560867860913277,
          0.048600323498249054,
          0.04888461157679558,
          0.05272329971194267,
          0.04830968379974365,
          0.04874536395072937,
          0.055591881275177,
          0.06256086379289627,
          0.08241981267929077,
          0.06597146391868591,
          0.05283713713288307,
          0.03573460131883621,
          0.037671443074941635,
          0.06546232104301453,
          0.06344866752624512,
          0.057609230279922485,
          0.01708296872675419,
          0.0006926578935235739,
          0.05261991545557976,
          0.051027122884988785,
          0.04263085499405861,
          0.010489563457667828,
          0.06143813580274582,
          0.009076735936105251,
          0.05136431008577347,
          0.05690661817789078,
          0.034012045711278915,
          0.009773577563464642,
          0.031636908650398254,
          0.006213278044015169,
          0.06650592386722565,
          0.050800152122974396,
          0.04790819063782692
         ]
        },
        {
         "name": "Topic 8",
         "type": "scatter",
         "x": [
          "2011Q1",
          "2011Q2",
          "2011Q3",
          "2011Q4",
          "2012Q1",
          "2012Q2",
          "2012Q3",
          "2012Q4",
          "2013Q1",
          "2013Q2",
          "2013Q3",
          "2013Q4",
          "2014Q1",
          "2014Q2",
          "2014Q3",
          "2014Q4",
          "2015Q1",
          "2015Q2",
          "2015Q3",
          "2015Q4",
          "2016Q1",
          "2016Q2",
          "2016Q3",
          "2016Q4",
          "2017Q1",
          "2017Q2",
          "2017Q3",
          "2017Q4",
          "2018Q1",
          "2018Q2",
          "2018Q3",
          "2018Q4",
          "2019Q1",
          "2019Q2",
          "2019Q3",
          "2019Q4",
          "2020Q1",
          "2020Q2",
          "2020Q3",
          "2020Q4",
          "2021Q1",
          "2021Q2",
          "2021Q3",
          "2021Q4"
         ],
         "y": [
          0.06535371392965317,
          0.06260626763105392,
          0.059973493218421936,
          0.0437861792743206,
          0.059095386415719986,
          0.05363767221570015,
          0.04584120959043503,
          0.06141362711787224,
          0.03871611878275871,
          0.05601545423269272,
          0.054947227239608765,
          0.08114597946405411,
          0.06809528172016144,
          0.07976675033569336,
          0.10576048493385315,
          0.09064213931560516,
          0.04678679257631302,
          0.07128226011991501,
          0.06393417716026306,
          0.05722116306424141,
          0.07098934054374695,
          0.04834799841046333,
          0.09261871874332428,
          0.05190730094909668,
          0.10264645516872406,
          0.0512043759226799,
          0.052021320909261703,
          0.027083944529294968,
          0.0007687741308473051,
          0.09391330927610397,
          0.05635152384638786,
          0.03796776384115219,
          0.0055878981947898865,
          0.07020051777362823,
          0.005479020997881889,
          0.0775693878531456,
          0.06674735248088837,
          0.10221561789512634,
          0.006641610991209745,
          0.03142952173948288,
          0.005113582592457533,
          0.047368310391902924,
          0.04642177000641823,
          0.07090327143669128
         ]
        },
        {
         "name": "Topic 9",
         "type": "scatter",
         "x": [
          "2011Q1",
          "2011Q2",
          "2011Q3",
          "2011Q4",
          "2012Q1",
          "2012Q2",
          "2012Q3",
          "2012Q4",
          "2013Q1",
          "2013Q2",
          "2013Q3",
          "2013Q4",
          "2014Q1",
          "2014Q2",
          "2014Q3",
          "2014Q4",
          "2015Q1",
          "2015Q2",
          "2015Q3",
          "2015Q4",
          "2016Q1",
          "2016Q2",
          "2016Q3",
          "2016Q4",
          "2017Q1",
          "2017Q2",
          "2017Q3",
          "2017Q4",
          "2018Q1",
          "2018Q2",
          "2018Q3",
          "2018Q4",
          "2019Q1",
          "2019Q2",
          "2019Q3",
          "2019Q4",
          "2020Q1",
          "2020Q2",
          "2020Q3",
          "2020Q4",
          "2021Q1",
          "2021Q2",
          "2021Q3",
          "2021Q4"
         ],
         "y": [
          0.06731334328651428,
          0.058962833136320114,
          0.04400867596268654,
          0.04317034035921097,
          0.06046270206570625,
          0.05827493593096733,
          0.05602006986737251,
          0.050704341381788254,
          0.046771034598350525,
          0.04576632007956505,
          0.045253824442625046,
          0.04594620317220688,
          0.06855219602584839,
          0.058512572199106216,
          0.0519656240940094,
          0.07186084240674973,
          0.04793889448046684,
          0.053194738924503326,
          0.07117530703544617,
          0.053174663335084915,
          0.04644734039902687,
          0.049694739282131195,
          0.06417665630578995,
          0.0722661092877388,
          0.07093355059623718,
          0.08477062731981277,
          0.04159771651029587,
          0.014887631870806217,
          0.0007687741308473051,
          0.05355310067534447,
          0.038248565047979355,
          0.0797170102596283,
          0.010489563457667828,
          0.0690014585852623,
          0.868256151676178,
          0.08556018024682999,
          0.043220072984695435,
          0.04896897077560425,
          0.016682326793670654,
          0.030081504955887794,
          0.005977629218250513,
          0.034718018025159836,
          0.0606514997780323,
          0.038688965141773224
         ]
        },
        {
         "name": "Topic 10",
         "type": "scatter",
         "x": [
          "2011Q1",
          "2011Q2",
          "2011Q3",
          "2011Q4",
          "2012Q1",
          "2012Q2",
          "2012Q3",
          "2012Q4",
          "2013Q1",
          "2013Q2",
          "2013Q3",
          "2013Q4",
          "2014Q1",
          "2014Q2",
          "2014Q3",
          "2014Q4",
          "2015Q1",
          "2015Q2",
          "2015Q3",
          "2015Q4",
          "2016Q1",
          "2016Q2",
          "2016Q3",
          "2016Q4",
          "2017Q1",
          "2017Q2",
          "2017Q3",
          "2017Q4",
          "2018Q1",
          "2018Q2",
          "2018Q3",
          "2018Q4",
          "2019Q1",
          "2019Q2",
          "2019Q3",
          "2019Q4",
          "2020Q1",
          "2020Q2",
          "2020Q3",
          "2020Q4",
          "2021Q1",
          "2021Q2",
          "2021Q3",
          "2021Q4"
         ],
         "y": [
          0.05163629353046417,
          0.05653388053178787,
          0.050936803221702576,
          0.06226135790348053,
          0.04760993272066116,
          0.05157666653394699,
          0.05383888632059097,
          0.04988054931163788,
          0.04904742166399956,
          0.06074582412838936,
          0.05315215513110161,
          0.05224020034074783,
          0.04266045615077019,
          0.05506104230880737,
          0.04861021041870117,
          0.039366208016872406,
          0.0360722616314888,
          0.037286438047885895,
          0.03859023004770279,
          0.04269055649638176,
          0.05411101132631302,
          0.04460705444216728,
          0.045063599944114685,
          0.05741795524954796,
          0.06100427359342575,
          0.04466000944375992,
          0.04965720325708389,
          0.016188571229577065,
          0.0008448903681710362,
          0.05157008394598961,
          0.038054950535297394,
          0.09217620640993118,
          0.8396250605583191,
          0.04086959734559059,
          0.006528354249894619,
          0.0682859718799591,
          0.04344629496335983,
          0.031618937849998474,
          0.006181027740240097,
          0.037028972059488297,
          0.009276715107262135,
          0.044340889900922775,
          0.0606514997780323,
          0.054160311818122864
         ]
        },
        {
         "name": "Topic 11",
         "type": "scatter",
         "x": [
          "2011Q1",
          "2011Q2",
          "2011Q3",
          "2011Q4",
          "2012Q1",
          "2012Q2",
          "2012Q3",
          "2012Q4",
          "2013Q1",
          "2013Q2",
          "2013Q3",
          "2013Q4",
          "2014Q1",
          "2014Q2",
          "2014Q3",
          "2014Q4",
          "2015Q1",
          "2015Q2",
          "2015Q3",
          "2015Q4",
          "2016Q1",
          "2016Q2",
          "2016Q3",
          "2016Q4",
          "2017Q1",
          "2017Q2",
          "2017Q3",
          "2017Q4",
          "2018Q1",
          "2018Q2",
          "2018Q3",
          "2018Q4",
          "2019Q1",
          "2019Q2",
          "2019Q3",
          "2019Q4",
          "2020Q1",
          "2020Q2",
          "2020Q3",
          "2020Q4",
          "2021Q1",
          "2021Q2",
          "2021Q3",
          "2021Q4"
         ],
         "y": [
          0.05163629353046417,
          0.04742530733346939,
          0.06358817219734192,
          0.05795048549771309,
          0.0544465109705925,
          0.06033594161272049,
          0.05565653741359711,
          0.06512068957090378,
          0.049572743475437164,
          0.039853356778621674,
          0.048125945031642914,
          0.04594620317220688,
          0.0400712788105011,
          0.03961997106671333,
          0.045579515397548676,
          0.044136062264442444,
          0.04310007393360138,
          0.0451316274702549,
          0.046580441296100616,
          0.048392441123723984,
          0.055753227323293686,
          0.055530618876218796,
          0.038123734295368195,
          0.04119214043021202,
          0.04671827331185341,
          0.03969896212220192,
          0.05546003580093384,
          0.03513351082801819,
          0.0006165415979921818,
          0.04515444487333298,
          0.08403841406106949,
          0.04627389833331108,
          0.008453487418591976,
          0.06060801446437836,
          0.007352830842137337,
          0.056534819304943085,
          0.06459822505712509,
          0.03471003472805023,
          0.005628327839076519,
          0.019089985638856888,
          0.007391523104161024,
          0.05363939329981804,
          0.1031217873096466,
          0.1328946202993393
         ]
        },
        {
         "name": "Topic 12",
         "type": "scatter",
         "x": [
          "2011Q1",
          "2011Q2",
          "2011Q3",
          "2011Q4",
          "2012Q1",
          "2012Q2",
          "2012Q3",
          "2012Q4",
          "2013Q1",
          "2013Q2",
          "2013Q3",
          "2013Q4",
          "2014Q1",
          "2014Q2",
          "2014Q3",
          "2014Q4",
          "2015Q1",
          "2015Q2",
          "2015Q3",
          "2015Q4",
          "2016Q1",
          "2016Q2",
          "2016Q3",
          "2016Q4",
          "2017Q1",
          "2017Q2",
          "2017Q3",
          "2017Q4",
          "2018Q1",
          "2018Q2",
          "2018Q3",
          "2018Q4",
          "2019Q1",
          "2019Q2",
          "2019Q3",
          "2019Q4",
          "2020Q1",
          "2020Q2",
          "2020Q3",
          "2020Q4",
          "2021Q1",
          "2021Q2",
          "2021Q3",
          "2021Q4"
         ],
         "y": [
          0.05686197802424431,
          0.0510687381029129,
          0.045213568955659866,
          0.06226135790348053,
          0.04350798577070236,
          0.04487839713692665,
          0.05202123150229454,
          0.04782107099890709,
          0.04659592732787132,
          0.06862977147102356,
          0.05674230307340622,
          0.06342953443527222,
          0.049971066415309906,
          0.0476129949092865,
          0.037786293774843216,
          0.052185192704200745,
          0.08204106241464615,
          0.04578539356589317,
          0.05020100623369217,
          0.06347484141588211,
          0.04881942644715309,
          0.054782427847385406,
          0.03141140937805176,
          0.047927383333444595,
          0.033445462584495544,
          0.056798748672008514,
          0.05288100242614746,
          0.019684847444295883,
          0.0006165415979921818,
          0.037105731666088104,
          0.04289531335234642,
          0.029151609167456627,
          0.006945282220840454,
          0.055442821234464645,
          0.006378449499607086,
          0.045958779752254486,
          0.051137909293174744,
          0.036305442452430725,
          0.005996794439852238,
          0.02790393866598606,
          0.008255569264292717,
          0.041421592235565186,
          0.060870420187711716,
          0.04547092318534851
         ]
        },
        {
         "name": "Topic 13",
         "type": "scatter",
         "x": [
          "2011Q1",
          "2011Q2",
          "2011Q3",
          "2011Q4",
          "2012Q1",
          "2012Q2",
          "2012Q3",
          "2012Q4",
          "2013Q1",
          "2013Q2",
          "2013Q3",
          "2013Q4",
          "2014Q1",
          "2014Q2",
          "2014Q3",
          "2014Q4",
          "2015Q1",
          "2015Q2",
          "2015Q3",
          "2015Q4",
          "2016Q1",
          "2016Q2",
          "2016Q3",
          "2016Q4",
          "2017Q1",
          "2017Q2",
          "2017Q3",
          "2017Q4",
          "2018Q1",
          "2018Q2",
          "2018Q3",
          "2018Q4",
          "2019Q1",
          "2019Q2",
          "2019Q3",
          "2019Q4",
          "2020Q1",
          "2020Q2",
          "2020Q3",
          "2020Q4",
          "2021Q1",
          "2021Q2",
          "2021Q3",
          "2021Q4"
         ],
         "y": [
          0.06274086982011795,
          0.05774835869669914,
          0.08377010375261307,
          0.06472471356391907,
          0.04979763925075531,
          0.05672918260097504,
          0.05093063786625862,
          0.054411403834819794,
          0.07023534923791885,
          0.05838063731789589,
          0.06392259895801544,
          0.06016597896814346,
          0.04342197626829147,
          0.054879382252693176,
          0.05174914747476578,
          0.04547758400440216,
          0.03929814323782921,
          0.058642785996198654,
          0.043708957731723785,
          0.0496799610555172,
          0.07418254017829895,
          0.06735201179981232,
          0.11559990048408508,
          0.08986958116292953,
          0.06292933970689774,
          0.05510988086462021,
          0.08103547990322113,
          0.039280254393815994,
          0.001149355317465961,
          0.04095511510968208,
          0.05015585944056511,
          0.041319362819194794,
          0.005889539141207933,
          0.04548138007521629,
          0.004429687280207872,
          0.0412583164870739,
          0.04344629496335983,
          0.046476151794195175,
          0.0077470107935369015,
          0.033710777759552,
          0.008334118872880936,
          0.03990788012742996,
          0.06273122876882553,
          0.03646363317966461
         ]
        },
        {
         "name": "Topic 14",
         "type": "scatter",
         "x": [
          "2011Q1",
          "2011Q2",
          "2011Q3",
          "2011Q4",
          "2012Q1",
          "2012Q2",
          "2012Q3",
          "2012Q4",
          "2013Q1",
          "2013Q2",
          "2013Q3",
          "2013Q4",
          "2014Q1",
          "2014Q2",
          "2014Q3",
          "2014Q4",
          "2015Q1",
          "2015Q2",
          "2015Q3",
          "2015Q4",
          "2016Q1",
          "2016Q2",
          "2016Q3",
          "2016Q4",
          "2017Q1",
          "2017Q2",
          "2017Q3",
          "2017Q4",
          "2018Q1",
          "2018Q2",
          "2018Q3",
          "2018Q4",
          "2019Q1",
          "2019Q2",
          "2019Q3",
          "2019Q4",
          "2020Q1",
          "2020Q2",
          "2020Q3",
          "2020Q4",
          "2021Q1",
          "2021Q2",
          "2021Q3",
          "2021Q4"
         ],
         "y": [
          0.05098308250308037,
          0.05167597532272339,
          0.05876860022544861,
          0.04932873323559761,
          0.06237694248557091,
          0.061881694942712784,
          0.055293008685112,
          0.05317571759223938,
          0.05149891600012779,
          0.06389940530061722,
          0.053331661969423294,
          0.053638868033885956,
          0.05042797699570656,
          0.060874149203300476,
          0.06214010342955589,
          0.05293048173189163,
          0.044828224927186966,
          0.04534954950213432,
          0.044832583516836166,
          0.05685329809784889,
          0.05237756296992302,
          0.04999401792883873,
          0.05473389849066734,
          0.04455976188182831,
          0.03537052497267723,
          0.03494901955127716,
          0.054385438561439514,
          0.02342505007982254,
          0.0007687741308473051,
          0.03675578907132149,
          0.027309339493513107,
          0.03585480526089668,
          0.006869872100651264,
          0.06328284740447998,
          0.006528354249894619,
          0.054419610649347305,
          0.09264998883008957,
          0.05225948989391327,
          0.006181027740240097,
          0.04397644102573395,
          0.8609120845794678,
          0.14954373240470886,
          0.047516364604234695,
          0.049921587109565735
         ]
        },
        {
         "name": "Topic 15",
         "type": "scatter",
         "x": [
          "2011Q1",
          "2011Q2",
          "2011Q3",
          "2011Q4",
          "2012Q1",
          "2012Q2",
          "2012Q3",
          "2012Q4",
          "2013Q1",
          "2013Q2",
          "2013Q3",
          "2013Q4",
          "2014Q1",
          "2014Q2",
          "2014Q3",
          "2014Q4",
          "2015Q1",
          "2015Q2",
          "2015Q3",
          "2015Q4",
          "2016Q1",
          "2016Q2",
          "2016Q3",
          "2016Q4",
          "2017Q1",
          "2017Q2",
          "2017Q3",
          "2017Q4",
          "2018Q1",
          "2018Q2",
          "2018Q3",
          "2018Q4",
          "2019Q1",
          "2019Q2",
          "2019Q3",
          "2019Q4",
          "2020Q1",
          "2020Q2",
          "2020Q3",
          "2020Q4",
          "2021Q1",
          "2021Q2",
          "2021Q3",
          "2021Q4"
         ],
         "y": [
          0.047717031091451645,
          0.06685692816972733,
          0.055153924971818924,
          0.05918216332793236,
          0.058274995535612106,
          0.04281739145517349,
          0.05202123150229454,
          0.048644863069057465,
          0.0667332112789154,
          0.0532560721039772,
          0.06787176430225372,
          0.0534057579934597,
          0.0749489814043045,
          0.05905755236744881,
          0.05391392856836319,
          0.05755127966403961,
          0.04217839241027832,
          0.04055526852607727,
          0.04558166489005089,
          0.06972852349281311,
          0.11213597655296326,
          0.06331178545951843,
          0.05439259484410286,
          0.04149828851222992,
          0.036079760640859604,
          0.08023179322481155,
          0.0669582411646843,
          0.6368182301521301,
          0.9865502715110779,
          0.15946948528289795,
          0.16429166495800018,
          0.03651054948568344,
          0.023233892396092415,
          0.061161428689956665,
          0.013723785988986492,
          0.06229288503527641,
          0.03914804384112358,
          0.031818363815546036,
          0.00544409453868866,
          0.029770424589514732,
          0.005820529535412788,
          0.03331243246793747,
          0.047844745218753815,
          0.07175101339817047
         ]
        },
        {
         "name": "Topic 16",
         "type": "scatter",
         "x": [
          "2011Q1",
          "2011Q2",
          "2011Q3",
          "2011Q4",
          "2012Q1",
          "2012Q2",
          "2012Q3",
          "2012Q4",
          "2013Q1",
          "2013Q2",
          "2013Q3",
          "2013Q4",
          "2014Q1",
          "2014Q2",
          "2014Q3",
          "2014Q4",
          "2015Q1",
          "2015Q2",
          "2015Q3",
          "2015Q4",
          "2016Q1",
          "2016Q2",
          "2016Q3",
          "2016Q4",
          "2017Q1",
          "2017Q2",
          "2017Q3",
          "2017Q4",
          "2018Q1",
          "2018Q2",
          "2018Q3",
          "2018Q4",
          "2019Q1",
          "2019Q2",
          "2019Q3",
          "2019Q4",
          "2020Q1",
          "2020Q2",
          "2020Q3",
          "2020Q4",
          "2021Q1",
          "2021Q2",
          "2021Q3",
          "2021Q4"
         ],
         "y": [
          0.0486968457698822,
          0.06746417284011841,
          0.06660039722919464,
          0.05179208889603615,
          0.05471997335553169,
          0.053122419863939285,
          0.05638359859585762,
          0.0642968937754631,
          0.05692723020911217,
          0.05128508433699608,
          0.050100527703762054,
          0.0624970905482769,
          0.07433976233005524,
          0.05306278541684151,
          0.0560787096619606,
          0.08646851778030396,
          0.09333164244890213,
          0.059514474123716354,
          0.07117530703544617,
          0.05372646078467369,
          0.11633274704217911,
          0.08037050068378448,
          0.057123031467199326,
          0.07869520038366318,
          0.044691890478134155,
          0.05637653172016144,
          0.05653463304042816,
          0.030824147164821625,
          0.0008448903681710362,
          0.05075354874134064,
          0.05063989385962486,
          0.04401521384716034,
          0.007623974233865738,
          0.035981111228466034,
          0.007053021341562271,
          0.04196338355541229,
          0.06210976094007492,
          0.24231214821338654,
          0.007654894143342972,
          0.05206454172730446,
          0.0077842711471021175,
          0.04196220263838768,
          0.06185555458068848,
          0.04239784926176071
         ]
        },
        {
         "name": "Topic 17",
         "type": "scatter",
         "x": [
          "2011Q1",
          "2011Q2",
          "2011Q3",
          "2011Q4",
          "2012Q1",
          "2012Q2",
          "2012Q3",
          "2012Q4",
          "2013Q1",
          "2013Q2",
          "2013Q3",
          "2013Q4",
          "2014Q1",
          "2014Q2",
          "2014Q3",
          "2014Q4",
          "2015Q1",
          "2015Q2",
          "2015Q3",
          "2015Q4",
          "2016Q1",
          "2016Q2",
          "2016Q3",
          "2016Q4",
          "2017Q1",
          "2017Q2",
          "2017Q3",
          "2017Q4",
          "2018Q1",
          "2018Q2",
          "2018Q3",
          "2018Q4",
          "2019Q1",
          "2019Q2",
          "2019Q3",
          "2019Q4",
          "2020Q1",
          "2020Q2",
          "2020Q3",
          "2020Q4",
          "2021Q1",
          "2021Q2",
          "2021Q3",
          "2021Q4"
         ],
         "y": [
          0.049350056797266006,
          0.05410492792725563,
          0.03979155421257019,
          0.05795048549771309,
          0.055813826620578766,
          0.054152924567461014,
          0.05238476023077965,
          0.044937800616025925,
          0.04834699258208275,
          0.05049668997526169,
          0.050459541380405426,
          0.043148867785930634,
          0.05240793526172638,
          0.04942959174513817,
          0.039734598249197006,
          0.04368888959288597,
          0.0492062047123909,
          0.05341266095638275,
          0.05731728672981262,
          0.058140821754932404,
          0.0433453768491745,
          0.057026997208595276,
          0.06793101131916046,
          0.050529636442661285,
          0.07387180626392365,
          0.05880428105592728,
          0.058576371520757675,
          0.014562397263944149,
          0.0006926578935235739,
          0.04468785226345062,
          0.07939166575670242,
          0.06172038987278938,
          0.006417410913854837,
          0.05479717254638672,
          0.02054445445537567,
          0.05465463548898697,
          0.07409963011741638,
          0.06362675130367279,
          0.8686692714691162,
          0.04584292694926262,
          0.00951236393302679,
          0.06391099095344543,
          0.058900151401758194,
          0.046954479068517685
         ]
        },
        {
         "name": "Topic 18",
         "type": "scatter",
         "x": [
          "2011Q1",
          "2011Q2",
          "2011Q3",
          "2011Q4",
          "2012Q1",
          "2012Q2",
          "2012Q3",
          "2012Q4",
          "2013Q1",
          "2013Q2",
          "2013Q3",
          "2013Q4",
          "2014Q1",
          "2014Q2",
          "2014Q3",
          "2014Q4",
          "2015Q1",
          "2015Q2",
          "2015Q3",
          "2015Q4",
          "2016Q1",
          "2016Q2",
          "2016Q3",
          "2016Q4",
          "2017Q1",
          "2017Q2",
          "2017Q3",
          "2017Q4",
          "2018Q1",
          "2018Q2",
          "2018Q3",
          "2018Q4",
          "2019Q1",
          "2019Q2",
          "2019Q3",
          "2019Q4",
          "2020Q1",
          "2020Q2",
          "2020Q3",
          "2020Q4",
          "2021Q1",
          "2021Q2",
          "2021Q3",
          "2021Q4"
         ],
         "y": [
          0.0624142661690712,
          0.05410492792725563,
          0.04611723870038986,
          0.051176249980926514,
          0.06538503617048264,
          0.055183425545692444,
          0.05602006986737251,
          0.05152812972664833,
          0.05710233375430107,
          0.06429360061883926,
          0.053690675646066666,
          0.0473448671400547,
          0.043269671499729156,
          0.04706801474094391,
          0.04612071067094803,
          0.03489447012543678,
          0.047593265771865845,
          0.06518044322729111,
          0.05082524195313454,
          0.05225500464439392,
          0.03677651286125183,
          0.06121685728430748,
          0.052117228507995605,
          0.05206037312746048,
          0.04722486808896065,
          0.056693196296691895,
          0.05470781773328781,
          0.023912902921438217,
          0.001225471612997353,
          0.06020203232765198,
          0.04531549662351608,
          0.03461616858839989,
          0.009961692616343498,
          0.04677267745137215,
          0.005029306281358004,
          0.05030670762062073,
          0.0462740957736969,
          0.0299238208681345,
          0.007931244559586048,
          0.3944607079029083,
          0.016189085319638252,
          0.09667199850082397,
          0.044232580810785294,
          0.03317862004041672
         ]
        }
       ],
       "layout": {
        "autosize": false,
        "height": 500,
        "template": {
         "data": {
          "bar": [
           {
            "error_x": {
             "color": "#2a3f5f"
            },
            "error_y": {
             "color": "#2a3f5f"
            },
            "marker": {
             "line": {
              "color": "#E5ECF6",
              "width": 0.5
             },
             "pattern": {
              "fillmode": "overlay",
              "size": 10,
              "solidity": 0.2
             }
            },
            "type": "bar"
           }
          ],
          "barpolar": [
           {
            "marker": {
             "line": {
              "color": "#E5ECF6",
              "width": 0.5
             },
             "pattern": {
              "fillmode": "overlay",
              "size": 10,
              "solidity": 0.2
             }
            },
            "type": "barpolar"
           }
          ],
          "carpet": [
           {
            "aaxis": {
             "endlinecolor": "#2a3f5f",
             "gridcolor": "white",
             "linecolor": "white",
             "minorgridcolor": "white",
             "startlinecolor": "#2a3f5f"
            },
            "baxis": {
             "endlinecolor": "#2a3f5f",
             "gridcolor": "white",
             "linecolor": "white",
             "minorgridcolor": "white",
             "startlinecolor": "#2a3f5f"
            },
            "type": "carpet"
           }
          ],
          "choropleth": [
           {
            "colorbar": {
             "outlinewidth": 0,
             "ticks": ""
            },
            "type": "choropleth"
           }
          ],
          "contour": [
           {
            "colorbar": {
             "outlinewidth": 0,
             "ticks": ""
            },
            "colorscale": [
             [
              0,
              "#0d0887"
             ],
             [
              0.1111111111111111,
              "#46039f"
             ],
             [
              0.2222222222222222,
              "#7201a8"
             ],
             [
              0.3333333333333333,
              "#9c179e"
             ],
             [
              0.4444444444444444,
              "#bd3786"
             ],
             [
              0.5555555555555556,
              "#d8576b"
             ],
             [
              0.6666666666666666,
              "#ed7953"
             ],
             [
              0.7777777777777778,
              "#fb9f3a"
             ],
             [
              0.8888888888888888,
              "#fdca26"
             ],
             [
              1,
              "#f0f921"
             ]
            ],
            "type": "contour"
           }
          ],
          "contourcarpet": [
           {
            "colorbar": {
             "outlinewidth": 0,
             "ticks": ""
            },
            "type": "contourcarpet"
           }
          ],
          "heatmap": [
           {
            "colorbar": {
             "outlinewidth": 0,
             "ticks": ""
            },
            "colorscale": [
             [
              0,
              "#0d0887"
             ],
             [
              0.1111111111111111,
              "#46039f"
             ],
             [
              0.2222222222222222,
              "#7201a8"
             ],
             [
              0.3333333333333333,
              "#9c179e"
             ],
             [
              0.4444444444444444,
              "#bd3786"
             ],
             [
              0.5555555555555556,
              "#d8576b"
             ],
             [
              0.6666666666666666,
              "#ed7953"
             ],
             [
              0.7777777777777778,
              "#fb9f3a"
             ],
             [
              0.8888888888888888,
              "#fdca26"
             ],
             [
              1,
              "#f0f921"
             ]
            ],
            "type": "heatmap"
           }
          ],
          "heatmapgl": [
           {
            "colorbar": {
             "outlinewidth": 0,
             "ticks": ""
            },
            "colorscale": [
             [
              0,
              "#0d0887"
             ],
             [
              0.1111111111111111,
              "#46039f"
             ],
             [
              0.2222222222222222,
              "#7201a8"
             ],
             [
              0.3333333333333333,
              "#9c179e"
             ],
             [
              0.4444444444444444,
              "#bd3786"
             ],
             [
              0.5555555555555556,
              "#d8576b"
             ],
             [
              0.6666666666666666,
              "#ed7953"
             ],
             [
              0.7777777777777778,
              "#fb9f3a"
             ],
             [
              0.8888888888888888,
              "#fdca26"
             ],
             [
              1,
              "#f0f921"
             ]
            ],
            "type": "heatmapgl"
           }
          ],
          "histogram": [
           {
            "marker": {
             "pattern": {
              "fillmode": "overlay",
              "size": 10,
              "solidity": 0.2
             }
            },
            "type": "histogram"
           }
          ],
          "histogram2d": [
           {
            "colorbar": {
             "outlinewidth": 0,
             "ticks": ""
            },
            "colorscale": [
             [
              0,
              "#0d0887"
             ],
             [
              0.1111111111111111,
              "#46039f"
             ],
             [
              0.2222222222222222,
              "#7201a8"
             ],
             [
              0.3333333333333333,
              "#9c179e"
             ],
             [
              0.4444444444444444,
              "#bd3786"
             ],
             [
              0.5555555555555556,
              "#d8576b"
             ],
             [
              0.6666666666666666,
              "#ed7953"
             ],
             [
              0.7777777777777778,
              "#fb9f3a"
             ],
             [
              0.8888888888888888,
              "#fdca26"
             ],
             [
              1,
              "#f0f921"
             ]
            ],
            "type": "histogram2d"
           }
          ],
          "histogram2dcontour": [
           {
            "colorbar": {
             "outlinewidth": 0,
             "ticks": ""
            },
            "colorscale": [
             [
              0,
              "#0d0887"
             ],
             [
              0.1111111111111111,
              "#46039f"
             ],
             [
              0.2222222222222222,
              "#7201a8"
             ],
             [
              0.3333333333333333,
              "#9c179e"
             ],
             [
              0.4444444444444444,
              "#bd3786"
             ],
             [
              0.5555555555555556,
              "#d8576b"
             ],
             [
              0.6666666666666666,
              "#ed7953"
             ],
             [
              0.7777777777777778,
              "#fb9f3a"
             ],
             [
              0.8888888888888888,
              "#fdca26"
             ],
             [
              1,
              "#f0f921"
             ]
            ],
            "type": "histogram2dcontour"
           }
          ],
          "mesh3d": [
           {
            "colorbar": {
             "outlinewidth": 0,
             "ticks": ""
            },
            "type": "mesh3d"
           }
          ],
          "parcoords": [
           {
            "line": {
             "colorbar": {
              "outlinewidth": 0,
              "ticks": ""
             }
            },
            "type": "parcoords"
           }
          ],
          "pie": [
           {
            "automargin": true,
            "type": "pie"
           }
          ],
          "scatter": [
           {
            "fillpattern": {
             "fillmode": "overlay",
             "size": 10,
             "solidity": 0.2
            },
            "type": "scatter"
           }
          ],
          "scatter3d": [
           {
            "line": {
             "colorbar": {
              "outlinewidth": 0,
              "ticks": ""
             }
            },
            "marker": {
             "colorbar": {
              "outlinewidth": 0,
              "ticks": ""
             }
            },
            "type": "scatter3d"
           }
          ],
          "scattercarpet": [
           {
            "marker": {
             "colorbar": {
              "outlinewidth": 0,
              "ticks": ""
             }
            },
            "type": "scattercarpet"
           }
          ],
          "scattergeo": [
           {
            "marker": {
             "colorbar": {
              "outlinewidth": 0,
              "ticks": ""
             }
            },
            "type": "scattergeo"
           }
          ],
          "scattergl": [
           {
            "marker": {
             "colorbar": {
              "outlinewidth": 0,
              "ticks": ""
             }
            },
            "type": "scattergl"
           }
          ],
          "scattermapbox": [
           {
            "marker": {
             "colorbar": {
              "outlinewidth": 0,
              "ticks": ""
             }
            },
            "type": "scattermapbox"
           }
          ],
          "scatterpolar": [
           {
            "marker": {
             "colorbar": {
              "outlinewidth": 0,
              "ticks": ""
             }
            },
            "type": "scatterpolar"
           }
          ],
          "scatterpolargl": [
           {
            "marker": {
             "colorbar": {
              "outlinewidth": 0,
              "ticks": ""
             }
            },
            "type": "scatterpolargl"
           }
          ],
          "scatterternary": [
           {
            "marker": {
             "colorbar": {
              "outlinewidth": 0,
              "ticks": ""
             }
            },
            "type": "scatterternary"
           }
          ],
          "surface": [
           {
            "colorbar": {
             "outlinewidth": 0,
             "ticks": ""
            },
            "colorscale": [
             [
              0,
              "#0d0887"
             ],
             [
              0.1111111111111111,
              "#46039f"
             ],
             [
              0.2222222222222222,
              "#7201a8"
             ],
             [
              0.3333333333333333,
              "#9c179e"
             ],
             [
              0.4444444444444444,
              "#bd3786"
             ],
             [
              0.5555555555555556,
              "#d8576b"
             ],
             [
              0.6666666666666666,
              "#ed7953"
             ],
             [
              0.7777777777777778,
              "#fb9f3a"
             ],
             [
              0.8888888888888888,
              "#fdca26"
             ],
             [
              1,
              "#f0f921"
             ]
            ],
            "type": "surface"
           }
          ],
          "table": [
           {
            "cells": {
             "fill": {
              "color": "#EBF0F8"
             },
             "line": {
              "color": "white"
             }
            },
            "header": {
             "fill": {
              "color": "#C8D4E3"
             },
             "line": {
              "color": "white"
             }
            },
            "type": "table"
           }
          ]
         },
         "layout": {
          "annotationdefaults": {
           "arrowcolor": "#2a3f5f",
           "arrowhead": 0,
           "arrowwidth": 1
          },
          "autotypenumbers": "strict",
          "coloraxis": {
           "colorbar": {
            "outlinewidth": 0,
            "ticks": ""
           }
          },
          "colorscale": {
           "diverging": [
            [
             0,
             "#8e0152"
            ],
            [
             0.1,
             "#c51b7d"
            ],
            [
             0.2,
             "#de77ae"
            ],
            [
             0.3,
             "#f1b6da"
            ],
            [
             0.4,
             "#fde0ef"
            ],
            [
             0.5,
             "#f7f7f7"
            ],
            [
             0.6,
             "#e6f5d0"
            ],
            [
             0.7,
             "#b8e186"
            ],
            [
             0.8,
             "#7fbc41"
            ],
            [
             0.9,
             "#4d9221"
            ],
            [
             1,
             "#276419"
            ]
           ],
           "sequential": [
            [
             0,
             "#0d0887"
            ],
            [
             0.1111111111111111,
             "#46039f"
            ],
            [
             0.2222222222222222,
             "#7201a8"
            ],
            [
             0.3333333333333333,
             "#9c179e"
            ],
            [
             0.4444444444444444,
             "#bd3786"
            ],
            [
             0.5555555555555556,
             "#d8576b"
            ],
            [
             0.6666666666666666,
             "#ed7953"
            ],
            [
             0.7777777777777778,
             "#fb9f3a"
            ],
            [
             0.8888888888888888,
             "#fdca26"
            ],
            [
             1,
             "#f0f921"
            ]
           ],
           "sequentialminus": [
            [
             0,
             "#0d0887"
            ],
            [
             0.1111111111111111,
             "#46039f"
            ],
            [
             0.2222222222222222,
             "#7201a8"
            ],
            [
             0.3333333333333333,
             "#9c179e"
            ],
            [
             0.4444444444444444,
             "#bd3786"
            ],
            [
             0.5555555555555556,
             "#d8576b"
            ],
            [
             0.6666666666666666,
             "#ed7953"
            ],
            [
             0.7777777777777778,
             "#fb9f3a"
            ],
            [
             0.8888888888888888,
             "#fdca26"
            ],
            [
             1,
             "#f0f921"
            ]
           ]
          },
          "colorway": [
           "#636efa",
           "#EF553B",
           "#00cc96",
           "#ab63fa",
           "#FFA15A",
           "#19d3f3",
           "#FF6692",
           "#B6E880",
           "#FF97FF",
           "#FECB52"
          ],
          "font": {
           "color": "#2a3f5f"
          },
          "geo": {
           "bgcolor": "white",
           "lakecolor": "white",
           "landcolor": "#E5ECF6",
           "showlakes": true,
           "showland": true,
           "subunitcolor": "white"
          },
          "hoverlabel": {
           "align": "left"
          },
          "hovermode": "closest",
          "mapbox": {
           "style": "light"
          },
          "paper_bgcolor": "white",
          "plot_bgcolor": "#E5ECF6",
          "polar": {
           "angularaxis": {
            "gridcolor": "white",
            "linecolor": "white",
            "ticks": ""
           },
           "bgcolor": "#E5ECF6",
           "radialaxis": {
            "gridcolor": "white",
            "linecolor": "white",
            "ticks": ""
           }
          },
          "scene": {
           "xaxis": {
            "backgroundcolor": "#E5ECF6",
            "gridcolor": "white",
            "gridwidth": 2,
            "linecolor": "white",
            "showbackground": true,
            "ticks": "",
            "zerolinecolor": "white"
           },
           "yaxis": {
            "backgroundcolor": "#E5ECF6",
            "gridcolor": "white",
            "gridwidth": 2,
            "linecolor": "white",
            "showbackground": true,
            "ticks": "",
            "zerolinecolor": "white"
           },
           "zaxis": {
            "backgroundcolor": "#E5ECF6",
            "gridcolor": "white",
            "gridwidth": 2,
            "linecolor": "white",
            "showbackground": true,
            "ticks": "",
            "zerolinecolor": "white"
           }
          },
          "shapedefaults": {
           "line": {
            "color": "#2a3f5f"
           }
          },
          "ternary": {
           "aaxis": {
            "gridcolor": "white",
            "linecolor": "white",
            "ticks": ""
           },
           "baxis": {
            "gridcolor": "white",
            "linecolor": "white",
            "ticks": ""
           },
           "bgcolor": "#E5ECF6",
           "caxis": {
            "gridcolor": "white",
            "linecolor": "white",
            "ticks": ""
           }
          },
          "title": {
           "x": 0.05
          },
          "xaxis": {
           "automargin": true,
           "gridcolor": "white",
           "linecolor": "white",
           "ticks": "",
           "title": {
            "standoff": 15
           },
           "zerolinecolor": "white",
           "zerolinewidth": 2
          },
          "yaxis": {
           "automargin": true,
           "gridcolor": "white",
           "linecolor": "white",
           "ticks": "",
           "title": {
            "standoff": 15
           },
           "zerolinecolor": "white",
           "zerolinewidth": 2
          }
         }
        },
        "title": {
         "text": "Topic Distribution"
        },
        "width": 1200,
        "xaxis": {
         "tickmode": "array",
         "ticktext": [
          "2011Q1",
          "2011Q2",
          "2011Q3",
          "2011Q4",
          "2012Q1",
          "2012Q2",
          "2012Q3",
          "2012Q4",
          "2013Q1",
          "2013Q2",
          "2013Q3",
          "2013Q4",
          "2014Q1",
          "2014Q2",
          "2014Q3",
          "2014Q4",
          "2015Q1",
          "2015Q2",
          "2015Q3",
          "2015Q4",
          "2016Q1",
          "2016Q2",
          "2016Q3",
          "2016Q4",
          "2017Q1",
          "2017Q2",
          "2017Q3",
          "2017Q4",
          "2018Q1",
          "2018Q2",
          "2018Q3",
          "2018Q4",
          "2019Q1",
          "2019Q2",
          "2019Q3",
          "2019Q4",
          "2020Q1",
          "2020Q2",
          "2020Q3",
          "2020Q4",
          "2021Q1",
          "2021Q2",
          "2021Q3",
          "2021Q4"
         ],
         "tickvals": [
          "2011Q1",
          "2011Q2",
          "2011Q3",
          "2011Q4",
          "2012Q1",
          "2012Q2",
          "2012Q3",
          "2012Q4",
          "2013Q1",
          "2013Q2",
          "2013Q3",
          "2013Q4",
          "2014Q1",
          "2014Q2",
          "2014Q3",
          "2014Q4",
          "2015Q1",
          "2015Q2",
          "2015Q3",
          "2015Q4",
          "2016Q1",
          "2016Q2",
          "2016Q3",
          "2016Q4",
          "2017Q1",
          "2017Q2",
          "2017Q3",
          "2017Q4",
          "2018Q1",
          "2018Q2",
          "2018Q3",
          "2018Q4",
          "2019Q1",
          "2019Q2",
          "2019Q3",
          "2019Q4",
          "2020Q1",
          "2020Q2",
          "2020Q3",
          "2020Q4",
          "2021Q1",
          "2021Q2",
          "2021Q3",
          "2021Q4"
         ],
         "title": {
          "text": "Timepoint"
         }
        },
        "yaxis": {
         "title": {
          "text": "Probability"
         }
        }
       }
      }
     },
     "metadata": {},
     "output_type": "display_data"
    }
   ],
   "source": [
    "import plotly.express as px\n",
    "import plotly.graph_objects as go\n",
    "td_plot = td.copy()\n",
    "td_plot[\"timepoint\"] = dtm_df[\"year_quater\"].astype(str)\n",
    "# td_plot[\"timepoint\"] replace \"-\" to \"Q\"\n",
    "td_plot[\"timepoint\"] = td_plot[\"timepoint\"].str.replace(\"-\", \"Q\")\n",
    "\n",
    "fig = go.Figure()\n",
    "for k in range(best_mdl.k):\n",
    "    fig.add_trace(go.Line(\n",
    "        x=td_plot[\"timepoint\"].astype(str),\n",
    "        y=td_plot[\"topic_{}\".format(k + 1)],\n",
    "        name=\"Topic {}\".format(k + 1)\n",
    "        ))\n",
    "fig.update_layout(title=\"Topic Distribution\", xaxis_title=\"Timepoint\", yaxis_title=\"Probability\")\n",
    "# update the xticker\n",
    "fig.update_xaxes(tickmode=\"array\", tickvals=td_plot[\"timepoint\"].astype(str), ticktext=td_plot[\"timepoint\"])\n",
    "fig.update_layout(\n",
    "    autosize=False,\n",
    "    width=1200,\n",
    "    height=500)\n",
    "\n",
    "# fig.update_layout(\n",
    "#     xaxis_rangeslider_visible=True,\n",
    "# )\n",
    "\n",
    "fig.show()"
   ]
  },
  {
   "cell_type": "code",
   "execution_count": null,
   "metadata": {},
   "outputs": [],
   "source": [
    "recent 19 21\n",
    "5, 6, 9, 10, 11, 14, 16, 17, 18\n",
    "middle 15 18\n",
    "1, 2, 7, 12, 13, 15, \n",
    "\n",
    "before 11 14\n",
    "3, 4, 8, "
   ]
  },
  {
   "cell_type": "code",
   "execution_count": 100,
   "metadata": {},
   "outputs": [
    {
     "data": {
      "application/vnd.plotly.v1+json": {
       "config": {
        "plotlyServerURL": "https://plot.ly"
       },
       "data": [
        {
         "legendgroup": "1",
         "name": "Topic 5",
         "type": "scatter",
         "x": [
          "2011Q1",
          "2011Q2",
          "2011Q3",
          "2011Q4",
          "2012Q1",
          "2012Q2",
          "2012Q3",
          "2012Q4",
          "2013Q1",
          "2013Q2",
          "2013Q3",
          "2013Q4",
          "2014Q1",
          "2014Q2",
          "2014Q3",
          "2014Q4",
          "2015Q1",
          "2015Q2",
          "2015Q3",
          "2015Q4",
          "2016Q1",
          "2016Q2",
          "2016Q3",
          "2016Q4",
          "2017Q1",
          "2017Q2",
          "2017Q3",
          "2017Q4",
          "2018Q1",
          "2018Q2",
          "2018Q3",
          "2018Q4",
          "2019Q1",
          "2019Q2",
          "2019Q3",
          "2019Q4",
          "2020Q1",
          "2020Q2",
          "2020Q3",
          "2020Q4",
          "2021Q1",
          "2021Q2",
          "2021Q3",
          "2021Q4"
         ],
         "xaxis": "x",
         "y": [
          0.04673721641302109,
          0.06442797929048538,
          0.0446111224591732,
          0.053023770451545715,
          0.06456464529037476,
          0.06136644631624222,
          0.06329067796468735,
          0.05399950593709946,
          0.058853402733802795,
          0.056409649550914764,
          0.062127526849508286,
          0.05154086649417877,
          0.049057237803936005,
          0.046704698354005814,
          0.05358921363949776,
          0.047564394772052765,
          0.03134864941239357,
          0.060386162251234055,
          0.056318510323762894,
          0.04728884994983673,
          0.03850996494293213,
          0.042212847620248795,
          0.04984186217188835,
          0.06216324120759964,
          0.03557316213846207,
          0.048248857259750366,
          0.048367686569690704,
          0.015863336622714996,
          0.0006926578935235739,
          0.044454555958509445,
          0.032343316823244095,
          0.04365090653300285,
          0.01214858889579773,
          0.04234536737203598,
          0.005404068157076836,
          0.04396108165383339,
          0.06041308492422104,
          0.06243019923567772,
          0.005904677789658308,
          0.03682158514857292,
          0.006920224986970425,
          0.04520586505532265,
          0.05069069191813469,
          0.079062819480896
         ],
         "yaxis": "y"
        },
        {
         "legendgroup": "1",
         "name": "Topic 6",
         "type": "scatter",
         "x": [
          "2011Q1",
          "2011Q2",
          "2011Q3",
          "2011Q4",
          "2012Q1",
          "2012Q2",
          "2012Q3",
          "2012Q4",
          "2013Q1",
          "2013Q2",
          "2013Q3",
          "2013Q4",
          "2014Q1",
          "2014Q2",
          "2014Q3",
          "2014Q4",
          "2015Q1",
          "2015Q2",
          "2015Q3",
          "2015Q4",
          "2016Q1",
          "2016Q2",
          "2016Q3",
          "2016Q4",
          "2017Q1",
          "2017Q2",
          "2017Q3",
          "2017Q4",
          "2018Q1",
          "2018Q2",
          "2018Q3",
          "2018Q4",
          "2019Q1",
          "2019Q2",
          "2019Q3",
          "2019Q4",
          "2020Q1",
          "2020Q2",
          "2020Q3",
          "2020Q4",
          "2021Q1",
          "2021Q2",
          "2021Q3",
          "2021Q4"
         ],
         "xaxis": "x",
         "y": [
          0.06731334328651428,
          0.053497690707445145,
          0.0672028437256813,
          0.06595639884471893,
          0.0544465109705925,
          0.060851193964481354,
          0.06038243696093559,
          0.07171101868152618,
          0.04659592732787132,
          0.049708291888237,
          0.05997343733906746,
          0.05224020034074783,
          0.054235588759183884,
          0.0652339830994606,
          0.058892928063869476,
          0.0512908436357975,
          0.05104956403374672,
          0.04905422404408455,
          0.06618142873048782,
          0.05409432202577591,
          0.04234180226922035,
          0.06839947402477264,
          0.03141140937805176,
          0.05175422877073288,
          0.04347606003284454,
          0.046032216399908066,
          0.035902343690395355,
          0.013830618001520634,
          0.0006165415979921818,
          0.06463465839624405,
          0.05257603898644447,
          0.0342518649995327,
          0.00928299967199564,
          0.09242930263280869,
          0.006378449499607086,
          0.05359703302383423,
          0.05430504307150841,
          0.03670429438352585,
          0.009036644361913204,
          0.04511707276105881,
          0.008726866915822029,
          0.033853042870759964,
          0.04171501100063324,
          0.045153018087148666
         ],
         "yaxis": "y"
        },
        {
         "legendgroup": "1",
         "name": "Topic 9",
         "type": "scatter",
         "x": [
          "2011Q1",
          "2011Q2",
          "2011Q3",
          "2011Q4",
          "2012Q1",
          "2012Q2",
          "2012Q3",
          "2012Q4",
          "2013Q1",
          "2013Q2",
          "2013Q3",
          "2013Q4",
          "2014Q1",
          "2014Q2",
          "2014Q3",
          "2014Q4",
          "2015Q1",
          "2015Q2",
          "2015Q3",
          "2015Q4",
          "2016Q1",
          "2016Q2",
          "2016Q3",
          "2016Q4",
          "2017Q1",
          "2017Q2",
          "2017Q3",
          "2017Q4",
          "2018Q1",
          "2018Q2",
          "2018Q3",
          "2018Q4",
          "2019Q1",
          "2019Q2",
          "2019Q3",
          "2019Q4",
          "2020Q1",
          "2020Q2",
          "2020Q3",
          "2020Q4",
          "2021Q1",
          "2021Q2",
          "2021Q3",
          "2021Q4"
         ],
         "xaxis": "x",
         "y": [
          0.06731334328651428,
          0.058962833136320114,
          0.04400867596268654,
          0.04317034035921097,
          0.06046270206570625,
          0.05827493593096733,
          0.05602006986737251,
          0.050704341381788254,
          0.046771034598350525,
          0.04576632007956505,
          0.045253824442625046,
          0.04594620317220688,
          0.06855219602584839,
          0.058512572199106216,
          0.0519656240940094,
          0.07186084240674973,
          0.04793889448046684,
          0.053194738924503326,
          0.07117530703544617,
          0.053174663335084915,
          0.04644734039902687,
          0.049694739282131195,
          0.06417665630578995,
          0.0722661092877388,
          0.07093355059623718,
          0.08477062731981277,
          0.04159771651029587,
          0.014887631870806217,
          0.0007687741308473051,
          0.05355310067534447,
          0.038248565047979355,
          0.0797170102596283,
          0.010489563457667828,
          0.0690014585852623,
          0.868256151676178,
          0.08556018024682999,
          0.043220072984695435,
          0.04896897077560425,
          0.016682326793670654,
          0.030081504955887794,
          0.005977629218250513,
          0.034718018025159836,
          0.0606514997780323,
          0.038688965141773224
         ],
         "yaxis": "y"
        },
        {
         "legendgroup": "1",
         "name": "Topic 10",
         "type": "scatter",
         "x": [
          "2011Q1",
          "2011Q2",
          "2011Q3",
          "2011Q4",
          "2012Q1",
          "2012Q2",
          "2012Q3",
          "2012Q4",
          "2013Q1",
          "2013Q2",
          "2013Q3",
          "2013Q4",
          "2014Q1",
          "2014Q2",
          "2014Q3",
          "2014Q4",
          "2015Q1",
          "2015Q2",
          "2015Q3",
          "2015Q4",
          "2016Q1",
          "2016Q2",
          "2016Q3",
          "2016Q4",
          "2017Q1",
          "2017Q2",
          "2017Q3",
          "2017Q4",
          "2018Q1",
          "2018Q2",
          "2018Q3",
          "2018Q4",
          "2019Q1",
          "2019Q2",
          "2019Q3",
          "2019Q4",
          "2020Q1",
          "2020Q2",
          "2020Q3",
          "2020Q4",
          "2021Q1",
          "2021Q2",
          "2021Q3",
          "2021Q4"
         ],
         "xaxis": "x",
         "y": [
          0.05163629353046417,
          0.05653388053178787,
          0.050936803221702576,
          0.06226135790348053,
          0.04760993272066116,
          0.05157666653394699,
          0.05383888632059097,
          0.04988054931163788,
          0.04904742166399956,
          0.06074582412838936,
          0.05315215513110161,
          0.05224020034074783,
          0.04266045615077019,
          0.05506104230880737,
          0.04861021041870117,
          0.039366208016872406,
          0.0360722616314888,
          0.037286438047885895,
          0.03859023004770279,
          0.04269055649638176,
          0.05411101132631302,
          0.04460705444216728,
          0.045063599944114685,
          0.05741795524954796,
          0.06100427359342575,
          0.04466000944375992,
          0.04965720325708389,
          0.016188571229577065,
          0.0008448903681710362,
          0.05157008394598961,
          0.038054950535297394,
          0.09217620640993118,
          0.8396250605583191,
          0.04086959734559059,
          0.006528354249894619,
          0.0682859718799591,
          0.04344629496335983,
          0.031618937849998474,
          0.006181027740240097,
          0.037028972059488297,
          0.009276715107262135,
          0.044340889900922775,
          0.0606514997780323,
          0.054160311818122864
         ],
         "yaxis": "y"
        },
        {
         "legendgroup": "1",
         "name": "Topic 14",
         "type": "scatter",
         "x": [
          "2011Q1",
          "2011Q2",
          "2011Q3",
          "2011Q4",
          "2012Q1",
          "2012Q2",
          "2012Q3",
          "2012Q4",
          "2013Q1",
          "2013Q2",
          "2013Q3",
          "2013Q4",
          "2014Q1",
          "2014Q2",
          "2014Q3",
          "2014Q4",
          "2015Q1",
          "2015Q2",
          "2015Q3",
          "2015Q4",
          "2016Q1",
          "2016Q2",
          "2016Q3",
          "2016Q4",
          "2017Q1",
          "2017Q2",
          "2017Q3",
          "2017Q4",
          "2018Q1",
          "2018Q2",
          "2018Q3",
          "2018Q4",
          "2019Q1",
          "2019Q2",
          "2019Q3",
          "2019Q4",
          "2020Q1",
          "2020Q2",
          "2020Q3",
          "2020Q4",
          "2021Q1",
          "2021Q2",
          "2021Q3",
          "2021Q4"
         ],
         "xaxis": "x",
         "y": [
          0.05098308250308037,
          0.05167597532272339,
          0.05876860022544861,
          0.04932873323559761,
          0.06237694248557091,
          0.061881694942712784,
          0.055293008685112,
          0.05317571759223938,
          0.05149891600012779,
          0.06389940530061722,
          0.053331661969423294,
          0.053638868033885956,
          0.05042797699570656,
          0.060874149203300476,
          0.06214010342955589,
          0.05293048173189163,
          0.044828224927186966,
          0.04534954950213432,
          0.044832583516836166,
          0.05685329809784889,
          0.05237756296992302,
          0.04999401792883873,
          0.05473389849066734,
          0.04455976188182831,
          0.03537052497267723,
          0.03494901955127716,
          0.054385438561439514,
          0.02342505007982254,
          0.0007687741308473051,
          0.03675578907132149,
          0.027309339493513107,
          0.03585480526089668,
          0.006869872100651264,
          0.06328284740447998,
          0.006528354249894619,
          0.054419610649347305,
          0.09264998883008957,
          0.05225948989391327,
          0.006181027740240097,
          0.04397644102573395,
          0.8609120845794678,
          0.14954373240470886,
          0.047516364604234695,
          0.049921587109565735
         ],
         "yaxis": "y"
        },
        {
         "legendgroup": "1",
         "name": "Topic 16",
         "type": "scatter",
         "x": [
          "2011Q1",
          "2011Q2",
          "2011Q3",
          "2011Q4",
          "2012Q1",
          "2012Q2",
          "2012Q3",
          "2012Q4",
          "2013Q1",
          "2013Q2",
          "2013Q3",
          "2013Q4",
          "2014Q1",
          "2014Q2",
          "2014Q3",
          "2014Q4",
          "2015Q1",
          "2015Q2",
          "2015Q3",
          "2015Q4",
          "2016Q1",
          "2016Q2",
          "2016Q3",
          "2016Q4",
          "2017Q1",
          "2017Q2",
          "2017Q3",
          "2017Q4",
          "2018Q1",
          "2018Q2",
          "2018Q3",
          "2018Q4",
          "2019Q1",
          "2019Q2",
          "2019Q3",
          "2019Q4",
          "2020Q1",
          "2020Q2",
          "2020Q3",
          "2020Q4",
          "2021Q1",
          "2021Q2",
          "2021Q3",
          "2021Q4"
         ],
         "xaxis": "x",
         "y": [
          0.0486968457698822,
          0.06746417284011841,
          0.06660039722919464,
          0.05179208889603615,
          0.05471997335553169,
          0.053122419863939285,
          0.05638359859585762,
          0.0642968937754631,
          0.05692723020911217,
          0.05128508433699608,
          0.050100527703762054,
          0.0624970905482769,
          0.07433976233005524,
          0.05306278541684151,
          0.0560787096619606,
          0.08646851778030396,
          0.09333164244890213,
          0.059514474123716354,
          0.07117530703544617,
          0.05372646078467369,
          0.11633274704217911,
          0.08037050068378448,
          0.057123031467199326,
          0.07869520038366318,
          0.044691890478134155,
          0.05637653172016144,
          0.05653463304042816,
          0.030824147164821625,
          0.0008448903681710362,
          0.05075354874134064,
          0.05063989385962486,
          0.04401521384716034,
          0.007623974233865738,
          0.035981111228466034,
          0.007053021341562271,
          0.04196338355541229,
          0.06210976094007492,
          0.24231214821338654,
          0.007654894143342972,
          0.05206454172730446,
          0.0077842711471021175,
          0.04196220263838768,
          0.06185555458068848,
          0.04239784926176071
         ],
         "yaxis": "y"
        },
        {
         "legendgroup": "1",
         "name": "Topic 17",
         "type": "scatter",
         "x": [
          "2011Q1",
          "2011Q2",
          "2011Q3",
          "2011Q4",
          "2012Q1",
          "2012Q2",
          "2012Q3",
          "2012Q4",
          "2013Q1",
          "2013Q2",
          "2013Q3",
          "2013Q4",
          "2014Q1",
          "2014Q2",
          "2014Q3",
          "2014Q4",
          "2015Q1",
          "2015Q2",
          "2015Q3",
          "2015Q4",
          "2016Q1",
          "2016Q2",
          "2016Q3",
          "2016Q4",
          "2017Q1",
          "2017Q2",
          "2017Q3",
          "2017Q4",
          "2018Q1",
          "2018Q2",
          "2018Q3",
          "2018Q4",
          "2019Q1",
          "2019Q2",
          "2019Q3",
          "2019Q4",
          "2020Q1",
          "2020Q2",
          "2020Q3",
          "2020Q4",
          "2021Q1",
          "2021Q2",
          "2021Q3",
          "2021Q4"
         ],
         "xaxis": "x",
         "y": [
          0.049350056797266006,
          0.05410492792725563,
          0.03979155421257019,
          0.05795048549771309,
          0.055813826620578766,
          0.054152924567461014,
          0.05238476023077965,
          0.044937800616025925,
          0.04834699258208275,
          0.05049668997526169,
          0.050459541380405426,
          0.043148867785930634,
          0.05240793526172638,
          0.04942959174513817,
          0.039734598249197006,
          0.04368888959288597,
          0.0492062047123909,
          0.05341266095638275,
          0.05731728672981262,
          0.058140821754932404,
          0.0433453768491745,
          0.057026997208595276,
          0.06793101131916046,
          0.050529636442661285,
          0.07387180626392365,
          0.05880428105592728,
          0.058576371520757675,
          0.014562397263944149,
          0.0006926578935235739,
          0.04468785226345062,
          0.07939166575670242,
          0.06172038987278938,
          0.006417410913854837,
          0.05479717254638672,
          0.02054445445537567,
          0.05465463548898697,
          0.07409963011741638,
          0.06362675130367279,
          0.8686692714691162,
          0.04584292694926262,
          0.00951236393302679,
          0.06391099095344543,
          0.058900151401758194,
          0.046954479068517685
         ],
         "yaxis": "y"
        },
        {
         "legendgroup": "1",
         "name": "Topic 18",
         "type": "scatter",
         "x": [
          "2011Q1",
          "2011Q2",
          "2011Q3",
          "2011Q4",
          "2012Q1",
          "2012Q2",
          "2012Q3",
          "2012Q4",
          "2013Q1",
          "2013Q2",
          "2013Q3",
          "2013Q4",
          "2014Q1",
          "2014Q2",
          "2014Q3",
          "2014Q4",
          "2015Q1",
          "2015Q2",
          "2015Q3",
          "2015Q4",
          "2016Q1",
          "2016Q2",
          "2016Q3",
          "2016Q4",
          "2017Q1",
          "2017Q2",
          "2017Q3",
          "2017Q4",
          "2018Q1",
          "2018Q2",
          "2018Q3",
          "2018Q4",
          "2019Q1",
          "2019Q2",
          "2019Q3",
          "2019Q4",
          "2020Q1",
          "2020Q2",
          "2020Q3",
          "2020Q4",
          "2021Q1",
          "2021Q2",
          "2021Q3",
          "2021Q4"
         ],
         "xaxis": "x",
         "y": [
          0.0624142661690712,
          0.05410492792725563,
          0.04611723870038986,
          0.051176249980926514,
          0.06538503617048264,
          0.055183425545692444,
          0.05602006986737251,
          0.05152812972664833,
          0.05710233375430107,
          0.06429360061883926,
          0.053690675646066666,
          0.0473448671400547,
          0.043269671499729156,
          0.04706801474094391,
          0.04612071067094803,
          0.03489447012543678,
          0.047593265771865845,
          0.06518044322729111,
          0.05082524195313454,
          0.05225500464439392,
          0.03677651286125183,
          0.06121685728430748,
          0.052117228507995605,
          0.05206037312746048,
          0.04722486808896065,
          0.056693196296691895,
          0.05470781773328781,
          0.023912902921438217,
          0.001225471612997353,
          0.06020203232765198,
          0.04531549662351608,
          0.03461616858839989,
          0.009961692616343498,
          0.04677267745137215,
          0.005029306281358004,
          0.05030670762062073,
          0.0462740957736969,
          0.0299238208681345,
          0.007931244559586048,
          0.3944607079029083,
          0.016189085319638252,
          0.09667199850082397,
          0.044232580810785294,
          0.03317862004041672
         ],
         "yaxis": "y"
        },
        {
         "legendgroup": "2",
         "name": "Topic 1",
         "type": "scatter",
         "x": [
          "2011Q1",
          "2011Q2",
          "2011Q3",
          "2011Q4",
          "2012Q1",
          "2012Q2",
          "2012Q3",
          "2012Q4",
          "2013Q1",
          "2013Q2",
          "2013Q3",
          "2013Q4",
          "2014Q1",
          "2014Q2",
          "2014Q3",
          "2014Q4",
          "2015Q1",
          "2015Q2",
          "2015Q3",
          "2015Q4",
          "2016Q1",
          "2016Q2",
          "2016Q3",
          "2016Q4",
          "2017Q1",
          "2017Q2",
          "2017Q3",
          "2017Q4",
          "2018Q1",
          "2018Q2",
          "2018Q3",
          "2018Q4",
          "2019Q1",
          "2019Q2",
          "2019Q3",
          "2019Q4",
          "2020Q1",
          "2020Q2",
          "2020Q3",
          "2020Q4",
          "2021Q1",
          "2021Q2",
          "2021Q3",
          "2021Q4"
         ],
         "xaxis": "x2",
         "y": [
          0.04837024211883545,
          0.055926643311977386,
          0.05033436045050621,
          0.06287720054388046,
          0.05554036423563957,
          0.052091918885707855,
          0.05565653741359711,
          0.042878326028585434,
          0.04221825674176216,
          0.04891989752650261,
          0.060511957854032516,
          0.0872068703174591,
          0.05591093376278877,
          0.04561473801732063,
          0.04774429649114609,
          0.06157584488391876,
          0.07708702981472015,
          0.06147577241063118,
          0.05082524195313454,
          0.04784064367413521,
          0.03385701775550842,
          0.04864727705717087,
          0.03664474934339523,
          0.0473150908946991,
          0.055533040314912796,
          0.03283793479204178,
          0.043209612369537354,
          0.014481088146567345,
          0.0009210066054947674,
          0.040838468819856644,
          0.030019942671060562,
          0.15673089027404785,
          0.011696127243340015,
          0.06125366687774658,
          0.009076735936105251,
          0.05089426413178444,
          0.04423807933926582,
          0.03550773859024048,
          0.005904677789658308,
          0.035058796405792236,
          0.006291827652603388,
          0.060883574187755585,
          0.06656231731176376,
          0.045788828283548355
         ],
         "yaxis": "y2"
        },
        {
         "legendgroup": "2",
         "name": "Topic 2",
         "type": "scatter",
         "x": [
          "2011Q1",
          "2011Q2",
          "2011Q3",
          "2011Q4",
          "2012Q1",
          "2012Q2",
          "2012Q3",
          "2012Q4",
          "2013Q1",
          "2013Q2",
          "2013Q3",
          "2013Q4",
          "2014Q1",
          "2014Q2",
          "2014Q3",
          "2014Q4",
          "2015Q1",
          "2015Q2",
          "2015Q3",
          "2015Q4",
          "2016Q1",
          "2016Q2",
          "2016Q3",
          "2016Q4",
          "2017Q1",
          "2017Q2",
          "2017Q3",
          "2017Q4",
          "2018Q1",
          "2018Q2",
          "2018Q3",
          "2018Q4",
          "2019Q1",
          "2019Q2",
          "2019Q3",
          "2019Q4",
          "2020Q1",
          "2020Q2",
          "2020Q3",
          "2020Q4",
          "2021Q1",
          "2021Q2",
          "2021Q3",
          "2021Q4"
         ],
         "xaxis": "x2",
         "y": [
          0.05294271558523178,
          0.04924702271819115,
          0.04912946745753288,
          0.053023770451545715,
          0.05389958620071411,
          0.06909521669149399,
          0.05093063786625862,
          0.058530356734991074,
          0.04729635268449783,
          0.0575922429561615,
          0.04668988659977913,
          0.05270642414689064,
          0.05910932645201683,
          0.05306278541684151,
          0.07361345738172531,
          0.059787146747112274,
          0.06925274431705475,
          0.04665708169341087,
          0.04683013632893562,
          0.061267659068107605,
          0.03933107107877731,
          0.0564284473657608,
          0.05302737280726433,
          0.05971406027674675,
          0.04499584808945656,
          0.04877662658691406,
          0.07566248625516891,
          0.017570821568369865,
          0.0005404253606684506,
          0.044454555958509445,
          0.03166566789150238,
          0.039862144738435745,
          0.011545307002961636,
          0.03754911571741104,
          0.007352830842137337,
          0.05359703302383423,
          0.058263957500457764,
          0.04348476603627205,
          0.008115477859973907,
          0.030081504955887794,
          0.012968549504876137,
          0.04985511675477028,
          0.03996366262435913,
          0.06581680476665497
         ],
         "yaxis": "y2"
        },
        {
         "legendgroup": "2",
         "name": "Topic 7",
         "type": "scatter",
         "x": [
          "2011Q1",
          "2011Q2",
          "2011Q3",
          "2011Q4",
          "2012Q1",
          "2012Q2",
          "2012Q3",
          "2012Q4",
          "2013Q1",
          "2013Q2",
          "2013Q3",
          "2013Q4",
          "2014Q1",
          "2014Q2",
          "2014Q3",
          "2014Q4",
          "2015Q1",
          "2015Q2",
          "2015Q3",
          "2015Q4",
          "2016Q1",
          "2016Q2",
          "2016Q3",
          "2016Q4",
          "2017Q1",
          "2017Q2",
          "2017Q3",
          "2017Q4",
          "2018Q1",
          "2018Q2",
          "2018Q3",
          "2018Q4",
          "2019Q1",
          "2019Q2",
          "2019Q3",
          "2019Q4",
          "2020Q1",
          "2020Q2",
          "2020Q3",
          "2020Q4",
          "2021Q1",
          "2021Q2",
          "2021Q3",
          "2021Q4"
         ],
         "xaxis": "x2",
         "y": [
          0.0624142661690712,
          0.055926643311977386,
          0.059973493218421936,
          0.046865373849868774,
          0.051711879670619965,
          0.06239694729447365,
          0.054565947502851486,
          0.04370211437344551,
          0.055876586586236954,
          0.054832860827445984,
          0.04668988659977913,
          0.030560867860913277,
          0.048600323498249054,
          0.04888461157679558,
          0.05272329971194267,
          0.04830968379974365,
          0.04874536395072937,
          0.055591881275177,
          0.06256086379289627,
          0.08241981267929077,
          0.06597146391868591,
          0.05283713713288307,
          0.03573460131883621,
          0.037671443074941635,
          0.06546232104301453,
          0.06344866752624512,
          0.057609230279922485,
          0.01708296872675419,
          0.0006926578935235739,
          0.05261991545557976,
          0.051027122884988785,
          0.04263085499405861,
          0.010489563457667828,
          0.06143813580274582,
          0.009076735936105251,
          0.05136431008577347,
          0.05690661817789078,
          0.034012045711278915,
          0.009773577563464642,
          0.031636908650398254,
          0.006213278044015169,
          0.06650592386722565,
          0.050800152122974396,
          0.04790819063782692
         ],
         "yaxis": "y2"
        },
        {
         "legendgroup": "2",
         "name": "Topic 12",
         "type": "scatter",
         "x": [
          "2011Q1",
          "2011Q2",
          "2011Q3",
          "2011Q4",
          "2012Q1",
          "2012Q2",
          "2012Q3",
          "2012Q4",
          "2013Q1",
          "2013Q2",
          "2013Q3",
          "2013Q4",
          "2014Q1",
          "2014Q2",
          "2014Q3",
          "2014Q4",
          "2015Q1",
          "2015Q2",
          "2015Q3",
          "2015Q4",
          "2016Q1",
          "2016Q2",
          "2016Q3",
          "2016Q4",
          "2017Q1",
          "2017Q2",
          "2017Q3",
          "2017Q4",
          "2018Q1",
          "2018Q2",
          "2018Q3",
          "2018Q4",
          "2019Q1",
          "2019Q2",
          "2019Q3",
          "2019Q4",
          "2020Q1",
          "2020Q2",
          "2020Q3",
          "2020Q4",
          "2021Q1",
          "2021Q2",
          "2021Q3",
          "2021Q4"
         ],
         "xaxis": "x2",
         "y": [
          0.05686197802424431,
          0.0510687381029129,
          0.045213568955659866,
          0.06226135790348053,
          0.04350798577070236,
          0.04487839713692665,
          0.05202123150229454,
          0.04782107099890709,
          0.04659592732787132,
          0.06862977147102356,
          0.05674230307340622,
          0.06342953443527222,
          0.049971066415309906,
          0.0476129949092865,
          0.037786293774843216,
          0.052185192704200745,
          0.08204106241464615,
          0.04578539356589317,
          0.05020100623369217,
          0.06347484141588211,
          0.04881942644715309,
          0.054782427847385406,
          0.03141140937805176,
          0.047927383333444595,
          0.033445462584495544,
          0.056798748672008514,
          0.05288100242614746,
          0.019684847444295883,
          0.0006165415979921818,
          0.037105731666088104,
          0.04289531335234642,
          0.029151609167456627,
          0.006945282220840454,
          0.055442821234464645,
          0.006378449499607086,
          0.045958779752254486,
          0.051137909293174744,
          0.036305442452430725,
          0.005996794439852238,
          0.02790393866598606,
          0.008255569264292717,
          0.041421592235565186,
          0.060870420187711716,
          0.04547092318534851
         ],
         "yaxis": "y2"
        },
        {
         "legendgroup": "2",
         "name": "Topic 13",
         "type": "scatter",
         "x": [
          "2011Q1",
          "2011Q2",
          "2011Q3",
          "2011Q4",
          "2012Q1",
          "2012Q2",
          "2012Q3",
          "2012Q4",
          "2013Q1",
          "2013Q2",
          "2013Q3",
          "2013Q4",
          "2014Q1",
          "2014Q2",
          "2014Q3",
          "2014Q4",
          "2015Q1",
          "2015Q2",
          "2015Q3",
          "2015Q4",
          "2016Q1",
          "2016Q2",
          "2016Q3",
          "2016Q4",
          "2017Q1",
          "2017Q2",
          "2017Q3",
          "2017Q4",
          "2018Q1",
          "2018Q2",
          "2018Q3",
          "2018Q4",
          "2019Q1",
          "2019Q2",
          "2019Q3",
          "2019Q4",
          "2020Q1",
          "2020Q2",
          "2020Q3",
          "2020Q4",
          "2021Q1",
          "2021Q2",
          "2021Q3",
          "2021Q4"
         ],
         "xaxis": "x2",
         "y": [
          0.06274086982011795,
          0.05774835869669914,
          0.08377010375261307,
          0.06472471356391907,
          0.04979763925075531,
          0.05672918260097504,
          0.05093063786625862,
          0.054411403834819794,
          0.07023534923791885,
          0.05838063731789589,
          0.06392259895801544,
          0.06016597896814346,
          0.04342197626829147,
          0.054879382252693176,
          0.05174914747476578,
          0.04547758400440216,
          0.03929814323782921,
          0.058642785996198654,
          0.043708957731723785,
          0.0496799610555172,
          0.07418254017829895,
          0.06735201179981232,
          0.11559990048408508,
          0.08986958116292953,
          0.06292933970689774,
          0.05510988086462021,
          0.08103547990322113,
          0.039280254393815994,
          0.001149355317465961,
          0.04095511510968208,
          0.05015585944056511,
          0.041319362819194794,
          0.005889539141207933,
          0.04548138007521629,
          0.004429687280207872,
          0.0412583164870739,
          0.04344629496335983,
          0.046476151794195175,
          0.0077470107935369015,
          0.033710777759552,
          0.008334118872880936,
          0.03990788012742996,
          0.06273122876882553,
          0.03646363317966461
         ],
         "yaxis": "y2"
        },
        {
         "legendgroup": "2",
         "name": "Topic 15",
         "type": "scatter",
         "x": [
          "2011Q1",
          "2011Q2",
          "2011Q3",
          "2011Q4",
          "2012Q1",
          "2012Q2",
          "2012Q3",
          "2012Q4",
          "2013Q1",
          "2013Q2",
          "2013Q3",
          "2013Q4",
          "2014Q1",
          "2014Q2",
          "2014Q3",
          "2014Q4",
          "2015Q1",
          "2015Q2",
          "2015Q3",
          "2015Q4",
          "2016Q1",
          "2016Q2",
          "2016Q3",
          "2016Q4",
          "2017Q1",
          "2017Q2",
          "2017Q3",
          "2017Q4",
          "2018Q1",
          "2018Q2",
          "2018Q3",
          "2018Q4",
          "2019Q1",
          "2019Q2",
          "2019Q3",
          "2019Q4",
          "2020Q1",
          "2020Q2",
          "2020Q3",
          "2020Q4",
          "2021Q1",
          "2021Q2",
          "2021Q3",
          "2021Q4"
         ],
         "xaxis": "x2",
         "y": [
          0.047717031091451645,
          0.06685692816972733,
          0.055153924971818924,
          0.05918216332793236,
          0.058274995535612106,
          0.04281739145517349,
          0.05202123150229454,
          0.048644863069057465,
          0.0667332112789154,
          0.0532560721039772,
          0.06787176430225372,
          0.0534057579934597,
          0.0749489814043045,
          0.05905755236744881,
          0.05391392856836319,
          0.05755127966403961,
          0.04217839241027832,
          0.04055526852607727,
          0.04558166489005089,
          0.06972852349281311,
          0.11213597655296326,
          0.06331178545951843,
          0.05439259484410286,
          0.04149828851222992,
          0.036079760640859604,
          0.08023179322481155,
          0.0669582411646843,
          0.6368182301521301,
          0.9865502715110779,
          0.15946948528289795,
          0.16429166495800018,
          0.03651054948568344,
          0.023233892396092415,
          0.061161428689956665,
          0.013723785988986492,
          0.06229288503527641,
          0.03914804384112358,
          0.031818363815546036,
          0.00544409453868866,
          0.029770424589514732,
          0.005820529535412788,
          0.03331243246793747,
          0.047844745218753815,
          0.07175101339817047
         ],
         "yaxis": "y2"
        },
        {
         "legendgroup": "3",
         "name": "Topic 3",
         "type": "scatter",
         "x": [
          "2011Q1",
          "2011Q2",
          "2011Q3",
          "2011Q4",
          "2012Q1",
          "2012Q2",
          "2012Q3",
          "2012Q4",
          "2013Q1",
          "2013Q2",
          "2013Q3",
          "2013Q4",
          "2014Q1",
          "2014Q2",
          "2014Q3",
          "2014Q4",
          "2015Q1",
          "2015Q2",
          "2015Q3",
          "2015Q4",
          "2016Q1",
          "2016Q2",
          "2016Q3",
          "2016Q4",
          "2017Q1",
          "2017Q2",
          "2017Q3",
          "2017Q4",
          "2018Q1",
          "2018Q2",
          "2018Q3",
          "2018Q4",
          "2019Q1",
          "2019Q2",
          "2019Q3",
          "2019Q4",
          "2020Q1",
          "2020Q2",
          "2020Q3",
          "2020Q4",
          "2021Q1",
          "2021Q2",
          "2021Q3",
          "2021Q4"
         ],
         "xaxis": "x3",
         "y": [
          0.054902344942092896,
          0.04256740212440491,
          0.05123802646994591,
          0.04932873323559761,
          0.054173048585653305,
          0.05106141418218613,
          0.06910716742277145,
          0.07129912078380585,
          0.07461301982402802,
          0.06626458466053009,
          0.06679471582174301,
          0.06576064229011536,
          0.05804319679737091,
          0.05451606214046478,
          0.047527819871902466,
          0.06604757905006409,
          0.07351551949977875,
          0.09503574669361115,
          0.07816674560308456,
          0.04802457615733147,
          0.03805379197001457,
          0.04759981110692024,
          0.0684998482465744,
          0.04455976188182831,
          0.051176317036151886,
          0.06080980971455574,
          0.043746910989284515,
          0.014155853539705276,
          0.0008448903681710362,
          0.04527109116315842,
          0.03660283982753754,
          0.08489012718200684,
          0.0061157699674367905,
          0.04714161902666092,
          0.0057038781233131886,
          0.06746339052915573,
          0.05939507484436035,
          0.03919711336493492,
          0.009497227147221565,
          0.04179887846112251,
          0.006920224986970425,
          0.04671957716345787,
          0.0476258248090744,
          0.03943074122071266
         ],
         "yaxis": "y3"
        },
        {
         "legendgroup": "3",
         "name": "Topic 4",
         "type": "scatter",
         "x": [
          "2011Q1",
          "2011Q2",
          "2011Q3",
          "2011Q4",
          "2012Q1",
          "2012Q2",
          "2012Q3",
          "2012Q4",
          "2013Q1",
          "2013Q2",
          "2013Q3",
          "2013Q4",
          "2014Q1",
          "2014Q2",
          "2014Q3",
          "2014Q4",
          "2015Q1",
          "2015Q2",
          "2015Q3",
          "2015Q4",
          "2016Q1",
          "2016Q2",
          "2016Q3",
          "2016Q4",
          "2017Q1",
          "2017Q2",
          "2017Q3",
          "2017Q4",
          "2018Q1",
          "2018Q2",
          "2018Q3",
          "2018Q4",
          "2019Q1",
          "2019Q2",
          "2019Q3",
          "2019Q4",
          "2020Q1",
          "2020Q2",
          "2020Q3",
          "2020Q4",
          "2021Q1",
          "2021Q2",
          "2021Q3",
          "2021Q4"
         ],
         "xaxis": "x3",
         "y": [
          0.05261610820889473,
          0.04985425993800163,
          0.06358817219734192,
          0.065340556204319,
          0.054173048585653305,
          0.05054616555571556,
          0.05965537577867508,
          0.06594447791576385,
          0.09299922734498978,
          0.05365027114748955,
          0.05961441993713379,
          0.05107464641332626,
          0.0668768510222435,
          0.08103837072849274,
          0.06646966934204102,
          0.04622287303209305,
          0.07662618905305862,
          0.056463565677404404,
          0.05519488826394081,
          0.05372646078467369,
          0.03066382184624672,
          0.05164003372192383,
          0.05154838785529137,
          0.06889848411083221,
          0.08886704593896866,
          0.08054845780134201,
          0.07168647646903992,
          0.02521384321153164,
          0.0008448903681710362,
          0.03360629081726074,
          0.08907239139080048,
          0.05866023525595665,
          0.007623974233865738,
          0.05424375832080841,
          0.0057038781233131886,
          0.04031822457909584,
          0.039600491523742676,
          0.028428127989172935,
          0.007010077591985464,
          0.03412555530667305,
          0.007391523104161024,
          0.050179485231637955,
          0.047844745218753815,
          0.054054342210292816
         ],
         "yaxis": "y3"
        },
        {
         "legendgroup": "3",
         "name": "Topic 8",
         "type": "scatter",
         "x": [
          "2011Q1",
          "2011Q2",
          "2011Q3",
          "2011Q4",
          "2012Q1",
          "2012Q2",
          "2012Q3",
          "2012Q4",
          "2013Q1",
          "2013Q2",
          "2013Q3",
          "2013Q4",
          "2014Q1",
          "2014Q2",
          "2014Q3",
          "2014Q4",
          "2015Q1",
          "2015Q2",
          "2015Q3",
          "2015Q4",
          "2016Q1",
          "2016Q2",
          "2016Q3",
          "2016Q4",
          "2017Q1",
          "2017Q2",
          "2017Q3",
          "2017Q4",
          "2018Q1",
          "2018Q2",
          "2018Q3",
          "2018Q4",
          "2019Q1",
          "2019Q2",
          "2019Q3",
          "2019Q4",
          "2020Q1",
          "2020Q2",
          "2020Q3",
          "2020Q4",
          "2021Q1",
          "2021Q2",
          "2021Q3",
          "2021Q4"
         ],
         "xaxis": "x3",
         "y": [
          0.06535371392965317,
          0.06260626763105392,
          0.059973493218421936,
          0.0437861792743206,
          0.059095386415719986,
          0.05363767221570015,
          0.04584120959043503,
          0.06141362711787224,
          0.03871611878275871,
          0.05601545423269272,
          0.054947227239608765,
          0.08114597946405411,
          0.06809528172016144,
          0.07976675033569336,
          0.10576048493385315,
          0.09064213931560516,
          0.04678679257631302,
          0.07128226011991501,
          0.06393417716026306,
          0.05722116306424141,
          0.07098934054374695,
          0.04834799841046333,
          0.09261871874332428,
          0.05190730094909668,
          0.10264645516872406,
          0.0512043759226799,
          0.052021320909261703,
          0.027083944529294968,
          0.0007687741308473051,
          0.09391330927610397,
          0.05635152384638786,
          0.03796776384115219,
          0.0055878981947898865,
          0.07020051777362823,
          0.005479020997881889,
          0.0775693878531456,
          0.06674735248088837,
          0.10221561789512634,
          0.006641610991209745,
          0.03142952173948288,
          0.005113582592457533,
          0.047368310391902924,
          0.04642177000641823,
          0.07090327143669128
         ],
         "yaxis": "y3"
        }
       ],
       "layout": {
        "annotations": [
         {
          "font": {
           "size": 16
          },
          "showarrow": false,
          "text": "2019-2021 common topics",
          "x": 0.5,
          "xanchor": "center",
          "xref": "paper",
          "y": 0.9999999999999999,
          "yanchor": "bottom",
          "yref": "paper"
         },
         {
          "font": {
           "size": 16
          },
          "showarrow": false,
          "text": "2015-2018 common topics",
          "x": 0.5,
          "xanchor": "center",
          "xref": "paper",
          "y": 0.6166666666666666,
          "yanchor": "bottom",
          "yref": "paper"
         },
         {
          "font": {
           "size": 16
          },
          "showarrow": false,
          "text": "2011-2014 common topics",
          "x": 0.5,
          "xanchor": "center",
          "xref": "paper",
          "y": 0.2333333333333333,
          "yanchor": "bottom",
          "yref": "paper"
         }
        ],
        "height": 800,
        "legend": {
         "tracegroupgap": 180
        },
        "template": {
         "data": {
          "bar": [
           {
            "error_x": {
             "color": "#2a3f5f"
            },
            "error_y": {
             "color": "#2a3f5f"
            },
            "marker": {
             "line": {
              "color": "#E5ECF6",
              "width": 0.5
             },
             "pattern": {
              "fillmode": "overlay",
              "size": 10,
              "solidity": 0.2
             }
            },
            "type": "bar"
           }
          ],
          "barpolar": [
           {
            "marker": {
             "line": {
              "color": "#E5ECF6",
              "width": 0.5
             },
             "pattern": {
              "fillmode": "overlay",
              "size": 10,
              "solidity": 0.2
             }
            },
            "type": "barpolar"
           }
          ],
          "carpet": [
           {
            "aaxis": {
             "endlinecolor": "#2a3f5f",
             "gridcolor": "white",
             "linecolor": "white",
             "minorgridcolor": "white",
             "startlinecolor": "#2a3f5f"
            },
            "baxis": {
             "endlinecolor": "#2a3f5f",
             "gridcolor": "white",
             "linecolor": "white",
             "minorgridcolor": "white",
             "startlinecolor": "#2a3f5f"
            },
            "type": "carpet"
           }
          ],
          "choropleth": [
           {
            "colorbar": {
             "outlinewidth": 0,
             "ticks": ""
            },
            "type": "choropleth"
           }
          ],
          "contour": [
           {
            "colorbar": {
             "outlinewidth": 0,
             "ticks": ""
            },
            "colorscale": [
             [
              0,
              "#0d0887"
             ],
             [
              0.1111111111111111,
              "#46039f"
             ],
             [
              0.2222222222222222,
              "#7201a8"
             ],
             [
              0.3333333333333333,
              "#9c179e"
             ],
             [
              0.4444444444444444,
              "#bd3786"
             ],
             [
              0.5555555555555556,
              "#d8576b"
             ],
             [
              0.6666666666666666,
              "#ed7953"
             ],
             [
              0.7777777777777778,
              "#fb9f3a"
             ],
             [
              0.8888888888888888,
              "#fdca26"
             ],
             [
              1,
              "#f0f921"
             ]
            ],
            "type": "contour"
           }
          ],
          "contourcarpet": [
           {
            "colorbar": {
             "outlinewidth": 0,
             "ticks": ""
            },
            "type": "contourcarpet"
           }
          ],
          "heatmap": [
           {
            "colorbar": {
             "outlinewidth": 0,
             "ticks": ""
            },
            "colorscale": [
             [
              0,
              "#0d0887"
             ],
             [
              0.1111111111111111,
              "#46039f"
             ],
             [
              0.2222222222222222,
              "#7201a8"
             ],
             [
              0.3333333333333333,
              "#9c179e"
             ],
             [
              0.4444444444444444,
              "#bd3786"
             ],
             [
              0.5555555555555556,
              "#d8576b"
             ],
             [
              0.6666666666666666,
              "#ed7953"
             ],
             [
              0.7777777777777778,
              "#fb9f3a"
             ],
             [
              0.8888888888888888,
              "#fdca26"
             ],
             [
              1,
              "#f0f921"
             ]
            ],
            "type": "heatmap"
           }
          ],
          "heatmapgl": [
           {
            "colorbar": {
             "outlinewidth": 0,
             "ticks": ""
            },
            "colorscale": [
             [
              0,
              "#0d0887"
             ],
             [
              0.1111111111111111,
              "#46039f"
             ],
             [
              0.2222222222222222,
              "#7201a8"
             ],
             [
              0.3333333333333333,
              "#9c179e"
             ],
             [
              0.4444444444444444,
              "#bd3786"
             ],
             [
              0.5555555555555556,
              "#d8576b"
             ],
             [
              0.6666666666666666,
              "#ed7953"
             ],
             [
              0.7777777777777778,
              "#fb9f3a"
             ],
             [
              0.8888888888888888,
              "#fdca26"
             ],
             [
              1,
              "#f0f921"
             ]
            ],
            "type": "heatmapgl"
           }
          ],
          "histogram": [
           {
            "marker": {
             "pattern": {
              "fillmode": "overlay",
              "size": 10,
              "solidity": 0.2
             }
            },
            "type": "histogram"
           }
          ],
          "histogram2d": [
           {
            "colorbar": {
             "outlinewidth": 0,
             "ticks": ""
            },
            "colorscale": [
             [
              0,
              "#0d0887"
             ],
             [
              0.1111111111111111,
              "#46039f"
             ],
             [
              0.2222222222222222,
              "#7201a8"
             ],
             [
              0.3333333333333333,
              "#9c179e"
             ],
             [
              0.4444444444444444,
              "#bd3786"
             ],
             [
              0.5555555555555556,
              "#d8576b"
             ],
             [
              0.6666666666666666,
              "#ed7953"
             ],
             [
              0.7777777777777778,
              "#fb9f3a"
             ],
             [
              0.8888888888888888,
              "#fdca26"
             ],
             [
              1,
              "#f0f921"
             ]
            ],
            "type": "histogram2d"
           }
          ],
          "histogram2dcontour": [
           {
            "colorbar": {
             "outlinewidth": 0,
             "ticks": ""
            },
            "colorscale": [
             [
              0,
              "#0d0887"
             ],
             [
              0.1111111111111111,
              "#46039f"
             ],
             [
              0.2222222222222222,
              "#7201a8"
             ],
             [
              0.3333333333333333,
              "#9c179e"
             ],
             [
              0.4444444444444444,
              "#bd3786"
             ],
             [
              0.5555555555555556,
              "#d8576b"
             ],
             [
              0.6666666666666666,
              "#ed7953"
             ],
             [
              0.7777777777777778,
              "#fb9f3a"
             ],
             [
              0.8888888888888888,
              "#fdca26"
             ],
             [
              1,
              "#f0f921"
             ]
            ],
            "type": "histogram2dcontour"
           }
          ],
          "mesh3d": [
           {
            "colorbar": {
             "outlinewidth": 0,
             "ticks": ""
            },
            "type": "mesh3d"
           }
          ],
          "parcoords": [
           {
            "line": {
             "colorbar": {
              "outlinewidth": 0,
              "ticks": ""
             }
            },
            "type": "parcoords"
           }
          ],
          "pie": [
           {
            "automargin": true,
            "type": "pie"
           }
          ],
          "scatter": [
           {
            "fillpattern": {
             "fillmode": "overlay",
             "size": 10,
             "solidity": 0.2
            },
            "type": "scatter"
           }
          ],
          "scatter3d": [
           {
            "line": {
             "colorbar": {
              "outlinewidth": 0,
              "ticks": ""
             }
            },
            "marker": {
             "colorbar": {
              "outlinewidth": 0,
              "ticks": ""
             }
            },
            "type": "scatter3d"
           }
          ],
          "scattercarpet": [
           {
            "marker": {
             "colorbar": {
              "outlinewidth": 0,
              "ticks": ""
             }
            },
            "type": "scattercarpet"
           }
          ],
          "scattergeo": [
           {
            "marker": {
             "colorbar": {
              "outlinewidth": 0,
              "ticks": ""
             }
            },
            "type": "scattergeo"
           }
          ],
          "scattergl": [
           {
            "marker": {
             "colorbar": {
              "outlinewidth": 0,
              "ticks": ""
             }
            },
            "type": "scattergl"
           }
          ],
          "scattermapbox": [
           {
            "marker": {
             "colorbar": {
              "outlinewidth": 0,
              "ticks": ""
             }
            },
            "type": "scattermapbox"
           }
          ],
          "scatterpolar": [
           {
            "marker": {
             "colorbar": {
              "outlinewidth": 0,
              "ticks": ""
             }
            },
            "type": "scatterpolar"
           }
          ],
          "scatterpolargl": [
           {
            "marker": {
             "colorbar": {
              "outlinewidth": 0,
              "ticks": ""
             }
            },
            "type": "scatterpolargl"
           }
          ],
          "scatterternary": [
           {
            "marker": {
             "colorbar": {
              "outlinewidth": 0,
              "ticks": ""
             }
            },
            "type": "scatterternary"
           }
          ],
          "surface": [
           {
            "colorbar": {
             "outlinewidth": 0,
             "ticks": ""
            },
            "colorscale": [
             [
              0,
              "#0d0887"
             ],
             [
              0.1111111111111111,
              "#46039f"
             ],
             [
              0.2222222222222222,
              "#7201a8"
             ],
             [
              0.3333333333333333,
              "#9c179e"
             ],
             [
              0.4444444444444444,
              "#bd3786"
             ],
             [
              0.5555555555555556,
              "#d8576b"
             ],
             [
              0.6666666666666666,
              "#ed7953"
             ],
             [
              0.7777777777777778,
              "#fb9f3a"
             ],
             [
              0.8888888888888888,
              "#fdca26"
             ],
             [
              1,
              "#f0f921"
             ]
            ],
            "type": "surface"
           }
          ],
          "table": [
           {
            "cells": {
             "fill": {
              "color": "#EBF0F8"
             },
             "line": {
              "color": "white"
             }
            },
            "header": {
             "fill": {
              "color": "#C8D4E3"
             },
             "line": {
              "color": "white"
             }
            },
            "type": "table"
           }
          ]
         },
         "layout": {
          "annotationdefaults": {
           "arrowcolor": "#2a3f5f",
           "arrowhead": 0,
           "arrowwidth": 1
          },
          "autotypenumbers": "strict",
          "coloraxis": {
           "colorbar": {
            "outlinewidth": 0,
            "ticks": ""
           }
          },
          "colorscale": {
           "diverging": [
            [
             0,
             "#8e0152"
            ],
            [
             0.1,
             "#c51b7d"
            ],
            [
             0.2,
             "#de77ae"
            ],
            [
             0.3,
             "#f1b6da"
            ],
            [
             0.4,
             "#fde0ef"
            ],
            [
             0.5,
             "#f7f7f7"
            ],
            [
             0.6,
             "#e6f5d0"
            ],
            [
             0.7,
             "#b8e186"
            ],
            [
             0.8,
             "#7fbc41"
            ],
            [
             0.9,
             "#4d9221"
            ],
            [
             1,
             "#276419"
            ]
           ],
           "sequential": [
            [
             0,
             "#0d0887"
            ],
            [
             0.1111111111111111,
             "#46039f"
            ],
            [
             0.2222222222222222,
             "#7201a8"
            ],
            [
             0.3333333333333333,
             "#9c179e"
            ],
            [
             0.4444444444444444,
             "#bd3786"
            ],
            [
             0.5555555555555556,
             "#d8576b"
            ],
            [
             0.6666666666666666,
             "#ed7953"
            ],
            [
             0.7777777777777778,
             "#fb9f3a"
            ],
            [
             0.8888888888888888,
             "#fdca26"
            ],
            [
             1,
             "#f0f921"
            ]
           ],
           "sequentialminus": [
            [
             0,
             "#0d0887"
            ],
            [
             0.1111111111111111,
             "#46039f"
            ],
            [
             0.2222222222222222,
             "#7201a8"
            ],
            [
             0.3333333333333333,
             "#9c179e"
            ],
            [
             0.4444444444444444,
             "#bd3786"
            ],
            [
             0.5555555555555556,
             "#d8576b"
            ],
            [
             0.6666666666666666,
             "#ed7953"
            ],
            [
             0.7777777777777778,
             "#fb9f3a"
            ],
            [
             0.8888888888888888,
             "#fdca26"
            ],
            [
             1,
             "#f0f921"
            ]
           ]
          },
          "colorway": [
           "#636efa",
           "#EF553B",
           "#00cc96",
           "#ab63fa",
           "#FFA15A",
           "#19d3f3",
           "#FF6692",
           "#B6E880",
           "#FF97FF",
           "#FECB52"
          ],
          "font": {
           "color": "#2a3f5f"
          },
          "geo": {
           "bgcolor": "white",
           "lakecolor": "white",
           "landcolor": "#E5ECF6",
           "showlakes": true,
           "showland": true,
           "subunitcolor": "white"
          },
          "hoverlabel": {
           "align": "left"
          },
          "hovermode": "closest",
          "mapbox": {
           "style": "light"
          },
          "paper_bgcolor": "white",
          "plot_bgcolor": "#E5ECF6",
          "polar": {
           "angularaxis": {
            "gridcolor": "white",
            "linecolor": "white",
            "ticks": ""
           },
           "bgcolor": "#E5ECF6",
           "radialaxis": {
            "gridcolor": "white",
            "linecolor": "white",
            "ticks": ""
           }
          },
          "scene": {
           "xaxis": {
            "backgroundcolor": "#E5ECF6",
            "gridcolor": "white",
            "gridwidth": 2,
            "linecolor": "white",
            "showbackground": true,
            "ticks": "",
            "zerolinecolor": "white"
           },
           "yaxis": {
            "backgroundcolor": "#E5ECF6",
            "gridcolor": "white",
            "gridwidth": 2,
            "linecolor": "white",
            "showbackground": true,
            "ticks": "",
            "zerolinecolor": "white"
           },
           "zaxis": {
            "backgroundcolor": "#E5ECF6",
            "gridcolor": "white",
            "gridwidth": 2,
            "linecolor": "white",
            "showbackground": true,
            "ticks": "",
            "zerolinecolor": "white"
           }
          },
          "shapedefaults": {
           "line": {
            "color": "#2a3f5f"
           }
          },
          "ternary": {
           "aaxis": {
            "gridcolor": "white",
            "linecolor": "white",
            "ticks": ""
           },
           "baxis": {
            "gridcolor": "white",
            "linecolor": "white",
            "ticks": ""
           },
           "bgcolor": "#E5ECF6",
           "caxis": {
            "gridcolor": "white",
            "linecolor": "white",
            "ticks": ""
           }
          },
          "title": {
           "x": 0.05
          },
          "xaxis": {
           "automargin": true,
           "gridcolor": "white",
           "linecolor": "white",
           "ticks": "",
           "title": {
            "standoff": 15
           },
           "zerolinecolor": "white",
           "zerolinewidth": 2
          },
          "yaxis": {
           "automargin": true,
           "gridcolor": "white",
           "linecolor": "white",
           "ticks": "",
           "title": {
            "standoff": 15
           },
           "zerolinecolor": "white",
           "zerolinewidth": 2
          }
         }
        },
        "title": {
         "text": "Presention Section Topics Probability Across Time"
        },
        "width": 1000,
        "xaxis": {
         "anchor": "y",
         "domain": [
          0,
          1
         ]
        },
        "xaxis2": {
         "anchor": "y2",
         "domain": [
          0,
          1
         ]
        },
        "xaxis3": {
         "anchor": "y3",
         "domain": [
          0,
          1
         ],
         "title": {
          "text": "TimePoint"
         }
        },
        "yaxis": {
         "anchor": "x",
         "domain": [
          0.7666666666666666,
          0.9999999999999999
         ],
         "title": {
          "text": "Probability"
         }
        },
        "yaxis2": {
         "anchor": "x2",
         "domain": [
          0.3833333333333333,
          0.6166666666666666
         ],
         "title": {
          "text": "Probability"
         }
        },
        "yaxis3": {
         "anchor": "x3",
         "domain": [
          0,
          0.2333333333333333
         ],
         "title": {
          "text": "Probability"
         }
        }
       }
      }
     },
     "metadata": {},
     "output_type": "display_data"
    }
   ],
   "source": [
    "import plotly.graph_objects as go\n",
    "from plotly.subplots import make_subplots\n",
    "import plotly.figure_factory as ff\n",
    "td_plot = td.copy()\n",
    "td_plot[\"timepoint\"] = dtm_df[\"year_quater\"].astype(str)\n",
    "# td_plot[\"timepoint\"] replace \"-\" to \"Q\"\n",
    "td_plot[\"timepoint\"] = td_plot[\"timepoint\"].str.replace(\"-\", \"Q\")\n",
    "\n",
    "fig = make_subplots(\n",
    "    rows=3, cols=1,\n",
    "    column_widths=[1],\n",
    "    row_heights=[2., 2., 2.],\n",
    "    specs=[\n",
    "        [{\"type\": \"scatter\"}],\n",
    "        [{\"type\": \"scatter\"}],\n",
    "        [{\"type\": \"scatter\"}]\n",
    "        ], \n",
    "    subplot_titles=(\"2019-2021 common topics\", \"2015-2018 common topics\", \"2011-2014 common topics\"),\n",
    "    vertical_spacing=0.15,\n",
    "    horizontal_spacing=0.1,\n",
    "        )\n",
    "\n",
    "\n",
    "# tp 5, 6, 9, 10, 11, 14, 16, 17, 18\n",
    "recent_list = [4,5,8,9,13,15,16,17] # 10,\n",
    "for k in recent_list:\n",
    "    fig.add_trace(go.Scatter(\n",
    "        x=td_plot[\"timepoint\"].astype(str),\n",
    "        y=td_plot[\"topic_{}\".format(k + 1)],\n",
    "        name=\"Topic {}\".format(k + 1),\n",
    "        legendgroup='1',\n",
    "        ), row=1, col=1)\n",
    "\n",
    "# tp 1, 2, 7, 12, 13, 15, \n",
    "middle_list = [0,1,6,11,12,14]\n",
    "for k in middle_list:\n",
    "    fig.add_trace(go.Scatter(\n",
    "        x=td_plot[\"timepoint\"].astype(str),\n",
    "        y=td_plot[\"topic_{}\".format(k + 1)],\n",
    "        name=\"Topic {}\".format(k + 1), \n",
    "        legendgroup='2',\n",
    "        ), row=2, col=1)\n",
    "\n",
    "# early stage\n",
    "# tp 3, 4, 8, \n",
    "early_list = [2,3,7]\n",
    "for k in early_list:\n",
    "    fig.add_trace(go.Scatter(\n",
    "        x=td_plot[\"timepoint\"].astype(str),\n",
    "        y=td_plot[\"topic_{}\".format(k + 1)],\n",
    "        name=\"Topic {}\".format(k + 1), \n",
    "        legendgroup='3',\n",
    "        ), row=3, col=1)\n",
    "\n",
    "fig.update_layout(\n",
    "    height=800, \n",
    "    width=1000, \n",
    "    title_text=\"Presention Section Topics Probability Across Time\", \n",
    "    xaxis3_title = 'TimePoint',\n",
    "    yaxis1_title = 'Probability',\n",
    "    yaxis2_title = 'Probability',\n",
    "    yaxis3_title = 'Probability',\n",
    "    legend_tracegroupgap = 180,\n",
    "    # yaxis1_range=[0.0, 1.0],\n",
    "    # # yaxis2_range=[50, 90],\n",
    "    # # yaxis3_range=[50, 90]\n",
    "    )"
   ]
  },
  {
   "cell_type": "code",
   "execution_count": 107,
   "metadata": {},
   "outputs": [
    {
     "data": {
      "application/vnd.plotly.v1+json": {
       "config": {
        "plotlyServerURL": "https://plot.ly"
       },
       "data": [
        {
         "name": "Topic 9",
         "orientation": "h",
         "type": "bar",
         "x": [
          0.00155,
          0.00155,
          0.00155,
          0.00159,
          0.00164,
          0.00164,
          0.00168,
          0.00169,
          0.00169,
          0.00172,
          0.00172,
          0.00173,
          0.00182,
          0.00186,
          0.00187,
          0.00195,
          0.00199,
          0.00208,
          0.00208,
          0.00212,
          0.00217,
          0.00226,
          0.0023,
          0.0023,
          0.0023,
          0.00244,
          0.00249,
          0.00271,
          0.00324,
          0.00348
         ],
         "xaxis": "x",
         "y": [
          "pace",
          "diﬀerent",
          "cell",
          "advice",
          "behavior",
          "mortality",
          "cover",
          "sensitivity",
          "inflation",
          "vitality",
          "resince",
          "insight",
          "merger",
          "lapse",
          "strategy",
          "eﬀect",
          "valuation",
          "ivery",
          "variance",
          "mandate",
          "decade",
          "infrastructure",
          "surplus",
          "idea",
          "inflow",
          "heritage",
          "journey",
          "care",
          "transfer",
          "demerger"
         ],
         "yaxis": "y"
        },
        {
         "name": "Topic 10",
         "orientation": "h",
         "type": "bar",
         "x": [
          0.00156,
          0.00156,
          0.00156,
          0.00156,
          0.00161,
          0.00165,
          0.00166,
          0.00166,
          0.0017,
          0.00175,
          0.00175,
          0.00175,
          0.00175,
          0.00179,
          0.00184,
          0.00184,
          0.00188,
          0.00189,
          0.00198,
          0.00202,
          0.00212,
          0.00212,
          0.0022,
          0.00221,
          0.00226,
          0.0023,
          0.0024,
          0.00314,
          0.00315,
          0.00318
         ],
         "xaxis": "x2",
         "y": [
          "regard",
          "news",
          "mark",
          "injury",
          "stuff",
          "reform",
          "proﬁtability",
          "sensitivity",
          "inflow",
          "card",
          "production",
          "footprint",
          "center",
          "advice",
          "amortization",
          "mortality",
          "appetite",
          "diﬀerent",
          "policyhol",
          "surplus",
          "ivery",
          "treaty",
          "opioid",
          "variance",
          "wildfire",
          "eﬀect",
          "network",
          "ytd",
          "description",
          "px"
         ],
         "yaxis": "y2"
        },
        {
         "name": "Topic 14",
         "orientation": "h",
         "type": "bar",
         "x": [
          0.00145,
          0.00149,
          0.00149,
          0.00149,
          0.00149,
          0.00153,
          0.00154,
          0.00154,
          0.00168,
          0.00177,
          0.00177,
          0.00177,
          0.00181,
          0.00182,
          0.00186,
          0.00191,
          0.00192,
          0.00196,
          0.00201,
          0.00219,
          0.00228,
          0.00238,
          0.00247,
          0.00248,
          0.00252,
          0.00289,
          0.00309,
          0.00355,
          0.00355,
          0.0099
         ],
         "xaxis": "x3",
         "y": [
          "journey",
          "diﬀerent",
          "spa",
          "interruption",
          "mail",
          "face",
          "eﬃciency",
          "treaty",
          "sustainability",
          "payout",
          "parcel",
          "purpose",
          "oﬀer",
          "sensitivity",
          "son",
          "ivery",
          "iver",
          "prut",
          "travel",
          "adviser",
          "evolution",
          "inflation",
          "mortality",
          "eﬀect",
          "crisis",
          "wave",
          "resince",
          "lockdown",
          "network",
          "pandemic"
         ],
         "yaxis": "y3"
        },
        {
         "name": "Topic 16",
         "orientation": "h",
         "type": "bar",
         "x": [
          0.00171,
          0.00171,
          0.00171,
          0.00171,
          0.00171,
          0.00171,
          0.00191,
          0.00191,
          0.00191,
          0.00191,
          0.00191,
          0.00192,
          0.00192,
          0.00212,
          0.00213,
          0.00213,
          0.00233,
          0.00233,
          0.00253,
          0.00253,
          0.00274,
          0.00274,
          0.00358,
          0.00379,
          0.00399,
          0.00461,
          0.00483,
          0.00586,
          0.01294,
          0.01668
         ],
         "xaxis": "x4",
         "y": [
          "exclusion",
          "problem",
          "circumstance",
          "stress",
          "prut",
          "safety",
          "resse",
          "swap",
          "face",
          "production",
          "topic",
          "cancellation",
          "hedge",
          "ﬂow",
          "scenario",
          "sensitivity",
          "inflation",
          "compensation",
          "comp",
          "air",
          "mortality",
          "commie",
          "travel",
          "virus",
          "lockdown",
          "damage",
          "interruption",
          "meeting",
          "pandemic",
          "crisis"
         ],
         "yaxis": "y4"
        },
        {
         "name": "Topic 17",
         "orientation": "h",
         "type": "bar",
         "x": [
          0.00145,
          0.0015,
          0.0015,
          0.0015,
          0.00151,
          0.00151,
          0.00156,
          0.00156,
          0.00161,
          0.00161,
          0.00161,
          0.00161,
          0.00166,
          0.00167,
          0.00172,
          0.00178,
          0.00183,
          0.00194,
          0.00194,
          0.00199,
          0.00215,
          0.00248,
          0.00292,
          0.00325,
          0.00358,
          0.00379,
          0.00517,
          0.00659,
          0.00719,
          0.01388
         ],
         "xaxis": "x5",
         "y": [
          "cover",
          "discount",
          "fall",
          "lapse",
          "behavior",
          "hedge",
          "vitality",
          "staff",
          "remain",
          "virus",
          "migration",
          "drop",
          "adviser",
          "phase",
          "purpose",
          "face",
          "eﬀect",
          "inflation",
          "cancellation",
          "disruption",
          "sensitivity",
          "surplus",
          "scenario",
          "interruption",
          "resince",
          "mortality",
          "travel",
          "crisis",
          "lockdown",
          "pandemic"
         ],
         "yaxis": "y5"
        },
        {
         "name": "Topic 18",
         "orientation": "h",
         "type": "bar",
         "x": [
          0.00177,
          0.00177,
          0.00177,
          0.00177,
          0.00177,
          0.00177,
          0.00178,
          0.00178,
          0.00178,
          0.00178,
          0.00191,
          0.00191,
          0.00191,
          0.00191,
          0.00204,
          0.00204,
          0.00205,
          0.00217,
          0.00217,
          0.0023,
          0.00244,
          0.00245,
          0.00245,
          0.00257,
          0.0027,
          0.0027,
          0.0027,
          0.00376,
          0.0055,
          0.00807
         ],
         "xaxis": "x6",
         "y": [
          "histoal",
          "workplace",
          "center",
          "proﬁtability",
          "stakehol",
          "lever",
          "wildfire",
          "network",
          "sensitivity",
          "impairment",
          "compensation",
          "creation",
          "eﬀect",
          "ivery",
          "strategy",
          "maturity",
          "travel",
          "guarantee",
          "lea",
          "tool",
          "iver",
          "crisis",
          "resince",
          "journey",
          "framework",
          "transfer",
          "purpose",
          "climate",
          "sustainability",
          "pandemic"
         ],
         "yaxis": "y6"
        }
       ],
       "layout": {
        "annotations": [
         {
          "font": {
           "size": 16
          },
          "showarrow": false,
          "text": "topic_9",
          "x": 0.049999999999999996,
          "xanchor": "center",
          "xref": "paper",
          "y": 1,
          "yanchor": "bottom",
          "yref": "paper"
         },
         {
          "font": {
           "size": 16
          },
          "showarrow": false,
          "text": "topic_10",
          "x": 0.22999999999999998,
          "xanchor": "center",
          "xref": "paper",
          "y": 1,
          "yanchor": "bottom",
          "yref": "paper"
         },
         {
          "font": {
           "size": 16
          },
          "showarrow": false,
          "text": "topic_14",
          "x": 0.41,
          "xanchor": "center",
          "xref": "paper",
          "y": 1,
          "yanchor": "bottom",
          "yref": "paper"
         },
         {
          "font": {
           "size": 16
          },
          "showarrow": false,
          "text": "topic_16",
          "x": 0.5900000000000001,
          "xanchor": "center",
          "xref": "paper",
          "y": 1,
          "yanchor": "bottom",
          "yref": "paper"
         },
         {
          "font": {
           "size": 16
          },
          "showarrow": false,
          "text": "topic_17",
          "x": 0.77,
          "xanchor": "center",
          "xref": "paper",
          "y": 1,
          "yanchor": "bottom",
          "yref": "paper"
         },
         {
          "font": {
           "size": 16
          },
          "showarrow": false,
          "text": "topic_18",
          "x": 0.95,
          "xanchor": "center",
          "xref": "paper",
          "y": 1,
          "yanchor": "bottom",
          "yref": "paper"
         }
        ],
        "height": 600,
        "legend": {
         "tracegroupgap": 180
        },
        "template": {
         "data": {
          "bar": [
           {
            "error_x": {
             "color": "#2a3f5f"
            },
            "error_y": {
             "color": "#2a3f5f"
            },
            "marker": {
             "line": {
              "color": "#E5ECF6",
              "width": 0.5
             },
             "pattern": {
              "fillmode": "overlay",
              "size": 10,
              "solidity": 0.2
             }
            },
            "type": "bar"
           }
          ],
          "barpolar": [
           {
            "marker": {
             "line": {
              "color": "#E5ECF6",
              "width": 0.5
             },
             "pattern": {
              "fillmode": "overlay",
              "size": 10,
              "solidity": 0.2
             }
            },
            "type": "barpolar"
           }
          ],
          "carpet": [
           {
            "aaxis": {
             "endlinecolor": "#2a3f5f",
             "gridcolor": "white",
             "linecolor": "white",
             "minorgridcolor": "white",
             "startlinecolor": "#2a3f5f"
            },
            "baxis": {
             "endlinecolor": "#2a3f5f",
             "gridcolor": "white",
             "linecolor": "white",
             "minorgridcolor": "white",
             "startlinecolor": "#2a3f5f"
            },
            "type": "carpet"
           }
          ],
          "choropleth": [
           {
            "colorbar": {
             "outlinewidth": 0,
             "ticks": ""
            },
            "type": "choropleth"
           }
          ],
          "contour": [
           {
            "colorbar": {
             "outlinewidth": 0,
             "ticks": ""
            },
            "colorscale": [
             [
              0,
              "#0d0887"
             ],
             [
              0.1111111111111111,
              "#46039f"
             ],
             [
              0.2222222222222222,
              "#7201a8"
             ],
             [
              0.3333333333333333,
              "#9c179e"
             ],
             [
              0.4444444444444444,
              "#bd3786"
             ],
             [
              0.5555555555555556,
              "#d8576b"
             ],
             [
              0.6666666666666666,
              "#ed7953"
             ],
             [
              0.7777777777777778,
              "#fb9f3a"
             ],
             [
              0.8888888888888888,
              "#fdca26"
             ],
             [
              1,
              "#f0f921"
             ]
            ],
            "type": "contour"
           }
          ],
          "contourcarpet": [
           {
            "colorbar": {
             "outlinewidth": 0,
             "ticks": ""
            },
            "type": "contourcarpet"
           }
          ],
          "heatmap": [
           {
            "colorbar": {
             "outlinewidth": 0,
             "ticks": ""
            },
            "colorscale": [
             [
              0,
              "#0d0887"
             ],
             [
              0.1111111111111111,
              "#46039f"
             ],
             [
              0.2222222222222222,
              "#7201a8"
             ],
             [
              0.3333333333333333,
              "#9c179e"
             ],
             [
              0.4444444444444444,
              "#bd3786"
             ],
             [
              0.5555555555555556,
              "#d8576b"
             ],
             [
              0.6666666666666666,
              "#ed7953"
             ],
             [
              0.7777777777777778,
              "#fb9f3a"
             ],
             [
              0.8888888888888888,
              "#fdca26"
             ],
             [
              1,
              "#f0f921"
             ]
            ],
            "type": "heatmap"
           }
          ],
          "heatmapgl": [
           {
            "colorbar": {
             "outlinewidth": 0,
             "ticks": ""
            },
            "colorscale": [
             [
              0,
              "#0d0887"
             ],
             [
              0.1111111111111111,
              "#46039f"
             ],
             [
              0.2222222222222222,
              "#7201a8"
             ],
             [
              0.3333333333333333,
              "#9c179e"
             ],
             [
              0.4444444444444444,
              "#bd3786"
             ],
             [
              0.5555555555555556,
              "#d8576b"
             ],
             [
              0.6666666666666666,
              "#ed7953"
             ],
             [
              0.7777777777777778,
              "#fb9f3a"
             ],
             [
              0.8888888888888888,
              "#fdca26"
             ],
             [
              1,
              "#f0f921"
             ]
            ],
            "type": "heatmapgl"
           }
          ],
          "histogram": [
           {
            "marker": {
             "pattern": {
              "fillmode": "overlay",
              "size": 10,
              "solidity": 0.2
             }
            },
            "type": "histogram"
           }
          ],
          "histogram2d": [
           {
            "colorbar": {
             "outlinewidth": 0,
             "ticks": ""
            },
            "colorscale": [
             [
              0,
              "#0d0887"
             ],
             [
              0.1111111111111111,
              "#46039f"
             ],
             [
              0.2222222222222222,
              "#7201a8"
             ],
             [
              0.3333333333333333,
              "#9c179e"
             ],
             [
              0.4444444444444444,
              "#bd3786"
             ],
             [
              0.5555555555555556,
              "#d8576b"
             ],
             [
              0.6666666666666666,
              "#ed7953"
             ],
             [
              0.7777777777777778,
              "#fb9f3a"
             ],
             [
              0.8888888888888888,
              "#fdca26"
             ],
             [
              1,
              "#f0f921"
             ]
            ],
            "type": "histogram2d"
           }
          ],
          "histogram2dcontour": [
           {
            "colorbar": {
             "outlinewidth": 0,
             "ticks": ""
            },
            "colorscale": [
             [
              0,
              "#0d0887"
             ],
             [
              0.1111111111111111,
              "#46039f"
             ],
             [
              0.2222222222222222,
              "#7201a8"
             ],
             [
              0.3333333333333333,
              "#9c179e"
             ],
             [
              0.4444444444444444,
              "#bd3786"
             ],
             [
              0.5555555555555556,
              "#d8576b"
             ],
             [
              0.6666666666666666,
              "#ed7953"
             ],
             [
              0.7777777777777778,
              "#fb9f3a"
             ],
             [
              0.8888888888888888,
              "#fdca26"
             ],
             [
              1,
              "#f0f921"
             ]
            ],
            "type": "histogram2dcontour"
           }
          ],
          "mesh3d": [
           {
            "colorbar": {
             "outlinewidth": 0,
             "ticks": ""
            },
            "type": "mesh3d"
           }
          ],
          "parcoords": [
           {
            "line": {
             "colorbar": {
              "outlinewidth": 0,
              "ticks": ""
             }
            },
            "type": "parcoords"
           }
          ],
          "pie": [
           {
            "automargin": true,
            "type": "pie"
           }
          ],
          "scatter": [
           {
            "fillpattern": {
             "fillmode": "overlay",
             "size": 10,
             "solidity": 0.2
            },
            "type": "scatter"
           }
          ],
          "scatter3d": [
           {
            "line": {
             "colorbar": {
              "outlinewidth": 0,
              "ticks": ""
             }
            },
            "marker": {
             "colorbar": {
              "outlinewidth": 0,
              "ticks": ""
             }
            },
            "type": "scatter3d"
           }
          ],
          "scattercarpet": [
           {
            "marker": {
             "colorbar": {
              "outlinewidth": 0,
              "ticks": ""
             }
            },
            "type": "scattercarpet"
           }
          ],
          "scattergeo": [
           {
            "marker": {
             "colorbar": {
              "outlinewidth": 0,
              "ticks": ""
             }
            },
            "type": "scattergeo"
           }
          ],
          "scattergl": [
           {
            "marker": {
             "colorbar": {
              "outlinewidth": 0,
              "ticks": ""
             }
            },
            "type": "scattergl"
           }
          ],
          "scattermapbox": [
           {
            "marker": {
             "colorbar": {
              "outlinewidth": 0,
              "ticks": ""
             }
            },
            "type": "scattermapbox"
           }
          ],
          "scatterpolar": [
           {
            "marker": {
             "colorbar": {
              "outlinewidth": 0,
              "ticks": ""
             }
            },
            "type": "scatterpolar"
           }
          ],
          "scatterpolargl": [
           {
            "marker": {
             "colorbar": {
              "outlinewidth": 0,
              "ticks": ""
             }
            },
            "type": "scatterpolargl"
           }
          ],
          "scatterternary": [
           {
            "marker": {
             "colorbar": {
              "outlinewidth": 0,
              "ticks": ""
             }
            },
            "type": "scatterternary"
           }
          ],
          "surface": [
           {
            "colorbar": {
             "outlinewidth": 0,
             "ticks": ""
            },
            "colorscale": [
             [
              0,
              "#0d0887"
             ],
             [
              0.1111111111111111,
              "#46039f"
             ],
             [
              0.2222222222222222,
              "#7201a8"
             ],
             [
              0.3333333333333333,
              "#9c179e"
             ],
             [
              0.4444444444444444,
              "#bd3786"
             ],
             [
              0.5555555555555556,
              "#d8576b"
             ],
             [
              0.6666666666666666,
              "#ed7953"
             ],
             [
              0.7777777777777778,
              "#fb9f3a"
             ],
             [
              0.8888888888888888,
              "#fdca26"
             ],
             [
              1,
              "#f0f921"
             ]
            ],
            "type": "surface"
           }
          ],
          "table": [
           {
            "cells": {
             "fill": {
              "color": "#EBF0F8"
             },
             "line": {
              "color": "white"
             }
            },
            "header": {
             "fill": {
              "color": "#C8D4E3"
             },
             "line": {
              "color": "white"
             }
            },
            "type": "table"
           }
          ]
         },
         "layout": {
          "annotationdefaults": {
           "arrowcolor": "#2a3f5f",
           "arrowhead": 0,
           "arrowwidth": 1
          },
          "autotypenumbers": "strict",
          "coloraxis": {
           "colorbar": {
            "outlinewidth": 0,
            "ticks": ""
           }
          },
          "colorscale": {
           "diverging": [
            [
             0,
             "#8e0152"
            ],
            [
             0.1,
             "#c51b7d"
            ],
            [
             0.2,
             "#de77ae"
            ],
            [
             0.3,
             "#f1b6da"
            ],
            [
             0.4,
             "#fde0ef"
            ],
            [
             0.5,
             "#f7f7f7"
            ],
            [
             0.6,
             "#e6f5d0"
            ],
            [
             0.7,
             "#b8e186"
            ],
            [
             0.8,
             "#7fbc41"
            ],
            [
             0.9,
             "#4d9221"
            ],
            [
             1,
             "#276419"
            ]
           ],
           "sequential": [
            [
             0,
             "#0d0887"
            ],
            [
             0.1111111111111111,
             "#46039f"
            ],
            [
             0.2222222222222222,
             "#7201a8"
            ],
            [
             0.3333333333333333,
             "#9c179e"
            ],
            [
             0.4444444444444444,
             "#bd3786"
            ],
            [
             0.5555555555555556,
             "#d8576b"
            ],
            [
             0.6666666666666666,
             "#ed7953"
            ],
            [
             0.7777777777777778,
             "#fb9f3a"
            ],
            [
             0.8888888888888888,
             "#fdca26"
            ],
            [
             1,
             "#f0f921"
            ]
           ],
           "sequentialminus": [
            [
             0,
             "#0d0887"
            ],
            [
             0.1111111111111111,
             "#46039f"
            ],
            [
             0.2222222222222222,
             "#7201a8"
            ],
            [
             0.3333333333333333,
             "#9c179e"
            ],
            [
             0.4444444444444444,
             "#bd3786"
            ],
            [
             0.5555555555555556,
             "#d8576b"
            ],
            [
             0.6666666666666666,
             "#ed7953"
            ],
            [
             0.7777777777777778,
             "#fb9f3a"
            ],
            [
             0.8888888888888888,
             "#fdca26"
            ],
            [
             1,
             "#f0f921"
            ]
           ]
          },
          "colorway": [
           "#636efa",
           "#EF553B",
           "#00cc96",
           "#ab63fa",
           "#FFA15A",
           "#19d3f3",
           "#FF6692",
           "#B6E880",
           "#FF97FF",
           "#FECB52"
          ],
          "font": {
           "color": "#2a3f5f"
          },
          "geo": {
           "bgcolor": "white",
           "lakecolor": "white",
           "landcolor": "#E5ECF6",
           "showlakes": true,
           "showland": true,
           "subunitcolor": "white"
          },
          "hoverlabel": {
           "align": "left"
          },
          "hovermode": "closest",
          "mapbox": {
           "style": "light"
          },
          "paper_bgcolor": "white",
          "plot_bgcolor": "#E5ECF6",
          "polar": {
           "angularaxis": {
            "gridcolor": "white",
            "linecolor": "white",
            "ticks": ""
           },
           "bgcolor": "#E5ECF6",
           "radialaxis": {
            "gridcolor": "white",
            "linecolor": "white",
            "ticks": ""
           }
          },
          "scene": {
           "xaxis": {
            "backgroundcolor": "#E5ECF6",
            "gridcolor": "white",
            "gridwidth": 2,
            "linecolor": "white",
            "showbackground": true,
            "ticks": "",
            "zerolinecolor": "white"
           },
           "yaxis": {
            "backgroundcolor": "#E5ECF6",
            "gridcolor": "white",
            "gridwidth": 2,
            "linecolor": "white",
            "showbackground": true,
            "ticks": "",
            "zerolinecolor": "white"
           },
           "zaxis": {
            "backgroundcolor": "#E5ECF6",
            "gridcolor": "white",
            "gridwidth": 2,
            "linecolor": "white",
            "showbackground": true,
            "ticks": "",
            "zerolinecolor": "white"
           }
          },
          "shapedefaults": {
           "line": {
            "color": "#2a3f5f"
           }
          },
          "ternary": {
           "aaxis": {
            "gridcolor": "white",
            "linecolor": "white",
            "ticks": ""
           },
           "baxis": {
            "gridcolor": "white",
            "linecolor": "white",
            "ticks": ""
           },
           "bgcolor": "#E5ECF6",
           "caxis": {
            "gridcolor": "white",
            "linecolor": "white",
            "ticks": ""
           }
          },
          "title": {
           "x": 0.05
          },
          "xaxis": {
           "automargin": true,
           "gridcolor": "white",
           "linecolor": "white",
           "ticks": "",
           "title": {
            "standoff": 15
           },
           "zerolinecolor": "white",
           "zerolinewidth": 2
          },
          "yaxis": {
           "automargin": true,
           "gridcolor": "white",
           "linecolor": "white",
           "ticks": "",
           "title": {
            "standoff": 15
           },
           "zerolinecolor": "white",
           "zerolinewidth": 2
          }
         }
        },
        "title": {
         "text": "Presention Sorted Probablity of General Words in 2019-2021 Topics"
        },
        "width": 1200,
        "xaxis": {
         "anchor": "y",
         "domain": [
          0,
          0.09999999999999999
         ],
         "tickangle": -45,
         "title": {
          "text": "Probability"
         }
        },
        "xaxis2": {
         "anchor": "y2",
         "domain": [
          0.18,
          0.27999999999999997
         ],
         "tickangle": -45,
         "title": {
          "text": "Probability"
         }
        },
        "xaxis3": {
         "anchor": "y3",
         "domain": [
          0.36,
          0.45999999999999996
         ],
         "tickangle": -45,
         "title": {
          "text": "Probability"
         }
        },
        "xaxis4": {
         "anchor": "y4",
         "domain": [
          0.54,
          0.64
         ],
         "tickangle": -45,
         "title": {
          "text": "Probability"
         }
        },
        "xaxis5": {
         "anchor": "y5",
         "domain": [
          0.72,
          0.82
         ],
         "tickangle": -45,
         "title": {
          "text": "Probability"
         }
        },
        "xaxis6": {
         "anchor": "y6",
         "domain": [
          0.8999999999999999,
          0.9999999999999999
         ],
         "tickangle": -45,
         "title": {
          "text": "Probability"
         }
        },
        "yaxis": {
         "anchor": "x",
         "domain": [
          0,
          1
         ],
         "title": {
          "text": "Word"
         }
        },
        "yaxis2": {
         "anchor": "x2",
         "domain": [
          0,
          1
         ]
        },
        "yaxis3": {
         "anchor": "x3",
         "domain": [
          0,
          1
         ]
        },
        "yaxis4": {
         "anchor": "x4",
         "domain": [
          0,
          1
         ]
        },
        "yaxis5": {
         "anchor": "x5",
         "domain": [
          0,
          1
         ]
        },
        "yaxis6": {
         "anchor": "x6",
         "domain": [
          0,
          1
         ]
        }
       }
      }
     },
     "metadata": {},
     "output_type": "display_data"
    }
   ],
   "source": [
    "fig = make_subplots(\n",
    "    rows=1, cols=6,\n",
    "    column_widths=[2.,2.,2.,2.,2.,2.],\n",
    "    row_heights=[1.],\n",
    "    specs=[\n",
    "        [{\"type\": \"bar\"}, {\"type\": \"bar\"}, {\"type\": \"bar\"}, {\"type\": \"bar\"}, {\"type\": \"bar\"}, {\"type\": \"bar\"}],\n",
    "        ], \n",
    "    subplot_titles=(\"topic_9\", \"topic_10\", \"topic_14\", \"topic_16\", \"topic_17\", \"topic_18\"),\n",
    "    vertical_spacing=0.15,\n",
    "    horizontal_spacing=0.08,\n",
    "        )\n",
    "\n",
    "recent_list = [8,9,13,15,16,17]\n",
    "column_list = [1,2,3,4,5,6]\n",
    "timepoint_list = [[34],[32],[40],[37],[38],[39]]\n",
    "\n",
    "for i in range(0,len(recent_list)):\n",
    "    wt_single_tp = pd.DataFrame()\n",
    "    wt_single_tp_alltime = wt[wt['k']==recent_list[i]]\n",
    "    for k in timepoint_list[i]:\n",
    "        tmp = wt_single_tp_alltime[wt_single_tp_alltime['timepoint']==k]\n",
    "        wt_single_tp = wt_single_tp.append(tmp)\n",
    "        del tmp\n",
    "\n",
    "    wt_single_tp = wt_single_tp[['word', 'prob']]\n",
    "    # df_tp6 groupby 'word' agg 'prob'\n",
    "    wt_single_tp = wt_single_tp.groupby('word').agg({'prob':'sum'})\n",
    "    wt_single_tp = wt_single_tp.reset_index()\n",
    "    wt_single_tp = wt_single_tp.sort_values(by='prob', ascending=False)\n",
    "    wt_single_tp = wt_single_tp.reset_index(drop=True)\n",
    "    wt_single_tp = wt_single_tp.head(30).sort_values(by='prob', ascending=True)\n",
    "    wt_single_tp = wt_single_tp.reset_index(drop=True)\n",
    "    # print(\"==============\",\"Topic {}\".format(recent_list[i] + 1),\"================\")\n",
    "    # print(wt_single_tp['word'])\n",
    "\n",
    "    fig.add_trace(go.Bar(\n",
    "        y=wt_single_tp['word'],\n",
    "        x=wt_single_tp['prob'],\n",
    "        name=\"Topic {}\".format(recent_list[i] + 1),\n",
    "        # make the bar virtical\n",
    "        orientation='h',\n",
    "        ), row=1, col=column_list[i])\n",
    "\n",
    "fig.update_layout(\n",
    "    height=600,\n",
    "    width=1200,\n",
    "    title_text=\"Presention Sorted Probablity of General Words in 2019-2021 Topics\",\n",
    "    xaxis1_title = 'Probability',\n",
    "    xaxis2_title = 'Probability',\n",
    "    xaxis3_title = 'Probability',\n",
    "    xaxis4_title = 'Probability',\n",
    "    xaxis5_title = 'Probability',\n",
    "    xaxis6_title = 'Probability',\n",
    "    yaxis1_title = 'Word',\n",
    "    # make the ytick label virtical\n",
    "    xaxis1_tickangle=-45,\n",
    "    xaxis2_tickangle=-45,\n",
    "    xaxis3_tickangle=-45,\n",
    "    xaxis4_tickangle=-45,\n",
    "    xaxis5_tickangle=-45,\n",
    "    xaxis6_tickangle=-45,\n",
    "    legend_tracegroupgap = 180,\n",
    "\n",
    "    )\n",
    "\n",
    "fig.show()"
   ]
  },
  {
   "cell_type": "code",
   "execution_count": 108,
   "metadata": {},
   "outputs": [
    {
     "data": {
      "application/vnd.plotly.v1+json": {
       "config": {
        "plotlyServerURL": "https://plot.ly"
       },
       "data": [
        {
         "name": "Topic 1",
         "orientation": "h",
         "type": "bar",
         "x": [
          0.00169,
          0.00169,
          0.00169,
          0.00169,
          0.00169,
          0.00169,
          0.00169,
          0.00169,
          0.0017,
          0.00192,
          0.00192,
          0.00193,
          0.00193,
          0.00193,
          0.00193,
          0.00215,
          0.00215,
          0.00216,
          0.00216,
          0.00216,
          0.00216,
          0.00239,
          0.00239,
          0.00241,
          0.00262,
          0.00285,
          0.00286,
          0.0031,
          0.00334,
          0.0038
         ],
         "xaxis": "x",
         "y": [
          "profile",
          "simplicity",
          "strategy",
          "block",
          "wealth",
          "yesterday",
          "piece",
          "dynamic",
          "footprint",
          "governance",
          "administration",
          "proﬁtability",
          "agency",
          "diﬀerent",
          "tool",
          "remittance",
          "surren",
          "compensation",
          "journey",
          "son",
          "stat",
          "talent",
          "firm",
          "care",
          "tail",
          "topic",
          "scenario",
          "px",
          "description",
          "ytd"
         ],
         "yaxis": "y"
        },
        {
         "name": "Topic 13",
         "orientation": "h",
         "type": "bar",
         "x": [
          0.00203,
          0.00203,
          0.00203,
          0.00203,
          0.00203,
          0.00203,
          0.00203,
          0.00203,
          0.00203,
          0.00203,
          0.00203,
          0.00203,
          0.00203,
          0.00203,
          0.00203,
          0.00252,
          0.00252,
          0.00252,
          0.00252,
          0.00252,
          0.00253,
          0.00301,
          0.00301,
          0.00301,
          0.00302,
          0.00302,
          0.00302,
          0.00351,
          0.00351,
          0.004
         ],
         "xaxis": "x2",
         "y": [
          "buffer",
          "hedge",
          "footprint",
          "diﬀerent",
          "calendar",
          "mortality",
          "agency",
          "network",
          "vitality",
          "prut",
          "variance",
          "transcript",
          "maturity",
          "swap",
          "light",
          "inflation",
          "resince",
          "scheme",
          "tail",
          "policyhol",
          "surplus",
          "form",
          "healthcare",
          "wildfire",
          "sensitivity",
          "ytd",
          "eﬀect",
          "treaty",
          "ﬁgure",
          "legacy"
         ],
         "yaxis": "y2"
        },
        {
         "name": "Topic 15",
         "orientation": "h",
         "type": "bar",
         "x": [
          0.00489,
          0.0052499999999999995,
          0.00543,
          0.00543,
          0.00543,
          0.00543,
          0.00543,
          0.00543,
          0.00553,
          0.00553,
          0.00553,
          0.00553,
          0.00554,
          0.00571,
          0.00652,
          0.006879999999999999,
          0.00691,
          0.00691,
          0.00711,
          0.00752,
          0.00812,
          0.00822,
          0.00822,
          0.00823,
          0.00823,
          0.009600000000000001,
          0.009810000000000001,
          0.01017,
          0.01081,
          0.01135
         ],
         "xaxis": "x3",
         "y": [
          "amortization",
          "eﬀect",
          "histoal",
          "philosophy",
          "fortune",
          "ape",
          "rise",
          "foundation",
          "cetera",
          "creation",
          "disposal",
          "curve",
          "panel",
          "consumer",
          "rule",
          "approval",
          "guarantee",
          "merger",
          "prospect",
          "compensation",
          "trading",
          "euro",
          "speaker",
          "inflow",
          "budget",
          "offer",
          "storm",
          "surplus",
          "travel",
          "treaty"
         ],
         "yaxis": "y3"
        }
       ],
       "layout": {
        "annotations": [
         {
          "font": {
           "size": 16
          },
          "showarrow": false,
          "text": "topic_1",
          "x": 0.13999999999999999,
          "xanchor": "center",
          "xref": "paper",
          "y": 1,
          "yanchor": "bottom",
          "yref": "paper"
         },
         {
          "font": {
           "size": 16
          },
          "showarrow": false,
          "text": "topic_13",
          "x": 0.49999999999999994,
          "xanchor": "center",
          "xref": "paper",
          "y": 1,
          "yanchor": "bottom",
          "yref": "paper"
         },
         {
          "font": {
           "size": 16
          },
          "showarrow": false,
          "text": "topic_15",
          "x": 0.86,
          "xanchor": "center",
          "xref": "paper",
          "y": 1,
          "yanchor": "bottom",
          "yref": "paper"
         }
        ],
        "height": 600,
        "legend": {
         "tracegroupgap": 180
        },
        "template": {
         "data": {
          "bar": [
           {
            "error_x": {
             "color": "#2a3f5f"
            },
            "error_y": {
             "color": "#2a3f5f"
            },
            "marker": {
             "line": {
              "color": "#E5ECF6",
              "width": 0.5
             },
             "pattern": {
              "fillmode": "overlay",
              "size": 10,
              "solidity": 0.2
             }
            },
            "type": "bar"
           }
          ],
          "barpolar": [
           {
            "marker": {
             "line": {
              "color": "#E5ECF6",
              "width": 0.5
             },
             "pattern": {
              "fillmode": "overlay",
              "size": 10,
              "solidity": 0.2
             }
            },
            "type": "barpolar"
           }
          ],
          "carpet": [
           {
            "aaxis": {
             "endlinecolor": "#2a3f5f",
             "gridcolor": "white",
             "linecolor": "white",
             "minorgridcolor": "white",
             "startlinecolor": "#2a3f5f"
            },
            "baxis": {
             "endlinecolor": "#2a3f5f",
             "gridcolor": "white",
             "linecolor": "white",
             "minorgridcolor": "white",
             "startlinecolor": "#2a3f5f"
            },
            "type": "carpet"
           }
          ],
          "choropleth": [
           {
            "colorbar": {
             "outlinewidth": 0,
             "ticks": ""
            },
            "type": "choropleth"
           }
          ],
          "contour": [
           {
            "colorbar": {
             "outlinewidth": 0,
             "ticks": ""
            },
            "colorscale": [
             [
              0,
              "#0d0887"
             ],
             [
              0.1111111111111111,
              "#46039f"
             ],
             [
              0.2222222222222222,
              "#7201a8"
             ],
             [
              0.3333333333333333,
              "#9c179e"
             ],
             [
              0.4444444444444444,
              "#bd3786"
             ],
             [
              0.5555555555555556,
              "#d8576b"
             ],
             [
              0.6666666666666666,
              "#ed7953"
             ],
             [
              0.7777777777777778,
              "#fb9f3a"
             ],
             [
              0.8888888888888888,
              "#fdca26"
             ],
             [
              1,
              "#f0f921"
             ]
            ],
            "type": "contour"
           }
          ],
          "contourcarpet": [
           {
            "colorbar": {
             "outlinewidth": 0,
             "ticks": ""
            },
            "type": "contourcarpet"
           }
          ],
          "heatmap": [
           {
            "colorbar": {
             "outlinewidth": 0,
             "ticks": ""
            },
            "colorscale": [
             [
              0,
              "#0d0887"
             ],
             [
              0.1111111111111111,
              "#46039f"
             ],
             [
              0.2222222222222222,
              "#7201a8"
             ],
             [
              0.3333333333333333,
              "#9c179e"
             ],
             [
              0.4444444444444444,
              "#bd3786"
             ],
             [
              0.5555555555555556,
              "#d8576b"
             ],
             [
              0.6666666666666666,
              "#ed7953"
             ],
             [
              0.7777777777777778,
              "#fb9f3a"
             ],
             [
              0.8888888888888888,
              "#fdca26"
             ],
             [
              1,
              "#f0f921"
             ]
            ],
            "type": "heatmap"
           }
          ],
          "heatmapgl": [
           {
            "colorbar": {
             "outlinewidth": 0,
             "ticks": ""
            },
            "colorscale": [
             [
              0,
              "#0d0887"
             ],
             [
              0.1111111111111111,
              "#46039f"
             ],
             [
              0.2222222222222222,
              "#7201a8"
             ],
             [
              0.3333333333333333,
              "#9c179e"
             ],
             [
              0.4444444444444444,
              "#bd3786"
             ],
             [
              0.5555555555555556,
              "#d8576b"
             ],
             [
              0.6666666666666666,
              "#ed7953"
             ],
             [
              0.7777777777777778,
              "#fb9f3a"
             ],
             [
              0.8888888888888888,
              "#fdca26"
             ],
             [
              1,
              "#f0f921"
             ]
            ],
            "type": "heatmapgl"
           }
          ],
          "histogram": [
           {
            "marker": {
             "pattern": {
              "fillmode": "overlay",
              "size": 10,
              "solidity": 0.2
             }
            },
            "type": "histogram"
           }
          ],
          "histogram2d": [
           {
            "colorbar": {
             "outlinewidth": 0,
             "ticks": ""
            },
            "colorscale": [
             [
              0,
              "#0d0887"
             ],
             [
              0.1111111111111111,
              "#46039f"
             ],
             [
              0.2222222222222222,
              "#7201a8"
             ],
             [
              0.3333333333333333,
              "#9c179e"
             ],
             [
              0.4444444444444444,
              "#bd3786"
             ],
             [
              0.5555555555555556,
              "#d8576b"
             ],
             [
              0.6666666666666666,
              "#ed7953"
             ],
             [
              0.7777777777777778,
              "#fb9f3a"
             ],
             [
              0.8888888888888888,
              "#fdca26"
             ],
             [
              1,
              "#f0f921"
             ]
            ],
            "type": "histogram2d"
           }
          ],
          "histogram2dcontour": [
           {
            "colorbar": {
             "outlinewidth": 0,
             "ticks": ""
            },
            "colorscale": [
             [
              0,
              "#0d0887"
             ],
             [
              0.1111111111111111,
              "#46039f"
             ],
             [
              0.2222222222222222,
              "#7201a8"
             ],
             [
              0.3333333333333333,
              "#9c179e"
             ],
             [
              0.4444444444444444,
              "#bd3786"
             ],
             [
              0.5555555555555556,
              "#d8576b"
             ],
             [
              0.6666666666666666,
              "#ed7953"
             ],
             [
              0.7777777777777778,
              "#fb9f3a"
             ],
             [
              0.8888888888888888,
              "#fdca26"
             ],
             [
              1,
              "#f0f921"
             ]
            ],
            "type": "histogram2dcontour"
           }
          ],
          "mesh3d": [
           {
            "colorbar": {
             "outlinewidth": 0,
             "ticks": ""
            },
            "type": "mesh3d"
           }
          ],
          "parcoords": [
           {
            "line": {
             "colorbar": {
              "outlinewidth": 0,
              "ticks": ""
             }
            },
            "type": "parcoords"
           }
          ],
          "pie": [
           {
            "automargin": true,
            "type": "pie"
           }
          ],
          "scatter": [
           {
            "fillpattern": {
             "fillmode": "overlay",
             "size": 10,
             "solidity": 0.2
            },
            "type": "scatter"
           }
          ],
          "scatter3d": [
           {
            "line": {
             "colorbar": {
              "outlinewidth": 0,
              "ticks": ""
             }
            },
            "marker": {
             "colorbar": {
              "outlinewidth": 0,
              "ticks": ""
             }
            },
            "type": "scatter3d"
           }
          ],
          "scattercarpet": [
           {
            "marker": {
             "colorbar": {
              "outlinewidth": 0,
              "ticks": ""
             }
            },
            "type": "scattercarpet"
           }
          ],
          "scattergeo": [
           {
            "marker": {
             "colorbar": {
              "outlinewidth": 0,
              "ticks": ""
             }
            },
            "type": "scattergeo"
           }
          ],
          "scattergl": [
           {
            "marker": {
             "colorbar": {
              "outlinewidth": 0,
              "ticks": ""
             }
            },
            "type": "scattergl"
           }
          ],
          "scattermapbox": [
           {
            "marker": {
             "colorbar": {
              "outlinewidth": 0,
              "ticks": ""
             }
            },
            "type": "scattermapbox"
           }
          ],
          "scatterpolar": [
           {
            "marker": {
             "colorbar": {
              "outlinewidth": 0,
              "ticks": ""
             }
            },
            "type": "scatterpolar"
           }
          ],
          "scatterpolargl": [
           {
            "marker": {
             "colorbar": {
              "outlinewidth": 0,
              "ticks": ""
             }
            },
            "type": "scatterpolargl"
           }
          ],
          "scatterternary": [
           {
            "marker": {
             "colorbar": {
              "outlinewidth": 0,
              "ticks": ""
             }
            },
            "type": "scatterternary"
           }
          ],
          "surface": [
           {
            "colorbar": {
             "outlinewidth": 0,
             "ticks": ""
            },
            "colorscale": [
             [
              0,
              "#0d0887"
             ],
             [
              0.1111111111111111,
              "#46039f"
             ],
             [
              0.2222222222222222,
              "#7201a8"
             ],
             [
              0.3333333333333333,
              "#9c179e"
             ],
             [
              0.4444444444444444,
              "#bd3786"
             ],
             [
              0.5555555555555556,
              "#d8576b"
             ],
             [
              0.6666666666666666,
              "#ed7953"
             ],
             [
              0.7777777777777778,
              "#fb9f3a"
             ],
             [
              0.8888888888888888,
              "#fdca26"
             ],
             [
              1,
              "#f0f921"
             ]
            ],
            "type": "surface"
           }
          ],
          "table": [
           {
            "cells": {
             "fill": {
              "color": "#EBF0F8"
             },
             "line": {
              "color": "white"
             }
            },
            "header": {
             "fill": {
              "color": "#C8D4E3"
             },
             "line": {
              "color": "white"
             }
            },
            "type": "table"
           }
          ]
         },
         "layout": {
          "annotationdefaults": {
           "arrowcolor": "#2a3f5f",
           "arrowhead": 0,
           "arrowwidth": 1
          },
          "autotypenumbers": "strict",
          "coloraxis": {
           "colorbar": {
            "outlinewidth": 0,
            "ticks": ""
           }
          },
          "colorscale": {
           "diverging": [
            [
             0,
             "#8e0152"
            ],
            [
             0.1,
             "#c51b7d"
            ],
            [
             0.2,
             "#de77ae"
            ],
            [
             0.3,
             "#f1b6da"
            ],
            [
             0.4,
             "#fde0ef"
            ],
            [
             0.5,
             "#f7f7f7"
            ],
            [
             0.6,
             "#e6f5d0"
            ],
            [
             0.7,
             "#b8e186"
            ],
            [
             0.8,
             "#7fbc41"
            ],
            [
             0.9,
             "#4d9221"
            ],
            [
             1,
             "#276419"
            ]
           ],
           "sequential": [
            [
             0,
             "#0d0887"
            ],
            [
             0.1111111111111111,
             "#46039f"
            ],
            [
             0.2222222222222222,
             "#7201a8"
            ],
            [
             0.3333333333333333,
             "#9c179e"
            ],
            [
             0.4444444444444444,
             "#bd3786"
            ],
            [
             0.5555555555555556,
             "#d8576b"
            ],
            [
             0.6666666666666666,
             "#ed7953"
            ],
            [
             0.7777777777777778,
             "#fb9f3a"
            ],
            [
             0.8888888888888888,
             "#fdca26"
            ],
            [
             1,
             "#f0f921"
            ]
           ],
           "sequentialminus": [
            [
             0,
             "#0d0887"
            ],
            [
             0.1111111111111111,
             "#46039f"
            ],
            [
             0.2222222222222222,
             "#7201a8"
            ],
            [
             0.3333333333333333,
             "#9c179e"
            ],
            [
             0.4444444444444444,
             "#bd3786"
            ],
            [
             0.5555555555555556,
             "#d8576b"
            ],
            [
             0.6666666666666666,
             "#ed7953"
            ],
            [
             0.7777777777777778,
             "#fb9f3a"
            ],
            [
             0.8888888888888888,
             "#fdca26"
            ],
            [
             1,
             "#f0f921"
            ]
           ]
          },
          "colorway": [
           "#636efa",
           "#EF553B",
           "#00cc96",
           "#ab63fa",
           "#FFA15A",
           "#19d3f3",
           "#FF6692",
           "#B6E880",
           "#FF97FF",
           "#FECB52"
          ],
          "font": {
           "color": "#2a3f5f"
          },
          "geo": {
           "bgcolor": "white",
           "lakecolor": "white",
           "landcolor": "#E5ECF6",
           "showlakes": true,
           "showland": true,
           "subunitcolor": "white"
          },
          "hoverlabel": {
           "align": "left"
          },
          "hovermode": "closest",
          "mapbox": {
           "style": "light"
          },
          "paper_bgcolor": "white",
          "plot_bgcolor": "#E5ECF6",
          "polar": {
           "angularaxis": {
            "gridcolor": "white",
            "linecolor": "white",
            "ticks": ""
           },
           "bgcolor": "#E5ECF6",
           "radialaxis": {
            "gridcolor": "white",
            "linecolor": "white",
            "ticks": ""
           }
          },
          "scene": {
           "xaxis": {
            "backgroundcolor": "#E5ECF6",
            "gridcolor": "white",
            "gridwidth": 2,
            "linecolor": "white",
            "showbackground": true,
            "ticks": "",
            "zerolinecolor": "white"
           },
           "yaxis": {
            "backgroundcolor": "#E5ECF6",
            "gridcolor": "white",
            "gridwidth": 2,
            "linecolor": "white",
            "showbackground": true,
            "ticks": "",
            "zerolinecolor": "white"
           },
           "zaxis": {
            "backgroundcolor": "#E5ECF6",
            "gridcolor": "white",
            "gridwidth": 2,
            "linecolor": "white",
            "showbackground": true,
            "ticks": "",
            "zerolinecolor": "white"
           }
          },
          "shapedefaults": {
           "line": {
            "color": "#2a3f5f"
           }
          },
          "ternary": {
           "aaxis": {
            "gridcolor": "white",
            "linecolor": "white",
            "ticks": ""
           },
           "baxis": {
            "gridcolor": "white",
            "linecolor": "white",
            "ticks": ""
           },
           "bgcolor": "#E5ECF6",
           "caxis": {
            "gridcolor": "white",
            "linecolor": "white",
            "ticks": ""
           }
          },
          "title": {
           "x": 0.05
          },
          "xaxis": {
           "automargin": true,
           "gridcolor": "white",
           "linecolor": "white",
           "ticks": "",
           "title": {
            "standoff": 15
           },
           "zerolinecolor": "white",
           "zerolinewidth": 2
          },
          "yaxis": {
           "automargin": true,
           "gridcolor": "white",
           "linecolor": "white",
           "ticks": "",
           "title": {
            "standoff": 15
           },
           "zerolinecolor": "white",
           "zerolinewidth": 2
          }
         }
        },
        "title": {
         "text": "Presention Sorted Probablity of General Words in 2015-2018 Topics"
        },
        "width": 1200,
        "xaxis": {
         "anchor": "y",
         "domain": [
          0,
          0.27999999999999997
         ],
         "tickangle": -45,
         "title": {
          "text": "Probability"
         }
        },
        "xaxis2": {
         "anchor": "y2",
         "domain": [
          0.36,
          0.6399999999999999
         ],
         "tickangle": -45,
         "title": {
          "text": "Probability"
         }
        },
        "xaxis3": {
         "anchor": "y3",
         "domain": [
          0.72,
          1
         ],
         "tickangle": -45,
         "title": {
          "text": "Probability"
         }
        },
        "yaxis": {
         "anchor": "x",
         "domain": [
          0,
          1
         ],
         "title": {
          "text": "Word"
         }
        },
        "yaxis2": {
         "anchor": "x2",
         "domain": [
          0,
          1
         ]
        },
        "yaxis3": {
         "anchor": "x3",
         "domain": [
          0,
          1
         ]
        }
       }
      }
     },
     "metadata": {},
     "output_type": "display_data"
    }
   ],
   "source": [
    "fig = make_subplots(\n",
    "    rows=1, cols=3,\n",
    "    column_widths=[2.,2.,2.],\n",
    "    row_heights=[1.],\n",
    "    specs=[\n",
    "        [{\"type\": \"bar\"}, {\"type\": \"bar\"}, {\"type\": \"bar\"}], #  {\"type\": \"bar\"}, {\"type\": \"bar\"}\n",
    "        ], \n",
    "    subplot_titles=(\"topic_1\", \"topic_13\", \"topic_15\"),\n",
    "    vertical_spacing=0.15,\n",
    "    horizontal_spacing=0.08,\n",
    "        )\n",
    "\n",
    "recent_list = [0,12,14]\n",
    "column_list = [1,2,3]\n",
    "timepoint_list = [[31],[22],[17,18,20]]\n",
    "\n",
    "for i in range(0,len(recent_list)):\n",
    "    wt_single_tp = pd.DataFrame()\n",
    "    wt_single_tp_alltime = wt[wt['k']==recent_list[i]]\n",
    "    for k in timepoint_list[i]:\n",
    "        tmp = wt_single_tp_alltime[wt_single_tp_alltime['timepoint']==k]\n",
    "        wt_single_tp = wt_single_tp.append(tmp)\n",
    "        del tmp\n",
    "\n",
    "    wt_single_tp = wt_single_tp[['word', 'prob']]\n",
    "    # df_tp6 groupby 'word' agg 'prob'\n",
    "    wt_single_tp = wt_single_tp.groupby('word').agg({'prob':'sum'})\n",
    "    wt_single_tp = wt_single_tp.reset_index()\n",
    "    wt_single_tp = wt_single_tp.sort_values(by='prob', ascending=False)\n",
    "    wt_single_tp = wt_single_tp.reset_index(drop=True)\n",
    "    wt_single_tp = wt_single_tp.head(30).sort_values(by='prob', ascending=True)\n",
    "    wt_single_tp = wt_single_tp.reset_index(drop=True)\n",
    "    # print(\"==============\",\"Topic {}\".format(recent_list[i] + 1),\"================\")\n",
    "    # print(wt_single_tp['word'])\n",
    "\n",
    "    fig.add_trace(go.Bar(\n",
    "        y=wt_single_tp['word'],\n",
    "        x=wt_single_tp['prob'],\n",
    "        name=\"Topic {}\".format(recent_list[i] + 1),\n",
    "        # make the bar virtical\n",
    "        orientation='h',\n",
    "        ), row=1, col=column_list[i])\n",
    "\n",
    "fig.update_layout(\n",
    "    height=600,\n",
    "    width=1200,\n",
    "    title_text=\"Presention Sorted Probablity of General Words in 2015-2018 Topics\",\n",
    "    xaxis1_title = 'Probability',\n",
    "    xaxis2_title = 'Probability',\n",
    "    xaxis3_title = 'Probability',\n",
    "    # xaxis4_title = 'Probability',\n",
    "    # xaxis5_title = 'Probability',\n",
    "    yaxis1_title = 'Word',\n",
    "    # make the ytick label virtical\n",
    "    xaxis1_tickangle=-45,\n",
    "    xaxis2_tickangle=-45,\n",
    "    xaxis3_tickangle=-45,\n",
    "    # xaxis4_tickangle=-45,\n",
    "    # xaxis5_tickangle=-45,\n",
    "    legend_tracegroupgap = 180,\n",
    "\n",
    "    )\n",
    "\n",
    "fig.show()"
   ]
  },
  {
   "cell_type": "code",
   "execution_count": 110,
   "metadata": {},
   "outputs": [
    {
     "data": {
      "application/vnd.plotly.v1+json": {
       "config": {
        "plotlyServerURL": "https://plot.ly"
       },
       "data": [
        {
         "name": "Topic 3",
         "orientation": "h",
         "type": "bar",
         "x": [
          0.00475,
          0.00475,
          0.00475,
          0.00475,
          0.00476,
          0.00509,
          0.00509,
          0.00509,
          0.00509,
          0.00532,
          0.00532,
          0.00532,
          0.00532,
          0.00532,
          0.00532,
          0.00532,
          0.00532,
          0.00532,
          0.00532,
          0.00532,
          0.00532,
          0.00532,
          0.00532,
          0.0062699999999999995,
          0.0062699999999999995,
          0.007719999999999999,
          0.007719999999999999,
          0.00861,
          0.0089,
          0.010069999999999999
         ],
         "xaxis": "x",
         "y": [
          "agency",
          "build",
          "proxy",
          "policyhol",
          "surplus",
          "ownership",
          "cover",
          "ply",
          "mortality",
          "rule",
          "car",
          "characteristic",
          "weight",
          "winter",
          "venture",
          "push",
          "lapse",
          "spite",
          "tool",
          "timeframe",
          "graph",
          "internet",
          "renaissancere",
          "reinsurer",
          "reinstatement",
          "culture",
          "depreciation",
          "leave",
          "vitality",
          "inflation"
         ],
         "yaxis": "y"
        },
        {
         "name": "Topic 4",
         "orientation": "h",
         "type": "bar",
         "x": [
          0.00342,
          0.00342,
          0.00342,
          0.00342,
          0.00342,
          0.00342,
          0.00342,
          0.00342,
          0.00342,
          0.00342,
          0.00342,
          0.00382,
          0.00383,
          0.00424,
          0.00424,
          0.00454,
          0.00455,
          0.00477,
          0.00477,
          0.005180000000000001,
          0.00519,
          0.00536,
          0.00536,
          0.00537,
          0.00566,
          0.00567,
          0.00571,
          0.0063,
          0.00761,
          0.00854
         ],
         "xaxis": "x2",
         "y": [
          "regulator",
          "ium",
          "transcript",
          "hedge",
          "layer",
          "budget",
          "journey",
          "inflation",
          "portion",
          "practice",
          "marketing",
          "scheme",
          "remittance",
          "variance",
          "financial",
          "folk",
          "compensation",
          "reinstatement",
          "diﬀerent",
          "ape",
          "surplus",
          "feature",
          "vehicle",
          "inflow",
          "pius",
          "comp",
          "healthcare",
          "maturity",
          "agency",
          "longevity"
         ],
         "yaxis": "y2"
        },
        {
         "name": "Topic 8",
         "orientation": "h",
         "type": "bar",
         "x": [
          0.00293,
          0.00293,
          0.00293,
          0.00293,
          0.00293,
          0.00293,
          0.00293,
          0.00293,
          0.00293,
          0.00293,
          0.00293,
          0.00313,
          0.00313,
          0.00313,
          0.00314,
          0.00412,
          0.00436,
          0.00437,
          0.00437,
          0.00437,
          0.00453,
          0.00453,
          0.00467,
          0.00503,
          0.005039999999999999,
          0.00556,
          0.0058,
          0.00596,
          0.006059999999999999,
          0.00725
         ],
         "xaxis": "x3",
         "y": [
          "productivity",
          "principle",
          "persistency",
          "list",
          "midterm",
          "pattern",
          "fluctuation",
          "flood",
          "mark",
          "hold",
          "portion",
          "budget",
          "graph",
          "oﬀ",
          "px",
          "agency",
          "city",
          "inflow",
          "cover",
          "form",
          "job",
          "crop",
          "ﬁgure",
          "crisis",
          "unwriter",
          "surplus",
          "decade",
          "face",
          "hedge",
          "forecast"
         ],
         "yaxis": "y3"
        }
       ],
       "layout": {
        "annotations": [
         {
          "font": {
           "size": 16
          },
          "showarrow": false,
          "text": "topic_3",
          "x": 0.13999999999999999,
          "xanchor": "center",
          "xref": "paper",
          "y": 1,
          "yanchor": "bottom",
          "yref": "paper"
         },
         {
          "font": {
           "size": 16
          },
          "showarrow": false,
          "text": "topic_4",
          "x": 0.49999999999999994,
          "xanchor": "center",
          "xref": "paper",
          "y": 1,
          "yanchor": "bottom",
          "yref": "paper"
         },
         {
          "font": {
           "size": 16
          },
          "showarrow": false,
          "text": "topic_8",
          "x": 0.86,
          "xanchor": "center",
          "xref": "paper",
          "y": 1,
          "yanchor": "bottom",
          "yref": "paper"
         }
        ],
        "height": 600,
        "legend": {
         "tracegroupgap": 180
        },
        "template": {
         "data": {
          "bar": [
           {
            "error_x": {
             "color": "#2a3f5f"
            },
            "error_y": {
             "color": "#2a3f5f"
            },
            "marker": {
             "line": {
              "color": "#E5ECF6",
              "width": 0.5
             },
             "pattern": {
              "fillmode": "overlay",
              "size": 10,
              "solidity": 0.2
             }
            },
            "type": "bar"
           }
          ],
          "barpolar": [
           {
            "marker": {
             "line": {
              "color": "#E5ECF6",
              "width": 0.5
             },
             "pattern": {
              "fillmode": "overlay",
              "size": 10,
              "solidity": 0.2
             }
            },
            "type": "barpolar"
           }
          ],
          "carpet": [
           {
            "aaxis": {
             "endlinecolor": "#2a3f5f",
             "gridcolor": "white",
             "linecolor": "white",
             "minorgridcolor": "white",
             "startlinecolor": "#2a3f5f"
            },
            "baxis": {
             "endlinecolor": "#2a3f5f",
             "gridcolor": "white",
             "linecolor": "white",
             "minorgridcolor": "white",
             "startlinecolor": "#2a3f5f"
            },
            "type": "carpet"
           }
          ],
          "choropleth": [
           {
            "colorbar": {
             "outlinewidth": 0,
             "ticks": ""
            },
            "type": "choropleth"
           }
          ],
          "contour": [
           {
            "colorbar": {
             "outlinewidth": 0,
             "ticks": ""
            },
            "colorscale": [
             [
              0,
              "#0d0887"
             ],
             [
              0.1111111111111111,
              "#46039f"
             ],
             [
              0.2222222222222222,
              "#7201a8"
             ],
             [
              0.3333333333333333,
              "#9c179e"
             ],
             [
              0.4444444444444444,
              "#bd3786"
             ],
             [
              0.5555555555555556,
              "#d8576b"
             ],
             [
              0.6666666666666666,
              "#ed7953"
             ],
             [
              0.7777777777777778,
              "#fb9f3a"
             ],
             [
              0.8888888888888888,
              "#fdca26"
             ],
             [
              1,
              "#f0f921"
             ]
            ],
            "type": "contour"
           }
          ],
          "contourcarpet": [
           {
            "colorbar": {
             "outlinewidth": 0,
             "ticks": ""
            },
            "type": "contourcarpet"
           }
          ],
          "heatmap": [
           {
            "colorbar": {
             "outlinewidth": 0,
             "ticks": ""
            },
            "colorscale": [
             [
              0,
              "#0d0887"
             ],
             [
              0.1111111111111111,
              "#46039f"
             ],
             [
              0.2222222222222222,
              "#7201a8"
             ],
             [
              0.3333333333333333,
              "#9c179e"
             ],
             [
              0.4444444444444444,
              "#bd3786"
             ],
             [
              0.5555555555555556,
              "#d8576b"
             ],
             [
              0.6666666666666666,
              "#ed7953"
             ],
             [
              0.7777777777777778,
              "#fb9f3a"
             ],
             [
              0.8888888888888888,
              "#fdca26"
             ],
             [
              1,
              "#f0f921"
             ]
            ],
            "type": "heatmap"
           }
          ],
          "heatmapgl": [
           {
            "colorbar": {
             "outlinewidth": 0,
             "ticks": ""
            },
            "colorscale": [
             [
              0,
              "#0d0887"
             ],
             [
              0.1111111111111111,
              "#46039f"
             ],
             [
              0.2222222222222222,
              "#7201a8"
             ],
             [
              0.3333333333333333,
              "#9c179e"
             ],
             [
              0.4444444444444444,
              "#bd3786"
             ],
             [
              0.5555555555555556,
              "#d8576b"
             ],
             [
              0.6666666666666666,
              "#ed7953"
             ],
             [
              0.7777777777777778,
              "#fb9f3a"
             ],
             [
              0.8888888888888888,
              "#fdca26"
             ],
             [
              1,
              "#f0f921"
             ]
            ],
            "type": "heatmapgl"
           }
          ],
          "histogram": [
           {
            "marker": {
             "pattern": {
              "fillmode": "overlay",
              "size": 10,
              "solidity": 0.2
             }
            },
            "type": "histogram"
           }
          ],
          "histogram2d": [
           {
            "colorbar": {
             "outlinewidth": 0,
             "ticks": ""
            },
            "colorscale": [
             [
              0,
              "#0d0887"
             ],
             [
              0.1111111111111111,
              "#46039f"
             ],
             [
              0.2222222222222222,
              "#7201a8"
             ],
             [
              0.3333333333333333,
              "#9c179e"
             ],
             [
              0.4444444444444444,
              "#bd3786"
             ],
             [
              0.5555555555555556,
              "#d8576b"
             ],
             [
              0.6666666666666666,
              "#ed7953"
             ],
             [
              0.7777777777777778,
              "#fb9f3a"
             ],
             [
              0.8888888888888888,
              "#fdca26"
             ],
             [
              1,
              "#f0f921"
             ]
            ],
            "type": "histogram2d"
           }
          ],
          "histogram2dcontour": [
           {
            "colorbar": {
             "outlinewidth": 0,
             "ticks": ""
            },
            "colorscale": [
             [
              0,
              "#0d0887"
             ],
             [
              0.1111111111111111,
              "#46039f"
             ],
             [
              0.2222222222222222,
              "#7201a8"
             ],
             [
              0.3333333333333333,
              "#9c179e"
             ],
             [
              0.4444444444444444,
              "#bd3786"
             ],
             [
              0.5555555555555556,
              "#d8576b"
             ],
             [
              0.6666666666666666,
              "#ed7953"
             ],
             [
              0.7777777777777778,
              "#fb9f3a"
             ],
             [
              0.8888888888888888,
              "#fdca26"
             ],
             [
              1,
              "#f0f921"
             ]
            ],
            "type": "histogram2dcontour"
           }
          ],
          "mesh3d": [
           {
            "colorbar": {
             "outlinewidth": 0,
             "ticks": ""
            },
            "type": "mesh3d"
           }
          ],
          "parcoords": [
           {
            "line": {
             "colorbar": {
              "outlinewidth": 0,
              "ticks": ""
             }
            },
            "type": "parcoords"
           }
          ],
          "pie": [
           {
            "automargin": true,
            "type": "pie"
           }
          ],
          "scatter": [
           {
            "fillpattern": {
             "fillmode": "overlay",
             "size": 10,
             "solidity": 0.2
            },
            "type": "scatter"
           }
          ],
          "scatter3d": [
           {
            "line": {
             "colorbar": {
              "outlinewidth": 0,
              "ticks": ""
             }
            },
            "marker": {
             "colorbar": {
              "outlinewidth": 0,
              "ticks": ""
             }
            },
            "type": "scatter3d"
           }
          ],
          "scattercarpet": [
           {
            "marker": {
             "colorbar": {
              "outlinewidth": 0,
              "ticks": ""
             }
            },
            "type": "scattercarpet"
           }
          ],
          "scattergeo": [
           {
            "marker": {
             "colorbar": {
              "outlinewidth": 0,
              "ticks": ""
             }
            },
            "type": "scattergeo"
           }
          ],
          "scattergl": [
           {
            "marker": {
             "colorbar": {
              "outlinewidth": 0,
              "ticks": ""
             }
            },
            "type": "scattergl"
           }
          ],
          "scattermapbox": [
           {
            "marker": {
             "colorbar": {
              "outlinewidth": 0,
              "ticks": ""
             }
            },
            "type": "scattermapbox"
           }
          ],
          "scatterpolar": [
           {
            "marker": {
             "colorbar": {
              "outlinewidth": 0,
              "ticks": ""
             }
            },
            "type": "scatterpolar"
           }
          ],
          "scatterpolargl": [
           {
            "marker": {
             "colorbar": {
              "outlinewidth": 0,
              "ticks": ""
             }
            },
            "type": "scatterpolargl"
           }
          ],
          "scatterternary": [
           {
            "marker": {
             "colorbar": {
              "outlinewidth": 0,
              "ticks": ""
             }
            },
            "type": "scatterternary"
           }
          ],
          "surface": [
           {
            "colorbar": {
             "outlinewidth": 0,
             "ticks": ""
            },
            "colorscale": [
             [
              0,
              "#0d0887"
             ],
             [
              0.1111111111111111,
              "#46039f"
             ],
             [
              0.2222222222222222,
              "#7201a8"
             ],
             [
              0.3333333333333333,
              "#9c179e"
             ],
             [
              0.4444444444444444,
              "#bd3786"
             ],
             [
              0.5555555555555556,
              "#d8576b"
             ],
             [
              0.6666666666666666,
              "#ed7953"
             ],
             [
              0.7777777777777778,
              "#fb9f3a"
             ],
             [
              0.8888888888888888,
              "#fdca26"
             ],
             [
              1,
              "#f0f921"
             ]
            ],
            "type": "surface"
           }
          ],
          "table": [
           {
            "cells": {
             "fill": {
              "color": "#EBF0F8"
             },
             "line": {
              "color": "white"
             }
            },
            "header": {
             "fill": {
              "color": "#C8D4E3"
             },
             "line": {
              "color": "white"
             }
            },
            "type": "table"
           }
          ]
         },
         "layout": {
          "annotationdefaults": {
           "arrowcolor": "#2a3f5f",
           "arrowhead": 0,
           "arrowwidth": 1
          },
          "autotypenumbers": "strict",
          "coloraxis": {
           "colorbar": {
            "outlinewidth": 0,
            "ticks": ""
           }
          },
          "colorscale": {
           "diverging": [
            [
             0,
             "#8e0152"
            ],
            [
             0.1,
             "#c51b7d"
            ],
            [
             0.2,
             "#de77ae"
            ],
            [
             0.3,
             "#f1b6da"
            ],
            [
             0.4,
             "#fde0ef"
            ],
            [
             0.5,
             "#f7f7f7"
            ],
            [
             0.6,
             "#e6f5d0"
            ],
            [
             0.7,
             "#b8e186"
            ],
            [
             0.8,
             "#7fbc41"
            ],
            [
             0.9,
             "#4d9221"
            ],
            [
             1,
             "#276419"
            ]
           ],
           "sequential": [
            [
             0,
             "#0d0887"
            ],
            [
             0.1111111111111111,
             "#46039f"
            ],
            [
             0.2222222222222222,
             "#7201a8"
            ],
            [
             0.3333333333333333,
             "#9c179e"
            ],
            [
             0.4444444444444444,
             "#bd3786"
            ],
            [
             0.5555555555555556,
             "#d8576b"
            ],
            [
             0.6666666666666666,
             "#ed7953"
            ],
            [
             0.7777777777777778,
             "#fb9f3a"
            ],
            [
             0.8888888888888888,
             "#fdca26"
            ],
            [
             1,
             "#f0f921"
            ]
           ],
           "sequentialminus": [
            [
             0,
             "#0d0887"
            ],
            [
             0.1111111111111111,
             "#46039f"
            ],
            [
             0.2222222222222222,
             "#7201a8"
            ],
            [
             0.3333333333333333,
             "#9c179e"
            ],
            [
             0.4444444444444444,
             "#bd3786"
            ],
            [
             0.5555555555555556,
             "#d8576b"
            ],
            [
             0.6666666666666666,
             "#ed7953"
            ],
            [
             0.7777777777777778,
             "#fb9f3a"
            ],
            [
             0.8888888888888888,
             "#fdca26"
            ],
            [
             1,
             "#f0f921"
            ]
           ]
          },
          "colorway": [
           "#636efa",
           "#EF553B",
           "#00cc96",
           "#ab63fa",
           "#FFA15A",
           "#19d3f3",
           "#FF6692",
           "#B6E880",
           "#FF97FF",
           "#FECB52"
          ],
          "font": {
           "color": "#2a3f5f"
          },
          "geo": {
           "bgcolor": "white",
           "lakecolor": "white",
           "landcolor": "#E5ECF6",
           "showlakes": true,
           "showland": true,
           "subunitcolor": "white"
          },
          "hoverlabel": {
           "align": "left"
          },
          "hovermode": "closest",
          "mapbox": {
           "style": "light"
          },
          "paper_bgcolor": "white",
          "plot_bgcolor": "#E5ECF6",
          "polar": {
           "angularaxis": {
            "gridcolor": "white",
            "linecolor": "white",
            "ticks": ""
           },
           "bgcolor": "#E5ECF6",
           "radialaxis": {
            "gridcolor": "white",
            "linecolor": "white",
            "ticks": ""
           }
          },
          "scene": {
           "xaxis": {
            "backgroundcolor": "#E5ECF6",
            "gridcolor": "white",
            "gridwidth": 2,
            "linecolor": "white",
            "showbackground": true,
            "ticks": "",
            "zerolinecolor": "white"
           },
           "yaxis": {
            "backgroundcolor": "#E5ECF6",
            "gridcolor": "white",
            "gridwidth": 2,
            "linecolor": "white",
            "showbackground": true,
            "ticks": "",
            "zerolinecolor": "white"
           },
           "zaxis": {
            "backgroundcolor": "#E5ECF6",
            "gridcolor": "white",
            "gridwidth": 2,
            "linecolor": "white",
            "showbackground": true,
            "ticks": "",
            "zerolinecolor": "white"
           }
          },
          "shapedefaults": {
           "line": {
            "color": "#2a3f5f"
           }
          },
          "ternary": {
           "aaxis": {
            "gridcolor": "white",
            "linecolor": "white",
            "ticks": ""
           },
           "baxis": {
            "gridcolor": "white",
            "linecolor": "white",
            "ticks": ""
           },
           "bgcolor": "#E5ECF6",
           "caxis": {
            "gridcolor": "white",
            "linecolor": "white",
            "ticks": ""
           }
          },
          "title": {
           "x": 0.05
          },
          "xaxis": {
           "automargin": true,
           "gridcolor": "white",
           "linecolor": "white",
           "ticks": "",
           "title": {
            "standoff": 15
           },
           "zerolinecolor": "white",
           "zerolinewidth": 2
          },
          "yaxis": {
           "automargin": true,
           "gridcolor": "white",
           "linecolor": "white",
           "ticks": "",
           "title": {
            "standoff": 15
           },
           "zerolinecolor": "white",
           "zerolinewidth": 2
          }
         }
        },
        "title": {
         "text": "Presention Sorted Probablity of General Words in 2011-2014 Topics"
        },
        "width": 1200,
        "xaxis": {
         "anchor": "y",
         "domain": [
          0,
          0.27999999999999997
         ],
         "tickangle": -45,
         "title": {
          "text": "Probability"
         }
        },
        "xaxis2": {
         "anchor": "y2",
         "domain": [
          0.36,
          0.6399999999999999
         ],
         "tickangle": -45,
         "title": {
          "text": "Probability"
         }
        },
        "xaxis3": {
         "anchor": "y3",
         "domain": [
          0.72,
          1
         ],
         "tickangle": -45,
         "title": {
          "text": "Probability"
         }
        },
        "yaxis": {
         "anchor": "x",
         "domain": [
          0,
          1
         ],
         "title": {
          "text": "Word"
         }
        },
        "yaxis2": {
         "anchor": "x2",
         "domain": [
          0,
          1
         ]
        },
        "yaxis3": {
         "anchor": "x3",
         "domain": [
          0,
          1
         ]
        }
       }
      }
     },
     "metadata": {},
     "output_type": "display_data"
    }
   ],
   "source": [
    "fig = make_subplots(\n",
    "    rows=1, cols=3,\n",
    "    column_widths=[2.,2.,2.],\n",
    "    row_heights=[1.],\n",
    "    specs=[\n",
    "        [{\"type\": \"bar\"}, {\"type\": \"bar\"}, {\"type\": \"bar\"}], #  {\"type\": \"bar\"}, {\"type\": \"bar\"}\n",
    "        ], \n",
    "    subplot_titles=(\"topic_3\", \"topic_4\", \"topic_8\"),\n",
    "    vertical_spacing=0.15,\n",
    "    horizontal_spacing=0.08,\n",
    "        )\n",
    "\n",
    "\n",
    "recent_list = [2,3,7]\n",
    "column_list = [1,2,3]\n",
    "timepoint_list = [[6,8],[13,8],[14,11]]\n",
    "\n",
    "for i in range(0,len(recent_list)):\n",
    "    wt_single_tp = pd.DataFrame()\n",
    "    wt_single_tp_alltime = wt[wt['k']==recent_list[i]]\n",
    "    for k in timepoint_list[i]:\n",
    "        tmp = wt_single_tp_alltime[wt_single_tp_alltime['timepoint']==k]\n",
    "        wt_single_tp = wt_single_tp.append(tmp)\n",
    "        del tmp\n",
    "\n",
    "    wt_single_tp = wt_single_tp[['word', 'prob']]\n",
    "    # df_tp6 groupby 'word' agg 'prob'\n",
    "    wt_single_tp = wt_single_tp.groupby('word').agg({'prob':'sum'})\n",
    "    wt_single_tp = wt_single_tp.reset_index()\n",
    "    wt_single_tp = wt_single_tp.sort_values(by='prob', ascending=False)\n",
    "    wt_single_tp = wt_single_tp.reset_index(drop=True)\n",
    "    wt_single_tp = wt_single_tp.head(30).sort_values(by='prob', ascending=True)\n",
    "    wt_single_tp = wt_single_tp.reset_index(drop=True)\n",
    "    # print(\"==============\",\"Topic {}\".format(recent_list[i] + 1),\"================\")\n",
    "    # print(wt_single_tp['word'])\n",
    "\n",
    "    fig.add_trace(go.Bar(\n",
    "        y=wt_single_tp['word'],\n",
    "        x=wt_single_tp['prob'],\n",
    "        name=\"Topic {}\".format(recent_list[i] + 1),\n",
    "        # make the bar virtical\n",
    "        orientation='h',\n",
    "        ), row=1, col=column_list[i])\n",
    "\n",
    "fig.update_layout(\n",
    "    height=600,\n",
    "    width=1200,\n",
    "    title_text=\"Presention Sorted Probablity of General Words in 2011-2014 Topics\",\n",
    "    xaxis1_title = 'Probability',\n",
    "    xaxis2_title = 'Probability',\n",
    "    xaxis3_title = 'Probability',\n",
    "    # xaxis4_title = 'Probability',\n",
    "    # xaxis5_title = 'Probability',\n",
    "    yaxis1_title = 'Word',\n",
    "    # make the ytick label virtical\n",
    "    xaxis1_tickangle=-45,\n",
    "    xaxis2_tickangle=-45,\n",
    "    xaxis3_tickangle=-45,\n",
    "    # xaxis4_tickangle=-45,\n",
    "    # xaxis5_tickangle=-45,\n",
    "    legend_tracegroupgap = 180,\n",
    "\n",
    "    )\n",
    "\n",
    "fig.show()"
   ]
  },
  {
   "cell_type": "code",
   "execution_count": null,
   "metadata": {},
   "outputs": [],
   "source": []
  },
  {
   "cell_type": "code",
   "execution_count": null,
   "metadata": {},
   "outputs": [],
   "source": []
  },
  {
   "cell_type": "code",
   "execution_count": null,
   "metadata": {},
   "outputs": [],
   "source": []
  },
  {
   "cell_type": "code",
   "execution_count": null,
   "metadata": {},
   "outputs": [],
   "source": []
  },
  {
   "cell_type": "code",
   "execution_count": null,
   "metadata": {},
   "outputs": [],
   "source": []
  },
  {
   "cell_type": "code",
   "execution_count": null,
   "metadata": {},
   "outputs": [],
   "source": []
  },
  {
   "cell_type": "code",
   "execution_count": null,
   "metadata": {},
   "outputs": [],
   "source": []
  },
  {
   "cell_type": "code",
   "execution_count": 65,
   "metadata": {},
   "outputs": [],
   "source": [
    "# test = wt[wt['k']==15]\n",
    "# print(test[test['timepoint']==39].word)\n",
    "# print(\"====================\")\n",
    "# print(test[test['timepoint']==40].word)\n",
    "# print(\"====================\")\n",
    "# print(test[test['timepoint']==41].word)\n",
    "# print(\"====================\")\n",
    "# print(test[test['timepoint']==13].word)\n"
   ]
  },
  {
   "cell_type": "code",
   "execution_count": 66,
   "metadata": {},
   "outputs": [],
   "source": [
    "# test = wt[wt['k']==14]\n",
    "# print(test[test['timepoint']==10].word)\n",
    "# print(\"====================\")\n",
    "# print(test[test['timepoint']==19].word)\n",
    "# print(\"====================\")\n",
    "# print(test[test['timepoint']==7].word)\n"
   ]
  },
  {
   "cell_type": "code",
   "execution_count": 67,
   "metadata": {},
   "outputs": [],
   "source": [
    "# df_tp1 = pd.DataFrame()\n",
    "# test = wt[wt['k']==0]\n",
    "# words = test['word'].unique().tolist()\n",
    "# df_tp1['word'] = words\n",
    "# time_list = [i for i in range(0, best_mdl.num_timepoints)] \n",
    "# for timepoint in time_list:\n",
    "#     tmp_df = test[test['timepoint']==timepoint]\n",
    "#     tmp_df  = tmp_df[['word', 'prob']]\n",
    "#     # rename the column name\n",
    "#     tmp_df.columns = ['word', 'prob_timepoint_'+str(timepoint)]\n",
    "#     df_tp1 = df_tp1.merge(tmp_df, on=['word'], how='left')\n",
    "\n",
    "# # fill the nan value with 0\n",
    "# df_tp1 = df_tp1.fillna(0)\n",
    "# df_tp1\n",
    "\n",
    "# # sum the prob of each word in each timepoint\n",
    "# df_tp1['prob_sum'] = df_tp1.iloc[:,1:].sum(axis=1)\n",
    "# # sort the df by sum_prob\n",
    "# df_tp1 = df_tp1.sort_values(by='prob_sum', ascending=False)\n",
    "# # drop the df_tp10['sum_prob']\n",
    "# df_tp1 = df_tp1.drop(['prob_sum'], axis=1)\n",
    "# # RESET THE INDEX\n",
    "# df_tp1 = df_tp1.reset_index(drop=True)\n",
    "# # df_tp1"
   ]
  },
  {
   "cell_type": "code",
   "execution_count": 68,
   "metadata": {},
   "outputs": [],
   "source": [
    "# # sum the over all probability for each word\n",
    "# from telnetlib import AUTHENTICATION\n",
    "\n",
    "\n",
    "# prob_sum = df_tp1.iloc[:,1:].sum(axis=1)\n",
    "# prob_sum_df = df_tp1[['word']]\n",
    "# prob_sum_df['prob_sum'] = prob_sum\n",
    "# prob_sum_df = prob_sum_df.sort_values(by=['prob_sum'], ascending=False)\n",
    "# prob_sum_df = prob_sum_df.head(80)\n",
    "# # plot prob_sum_df by bar\n",
    "# fig = px.bar(prob_sum_df, x='word', y='prob_sum',\n",
    "#                 title='Topic 10 Probablity Sum of General Words')\n",
    "# fig.show()\n",
    "\n",
    "# # Deceased (acceleration), Autorization, travel, financing......."
   ]
  },
  {
   "cell_type": "code",
   "execution_count": 69,
   "metadata": {},
   "outputs": [],
   "source": [
    "# tp_1_words = prob_sum_df.word.head(50).to_list()\n",
    "# print(tp_1_words)\n",
    "\n",
    "# # antagonist, scheme, inflow, variability, forma, threshold, repurchase, severity, concept, creation, dynamic, milestone\n",
    "# # 競爭者, 術式, 流入, 可變性, 形式, 阈值, 重購, 危急性, 概念, 創立, 動態, 里程碑"
   ]
  },
  {
   "cell_type": "code",
   "execution_count": 70,
   "metadata": {},
   "outputs": [],
   "source": [
    "# df_tp1_plot = df_tp1.T\n",
    "# df_tp1_plot.columns = df_tp1['word']\n",
    "# df_tp1_plot.reset_index(inplace=True)\n",
    "# df_tp1_plot.drop(df_tp1_plot.index[0], inplace=True)\n",
    "# df_tp1_plot.rename(columns={'index': 'timepoint'}, inplace=True)\n",
    "# df_tp1_plot['timepoint'] = time_list\n",
    "\n",
    "# # plot the df_tp10_plot to see\n",
    "# fig = px.line(df_tp1_plot, x=\"timepoint\", y=df_tp1_plot.iloc[:,1:].columns,\n",
    "#                 hover_data={\"timepoint\"},\n",
    "#                 title='Topic 10 in Time Series')\n",
    "# fig.update_xaxes(\n",
    "#     dtick=\"M1\",\n",
    "#     tickformat=\"%b %d\",\n",
    "#     ticklabelmode=\"period\")\n",
    "\n",
    "# fig.show()\n",
    "\n",
    "\n",
    "# # antagonist, scheme, inflow, variability, forma, threshold, repurchase, severity, concept, creation, dynamic, milestone\n",
    "# # 競爭者, 術式, 流入, 可變性, 形式, 阈值, 重購, 危急性, 概念, 創立, 動態, 里程碑"
   ]
  },
  {
   "cell_type": "code",
   "execution_count": 71,
   "metadata": {},
   "outputs": [],
   "source": [
    "# df_tp1_plot = df_tp1.T\n",
    "# df_tp1_plot.columns = df_tp1['word']\n",
    "# df_tp1_plot.reset_index(inplace=True)\n",
    "# df_tp1_plot.drop(df_tp1_plot.index[0], inplace=True)\n",
    "# df_tp1_plot.rename(columns={'index': 'timepoint'}, inplace=True)\n",
    "# df_tp1_plot['timepoint'] = time_list\n",
    "\n",
    "# columns = ['timepoint', 'antagonist', 'scheme', 'inflow', 'variability', 'forma', 'threshold', 'repurchase', 'severity', 'concept', 'creation', 'dynamic', 'milestone']\n",
    "# df_tp1_plot = df_tp1_plot[columns]\n",
    "\n",
    "# # plot the df_tp10_plot to see\n",
    "# fig = px.line(df_tp1_plot, x=\"timepoint\", y=df_tp1_plot.iloc[:,1:].columns,\n",
    "#                 hover_data={\"timepoint\"},\n",
    "#                 title='Topic 10 in Time Series')\n",
    "# fig.update_xaxes(\n",
    "#     dtick=\"M1\",\n",
    "#     tickformat=\"%b %d\",\n",
    "#     ticklabelmode=\"period\")\n",
    "\n",
    "# fig.show()\n",
    "\n",
    "\n",
    "# # antagonist, scheme, inflow, variability, forma, threshold, repurchase, severity, concept, creation, dynamic, milestone\n",
    "# # 競爭者, 術式, 流入, 可變性, 形式, 阈值, 重購, 危急性, 概念, 創立, 動態, 里程碑"
   ]
  },
  {
   "cell_type": "code",
   "execution_count": null,
   "metadata": {},
   "outputs": [],
   "source": [
    "\n",
    "# from plotly.subplots import make_subplots\n",
    "# import plotly.graph_objects as go\n",
    "# # make a subplot for each topic\n",
    "# fig = make_subplots(rows=2, cols=1, shared_xaxes=True,\n",
    "#                     vertical_spacing=0.03,\n",
    "#                     subplot_titles=['Topic Words Prob', 'Time Series Prob'])\n",
    "\n",
    "# fig.add_trace(go.Bar(x=prob_sum_df['word'], y=prob_sum_df['prob_sum'], name='Probablity Sum of All Time'), row=2, col=1)\n",
    "# fig.add_trace(px.line(\n",
    "#     df_tp10_plot, x=\"timepoint\", y=df_tp10_plot.iloc[:,1:].columns,\n",
    "#                 hover_data={\"timepoint\"},\n",
    "#                 title='Topic 10 in Time Series'), row=1, col=1)\n",
    "\n",
    "# fig.update_layout(barmode='group', title='Topic 10')\n",
    "# fig.show()"
   ]
  },
  {
   "cell_type": "code",
   "execution_count": 362,
   "metadata": {},
   "outputs": [],
   "source": [
    "# from plotly.subplots import make_subplots\n",
    "# import plotly.graph_objects as go\n",
    "# # make a subplot for each topic\n",
    "# fig = make_subplots(rows=best_mdl.k, cols=1, shared_xaxes=True,\n",
    "#                     vertical_spacing=0.03,)\n",
    "#                     # subplot_titles=best_mdl.topic_names)\n",
    "# for k in range(best_mdl.k):\n",
    "#     fig.add_trace(\n",
    "#         go.Scatter(\n",
    "#             x=td.timepoint,\n",
    "#             y=td.iloc[:, k],\n",
    "#             mode=\"lines\",\n",
    "#             # name=best_mdl.topic_names[k],\n",
    "#             # line=dict(color=best_mdl.topic_colors[k]\n",
    "#             ),\n",
    "#         ),\n",
    "#         row=k + 1,\n",
    "#         col=1,\n",
    "#     )\n",
    "# fig.update_layout(title=\"Topic Distribution Over Time\")\n",
    "# fig.show()\n"
   ]
  },
  {
   "cell_type": "code",
   "execution_count": 319,
   "metadata": {},
   "outputs": [
    {
     "data": {
      "text/html": [
       "<div>\n",
       "<style scoped>\n",
       "    .dataframe tbody tr th:only-of-type {\n",
       "        vertical-align: middle;\n",
       "    }\n",
       "\n",
       "    .dataframe tbody tr th {\n",
       "        vertical-align: top;\n",
       "    }\n",
       "\n",
       "    .dataframe thead th {\n",
       "        text-align: right;\n",
       "    }\n",
       "</style>\n",
       "<table border=\"1\" class=\"dataframe\">\n",
       "  <thead>\n",
       "    <tr style=\"text-align: right;\">\n",
       "      <th></th>\n",
       "      <th>6</th>\n",
       "      <th>10</th>\n",
       "      <th>13</th>\n",
       "      <th>9</th>\n",
       "      <th>16</th>\n",
       "      <th>0</th>\n",
       "      <th>3</th>\n",
       "      <th>8</th>\n",
       "      <th>12</th>\n",
       "      <th>15</th>\n",
       "      <th>1</th>\n",
       "      <th>2</th>\n",
       "      <th>4</th>\n",
       "      <th>7</th>\n",
       "      <th>11</th>\n",
       "      <th>5</th>\n",
       "      <th>14</th>\n",
       "    </tr>\n",
       "  </thead>\n",
       "  <tbody>\n",
       "    <tr>\n",
       "      <th>word</th>\n",
       "      <td>inflation</td>\n",
       "      <td>pandemic</td>\n",
       "      <td>sustainability</td>\n",
       "      <td>mortality</td>\n",
       "      <td>wave</td>\n",
       "      <td>climate</td>\n",
       "      <td>death</td>\n",
       "      <td>legacy</td>\n",
       "      <td>resince</td>\n",
       "      <td>vaccine</td>\n",
       "      <td>crisis</td>\n",
       "      <td>cyber</td>\n",
       "      <td>framework</td>\n",
       "      <td>ivery</td>\n",
       "      <td>purpose</td>\n",
       "      <td>guarantee</td>\n",
       "      <td>transfer</td>\n",
       "    </tr>\n",
       "    <tr>\n",
       "      <th>prob</th>\n",
       "      <td>0.00661</td>\n",
       "      <td>0.0061</td>\n",
       "      <td>0.00462</td>\n",
       "      <td>0.00437</td>\n",
       "      <td>0.00292</td>\n",
       "      <td>0.00277</td>\n",
       "      <td>0.00275</td>\n",
       "      <td>0.00274</td>\n",
       "      <td>0.00268</td>\n",
       "      <td>0.00243</td>\n",
       "      <td>0.00239</td>\n",
       "      <td>0.00238</td>\n",
       "      <td>0.00232</td>\n",
       "      <td>0.0022</td>\n",
       "      <td>0.002185</td>\n",
       "      <td>0.00204</td>\n",
       "      <td>0.00204</td>\n",
       "    </tr>\n",
       "  </tbody>\n",
       "</table>\n",
       "</div>"
      ],
      "text/plain": [
       "             6         10              13         9        16       0   \\\n",
       "word  inflation  pandemic  sustainability  mortality     wave  climate   \n",
       "prob    0.00661    0.0061         0.00462    0.00437  0.00292  0.00277   \n",
       "\n",
       "           3        8        12       15       1        2          4       7   \\\n",
       "word    death   legacy  resince  vaccine   crisis    cyber  framework   ivery   \n",
       "prob  0.00275  0.00274  0.00268  0.00243  0.00239  0.00238    0.00232  0.0022   \n",
       "\n",
       "            11         5         14  \n",
       "word   purpose  guarantee  transfer  \n",
       "prob  0.002185    0.00204   0.00204  "
      ]
     },
     "execution_count": 319,
     "metadata": {},
     "output_type": "execute_result"
    }
   ],
   "source": [
    "test = wt[wt['k']==9]\n",
    "time_list = [39,42]\n",
    "test = test[test['timepoint'].isin(time_list)]\n",
    "# groupby word and get the average of prob\n",
    "test = test.groupby(['word'])['prob'].mean().reset_index()\n",
    "# sort by prob\n",
    "test.sort_values(by='prob', ascending=False, inplace=True)\n",
    "test.T"
   ]
  },
  {
   "cell_type": "code",
   "execution_count": 163,
   "metadata": {},
   "outputs": [
    {
     "data": {
      "text/html": [
       "<div>\n",
       "<style scoped>\n",
       "    .dataframe tbody tr th:only-of-type {\n",
       "        vertical-align: middle;\n",
       "    }\n",
       "\n",
       "    .dataframe tbody tr th {\n",
       "        vertical-align: top;\n",
       "    }\n",
       "\n",
       "    .dataframe thead th {\n",
       "        text-align: right;\n",
       "    }\n",
       "</style>\n",
       "<table border=\"1\" class=\"dataframe\">\n",
       "  <thead>\n",
       "    <tr style=\"text-align: right;\">\n",
       "      <th></th>\n",
       "      <th>8</th>\n",
       "      <th>14</th>\n",
       "      <th>3</th>\n",
       "      <th>5</th>\n",
       "      <th>15</th>\n",
       "      <th>1</th>\n",
       "      <th>7</th>\n",
       "      <th>20</th>\n",
       "      <th>18</th>\n",
       "      <th>0</th>\n",
       "      <th>19</th>\n",
       "      <th>16</th>\n",
       "      <th>17</th>\n",
       "      <th>11</th>\n",
       "      <th>10</th>\n",
       "      <th>22</th>\n",
       "      <th>12</th>\n",
       "      <th>9</th>\n",
       "      <th>4</th>\n",
       "      <th>13</th>\n",
       "      <th>21</th>\n",
       "      <th>6</th>\n",
       "      <th>2</th>\n",
       "    </tr>\n",
       "  </thead>\n",
       "  <tbody>\n",
       "    <tr>\n",
       "      <th>word</th>\n",
       "      <td>growth</td>\n",
       "      <td>loss</td>\n",
       "      <td>claim</td>\n",
       "      <td>customer</td>\n",
       "      <td>performance</td>\n",
       "      <td>capital</td>\n",
       "      <td>divid</td>\n",
       "      <td>segment</td>\n",
       "      <td>product</td>\n",
       "      <td>asset</td>\n",
       "      <td>profit</td>\n",
       "      <td>portfolio</td>\n",
       "      <td>premium</td>\n",
       "      <td>income</td>\n",
       "      <td>impact</td>\n",
       "      <td>target</td>\n",
       "      <td>increase</td>\n",
       "      <td>half</td>\n",
       "      <td>cost</td>\n",
       "      <td>inﬂation</td>\n",
       "      <td>share</td>\n",
       "      <td>development</td>\n",
       "      <td>cash</td>\n",
       "    </tr>\n",
       "    <tr>\n",
       "      <th>prob</th>\n",
       "      <td>0.019423</td>\n",
       "      <td>0.018685</td>\n",
       "      <td>0.01526</td>\n",
       "      <td>0.014873</td>\n",
       "      <td>0.01481</td>\n",
       "      <td>0.012922</td>\n",
       "      <td>0.01082</td>\n",
       "      <td>0.01067</td>\n",
       "      <td>0.01055</td>\n",
       "      <td>0.010425</td>\n",
       "      <td>0.01036</td>\n",
       "      <td>0.010252</td>\n",
       "      <td>0.010044</td>\n",
       "      <td>0.009495</td>\n",
       "      <td>0.009417</td>\n",
       "      <td>0.0091</td>\n",
       "      <td>0.009097</td>\n",
       "      <td>0.008645</td>\n",
       "      <td>0.00861</td>\n",
       "      <td>0.00808</td>\n",
       "      <td>0.00756</td>\n",
       "      <td>0.00754</td>\n",
       "      <td>0.00687</td>\n",
       "    </tr>\n",
       "  </tbody>\n",
       "</table>\n",
       "</div>"
      ],
      "text/plain": [
       "            8         14       3         5            15        1        7   \\\n",
       "word    growth      loss    claim  customer  performance   capital    divid   \n",
       "prob  0.019423  0.018685  0.01526  0.014873      0.01481  0.012922  0.01082   \n",
       "\n",
       "           20       18        0        19         16        17        11  \\\n",
       "word  segment  product     asset   profit  portfolio   premium    income   \n",
       "prob  0.01067  0.01055  0.010425  0.01036   0.010252  0.010044  0.009495   \n",
       "\n",
       "            10      22        12        9        4         13       21  \\\n",
       "word    impact  target  increase      half     cost  inﬂation    share   \n",
       "prob  0.009417  0.0091  0.009097  0.008645  0.00861   0.00808  0.00756   \n",
       "\n",
       "               6        2   \n",
       "word  development     cash  \n",
       "prob      0.00754  0.00687  "
      ]
     },
     "execution_count": 163,
     "metadata": {},
     "output_type": "execute_result"
    }
   ],
   "source": [
    "test = wt[wt['k']==1]\n",
    "time_list = [3,4,22,43,44,45]\n",
    "test = test[test['timepoint'].isin(time_list)]\n",
    "# groupby word and get the average of prob\n",
    "test = test.groupby(['word'])['prob'].mean().reset_index()\n",
    "# sort by prob\n",
    "test.sort_values(by='prob', ascending=False, inplace=True)\n",
    "test.T"
   ]
  },
  {
   "cell_type": "markdown",
   "metadata": {},
   "source": [
    "# During the early of time "
   ]
  },
  {
   "cell_type": "code",
   "execution_count": 136,
   "metadata": {},
   "outputs": [
    {
     "data": {
      "application/vnd.plotly.v1+json": {
       "config": {
        "plotlyServerURL": "https://plot.ly"
       },
       "data": [
        {
         "hovertemplate": "variable=topic_2<br>timepoint=%{x}<br>value=%{y}<extra></extra>",
         "legendgroup": "topic_2",
         "line": {
          "color": "#636efa",
          "dash": "solid"
         },
         "marker": {
          "symbol": "circle"
         },
         "mode": "lines",
         "name": "topic_2",
         "showlegend": true,
         "type": "scattergl",
         "x": [
          0,
          1,
          2,
          3,
          4,
          5,
          6,
          7,
          8,
          9,
          10,
          11,
          12,
          13,
          14,
          15,
          16,
          17,
          18,
          19,
          20,
          21,
          22,
          23,
          24,
          25,
          26,
          27,
          28,
          29,
          30,
          31,
          32,
          33,
          34,
          35,
          36,
          37,
          38,
          39,
          40,
          41,
          42,
          43,
          44,
          45
         ],
         "xaxis": "x",
         "y": [
          0.019071975722908974,
          0.02233649231493473,
          0.024860840290784836,
          0.020174428820610046,
          0.019974306225776672,
          0.01908494345843792,
          0.021283742040395737,
          0.021666647866368294,
          0.02145940437912941,
          0.0194549597799778,
          0.0010009066900238395,
          0.016192175447940826,
          0.00013490166747942567,
          0.0001072156082955189,
          0.000003142114792353823,
          0.00008684970816830173,
          0.0000032511127301404485,
          0.000005707209311367478,
          0.00003762780761462636,
          0.000005121455615153536,
          0.0000026942777822114294,
          0.000004450834239833057,
          0.0000032300056318490533,
          0.00004726974657387473,
          0.000031462102924706414,
          0.000037009998777648434,
          0.00006293322803685442,
          0.000028141846996732056,
          0.0000020826955733355135,
          0.00006966167711652815,
          0.00003060852759517729,
          0.00002571433287812397,
          0.0000022088854620960774,
          0.00003271696550655179,
          0.0000021562086658377666,
          0.0000751807019696571,
          0.00006405427120625973,
          0.0000034368160868325504,
          0.000058944555348716676,
          0.000003099170498899184,
          0.000026451401936355978,
          0.00003887379352818243,
          0.00006683491665171459,
          0.00003503552943584509,
          0.00028556425240822136,
          0.021474389359354973
         ],
         "yaxis": "y"
        },
        {
         "hovertemplate": "variable=topic_5<br>timepoint=%{x}<br>value=%{y}<extra></extra>",
         "legendgroup": "topic_5",
         "line": {
          "color": "#EF553B",
          "dash": "solid"
         },
         "marker": {
          "symbol": "circle"
         },
         "mode": "lines",
         "name": "topic_5",
         "showlegend": true,
         "type": "scattergl",
         "x": [
          0,
          1,
          2,
          3,
          4,
          5,
          6,
          7,
          8,
          9,
          10,
          11,
          12,
          13,
          14,
          15,
          16,
          17,
          18,
          19,
          20,
          21,
          22,
          23,
          24,
          25,
          26,
          27,
          28,
          29,
          30,
          31,
          32,
          33,
          34,
          35,
          36,
          37,
          38,
          39,
          40,
          41,
          42,
          43,
          44,
          45
         ],
         "xaxis": "x",
         "y": [
          0.018600130453705788,
          0.027871515601873398,
          0.016332406550645828,
          0.01791398972272873,
          0.023329269140958786,
          0.029445771127939224,
          0.02329903654754162,
          0.019031360745429993,
          0.015697110444307327,
          0.020021334290504456,
          0.00021485429897438735,
          0.04310236871242523,
          0.00035248504718765616,
          0.0000051055053518211935,
          0.000034563261579023674,
          0.00004549271034193225,
          0.00003576224116841331,
          0.000005707209311367478,
          0.00007183490379247814,
          0.00010755056428024545,
          0.0000026942777822114294,
          0.000004450834239833057,
          0.0000032300056318490533,
          0.00004726974657387473,
          0.0000028601912163139787,
          0.0000033645451367192436,
          0.00003296502472949214,
          0.000028141846996732056,
          0.0000020826955733355135,
          0.0000033172227631439455,
          0.000002782593355732388,
          0.000002337666728635668,
          0.000024297740310430527,
          0.0000029742698188783834,
          0.000023718295778962784,
          0.000003580033535399707,
          0.0000030502033041557297,
          0.0000034368160868325504,
          0.0000028068836854799883,
          0.00003409087366890162,
          0.000050498125347075984,
          0.00003887379352818243,
          0.000035008768463740125,
          0.0000031850481718720403,
          0.0013909743865951896,
          0.024263272061944008
         ],
         "yaxis": "y"
        },
        {
         "hovertemplate": "variable=topic_6<br>timepoint=%{x}<br>value=%{y}<extra></extra>",
         "legendgroup": "topic_6",
         "line": {
          "color": "#00cc96",
          "dash": "solid"
         },
         "marker": {
          "symbol": "circle"
         },
         "mode": "lines",
         "name": "topic_6",
         "showlegend": true,
         "type": "scattergl",
         "x": [
          0,
          1,
          2,
          3,
          4,
          5,
          6,
          7,
          8,
          9,
          10,
          11,
          12,
          13,
          14,
          15,
          16,
          17,
          18,
          19,
          20,
          21,
          22,
          23,
          24,
          25,
          26,
          27,
          28,
          29,
          30,
          31,
          32,
          33,
          34,
          35,
          36,
          37,
          38,
          39,
          40,
          41,
          42,
          43,
          44,
          45
         ],
         "xaxis": "x",
         "y": [
          0.02360168658196926,
          0.024121984839439392,
          0.015415371395647526,
          0.02413020096719265,
          0.02292012795805931,
          0.020436355844140053,
          0.029680799692869186,
          0.020177137106657028,
          0.01950434036552906,
          0.018039023503661156,
          0.0003720647655427456,
          0.02514030784368515,
          0.00013490166747942567,
          0.00015827066090423614,
          0.000003142114792353823,
          0.00000413570069213165,
          0.0000032511127301404485,
          0.000005707209311367478,
          0.00007183490379247814,
          0.000005121455615153536,
          0.0000026942777822114294,
          0.000004450834239833057,
          0.0000032300056318490533,
          0.000004297249688534066,
          0.0000028601912163139787,
          0.0001043008960550651,
          0.0000029968205126351677,
          0.0000025583497063053073,
          0.0000020826955733355135,
          0.0000033172227631439455,
          0.00003060852759517729,
          0.000049090998800238594,
          0.0000022088854620960774,
          0.00009220235369866714,
          0.000023718295778962784,
          0.00014678137085866183,
          0.0000030502033041557297,
          0.00003780497718253173,
          0.00003087572258664295,
          0.00003409087366890162,
          0.000026451401936355978,
          0.00007421359623549506,
          0.000035008768463740125,
          0.0000031850481718720403,
          0.00046979926992207766,
          0.018685508519411087
         ],
         "yaxis": "y"
        },
        {
         "hovertemplate": "variable=topic_7<br>timepoint=%{x}<br>value=%{y}<extra></extra>",
         "legendgroup": "topic_7",
         "line": {
          "color": "#ab63fa",
          "dash": "solid"
         },
         "marker": {
          "symbol": "circle"
         },
         "mode": "lines",
         "name": "topic_7",
         "showlegend": true,
         "type": "scattergl",
         "x": [
          0,
          1,
          2,
          3,
          4,
          5,
          6,
          7,
          8,
          9,
          10,
          11,
          12,
          13,
          14,
          15,
          16,
          17,
          18,
          19,
          20,
          21,
          22,
          23,
          24,
          25,
          26,
          27,
          28,
          29,
          30,
          31,
          32,
          33,
          34,
          35,
          36,
          37,
          38,
          39,
          40,
          41,
          42,
          43,
          44,
          45
         ],
         "xaxis": "x",
         "y": [
          0.026621496304869652,
          0.021265197545289993,
          0.03164690360426903,
          0.01942094974219799,
          0.016864828765392303,
          0.019385257735848427,
          0.020164133980870247,
          0.026593489572405815,
          0.01688043773174286,
          0.022098040208220482,
          0.0002672577975317836,
          0.01277082972228527,
          0.0000478683396067936,
          0.000056160562962759286,
          0.000003142114792353823,
          0.00004549271034193225,
          0.0000032511127301404485,
          0.000005707209311367478,
          0.00003762780761462636,
          0.000005121455615153536,
          0.000029637054467457347,
          0.000004450834239833057,
          0.0000032300056318490533,
          0.00009024223254527897,
          0.0000028601912163139787,
          0.000037009998777648434,
          0.00009290142770623788,
          0.0000025583497063053073,
          0.000043736603402066976,
          0.0000033172227631439455,
          0.000002782593355732388,
          0.000049090998800238594,
          0.0000022088854620960774,
          0.00006245965778362006,
          0.0000021562086658377666,
          0.00003938037116313353,
          0.00003355223816470243,
          0.0000034368160868325504,
          0.00003087572258664295,
          0.000003099170498899184,
          0.000050498125347075984,
          0.0001802330370992422,
          0.00006683491665171459,
          0.00006688600842608139,
          0.0005619167350232601,
          0.020544763654470444
         ],
         "yaxis": "y"
        },
        {
         "hovertemplate": "variable=topic_8<br>timepoint=%{x}<br>value=%{y}<extra></extra>",
         "legendgroup": "topic_8",
         "line": {
          "color": "#FFA15A",
          "dash": "solid"
         },
         "marker": {
          "symbol": "circle"
         },
         "mode": "lines",
         "name": "topic_8",
         "showlegend": true,
         "type": "scattergl",
         "x": [
          0,
          1,
          2,
          3,
          4,
          5,
          6,
          7,
          8,
          9,
          10,
          11,
          12,
          13,
          14,
          15,
          16,
          17,
          18,
          19,
          20,
          21,
          22,
          23,
          24,
          25,
          26,
          27,
          28,
          29,
          30,
          31,
          32,
          33,
          34,
          35,
          36,
          37,
          38,
          39,
          40,
          41,
          42,
          43,
          44,
          45
         ],
         "xaxis": "x",
         "y": [
          0.022374890744686127,
          0.020193902775645256,
          0.024585729464888573,
          0.019609319046139717,
          0.02521132118999958,
          0.02884514257311821,
          0.02363491803407669,
          0.0189167819917202,
          0.0178065225481987,
          0.024457933381199837,
          0.0003196612815372646,
          0.019547725096344948,
          0.00017841834051068872,
          0.000056160562962759286,
          0.000034563261579023674,
          0.00004549271034193225,
          0.00006827336619608104,
          0.000005707209311367478,
          0.00003762780761462636,
          0.0000563360117666889,
          0.0000026942777822114294,
          0.000004450834239833057,
          0.0000032300056318490533,
          0.0001761872263159603,
          0.0000028601912163139787,
          0.0001043008960550651,
          0.00003296502472949214,
          0.0000025583497063053073,
          0.000022909651306690648,
          0.00006966167711652815,
          0.00003060852759517729,
          0.000049090998800238594,
          0.000024297740310430527,
          0.00006245965778362006,
          0.0000021562086658377666,
          0.00003938037116313353,
          0.00003355223816470243,
          0.0000034368160868325504,
          0.0000028068836854799883,
          0.000003099170498899184,
          0.0000024046728412940865,
          0.00003887379352818243,
          0.000003182615500918473,
          0.00006688600842608139,
          0.0005619167350232601,
          0.01775588095188141
         ],
         "yaxis": "y"
        },
        {
         "hovertemplate": "variable=topic_10<br>timepoint=%{x}<br>value=%{y}<extra></extra>",
         "legendgroup": "topic_10",
         "line": {
          "color": "#19d3f3",
          "dash": "solid"
         },
         "marker": {
          "symbol": "circle"
         },
         "mode": "lines",
         "name": "topic_10",
         "showlegend": true,
         "type": "scattergl",
         "x": [
          0,
          1,
          2,
          3,
          4,
          5,
          6,
          7,
          8,
          9,
          10,
          11,
          12,
          13,
          14,
          15,
          16,
          17,
          18,
          19,
          20,
          21,
          22,
          23,
          24,
          25,
          26,
          27,
          28,
          29,
          30,
          31,
          32,
          33,
          34,
          35,
          36,
          37,
          38,
          39,
          40,
          41,
          42,
          43,
          44,
          45
         ],
         "xaxis": "x",
         "y": [
          0.021714307367801666,
          0.019658256322145462,
          0.020917586982250214,
          0.023941829800605774,
          0.021938186138868332,
          0.01953541487455368,
          0.02497844770550728,
          0.02384362369775772,
          0.016417397186160088,
          0.035219043493270874,
          0.0005292752757668495,
          0.02790370211005211,
          0.00009138500172412023,
          0.0001072156082955189,
          0.000003142114792353823,
          0.00008684970816830173,
          0.00006827336619608104,
          0.00006277929787756875,
          0.00003762780761462636,
          0.000005121455615153536,
          0.0000026942777822114294,
          0.000048959176638163626,
          0.0000032300056318490533,
          0.000004297249688534066,
          0.000031462102924706414,
          0.0000033645451367192436,
          0.00003296502472949214,
          0.0000025583497063053073,
          0.0000020826955733355135,
          0.0001028339029289782,
          0.000002782593355732388,
          0.000002337666728635668,
          0.0000022088854620960774,
          0.00003271696550655179,
          0.0000021562086658377666,
          0.000003580033535399707,
          0.0000030502033041557297,
          0.00017527761519886553,
          0.00003087572258664295,
          0.00006508257501991466,
          0.0000024046728412940865,
          0.00003887379352818243,
          0.000003182615500918473,
          0.00006688600842608139,
          0.0006540342583321035,
          0.019615136086940765
         ],
         "yaxis": "y"
        },
        {
         "hovertemplate": "variable=topic_12<br>timepoint=%{x}<br>value=%{y}<extra></extra>",
         "legendgroup": "topic_12",
         "line": {
          "color": "#FF6692",
          "dash": "solid"
         },
         "marker": {
          "symbol": "circle"
         },
         "mode": "lines",
         "name": "topic_12",
         "showlegend": true,
         "type": "scattergl",
         "x": [
          0,
          1,
          2,
          3,
          4,
          5,
          6,
          7,
          8,
          9,
          10,
          11,
          12,
          13,
          14,
          15,
          16,
          17,
          18,
          19,
          20,
          21,
          22,
          23,
          24,
          25,
          26,
          27,
          28,
          29,
          30,
          31,
          32,
          33,
          34,
          35,
          36,
          37,
          38,
          39,
          40,
          41,
          42,
          43,
          44,
          45
         ],
         "xaxis": "x",
         "y": [
          0.018317023292183876,
          0.021800845861434937,
          0.022018028423190117,
          0.02055116929113865,
          0.027502516284585,
          0.01578149013221264,
          0.01971629075706005,
          0.01731269434094429,
          0.014822475612163544,
          0.022475622594356537,
          0.0002672577975317836,
          0.015797404572367668,
          0.0000478683396067936,
          0.0000051055053518211935,
          0.000034563261579023674,
          0.00004549271034193225,
          0.00016580674855504185,
          0.0001769234804669395,
          0.0000034207098451588536,
          0.00010755056428024545,
          0.0000026942777822114294,
          0.000048959176638163626,
          0.0000032300056318490533,
          0.000004297249688534066,
          0.00006006400872138329,
          0.00007065544923534617,
          0.00006293322803685442,
          0.0000025583497063053073,
          0.0000020826955733355135,
          0.0000033172227631439455,
          0.00005843445615028031,
          0.00002571433287812397,
          0.0000022088854620960774,
          0.0000029742698188783834,
          0.0000021562086658377666,
          0.00003938037116313353,
          0.0000030502033041557297,
          0.00007217313395813107,
          0.00003087572258664295,
          0.000003099170498899184,
          0.0000024046728412940865,
          0.00003887379352818243,
          0.000035008768463740125,
          0.0000031850481718720403,
          0.00028556425240822136,
          0.020544763654470444
         ],
         "yaxis": "y"
        },
        {
         "hovertemplate": "variable=topic_13<br>timepoint=%{x}<br>value=%{y}<extra></extra>",
         "legendgroup": "topic_13",
         "line": {
          "color": "#B6E880",
          "dash": "solid"
         },
         "marker": {
          "symbol": "circle"
         },
         "mode": "lines",
         "name": "topic_13",
         "showlegend": true,
         "type": "scattergl",
         "x": [
          0,
          1,
          2,
          3,
          4,
          5,
          6,
          7,
          8,
          9,
          10,
          11,
          12,
          13,
          14,
          15,
          16,
          17,
          18,
          19,
          20,
          21,
          22,
          23,
          24,
          25,
          26,
          27,
          28,
          29,
          30,
          31,
          32,
          33,
          34,
          35,
          36,
          37,
          38,
          39,
          40,
          41,
          42,
          43,
          44,
          45
         ],
         "xaxis": "x",
         "y": [
          0.020110035315155983,
          0.017337117344141006,
          0.018808403983712196,
          0.022811610251665115,
          0.025456806644797325,
          0.020136041566729546,
          0.022291388362646103,
          0.02281242422759533,
          0.016005804762244225,
          0.018794190138578415,
          0.0003196612815372646,
          0.016586944460868835,
          0.00013490166747942567,
          0.0001072156082955189,
          0.000034563261579023674,
          0.00000413570069213165,
          0.0000032511127301404485,
          0.00006277929787756875,
          0.0000034207098451588536,
          0.0000563360117666889,
          0.0000026942777822114294,
          0.000004450834239833057,
          0.0000032300056318490533,
          0.000004297249688534066,
          0.0000028601912163139787,
          0.0000033645451367192436,
          0.0000029968205126351677,
          0.0000025583497063053073,
          0.0000020826955733355135,
          0.0000033172227631439455,
          0.000002782593355732388,
          0.00002571433287812397,
          0.000024297740310430527,
          0.0000029742698188783834,
          0.0000021562086658377666,
          0.00011098103277618065,
          0.0000030502033041557297,
          0.00003780497718253173,
          0.0000028068836854799883,
          0.00003409087366890162,
          0.0000024046728412940865,
          0.00003887379352818243,
          0.000035008768463740125,
          0.0000031850481718720403,
          0.0006540342583321035,
          0.02240401692688465
         ],
         "yaxis": "y"
        },
        {
         "hovertemplate": "variable=topic_14<br>timepoint=%{x}<br>value=%{y}<extra></extra>",
         "legendgroup": "topic_14",
         "line": {
          "color": "#FF97FF",
          "dash": "solid"
         },
         "marker": {
          "symbol": "circle"
         },
         "mode": "lines",
         "name": "topic_14",
         "showlegend": true,
         "type": "scattergl",
         "x": [
          0,
          1,
          2,
          3,
          4,
          5,
          6,
          7,
          8,
          9,
          10,
          11,
          12,
          13,
          14,
          15,
          16,
          17,
          18,
          19,
          20,
          21,
          22,
          23,
          24,
          25,
          26,
          27,
          28,
          29,
          30,
          31,
          32,
          33,
          34,
          35,
          36,
          37,
          38,
          39,
          40,
          41,
          42,
          43,
          44,
          45
         ],
         "xaxis": "x",
         "y": [
          0.023412950336933136,
          0.024300534278154373,
          0.018533293157815933,
          0.02055116929113865,
          0.022183671593666077,
          0.021036984398961067,
          0.021507663652300835,
          0.025218557566404343,
          0.08947506546974182,
          0.02511870302259922,
          0.00042446827865205705,
          0.024811333045363426,
          0.00009138500172412023,
          0.000056160562962759286,
          0.000003142114792353823,
          0.00000413570069213165,
          0.00003576224116841331,
          0.000005707209311367478,
          0.0000034207098451588536,
          0.000005121455615153536,
          0.000056579829106340185,
          0.000048959176638163626,
          0.0000032300056318490533,
          0.000004297249688534066,
          0.0000028601912163139787,
          0.0001043008960550651,
          0.00003296502472949214,
          0.0000025583497063053073,
          0.0000020826955733355135,
          0.0000364894513040781,
          0.00003060852759517729,
          0.00002571433287812397,
          0.0000022088854620960774,
          0.00006245965778362006,
          0.0000021562086658377666,
          0.000003580033535399707,
          0.0000030502033041557297,
          0.00003780497718253173,
          0.00003087572258664295,
          0.000003099170498899184,
          0.0000024046728412940865,
          0.00003887379352818243,
          0.000003182615500918473,
          0.00006688600842608139,
          0.00028556425240822136,
          0.02240401692688465
         ],
         "yaxis": "y"
        },
        {
         "hovertemplate": "variable=topic_15<br>timepoint=%{x}<br>value=%{y}<extra></extra>",
         "legendgroup": "topic_15",
         "line": {
          "color": "#FECB52",
          "dash": "solid"
         },
         "marker": {
          "symbol": "circle"
         },
         "mode": "lines",
         "name": "topic_15",
         "showlegend": true,
         "type": "scattergl",
         "x": [
          0,
          1,
          2,
          3,
          4,
          5,
          6,
          7,
          8,
          9,
          10,
          11,
          12,
          13,
          14,
          15,
          16,
          17,
          18,
          19,
          20,
          21,
          22,
          23,
          24,
          25,
          26,
          27,
          28,
          29,
          30,
          31,
          32,
          33,
          34,
          35,
          36,
          37,
          38,
          39,
          40,
          41,
          42,
          43,
          44,
          45
         ],
         "xaxis": "x",
         "y": [
          0.016995856538414955,
          0.02376488596200943,
          0.020550772547721863,
          0.02055116929113865,
          0.018337737768888474,
          0.01953541487455368,
          0.02105982042849064,
          0.015823183581233025,
          0.009523222222924232,
          0.019266167655587196,
          0.0003196612815372646,
          0.013099804520606995,
          0.000004351667030277895,
          0.0000051055053518211935,
          0.000034563261579023674,
          0.00000413570069213165,
          0.0000032511127301404485,
          0.00011985138553427532,
          0.0000034207098451588536,
          0.0000563360117666889,
          0.0000026942777822114294,
          0.000004450834239833057,
          0.0000032300056318490533,
          0.00004726974657387473,
          0.000031462102924706414,
          0.00013794635015074164,
          0.0000029968205126351677,
          0.000028141846996732056,
          0.0000020826955733355135,
          0.0000364894513040781,
          0.000002782593355732388,
          0.000002337666728635668,
          0.000024297740310430527,
          0.0000029742698188783834,
          0.0000021562086658377666,
          0.000003580033535399707,
          0.00003355223816470243,
          0.00003780497718253173,
          0.0000028068836854799883,
          0.000003099170498899184,
          0.000026451401936355978,
          0.00007421359623549506,
          0.000035008768463740125,
          0.0000031850481718720403,
          0.00028556425240822136,
          0.020544763654470444
         ],
         "yaxis": "y"
        },
        {
         "hovertemplate": "variable=topic_16<br>timepoint=%{x}<br>value=%{y}<extra></extra>",
         "legendgroup": "topic_16",
         "line": {
          "color": "#636efa",
          "dash": "solid"
         },
         "marker": {
          "symbol": "circle"
         },
         "mode": "lines",
         "name": "topic_16",
         "showlegend": true,
         "type": "scattergl",
         "x": [
          0,
          1,
          2,
          3,
          4,
          5,
          6,
          7,
          8,
          9,
          10,
          11,
          12,
          13,
          14,
          15,
          16,
          17,
          18,
          19,
          20,
          21,
          22,
          23,
          24,
          25,
          26,
          27,
          28,
          29,
          30,
          31,
          32,
          33,
          34,
          35,
          36,
          37,
          38,
          39,
          40,
          41,
          42,
          43,
          44,
          45
         ],
         "xaxis": "x",
         "y": [
          0.02265799790620804,
          0.01805131323635578,
          0.020825883373618126,
          0.025260422378778458,
          0.029384568333625793,
          0.02404012158513069,
          0.01971629075706005,
          0.015823183581233025,
          0.07177659124135971,
          0.030688051134347916,
          0.00042446827865205705,
          0.013362985104322433,
          0.0000478683396067936,
          0.000056160562962759286,
          0.000003142114792353823,
          0.00004549271034193225,
          0.00006827336619608104,
          0.00011985138553427532,
          0.00003762780761462636,
          0.00020997966930735856,
          0.000029637054467457347,
          0.000004450834239833057,
          0.0000032300056318490533,
          0.00009024223254527897,
          0.00006006400872138329,
          0.000037009998777648434,
          0.0000029968205126351677,
          0.000028141846996732056,
          0.0000020826955733355135,
          0.0000033172227631439455,
          0.000002782593355732388,
          0.00002571433287812397,
          0.00004638659447664395,
          0.00003271696550655179,
          0.000023718295778962784,
          0.00011098103277618065,
          0.0000030502033041557297,
          0.00003780497718253173,
          0.0000028068836854799883,
          0.000003099170498899184,
          0.0000024046728412940865,
          0.00003887379352818243,
          0.000003182615500918473,
          0.0000031850481718720403,
          0.00046979926992207766,
          0.027052152901887894
         ],
         "yaxis": "y"
        },
        {
         "hovertemplate": "variable=topic_17<br>timepoint=%{x}<br>value=%{y}<extra></extra>",
         "legendgroup": "topic_17",
         "line": {
          "color": "#EF553B",
          "dash": "solid"
         },
         "marker": {
          "symbol": "circle"
         },
         "mode": "lines",
         "name": "topic_17",
         "showlegend": true,
         "type": "scattergl",
         "x": [
          0,
          1,
          2,
          3,
          4,
          5,
          6,
          7,
          8,
          9,
          10,
          11,
          12,
          13,
          14,
          15,
          16,
          17,
          18,
          19,
          20,
          21,
          22,
          23,
          24,
          25,
          26,
          27,
          28,
          29,
          30,
          31,
          32,
          33,
          34,
          35,
          36,
          37,
          38,
          39,
          40,
          41,
          42,
          43,
          44,
          45
         ],
         "xaxis": "x",
         "y": [
          0.015863429754972458,
          0.020193902775645256,
          0.02348528616130352,
          0.01791398972272873,
          0.028402628377079964,
          0.019385257735848427,
          0.018148841336369514,
          0.023385314270853996,
          0.036585427820682526,
          0.01992693729698658,
          0.0005816787597723305,
          0.02415338158607483,
          0.0000478683396067936,
          0.000056160562962759286,
          0.000003142114792353823,
          0.00008684970816830173,
          0.00003576224116841331,
          0.0001769234804669395,
          0.0000034207098451588536,
          0.000005121455615153536,
          0.0000026942777822114294,
          0.00013797584688290954,
          0.0000032300056318490533,
          0.000004297249688534066,
          0.000031462102924706414,
          0.0000033645451367192436,
          0.00003296502472949214,
          0.000028141846996732056,
          0.000022909651306690648,
          0.00006966167711652815,
          0.00003060852759517729,
          0.000002337666728635668,
          0.0000022088854620960774,
          0.00003271696550655179,
          0.0000021562086658377666,
          0.00003938037116313353,
          0.00009455630060983822,
          0.00007217313395813107,
          0.0000028068836854799883,
          0.000003099170498899184,
          0.000026451401936355978,
          0.00010955340985674411,
          0.000003182615500918473,
          0.0000031850481718720403,
          0.00028556425240822136,
          0.021474389359354973
         ],
         "yaxis": "y"
        },
        {
         "hovertemplate": "variable=topic_19<br>timepoint=%{x}<br>value=%{y}<extra></extra>",
         "legendgroup": "topic_19",
         "line": {
          "color": "#00cc96",
          "dash": "solid"
         },
         "marker": {
          "symbol": "circle"
         },
         "mode": "lines",
         "name": "topic_19",
         "showlegend": true,
         "type": "scattergl",
         "x": [
          0,
          1,
          2,
          3,
          4,
          5,
          6,
          7,
          8,
          9,
          10,
          11,
          12,
          13,
          14,
          15,
          16,
          17,
          18,
          19,
          20,
          21,
          22,
          23,
          24,
          25,
          26,
          27,
          28,
          29,
          30,
          31,
          32,
          33,
          34,
          35,
          36,
          37,
          38,
          39,
          40,
          41,
          42,
          43,
          44,
          45
         ],
         "xaxis": "x",
         "y": [
          0.019260713830590248,
          0.021800845861434937,
          0.020367365330457687,
          0.017537249252200127,
          0.01743762567639351,
          0.019385257735848427,
          0.019044527783989906,
          0.022354114800691605,
          0.01188987959176302,
          0.028800135478377342,
          0.0002672577975317836,
          0.013560370542109013,
          0.00009138500172412023,
          0.0000051055053518211935,
          0.000003142114792353823,
          0.00004549271034193225,
          0.00006827336619608104,
          0.000005707209311367478,
          0.0000034207098451588536,
          0.000005121455615153536,
          0.000029637054467457347,
          0.000048959176638163626,
          0.00003553006172296591,
          0.00009024223254527897,
          0.0000028601912163139787,
          0.0001043008960550651,
          0.0000029968205126351677,
          0.00007930883293738589,
          0.0000020826955733355135,
          0.0000033172227631439455,
          0.000002782593355732388,
          0.000002337666728635668,
          0.000024297740310430527,
          0.0000029742698188783834,
          0.000023718295778962784,
          0.000003580033535399707,
          0.0000030502033041557297,
          0.00010654129437170923,
          0.0000028068836854799883,
          0.00003409087366890162,
          0.000050498125347075984,
          0.0000035339810438017594,
          0.000035008768463740125,
          0.0000031850481718720403,
          0.0006540342583321035,
          0.01775588095188141
         ],
         "yaxis": "y"
        },
        {
         "hovertemplate": "variable=topic_20<br>timepoint=%{x}<br>value=%{y}<extra></extra>",
         "legendgroup": "topic_20",
         "line": {
          "color": "#ab63fa",
          "dash": "solid"
         },
         "marker": {
          "symbol": "circle"
         },
         "mode": "lines",
         "name": "topic_20",
         "showlegend": true,
         "type": "scattergl",
         "x": [
          0,
          1,
          2,
          3,
          4,
          5,
          6,
          7,
          8,
          9,
          10,
          11,
          12,
          13,
          14,
          15,
          16,
          17,
          18,
          19,
          20,
          21,
          22,
          23,
          24,
          25,
          26,
          27,
          28,
          29,
          30,
          31,
          32,
          33,
          34,
          35,
          36,
          37,
          38,
          39,
          40,
          41,
          42,
          43,
          44,
          45
         ],
         "xaxis": "x",
         "y": [
          0.027282077819108963,
          0.02233649231493473,
          0.023301878944039345,
          0.018290730193257332,
          0.019810648635029793,
          0.014880549162626266,
          0.017029233276844025,
          0.016510650515556335,
          0.013844943605363369,
          0.0194549597799778,
          0.0003720647655427456,
          0.014284116216003895,
          0.000004351667030277895,
          0.0000051055053518211935,
          0.000003142114792353823,
          0.00004549271034193225,
          0.00003576224116841331,
          0.00011985138553427532,
          0.0000034207098451588536,
          0.000005121455615153536,
          0.0000026942777822114294,
          0.00009346751176053658,
          0.0000032300056318490533,
          0.00009024223254527897,
          0.000031462102924706414,
          0.0000033645451367192436,
          0.00006293322803685442,
          0.0000025583497063053073,
          0.0000020826955733355135,
          0.0000033172227631439455,
          0.00003060852759517729,
          0.000002337666728635668,
          0.000024297740310430527,
          0.00003271696550655179,
          0.0000021562086658377666,
          0.00003938037116313353,
          0.00003355223816470243,
          0.00007217313395813107,
          0.0000028068836854799883,
          0.000003099170498899184,
          0.0000024046728412940865,
          0.00003887379352818243,
          0.000003182615500918473,
          0.0000031850481718720403,
          0.0008382693049497902,
          0.030770661309361458
         ],
         "yaxis": "y"
        },
        {
         "hovertemplate": "variable=topic_24<br>timepoint=%{x}<br>value=%{y}<extra></extra>",
         "legendgroup": "topic_24",
         "line": {
          "color": "#FFA15A",
          "dash": "solid"
         },
         "marker": {
          "symbol": "circle"
         },
         "mode": "lines",
         "name": "topic_24",
         "showlegend": true,
         "type": "scattergl",
         "x": [
          0,
          1,
          2,
          3,
          4,
          5,
          6,
          7,
          8,
          9,
          10,
          11,
          12,
          13,
          14,
          15,
          16,
          17,
          18,
          19,
          20,
          21,
          22,
          23,
          24,
          25,
          26,
          27,
          28,
          29,
          30,
          31,
          32,
          33,
          34,
          35,
          36,
          37,
          38,
          39,
          40,
          41,
          42,
          43,
          44,
          45
         ],
         "xaxis": "x",
         "y": [
          0.025583436712622643,
          0.019658256322145462,
          0.01752455346286297,
          0.01942094974219799,
          0.016210200265049934,
          0.018934786319732666,
          0.01882060617208481,
          0.017541849985718727,
          0.017394928261637688,
          0.02143726870417595,
          0.00021485429897438735,
          0.013626165688037872,
          0.000004351667030277895,
          0.0000051055053518211935,
          0.000003142114792353823,
          0.00000413570069213165,
          0.00003576224116841331,
          0.000005707209311367478,
          0.00003762780761462636,
          0.000005121455615153536,
          0.0000026942777822114294,
          0.000048959176638163626,
          0.00003553006172296591,
          0.0001761872263159603,
          0.000031462102924706414,
          0.00007065544923534617,
          0.0000029968205126351677,
          0.000028141846996732056,
          0.0000020826955733355135,
          0.0000033172227631439455,
          0.000002782593355732388,
          0.000002337666728635668,
          0.0000022088854620960774,
          0.0000029742698188783834,
          0.0000021562086658377666,
          0.0000751807019696571,
          0.0000030502033041557297,
          0.0000034368160868325504,
          0.0000028068836854799883,
          0.00003409087366890162,
          0.0000024046728412940865,
          0.00003887379352818243,
          0.000003182615500918473,
          0.0000031850481718720403,
          0.0007461518398486078,
          0.01775588095188141
         ],
         "yaxis": "y"
        },
        {
         "hovertemplate": "variable=topic_25<br>timepoint=%{x}<br>value=%{y}<extra></extra>",
         "legendgroup": "topic_25",
         "line": {
          "color": "#19d3f3",
          "dash": "solid"
         },
         "marker": {
          "symbol": "circle"
         },
         "mode": "lines",
         "name": "topic_25",
         "showlegend": true,
         "type": "scattergl",
         "x": [
          0,
          1,
          2,
          3,
          4,
          5,
          6,
          7,
          8,
          9,
          10,
          11,
          12,
          13,
          14,
          15,
          16,
          17,
          18,
          19,
          20,
          21,
          22,
          23,
          24,
          25,
          26,
          27,
          28,
          29,
          30,
          31,
          32,
          33,
          34,
          35,
          36,
          37,
          38,
          39,
          40,
          41,
          42,
          43,
          44,
          45
         ],
         "xaxis": "x",
         "y": [
          0.021053723990917206,
          0.018944060429930687,
          0.030913276597857475,
          0.01998605951666832,
          0.02210184372961521,
          0.02599216252565384,
          0.021619625389575958,
          0.01765642687678337,
          0.026604309678077698,
          0.023230787366628647,
          0.00042446827865205705,
          0.016718534752726555,
          0.00013490166747942567,
          0.0001072156082955189,
          0.00012882670853286982,
          0.00008684970816830173,
          0.00003576224116841331,
          0.0001769234804669395,
          0.0000034207098451588536,
          0.000005121455615153536,
          0.0000026942777822114294,
          0.000004450834239833057,
          0.0000032300056318490533,
          0.000004297249688534066,
          0.0000028601912163139787,
          0.0000033645451367192436,
          0.00003296502472949214,
          0.00005372533996705897,
          0.000022909651306690648,
          0.00006966167711652815,
          0.000002782593355732388,
          0.00002571433287812397,
          0.0000022088854620960774,
          0.0000029742698188783834,
          0.0000021562086658377666,
          0.00003938037116313353,
          0.0000030502033041557297,
          0.00003780497718253173,
          0.0000870133881107904,
          0.000003099170498899184,
          0.0000024046728412940865,
          0.00003887379352818243,
          0.000003182615500918473,
          0.00006688600842608139,
          0.0005619167350232601,
          0.01775588095188141
         ],
         "yaxis": "y"
        },
        {
         "hovertemplate": "variable=topic_27<br>timepoint=%{x}<br>value=%{y}<extra></extra>",
         "legendgroup": "topic_27",
         "line": {
          "color": "#FF6692",
          "dash": "solid"
         },
         "marker": {
          "symbol": "circle"
         },
         "mode": "lines",
         "name": "topic_27",
         "showlegend": true,
         "type": "scattergl",
         "x": [
          0,
          1,
          2,
          3,
          4,
          5,
          6,
          7,
          8,
          9,
          10,
          11,
          12,
          13,
          14,
          15,
          16,
          17,
          18,
          19,
          20,
          21,
          22,
          23,
          24,
          25,
          26,
          27,
          28,
          29,
          30,
          31,
          32,
          33,
          34,
          35,
          36,
          37,
          38,
          39,
          40,
          41,
          42,
          43,
          44,
          45
         ],
         "xaxis": "x",
         "y": [
          0.01992129720747471,
          0.021086648106575012,
          0.01624070294201374,
          0.019609319046139717,
          0.01825590990483761,
          0.018033845350146294,
          0.01915648765861988,
          0.018229316920042038,
          0.015388415195047855,
          0.023513974621891975,
          0.00021485429897438735,
          0.021587371826171875,
          0.00013490166747942567,
          0.000056160562962759286,
          0.000003142114792353823,
          0.00012820672418456525,
          0.0000032511127301404485,
          0.000005707209311367478,
          0.00003762780761462636,
          0.00015876512043178082,
          0.0000026942777822114294,
          0.000048959176638163626,
          0.0000032300056318490533,
          0.000004297249688534066,
          0.0000028601912163139787,
          0.000037009998777648434,
          0.00006293322803685442,
          0.0000025583497063053073,
          0.000043736603402066976,
          0.00006966167711652815,
          0.00003060852759517729,
          0.000002337666728635668,
          0.000024297740310430527,
          0.0000029742698188783834,
          0.000023718295778962784,
          0.000003580033535399707,
          0.00006405427120625973,
          0.0000034368160868325504,
          0.00003087572258664295,
          0.000003099170498899184,
          0.0000024046728412940865,
          0.0000035339810438017594,
          0.000003182615500918473,
          0.00003503552943584509,
          0.0003776817466132343,
          0.020544763654470444
         ],
         "yaxis": "y"
        },
        {
         "hovertemplate": "variable=topic_29<br>timepoint=%{x}<br>value=%{y}<extra></extra>",
         "legendgroup": "topic_29",
         "line": {
          "color": "#B6E880",
          "dash": "solid"
         },
         "marker": {
          "symbol": "circle"
         },
         "mode": "lines",
         "name": "topic_29",
         "showlegend": true,
         "type": "scattergl",
         "x": [
          0,
          1,
          2,
          3,
          4,
          5,
          6,
          7,
          8,
          9,
          10,
          11,
          12,
          13,
          14,
          15,
          16,
          17,
          18,
          19,
          20,
          21,
          22,
          23,
          24,
          25,
          26,
          27,
          28,
          29,
          30,
          31,
          32,
          33,
          34,
          35,
          36,
          37,
          38,
          39,
          40,
          41,
          42,
          43,
          44,
          45
         ],
         "xaxis": "x",
         "y": [
          0.015485953539609909,
          0.01912260800600052,
          0.014681743457913399,
          0.015653548762202263,
          0.019892478361725807,
          0.01953541487455368,
          0.020052174106240273,
          0.023729046806693077,
          0.020533321425318718,
          0.02039891667664051,
          0.00021485429897438735,
          0.05224788561463356,
          0.0000478683396067936,
          0.000056160562962759286,
          0.000003142114792353823,
          0.00008684970816830173,
          0.00003576224116841331,
          0.00011985138553427532,
          0.00003762780761462636,
          0.000005121455615153536,
          0.0000026942777822114294,
          0.00009346751176053658,
          0.00006783011485822499,
          0.00004726974657387473,
          0.000031462102924706414,
          0.0000033645451367192436,
          0.0000029968205126351677,
          0.000028141846996732056,
          0.0000020826955733355135,
          0.0000364894513040781,
          0.000002782593355732388,
          0.000002337666728635668,
          0.000024297740310430527,
          0.0000029742698188783834,
          0.0000021562086658377666,
          0.0000751807019696571,
          0.0000030502033041557297,
          0.0000034368160868325504,
          0.0000028068836854799883,
          0.000003099170498899184,
          0.0000024046728412940865,
          0.00003887379352818243,
          0.000003182615500918473,
          0.0000031850481718720403,
          0.0007461518398486078,
          0.018685508519411087
         ],
         "yaxis": "y"
        },
        {
         "hovertemplate": "variable=topic_30<br>timepoint=%{x}<br>value=%{y}<extra></extra>",
         "legendgroup": "topic_30",
         "line": {
          "color": "#FF97FF",
          "dash": "solid"
         },
         "marker": {
          "symbol": "circle"
         },
         "mode": "lines",
         "name": "topic_30",
         "showlegend": true,
         "type": "scattergl",
         "x": [
          0,
          1,
          2,
          3,
          4,
          5,
          6,
          7,
          8,
          9,
          10,
          11,
          12,
          13,
          14,
          15,
          16,
          17,
          18,
          19,
          20,
          21,
          22,
          23,
          24,
          25,
          26,
          27,
          28,
          29,
          30,
          31,
          32,
          33,
          34,
          35,
          36,
          37,
          38,
          39,
          40,
          41,
          42,
          43,
          44,
          45
         ],
         "xaxis": "x",
         "y": [
          0.04002189263701439,
          0.025907475501298904,
          0.030913276597857475,
          0.022999979555606842,
          0.019728820770978928,
          0.02554169110953808,
          0.025426290929317474,
          0.021781224757432938,
          0.013844943605363369,
          0.022003643214702606,
          0.0006340822437778115,
          0.039944205433130264,
          0.00013490166747942567,
          0.00015827066090423614,
          0.000034563261579023674,
          0.00004549271034193225,
          0.00003576224116841331,
          0.000005707209311367478,
          0.00003762780761462636,
          0.00015876512043178082,
          0.0000026942777822114294,
          0.00013797584688290954,
          0.0000032300056318490533,
          0.00004726974657387473,
          0.000031462102924706414,
          0.00017159180424641818,
          0.0000029968205126351677,
          0.000028141846996732056,
          0.00006456355913542211,
          0.0000033172227631439455,
          0.000002782593355732388,
          0.000002337666728635668,
          0.000024297740310430527,
          0.00003271696550655179,
          0.000023718295778962784,
          0.00003938037116313353,
          0.00006405427120625973,
          0.0000034368160868325504,
          0.0000028068836854799883,
          0.000003099170498899184,
          0.000026451401936355978,
          0.00007421359623549506,
          0.000035008768463740125,
          0.0000031850481718720403,
          0.0005619167350232601,
          0.013107744976878166
         ],
         "yaxis": "y"
        },
        {
         "hovertemplate": "variable=topic_31<br>timepoint=%{x}<br>value=%{y}<extra></extra>",
         "legendgroup": "topic_31",
         "line": {
          "color": "#FECB52",
          "dash": "solid"
         },
         "marker": {
          "symbol": "circle"
         },
         "mode": "lines",
         "name": "topic_31",
         "showlegend": true,
         "type": "scattergl",
         "x": [
          0,
          1,
          2,
          3,
          4,
          5,
          6,
          7,
          8,
          9,
          10,
          11,
          12,
          13,
          14,
          15,
          16,
          17,
          18,
          19,
          20,
          21,
          22,
          23,
          24,
          25,
          26,
          27,
          28,
          29,
          30,
          31,
          32,
          33,
          34,
          35,
          36,
          37,
          38,
          39,
          40,
          41,
          42,
          43,
          44,
          45
         ],
         "xaxis": "x",
         "y": [
          0.019449451938271523,
          0.021086648106575012,
          0.01945032924413681,
          0.016595399007201195,
          0.017028484493494034,
          0.015631334856152534,
          0.02363491803407669,
          0.024531090632081032,
          0.017703624442219734,
          0.013413633219897747,
          0.00042446827865205705,
          0.017047511413693428,
          0.00013490166747942567,
          0.000056160562962759286,
          0.000003142114792353823,
          0.00000413570069213165,
          0.0000032511127301404485,
          0.00006277929787756875,
          0.0000034207098451588536,
          0.000005121455615153536,
          0.0000026942777822114294,
          0.000048959176638163626,
          0.00003553006172296591,
          0.00004726974657387473,
          0.000031462102924706414,
          0.0000033645451367192436,
          0.0000029968205126351677,
          0.0000025583497063053073,
          0.0000020826955733355135,
          0.0000033172227631439455,
          0.00003060852759517729,
          0.00002571433287812397,
          0.0000022088854620960774,
          0.00003271696550655179,
          0.0000021562086658377666,
          0.000003580033535399707,
          0.00003355223816470243,
          0.0000034368160868325504,
          0.0000028068836854799883,
          0.000003099170498899184,
          0.0000024046728412940865,
          0.0000035339810438017594,
          0.000035008768463740125,
          0.00003503552943584509,
          0.0005619167350232601,
          0.021474389359354973
         ],
         "yaxis": "y"
        },
        {
         "hovertemplate": "variable=topic_32<br>timepoint=%{x}<br>value=%{y}<extra></extra>",
         "legendgroup": "topic_32",
         "line": {
          "color": "#636efa",
          "dash": "solid"
         },
         "marker": {
          "symbol": "circle"
         },
         "mode": "lines",
         "name": "topic_32",
         "showlegend": true,
         "type": "scattergl",
         "x": [
          0,
          1,
          2,
          3,
          4,
          5,
          6,
          7,
          8,
          9,
          10,
          11,
          12,
          13,
          14,
          15,
          16,
          17,
          18,
          19,
          20,
          21,
          22,
          23,
          24,
          25,
          26,
          27,
          28,
          29,
          30,
          31,
          32,
          33,
          34,
          35,
          36,
          37,
          38,
          39,
          40,
          41,
          42,
          43,
          44,
          45
         ],
         "xaxis": "x",
         "y": [
          0.019071975722908974,
          0.02555037848651409,
          0.01871670037508011,
          0.021681390702724457,
          0.020137961953878403,
          0.023439494892954826,
          0.02553825080394745,
          0.024416513741016388,
          0.02315722405910492,
          0.019360562786459923,
          0.00016245081496890634,
          0.018429208546876907,
          0.0000478683396067936,
          0.000056160562962759286,
          0.000003142114792353823,
          0.00008684970816830173,
          0.00006827336619608104,
          0.00011985138553427532,
          0.0000034207098451588536,
          0.00015876512043178082,
          0.0000026942777822114294,
          0.00013797584688290954,
          0.00003553006172296591,
          0.00004726974657387473,
          0.0000028601912163139787,
          0.000037009998777648434,
          0.00009290142770623788,
          0.000028141846996732056,
          0.00006456355913542211,
          0.0000033172227631439455,
          0.000002782593355732388,
          0.00002571433287812397,
          0.0000022088854620960774,
          0.0000029742698188783834,
          0.000023718295778962784,
          0.00003938037116313353,
          0.0000030502033041557297,
          0.0000034368160868325504,
          0.000058944555348716676,
          0.00006508257501991466,
          0.0000024046728412940865,
          0.0000035339810438017594,
          0.000035008768463740125,
          0.00003503552943584509,
          0.0007461518398486078,
          0.01775588095188141
         ],
         "yaxis": "y"
        },
        {
         "hovertemplate": "variable=topic_33<br>timepoint=%{x}<br>value=%{y}<extra></extra>",
         "legendgroup": "topic_33",
         "line": {
          "color": "#EF553B",
          "dash": "solid"
         },
         "marker": {
          "symbol": "circle"
         },
         "mode": "lines",
         "name": "topic_33",
         "showlegend": true,
         "type": "scattergl",
         "x": [
          0,
          1,
          2,
          3,
          4,
          5,
          6,
          7,
          8,
          9,
          10,
          11,
          12,
          13,
          14,
          15,
          16,
          17,
          18,
          19,
          20,
          21,
          22,
          23,
          24,
          25,
          26,
          27,
          28,
          29,
          30,
          31,
          32,
          33,
          34,
          35,
          36,
          37,
          38,
          39,
          40,
          41,
          42,
          43,
          44,
          45
         ],
         "xaxis": "x",
         "y": [
          0.02397916279733181,
          0.021265197545289993,
          0.02192632481455803,
          0.021681390702724457,
          0.0217745304107666,
          0.01863447204232216,
          0.026769820600748062,
          0.0189167819917202,
          0.01333045307546854,
          0.015395943075418472,
          0.0003720647655427456,
          0.026719391345977783,
          0.00017841834051068872,
          0.0000051055053518211935,
          0.000003142114792353823,
          0.00004549271034193225,
          0.00003576224116841331,
          0.000005707209311367478,
          0.00003762780761462636,
          0.00010755056428024545,
          0.000029637054467457347,
          0.000004450834239833057,
          0.0000032300056318490533,
          0.00004726974657387473,
          0.000031462102924706414,
          0.000037009998777648434,
          0.0000029968205126351677,
          0.000028141846996732056,
          0.000022909651306690648,
          0.0000033172227631439455,
          0.00003060852759517729,
          0.000002337666728635668,
          0.0000022088854620960774,
          0.00003271696550655179,
          0.0000021562086658377666,
          0.00003938037116313353,
          0.0000030502033041557297,
          0.0000034368160868325504,
          0.0000028068836854799883,
          0.00003409087366890162,
          0.000026451401936355978,
          0.0000035339810438017594,
          0.000003182615500918473,
          0.00003503552943584509,
          0.0005619167350232601,
          0.02333364449441433
         ],
         "yaxis": "y"
        },
        {
         "hovertemplate": "variable=topic_35<br>timepoint=%{x}<br>value=%{y}<extra></extra>",
         "legendgroup": "topic_35",
         "line": {
          "color": "#00cc96",
          "dash": "solid"
         },
         "marker": {
          "symbol": "circle"
         },
         "mode": "lines",
         "name": "topic_35",
         "showlegend": true,
         "type": "scattergl",
         "x": [
          0,
          1,
          2,
          3,
          4,
          5,
          6,
          7,
          8,
          9,
          10,
          11,
          12,
          13,
          14,
          15,
          16,
          17,
          18,
          19,
          20,
          21,
          22,
          23,
          24,
          25,
          26,
          27,
          28,
          29,
          30,
          31,
          32,
          33,
          34,
          35,
          36,
          37,
          38,
          39,
          40,
          41,
          42,
          43,
          44,
          45
         ],
         "xaxis": "x",
         "y": [
          0.017373332753777504,
          0.024300534278154373,
          0.02155951038002968,
          0.02111627906560898,
          0.018910536542534828,
          0.025391533970832825,
          0.021171782165765762,
          0.02968708798289299,
          0.05171145498752594,
          0.02039891667664051,
          0.0003720647655427456,
          0.02165316790342331,
          0.000004351667030277895,
          0.000056160562962759286,
          0.000003142114792353823,
          0.00008684970816830173,
          0.00003576224116841331,
          0.00006277929787756875,
          0.0000034207098451588536,
          0.0000563360117666889,
          0.0000026942777822114294,
          0.000004450834239833057,
          0.0000032300056318490533,
          0.000004297249688534066,
          0.000031462102924706414,
          0.000037009998777648434,
          0.0000029968205126351677,
          0.000028141846996732056,
          0.0000020826955733355135,
          0.0000033172227631439455,
          0.00003060852759517729,
          0.000002337666728635668,
          0.0000022088854620960774,
          0.00003271696550655179,
          0.0000021562086658377666,
          0.000003580033535399707,
          0.0000030502033041557297,
          0.0000034368160868325504,
          0.00003087572258664295,
          0.000003099170498899184,
          0.0000024046728412940865,
          0.00007421359623549506,
          0.00006683491665171459,
          0.0000031850481718720403,
          0.0003776817466132343,
          0.02333364449441433
         ],
         "yaxis": "y"
        },
        {
         "hovertemplate": "variable=topic_36<br>timepoint=%{x}<br>value=%{y}<extra></extra>",
         "legendgroup": "topic_36",
         "line": {
          "color": "#ab63fa",
          "dash": "solid"
         },
         "marker": {
          "symbol": "circle"
         },
         "mode": "lines",
         "name": "topic_36",
         "showlegend": true,
         "type": "scattergl",
         "x": [
          0,
          1,
          2,
          3,
          4,
          5,
          6,
          7,
          8,
          9,
          10,
          11,
          12,
          13,
          14,
          15,
          16,
          17,
          18,
          19,
          20,
          21,
          22,
          23,
          24,
          25,
          26,
          27,
          28,
          29,
          30,
          31,
          32,
          33,
          34,
          35,
          36,
          37,
          38,
          39,
          40,
          41,
          42,
          43,
          44,
          45
         ],
         "xaxis": "x",
         "y": [
          0.025772174820303917,
          0.023407788947224617,
          0.02265995368361473,
          0.019609319046139717,
          0.02439303882420063,
          0.023889964446425438,
          0.015909625217318535,
          0.019145937636494637,
          0.020533321425318718,
          0.01841660588979721,
          0.00042446827865205705,
          0.02040306106209755,
          0.00013490166747942567,
          0.0000051055053518211935,
          0.000034563261579023674,
          0.00008684970816830173,
          0.0000032511127301404485,
          0.00006277929787756875,
          0.0000034207098451588536,
          0.000005121455615153536,
          0.0000026942777822114294,
          0.00009346751176053658,
          0.0000032300056318490533,
          0.0001761872263159603,
          0.0000028601912163139787,
          0.0000033645451367192436,
          0.00006293322803685442,
          0.00005372533996705897,
          0.0000020826955733355135,
          0.0000033172227631439455,
          0.00005843445615028031,
          0.00002571433287812397,
          0.0000022088854620960774,
          0.0000029742698188783834,
          0.0000021562086658377666,
          0.000003580033535399707,
          0.0000030502033041557297,
          0.00003780497718253173,
          0.00003087572258664295,
          0.000003099170498899184,
          0.000026451401936355978,
          0.0000035339810438017594,
          0.000035008768463740125,
          0.0000031850481718720403,
          0.0005619167350232601,
          0.02240401692688465
         ],
         "yaxis": "y"
        },
        {
         "hovertemplate": "variable=topic_40<br>timepoint=%{x}<br>value=%{y}<extra></extra>",
         "legendgroup": "topic_40",
         "line": {
          "color": "#FFA15A",
          "dash": "solid"
         },
         "marker": {
          "symbol": "circle"
         },
         "mode": "lines",
         "name": "topic_40",
         "showlegend": true,
         "type": "scattergl",
         "x": [
          0,
          1,
          2,
          3,
          4,
          5,
          6,
          7,
          8,
          9,
          10,
          11,
          12,
          13,
          14,
          15,
          16,
          17,
          18,
          19,
          20,
          21,
          22,
          23,
          24,
          25,
          26,
          27,
          28,
          29,
          30,
          31,
          32,
          33,
          34,
          35,
          36,
          37,
          38,
          39,
          40,
          41,
          42,
          43,
          44,
          45
         ],
         "xaxis": "x",
         "y": [
          0.0181282851845026,
          0.022693591192364693,
          0.02192632481455803,
          0.023753460496664047,
          0.017928596585989,
          0.017583373934030533,
          0.02419472299516201,
          0.02418735809624195,
          0.058605629950761795,
          0.03682377189397812,
          0.0008436961797997355,
          0.015797404572367668,
          0.00009138500172412023,
          0.0001072156082955189,
          0.000003142114792353823,
          0.00000413570069213165,
          0.00003576224116841331,
          0.000005707209311367478,
          0.0000034207098451588536,
          0.0000563360117666889,
          0.0000026942777822114294,
          0.000048959176638163626,
          0.00003553006172296591,
          0.000004297249688534066,
          0.0000028601912163139787,
          0.000037009998777648434,
          0.00009290142770623788,
          0.0000025583497063053073,
          0.0000020826955733355135,
          0.0001028339029289782,
          0.00003060852759517729,
          0.000002337666728635668,
          0.0000022088854620960774,
          0.00003271696550655179,
          0.0000021562086658377666,
          0.00003938037116313353,
          0.00006405427120625973,
          0.0000034368160868325504,
          0.0000028068836854799883,
          0.000003099170498899184,
          0.0000024046728412940865,
          0.00007421359623549506,
          0.00006683491665171459,
          0.0000031850481718720403,
          0.00046979926992207766,
          0.019615136086940765
         ],
         "yaxis": "y"
        },
        {
         "hovertemplate": "variable=topic_42<br>timepoint=%{x}<br>value=%{y}<extra></extra>",
         "legendgroup": "topic_42",
         "line": {
          "color": "#19d3f3",
          "dash": "solid"
         },
         "marker": {
          "symbol": "circle"
         },
         "mode": "lines",
         "name": "topic_42",
         "showlegend": true,
         "type": "scattergl",
         "x": [
          0,
          1,
          2,
          3,
          4,
          5,
          6,
          7,
          8,
          9,
          10,
          11,
          12,
          13,
          14,
          15,
          16,
          17,
          18,
          19,
          20,
          21,
          22,
          23,
          24,
          25,
          26,
          27,
          28,
          29,
          30,
          31,
          32,
          33,
          34,
          35,
          36,
          37,
          38,
          39,
          40,
          41,
          42,
          43,
          44,
          45
         ],
         "xaxis": "x",
         "y": [
          0.018317023292183876,
          0.018586961552500725,
          0.01825818233191967,
          0.019044209271669388,
          0.018010424450039864,
          0.017283059656620026,
          0.023522958159446716,
          0.024531090632081032,
          0.02099636383354664,
          0.020776499062776566,
          0.0005292752757668495,
          0.021061012521386147,
          0.000004351667030277895,
          0.000056160562962759286,
          0.000003142114792353823,
          0.00004549271034193225,
          0.0000032511127301404485,
          0.00011985138553427532,
          0.00003762780761462636,
          0.000005121455615153536,
          0.0000026942777822114294,
          0.000048959176638163626,
          0.0000032300056318490533,
          0.00009024223254527897,
          0.000031462102924706414,
          0.000037009998777648434,
          0.0000029968205126351677,
          0.0000025583497063053073,
          0.0000020826955733355135,
          0.0000033172227631439455,
          0.00003060852759517729,
          0.00002571433287812397,
          0.0000022088854620960774,
          0.00006245965778362006,
          0.0000021562086658377666,
          0.000003580033535399707,
          0.00003355223816470243,
          0.0000034368160868325504,
          0.000058944555348716676,
          0.000003099170498899184,
          0.0000024046728412940865,
          0.00007421359623549506,
          0.000035008768463740125,
          0.00003503552943584509,
          0.00046979926992207766,
          0.030770661309361458
         ],
         "yaxis": "y"
        },
        {
         "hovertemplate": "variable=topic_43<br>timepoint=%{x}<br>value=%{y}<extra></extra>",
         "legendgroup": "topic_43",
         "line": {
          "color": "#FF6692",
          "dash": "solid"
         },
         "marker": {
          "symbol": "circle"
         },
         "mode": "lines",
         "name": "topic_43",
         "showlegend": true,
         "type": "scattergl",
         "x": [
          0,
          1,
          2,
          3,
          4,
          5,
          6,
          7,
          8,
          9,
          10,
          11,
          12,
          13,
          14,
          15,
          16,
          17,
          18,
          19,
          20,
          21,
          22,
          23,
          24,
          25,
          26,
          27,
          28,
          29,
          30,
          31,
          32,
          33,
          34,
          35,
          36,
          37,
          38,
          39,
          40,
          41,
          42,
          43,
          44,
          45
         ],
         "xaxis": "x",
         "y": [
          0.018977606669068336,
          0.02233649231493473,
          0.018991811200976372,
          0.02205812931060791,
          0.01678299903869629,
          0.017283059656620026,
          0.01994021236896515,
          0.027280956506729126,
          0.019915932789444923,
          0.024080349132418633,
          0.0003720647655427456,
          0.01546842884272337,
          0.0000478683396067936,
          0.000056160562962759286,
          0.000003142114792353823,
          0.00000413570069213165,
          0.0000032511127301404485,
          0.00006277929787756875,
          0.0000034207098451588536,
          0.000005121455615153536,
          0.000029637054467457347,
          0.000048959176638163626,
          0.0000032300056318490533,
          0.000004297249688534066,
          0.0000028601912163139787,
          0.0000033645451367192436,
          0.00003296502472949214,
          0.000028141846996732056,
          0.0000020826955733355135,
          0.0000364894513040781,
          0.000002782593355732388,
          0.00002571433287812397,
          0.0000022088854620960774,
          0.00006245965778362006,
          0.000023718295778962784,
          0.000003580033535399707,
          0.00003355223816470243,
          0.0000034368160868325504,
          0.0000028068836854799883,
          0.00003409087366890162,
          0.000050498125347075984,
          0.0000035339810438017594,
          0.000003182615500918473,
          0.0000031850481718720403,
          0.00046979926992207766,
          0.013107744976878166
         ],
         "yaxis": "y"
        },
        {
         "hovertemplate": "variable=topic_47<br>timepoint=%{x}<br>value=%{y}<extra></extra>",
         "legendgroup": "topic_47",
         "line": {
          "color": "#B6E880",
          "dash": "solid"
         },
         "marker": {
          "symbol": "circle"
         },
         "mode": "lines",
         "name": "topic_47",
         "showlegend": true,
         "type": "scattergl",
         "x": [
          0,
          1,
          2,
          3,
          4,
          5,
          6,
          7,
          8,
          9,
          10,
          11,
          12,
          13,
          14,
          15,
          16,
          17,
          18,
          19,
          20,
          21,
          22,
          23,
          24,
          25,
          26,
          27,
          28,
          29,
          30,
          31,
          32,
          33,
          34,
          35,
          36,
          37,
          38,
          39,
          40,
          41,
          42,
          43,
          44,
          45
         ],
         "xaxis": "x",
         "y": [
          0.027470815926790237,
          0.018944060429930687,
          0.0210092905908823,
          0.021869760006666183,
          0.026438746601343155,
          0.03094734065234661,
          0.02699374221265316,
          0.022927002981305122,
          0.012095675803720951,
          0.01794462837278843,
          0.0003196612815372646,
          0.027443137019872665,
          0.0000478683396067936,
          0.000056160562962759286,
          0.000034563261579023674,
          0.00008684970816830173,
          0.00003576224116841331,
          0.00006277929787756875,
          0.0000034207098451588536,
          0.00015876512043178082,
          0.0000026942777822114294,
          0.000048959176638163626,
          0.0000032300056318490533,
          0.00009024223254527897,
          0.0000028601912163139787,
          0.00013794635015074164,
          0.00003296502472949214,
          0.000028141846996732056,
          0.0000020826955733355135,
          0.0000033172227631439455,
          0.00011408632417442277,
          0.00002571433287812397,
          0.000024297740310430527,
          0.0000029742698188783834,
          0.0000021562086658377666,
          0.000003580033535399707,
          0.0000030502033041557297,
          0.00007217313395813107,
          0.00003087572258664295,
          0.00003409087366890162,
          0.0000024046728412940865,
          0.00003887379352818243,
          0.000035008768463740125,
          0.00003503552943584509,
          0.00046979926992207766,
          0.02333364449441433
         ],
         "yaxis": "y"
        }
       ],
       "layout": {
        "legend": {
         "title": {
          "text": "variable"
         },
         "tracegroupgap": 0
        },
        "template": {
         "data": {
          "bar": [
           {
            "error_x": {
             "color": "#2a3f5f"
            },
            "error_y": {
             "color": "#2a3f5f"
            },
            "marker": {
             "line": {
              "color": "#E5ECF6",
              "width": 0.5
             },
             "pattern": {
              "fillmode": "overlay",
              "size": 10,
              "solidity": 0.2
             }
            },
            "type": "bar"
           }
          ],
          "barpolar": [
           {
            "marker": {
             "line": {
              "color": "#E5ECF6",
              "width": 0.5
             },
             "pattern": {
              "fillmode": "overlay",
              "size": 10,
              "solidity": 0.2
             }
            },
            "type": "barpolar"
           }
          ],
          "carpet": [
           {
            "aaxis": {
             "endlinecolor": "#2a3f5f",
             "gridcolor": "white",
             "linecolor": "white",
             "minorgridcolor": "white",
             "startlinecolor": "#2a3f5f"
            },
            "baxis": {
             "endlinecolor": "#2a3f5f",
             "gridcolor": "white",
             "linecolor": "white",
             "minorgridcolor": "white",
             "startlinecolor": "#2a3f5f"
            },
            "type": "carpet"
           }
          ],
          "choropleth": [
           {
            "colorbar": {
             "outlinewidth": 0,
             "ticks": ""
            },
            "type": "choropleth"
           }
          ],
          "contour": [
           {
            "colorbar": {
             "outlinewidth": 0,
             "ticks": ""
            },
            "colorscale": [
             [
              0,
              "#0d0887"
             ],
             [
              0.1111111111111111,
              "#46039f"
             ],
             [
              0.2222222222222222,
              "#7201a8"
             ],
             [
              0.3333333333333333,
              "#9c179e"
             ],
             [
              0.4444444444444444,
              "#bd3786"
             ],
             [
              0.5555555555555556,
              "#d8576b"
             ],
             [
              0.6666666666666666,
              "#ed7953"
             ],
             [
              0.7777777777777778,
              "#fb9f3a"
             ],
             [
              0.8888888888888888,
              "#fdca26"
             ],
             [
              1,
              "#f0f921"
             ]
            ],
            "type": "contour"
           }
          ],
          "contourcarpet": [
           {
            "colorbar": {
             "outlinewidth": 0,
             "ticks": ""
            },
            "type": "contourcarpet"
           }
          ],
          "heatmap": [
           {
            "colorbar": {
             "outlinewidth": 0,
             "ticks": ""
            },
            "colorscale": [
             [
              0,
              "#0d0887"
             ],
             [
              0.1111111111111111,
              "#46039f"
             ],
             [
              0.2222222222222222,
              "#7201a8"
             ],
             [
              0.3333333333333333,
              "#9c179e"
             ],
             [
              0.4444444444444444,
              "#bd3786"
             ],
             [
              0.5555555555555556,
              "#d8576b"
             ],
             [
              0.6666666666666666,
              "#ed7953"
             ],
             [
              0.7777777777777778,
              "#fb9f3a"
             ],
             [
              0.8888888888888888,
              "#fdca26"
             ],
             [
              1,
              "#f0f921"
             ]
            ],
            "type": "heatmap"
           }
          ],
          "heatmapgl": [
           {
            "colorbar": {
             "outlinewidth": 0,
             "ticks": ""
            },
            "colorscale": [
             [
              0,
              "#0d0887"
             ],
             [
              0.1111111111111111,
              "#46039f"
             ],
             [
              0.2222222222222222,
              "#7201a8"
             ],
             [
              0.3333333333333333,
              "#9c179e"
             ],
             [
              0.4444444444444444,
              "#bd3786"
             ],
             [
              0.5555555555555556,
              "#d8576b"
             ],
             [
              0.6666666666666666,
              "#ed7953"
             ],
             [
              0.7777777777777778,
              "#fb9f3a"
             ],
             [
              0.8888888888888888,
              "#fdca26"
             ],
             [
              1,
              "#f0f921"
             ]
            ],
            "type": "heatmapgl"
           }
          ],
          "histogram": [
           {
            "marker": {
             "pattern": {
              "fillmode": "overlay",
              "size": 10,
              "solidity": 0.2
             }
            },
            "type": "histogram"
           }
          ],
          "histogram2d": [
           {
            "colorbar": {
             "outlinewidth": 0,
             "ticks": ""
            },
            "colorscale": [
             [
              0,
              "#0d0887"
             ],
             [
              0.1111111111111111,
              "#46039f"
             ],
             [
              0.2222222222222222,
              "#7201a8"
             ],
             [
              0.3333333333333333,
              "#9c179e"
             ],
             [
              0.4444444444444444,
              "#bd3786"
             ],
             [
              0.5555555555555556,
              "#d8576b"
             ],
             [
              0.6666666666666666,
              "#ed7953"
             ],
             [
              0.7777777777777778,
              "#fb9f3a"
             ],
             [
              0.8888888888888888,
              "#fdca26"
             ],
             [
              1,
              "#f0f921"
             ]
            ],
            "type": "histogram2d"
           }
          ],
          "histogram2dcontour": [
           {
            "colorbar": {
             "outlinewidth": 0,
             "ticks": ""
            },
            "colorscale": [
             [
              0,
              "#0d0887"
             ],
             [
              0.1111111111111111,
              "#46039f"
             ],
             [
              0.2222222222222222,
              "#7201a8"
             ],
             [
              0.3333333333333333,
              "#9c179e"
             ],
             [
              0.4444444444444444,
              "#bd3786"
             ],
             [
              0.5555555555555556,
              "#d8576b"
             ],
             [
              0.6666666666666666,
              "#ed7953"
             ],
             [
              0.7777777777777778,
              "#fb9f3a"
             ],
             [
              0.8888888888888888,
              "#fdca26"
             ],
             [
              1,
              "#f0f921"
             ]
            ],
            "type": "histogram2dcontour"
           }
          ],
          "mesh3d": [
           {
            "colorbar": {
             "outlinewidth": 0,
             "ticks": ""
            },
            "type": "mesh3d"
           }
          ],
          "parcoords": [
           {
            "line": {
             "colorbar": {
              "outlinewidth": 0,
              "ticks": ""
             }
            },
            "type": "parcoords"
           }
          ],
          "pie": [
           {
            "automargin": true,
            "type": "pie"
           }
          ],
          "scatter": [
           {
            "fillpattern": {
             "fillmode": "overlay",
             "size": 10,
             "solidity": 0.2
            },
            "type": "scatter"
           }
          ],
          "scatter3d": [
           {
            "line": {
             "colorbar": {
              "outlinewidth": 0,
              "ticks": ""
             }
            },
            "marker": {
             "colorbar": {
              "outlinewidth": 0,
              "ticks": ""
             }
            },
            "type": "scatter3d"
           }
          ],
          "scattercarpet": [
           {
            "marker": {
             "colorbar": {
              "outlinewidth": 0,
              "ticks": ""
             }
            },
            "type": "scattercarpet"
           }
          ],
          "scattergeo": [
           {
            "marker": {
             "colorbar": {
              "outlinewidth": 0,
              "ticks": ""
             }
            },
            "type": "scattergeo"
           }
          ],
          "scattergl": [
           {
            "marker": {
             "colorbar": {
              "outlinewidth": 0,
              "ticks": ""
             }
            },
            "type": "scattergl"
           }
          ],
          "scattermapbox": [
           {
            "marker": {
             "colorbar": {
              "outlinewidth": 0,
              "ticks": ""
             }
            },
            "type": "scattermapbox"
           }
          ],
          "scatterpolar": [
           {
            "marker": {
             "colorbar": {
              "outlinewidth": 0,
              "ticks": ""
             }
            },
            "type": "scatterpolar"
           }
          ],
          "scatterpolargl": [
           {
            "marker": {
             "colorbar": {
              "outlinewidth": 0,
              "ticks": ""
             }
            },
            "type": "scatterpolargl"
           }
          ],
          "scatterternary": [
           {
            "marker": {
             "colorbar": {
              "outlinewidth": 0,
              "ticks": ""
             }
            },
            "type": "scatterternary"
           }
          ],
          "surface": [
           {
            "colorbar": {
             "outlinewidth": 0,
             "ticks": ""
            },
            "colorscale": [
             [
              0,
              "#0d0887"
             ],
             [
              0.1111111111111111,
              "#46039f"
             ],
             [
              0.2222222222222222,
              "#7201a8"
             ],
             [
              0.3333333333333333,
              "#9c179e"
             ],
             [
              0.4444444444444444,
              "#bd3786"
             ],
             [
              0.5555555555555556,
              "#d8576b"
             ],
             [
              0.6666666666666666,
              "#ed7953"
             ],
             [
              0.7777777777777778,
              "#fb9f3a"
             ],
             [
              0.8888888888888888,
              "#fdca26"
             ],
             [
              1,
              "#f0f921"
             ]
            ],
            "type": "surface"
           }
          ],
          "table": [
           {
            "cells": {
             "fill": {
              "color": "#EBF0F8"
             },
             "line": {
              "color": "white"
             }
            },
            "header": {
             "fill": {
              "color": "#C8D4E3"
             },
             "line": {
              "color": "white"
             }
            },
            "type": "table"
           }
          ]
         },
         "layout": {
          "annotationdefaults": {
           "arrowcolor": "#2a3f5f",
           "arrowhead": 0,
           "arrowwidth": 1
          },
          "autotypenumbers": "strict",
          "coloraxis": {
           "colorbar": {
            "outlinewidth": 0,
            "ticks": ""
           }
          },
          "colorscale": {
           "diverging": [
            [
             0,
             "#8e0152"
            ],
            [
             0.1,
             "#c51b7d"
            ],
            [
             0.2,
             "#de77ae"
            ],
            [
             0.3,
             "#f1b6da"
            ],
            [
             0.4,
             "#fde0ef"
            ],
            [
             0.5,
             "#f7f7f7"
            ],
            [
             0.6,
             "#e6f5d0"
            ],
            [
             0.7,
             "#b8e186"
            ],
            [
             0.8,
             "#7fbc41"
            ],
            [
             0.9,
             "#4d9221"
            ],
            [
             1,
             "#276419"
            ]
           ],
           "sequential": [
            [
             0,
             "#0d0887"
            ],
            [
             0.1111111111111111,
             "#46039f"
            ],
            [
             0.2222222222222222,
             "#7201a8"
            ],
            [
             0.3333333333333333,
             "#9c179e"
            ],
            [
             0.4444444444444444,
             "#bd3786"
            ],
            [
             0.5555555555555556,
             "#d8576b"
            ],
            [
             0.6666666666666666,
             "#ed7953"
            ],
            [
             0.7777777777777778,
             "#fb9f3a"
            ],
            [
             0.8888888888888888,
             "#fdca26"
            ],
            [
             1,
             "#f0f921"
            ]
           ],
           "sequentialminus": [
            [
             0,
             "#0d0887"
            ],
            [
             0.1111111111111111,
             "#46039f"
            ],
            [
             0.2222222222222222,
             "#7201a8"
            ],
            [
             0.3333333333333333,
             "#9c179e"
            ],
            [
             0.4444444444444444,
             "#bd3786"
            ],
            [
             0.5555555555555556,
             "#d8576b"
            ],
            [
             0.6666666666666666,
             "#ed7953"
            ],
            [
             0.7777777777777778,
             "#fb9f3a"
            ],
            [
             0.8888888888888888,
             "#fdca26"
            ],
            [
             1,
             "#f0f921"
            ]
           ]
          },
          "colorway": [
           "#636efa",
           "#EF553B",
           "#00cc96",
           "#ab63fa",
           "#FFA15A",
           "#19d3f3",
           "#FF6692",
           "#B6E880",
           "#FF97FF",
           "#FECB52"
          ],
          "font": {
           "color": "#2a3f5f"
          },
          "geo": {
           "bgcolor": "white",
           "lakecolor": "white",
           "landcolor": "#E5ECF6",
           "showlakes": true,
           "showland": true,
           "subunitcolor": "white"
          },
          "hoverlabel": {
           "align": "left"
          },
          "hovermode": "closest",
          "mapbox": {
           "style": "light"
          },
          "paper_bgcolor": "white",
          "plot_bgcolor": "#E5ECF6",
          "polar": {
           "angularaxis": {
            "gridcolor": "white",
            "linecolor": "white",
            "ticks": ""
           },
           "bgcolor": "#E5ECF6",
           "radialaxis": {
            "gridcolor": "white",
            "linecolor": "white",
            "ticks": ""
           }
          },
          "scene": {
           "xaxis": {
            "backgroundcolor": "#E5ECF6",
            "gridcolor": "white",
            "gridwidth": 2,
            "linecolor": "white",
            "showbackground": true,
            "ticks": "",
            "zerolinecolor": "white"
           },
           "yaxis": {
            "backgroundcolor": "#E5ECF6",
            "gridcolor": "white",
            "gridwidth": 2,
            "linecolor": "white",
            "showbackground": true,
            "ticks": "",
            "zerolinecolor": "white"
           },
           "zaxis": {
            "backgroundcolor": "#E5ECF6",
            "gridcolor": "white",
            "gridwidth": 2,
            "linecolor": "white",
            "showbackground": true,
            "ticks": "",
            "zerolinecolor": "white"
           }
          },
          "shapedefaults": {
           "line": {
            "color": "#2a3f5f"
           }
          },
          "ternary": {
           "aaxis": {
            "gridcolor": "white",
            "linecolor": "white",
            "ticks": ""
           },
           "baxis": {
            "gridcolor": "white",
            "linecolor": "white",
            "ticks": ""
           },
           "bgcolor": "#E5ECF6",
           "caxis": {
            "gridcolor": "white",
            "linecolor": "white",
            "ticks": ""
           }
          },
          "title": {
           "x": 0.05
          },
          "xaxis": {
           "automargin": true,
           "gridcolor": "white",
           "linecolor": "white",
           "ticks": "",
           "title": {
            "standoff": 15
           },
           "zerolinecolor": "white",
           "zerolinewidth": 2
          },
          "yaxis": {
           "automargin": true,
           "gridcolor": "white",
           "linecolor": "white",
           "ticks": "",
           "title": {
            "standoff": 15
           },
           "zerolinecolor": "white",
           "zerolinewidth": 2
          }
         }
        },
        "title": {
         "text": "Early Time Period Common Topics"
        },
        "xaxis": {
         "anchor": "y",
         "domain": [
          0,
          1
         ],
         "dtick": "M1",
         "tickformat": "%b %d",
         "ticklabelmode": "period",
         "title": {
          "text": "timepoint"
         }
        },
        "yaxis": {
         "anchor": "x",
         "domain": [
          0,
          1
         ],
         "title": {
          "text": "value"
         }
        }
       }
      }
     },
     "metadata": {},
     "output_type": "display_data"
    }
   ],
   "source": [
    "td = pd.DataFrame()\n",
    "for timepoint in range(best_mdl.num_timepoints):\n",
    "    td_tmp = pd.DataFrame(\n",
    "        np.stack([doc.get_topic_dist() for doc in best_mdl.docs if doc.timepoint == timepoint]),\n",
    "        columns=[\"topic_{}\".format(i + 1) for i in range(best_mdl.k)],\n",
    "    )\n",
    "    td_tmp[\"timepoint\"] = timepoint\n",
    "    td = pd.concat([td, td_tmp], ignore_index=True)\n",
    "    del td_tmp\n",
    "\n",
    "tp_slelcted = [2, 5, 6, 7, 8, 10, 12, 13, 14, 15, 16, 17, 19, 20, 24, 25, 27, 29, 30, 31, 32, 33, 35, 36, 40, 42, 43, 47]\n",
    "topic_list = []\n",
    "for i in tp_slelcted:\n",
    "    topic_list.append(f\"topic_{i}\")\n",
    "\n",
    "import plotly.express as px\n",
    "fig = px.line(td, x=\"timepoint\", y=topic_list,\n",
    "            #   hover_data={\"timepoint\": \"|%B %d, %Y\"},\n",
    "              title='Early Time Period Common Topics')\n",
    "fig.update_xaxes(\n",
    "    dtick=\"M1\",\n",
    "    tickformat=\"%b %d\",\n",
    "    ticklabelmode=\"period\")\n",
    "fig.show()"
   ]
  },
  {
   "cell_type": "code",
   "execution_count": 138,
   "metadata": {},
   "outputs": [
    {
     "name": "stdout",
     "output_type": "stream",
     "text": [
      "[ 2  3  8 10 17 22 25 27 43 45]\n",
      "[ 0  1  2  3  4  5  6  7  8  9 10 11]\n"
     ]
    },
    {
     "data": {
      "text/html": [
       "<div>\n",
       "<style scoped>\n",
       "    .dataframe tbody tr th:only-of-type {\n",
       "        vertical-align: middle;\n",
       "    }\n",
       "\n",
       "    .dataframe tbody tr th {\n",
       "        vertical-align: top;\n",
       "    }\n",
       "\n",
       "    .dataframe thead th {\n",
       "        text-align: right;\n",
       "    }\n",
       "</style>\n",
       "<table border=\"1\" class=\"dataframe\">\n",
       "  <thead>\n",
       "    <tr style=\"text-align: right;\">\n",
       "      <th></th>\n",
       "      <th>25</th>\n",
       "      <th>52</th>\n",
       "      <th>86</th>\n",
       "      <th>20</th>\n",
       "      <th>103</th>\n",
       "      <th>63</th>\n",
       "      <th>72</th>\n",
       "      <th>147</th>\n",
       "      <th>141</th>\n",
       "      <th>140</th>\n",
       "      <th>27</th>\n",
       "      <th>98</th>\n",
       "      <th>29</th>\n",
       "      <th>31</th>\n",
       "      <th>0</th>\n",
       "      <th>33</th>\n",
       "      <th>95</th>\n",
       "      <th>88</th>\n",
       "      <th>24</th>\n",
       "      <th>37</th>\n",
       "      <th>87</th>\n",
       "      <th>79</th>\n",
       "      <th>36</th>\n",
       "      <th>57</th>\n",
       "      <th>8</th>\n",
       "      <th>22</th>\n",
       "      <th>121</th>\n",
       "      <th>2</th>\n",
       "      <th>128</th>\n",
       "      <th>133</th>\n",
       "      <th>3</th>\n",
       "      <th>135</th>\n",
       "      <th>12</th>\n",
       "      <th>11</th>\n",
       "      <th>145</th>\n",
       "      <th>65</th>\n",
       "      <th>66</th>\n",
       "      <th>75</th>\n",
       "      <th>118</th>\n",
       "      <th>139</th>\n",
       "      <th>138</th>\n",
       "      <th>134</th>\n",
       "      <th>110</th>\n",
       "      <th>84</th>\n",
       "      <th>83</th>\n",
       "      <th>77</th>\n",
       "      <th>46</th>\n",
       "      <th>100</th>\n",
       "      <th>129</th>\n",
       "      <th>146</th>\n",
       "      <th>64</th>\n",
       "      <th>126</th>\n",
       "      <th>76</th>\n",
       "      <th>47</th>\n",
       "      <th>148</th>\n",
       "      <th>109</th>\n",
       "      <th>38</th>\n",
       "      <th>150</th>\n",
       "      <th>137</th>\n",
       "      <th>16</th>\n",
       "      <th>58</th>\n",
       "      <th>143</th>\n",
       "      <th>102</th>\n",
       "      <th>49</th>\n",
       "      <th>132</th>\n",
       "      <th>10</th>\n",
       "      <th>32</th>\n",
       "      <th>34</th>\n",
       "      <th>116</th>\n",
       "      <th>15</th>\n",
       "      <th>80</th>\n",
       "      <th>81</th>\n",
       "      <th>62</th>\n",
       "      <th>44</th>\n",
       "      <th>115</th>\n",
       "      <th>85</th>\n",
       "      <th>41</th>\n",
       "      <th>151</th>\n",
       "      <th>73</th>\n",
       "      <th>90</th>\n",
       "      <th>104</th>\n",
       "      <th>68</th>\n",
       "      <th>144</th>\n",
       "      <th>97</th>\n",
       "      <th>6</th>\n",
       "      <th>35</th>\n",
       "      <th>61</th>\n",
       "      <th>67</th>\n",
       "      <th>122</th>\n",
       "      <th>142</th>\n",
       "      <th>13</th>\n",
       "      <th>26</th>\n",
       "      <th>60</th>\n",
       "      <th>71</th>\n",
       "      <th>125</th>\n",
       "      <th>124</th>\n",
       "      <th>127</th>\n",
       "      <th>1</th>\n",
       "      <th>69</th>\n",
       "      <th>21</th>\n",
       "      <th>107</th>\n",
       "      <th>50</th>\n",
       "      <th>114</th>\n",
       "      <th>42</th>\n",
       "      <th>56</th>\n",
       "      <th>39</th>\n",
       "      <th>14</th>\n",
       "      <th>48</th>\n",
       "      <th>40</th>\n",
       "      <th>101</th>\n",
       "      <th>7</th>\n",
       "      <th>28</th>\n",
       "      <th>106</th>\n",
       "      <th>130</th>\n",
       "      <th>94</th>\n",
       "      <th>70</th>\n",
       "      <th>23</th>\n",
       "      <th>55</th>\n",
       "      <th>19</th>\n",
       "      <th>120</th>\n",
       "      <th>78</th>\n",
       "      <th>119</th>\n",
       "      <th>30</th>\n",
       "      <th>111</th>\n",
       "      <th>18</th>\n",
       "      <th>131</th>\n",
       "      <th>92</th>\n",
       "      <th>113</th>\n",
       "      <th>4</th>\n",
       "      <th>91</th>\n",
       "      <th>43</th>\n",
       "      <th>17</th>\n",
       "      <th>53</th>\n",
       "      <th>54</th>\n",
       "      <th>99</th>\n",
       "      <th>9</th>\n",
       "      <th>123</th>\n",
       "      <th>74</th>\n",
       "      <th>45</th>\n",
       "      <th>108</th>\n",
       "      <th>136</th>\n",
       "      <th>59</th>\n",
       "      <th>105</th>\n",
       "      <th>117</th>\n",
       "      <th>96</th>\n",
       "      <th>5</th>\n",
       "      <th>82</th>\n",
       "      <th>51</th>\n",
       "      <th>93</th>\n",
       "      <th>89</th>\n",
       "      <th>112</th>\n",
       "      <th>149</th>\n",
       "    </tr>\n",
       "  </thead>\n",
       "  <tbody>\n",
       "    <tr>\n",
       "      <th>word</th>\n",
       "      <td>contribution</td>\n",
       "      <td>feature</td>\n",
       "      <td>mic</td>\n",
       "      <td>circle</td>\n",
       "      <td>possibility</td>\n",
       "      <td>health</td>\n",
       "      <td>individual</td>\n",
       "      <td>unwriter</td>\n",
       "      <td>sustainability</td>\n",
       "      <td>surplus</td>\n",
       "      <td>cover</td>\n",
       "      <td>platform</td>\n",
       "      <td>cut</td>\n",
       "      <td>degree</td>\n",
       "      <td>access</td>\n",
       "      <td>dialing</td>\n",
       "      <td>picipant</td>\n",
       "      <td>movement</td>\n",
       "      <td>conclusion</td>\n",
       "      <td>distinction</td>\n",
       "      <td>mismatch</td>\n",
       "      <td>leave</td>\n",
       "      <td>discount</td>\n",
       "      <td>frequency</td>\n",
       "      <td>boat</td>\n",
       "      <td>cluster</td>\n",
       "      <td>reporting</td>\n",
       "      <td>appeal</td>\n",
       "      <td>selection</td>\n",
       "      <td>silo</td>\n",
       "      <td>aspiration</td>\n",
       "      <td>staff</td>\n",
       "      <td>capacity</td>\n",
       "      <td>break</td>\n",
       "      <td>track</td>\n",
       "      <td>hold</td>\n",
       "      <td>idea</td>\n",
       "      <td>initiative</td>\n",
       "      <td>reinsurer</td>\n",
       "      <td>superior</td>\n",
       "      <td>summary</td>\n",
       "      <td>size</td>\n",
       "      <td>progress</td>\n",
       "      <td>maturity</td>\n",
       "      <td>mark</td>\n",
       "      <td>integration</td>\n",
       "      <td>exchange</td>\n",
       "      <td>policymaker</td>\n",
       "      <td>set</td>\n",
       "      <td>traction</td>\n",
       "      <td>healthcare</td>\n",
       "      <td>scheme</td>\n",
       "      <td>insurer</td>\n",
       "      <td>expansion</td>\n",
       "      <td>unwriting</td>\n",
       "      <td>program</td>\n",
       "      <td>distribution</td>\n",
       "      <td>volatility</td>\n",
       "      <td>structure</td>\n",
       "      <td>cat</td>\n",
       "      <td>fund</td>\n",
       "      <td>tax</td>\n",
       "      <td>position</td>\n",
       "      <td>exposure</td>\n",
       "      <td>sheet</td>\n",
       "      <td>book</td>\n",
       "      <td>development</td>\n",
       "      <td>disaster</td>\n",
       "      <td>region</td>\n",
       "      <td>casualty</td>\n",
       "      <td>life</td>\n",
       "      <td>loss</td>\n",
       "      <td>half</td>\n",
       "      <td>equity</td>\n",
       "      <td>reduction</td>\n",
       "      <td>meeting</td>\n",
       "      <td>ehquake</td>\n",
       "      <td>yen</td>\n",
       "      <td>industry</td>\n",
       "      <td>operation</td>\n",
       "      <td>premium</td>\n",
       "      <td>impairment</td>\n",
       "      <td>total</td>\n",
       "      <td>plan</td>\n",
       "      <td>bank</td>\n",
       "      <td>discip</td>\n",
       "      <td>growth</td>\n",
       "      <td>impact</td>\n",
       "      <td>reserve</td>\n",
       "      <td>target</td>\n",
       "      <td>capital</td>\n",
       "      <td>cost</td>\n",
       "      <td>gain</td>\n",
       "      <td>increase</td>\n",
       "      <td>sale</td>\n",
       "      <td>return</td>\n",
       "      <td>segment</td>\n",
       "      <td>acquisition</td>\n",
       "      <td>improvement</td>\n",
       "      <td>claim</td>\n",
       "      <td>profit</td>\n",
       "      <td>extent</td>\n",
       "      <td>rating</td>\n",
       "      <td>employee</td>\n",
       "      <td>forecast</td>\n",
       "      <td>divid</td>\n",
       "      <td>cash</td>\n",
       "      <td>expense</td>\n",
       "      <td>earn</td>\n",
       "      <td>portfolio</td>\n",
       "      <td>basis</td>\n",
       "      <td>customer</td>\n",
       "      <td>product</td>\n",
       "      <td>share</td>\n",
       "      <td>performance</td>\n",
       "      <td>income</td>\n",
       "      <td>company</td>\n",
       "      <td>focus</td>\n",
       "      <td>channel</td>\n",
       "      <td>release</td>\n",
       "      <td>lapse</td>\n",
       "      <td>relationship</td>\n",
       "      <td>debt</td>\n",
       "      <td>property</td>\n",
       "      <td>change</td>\n",
       "      <td>sharehol</td>\n",
       "      <td>pension</td>\n",
       "      <td>quality</td>\n",
       "      <td>asset</td>\n",
       "      <td>opportie</td>\n",
       "      <td>environment</td>\n",
       "      <td>catastrophe</td>\n",
       "      <td>figure</td>\n",
       "      <td>flow</td>\n",
       "      <td>policy</td>\n",
       "      <td>bond</td>\n",
       "      <td>retention</td>\n",
       "      <td>inflow</td>\n",
       "      <td>event</td>\n",
       "      <td>profitability</td>\n",
       "      <td>strength</td>\n",
       "      <td>future</td>\n",
       "      <td>process</td>\n",
       "      <td>reinstatement</td>\n",
       "      <td>ping</td>\n",
       "      <td>balance</td>\n",
       "      <td>margin</td>\n",
       "      <td>eﬀect</td>\n",
       "      <td>percentage</td>\n",
       "      <td>net</td>\n",
       "      <td>protection</td>\n",
       "      <td>vitality</td>\n",
       "    </tr>\n",
       "    <tr>\n",
       "      <th>prob</th>\n",
       "      <td>0.1</td>\n",
       "      <td>0.1</td>\n",
       "      <td>0.1</td>\n",
       "      <td>0.1</td>\n",
       "      <td>0.1</td>\n",
       "      <td>0.063</td>\n",
       "      <td>0.063</td>\n",
       "      <td>0.063</td>\n",
       "      <td>0.063</td>\n",
       "      <td>0.063</td>\n",
       "      <td>0.0565</td>\n",
       "      <td>0.056</td>\n",
       "      <td>0.056</td>\n",
       "      <td>0.056</td>\n",
       "      <td>0.056</td>\n",
       "      <td>0.056</td>\n",
       "      <td>0.056</td>\n",
       "      <td>0.056</td>\n",
       "      <td>0.056</td>\n",
       "      <td>0.056</td>\n",
       "      <td>0.056</td>\n",
       "      <td>0.056</td>\n",
       "      <td>0.056</td>\n",
       "      <td>0.056</td>\n",
       "      <td>0.056</td>\n",
       "      <td>0.056</td>\n",
       "      <td>0.056</td>\n",
       "      <td>0.056</td>\n",
       "      <td>0.056</td>\n",
       "      <td>0.056</td>\n",
       "      <td>0.056</td>\n",
       "      <td>0.056</td>\n",
       "      <td>0.056</td>\n",
       "      <td>0.056</td>\n",
       "      <td>0.056</td>\n",
       "      <td>0.05</td>\n",
       "      <td>0.05</td>\n",
       "      <td>0.05</td>\n",
       "      <td>0.05</td>\n",
       "      <td>0.05</td>\n",
       "      <td>0.05</td>\n",
       "      <td>0.05</td>\n",
       "      <td>0.049</td>\n",
       "      <td>0.042</td>\n",
       "      <td>0.042</td>\n",
       "      <td>0.042</td>\n",
       "      <td>0.042</td>\n",
       "      <td>0.042</td>\n",
       "      <td>0.042</td>\n",
       "      <td>0.036</td>\n",
       "      <td>0.036</td>\n",
       "      <td>0.036</td>\n",
       "      <td>0.036</td>\n",
       "      <td>0.036</td>\n",
       "      <td>0.0325</td>\n",
       "      <td>0.0305</td>\n",
       "      <td>0.02825</td>\n",
       "      <td>0.025333</td>\n",
       "      <td>0.0225</td>\n",
       "      <td>0.0206</td>\n",
       "      <td>0.0192</td>\n",
       "      <td>0.0186</td>\n",
       "      <td>0.018</td>\n",
       "      <td>0.01775</td>\n",
       "      <td>0.017333</td>\n",
       "      <td>0.0161</td>\n",
       "      <td>0.014526</td>\n",
       "      <td>0.014</td>\n",
       "      <td>0.013</td>\n",
       "      <td>0.013</td>\n",
       "      <td>0.012476</td>\n",
       "      <td>0.012409</td>\n",
       "      <td>0.012389</td>\n",
       "      <td>0.01235</td>\n",
       "      <td>0.012</td>\n",
       "      <td>0.012</td>\n",
       "      <td>0.012</td>\n",
       "      <td>0.011333</td>\n",
       "      <td>0.011333</td>\n",
       "      <td>0.011143</td>\n",
       "      <td>0.011101</td>\n",
       "      <td>0.011</td>\n",
       "      <td>0.011</td>\n",
       "      <td>0.011</td>\n",
       "      <td>0.011</td>\n",
       "      <td>0.011</td>\n",
       "      <td>0.010926</td>\n",
       "      <td>0.01081</td>\n",
       "      <td>0.010727</td>\n",
       "      <td>0.010667</td>\n",
       "      <td>0.010535</td>\n",
       "      <td>0.010525</td>\n",
       "      <td>0.010333</td>\n",
       "      <td>0.010263</td>\n",
       "      <td>0.010263</td>\n",
       "      <td>0.0102</td>\n",
       "      <td>0.010188</td>\n",
       "      <td>0.010167</td>\n",
       "      <td>0.010143</td>\n",
       "      <td>0.010129</td>\n",
       "      <td>0.010077</td>\n",
       "      <td>0.01</td>\n",
       "      <td>0.01</td>\n",
       "      <td>0.01</td>\n",
       "      <td>0.01</td>\n",
       "      <td>0.009889</td>\n",
       "      <td>0.009857</td>\n",
       "      <td>0.009778</td>\n",
       "      <td>0.009571</td>\n",
       "      <td>0.009545</td>\n",
       "      <td>0.009444</td>\n",
       "      <td>0.009412</td>\n",
       "      <td>0.009295</td>\n",
       "      <td>0.009174</td>\n",
       "      <td>0.009143</td>\n",
       "      <td>0.009102</td>\n",
       "      <td>0.009091</td>\n",
       "      <td>0.009</td>\n",
       "      <td>0.009</td>\n",
       "      <td>0.009</td>\n",
       "      <td>0.009</td>\n",
       "      <td>0.009</td>\n",
       "      <td>0.009</td>\n",
       "      <td>0.009</td>\n",
       "      <td>0.008889</td>\n",
       "      <td>0.008833</td>\n",
       "      <td>0.008667</td>\n",
       "      <td>0.0085</td>\n",
       "      <td>0.0085</td>\n",
       "      <td>0.0085</td>\n",
       "      <td>0.0084</td>\n",
       "      <td>0.0084</td>\n",
       "      <td>0.00825</td>\n",
       "      <td>0.00825</td>\n",
       "      <td>0.0082</td>\n",
       "      <td>0.008</td>\n",
       "      <td>0.008</td>\n",
       "      <td>0.008</td>\n",
       "      <td>0.008</td>\n",
       "      <td>0.008</td>\n",
       "      <td>0.008</td>\n",
       "      <td>0.008</td>\n",
       "      <td>0.008</td>\n",
       "      <td>0.008</td>\n",
       "      <td>0.008</td>\n",
       "      <td>0.0078</td>\n",
       "      <td>0.007667</td>\n",
       "      <td>0.007</td>\n",
       "      <td>0.007</td>\n",
       "      <td>0.007</td>\n",
       "      <td>0.006</td>\n",
       "      <td>0.006</td>\n",
       "    </tr>\n",
       "  </tbody>\n",
       "</table>\n",
       "</div>"
      ],
      "text/plain": [
       "               25       52   86      20           103     63          72   \\\n",
       "word  contribution  feature  mic  circle  possibility  health  individual   \n",
       "prob           0.1      0.1  0.1     0.1          0.1   0.063       0.063   \n",
       "\n",
       "           147             141      140     27        98     29      31   \\\n",
       "word  unwriter  sustainability  surplus   cover  platform    cut  degree   \n",
       "prob     0.063           0.063    0.063  0.0565     0.056  0.056   0.056   \n",
       "\n",
       "         0        33        95        88          24           37        87   \\\n",
       "word  access  dialing  picipant  movement  conclusion  distinction  mismatch   \n",
       "prob   0.056    0.056     0.056     0.056       0.056        0.056     0.056   \n",
       "\n",
       "        79        36         57     8        22         121     2    \\\n",
       "word  leave  discount  frequency   boat  cluster  reporting  appeal   \n",
       "prob  0.056     0.056      0.056  0.056    0.056      0.056   0.056   \n",
       "\n",
       "            128    133         3      135       12     11     145   65    66   \\\n",
       "word  selection   silo  aspiration  staff  capacity  break  track  hold  idea   \n",
       "prob      0.056  0.056       0.056  0.056     0.056  0.056  0.056  0.05  0.05   \n",
       "\n",
       "             75         118       139      138   134       110       84   \\\n",
       "word  initiative  reinsurer  superior  summary  size  progress  maturity   \n",
       "prob        0.05       0.05      0.05     0.05  0.05     0.049     0.042   \n",
       "\n",
       "        83           77        46           100    129       146         64   \\\n",
       "word   mark  integration  exchange  policymaker    set  traction  healthcare   \n",
       "prob  0.042        0.042     0.042        0.042  0.042     0.036       0.036   \n",
       "\n",
       "         126      76         47         148      109           38   \\\n",
       "word  scheme  insurer  expansion  unwriting  program  distribution   \n",
       "prob   0.036    0.036      0.036     0.0325   0.0305       0.02825   \n",
       "\n",
       "             150        137     16      58      143       102       49   \\\n",
       "word  volatility  structure     cat    fund     tax  position  exposure   \n",
       "prob    0.025333     0.0225  0.0206  0.0192  0.0186     0.018   0.01775   \n",
       "\n",
       "           132     10           32        34      116       15        80   \\\n",
       "word     sheet    book  development  disaster  region  casualty      life   \n",
       "prob  0.017333  0.0161     0.014526     0.014   0.013     0.013  0.012476   \n",
       "\n",
       "           81        62       44         115      85       41        151  \\\n",
       "word      loss      half   equity  reduction  meeting  ehquake       yen   \n",
       "prob  0.012409  0.012389  0.01235      0.012    0.012    0.012  0.011333   \n",
       "\n",
       "           73         90        104         68     144    97     6       35   \\\n",
       "word  industry  operation   premium  impairment  total   plan   bank  discip   \n",
       "prob  0.011333   0.011143  0.011101       0.011  0.011  0.011  0.011   0.011   \n",
       "\n",
       "           61       67        122       142       13        26        60   \\\n",
       "word    growth   impact   reserve    target   capital      cost      gain   \n",
       "prob  0.010926  0.01081  0.010727  0.010667  0.010535  0.010525  0.010333   \n",
       "\n",
       "           71        125     124       127          1            69   \\\n",
       "word  increase      sale  return   segment  acquisition  improvement   \n",
       "prob  0.010263  0.010263  0.0102  0.010188     0.010167     0.010143   \n",
       "\n",
       "           21        107     50      114       42        56        39   \\\n",
       "word     claim    profit  extent  rating  employee  forecast     divid   \n",
       "prob  0.010129  0.010077    0.01    0.01      0.01      0.01  0.009889   \n",
       "\n",
       "           14        48        40         101       7         28        106  \\\n",
       "word      cash   expense      earn  portfolio     basis  customer   product   \n",
       "prob  0.009857  0.009778  0.009571   0.009545  0.009444  0.009412  0.009295   \n",
       "\n",
       "           130          94        70        23     55       19       120  \\\n",
       "word     share  performance    income   company  focus  channel  release   \n",
       "prob  0.009174     0.009143  0.009102  0.009091  0.009    0.009    0.009   \n",
       "\n",
       "        78            119    30        111       18        131       92   \\\n",
       "word  lapse  relationship   debt  property    change  sharehol   pension   \n",
       "prob  0.009         0.009  0.009     0.009  0.008889  0.008833  0.008667   \n",
       "\n",
       "          113     4         91           43           17       53       54   \\\n",
       "word  quality   asset  opportie  environment  catastrophe   figure     flow   \n",
       "prob   0.0085  0.0085    0.0085       0.0084       0.0084  0.00825  0.00825   \n",
       "\n",
       "         99     9          123     74     45             108       136  \\\n",
       "word  policy   bond  retention  inflow  event  profitability  strength   \n",
       "prob  0.0082  0.008      0.008   0.008  0.008          0.008     0.008   \n",
       "\n",
       "         59       105            117    96       5         82     51   \\\n",
       "word  future  process  reinstatement   ping  balance    margin  eﬀect   \n",
       "prob   0.008    0.008          0.008  0.008   0.0078  0.007667  0.007   \n",
       "\n",
       "             93     89          112       149  \n",
       "word  percentage    net  protection  vitality  \n",
       "prob       0.007  0.007       0.006     0.006  "
      ]
     },
     "execution_count": 138,
     "metadata": {},
     "output_type": "execute_result"
    }
   ],
   "source": [
    "MD_DTM_early = pd.DataFrame()\n",
    "for i in tp_slelcted:\n",
    "    tmp_topic = wt[wt['k']==i-1]\n",
    "    MD_DTM_early = MD_DTM_early.append(tmp_topic)\n",
    "\n",
    "\n",
    "time_list = []\n",
    "for i in range(12):\n",
    "    time_list.append(i)\n",
    "\n",
    "# MD_DTM_early['k'] is in any of the time_list\n",
    "MD_DTM_early = MD_DTM_early[MD_DTM_early['timepoint'].isin(time_list)]\n",
    "\n",
    "print(MD_DTM_early.k.unique())\n",
    "print(MD_DTM_early.timepoint.unique())\n",
    "\n",
    "# groupby word and get the average of prob\n",
    "MD_DTM_early = MD_DTM_early.groupby(['word'])['prob'].mean().reset_index()\n",
    "# sort by prob\n",
    "MD_DTM_early.sort_values(by='prob', ascending=False, inplace=True)\n",
    "MD_DTM_early.T"
   ]
  },
  {
   "cell_type": "markdown",
   "metadata": {},
   "source": [
    "# During the recent of time "
   ]
  },
  {
   "cell_type": "code",
   "execution_count": 149,
   "metadata": {},
   "outputs": [
    {
     "data": {
      "application/vnd.plotly.v1+json": {
       "config": {
        "plotlyServerURL": "https://plot.ly"
       },
       "data": [
        {
         "hovertemplate": "variable=topic_21<br>timepoint=%{x}<br>value=%{y}<extra></extra>",
         "legendgroup": "topic_21",
         "line": {
          "color": "#636efa",
          "dash": "solid"
         },
         "marker": {
          "symbol": "circle"
         },
         "mode": "lines",
         "name": "topic_21",
         "orientation": "v",
         "showlegend": true,
         "type": "scatter",
         "x": [
          0,
          1,
          2,
          3,
          4,
          5,
          6,
          7,
          8,
          9,
          10,
          11,
          12,
          13,
          14,
          15,
          16,
          17,
          18,
          19,
          20,
          21,
          22,
          23,
          24,
          25,
          26,
          27,
          28,
          29,
          30,
          31,
          32,
          33,
          34,
          35,
          36,
          37,
          38,
          39,
          40,
          41,
          42,
          43,
          44,
          45
         ],
         "xaxis": "x",
         "y": [
          0.017750808969140053,
          0.020193902775645256,
          0.02110099419951439,
          0.01942094974219799,
          0.019565165042877197,
          0.019835729151964188,
          0.017365114763379097,
          0.017771005630493164,
          0.011992777697741985,
          0.013130445964634418,
          0.00011004731641151011,
          0.01415252685546875,
          0.00013490166747942567,
          0.0000051055053518211935,
          0.000003142114792353823,
          0.00004549271034193225,
          0.00006827336619608104,
          0.00006277929787756875,
          0.0000034207098451588536,
          0.00010755056428024545,
          0.0000026942777822114294,
          0.000004450834239833057,
          0.00003553006172296591,
          0.000004297249688534066,
          0.0000028601912163139787,
          0.0000033645451367192436,
          0.00003296502472949214,
          0.0000025583497063053073,
          0.000043736603402066976,
          0.00006966167711652815,
          0.00011408632417442277,
          0.9991444945335388,
          0.00004638659447664395,
          0.00003271696550655179,
          0.000023718295778962784,
          0.000003580033535399707,
          0.0000030502033041557297,
          0.0000034368160868325504,
          0.000058944555348716676,
          0.000003099170498899184,
          0.0000024046728412940865,
          0.00007421359623549506,
          0.000003182615500918473,
          0.9990890622138977,
          0.9745202660560608,
          0.026122527197003365
         ],
         "yaxis": "y"
        },
        {
         "hovertemplate": "variable=topic_11<br>timepoint=%{x}<br>value=%{y}<extra></extra>",
         "legendgroup": "topic_11",
         "line": {
          "color": "#EF553B",
          "dash": "solid"
         },
         "marker": {
          "symbol": "circle"
         },
         "mode": "lines",
         "name": "topic_11",
         "orientation": "v",
         "showlegend": true,
         "type": "scatter",
         "x": [
          0,
          1,
          2,
          3,
          4,
          5,
          6,
          7,
          8,
          9,
          10,
          11,
          12,
          13,
          14,
          15,
          16,
          17,
          18,
          19,
          20,
          21,
          22,
          23,
          24,
          25,
          26,
          27,
          28,
          29,
          30,
          31,
          32,
          33,
          34,
          35,
          36,
          37,
          38,
          39,
          40,
          41,
          42,
          43,
          44,
          45
         ],
         "xaxis": "x",
         "y": [
          0.015014108270406723,
          0.018765510991215706,
          0.01825818233191967,
          0.01998605951666832,
          0.019156021997332573,
          0.02524137683212757,
          0.02105982042849064,
          0.017083538696169853,
          0.013381902128458023,
          0.019360562786459923,
          0.00047687176265753806,
          0.015073657967150211,
          0.00013490166747942567,
          0.000056160562962759286,
          0.000003142114792353823,
          0.00000413570069213165,
          0.00003576224116841331,
          0.000005707209311367478,
          0.00003762780761462636,
          0.0000563360117666889,
          0.000029637054467457347,
          0.00009346751176053658,
          0.0000032300056318490533,
          0.00009024223254527897,
          0.000031462102924706414,
          0.0000033645451367192436,
          0.00003296502472949214,
          0.000028141846996732056,
          0.0000020826955733355135,
          0.00006966167711652815,
          0.000002782593355732388,
          0.000002337666728635668,
          0.0000022088854620960774,
          0.00003271696550655179,
          0.0000021562086658377666,
          0.000003580033535399707,
          0.0000030502033041557297,
          0.00007217313395813107,
          0.0000028068836854799883,
          0.000003099170498899184,
          0.0000024046728412940865,
          0.00007421359623549506,
          0.9988351464271545,
          0.0000031850481718720403,
          0.0009303868282586336,
          0.01403737161308527
         ],
         "yaxis": "y"
        },
        {
         "hovertemplate": "variable=topic_28<br>timepoint=%{x}<br>value=%{y}<extra></extra>",
         "legendgroup": "topic_28",
         "line": {
          "color": "#00cc96",
          "dash": "solid"
         },
         "marker": {
          "symbol": "circle"
         },
         "mode": "lines",
         "name": "topic_28",
         "orientation": "v",
         "showlegend": true,
         "type": "scatter",
         "x": [
          0,
          1,
          2,
          3,
          4,
          5,
          6,
          7,
          8,
          9,
          10,
          11,
          12,
          13,
          14,
          15,
          16,
          17,
          18,
          19,
          20,
          21,
          22,
          23,
          24,
          25,
          26,
          27,
          28,
          29,
          30,
          31,
          32,
          33,
          34,
          35,
          36,
          37,
          38,
          39,
          40,
          41,
          42,
          43,
          44,
          45
         ],
         "xaxis": "x",
         "y": [
          0.017656439915299416,
          0.021265197545289993,
          0.020000550895929337,
          0.017160508781671524,
          0.02308378368616104,
          0.027343574911355972,
          0.022851193323731422,
          0.021322915330529213,
          0.01333045307546854,
          0.017095066606998444,
          0.0005292752757668495,
          0.043562933802604675,
          0.9957528114318848,
          0.0000051055053518211935,
          0.000003142114792353823,
          0.00000413570069213165,
          0.00003576224116841331,
          0.000005707209311367478,
          0.00003762780761462636,
          0.000005121455615153536,
          0.0000026942777822114294,
          0.000048959176638163626,
          0.00003553006172296591,
          0.9976537227630615,
          0.9990676641464233,
          0.00013794635015074164,
          0.00003296502472949214,
          0.0000025583497063053073,
          0.000022909651306690648,
          0.0000033172227631439455,
          0.00003060852759517729,
          0.000002337666728635668,
          0.000024297740310430527,
          0.0000029742698188783834,
          0.000023718295778962784,
          0.0000751807019696571,
          0.00003355223816470243,
          0.00007217313395813107,
          0.0000028068836854799883,
          0.000003099170498899184,
          0.0000745448560337536,
          0.9978230595588684,
          0.00006683491665171459,
          0.00003503552943584509,
          0.0005619167350232601,
          0.01682625338435173
         ],
         "yaxis": "y"
        },
        {
         "hovertemplate": "variable=topic_18<br>timepoint=%{x}<br>value=%{y}<extra></extra>",
         "legendgroup": "topic_18",
         "line": {
          "color": "#ab63fa",
          "dash": "solid"
         },
         "marker": {
          "symbol": "circle"
         },
         "mode": "lines",
         "name": "topic_18",
         "orientation": "v",
         "showlegend": true,
         "type": "scatter",
         "x": [
          0,
          1,
          2,
          3,
          4,
          5,
          6,
          7,
          8,
          9,
          10,
          11,
          12,
          13,
          14,
          15,
          16,
          17,
          18,
          19,
          20,
          21,
          22,
          23,
          24,
          25,
          26,
          27,
          28,
          29,
          30,
          31,
          32,
          33,
          34,
          35,
          36,
          37,
          38,
          39,
          40,
          41,
          42,
          43,
          44,
          45
         ],
         "xaxis": "x",
         "y": [
          0.01992129720747471,
          0.023586338385939598,
          0.01789136789739132,
          0.02055116929113865,
          0.020792590454220772,
          0.022238239645957947,
          0.02105982042849064,
          0.01926051639020443,
          0.011118142865598202,
          0.016528692096471786,
          0.00047687176265753806,
          0.02152157761156559,
          0.00013490166747942567,
          0.000056160562962759286,
          0.000003142114792353823,
          0.00008684970816830173,
          0.00003576224116841331,
          0.00006277929787756875,
          0.0000034207098451588536,
          0.0000563360117666889,
          0.0000026942777822114294,
          0.000048959176638163626,
          0.00003553006172296591,
          0.000004297249688534066,
          0.00008866591815603897,
          0.0000033645451367192436,
          0.00003296502472949214,
          0.0000025583497063053073,
          0.000022909651306690648,
          0.0000033172227631439455,
          0.000002782593355732388,
          0.000002337666728635668,
          0.0000022088854620960774,
          0.00006245965778362006,
          0.000023718295778962784,
          0.00003938037116313353,
          0.0000030502033041557297,
          0.0000034368160868325504,
          0.0000028068836854799883,
          0.00003409087366890162,
          0.9990959167480469,
          0.00007421359623549506,
          0.000035008768463740125,
          0.00003503552943584509,
          0.0005619167350232601,
          0.018685508519411087
         ],
         "yaxis": "y"
        }
       ],
       "layout": {
        "legend": {
         "title": {
          "text": "variable"
         },
         "tracegroupgap": 0
        },
        "template": {
         "data": {
          "bar": [
           {
            "error_x": {
             "color": "#2a3f5f"
            },
            "error_y": {
             "color": "#2a3f5f"
            },
            "marker": {
             "line": {
              "color": "#E5ECF6",
              "width": 0.5
             },
             "pattern": {
              "fillmode": "overlay",
              "size": 10,
              "solidity": 0.2
             }
            },
            "type": "bar"
           }
          ],
          "barpolar": [
           {
            "marker": {
             "line": {
              "color": "#E5ECF6",
              "width": 0.5
             },
             "pattern": {
              "fillmode": "overlay",
              "size": 10,
              "solidity": 0.2
             }
            },
            "type": "barpolar"
           }
          ],
          "carpet": [
           {
            "aaxis": {
             "endlinecolor": "#2a3f5f",
             "gridcolor": "white",
             "linecolor": "white",
             "minorgridcolor": "white",
             "startlinecolor": "#2a3f5f"
            },
            "baxis": {
             "endlinecolor": "#2a3f5f",
             "gridcolor": "white",
             "linecolor": "white",
             "minorgridcolor": "white",
             "startlinecolor": "#2a3f5f"
            },
            "type": "carpet"
           }
          ],
          "choropleth": [
           {
            "colorbar": {
             "outlinewidth": 0,
             "ticks": ""
            },
            "type": "choropleth"
           }
          ],
          "contour": [
           {
            "colorbar": {
             "outlinewidth": 0,
             "ticks": ""
            },
            "colorscale": [
             [
              0,
              "#0d0887"
             ],
             [
              0.1111111111111111,
              "#46039f"
             ],
             [
              0.2222222222222222,
              "#7201a8"
             ],
             [
              0.3333333333333333,
              "#9c179e"
             ],
             [
              0.4444444444444444,
              "#bd3786"
             ],
             [
              0.5555555555555556,
              "#d8576b"
             ],
             [
              0.6666666666666666,
              "#ed7953"
             ],
             [
              0.7777777777777778,
              "#fb9f3a"
             ],
             [
              0.8888888888888888,
              "#fdca26"
             ],
             [
              1,
              "#f0f921"
             ]
            ],
            "type": "contour"
           }
          ],
          "contourcarpet": [
           {
            "colorbar": {
             "outlinewidth": 0,
             "ticks": ""
            },
            "type": "contourcarpet"
           }
          ],
          "heatmap": [
           {
            "colorbar": {
             "outlinewidth": 0,
             "ticks": ""
            },
            "colorscale": [
             [
              0,
              "#0d0887"
             ],
             [
              0.1111111111111111,
              "#46039f"
             ],
             [
              0.2222222222222222,
              "#7201a8"
             ],
             [
              0.3333333333333333,
              "#9c179e"
             ],
             [
              0.4444444444444444,
              "#bd3786"
             ],
             [
              0.5555555555555556,
              "#d8576b"
             ],
             [
              0.6666666666666666,
              "#ed7953"
             ],
             [
              0.7777777777777778,
              "#fb9f3a"
             ],
             [
              0.8888888888888888,
              "#fdca26"
             ],
             [
              1,
              "#f0f921"
             ]
            ],
            "type": "heatmap"
           }
          ],
          "heatmapgl": [
           {
            "colorbar": {
             "outlinewidth": 0,
             "ticks": ""
            },
            "colorscale": [
             [
              0,
              "#0d0887"
             ],
             [
              0.1111111111111111,
              "#46039f"
             ],
             [
              0.2222222222222222,
              "#7201a8"
             ],
             [
              0.3333333333333333,
              "#9c179e"
             ],
             [
              0.4444444444444444,
              "#bd3786"
             ],
             [
              0.5555555555555556,
              "#d8576b"
             ],
             [
              0.6666666666666666,
              "#ed7953"
             ],
             [
              0.7777777777777778,
              "#fb9f3a"
             ],
             [
              0.8888888888888888,
              "#fdca26"
             ],
             [
              1,
              "#f0f921"
             ]
            ],
            "type": "heatmapgl"
           }
          ],
          "histogram": [
           {
            "marker": {
             "pattern": {
              "fillmode": "overlay",
              "size": 10,
              "solidity": 0.2
             }
            },
            "type": "histogram"
           }
          ],
          "histogram2d": [
           {
            "colorbar": {
             "outlinewidth": 0,
             "ticks": ""
            },
            "colorscale": [
             [
              0,
              "#0d0887"
             ],
             [
              0.1111111111111111,
              "#46039f"
             ],
             [
              0.2222222222222222,
              "#7201a8"
             ],
             [
              0.3333333333333333,
              "#9c179e"
             ],
             [
              0.4444444444444444,
              "#bd3786"
             ],
             [
              0.5555555555555556,
              "#d8576b"
             ],
             [
              0.6666666666666666,
              "#ed7953"
             ],
             [
              0.7777777777777778,
              "#fb9f3a"
             ],
             [
              0.8888888888888888,
              "#fdca26"
             ],
             [
              1,
              "#f0f921"
             ]
            ],
            "type": "histogram2d"
           }
          ],
          "histogram2dcontour": [
           {
            "colorbar": {
             "outlinewidth": 0,
             "ticks": ""
            },
            "colorscale": [
             [
              0,
              "#0d0887"
             ],
             [
              0.1111111111111111,
              "#46039f"
             ],
             [
              0.2222222222222222,
              "#7201a8"
             ],
             [
              0.3333333333333333,
              "#9c179e"
             ],
             [
              0.4444444444444444,
              "#bd3786"
             ],
             [
              0.5555555555555556,
              "#d8576b"
             ],
             [
              0.6666666666666666,
              "#ed7953"
             ],
             [
              0.7777777777777778,
              "#fb9f3a"
             ],
             [
              0.8888888888888888,
              "#fdca26"
             ],
             [
              1,
              "#f0f921"
             ]
            ],
            "type": "histogram2dcontour"
           }
          ],
          "mesh3d": [
           {
            "colorbar": {
             "outlinewidth": 0,
             "ticks": ""
            },
            "type": "mesh3d"
           }
          ],
          "parcoords": [
           {
            "line": {
             "colorbar": {
              "outlinewidth": 0,
              "ticks": ""
             }
            },
            "type": "parcoords"
           }
          ],
          "pie": [
           {
            "automargin": true,
            "type": "pie"
           }
          ],
          "scatter": [
           {
            "fillpattern": {
             "fillmode": "overlay",
             "size": 10,
             "solidity": 0.2
            },
            "type": "scatter"
           }
          ],
          "scatter3d": [
           {
            "line": {
             "colorbar": {
              "outlinewidth": 0,
              "ticks": ""
             }
            },
            "marker": {
             "colorbar": {
              "outlinewidth": 0,
              "ticks": ""
             }
            },
            "type": "scatter3d"
           }
          ],
          "scattercarpet": [
           {
            "marker": {
             "colorbar": {
              "outlinewidth": 0,
              "ticks": ""
             }
            },
            "type": "scattercarpet"
           }
          ],
          "scattergeo": [
           {
            "marker": {
             "colorbar": {
              "outlinewidth": 0,
              "ticks": ""
             }
            },
            "type": "scattergeo"
           }
          ],
          "scattergl": [
           {
            "marker": {
             "colorbar": {
              "outlinewidth": 0,
              "ticks": ""
             }
            },
            "type": "scattergl"
           }
          ],
          "scattermapbox": [
           {
            "marker": {
             "colorbar": {
              "outlinewidth": 0,
              "ticks": ""
             }
            },
            "type": "scattermapbox"
           }
          ],
          "scatterpolar": [
           {
            "marker": {
             "colorbar": {
              "outlinewidth": 0,
              "ticks": ""
             }
            },
            "type": "scatterpolar"
           }
          ],
          "scatterpolargl": [
           {
            "marker": {
             "colorbar": {
              "outlinewidth": 0,
              "ticks": ""
             }
            },
            "type": "scatterpolargl"
           }
          ],
          "scatterternary": [
           {
            "marker": {
             "colorbar": {
              "outlinewidth": 0,
              "ticks": ""
             }
            },
            "type": "scatterternary"
           }
          ],
          "surface": [
           {
            "colorbar": {
             "outlinewidth": 0,
             "ticks": ""
            },
            "colorscale": [
             [
              0,
              "#0d0887"
             ],
             [
              0.1111111111111111,
              "#46039f"
             ],
             [
              0.2222222222222222,
              "#7201a8"
             ],
             [
              0.3333333333333333,
              "#9c179e"
             ],
             [
              0.4444444444444444,
              "#bd3786"
             ],
             [
              0.5555555555555556,
              "#d8576b"
             ],
             [
              0.6666666666666666,
              "#ed7953"
             ],
             [
              0.7777777777777778,
              "#fb9f3a"
             ],
             [
              0.8888888888888888,
              "#fdca26"
             ],
             [
              1,
              "#f0f921"
             ]
            ],
            "type": "surface"
           }
          ],
          "table": [
           {
            "cells": {
             "fill": {
              "color": "#EBF0F8"
             },
             "line": {
              "color": "white"
             }
            },
            "header": {
             "fill": {
              "color": "#C8D4E3"
             },
             "line": {
              "color": "white"
             }
            },
            "type": "table"
           }
          ]
         },
         "layout": {
          "annotationdefaults": {
           "arrowcolor": "#2a3f5f",
           "arrowhead": 0,
           "arrowwidth": 1
          },
          "autotypenumbers": "strict",
          "coloraxis": {
           "colorbar": {
            "outlinewidth": 0,
            "ticks": ""
           }
          },
          "colorscale": {
           "diverging": [
            [
             0,
             "#8e0152"
            ],
            [
             0.1,
             "#c51b7d"
            ],
            [
             0.2,
             "#de77ae"
            ],
            [
             0.3,
             "#f1b6da"
            ],
            [
             0.4,
             "#fde0ef"
            ],
            [
             0.5,
             "#f7f7f7"
            ],
            [
             0.6,
             "#e6f5d0"
            ],
            [
             0.7,
             "#b8e186"
            ],
            [
             0.8,
             "#7fbc41"
            ],
            [
             0.9,
             "#4d9221"
            ],
            [
             1,
             "#276419"
            ]
           ],
           "sequential": [
            [
             0,
             "#0d0887"
            ],
            [
             0.1111111111111111,
             "#46039f"
            ],
            [
             0.2222222222222222,
             "#7201a8"
            ],
            [
             0.3333333333333333,
             "#9c179e"
            ],
            [
             0.4444444444444444,
             "#bd3786"
            ],
            [
             0.5555555555555556,
             "#d8576b"
            ],
            [
             0.6666666666666666,
             "#ed7953"
            ],
            [
             0.7777777777777778,
             "#fb9f3a"
            ],
            [
             0.8888888888888888,
             "#fdca26"
            ],
            [
             1,
             "#f0f921"
            ]
           ],
           "sequentialminus": [
            [
             0,
             "#0d0887"
            ],
            [
             0.1111111111111111,
             "#46039f"
            ],
            [
             0.2222222222222222,
             "#7201a8"
            ],
            [
             0.3333333333333333,
             "#9c179e"
            ],
            [
             0.4444444444444444,
             "#bd3786"
            ],
            [
             0.5555555555555556,
             "#d8576b"
            ],
            [
             0.6666666666666666,
             "#ed7953"
            ],
            [
             0.7777777777777778,
             "#fb9f3a"
            ],
            [
             0.8888888888888888,
             "#fdca26"
            ],
            [
             1,
             "#f0f921"
            ]
           ]
          },
          "colorway": [
           "#636efa",
           "#EF553B",
           "#00cc96",
           "#ab63fa",
           "#FFA15A",
           "#19d3f3",
           "#FF6692",
           "#B6E880",
           "#FF97FF",
           "#FECB52"
          ],
          "font": {
           "color": "#2a3f5f"
          },
          "geo": {
           "bgcolor": "white",
           "lakecolor": "white",
           "landcolor": "#E5ECF6",
           "showlakes": true,
           "showland": true,
           "subunitcolor": "white"
          },
          "hoverlabel": {
           "align": "left"
          },
          "hovermode": "closest",
          "mapbox": {
           "style": "light"
          },
          "paper_bgcolor": "white",
          "plot_bgcolor": "#E5ECF6",
          "polar": {
           "angularaxis": {
            "gridcolor": "white",
            "linecolor": "white",
            "ticks": ""
           },
           "bgcolor": "#E5ECF6",
           "radialaxis": {
            "gridcolor": "white",
            "linecolor": "white",
            "ticks": ""
           }
          },
          "scene": {
           "xaxis": {
            "backgroundcolor": "#E5ECF6",
            "gridcolor": "white",
            "gridwidth": 2,
            "linecolor": "white",
            "showbackground": true,
            "ticks": "",
            "zerolinecolor": "white"
           },
           "yaxis": {
            "backgroundcolor": "#E5ECF6",
            "gridcolor": "white",
            "gridwidth": 2,
            "linecolor": "white",
            "showbackground": true,
            "ticks": "",
            "zerolinecolor": "white"
           },
           "zaxis": {
            "backgroundcolor": "#E5ECF6",
            "gridcolor": "white",
            "gridwidth": 2,
            "linecolor": "white",
            "showbackground": true,
            "ticks": "",
            "zerolinecolor": "white"
           }
          },
          "shapedefaults": {
           "line": {
            "color": "#2a3f5f"
           }
          },
          "ternary": {
           "aaxis": {
            "gridcolor": "white",
            "linecolor": "white",
            "ticks": ""
           },
           "baxis": {
            "gridcolor": "white",
            "linecolor": "white",
            "ticks": ""
           },
           "bgcolor": "#E5ECF6",
           "caxis": {
            "gridcolor": "white",
            "linecolor": "white",
            "ticks": ""
           }
          },
          "title": {
           "x": 0.05
          },
          "xaxis": {
           "automargin": true,
           "gridcolor": "white",
           "linecolor": "white",
           "ticks": "",
           "title": {
            "standoff": 15
           },
           "zerolinecolor": "white",
           "zerolinewidth": 2
          },
          "yaxis": {
           "automargin": true,
           "gridcolor": "white",
           "linecolor": "white",
           "ticks": "",
           "title": {
            "standoff": 15
           },
           "zerolinecolor": "white",
           "zerolinewidth": 2
          }
         }
        },
        "title": {
         "text": "Recent Time Period Common Topics"
        },
        "xaxis": {
         "anchor": "y",
         "domain": [
          0,
          1
         ],
         "dtick": "M1",
         "tickformat": "%b %d",
         "ticklabelmode": "period",
         "title": {
          "text": "timepoint"
         }
        },
        "yaxis": {
         "anchor": "x",
         "domain": [
          0,
          1
         ],
         "title": {
          "text": "value"
         }
        }
       }
      }
     },
     "metadata": {},
     "output_type": "display_data"
    }
   ],
   "source": [
    "td = pd.DataFrame()\n",
    "for timepoint in range(best_mdl.num_timepoints):\n",
    "    td_tmp = pd.DataFrame(\n",
    "        np.stack([doc.get_topic_dist() for doc in best_mdl.docs if doc.timepoint == timepoint]),\n",
    "        columns=[\"topic_{}\".format(i + 1) for i in range(best_mdl.k)],\n",
    "    )\n",
    "    td_tmp[\"timepoint\"] = timepoint\n",
    "    td = pd.concat([td, td_tmp], ignore_index=True)\n",
    "    del td_tmp\n",
    "\n",
    "tp_slelcted = [21, 11, 28, 18] #[3, 4 ,9, 11, 18,21, 23, 26, 28, 44, 46]\n",
    "topic_list = []\n",
    "for i in tp_slelcted:\n",
    "    topic_list.append(f\"topic_{i}\")\n",
    "\n",
    "import plotly.express as px\n",
    "fig = px.line(td, x=\"timepoint\", y=topic_list,\n",
    "            #   hover_data={\"timepoint\": \"|%B %d, %Y\"},\n",
    "              title='Recent Time Period Common Topics')\n",
    "fig.update_xaxes(\n",
    "    dtick=\"M1\",\n",
    "    tickformat=\"%b %d\",\n",
    "    ticklabelmode=\"period\")\n",
    "fig.show()"
   ]
  },
  {
   "cell_type": "code",
   "execution_count": 150,
   "metadata": {},
   "outputs": [
    {
     "name": "stdout",
     "output_type": "stream",
     "text": [
      "[20 10 27 17]\n",
      "[30 31 32 33 34 35 36 37 38 39 40 41 42 43 44 45]\n"
     ]
    },
    {
     "data": {
      "text/html": [
       "<div>\n",
       "<style scoped>\n",
       "    .dataframe tbody tr th:only-of-type {\n",
       "        vertical-align: middle;\n",
       "    }\n",
       "\n",
       "    .dataframe tbody tr th {\n",
       "        vertical-align: top;\n",
       "    }\n",
       "\n",
       "    .dataframe thead th {\n",
       "        text-align: right;\n",
       "    }\n",
       "</style>\n",
       "<table border=\"1\" class=\"dataframe\">\n",
       "  <thead>\n",
       "    <tr style=\"text-align: right;\">\n",
       "      <th></th>\n",
       "      <th>46</th>\n",
       "      <th>90</th>\n",
       "      <th>3</th>\n",
       "      <th>23</th>\n",
       "      <th>43</th>\n",
       "      <th>87</th>\n",
       "      <th>1</th>\n",
       "      <th>9</th>\n",
       "      <th>75</th>\n",
       "      <th>11</th>\n",
       "      <th>57</th>\n",
       "      <th>18</th>\n",
       "      <th>69</th>\n",
       "      <th>63</th>\n",
       "      <th>48</th>\n",
       "      <th>58</th>\n",
       "      <th>74</th>\n",
       "      <th>66</th>\n",
       "      <th>73</th>\n",
       "      <th>30</th>\n",
       "      <th>80</th>\n",
       "      <th>83</th>\n",
       "      <th>88</th>\n",
       "      <th>89</th>\n",
       "      <th>33</th>\n",
       "      <th>92</th>\n",
       "      <th>22</th>\n",
       "      <th>15</th>\n",
       "      <th>6</th>\n",
       "      <th>24</th>\n",
       "      <th>17</th>\n",
       "      <th>36</th>\n",
       "      <th>16</th>\n",
       "      <th>68</th>\n",
       "      <th>85</th>\n",
       "      <th>78</th>\n",
       "      <th>4</th>\n",
       "      <th>38</th>\n",
       "      <th>50</th>\n",
       "      <th>65</th>\n",
       "      <th>49</th>\n",
       "      <th>20</th>\n",
       "      <th>71</th>\n",
       "      <th>59</th>\n",
       "      <th>61</th>\n",
       "      <th>44</th>\n",
       "      <th>54</th>\n",
       "      <th>84</th>\n",
       "      <th>37</th>\n",
       "      <th>2</th>\n",
       "      <th>91</th>\n",
       "      <th>72</th>\n",
       "      <th>60</th>\n",
       "      <th>76</th>\n",
       "      <th>45</th>\n",
       "      <th>77</th>\n",
       "      <th>81</th>\n",
       "      <th>42</th>\n",
       "      <th>41</th>\n",
       "      <th>40</th>\n",
       "      <th>34</th>\n",
       "      <th>79</th>\n",
       "      <th>7</th>\n",
       "      <th>86</th>\n",
       "      <th>64</th>\n",
       "      <th>0</th>\n",
       "      <th>39</th>\n",
       "      <th>62</th>\n",
       "      <th>67</th>\n",
       "      <th>31</th>\n",
       "      <th>32</th>\n",
       "      <th>56</th>\n",
       "      <th>21</th>\n",
       "      <th>82</th>\n",
       "      <th>19</th>\n",
       "      <th>52</th>\n",
       "      <th>70</th>\n",
       "      <th>47</th>\n",
       "      <th>10</th>\n",
       "      <th>26</th>\n",
       "      <th>25</th>\n",
       "      <th>55</th>\n",
       "      <th>14</th>\n",
       "      <th>12</th>\n",
       "      <th>5</th>\n",
       "      <th>27</th>\n",
       "      <th>53</th>\n",
       "      <th>8</th>\n",
       "      <th>35</th>\n",
       "      <th>51</th>\n",
       "      <th>29</th>\n",
       "      <th>13</th>\n",
       "      <th>28</th>\n",
       "    </tr>\n",
       "  </thead>\n",
       "  <tbody>\n",
       "    <tr>\n",
       "      <th>word</th>\n",
       "      <td>peer</td>\n",
       "      <td>wholesale</td>\n",
       "      <td>amendment</td>\n",
       "      <td>financing</td>\n",
       "      <td>operating</td>\n",
       "      <td>venture</td>\n",
       "      <td>alliance</td>\n",
       "      <td>certainty</td>\n",
       "      <td>stuff</td>\n",
       "      <td>colleague</td>\n",
       "      <td>reconciliation</td>\n",
       "      <td>direction</td>\n",
       "      <td>settlement</td>\n",
       "      <td>resse</td>\n",
       "      <td>placement</td>\n",
       "      <td>regulator</td>\n",
       "      <td>statement</td>\n",
       "      <td>schedule</td>\n",
       "      <td>stake</td>\n",
       "      <td>inflow</td>\n",
       "      <td>thumb</td>\n",
       "      <td>transfer</td>\n",
       "      <td>view</td>\n",
       "      <td>wake</td>\n",
       "      <td>labor</td>\n",
       "      <td>ﬂeet</td>\n",
       "      <td>expectation</td>\n",
       "      <td>debt</td>\n",
       "      <td>bur</td>\n",
       "      <td>function</td>\n",
       "      <td>digital</td>\n",
       "      <td>manufacture</td>\n",
       "      <td>decennium</td>\n",
       "      <td>session</td>\n",
       "      <td>trend</td>\n",
       "      <td>target</td>\n",
       "      <td>announcement</td>\n",
       "      <td>match</td>\n",
       "      <td>policy</td>\n",
       "      <td>scenario</td>\n",
       "      <td>pner</td>\n",
       "      <td>drag</td>\n",
       "      <td>society</td>\n",
       "      <td>relation</td>\n",
       "      <td>renewable</td>\n",
       "      <td>opporty</td>\n",
       "      <td>preparation</td>\n",
       "      <td>transformation</td>\n",
       "      <td>margin</td>\n",
       "      <td>alpha</td>\n",
       "      <td>yesterday</td>\n",
       "      <td>solvency</td>\n",
       "      <td>release</td>\n",
       "      <td>support</td>\n",
       "      <td>path</td>\n",
       "      <td>synergy</td>\n",
       "      <td>track</td>\n",
       "      <td>omnichannel</td>\n",
       "      <td>motor</td>\n",
       "      <td>money</td>\n",
       "      <td>lion</td>\n",
       "      <td>tein</td>\n",
       "      <td>capacity</td>\n",
       "      <td>unstanding</td>\n",
       "      <td>return</td>\n",
       "      <td>agreement</td>\n",
       "      <td>momentum</td>\n",
       "      <td>report</td>\n",
       "      <td>segment</td>\n",
       "      <td>ing</td>\n",
       "      <td>inﬂation</td>\n",
       "      <td>program</td>\n",
       "      <td>equity</td>\n",
       "      <td>transaction</td>\n",
       "      <td>divid</td>\n",
       "      <td>position</td>\n",
       "      <td>share</td>\n",
       "      <td>performance</td>\n",
       "      <td>claim</td>\n",
       "      <td>half</td>\n",
       "      <td>growth</td>\n",
       "      <td>product</td>\n",
       "      <td>customer</td>\n",
       "      <td>company</td>\n",
       "      <td>asset</td>\n",
       "      <td>impact</td>\n",
       "      <td>premium</td>\n",
       "      <td>capital</td>\n",
       "      <td>loss</td>\n",
       "      <td>portfolio</td>\n",
       "      <td>increase</td>\n",
       "      <td>cost</td>\n",
       "      <td>income</td>\n",
       "    </tr>\n",
       "    <tr>\n",
       "      <th>prob</th>\n",
       "      <td>0.5</td>\n",
       "      <td>0.5</td>\n",
       "      <td>0.5</td>\n",
       "      <td>0.5</td>\n",
       "      <td>0.5</td>\n",
       "      <td>0.5</td>\n",
       "      <td>0.5</td>\n",
       "      <td>0.5</td>\n",
       "      <td>0.5</td>\n",
       "      <td>0.5</td>\n",
       "      <td>0.5</td>\n",
       "      <td>0.5</td>\n",
       "      <td>0.5</td>\n",
       "      <td>0.25</td>\n",
       "      <td>0.25</td>\n",
       "      <td>0.25</td>\n",
       "      <td>0.25</td>\n",
       "      <td>0.25</td>\n",
       "      <td>0.25</td>\n",
       "      <td>0.25</td>\n",
       "      <td>0.25</td>\n",
       "      <td>0.25</td>\n",
       "      <td>0.25</td>\n",
       "      <td>0.25</td>\n",
       "      <td>0.25</td>\n",
       "      <td>0.25</td>\n",
       "      <td>0.25</td>\n",
       "      <td>0.25</td>\n",
       "      <td>0.25</td>\n",
       "      <td>0.25</td>\n",
       "      <td>0.167</td>\n",
       "      <td>0.167</td>\n",
       "      <td>0.167</td>\n",
       "      <td>0.1665</td>\n",
       "      <td>0.1415</td>\n",
       "      <td>0.128</td>\n",
       "      <td>0.125</td>\n",
       "      <td>0.125</td>\n",
       "      <td>0.125</td>\n",
       "      <td>0.0875</td>\n",
       "      <td>0.083</td>\n",
       "      <td>0.083</td>\n",
       "      <td>0.083</td>\n",
       "      <td>0.083</td>\n",
       "      <td>0.083</td>\n",
       "      <td>0.083</td>\n",
       "      <td>0.083</td>\n",
       "      <td>0.083</td>\n",
       "      <td>0.083</td>\n",
       "      <td>0.083</td>\n",
       "      <td>0.083</td>\n",
       "      <td>0.056</td>\n",
       "      <td>0.05</td>\n",
       "      <td>0.05</td>\n",
       "      <td>0.05</td>\n",
       "      <td>0.05</td>\n",
       "      <td>0.05</td>\n",
       "      <td>0.05</td>\n",
       "      <td>0.05</td>\n",
       "      <td>0.05</td>\n",
       "      <td>0.05</td>\n",
       "      <td>0.033</td>\n",
       "      <td>0.033</td>\n",
       "      <td>0.033</td>\n",
       "      <td>0.033</td>\n",
       "      <td>0.028</td>\n",
       "      <td>0.028</td>\n",
       "      <td>0.025</td>\n",
       "      <td>0.025</td>\n",
       "      <td>0.025</td>\n",
       "      <td>0.025</td>\n",
       "      <td>0.025</td>\n",
       "      <td>0.025</td>\n",
       "      <td>0.025</td>\n",
       "      <td>0.019333</td>\n",
       "      <td>0.018</td>\n",
       "      <td>0.0068</td>\n",
       "      <td>0.006333</td>\n",
       "      <td>0.004609</td>\n",
       "      <td>0.004333</td>\n",
       "      <td>0.003635</td>\n",
       "      <td>0.002889</td>\n",
       "      <td>0.002883</td>\n",
       "      <td>0.002846</td>\n",
       "      <td>0.002824</td>\n",
       "      <td>0.002784</td>\n",
       "      <td>0.002347</td>\n",
       "      <td>0.001717</td>\n",
       "      <td>0.001667</td>\n",
       "      <td>0.001236</td>\n",
       "      <td>0.000958</td>\n",
       "      <td>0.0009</td>\n",
       "      <td>0.000571</td>\n",
       "    </tr>\n",
       "  </tbody>\n",
       "</table>\n",
       "</div>"
      ],
      "text/plain": [
       "        46         90         3          23         43       87        1   \\\n",
       "word  peer  wholesale  amendment  financing  operating  venture  alliance   \n",
       "prob   0.5        0.5        0.5        0.5        0.5      0.5       0.5   \n",
       "\n",
       "             9      75         11              57         18          69  \\\n",
       "word  certainty  stuff  colleague  reconciliation  direction  settlement   \n",
       "prob        0.5    0.5        0.5             0.5        0.5         0.5   \n",
       "\n",
       "         63         48         58         74        66     73      30     80  \\\n",
       "word  resse  placement  regulator  statement  schedule  stake  inflow  thumb   \n",
       "prob   0.25       0.25       0.25       0.25      0.25   0.25    0.25   0.25   \n",
       "\n",
       "            83    88    89     33    92           22    15    6         24  \\\n",
       "word  transfer  view  wake  labor  ﬂeet  expectation  debt   bur  function   \n",
       "prob      0.25  0.25  0.25   0.25  0.25         0.25  0.25  0.25      0.25   \n",
       "\n",
       "           17           36         16       68      85      78            4   \\\n",
       "word  digital  manufacture  decennium  session   trend  target  announcement   \n",
       "prob    0.167        0.167      0.167   0.1665  0.1415   0.128         0.125   \n",
       "\n",
       "         38      50        65     49     20       71        59         61  \\\n",
       "word  match  policy  scenario   pner   drag  society  relation  renewable   \n",
       "prob  0.125   0.125    0.0875  0.083  0.083    0.083     0.083      0.083   \n",
       "\n",
       "           44           54              84      37     2          91  \\\n",
       "word  opporty  preparation  transformation  margin  alpha  yesterday   \n",
       "prob    0.083        0.083           0.083   0.083  0.083      0.083   \n",
       "\n",
       "            72       60       76    45       77     81           42     41  \\\n",
       "word  solvency  release  support  path  synergy  track  omnichannel  motor   \n",
       "prob     0.056     0.05     0.05  0.05     0.05   0.05         0.05   0.05   \n",
       "\n",
       "         40    34     79        7           86      64         0         39  \\\n",
       "word  money  lion   tein  capacity  unstanding  return  agreement  momentum   \n",
       "prob   0.05  0.05  0.033     0.033       0.033   0.033      0.028     0.028   \n",
       "\n",
       "          62       67     31        32       56      21           82  \\\n",
       "word  report  segment    ing  inﬂation  program  equity  transaction   \n",
       "prob   0.025    0.025  0.025     0.025    0.025   0.025        0.025   \n",
       "\n",
       "            19        52      70           47        10        26        25  \\\n",
       "word     divid  position   share  performance     claim      half    growth   \n",
       "prob  0.019333     0.018  0.0068     0.006333  0.004609  0.004333  0.003635   \n",
       "\n",
       "            55        14        12        5         27        53        8   \\\n",
       "word   product  customer   company     asset    impact   premium   capital   \n",
       "prob  0.002889  0.002883  0.002846  0.002824  0.002784  0.002347  0.001717   \n",
       "\n",
       "            35         51        29      13        28  \n",
       "word      loss  portfolio  increase    cost    income  \n",
       "prob  0.001667   0.001236  0.000958  0.0009  0.000571  "
      ]
     },
     "execution_count": 150,
     "metadata": {},
     "output_type": "execute_result"
    }
   ],
   "source": [
    "MD_DTM_recent = pd.DataFrame()\n",
    "for i in tp_slelcted:\n",
    "    tmp_topic = wt[wt['k']==i-1]\n",
    "    MD_DTM_recent = MD_DTM_recent.append(tmp_topic)\n",
    "\n",
    "\n",
    "time_list = []\n",
    "for i in range(30,46):\n",
    "    time_list.append(i)\n",
    "\n",
    "MD_DTM_recent = MD_DTM_recent[MD_DTM_recent['timepoint'].isin(time_list)]\n",
    "\n",
    "print(MD_DTM_recent.k.unique())\n",
    "print(MD_DTM_recent.timepoint.unique())\n",
    "\n",
    "# groupby word and get the average of prob\n",
    "MD_DTM_recent = MD_DTM_recent.groupby(['word'])['prob'].mean().reset_index()\n",
    "# sort by prob\n",
    "MD_DTM_recent.sort_values(by='prob', ascending=False, inplace=True)\n",
    "MD_DTM_recent.T"
   ]
  },
  {
   "cell_type": "code",
   "execution_count": 152,
   "metadata": {},
   "outputs": [
    {
     "name": "stdout",
     "output_type": "stream",
     "text": [
      "[20 10 27 17]\n",
      "[40 41 42 43 44 45]\n"
     ]
    },
    {
     "data": {
      "text/html": [
       "<div>\n",
       "<style scoped>\n",
       "    .dataframe tbody tr th:only-of-type {\n",
       "        vertical-align: middle;\n",
       "    }\n",
       "\n",
       "    .dataframe tbody tr th {\n",
       "        vertical-align: top;\n",
       "    }\n",
       "\n",
       "    .dataframe thead th {\n",
       "        text-align: right;\n",
       "    }\n",
       "</style>\n",
       "<table border=\"1\" class=\"dataframe\">\n",
       "  <thead>\n",
       "    <tr style=\"text-align: right;\">\n",
       "      <th></th>\n",
       "      <th>34</th>\n",
       "      <th>65</th>\n",
       "      <th>1</th>\n",
       "      <th>23</th>\n",
       "      <th>67</th>\n",
       "      <th>66</th>\n",
       "      <th>4</th>\n",
       "      <th>49</th>\n",
       "      <th>59</th>\n",
       "      <th>12</th>\n",
       "      <th>11</th>\n",
       "      <th>26</th>\n",
       "      <th>63</th>\n",
       "      <th>57</th>\n",
       "      <th>53</th>\n",
       "      <th>51</th>\n",
       "      <th>62</th>\n",
       "      <th>45</th>\n",
       "      <th>43</th>\n",
       "      <th>40</th>\n",
       "      <th>36</th>\n",
       "      <th>32</th>\n",
       "      <th>27</th>\n",
       "      <th>68</th>\n",
       "      <th>2</th>\n",
       "      <th>14</th>\n",
       "      <th>54</th>\n",
       "      <th>24</th>\n",
       "      <th>33</th>\n",
       "      <th>48</th>\n",
       "      <th>55</th>\n",
       "      <th>56</th>\n",
       "      <th>60</th>\n",
       "      <th>44</th>\n",
       "      <th>31</th>\n",
       "      <th>30</th>\n",
       "      <th>29</th>\n",
       "      <th>58</th>\n",
       "      <th>64</th>\n",
       "      <th>5</th>\n",
       "      <th>47</th>\n",
       "      <th>0</th>\n",
       "      <th>28</th>\n",
       "      <th>42</th>\n",
       "      <th>50</th>\n",
       "      <th>22</th>\n",
       "      <th>21</th>\n",
       "      <th>61</th>\n",
       "      <th>46</th>\n",
       "      <th>15</th>\n",
       "      <th>13</th>\n",
       "      <th>38</th>\n",
       "      <th>52</th>\n",
       "      <th>7</th>\n",
       "      <th>41</th>\n",
       "      <th>16</th>\n",
       "      <th>10</th>\n",
       "      <th>18</th>\n",
       "      <th>3</th>\n",
       "      <th>35</th>\n",
       "      <th>39</th>\n",
       "      <th>8</th>\n",
       "      <th>25</th>\n",
       "      <th>9</th>\n",
       "      <th>17</th>\n",
       "      <th>6</th>\n",
       "      <th>20</th>\n",
       "      <th>19</th>\n",
       "      <th>37</th>\n",
       "    </tr>\n",
       "  </thead>\n",
       "  <tbody>\n",
       "    <tr>\n",
       "      <th>word</th>\n",
       "      <td>peer</td>\n",
       "      <td>venture</td>\n",
       "      <td>alliance</td>\n",
       "      <td>labor</td>\n",
       "      <td>wake</td>\n",
       "      <td>view</td>\n",
       "      <td>bur</td>\n",
       "      <td>schedule</td>\n",
       "      <td>thumb</td>\n",
       "      <td>digital</td>\n",
       "      <td>decennium</td>\n",
       "      <td>manufacture</td>\n",
       "      <td>trend</td>\n",
       "      <td>target</td>\n",
       "      <td>society</td>\n",
       "      <td>session</td>\n",
       "      <td>transformation</td>\n",
       "      <td>renewable</td>\n",
       "      <td>relation</td>\n",
       "      <td>preparation</td>\n",
       "      <td>pner</td>\n",
       "      <td>opporty</td>\n",
       "      <td>margin</td>\n",
       "      <td>yesterday</td>\n",
       "      <td>alpha</td>\n",
       "      <td>drag</td>\n",
       "      <td>solvency</td>\n",
       "      <td>lion</td>\n",
       "      <td>path</td>\n",
       "      <td>scenario</td>\n",
       "      <td>support</td>\n",
       "      <td>synergy</td>\n",
       "      <td>track</td>\n",
       "      <td>release</td>\n",
       "      <td>omnichannel</td>\n",
       "      <td>motor</td>\n",
       "      <td>money</td>\n",
       "      <td>tein</td>\n",
       "      <td>unstanding</td>\n",
       "      <td>capacity</td>\n",
       "      <td>return</td>\n",
       "      <td>agreement</td>\n",
       "      <td>momentum</td>\n",
       "      <td>program</td>\n",
       "      <td>segment</td>\n",
       "      <td>inﬂation</td>\n",
       "      <td>ing</td>\n",
       "      <td>transaction</td>\n",
       "      <td>report</td>\n",
       "      <td>equity</td>\n",
       "      <td>divid</td>\n",
       "      <td>position</td>\n",
       "      <td>share</td>\n",
       "      <td>claim</td>\n",
       "      <td>product</td>\n",
       "      <td>growth</td>\n",
       "      <td>customer</td>\n",
       "      <td>impact</td>\n",
       "      <td>asset</td>\n",
       "      <td>performance</td>\n",
       "      <td>premium</td>\n",
       "      <td>company</td>\n",
       "      <td>loss</td>\n",
       "      <td>cost</td>\n",
       "      <td>half</td>\n",
       "      <td>capital</td>\n",
       "      <td>increase</td>\n",
       "      <td>income</td>\n",
       "      <td>portfolio</td>\n",
       "    </tr>\n",
       "    <tr>\n",
       "      <th>prob</th>\n",
       "      <td>0.5</td>\n",
       "      <td>0.5</td>\n",
       "      <td>0.5</td>\n",
       "      <td>0.25</td>\n",
       "      <td>0.25</td>\n",
       "      <td>0.25</td>\n",
       "      <td>0.25</td>\n",
       "      <td>0.25</td>\n",
       "      <td>0.25</td>\n",
       "      <td>0.167</td>\n",
       "      <td>0.167</td>\n",
       "      <td>0.167</td>\n",
       "      <td>0.1415</td>\n",
       "      <td>0.128</td>\n",
       "      <td>0.083</td>\n",
       "      <td>0.083</td>\n",
       "      <td>0.083</td>\n",
       "      <td>0.083</td>\n",
       "      <td>0.083</td>\n",
       "      <td>0.083</td>\n",
       "      <td>0.083</td>\n",
       "      <td>0.083</td>\n",
       "      <td>0.083</td>\n",
       "      <td>0.083</td>\n",
       "      <td>0.083</td>\n",
       "      <td>0.083</td>\n",
       "      <td>0.056</td>\n",
       "      <td>0.05</td>\n",
       "      <td>0.05</td>\n",
       "      <td>0.05</td>\n",
       "      <td>0.05</td>\n",
       "      <td>0.05</td>\n",
       "      <td>0.05</td>\n",
       "      <td>0.05</td>\n",
       "      <td>0.05</td>\n",
       "      <td>0.05</td>\n",
       "      <td>0.05</td>\n",
       "      <td>0.033</td>\n",
       "      <td>0.033</td>\n",
       "      <td>0.033</td>\n",
       "      <td>0.033</td>\n",
       "      <td>0.028</td>\n",
       "      <td>0.028</td>\n",
       "      <td>0.025</td>\n",
       "      <td>0.025</td>\n",
       "      <td>0.025</td>\n",
       "      <td>0.025</td>\n",
       "      <td>0.025</td>\n",
       "      <td>0.025</td>\n",
       "      <td>0.025</td>\n",
       "      <td>0.019333</td>\n",
       "      <td>0.018</td>\n",
       "      <td>0.017</td>\n",
       "      <td>0.009636</td>\n",
       "      <td>0.009286</td>\n",
       "      <td>0.009174</td>\n",
       "      <td>0.007762</td>\n",
       "      <td>0.007357</td>\n",
       "      <td>0.006833</td>\n",
       "      <td>0.006333</td>\n",
       "      <td>0.006294</td>\n",
       "      <td>0.005</td>\n",
       "      <td>0.004647</td>\n",
       "      <td>0.0045</td>\n",
       "      <td>0.004333</td>\n",
       "      <td>0.0042</td>\n",
       "      <td>0.003538</td>\n",
       "      <td>0.0035</td>\n",
       "      <td>0.003471</td>\n",
       "    </tr>\n",
       "  </tbody>\n",
       "</table>\n",
       "</div>"
      ],
      "text/plain": [
       "        34       65        1      23    67    66    4         49     59  \\\n",
       "word  peer  venture  alliance  labor  wake  view   bur  schedule  thumb   \n",
       "prob   0.5      0.5       0.5   0.25  0.25  0.25  0.25      0.25   0.25   \n",
       "\n",
       "           12         11           26      63      57       53       51  \\\n",
       "word  digital  decennium  manufacture   trend  target  society  session   \n",
       "prob    0.167      0.167        0.167  0.1415   0.128    0.083    0.083   \n",
       "\n",
       "                  62         45        43           40     36       32  \\\n",
       "word  transformation  renewable  relation  preparation   pner  opporty   \n",
       "prob           0.083      0.083     0.083        0.083  0.083    0.083   \n",
       "\n",
       "          27         68     2      14        54    24    33        48  \\\n",
       "word  margin  yesterday  alpha   drag  solvency  lion  path  scenario   \n",
       "prob   0.083      0.083  0.083  0.083     0.056  0.05  0.05      0.05   \n",
       "\n",
       "           55       56     60       44           31     30     29     58  \\\n",
       "word  support  synergy  track  release  omnichannel  motor  money   tein   \n",
       "prob     0.05     0.05   0.05     0.05         0.05   0.05   0.05  0.033   \n",
       "\n",
       "              64        5       47         0         28       42       50  \\\n",
       "word  unstanding  capacity  return  agreement  momentum  program  segment   \n",
       "prob       0.033     0.033   0.033      0.028     0.028    0.025    0.025   \n",
       "\n",
       "            22     21           61      46      15        13        38     52  \\\n",
       "word  inﬂation    ing  transaction  report  equity     divid  position  share   \n",
       "prob     0.025  0.025        0.025   0.025   0.025  0.019333     0.018  0.017   \n",
       "\n",
       "            7         41        16        10        18        3            35  \\\n",
       "word     claim   product    growth  customer    impact     asset  performance   \n",
       "prob  0.009636  0.009286  0.009174  0.007762  0.007357  0.006833     0.006333   \n",
       "\n",
       "            39       8         25      9         17       6         20  \\\n",
       "word   premium  company      loss    cost      half  capital  increase   \n",
       "prob  0.006294    0.005  0.004647  0.0045  0.004333   0.0042  0.003538   \n",
       "\n",
       "          19         37  \n",
       "word  income  portfolio  \n",
       "prob  0.0035   0.003471  "
      ]
     },
     "execution_count": 152,
     "metadata": {},
     "output_type": "execute_result"
    }
   ],
   "source": [
    "MD_DTM_recent = pd.DataFrame()\n",
    "for i in tp_slelcted:\n",
    "    tmp_topic = wt[wt['k']==i-1]\n",
    "    MD_DTM_recent = MD_DTM_recent.append(tmp_topic)\n",
    "\n",
    "\n",
    "time_list = []\n",
    "for i in range(40,46):\n",
    "    time_list.append(i)\n",
    "\n",
    "MD_DTM_recent = MD_DTM_recent[MD_DTM_recent['timepoint'].isin(time_list)]\n",
    "\n",
    "print(MD_DTM_recent.k.unique())\n",
    "print(MD_DTM_recent.timepoint.unique())\n",
    "\n",
    "# groupby word and get the average of prob\n",
    "MD_DTM_recent = MD_DTM_recent.groupby(['word'])['prob'].mean().reset_index()\n",
    "# sort by prob\n",
    "MD_DTM_recent.sort_values(by='prob', ascending=False, inplace=True)\n",
    "MD_DTM_recent.T"
   ]
  },
  {
   "cell_type": "code",
   "execution_count": null,
   "metadata": {},
   "outputs": [],
   "source": []
  },
  {
   "cell_type": "code",
   "execution_count": null,
   "metadata": {},
   "outputs": [],
   "source": []
  },
  {
   "cell_type": "code",
   "execution_count": null,
   "metadata": {},
   "outputs": [],
   "source": []
  },
  {
   "cell_type": "code",
   "execution_count": null,
   "metadata": {},
   "outputs": [],
   "source": []
  },
  {
   "cell_type": "code",
   "execution_count": null,
   "metadata": {},
   "outputs": [],
   "source": []
  },
  {
   "cell_type": "code",
   "execution_count": null,
   "metadata": {},
   "outputs": [],
   "source": []
  },
  {
   "cell_type": "code",
   "execution_count": null,
   "metadata": {},
   "outputs": [],
   "source": []
  },
  {
   "cell_type": "code",
   "execution_count": null,
   "metadata": {},
   "outputs": [],
   "source": []
  },
  {
   "cell_type": "code",
   "execution_count": null,
   "metadata": {},
   "outputs": [],
   "source": []
  },
  {
   "cell_type": "code",
   "execution_count": null,
   "metadata": {},
   "outputs": [],
   "source": []
  },
  {
   "cell_type": "code",
   "execution_count": null,
   "metadata": {},
   "outputs": [],
   "source": []
  },
  {
   "cell_type": "code",
   "execution_count": null,
   "metadata": {},
   "outputs": [],
   "source": []
  },
  {
   "cell_type": "code",
   "execution_count": null,
   "metadata": {},
   "outputs": [],
   "source": []
  },
  {
   "cell_type": "code",
   "execution_count": null,
   "metadata": {},
   "outputs": [],
   "source": []
  },
  {
   "cell_type": "code",
   "execution_count": null,
   "metadata": {},
   "outputs": [],
   "source": []
  },
  {
   "cell_type": "markdown",
   "metadata": {},
   "source": [
    "# early time of the common topics"
   ]
  },
  {
   "cell_type": "code",
   "execution_count": 285,
   "metadata": {},
   "outputs": [
    {
     "data": {
      "application/vnd.plotly.v1+json": {
       "config": {
        "plotlyServerURL": "https://plot.ly"
       },
       "data": [
        {
         "hovertemplate": "variable=topic_1<br>timepoint=%{x}<br>value=%{y}<extra></extra>",
         "legendgroup": "topic_1",
         "line": {
          "color": "#636efa",
          "dash": "solid"
         },
         "marker": {
          "symbol": "circle"
         },
         "mode": "lines",
         "name": "topic_1",
         "orientation": "v",
         "showlegend": true,
         "type": "scatter",
         "x": [
          0,
          1,
          2,
          3,
          4,
          5,
          6,
          7,
          8,
          9,
          10,
          11,
          12,
          13,
          14,
          15,
          16,
          17,
          18,
          19,
          20,
          21,
          22,
          23,
          24,
          25,
          26,
          27,
          28,
          29,
          30,
          31,
          32,
          33,
          34,
          35,
          36,
          37,
          38,
          39,
          40,
          41,
          42,
          43,
          44,
          45
         ],
         "xaxis": "x",
         "y": [
          0.040404193103313446,
          0.04377788305282593,
          0.038994722068309784,
          0.05098865181207657,
          0.07433722913265228,
          0.04094107449054718,
          0.05046697333455086,
          0.04216542840003967,
          0.05370480567216873,
          0.04372110217809677,
          0.026805855333805084,
          0.036575883626937866,
          0.044287096709012985,
          0.006056409329175949,
          0.000056835211580619216,
          0.01976400427520275,
          0.00016694310761522502,
          0.02921518310904503,
          0.00046994120930321515,
          0.01104127336293459,
          0.0001341979659628123,
          0.0007096583722159266,
          0.0003839456767309457,
          0.02705232985317707,
          0.00014475024363491684,
          0.0002191435341956094,
          0.0004665183660108596,
          0.00004353642725618556,
          0.00007442005153279752,
          0.0007309371139854193,
          0.00014698073209729046,
          0.00011683916090987623,
          0.00011431437451392412,
          0.00034000250161625445,
          0.0001463021180825308,
          0.00012341905676294118,
          0.0005635033012367785,
          0.00009370732732350007,
          0.0008338247425854206,
          0.00045778797357343137,
          0.0001198892350657843,
          0.0004414842987898737,
          0.0004187518497928977,
          0.0004577188810799271,
          0.036458972841501236,
          0.04256286099553108
         ],
         "yaxis": "y"
        },
        {
         "hovertemplate": "variable=topic_10<br>timepoint=%{x}<br>value=%{y}<extra></extra>",
         "legendgroup": "topic_10",
         "line": {
          "color": "#EF553B",
          "dash": "solid"
         },
         "marker": {
          "symbol": "circle"
         },
         "mode": "lines",
         "name": "topic_10",
         "orientation": "v",
         "showlegend": true,
         "type": "scatter",
         "x": [
          0,
          1,
          2,
          3,
          4,
          5,
          6,
          7,
          8,
          9,
          10,
          11,
          12,
          13,
          14,
          15,
          16,
          17,
          18,
          19,
          20,
          21,
          22,
          23,
          24,
          25,
          26,
          27,
          28,
          29,
          30,
          31,
          32,
          33,
          34,
          35,
          36,
          37,
          38,
          39,
          40,
          41,
          42,
          43,
          44,
          45
         ],
         "xaxis": "x",
         "y": [
          0.04926278442144394,
          0.04406382516026497,
          0.040814779698848724,
          0.05831197649240494,
          0.037960272282361984,
          0.03694925457239151,
          0.04371554031968117,
          0.0517878457903862,
          0.04349666088819504,
          0.03781512752175331,
          0.03257237747311592,
          0.06284411251544952,
          0.04435727000236511,
          0.0065339189022779465,
          0.0003151770797558129,
          0.018878336995840073,
          0.00038235358078964055,
          0.023469818755984306,
          0.00029588889447040856,
          0.004939736798405647,
          0.00009090830280911177,
          0.0009907112689688802,
          0.000059484544181032106,
          0.027191024273633957,
          0.00023813749430701137,
          0.00037949244142509997,
          0.00021018958068452775,
          0.00004353642725618556,
          0.00007442005153279752,
          0.0009541239705868065,
          0.00005215445708017796,
          0.00019221926049795002,
          0.00007743876631138846,
          0.00034000250161625445,
          0.00003925179044017568,
          0.00018219005141872913,
          0.00025890691904351115,
          0.000004462253855308518,
          0.0003731480974238366,
          0.00015594973228871822,
          0.0001198892350657843,
          0.0007685096934437752,
          0.0006772406050004065,
          0.0000553286554350052,
          0.036305204033851624,
          0.039533473551273346
         ],
         "yaxis": "y"
        },
        {
         "hovertemplate": "variable=topic_11<br>timepoint=%{x}<br>value=%{y}<extra></extra>",
         "legendgroup": "topic_11",
         "line": {
          "color": "#00cc96",
          "dash": "solid"
         },
         "marker": {
          "symbol": "circle"
         },
         "mode": "lines",
         "name": "topic_11",
         "orientation": "v",
         "showlegend": true,
         "type": "scatter",
         "x": [
          0,
          1,
          2,
          3,
          4,
          5,
          6,
          7,
          8,
          9,
          10,
          11,
          12,
          13,
          14,
          15,
          16,
          17,
          18,
          19,
          20,
          21,
          22,
          23,
          24,
          25,
          26,
          27,
          28,
          29,
          30,
          31,
          32,
          33,
          34,
          35,
          36,
          37,
          38,
          39,
          40,
          41,
          42,
          43,
          44,
          45
         ],
         "xaxis": "x",
         "y": [
          0.050463948398828506,
          0.04463570937514305,
          0.050218407064676285,
          0.04213963449001312,
          0.058765798807144165,
          0.04443391412496567,
          0.05046697333455086,
          0.04890111833810806,
          0.041670817881822586,
          0.0511457584798336,
          0.041815776377916336,
          0.03016643598675728,
          0.02358563430607319,
          0.01568618044257164,
          0.00026350870030000806,
          0.018878336995840073,
          0.0005439114756882191,
          0.027012793347239494,
          0.00023787145619280636,
          0.00627705967053771,
          0.0001341979659628123,
          0.0007096583722159266,
          0.0001135613929363899,
          0.04896603152155876,
          0.00005136298932484351,
          0.0005398414214141667,
          0.0005177841521799564,
          0.00012269355647731572,
          0.00007442005153279752,
          0.0007867338135838509,
          0.00005215445708017796,
          0.0003429795033298433,
          0.00007743876631138846,
          0.0005315532325766981,
          0.00007493523298762739,
          0.0002997320261783898,
          0.0005635033012367785,
          0.00009370732732350007,
          0.00032708042999729514,
          0.00025656245998106897,
          0.0002359110803809017,
          0.0007140054367482662,
          0.000522147340234369,
          0.0003571213164832443,
          0.047684215009212494,
          0.053165704011917114
         ],
         "yaxis": "y"
        },
        {
         "hovertemplate": "variable=topic_12<br>timepoint=%{x}<br>value=%{y}<extra></extra>",
         "legendgroup": "topic_12",
         "line": {
          "color": "#ab63fa",
          "dash": "solid"
         },
         "marker": {
          "symbol": "circle"
         },
         "mode": "lines",
         "name": "topic_12",
         "orientation": "v",
         "showlegend": true,
         "type": "scatter",
         "x": [
          0,
          1,
          2,
          3,
          4,
          5,
          6,
          7,
          8,
          9,
          10,
          11,
          12,
          13,
          14,
          15,
          16,
          17,
          18,
          19,
          20,
          21,
          22,
          23,
          24,
          25,
          26,
          27,
          28,
          29,
          30,
          31,
          32,
          33,
          34,
          35,
          36,
          37,
          38,
          39,
          40,
          41,
          42,
          43,
          44,
          45
         ],
         "xaxis": "x",
         "y": [
          0.04445812478661537,
          0.05092645809054375,
          0.04126979410648346,
          0.05037837475538254,
          0.04136243462562561,
          0.046679310500621796,
          0.03602640703320503,
          0.04505215212702751,
          0.04756332188844681,
          0.038321353495121,
          0.03189396485686302,
          0.03888748958706856,
          0.02807679958641529,
          0.007091013249009848,
          0.00016017195594031364,
          0.022216619923710823,
          0.0002207957295468077,
          0.03649264574050903,
          0.00023787145619280636,
          0.003936744295060635,
          0.0001341979659628123,
          0.0009204479865729809,
          0.0002217151049990207,
          0.03093576990067959,
          0.00023813749430701137,
          0.00037949244142509997,
          0.0009279101504944265,
          0.0002018506929744035,
          0.00003898193608620204,
          0.00045195347047410905,
          0.00014698073209729046,
          0.00011683916090987623,
          0.0000036875605928798905,
          0.0003878902061842382,
          0.0001463021180825308,
          0.00047604498104192317,
          0.0008680996834300458,
          0.000004462253855308518,
          0.0000967420928645879,
          0.00015594973228871822,
          0.000042541345464996994,
          0.00022346734476741403,
          0.0007289383793249726,
          0.0003571213164832443,
          0.06444519758224487,
          0.050136320292949677
         ],
         "yaxis": "y"
        },
        {
         "hovertemplate": "variable=topic_19<br>timepoint=%{x}<br>value=%{y}<extra></extra>",
         "legendgroup": "topic_19",
         "line": {
          "color": "#FFA15A",
          "dash": "solid"
         },
         "marker": {
          "symbol": "circle"
         },
         "mode": "lines",
         "name": "topic_19",
         "orientation": "v",
         "showlegend": true,
         "type": "scatter",
         "x": [
          0,
          1,
          2,
          3,
          4,
          5,
          6,
          7,
          8,
          9,
          10,
          11,
          12,
          13,
          14,
          15,
          16,
          17,
          18,
          19,
          20,
          21,
          22,
          23,
          24,
          25,
          26,
          27,
          28,
          29,
          30,
          31,
          32,
          33,
          34,
          35,
          36,
          37,
          38,
          39,
          40,
          41,
          42,
          43,
          44,
          45
         ],
         "xaxis": "x",
         "y": [
          0.042356085032224655,
          0.049782685935497284,
          0.04126979410648346,
          0.03725741431117058,
          0.03599748760461807,
          0.049174193292856216,
          0.05571809038519859,
          0.04562949761748314,
          0.04333067312836647,
          0.06211400032043457,
          0.047243088483810425,
          0.03920270502567291,
          0.05818163603544235,
          0.012184446677565575,
          0.00047018221812322736,
          0.03291275352239609,
          0.00011309049295959994,
          0.021746208891272545,
          0.00012183660146547481,
          0.008032295852899551,
          0.0001341979659628123,
          0.0014825536636635661,
          0.0003298688097856939,
          0.019632183015346527,
          0.00009805661102291197,
          0.0005398414214141667,
          0.0030810716561973095,
          0.00016227213200181723,
          0.00003898193608620204,
          0.0010657174279913306,
          0.0001943938696058467,
          0.00015452921797987074,
          0.00007743876631138846,
          0.0010583177208900452,
          0.00018198556790594012,
          0.00012341905676294118,
          0.0004112051101401448,
          0.00018295241170562804,
          0.0001888774277176708,
          0.0002062560961348936,
          0.00008121528662741184,
          0.0007140054367482662,
          0.0006772406050004065,
          0.0003068225341849029,
          0.042456019669771194,
          0.0440775528550148
         ],
         "yaxis": "y"
        },
        {
         "hovertemplate": "variable=topic_21<br>timepoint=%{x}<br>value=%{y}<extra></extra>",
         "legendgroup": "topic_21",
         "line": {
          "color": "#19d3f3",
          "dash": "solid"
         },
         "marker": {
          "symbol": "circle"
         },
         "mode": "lines",
         "name": "topic_21",
         "orientation": "v",
         "showlegend": true,
         "type": "scatter",
         "x": [
          0,
          1,
          2,
          3,
          4,
          5,
          6,
          7,
          8,
          9,
          10,
          11,
          12,
          13,
          14,
          15,
          16,
          17,
          18,
          19,
          20,
          21,
          22,
          23,
          24,
          25,
          26,
          27,
          28,
          29,
          30,
          31,
          32,
          33,
          34,
          35,
          36,
          37,
          38,
          39,
          40,
          41,
          42,
          43,
          44,
          45
         ],
         "xaxis": "x",
         "y": [
          0.04896249249577522,
          0.04806702584028244,
          0.04976339265704155,
          0.0476321280002594,
          0.0611211434006691,
          0.05067112669348717,
          0.04184013977646828,
          0.03677687421441078,
          0.053953785449266434,
          0.04321487620472908,
          0.04580146074295044,
          0.04235489293932915,
          0.03362058103084564,
          0.007568522356450558,
          0.00047018221812322736,
          0.050830479711294174,
          0.00027464833692647517,
          0.022129232063889503,
          0.00035390633274801075,
          0.005023319274187088,
          0.00009090830280911177,
          0.0004988687578588724,
          0.0001676382526056841,
          0.02108847349882126,
          0.00009805661102291197,
          0.0004329421208240092,
          0.0008766443934291601,
          0.0002018506929744035,
          0.00003898193608620204,
          0.0007867338135838509,
          0.0002892201591748744,
          0.00011683916090987623,
          0.00011431437451392412,
          0.0004357778816483915,
          0.00007493523298762739,
          0.0002997320261783898,
          0.0005127372569404542,
          0.00013832986587658525,
          0.00014280976029112935,
          0.00010564336844254285,
          0.000042541345464996994,
          0.0004959885263815522,
          0.00047044959501363337,
          0.00015592620184179395,
          0.038304220885038376,
          0.06073916703462601
         ],
         "yaxis": "y"
        }
       ],
       "layout": {
        "legend": {
         "title": {
          "text": "variable"
         },
         "tracegroupgap": 0
        },
        "template": {
         "data": {
          "bar": [
           {
            "error_x": {
             "color": "#2a3f5f"
            },
            "error_y": {
             "color": "#2a3f5f"
            },
            "marker": {
             "line": {
              "color": "#E5ECF6",
              "width": 0.5
             },
             "pattern": {
              "fillmode": "overlay",
              "size": 10,
              "solidity": 0.2
             }
            },
            "type": "bar"
           }
          ],
          "barpolar": [
           {
            "marker": {
             "line": {
              "color": "#E5ECF6",
              "width": 0.5
             },
             "pattern": {
              "fillmode": "overlay",
              "size": 10,
              "solidity": 0.2
             }
            },
            "type": "barpolar"
           }
          ],
          "carpet": [
           {
            "aaxis": {
             "endlinecolor": "#2a3f5f",
             "gridcolor": "white",
             "linecolor": "white",
             "minorgridcolor": "white",
             "startlinecolor": "#2a3f5f"
            },
            "baxis": {
             "endlinecolor": "#2a3f5f",
             "gridcolor": "white",
             "linecolor": "white",
             "minorgridcolor": "white",
             "startlinecolor": "#2a3f5f"
            },
            "type": "carpet"
           }
          ],
          "choropleth": [
           {
            "colorbar": {
             "outlinewidth": 0,
             "ticks": ""
            },
            "type": "choropleth"
           }
          ],
          "contour": [
           {
            "colorbar": {
             "outlinewidth": 0,
             "ticks": ""
            },
            "colorscale": [
             [
              0,
              "#0d0887"
             ],
             [
              0.1111111111111111,
              "#46039f"
             ],
             [
              0.2222222222222222,
              "#7201a8"
             ],
             [
              0.3333333333333333,
              "#9c179e"
             ],
             [
              0.4444444444444444,
              "#bd3786"
             ],
             [
              0.5555555555555556,
              "#d8576b"
             ],
             [
              0.6666666666666666,
              "#ed7953"
             ],
             [
              0.7777777777777778,
              "#fb9f3a"
             ],
             [
              0.8888888888888888,
              "#fdca26"
             ],
             [
              1,
              "#f0f921"
             ]
            ],
            "type": "contour"
           }
          ],
          "contourcarpet": [
           {
            "colorbar": {
             "outlinewidth": 0,
             "ticks": ""
            },
            "type": "contourcarpet"
           }
          ],
          "heatmap": [
           {
            "colorbar": {
             "outlinewidth": 0,
             "ticks": ""
            },
            "colorscale": [
             [
              0,
              "#0d0887"
             ],
             [
              0.1111111111111111,
              "#46039f"
             ],
             [
              0.2222222222222222,
              "#7201a8"
             ],
             [
              0.3333333333333333,
              "#9c179e"
             ],
             [
              0.4444444444444444,
              "#bd3786"
             ],
             [
              0.5555555555555556,
              "#d8576b"
             ],
             [
              0.6666666666666666,
              "#ed7953"
             ],
             [
              0.7777777777777778,
              "#fb9f3a"
             ],
             [
              0.8888888888888888,
              "#fdca26"
             ],
             [
              1,
              "#f0f921"
             ]
            ],
            "type": "heatmap"
           }
          ],
          "heatmapgl": [
           {
            "colorbar": {
             "outlinewidth": 0,
             "ticks": ""
            },
            "colorscale": [
             [
              0,
              "#0d0887"
             ],
             [
              0.1111111111111111,
              "#46039f"
             ],
             [
              0.2222222222222222,
              "#7201a8"
             ],
             [
              0.3333333333333333,
              "#9c179e"
             ],
             [
              0.4444444444444444,
              "#bd3786"
             ],
             [
              0.5555555555555556,
              "#d8576b"
             ],
             [
              0.6666666666666666,
              "#ed7953"
             ],
             [
              0.7777777777777778,
              "#fb9f3a"
             ],
             [
              0.8888888888888888,
              "#fdca26"
             ],
             [
              1,
              "#f0f921"
             ]
            ],
            "type": "heatmapgl"
           }
          ],
          "histogram": [
           {
            "marker": {
             "pattern": {
              "fillmode": "overlay",
              "size": 10,
              "solidity": 0.2
             }
            },
            "type": "histogram"
           }
          ],
          "histogram2d": [
           {
            "colorbar": {
             "outlinewidth": 0,
             "ticks": ""
            },
            "colorscale": [
             [
              0,
              "#0d0887"
             ],
             [
              0.1111111111111111,
              "#46039f"
             ],
             [
              0.2222222222222222,
              "#7201a8"
             ],
             [
              0.3333333333333333,
              "#9c179e"
             ],
             [
              0.4444444444444444,
              "#bd3786"
             ],
             [
              0.5555555555555556,
              "#d8576b"
             ],
             [
              0.6666666666666666,
              "#ed7953"
             ],
             [
              0.7777777777777778,
              "#fb9f3a"
             ],
             [
              0.8888888888888888,
              "#fdca26"
             ],
             [
              1,
              "#f0f921"
             ]
            ],
            "type": "histogram2d"
           }
          ],
          "histogram2dcontour": [
           {
            "colorbar": {
             "outlinewidth": 0,
             "ticks": ""
            },
            "colorscale": [
             [
              0,
              "#0d0887"
             ],
             [
              0.1111111111111111,
              "#46039f"
             ],
             [
              0.2222222222222222,
              "#7201a8"
             ],
             [
              0.3333333333333333,
              "#9c179e"
             ],
             [
              0.4444444444444444,
              "#bd3786"
             ],
             [
              0.5555555555555556,
              "#d8576b"
             ],
             [
              0.6666666666666666,
              "#ed7953"
             ],
             [
              0.7777777777777778,
              "#fb9f3a"
             ],
             [
              0.8888888888888888,
              "#fdca26"
             ],
             [
              1,
              "#f0f921"
             ]
            ],
            "type": "histogram2dcontour"
           }
          ],
          "mesh3d": [
           {
            "colorbar": {
             "outlinewidth": 0,
             "ticks": ""
            },
            "type": "mesh3d"
           }
          ],
          "parcoords": [
           {
            "line": {
             "colorbar": {
              "outlinewidth": 0,
              "ticks": ""
             }
            },
            "type": "parcoords"
           }
          ],
          "pie": [
           {
            "automargin": true,
            "type": "pie"
           }
          ],
          "scatter": [
           {
            "fillpattern": {
             "fillmode": "overlay",
             "size": 10,
             "solidity": 0.2
            },
            "type": "scatter"
           }
          ],
          "scatter3d": [
           {
            "line": {
             "colorbar": {
              "outlinewidth": 0,
              "ticks": ""
             }
            },
            "marker": {
             "colorbar": {
              "outlinewidth": 0,
              "ticks": ""
             }
            },
            "type": "scatter3d"
           }
          ],
          "scattercarpet": [
           {
            "marker": {
             "colorbar": {
              "outlinewidth": 0,
              "ticks": ""
             }
            },
            "type": "scattercarpet"
           }
          ],
          "scattergeo": [
           {
            "marker": {
             "colorbar": {
              "outlinewidth": 0,
              "ticks": ""
             }
            },
            "type": "scattergeo"
           }
          ],
          "scattergl": [
           {
            "marker": {
             "colorbar": {
              "outlinewidth": 0,
              "ticks": ""
             }
            },
            "type": "scattergl"
           }
          ],
          "scattermapbox": [
           {
            "marker": {
             "colorbar": {
              "outlinewidth": 0,
              "ticks": ""
             }
            },
            "type": "scattermapbox"
           }
          ],
          "scatterpolar": [
           {
            "marker": {
             "colorbar": {
              "outlinewidth": 0,
              "ticks": ""
             }
            },
            "type": "scatterpolar"
           }
          ],
          "scatterpolargl": [
           {
            "marker": {
             "colorbar": {
              "outlinewidth": 0,
              "ticks": ""
             }
            },
            "type": "scatterpolargl"
           }
          ],
          "scatterternary": [
           {
            "marker": {
             "colorbar": {
              "outlinewidth": 0,
              "ticks": ""
             }
            },
            "type": "scatterternary"
           }
          ],
          "surface": [
           {
            "colorbar": {
             "outlinewidth": 0,
             "ticks": ""
            },
            "colorscale": [
             [
              0,
              "#0d0887"
             ],
             [
              0.1111111111111111,
              "#46039f"
             ],
             [
              0.2222222222222222,
              "#7201a8"
             ],
             [
              0.3333333333333333,
              "#9c179e"
             ],
             [
              0.4444444444444444,
              "#bd3786"
             ],
             [
              0.5555555555555556,
              "#d8576b"
             ],
             [
              0.6666666666666666,
              "#ed7953"
             ],
             [
              0.7777777777777778,
              "#fb9f3a"
             ],
             [
              0.8888888888888888,
              "#fdca26"
             ],
             [
              1,
              "#f0f921"
             ]
            ],
            "type": "surface"
           }
          ],
          "table": [
           {
            "cells": {
             "fill": {
              "color": "#EBF0F8"
             },
             "line": {
              "color": "white"
             }
            },
            "header": {
             "fill": {
              "color": "#C8D4E3"
             },
             "line": {
              "color": "white"
             }
            },
            "type": "table"
           }
          ]
         },
         "layout": {
          "annotationdefaults": {
           "arrowcolor": "#2a3f5f",
           "arrowhead": 0,
           "arrowwidth": 1
          },
          "autotypenumbers": "strict",
          "coloraxis": {
           "colorbar": {
            "outlinewidth": 0,
            "ticks": ""
           }
          },
          "colorscale": {
           "diverging": [
            [
             0,
             "#8e0152"
            ],
            [
             0.1,
             "#c51b7d"
            ],
            [
             0.2,
             "#de77ae"
            ],
            [
             0.3,
             "#f1b6da"
            ],
            [
             0.4,
             "#fde0ef"
            ],
            [
             0.5,
             "#f7f7f7"
            ],
            [
             0.6,
             "#e6f5d0"
            ],
            [
             0.7,
             "#b8e186"
            ],
            [
             0.8,
             "#7fbc41"
            ],
            [
             0.9,
             "#4d9221"
            ],
            [
             1,
             "#276419"
            ]
           ],
           "sequential": [
            [
             0,
             "#0d0887"
            ],
            [
             0.1111111111111111,
             "#46039f"
            ],
            [
             0.2222222222222222,
             "#7201a8"
            ],
            [
             0.3333333333333333,
             "#9c179e"
            ],
            [
             0.4444444444444444,
             "#bd3786"
            ],
            [
             0.5555555555555556,
             "#d8576b"
            ],
            [
             0.6666666666666666,
             "#ed7953"
            ],
            [
             0.7777777777777778,
             "#fb9f3a"
            ],
            [
             0.8888888888888888,
             "#fdca26"
            ],
            [
             1,
             "#f0f921"
            ]
           ],
           "sequentialminus": [
            [
             0,
             "#0d0887"
            ],
            [
             0.1111111111111111,
             "#46039f"
            ],
            [
             0.2222222222222222,
             "#7201a8"
            ],
            [
             0.3333333333333333,
             "#9c179e"
            ],
            [
             0.4444444444444444,
             "#bd3786"
            ],
            [
             0.5555555555555556,
             "#d8576b"
            ],
            [
             0.6666666666666666,
             "#ed7953"
            ],
            [
             0.7777777777777778,
             "#fb9f3a"
            ],
            [
             0.8888888888888888,
             "#fdca26"
            ],
            [
             1,
             "#f0f921"
            ]
           ]
          },
          "colorway": [
           "#636efa",
           "#EF553B",
           "#00cc96",
           "#ab63fa",
           "#FFA15A",
           "#19d3f3",
           "#FF6692",
           "#B6E880",
           "#FF97FF",
           "#FECB52"
          ],
          "font": {
           "color": "#2a3f5f"
          },
          "geo": {
           "bgcolor": "white",
           "lakecolor": "white",
           "landcolor": "#E5ECF6",
           "showlakes": true,
           "showland": true,
           "subunitcolor": "white"
          },
          "hoverlabel": {
           "align": "left"
          },
          "hovermode": "closest",
          "mapbox": {
           "style": "light"
          },
          "paper_bgcolor": "white",
          "plot_bgcolor": "#E5ECF6",
          "polar": {
           "angularaxis": {
            "gridcolor": "white",
            "linecolor": "white",
            "ticks": ""
           },
           "bgcolor": "#E5ECF6",
           "radialaxis": {
            "gridcolor": "white",
            "linecolor": "white",
            "ticks": ""
           }
          },
          "scene": {
           "xaxis": {
            "backgroundcolor": "#E5ECF6",
            "gridcolor": "white",
            "gridwidth": 2,
            "linecolor": "white",
            "showbackground": true,
            "ticks": "",
            "zerolinecolor": "white"
           },
           "yaxis": {
            "backgroundcolor": "#E5ECF6",
            "gridcolor": "white",
            "gridwidth": 2,
            "linecolor": "white",
            "showbackground": true,
            "ticks": "",
            "zerolinecolor": "white"
           },
           "zaxis": {
            "backgroundcolor": "#E5ECF6",
            "gridcolor": "white",
            "gridwidth": 2,
            "linecolor": "white",
            "showbackground": true,
            "ticks": "",
            "zerolinecolor": "white"
           }
          },
          "shapedefaults": {
           "line": {
            "color": "#2a3f5f"
           }
          },
          "ternary": {
           "aaxis": {
            "gridcolor": "white",
            "linecolor": "white",
            "ticks": ""
           },
           "baxis": {
            "gridcolor": "white",
            "linecolor": "white",
            "ticks": ""
           },
           "bgcolor": "#E5ECF6",
           "caxis": {
            "gridcolor": "white",
            "linecolor": "white",
            "ticks": ""
           }
          },
          "title": {
           "x": 0.05
          },
          "xaxis": {
           "automargin": true,
           "gridcolor": "white",
           "linecolor": "white",
           "ticks": "",
           "title": {
            "standoff": 15
           },
           "zerolinecolor": "white",
           "zerolinewidth": 2
          },
          "yaxis": {
           "automargin": true,
           "gridcolor": "white",
           "linecolor": "white",
           "ticks": "",
           "title": {
            "standoff": 15
           },
           "zerolinecolor": "white",
           "zerolinewidth": 2
          }
         }
        },
        "title": {
         "text": "Early Time Period Common Topics"
        },
        "xaxis": {
         "anchor": "y",
         "domain": [
          0,
          1
         ],
         "dtick": "M1",
         "tickformat": "%b %d",
         "ticklabelmode": "period",
         "title": {
          "text": "timepoint"
         }
        },
        "yaxis": {
         "anchor": "x",
         "domain": [
          0,
          1
         ],
         "title": {
          "text": "value"
         }
        }
       }
      }
     },
     "metadata": {},
     "output_type": "display_data"
    }
   ],
   "source": [
    "td = pd.DataFrame()\n",
    "for timepoint in range(best_mdl.num_timepoints):\n",
    "    td_tmp = pd.DataFrame(\n",
    "        np.stack([doc.get_topic_dist() for doc in best_mdl.docs if doc.timepoint == timepoint]),\n",
    "        columns=[\"topic_{}\".format(i + 1) for i in range(best_mdl.k)],\n",
    "    )\n",
    "    td_tmp[\"timepoint\"] = timepoint\n",
    "    td = pd.concat([td, td_tmp], ignore_index=True)\n",
    "    del td_tmp\n",
    "\n",
    "import plotly.express as px\n",
    "fig = px.line(td, x=\"timepoint\", y=['topic_1', 'topic_10', 'topic_11', 'topic_12', 'topic_19', 'topic_21'],\n",
    "            #   hover_data={\"timepoint\": \"|%B %d, %Y\"},\n",
    "              title='Early Time Period Common Topics')\n",
    "fig.update_xaxes(\n",
    "    dtick=\"M1\",\n",
    "    tickformat=\"%b %d\",\n",
    "    ticklabelmode=\"period\")\n",
    "fig.show()\n"
   ]
  },
  {
   "cell_type": "code",
   "execution_count": 264,
   "metadata": {},
   "outputs": [],
   "source": [
    "# - 1 > timep 4, 45\n",
    "# - 21 > timep 45, 4\n",
    "# - 11 > timep 4, 45\n",
    "# - 12 > timep 44, 1\n",
    "# - 10 > timep 11, 45\n",
    "# - 19 > timep 9, 12\n",
    "\n",
    "# topic_1\n",
    "topic_1 = wt[wt['k']==0] # start with 0\n",
    "# select timepoint\n",
    "topic_1_4 = topic_13[topic_13['timepoint']==4]\n",
    "topic_1_45 = topic_13[topic_13['timepoint']==45]\n",
    "# concat\n",
    "topic_1_concate = pd.concat([topic_1_4, topic_1_45], ignore_index=True)\n",
    "topic_1_concate.sort_values(by='prob', ascending=False, inplace=True)\n",
    "\n",
    "# topic_10\n",
    "topic_10 = wt[wt['k']==9] # start with 0\n",
    "# select timepoint\n",
    "topic_10_11 = topic_10[topic_10['timepoint']==11]\n",
    "topic_10_45 = topic_10[topic_10['timepoint']==45]\n",
    "# concat \n",
    "topic_10_concate = pd.concat([topic_10_11, topic_10_45], ignore_index=True)\n",
    "topic_10_concate.sort_values(by='prob', ascending=False, inplace=True)\n",
    "\n",
    "# topic_11\n",
    "topic_11= wt[wt['k']==10] # start with 0\n",
    "# select timepoint\n",
    "topic_11_4 = topic_11[topic_11['timepoint']==4]\n",
    "topic_11_45 = topic_11[topic_11['timepoint']==45]\n",
    "# concat\n",
    "topic_11_concate = pd.concat([topic_11_4, topic_11_45], ignore_index=True)\n",
    "topic_11_concate.sort_values(by='prob', ascending=False, inplace=True)\n",
    "\n",
    "# topic_12\n",
    "topic_12= wt[wt['k']==11] # start with 0\n",
    "# select timepoint\n",
    "topic_12_44 = topic_12[topic_12['timepoint']==44]\n",
    "topic_12_1 = topic_12[topic_12['timepoint']==1]\n",
    "# concat \n",
    "topic_12_concat = pd.concat([topic_12_44, topic_12_1], ignore_index=True)\n",
    "topic_12_concat.sort_values(by='prob', ascending=False, inplace=True)\n",
    "\n",
    "# topic_19\n",
    "topic_19 = wt[wt['k']==18] # start with 0\n",
    "# select timepoint\n",
    "topic_19_9 = topic_19[topic_19['timepoint']==9]\n",
    "topic_19_12 = topic_19[topic_19['timepoint']==12]\n",
    "# concat \n",
    "topic_19_concat = pd.concat([topic_19_9, topic_19_12], ignore_index=True)\n",
    "topic_19_concat.sort_values(by='prob', ascending=False, inplace=True)\n",
    "\n",
    "# topic_21\n",
    "topic_21 = wt[wt['k']==20] # start with 0\n",
    "# select timepoint\n",
    "topic_21_45 = topic_21[topic_21['timepoint']==45]\n",
    "topic_21_4 = topic_21[topic_21['timepoint']==4]\n",
    "# concat \n",
    "topic_21_concat = pd.concat([topic_21_45, topic_21_4], ignore_index=True)\n",
    "topic_21_concat.sort_values(by='prob', ascending=False, inplace=True)"
   ]
  },
  {
   "cell_type": "code",
   "execution_count": 266,
   "metadata": {},
   "outputs": [
    {
     "data": {
      "text/html": [
       "<div>\n",
       "<style scoped>\n",
       "    .dataframe tbody tr th:only-of-type {\n",
       "        vertical-align: middle;\n",
       "    }\n",
       "\n",
       "    .dataframe tbody tr th {\n",
       "        vertical-align: top;\n",
       "    }\n",
       "\n",
       "    .dataframe thead th {\n",
       "        text-align: right;\n",
       "    }\n",
       "</style>\n",
       "<table border=\"1\" class=\"dataframe\">\n",
       "  <thead>\n",
       "    <tr style=\"text-align: right;\">\n",
       "      <th></th>\n",
       "      <th>79</th>\n",
       "      <th>77</th>\n",
       "      <th>25</th>\n",
       "      <th>18</th>\n",
       "      <th>58</th>\n",
       "      <th>28</th>\n",
       "      <th>39</th>\n",
       "      <th>43</th>\n",
       "      <th>62</th>\n",
       "      <th>21</th>\n",
       "      <th>40</th>\n",
       "      <th>9</th>\n",
       "      <th>47</th>\n",
       "      <th>54</th>\n",
       "      <th>56</th>\n",
       "      <th>60</th>\n",
       "      <th>63</th>\n",
       "      <th>45</th>\n",
       "      <th>70</th>\n",
       "      <th>83</th>\n",
       "      <th>19</th>\n",
       "      <th>8</th>\n",
       "      <th>36</th>\n",
       "      <th>55</th>\n",
       "      <th>52</th>\n",
       "      <th>76</th>\n",
       "      <th>1</th>\n",
       "      <th>30</th>\n",
       "      <th>71</th>\n",
       "      <th>12</th>\n",
       "      <th>41</th>\n",
       "      <th>35</th>\n",
       "      <th>67</th>\n",
       "      <th>64</th>\n",
       "      <th>74</th>\n",
       "      <th>78</th>\n",
       "      <th>10</th>\n",
       "      <th>20</th>\n",
       "      <th>34</th>\n",
       "      <th>48</th>\n",
       "      <th>82</th>\n",
       "      <th>81</th>\n",
       "      <th>57</th>\n",
       "      <th>24</th>\n",
       "      <th>72</th>\n",
       "      <th>49</th>\n",
       "      <th>31</th>\n",
       "      <th>26</th>\n",
       "      <th>29</th>\n",
       "      <th>32</th>\n",
       "      <th>4</th>\n",
       "      <th>68</th>\n",
       "      <th>5</th>\n",
       "      <th>65</th>\n",
       "      <th>16</th>\n",
       "      <th>22</th>\n",
       "      <th>15</th>\n",
       "      <th>59</th>\n",
       "      <th>50</th>\n",
       "      <th>80</th>\n",
       "      <th>73</th>\n",
       "      <th>75</th>\n",
       "      <th>0</th>\n",
       "      <th>61</th>\n",
       "      <th>23</th>\n",
       "      <th>2</th>\n",
       "      <th>3</th>\n",
       "      <th>6</th>\n",
       "      <th>7</th>\n",
       "      <th>11</th>\n",
       "      <th>13</th>\n",
       "      <th>14</th>\n",
       "      <th>17</th>\n",
       "      <th>27</th>\n",
       "      <th>53</th>\n",
       "      <th>33</th>\n",
       "      <th>38</th>\n",
       "      <th>44</th>\n",
       "      <th>46</th>\n",
       "      <th>42</th>\n",
       "      <th>69</th>\n",
       "      <th>66</th>\n",
       "      <th>51</th>\n",
       "      <th>37</th>\n",
       "    </tr>\n",
       "  </thead>\n",
       "  <tbody>\n",
       "    <tr>\n",
       "      <th>word</th>\n",
       "      <td>wage</td>\n",
       "      <td>synergy</td>\n",
       "      <td>ehquake</td>\n",
       "      <td>destruction</td>\n",
       "      <td>player</td>\n",
       "      <td>estate</td>\n",
       "      <td>instance</td>\n",
       "      <td>inﬂation</td>\n",
       "      <td>proﬁt</td>\n",
       "      <td>diﬀerent</td>\n",
       "      <td>instrument</td>\n",
       "      <td>building</td>\n",
       "      <td>majority</td>\n",
       "      <td>overview</td>\n",
       "      <td>oﬀset</td>\n",
       "      <td>procurement</td>\n",
       "      <td>proﬁtability</td>\n",
       "      <td>ium</td>\n",
       "      <td>sensitivity</td>\n",
       "      <td>yen</td>\n",
       "      <td>discount</td>\n",
       "      <td>beneﬁts</td>\n",
       "      <td>housing</td>\n",
       "      <td>oﬀ</td>\n",
       "      <td>motor</td>\n",
       "      <td>structure</td>\n",
       "      <td>adjustment</td>\n",
       "      <td>eﬀect</td>\n",
       "      <td>situation</td>\n",
       "      <td>capacity</td>\n",
       "      <td>integration</td>\n",
       "      <td>health</td>\n",
       "      <td>retention</td>\n",
       "      <td>qbe</td>\n",
       "      <td>stock</td>\n",
       "      <td>traction</td>\n",
       "      <td>buyback</td>\n",
       "      <td>discussion</td>\n",
       "      <td>gbpb</td>\n",
       "      <td>material</td>\n",
       "      <td>winter</td>\n",
       "      <td>website</td>\n",
       "      <td>pension</td>\n",
       "      <td>efficiency</td>\n",
       "      <td>statement</td>\n",
       "      <td>meeting</td>\n",
       "      <td>fall</td>\n",
       "      <td>element</td>\n",
       "      <td>extent</td>\n",
       "      <td>financial</td>\n",
       "      <td>annuity</td>\n",
       "      <td>revenue</td>\n",
       "      <td>assumption</td>\n",
       "      <td>relationship</td>\n",
       "      <td>crop</td>\n",
       "      <td>dollar</td>\n",
       "      <td>crisis</td>\n",
       "      <td>problem</td>\n",
       "      <td>mind</td>\n",
       "      <td>weather</td>\n",
       "      <td>step</td>\n",
       "      <td>storm</td>\n",
       "      <td>accit</td>\n",
       "      <td>protection</td>\n",
       "      <td>duration</td>\n",
       "      <td>adtage</td>\n",
       "      <td>agent</td>\n",
       "      <td>auto</td>\n",
       "      <td>bank</td>\n",
       "      <td>capability</td>\n",
       "      <td>class</td>\n",
       "      <td>competitor</td>\n",
       "      <td>decrease</td>\n",
       "      <td>energy</td>\n",
       "      <td>movement</td>\n",
       "      <td>force</td>\n",
       "      <td>inflow</td>\n",
       "      <td>item</td>\n",
       "      <td>load</td>\n",
       "      <td>investor</td>\n",
       "      <td>save</td>\n",
       "      <td>respect</td>\n",
       "      <td>money</td>\n",
       "      <td>impairment</td>\n",
       "    </tr>\n",
       "    <tr>\n",
       "      <th>prob</th>\n",
       "      <td>0.039</td>\n",
       "      <td>0.032</td>\n",
       "      <td>0.02</td>\n",
       "      <td>0.019</td>\n",
       "      <td>0.019</td>\n",
       "      <td>0.019</td>\n",
       "      <td>0.019</td>\n",
       "      <td>0.019</td>\n",
       "      <td>0.0165</td>\n",
       "      <td>0.016333</td>\n",
       "      <td>0.016</td>\n",
       "      <td>0.016</td>\n",
       "      <td>0.016</td>\n",
       "      <td>0.016</td>\n",
       "      <td>0.016</td>\n",
       "      <td>0.015</td>\n",
       "      <td>0.0145</td>\n",
       "      <td>0.014</td>\n",
       "      <td>0.014</td>\n",
       "      <td>0.014</td>\n",
       "      <td>0.014</td>\n",
       "      <td>0.014</td>\n",
       "      <td>0.013</td>\n",
       "      <td>0.013</td>\n",
       "      <td>0.013</td>\n",
       "      <td>0.0125</td>\n",
       "      <td>0.011</td>\n",
       "      <td>0.0105</td>\n",
       "      <td>0.0105</td>\n",
       "      <td>0.009</td>\n",
       "      <td>0.009</td>\n",
       "      <td>0.0085</td>\n",
       "      <td>0.008</td>\n",
       "      <td>0.008</td>\n",
       "      <td>0.0075</td>\n",
       "      <td>0.007</td>\n",
       "      <td>0.007</td>\n",
       "      <td>0.007</td>\n",
       "      <td>0.006</td>\n",
       "      <td>0.006</td>\n",
       "      <td>0.006</td>\n",
       "      <td>0.006</td>\n",
       "      <td>0.006</td>\n",
       "      <td>0.006</td>\n",
       "      <td>0.006</td>\n",
       "      <td>0.006</td>\n",
       "      <td>0.006</td>\n",
       "      <td>0.006</td>\n",
       "      <td>0.006</td>\n",
       "      <td>0.006</td>\n",
       "      <td>0.0055</td>\n",
       "      <td>0.005333</td>\n",
       "      <td>0.005333</td>\n",
       "      <td>0.005</td>\n",
       "      <td>0.005</td>\n",
       "      <td>0.005</td>\n",
       "      <td>0.005</td>\n",
       "      <td>0.005</td>\n",
       "      <td>0.005</td>\n",
       "      <td>0.004</td>\n",
       "      <td>0.004</td>\n",
       "      <td>0.004</td>\n",
       "      <td>0.004</td>\n",
       "      <td>0.004</td>\n",
       "      <td>0.004</td>\n",
       "      <td>0.004</td>\n",
       "      <td>0.004</td>\n",
       "      <td>0.004</td>\n",
       "      <td>0.004</td>\n",
       "      <td>0.004</td>\n",
       "      <td>0.004</td>\n",
       "      <td>0.004</td>\n",
       "      <td>0.004</td>\n",
       "      <td>0.004</td>\n",
       "      <td>0.004</td>\n",
       "      <td>0.004</td>\n",
       "      <td>0.004</td>\n",
       "      <td>0.004</td>\n",
       "      <td>0.004</td>\n",
       "      <td>0.004</td>\n",
       "      <td>0.0035</td>\n",
       "      <td>0.0035</td>\n",
       "      <td>0.0035</td>\n",
       "      <td>0.003</td>\n",
       "    </tr>\n",
       "  </tbody>\n",
       "</table>\n",
       "</div>"
      ],
      "text/plain": [
       "         79       77       25           18      58      28        39  \\\n",
       "word   wage  synergy  ehquake  destruction  player  estate  instance   \n",
       "prob  0.039    0.032     0.02        0.019   0.019   0.019     0.019   \n",
       "\n",
       "            43      62        21          40        9         47        54  \\\n",
       "word  inﬂation   proﬁt  diﬀerent  instrument  building  majority  overview   \n",
       "prob     0.019  0.0165  0.016333       0.016     0.016     0.016     0.016   \n",
       "\n",
       "         56           60            63     45           70     83        19  \\\n",
       "word  oﬀset  procurement  proﬁtability    ium  sensitivity    yen  discount   \n",
       "prob  0.016        0.015        0.0145  0.014        0.014  0.014     0.014   \n",
       "\n",
       "           8        36     55     52         76          1       30  \\\n",
       "word  beneﬁts  housing     oﬀ  motor  structure  adjustment   eﬀect   \n",
       "prob    0.014    0.013  0.013  0.013     0.0125       0.011  0.0105   \n",
       "\n",
       "             71        12           41      35         67     64      74  \\\n",
       "word  situation  capacity  integration  health  retention    qbe   stock   \n",
       "prob     0.0105     0.009        0.009  0.0085      0.008  0.008  0.0075   \n",
       "\n",
       "            78       10          20     34        48      82       81  \\\n",
       "word  traction  buyback  discussion   gbpb  material  winter  website   \n",
       "prob     0.007    0.007       0.007  0.006     0.006   0.006    0.006   \n",
       "\n",
       "           57          24         72       49     31       26      29  \\\n",
       "word  pension  efficiency  statement  meeting   fall  element  extent   \n",
       "prob    0.006       0.006      0.006    0.006  0.006    0.006   0.006   \n",
       "\n",
       "             32       4         68          5             65     16      22  \\\n",
       "word  financial  annuity   revenue  assumption  relationship   crop  dollar   \n",
       "prob      0.006   0.0055  0.005333    0.005333         0.005  0.005   0.005   \n",
       "\n",
       "          15       59     50       80     73     75     0           61  \\\n",
       "word  crisis  problem   mind  weather   step  storm  accit  protection   \n",
       "prob   0.005    0.005  0.005    0.004  0.004  0.004  0.004       0.004   \n",
       "\n",
       "            23      2      3      6      7           11     13          14  \\\n",
       "word  duration  adtage  agent   auto   bank  capability  class  competitor   \n",
       "prob     0.004   0.004  0.004  0.004  0.004       0.004  0.004       0.004   \n",
       "\n",
       "            17      27        53     33      38     44     46        42  \\\n",
       "word  decrease  energy  movement  force  inflow   item   load  investor   \n",
       "prob     0.004   0.004     0.004  0.004   0.004  0.004  0.004     0.004   \n",
       "\n",
       "          69       66      51          37  \n",
       "word    save  respect   money  impairment  \n",
       "prob  0.0035   0.0035  0.0035       0.003  "
      ]
     },
     "execution_count": 266,
     "metadata": {},
     "output_type": "execute_result"
    }
   ],
   "source": [
    "# concat all together\n",
    "topic_all_early = pd.concat([topic_1_concate, topic_10_concate, topic_11_concate, topic_12_concat, topic_19_concat, topic_21_concat], ignore_index=True)\n",
    "\n",
    "# groupby word and get the average of prob\n",
    "topic_all_early = topic_all_early.groupby(['word'])['prob'].mean().reset_index()\n",
    "# sort by prob\n",
    "topic_all_early.sort_values(by='prob', ascending=False, inplace=True)\n",
    "topic_all_early.T"
   ]
  },
  {
   "cell_type": "code",
   "execution_count": null,
   "metadata": {},
   "outputs": [],
   "source": [
    "ehquake, destruction, estate, instrument, building, yen, housing"
   ]
  },
  {
   "cell_type": "markdown",
   "metadata": {},
   "source": [
    "# recent time of the common topics"
   ]
  },
  {
   "cell_type": "code",
   "execution_count": 284,
   "metadata": {},
   "outputs": [
    {
     "data": {
      "application/vnd.plotly.v1+json": {
       "config": {
        "plotlyServerURL": "https://plot.ly"
       },
       "data": [
        {
         "hovertemplate": "variable=topic_3<br>timepoint=%{x}<br>value=%{y}<extra></extra>",
         "legendgroup": "topic_3",
         "line": {
          "color": "#636efa",
          "dash": "solid"
         },
         "marker": {
          "symbol": "circle"
         },
         "mode": "lines",
         "name": "topic_3",
         "orientation": "v",
         "showlegend": true,
         "type": "scatter",
         "x": [
          0,
          1,
          2,
          3,
          4,
          5,
          6,
          7,
          8,
          9,
          10,
          11,
          12,
          13,
          14,
          15,
          16,
          17,
          18,
          19,
          20,
          21,
          22,
          23,
          24,
          25,
          26,
          27,
          28,
          29,
          30,
          31,
          32,
          33,
          34,
          35,
          36,
          37,
          38,
          39,
          40,
          41,
          42,
          43,
          44,
          45
         ],
         "xaxis": "x",
         "y": [
          0.05616948381066322,
          0.03977467864751816,
          0.05370684713125229,
          0.04702185094356537,
          0.033511292189359665,
          0.04069158434867859,
          0.042027682065963745,
          0.04332011938095093,
          0.02532118372619152,
          0.03579021990299225,
          0.03520123288035393,
          0.040568653494119644,
          0.029831159859895706,
          0.008284786716103554,
          0.0003668454592116177,
          0.04367701709270477,
          0.000005385261829360388,
          0.024235866963863373,
          0.0001798540324671194,
          0.0035188309848308563,
          0.0001341979659628123,
          0.0003583423385862261,
          0.0001135613929363899,
          0.01838393323123455,
          0.000004669362624554196,
          0.0005398414214141667,
          0.00041525260894559324,
          0.00008311498822877184,
          0.0001807344233384356,
          0.003018602728843689,
          0.9965815544128418,
          0.0004937397316098213,
          0.00022494119184557348,
          0.00024422715068794787,
          0.0001463021180825308,
          0.0002997320261783898,
          0.0008680996834300458,
          0.9970951080322266,
          0.00041921576485037804,
          0.9943606853485107,
          0.00027458503609523177,
          0.0018585942452773452,
          0.0006772406050004065,
          0.0003571213164832443,
          0.048606839030981064,
          0.03650408983230591
         ],
         "yaxis": "y"
        },
        {
         "hovertemplate": "variable=topic_4<br>timepoint=%{x}<br>value=%{y}<extra></extra>",
         "legendgroup": "topic_4",
         "line": {
          "color": "#EF553B",
          "dash": "solid"
         },
         "marker": {
          "symbol": "circle"
         },
         "mode": "lines",
         "name": "topic_4",
         "orientation": "v",
         "showlegend": true,
         "type": "scatter",
         "x": [
          0,
          1,
          2,
          3,
          4,
          5,
          6,
          7,
          8,
          9,
          10,
          11,
          12,
          13,
          14,
          15,
          16,
          17,
          18,
          19,
          20,
          21,
          22,
          23,
          24,
          25,
          26,
          27,
          28,
          29,
          30,
          31,
          32,
          33,
          34,
          35,
          36,
          37,
          38,
          39,
          40,
          41,
          42,
          43,
          44,
          45
         ],
         "xaxis": "x",
         "y": [
          0.041455212980508804,
          0.0569312609732151,
          0.046578291803598404,
          0.04641157388687134,
          0.041493285447359085,
          0.03794721141457558,
          0.04259030148386955,
          0.049863360822200775,
          0.039430003613233566,
          0.047095946967601776,
          0.04452943056821823,
          0.04224982112646103,
          0.04316430538892746,
          0.013298634439706802,
          0.0003151770797558129,
          0.03209521621465683,
          0.00016694310761522502,
          0.02375708520412445,
          0.0001798540324671194,
          0.00460540596395731,
          0.0001341979659628123,
          0.000779921596404165,
          0.0002757919719442725,
          0.013807021081447601,
          0.00014475024363491684,
          0.0005398414214141667,
          0.0005690499092452228,
          0.00004353642725618556,
          0.00003898193608620204,
          0.0005635469569824636,
          0.0002892201591748744,
          0.0004560496599879116,
          0.00011431437451392412,
          0.0005315532325766981,
          0.9982479810714722,
          0.9944109320640564,
          0.0010711639188230038,
          0.0002275749429827556,
          0.00014280976029112935,
          0.0002062560961348936,
          0.00008121528662741184,
          0.9816266298294067,
          0.0010391249088570476,
          0.000759511545766145,
          0.04491634666919708,
          0.07134201377630234
         ],
         "yaxis": "y"
        },
        {
         "hovertemplate": "variable=topic_5<br>timepoint=%{x}<br>value=%{y}<extra></extra>",
         "legendgroup": "topic_5",
         "line": {
          "color": "#00cc96",
          "dash": "solid"
         },
         "marker": {
          "symbol": "circle"
         },
         "mode": "lines",
         "name": "topic_5",
         "orientation": "v",
         "showlegend": true,
         "type": "scatter",
         "x": [
          0,
          1,
          2,
          3,
          4,
          5,
          6,
          7,
          8,
          9,
          10,
          11,
          12,
          13,
          14,
          15,
          16,
          17,
          18,
          19,
          20,
          21,
          22,
          23,
          24,
          25,
          26,
          27,
          28,
          29,
          30,
          31,
          32,
          33,
          34,
          35,
          36,
          37,
          38,
          39,
          40,
          41,
          42,
          43,
          44,
          45
         ],
         "xaxis": "x",
         "y": [
          0.04025404527783394,
          0.050640515983104706,
          0.050066735595464706,
          0.04183449596166611,
          0.038614533841609955,
          0.05341549962759018,
          0.04784141480922699,
          0.06468188017606735,
          0.05162997916340828,
          0.058739159256219864,
          0.04512304440140724,
          0.08963770419359207,
          0.025761041790246964,
          0.0041463724337518215,
          0.00010850357648450881,
          0.02780313603579998,
          0.0008131745853461325,
          0.06225103139877319,
          0.0005859760567545891,
          0.007781547959893942,
          0.00009090830280911177,
          0.0005691319820471108,
          0.0001135613929363899,
          0.044666506350040436,
          0.0001914438616950065,
          0.0002191435341956094,
          0.0016968963900581002,
          0.9975026249885559,
          0.00007442005153279752,
          0.0012331076432019472,
          0.0003840464632958174,
          0.00022990931756794453,
          0.00007743876631138846,
          0.0004836655571125448,
          0.00007493523298762739,
          0.00018219005141872913,
          0.00025890691904351115,
          0.000004462253855308518,
          0.00005067443271400407,
          0.00030686883837915957,
          0.000042541345464996994,
          0.0007685096934437752,
          0.0012459158897399902,
          0.9918968677520752,
          0.08028354495763779,
          0.039533473551273346
         ],
         "yaxis": "y"
        },
        {
         "hovertemplate": "variable=topic_17<br>timepoint=%{x}<br>value=%{y}<extra></extra>",
         "legendgroup": "topic_17",
         "line": {
          "color": "#ab63fa",
          "dash": "solid"
         },
         "marker": {
          "symbol": "circle"
         },
         "mode": "lines",
         "name": "topic_17",
         "orientation": "v",
         "showlegend": true,
         "type": "scatter",
         "x": [
          0,
          1,
          2,
          3,
          4,
          5,
          6,
          7,
          8,
          9,
          10,
          11,
          12,
          13,
          14,
          15,
          16,
          17,
          18,
          19,
          20,
          21,
          22,
          23,
          24,
          25,
          26,
          27,
          28,
          29,
          30,
          31,
          32,
          33,
          34,
          35,
          36,
          37,
          38,
          39,
          40,
          41,
          42,
          43,
          44,
          45
         ],
         "xaxis": "x",
         "y": [
          0.051364824175834656,
          0.04406382516026497,
          0.0508250929415226,
          0.04824240505695343,
          0.04489544779062271,
          0.039194654673337936,
          0.0435279980301857,
          0.046014394611120224,
          0.039015039801597595,
          0.04068374261260033,
          0.0310459453612566,
          0.056119441986083984,
          0.02604174055159092,
          0.00740935280919075,
          0.0005218505975790322,
          0.048037223517894745,
          0.00027464833692647517,
          0.027204304933547974,
          0.0001798540324671194,
          0.006026311777532101,
          0.0002207773068221286,
          0.0013420272152870893,
          0.0002217151049990207,
          0.01796784996986389,
          0.00028483112691901624,
          0.0015019349521026015,
          0.0010304416064172983,
          0.000241429268498905,
          0.997799277305603,
          0.003520773258060217,
          0.00005215445708017796,
          0.00011683916090987623,
          0.00004056316538481042,
          0.0003878902061842382,
          0.00003925179044017568,
          0.00024096103152260184,
          0.9886741042137146,
          0.0000490847960463725,
          0.00041921576485037804,
          0.00045778797357343137,
          0.9972889423370361,
          0.002567149233072996,
          0.9863983392715454,
          0.0005583164165727794,
          0.05122093856334686,
          0.05468039587140083
         ],
         "yaxis": "y"
        },
        {
         "hovertemplate": "variable=topic_22<br>timepoint=%{x}<br>value=%{y}<extra></extra>",
         "legendgroup": "topic_22",
         "line": {
          "color": "#FFA15A",
          "dash": "solid"
         },
         "marker": {
          "symbol": "circle"
         },
         "mode": "lines",
         "name": "topic_22",
         "orientation": "v",
         "showlegend": true,
         "type": "scatter",
         "x": [
          0,
          1,
          2,
          3,
          4,
          5,
          6,
          7,
          8,
          9,
          10,
          11,
          12,
          13,
          14,
          15,
          16,
          17,
          18,
          19,
          20,
          21,
          22,
          23,
          24,
          25,
          26,
          27,
          28,
          29,
          30,
          31,
          32,
          33,
          34,
          35,
          36,
          37,
          38,
          39,
          40,
          41,
          42,
          43,
          44,
          45
         ],
         "xaxis": "x",
         "y": [
          0.04010390117764473,
          0.046637311577796936,
          0.044758234173059464,
          0.04946295917034149,
          0.03848368301987648,
          0.046429820358753204,
          0.0562807098031044,
          0.0440899096429348,
          0.05976330116391182,
          0.047433432191610336,
          0.03562524542212486,
          0.03174252808094025,
          0.040988896042108536,
          0.006056409329175949,
          0.00010850357648450881,
          0.014109360054135323,
          0.0002207957295468077,
          0.0296939630061388,
          0.00029588889447040856,
          0.015471155755221844,
          0.0001341979659628123,
          0.0023959751706570387,
          0.0002757919719442725,
          0.027537759393453598,
          0.00009805661102291197,
          0.00048639177111908793,
          0.0008766443934291601,
          0.00012269355647731572,
          0.00035792504786513746,
          0.00536206504330039,
          0.00024180700711440295,
          0.00019221926049795002,
          0.00011431437451392412,
          0.9926205277442932,
          0.0001106186828110367,
          0.0003585029917303473,
          0.0003604390367399901,
          0.00013832986587658525,
          0.995158314704895,
          0.00035717521677725017,
          0.0001198892350657843,
          0.0004959885263815522,
          0.0005738451145589352,
          0.0005080176633782685,
          0.03784290701150894,
          0.03498939797282219
         ],
         "yaxis": "y"
        }
       ],
       "layout": {
        "legend": {
         "title": {
          "text": "variable"
         },
         "tracegroupgap": 0
        },
        "template": {
         "data": {
          "bar": [
           {
            "error_x": {
             "color": "#2a3f5f"
            },
            "error_y": {
             "color": "#2a3f5f"
            },
            "marker": {
             "line": {
              "color": "#E5ECF6",
              "width": 0.5
             },
             "pattern": {
              "fillmode": "overlay",
              "size": 10,
              "solidity": 0.2
             }
            },
            "type": "bar"
           }
          ],
          "barpolar": [
           {
            "marker": {
             "line": {
              "color": "#E5ECF6",
              "width": 0.5
             },
             "pattern": {
              "fillmode": "overlay",
              "size": 10,
              "solidity": 0.2
             }
            },
            "type": "barpolar"
           }
          ],
          "carpet": [
           {
            "aaxis": {
             "endlinecolor": "#2a3f5f",
             "gridcolor": "white",
             "linecolor": "white",
             "minorgridcolor": "white",
             "startlinecolor": "#2a3f5f"
            },
            "baxis": {
             "endlinecolor": "#2a3f5f",
             "gridcolor": "white",
             "linecolor": "white",
             "minorgridcolor": "white",
             "startlinecolor": "#2a3f5f"
            },
            "type": "carpet"
           }
          ],
          "choropleth": [
           {
            "colorbar": {
             "outlinewidth": 0,
             "ticks": ""
            },
            "type": "choropleth"
           }
          ],
          "contour": [
           {
            "colorbar": {
             "outlinewidth": 0,
             "ticks": ""
            },
            "colorscale": [
             [
              0,
              "#0d0887"
             ],
             [
              0.1111111111111111,
              "#46039f"
             ],
             [
              0.2222222222222222,
              "#7201a8"
             ],
             [
              0.3333333333333333,
              "#9c179e"
             ],
             [
              0.4444444444444444,
              "#bd3786"
             ],
             [
              0.5555555555555556,
              "#d8576b"
             ],
             [
              0.6666666666666666,
              "#ed7953"
             ],
             [
              0.7777777777777778,
              "#fb9f3a"
             ],
             [
              0.8888888888888888,
              "#fdca26"
             ],
             [
              1,
              "#f0f921"
             ]
            ],
            "type": "contour"
           }
          ],
          "contourcarpet": [
           {
            "colorbar": {
             "outlinewidth": 0,
             "ticks": ""
            },
            "type": "contourcarpet"
           }
          ],
          "heatmap": [
           {
            "colorbar": {
             "outlinewidth": 0,
             "ticks": ""
            },
            "colorscale": [
             [
              0,
              "#0d0887"
             ],
             [
              0.1111111111111111,
              "#46039f"
             ],
             [
              0.2222222222222222,
              "#7201a8"
             ],
             [
              0.3333333333333333,
              "#9c179e"
             ],
             [
              0.4444444444444444,
              "#bd3786"
             ],
             [
              0.5555555555555556,
              "#d8576b"
             ],
             [
              0.6666666666666666,
              "#ed7953"
             ],
             [
              0.7777777777777778,
              "#fb9f3a"
             ],
             [
              0.8888888888888888,
              "#fdca26"
             ],
             [
              1,
              "#f0f921"
             ]
            ],
            "type": "heatmap"
           }
          ],
          "heatmapgl": [
           {
            "colorbar": {
             "outlinewidth": 0,
             "ticks": ""
            },
            "colorscale": [
             [
              0,
              "#0d0887"
             ],
             [
              0.1111111111111111,
              "#46039f"
             ],
             [
              0.2222222222222222,
              "#7201a8"
             ],
             [
              0.3333333333333333,
              "#9c179e"
             ],
             [
              0.4444444444444444,
              "#bd3786"
             ],
             [
              0.5555555555555556,
              "#d8576b"
             ],
             [
              0.6666666666666666,
              "#ed7953"
             ],
             [
              0.7777777777777778,
              "#fb9f3a"
             ],
             [
              0.8888888888888888,
              "#fdca26"
             ],
             [
              1,
              "#f0f921"
             ]
            ],
            "type": "heatmapgl"
           }
          ],
          "histogram": [
           {
            "marker": {
             "pattern": {
              "fillmode": "overlay",
              "size": 10,
              "solidity": 0.2
             }
            },
            "type": "histogram"
           }
          ],
          "histogram2d": [
           {
            "colorbar": {
             "outlinewidth": 0,
             "ticks": ""
            },
            "colorscale": [
             [
              0,
              "#0d0887"
             ],
             [
              0.1111111111111111,
              "#46039f"
             ],
             [
              0.2222222222222222,
              "#7201a8"
             ],
             [
              0.3333333333333333,
              "#9c179e"
             ],
             [
              0.4444444444444444,
              "#bd3786"
             ],
             [
              0.5555555555555556,
              "#d8576b"
             ],
             [
              0.6666666666666666,
              "#ed7953"
             ],
             [
              0.7777777777777778,
              "#fb9f3a"
             ],
             [
              0.8888888888888888,
              "#fdca26"
             ],
             [
              1,
              "#f0f921"
             ]
            ],
            "type": "histogram2d"
           }
          ],
          "histogram2dcontour": [
           {
            "colorbar": {
             "outlinewidth": 0,
             "ticks": ""
            },
            "colorscale": [
             [
              0,
              "#0d0887"
             ],
             [
              0.1111111111111111,
              "#46039f"
             ],
             [
              0.2222222222222222,
              "#7201a8"
             ],
             [
              0.3333333333333333,
              "#9c179e"
             ],
             [
              0.4444444444444444,
              "#bd3786"
             ],
             [
              0.5555555555555556,
              "#d8576b"
             ],
             [
              0.6666666666666666,
              "#ed7953"
             ],
             [
              0.7777777777777778,
              "#fb9f3a"
             ],
             [
              0.8888888888888888,
              "#fdca26"
             ],
             [
              1,
              "#f0f921"
             ]
            ],
            "type": "histogram2dcontour"
           }
          ],
          "mesh3d": [
           {
            "colorbar": {
             "outlinewidth": 0,
             "ticks": ""
            },
            "type": "mesh3d"
           }
          ],
          "parcoords": [
           {
            "line": {
             "colorbar": {
              "outlinewidth": 0,
              "ticks": ""
             }
            },
            "type": "parcoords"
           }
          ],
          "pie": [
           {
            "automargin": true,
            "type": "pie"
           }
          ],
          "scatter": [
           {
            "fillpattern": {
             "fillmode": "overlay",
             "size": 10,
             "solidity": 0.2
            },
            "type": "scatter"
           }
          ],
          "scatter3d": [
           {
            "line": {
             "colorbar": {
              "outlinewidth": 0,
              "ticks": ""
             }
            },
            "marker": {
             "colorbar": {
              "outlinewidth": 0,
              "ticks": ""
             }
            },
            "type": "scatter3d"
           }
          ],
          "scattercarpet": [
           {
            "marker": {
             "colorbar": {
              "outlinewidth": 0,
              "ticks": ""
             }
            },
            "type": "scattercarpet"
           }
          ],
          "scattergeo": [
           {
            "marker": {
             "colorbar": {
              "outlinewidth": 0,
              "ticks": ""
             }
            },
            "type": "scattergeo"
           }
          ],
          "scattergl": [
           {
            "marker": {
             "colorbar": {
              "outlinewidth": 0,
              "ticks": ""
             }
            },
            "type": "scattergl"
           }
          ],
          "scattermapbox": [
           {
            "marker": {
             "colorbar": {
              "outlinewidth": 0,
              "ticks": ""
             }
            },
            "type": "scattermapbox"
           }
          ],
          "scatterpolar": [
           {
            "marker": {
             "colorbar": {
              "outlinewidth": 0,
              "ticks": ""
             }
            },
            "type": "scatterpolar"
           }
          ],
          "scatterpolargl": [
           {
            "marker": {
             "colorbar": {
              "outlinewidth": 0,
              "ticks": ""
             }
            },
            "type": "scatterpolargl"
           }
          ],
          "scatterternary": [
           {
            "marker": {
             "colorbar": {
              "outlinewidth": 0,
              "ticks": ""
             }
            },
            "type": "scatterternary"
           }
          ],
          "surface": [
           {
            "colorbar": {
             "outlinewidth": 0,
             "ticks": ""
            },
            "colorscale": [
             [
              0,
              "#0d0887"
             ],
             [
              0.1111111111111111,
              "#46039f"
             ],
             [
              0.2222222222222222,
              "#7201a8"
             ],
             [
              0.3333333333333333,
              "#9c179e"
             ],
             [
              0.4444444444444444,
              "#bd3786"
             ],
             [
              0.5555555555555556,
              "#d8576b"
             ],
             [
              0.6666666666666666,
              "#ed7953"
             ],
             [
              0.7777777777777778,
              "#fb9f3a"
             ],
             [
              0.8888888888888888,
              "#fdca26"
             ],
             [
              1,
              "#f0f921"
             ]
            ],
            "type": "surface"
           }
          ],
          "table": [
           {
            "cells": {
             "fill": {
              "color": "#EBF0F8"
             },
             "line": {
              "color": "white"
             }
            },
            "header": {
             "fill": {
              "color": "#C8D4E3"
             },
             "line": {
              "color": "white"
             }
            },
            "type": "table"
           }
          ]
         },
         "layout": {
          "annotationdefaults": {
           "arrowcolor": "#2a3f5f",
           "arrowhead": 0,
           "arrowwidth": 1
          },
          "autotypenumbers": "strict",
          "coloraxis": {
           "colorbar": {
            "outlinewidth": 0,
            "ticks": ""
           }
          },
          "colorscale": {
           "diverging": [
            [
             0,
             "#8e0152"
            ],
            [
             0.1,
             "#c51b7d"
            ],
            [
             0.2,
             "#de77ae"
            ],
            [
             0.3,
             "#f1b6da"
            ],
            [
             0.4,
             "#fde0ef"
            ],
            [
             0.5,
             "#f7f7f7"
            ],
            [
             0.6,
             "#e6f5d0"
            ],
            [
             0.7,
             "#b8e186"
            ],
            [
             0.8,
             "#7fbc41"
            ],
            [
             0.9,
             "#4d9221"
            ],
            [
             1,
             "#276419"
            ]
           ],
           "sequential": [
            [
             0,
             "#0d0887"
            ],
            [
             0.1111111111111111,
             "#46039f"
            ],
            [
             0.2222222222222222,
             "#7201a8"
            ],
            [
             0.3333333333333333,
             "#9c179e"
            ],
            [
             0.4444444444444444,
             "#bd3786"
            ],
            [
             0.5555555555555556,
             "#d8576b"
            ],
            [
             0.6666666666666666,
             "#ed7953"
            ],
            [
             0.7777777777777778,
             "#fb9f3a"
            ],
            [
             0.8888888888888888,
             "#fdca26"
            ],
            [
             1,
             "#f0f921"
            ]
           ],
           "sequentialminus": [
            [
             0,
             "#0d0887"
            ],
            [
             0.1111111111111111,
             "#46039f"
            ],
            [
             0.2222222222222222,
             "#7201a8"
            ],
            [
             0.3333333333333333,
             "#9c179e"
            ],
            [
             0.4444444444444444,
             "#bd3786"
            ],
            [
             0.5555555555555556,
             "#d8576b"
            ],
            [
             0.6666666666666666,
             "#ed7953"
            ],
            [
             0.7777777777777778,
             "#fb9f3a"
            ],
            [
             0.8888888888888888,
             "#fdca26"
            ],
            [
             1,
             "#f0f921"
            ]
           ]
          },
          "colorway": [
           "#636efa",
           "#EF553B",
           "#00cc96",
           "#ab63fa",
           "#FFA15A",
           "#19d3f3",
           "#FF6692",
           "#B6E880",
           "#FF97FF",
           "#FECB52"
          ],
          "font": {
           "color": "#2a3f5f"
          },
          "geo": {
           "bgcolor": "white",
           "lakecolor": "white",
           "landcolor": "#E5ECF6",
           "showlakes": true,
           "showland": true,
           "subunitcolor": "white"
          },
          "hoverlabel": {
           "align": "left"
          },
          "hovermode": "closest",
          "mapbox": {
           "style": "light"
          },
          "paper_bgcolor": "white",
          "plot_bgcolor": "#E5ECF6",
          "polar": {
           "angularaxis": {
            "gridcolor": "white",
            "linecolor": "white",
            "ticks": ""
           },
           "bgcolor": "#E5ECF6",
           "radialaxis": {
            "gridcolor": "white",
            "linecolor": "white",
            "ticks": ""
           }
          },
          "scene": {
           "xaxis": {
            "backgroundcolor": "#E5ECF6",
            "gridcolor": "white",
            "gridwidth": 2,
            "linecolor": "white",
            "showbackground": true,
            "ticks": "",
            "zerolinecolor": "white"
           },
           "yaxis": {
            "backgroundcolor": "#E5ECF6",
            "gridcolor": "white",
            "gridwidth": 2,
            "linecolor": "white",
            "showbackground": true,
            "ticks": "",
            "zerolinecolor": "white"
           },
           "zaxis": {
            "backgroundcolor": "#E5ECF6",
            "gridcolor": "white",
            "gridwidth": 2,
            "linecolor": "white",
            "showbackground": true,
            "ticks": "",
            "zerolinecolor": "white"
           }
          },
          "shapedefaults": {
           "line": {
            "color": "#2a3f5f"
           }
          },
          "ternary": {
           "aaxis": {
            "gridcolor": "white",
            "linecolor": "white",
            "ticks": ""
           },
           "baxis": {
            "gridcolor": "white",
            "linecolor": "white",
            "ticks": ""
           },
           "bgcolor": "#E5ECF6",
           "caxis": {
            "gridcolor": "white",
            "linecolor": "white",
            "ticks": ""
           }
          },
          "title": {
           "x": 0.05
          },
          "xaxis": {
           "automargin": true,
           "gridcolor": "white",
           "linecolor": "white",
           "ticks": "",
           "title": {
            "standoff": 15
           },
           "zerolinecolor": "white",
           "zerolinewidth": 2
          },
          "yaxis": {
           "automargin": true,
           "gridcolor": "white",
           "linecolor": "white",
           "ticks": "",
           "title": {
            "standoff": 15
           },
           "zerolinecolor": "white",
           "zerolinewidth": 2
          }
         }
        },
        "title": {
         "text": "Recent Time Period Common Topics"
        },
        "xaxis": {
         "anchor": "y",
         "domain": [
          0,
          1
         ],
         "dtick": "M1",
         "tickformat": "%b %d",
         "ticklabelmode": "period",
         "title": {
          "text": "timepoint"
         }
        },
        "yaxis": {
         "anchor": "x",
         "domain": [
          0,
          1
         ],
         "title": {
          "text": "value"
         }
        }
       }
      }
     },
     "metadata": {},
     "output_type": "display_data"
    }
   ],
   "source": [
    "td = pd.DataFrame()\n",
    "for timepoint in range(best_mdl.num_timepoints):\n",
    "    td_tmp = pd.DataFrame(\n",
    "        np.stack([doc.get_topic_dist() for doc in best_mdl.docs if doc.timepoint == timepoint]),\n",
    "        columns=[\"topic_{}\".format(i + 1) for i in range(best_mdl.k)],\n",
    "    )\n",
    "    td_tmp[\"timepoint\"] = timepoint\n",
    "    td = pd.concat([td, td_tmp], ignore_index=True)\n",
    "    del td_tmp\n",
    "\n",
    "import plotly.express as px\n",
    "fig = px.line(td, x=\"timepoint\", y=['topic_3', 'topic_4', 'topic_5', 'topic_17', 'topic_22'],\n",
    "            #   hover_data={\"timepoint\": \"|%B %d, %Y\"},\n",
    "              title='Recent Time Period Common Topics')\n",
    "fig.update_xaxes(\n",
    "    dtick=\"M1\",\n",
    "    tickformat=\"%b %d\",\n",
    "    ticklabelmode=\"period\")\n",
    "fig.show()"
   ]
  },
  {
   "cell_type": "code",
   "execution_count": 272,
   "metadata": {},
   "outputs": [],
   "source": [
    "# - 5 > timep 43\n",
    "# - 17 > timep 40, 36, 42\n",
    "# - 4 > timep 34, 35, 41\n",
    "# - 3 > timep 39, 37, 30\n",
    "# - 22 > timep 38, 33\n",
    "\n",
    "# topic_3\n",
    "topic_3= wt[wt['k']==2] # start with 0\n",
    "# select timepoint\n",
    "topic_3_39 = topic_3[topic_3['timepoint']==39]\n",
    "topic_3_37 = topic_3[topic_3['timepoint']==37]\n",
    "topic_3_30 = topic_3[topic_3['timepoint']==30]\n",
    "# concat \n",
    "topic_3_concat = pd.concat([topic_3_39, topic_3_37, topic_3_30], ignore_index=True)\n",
    "topic_3_concat.sort_values(by='prob', ascending=False, inplace=True)\n",
    "\n",
    "# topic_4\n",
    "topic_4 = wt[wt['k']==3] # start with 0\n",
    "# select timepoint\n",
    "topic_4_34 = topic_4[topic_4['timepoint']==34]\n",
    "topic_4_35 = topic_4[topic_4['timepoint']==35]\n",
    "topic_4_41 = topic_4[topic_4['timepoint']==41]\n",
    "# concat \n",
    "topic_4_concat = pd.concat([topic_4_34, topic_4_35, topic_4_41], ignore_index=True)\n",
    "topic_4_concat.sort_values(by='prob', ascending=False, inplace=True)\n",
    "\n",
    "# topic_5\n",
    "topic_5 = wt[wt['k']==4] # start with 0\n",
    "# select timepoint\n",
    "topic_5_43 = topic_21[topic_21['timepoint']==43]\n",
    "# concat \n",
    "topic_5_concat = topic_5_43.copy()\n",
    "topic_5_concat.sort_values(by='prob', ascending=False, inplace=True)\n",
    "\n",
    "# topic_17\n",
    "topic_17 = wt[wt['k']==16] # start with 0\n",
    "# select timepoint\n",
    "topic_17_40 = topic_17[topic_17['timepoint']==40]\n",
    "topic_17_36 = topic_17[topic_17['timepoint']==36]\n",
    "topic_17_4 = topic_17[topic_17['timepoint']==4]\n",
    "# concat \n",
    "topic_17_concat = pd.concat([topic_17_40, topic_17_36, topic_17_4], ignore_index=True)\n",
    "topic_17_concat.sort_values(by='prob', ascending=False, inplace=True)\n",
    "\n",
    "# topic_22\n",
    "topic_22= wt[wt['k']==21] # start with 0\n",
    "# select timepoint\n",
    "topic_22_38 = topic_22[topic_22['timepoint']==38]\n",
    "topic_22_33 = topic_22[topic_22['timepoint']==33]\n",
    "# concat \n",
    "topic_22_concat = pd.concat([topic_22_38, topic_22_33], ignore_index=True)\n",
    "topic_22_concat.sort_values(by='prob', ascending=False, inplace=True)\n"
   ]
  },
  {
   "cell_type": "code",
   "execution_count": 289,
   "metadata": {},
   "outputs": [
    {
     "data": {
      "text/html": [
       "<div>\n",
       "<style scoped>\n",
       "    .dataframe tbody tr th:only-of-type {\n",
       "        vertical-align: middle;\n",
       "    }\n",
       "\n",
       "    .dataframe tbody tr th {\n",
       "        vertical-align: top;\n",
       "    }\n",
       "\n",
       "    .dataframe thead th {\n",
       "        text-align: right;\n",
       "    }\n",
       "</style>\n",
       "<table border=\"1\" class=\"dataframe\">\n",
       "  <thead>\n",
       "    <tr style=\"text-align: right;\">\n",
       "      <th></th>\n",
       "      <th>68</th>\n",
       "      <th>60</th>\n",
       "      <th>64</th>\n",
       "      <th>12</th>\n",
       "      <th>29</th>\n",
       "      <th>15</th>\n",
       "      <th>65</th>\n",
       "      <th>54</th>\n",
       "      <th>40</th>\n",
       "      <th>13</th>\n",
       "      <th>52</th>\n",
       "      <th>18</th>\n",
       "      <th>14</th>\n",
       "      <th>31</th>\n",
       "      <th>67</th>\n",
       "      <th>66</th>\n",
       "      <th>48</th>\n",
       "      <th>38</th>\n",
       "      <th>25</th>\n",
       "      <th>11</th>\n",
       "      <th>36</th>\n",
       "      <th>28</th>\n",
       "      <th>33</th>\n",
       "      <th>4</th>\n",
       "      <th>23</th>\n",
       "      <th>10</th>\n",
       "      <th>50</th>\n",
       "      <th>21</th>\n",
       "      <th>49</th>\n",
       "      <th>41</th>\n",
       "      <th>61</th>\n",
       "      <th>53</th>\n",
       "      <th>44</th>\n",
       "      <th>24</th>\n",
       "      <th>8</th>\n",
       "      <th>5</th>\n",
       "      <th>47</th>\n",
       "      <th>55</th>\n",
       "      <th>56</th>\n",
       "      <th>51</th>\n",
       "      <th>46</th>\n",
       "      <th>58</th>\n",
       "      <th>59</th>\n",
       "      <th>62</th>\n",
       "      <th>57</th>\n",
       "      <th>0</th>\n",
       "      <th>45</th>\n",
       "      <th>43</th>\n",
       "      <th>2</th>\n",
       "      <th>3</th>\n",
       "      <th>6</th>\n",
       "      <th>7</th>\n",
       "      <th>9</th>\n",
       "      <th>17</th>\n",
       "      <th>20</th>\n",
       "      <th>34</th>\n",
       "      <th>1</th>\n",
       "      <th>35</th>\n",
       "      <th>39</th>\n",
       "      <th>42</th>\n",
       "      <th>32</th>\n",
       "      <th>16</th>\n",
       "      <th>30</th>\n",
       "      <th>19</th>\n",
       "      <th>63</th>\n",
       "      <th>37</th>\n",
       "      <th>22</th>\n",
       "      <th>26</th>\n",
       "      <th>27</th>\n",
       "    </tr>\n",
       "  </thead>\n",
       "  <tbody>\n",
       "    <tr>\n",
       "      <th>word</th>\n",
       "      <td>ﬂex</td>\n",
       "      <td>tophe</td>\n",
       "      <td>uncertainty</td>\n",
       "      <td>coverage</td>\n",
       "      <td>interruption</td>\n",
       "      <td>damage</td>\n",
       "      <td>virus</td>\n",
       "      <td>state</td>\n",
       "      <td>pandemic</td>\n",
       "      <td>crisis</td>\n",
       "      <td>situation</td>\n",
       "      <td>ehquake</td>\n",
       "      <td>crop</td>\n",
       "      <td>lockdown</td>\n",
       "      <td>worker</td>\n",
       "      <td>weather</td>\n",
       "      <td>revenue</td>\n",
       "      <td>movement</td>\n",
       "      <td>generation</td>\n",
       "      <td>contract</td>\n",
       "      <td>money</td>\n",
       "      <td>injury</td>\n",
       "      <td>member</td>\n",
       "      <td>annuity</td>\n",
       "      <td>force</td>\n",
       "      <td>commission</td>\n",
       "      <td>scale</td>\n",
       "      <td>exclusion</td>\n",
       "      <td>save</td>\n",
       "      <td>pension</td>\n",
       "      <td>total</td>\n",
       "      <td>solution</td>\n",
       "      <td>provision</td>\n",
       "      <td>frequency</td>\n",
       "      <td>casualty</td>\n",
       "      <td>assumption</td>\n",
       "      <td>retention</td>\n",
       "      <td>statement</td>\n",
       "      <td>stock</td>\n",
       "      <td>ship</td>\n",
       "      <td>report</td>\n",
       "      <td>synergy</td>\n",
       "      <td>technology</td>\n",
       "      <td>transformation</td>\n",
       "      <td>structure</td>\n",
       "      <td>accit</td>\n",
       "      <td>proﬁt</td>\n",
       "      <td>proposition</td>\n",
       "      <td>agreement</td>\n",
       "      <td>ambition</td>\n",
       "      <td>brand</td>\n",
       "      <td>capability</td>\n",
       "      <td>channel</td>\n",
       "      <td>decision</td>\n",
       "      <td>estimate</td>\n",
       "      <td>mm</td>\n",
       "      <td>adjustment</td>\n",
       "      <td>momentum</td>\n",
       "      <td>organization</td>\n",
       "      <td>priority</td>\n",
       "      <td>meeting</td>\n",
       "      <td>datum</td>\n",
       "      <td>investor</td>\n",
       "      <td>employee</td>\n",
       "      <td>travel</td>\n",
       "      <td>mortgage</td>\n",
       "      <td>fee</td>\n",
       "      <td>health</td>\n",
       "      <td>inflation</td>\n",
       "    </tr>\n",
       "    <tr>\n",
       "      <th>prob</th>\n",
       "      <td>0.167</td>\n",
       "      <td>0.167</td>\n",
       "      <td>0.0445</td>\n",
       "      <td>0.016</td>\n",
       "      <td>0.01</td>\n",
       "      <td>0.01</td>\n",
       "      <td>0.009</td>\n",
       "      <td>0.007</td>\n",
       "      <td>0.0062</td>\n",
       "      <td>0.006</td>\n",
       "      <td>0.006</td>\n",
       "      <td>0.006</td>\n",
       "      <td>0.006</td>\n",
       "      <td>0.005</td>\n",
       "      <td>0.005</td>\n",
       "      <td>0.005</td>\n",
       "      <td>0.004545</td>\n",
       "      <td>0.0045</td>\n",
       "      <td>0.004143</td>\n",
       "      <td>0.004</td>\n",
       "      <td>0.004</td>\n",
       "      <td>0.004</td>\n",
       "      <td>0.004</td>\n",
       "      <td>0.004</td>\n",
       "      <td>0.004</td>\n",
       "      <td>0.004</td>\n",
       "      <td>0.004</td>\n",
       "      <td>0.004</td>\n",
       "      <td>0.004</td>\n",
       "      <td>0.004</td>\n",
       "      <td>0.004</td>\n",
       "      <td>0.003667</td>\n",
       "      <td>0.0035</td>\n",
       "      <td>0.0035</td>\n",
       "      <td>0.0035</td>\n",
       "      <td>0.003333</td>\n",
       "      <td>0.003</td>\n",
       "      <td>0.003</td>\n",
       "      <td>0.003</td>\n",
       "      <td>0.003</td>\n",
       "      <td>0.003</td>\n",
       "      <td>0.003</td>\n",
       "      <td>0.003</td>\n",
       "      <td>0.003</td>\n",
       "      <td>0.003</td>\n",
       "      <td>0.003</td>\n",
       "      <td>0.003</td>\n",
       "      <td>0.003</td>\n",
       "      <td>0.003</td>\n",
       "      <td>0.003</td>\n",
       "      <td>0.003</td>\n",
       "      <td>0.003</td>\n",
       "      <td>0.003</td>\n",
       "      <td>0.003</td>\n",
       "      <td>0.003</td>\n",
       "      <td>0.003</td>\n",
       "      <td>0.003</td>\n",
       "      <td>0.003</td>\n",
       "      <td>0.003</td>\n",
       "      <td>0.003</td>\n",
       "      <td>0.0025</td>\n",
       "      <td>0.00225</td>\n",
       "      <td>0.002</td>\n",
       "      <td>0.002</td>\n",
       "      <td>0.002</td>\n",
       "      <td>0.002</td>\n",
       "      <td>0.002</td>\n",
       "      <td>0.0015</td>\n",
       "      <td>0.0015</td>\n",
       "    </tr>\n",
       "  </tbody>\n",
       "</table>\n",
       "</div>"
      ],
      "text/plain": [
       "         68     60           64        12            29      15     65     54  \\\n",
       "word    ﬂex  tophe  uncertainty  coverage  interruption  damage  virus  state   \n",
       "prob  0.167  0.167       0.0445     0.016          0.01    0.01  0.009  0.007   \n",
       "\n",
       "            40      13         52       18     14        31      67       66  \\\n",
       "word  pandemic  crisis  situation  ehquake   crop  lockdown  worker  weather   \n",
       "prob    0.0062   0.006      0.006    0.006  0.006     0.005   0.005    0.005   \n",
       "\n",
       "            48        38          25        11     36      28      33  \\\n",
       "word   revenue  movement  generation  contract  money  injury  member   \n",
       "prob  0.004545    0.0045    0.004143     0.004  0.004   0.004   0.004   \n",
       "\n",
       "           4      23          10     50         21     49       41     61  \\\n",
       "word  annuity  force  commission  scale  exclusion   save  pension  total   \n",
       "prob    0.004  0.004       0.004  0.004      0.004  0.004    0.004  0.004   \n",
       "\n",
       "            53         44         24        8           5          47  \\\n",
       "word  solution  provision  frequency  casualty  assumption  retention   \n",
       "prob  0.003667     0.0035     0.0035    0.0035    0.003333      0.003   \n",
       "\n",
       "             55     56     51      46       58          59              62  \\\n",
       "word  statement  stock   ship  report  synergy  technology  transformation   \n",
       "prob      0.003  0.003  0.003   0.003    0.003       0.003           0.003   \n",
       "\n",
       "             57     0      45           43         2         3      6   \\\n",
       "word  structure  accit  proﬁt  proposition  agreement  ambition  brand   \n",
       "prob      0.003  0.003  0.003        0.003      0.003     0.003  0.003   \n",
       "\n",
       "              7        9         17        20     34          1         35  \\\n",
       "word  capability  channel  decision  estimate     mm  adjustment  momentum   \n",
       "prob       0.003    0.003     0.003     0.003  0.003       0.003     0.003   \n",
       "\n",
       "                39        42       32       16        30        19      63  \\\n",
       "word  organization  priority  meeting    datum  investor  employee  travel   \n",
       "prob         0.003     0.003   0.0025  0.00225     0.002     0.002   0.002   \n",
       "\n",
       "            37     22      26         27  \n",
       "word  mortgage    fee  health  inflation  \n",
       "prob     0.002  0.002  0.0015     0.0015  "
      ]
     },
     "execution_count": 289,
     "metadata": {},
     "output_type": "execute_result"
    }
   ],
   "source": [
    "# concat all together\n",
    "topic_all_recently = pd.concat([topic_3_concat, topic_4_concat, topic_5_concat, topic_17_concat, topic_22_concat], ignore_index=True)\n",
    "# groupby word and get the average of prob\n",
    "topic_all_recently = topic_all_recently.groupby(['word'])['prob'].mean().reset_index()\n",
    "# sort by prob\n",
    "topic_all_recently.sort_values(by='prob', ascending=False, inplace=True)\n",
    "topic_all_recently.T"
   ]
  },
  {
   "cell_type": "code",
   "execution_count": 290,
   "metadata": {},
   "outputs": [],
   "source": [
    "# topic_all_recently to csv\n",
    "topic_all_recently.to_csv('./main_df_output/MD_topic_all_recently.csv')\n",
    "topic_all_early.to_csv('./main_df_output/MD_topic_all_early.csv')\n",
    "topic_all_middle.to_csv('./main_df_output/MD_topic_all_middle.csv')"
   ]
  },
  {
   "cell_type": "markdown",
   "metadata": {},
   "source": [
    "# See what time is it "
   ]
  },
  {
   "cell_type": "code",
   "execution_count": null,
   "metadata": {},
   "outputs": [],
   "source": [
    "# # td sort by timepoint\n",
    "# td = td.sort_values(by=[\"timepoint\"])\n",
    "# # create dtm_df['timepoint'] from 0 to 133\n",
    "# dtm_df['timepoint'] = np.arange(0, len(dtm_df))\n",
    "# dtm_df\n",
    "# # merge td and dtm_df\n",
    "# td = pd.merge(td, dtm_df, on=\"timepoint\")\n",
    "# td.head(3)"
   ]
  }
 ],
 "metadata": {
  "kernelspec": {
   "display_name": "Python 3.9.7",
   "language": "python",
   "name": "python3"
  },
  "language_info": {
   "codemirror_mode": {
    "name": "ipython",
    "version": 3
   },
   "file_extension": ".py",
   "mimetype": "text/x-python",
   "name": "python",
   "nbconvert_exporter": "python",
   "pygments_lexer": "ipython3",
   "version": "3.9.7"
  },
  "orig_nbformat": 4,
  "vscode": {
   "interpreter": {
    "hash": "40d3a090f54c6569ab1632332b64b2c03c39dcf918b08424e98f38b5ae0af88f"
   }
  }
 },
 "nbformat": 4,
 "nbformat_minor": 2
}
